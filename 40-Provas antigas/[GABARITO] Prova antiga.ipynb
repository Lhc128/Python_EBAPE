{
 "cells": [
  {
   "cell_type": "markdown",
   "metadata": {},
   "source": [
    "# Prova\n",
    "## Nome:\n",
    "\n",
    "OBS: DEIXE AS CÉLULAS CONTENDO O COMANDO `assert` COMO AS ÚLTIMAS CÉLULAS DE CADA RESPOSTA."
   ]
  },
  {
   "cell_type": "code",
   "execution_count": 3,
   "metadata": {},
   "outputs": [],
   "source": [
    "import numpy as np"
   ]
  },
  {
   "cell_type": "markdown",
   "metadata": {},
   "source": [
    "## Questão 1\n",
    "\n",
    "Faça a função descrita no docstring a seguir.\n",
    "\n",
    "```python\n",
    "    '''\n",
    "    Encontra a raiz de uma função usando o método da bissecção.\n",
    "    \n",
    "    Parameters\n",
    "    ----------\n",
    "    f: função\n",
    "        A função cuja raiz desejamos encontrar\n",
    "    a: float\n",
    "        Um chute inicial que subestima a raiz verdadeira\n",
    "    b: float\n",
    "        Um chute inicial que superestima a raiz verdadeira\n",
    "    tol: float\n",
    "        Erro tolerado. Por default, 1e-6.\n",
    "    \n",
    "    Returns\n",
    "    -------\n",
    "    float\n",
    "        Raiz estimada\n",
    "    \n",
    "    Notes:\n",
    "    ------\n",
    "    A função recebe uma função _f_ cuja raiz se deseja calcular,\n",
    "    e dois valores, _a_ e _b_, entre os quais está a raiz que se deseja descobrir.\n",
    "    A função calcula c = (a+b)/2, o ponto médio desse intervalo.\n",
    "    Então, ou bem f(a) e f(c) têm sinais diferentes, ou f(c) e f(b) têm sinais diferentes.  \n",
    "    No primeiro caso, podemos rodar o algoritmo novamente para buscar a raiz entre _a_ e _c_.\n",
    "    No segundo, podemos fazer o mesmo buscando a raiz entre _c_ e _b_.\n",
    "    O algoritmo continua até que o comprimento do intervalo em que estamos procurando a função\n",
    "    seja menor do que o parâmetro _tol_. \n",
    "    Nesse momento, o valor retornado como estimativa da raiz é o valor de c = (a+b)/2.\n",
    "    \n",
    "    Examples:\n",
    "    ---------\n",
    "    >>> raiz(lambda x: (x-2), 0, 10)\n",
    "    2.0000001788139343\n",
    "    >>> raiz(lambda x: (x**2-81), 0, 10)\n",
    "    9.000000059604645\n",
    "    >>> raiz(lambda x: (2**x - 16),-10, 10)\n",
    "    4.000000059604645\n",
    "    >>> raiz(lambda x: x**2 - 5*x + 6, 1.5, 2.5)\n",
    "    1.9999995231628418\n",
    "    >>> raiz(lambda x: x**2 - 5*x + 6, 2.5, 3.5)\n",
    "    2.999999523162842\n",
    "    >>> raiz(lambda x: np.log(x), 0.5, 2)\n",
    "    0.9999998807907104\n",
    " \n",
    "```\n",
    "\n",
    "Dica: A função `sign`, do pacote `numpy` te diz se um número é positivo ou negativo."
   ]
  },
  {
   "cell_type": "code",
   "execution_count": 4,
   "metadata": {},
   "outputs": [],
   "source": [
    "#== Gabarito ==#\n",
    "def raiz(f, a, b, tol=1e-6):\n",
    "        \n",
    "    from numpy import sign\n",
    "    \n",
    "    c = (a+b)/2    \n",
    "    \n",
    "    if abs(a-b) > tol:\n",
    "        \n",
    "        if sign(f(a)) != sign(f(c)):\n",
    "            return(raiz(f, a, c))\n",
    "        else:\n",
    "            return(raiz(f, c, b))\n",
    "    else:\n",
    "        return(c)"
   ]
  },
  {
   "cell_type": "code",
   "execution_count": 5,
   "metadata": {},
   "outputs": [],
   "source": [
    "assert np.isclose(raiz(lambda x: (x-2), 0, 10), 2)\n",
    "assert np.isclose(raiz(lambda x: (x**2-81), 0, 10), 9)\n",
    "assert np.isclose(raiz(lambda x: (2**x - 16),-10, 10), 4)\n",
    "assert np.isclose(raiz(lambda x: x**2 - 5*x + 6, 1.5, 2.5), 2)\n",
    "assert np.isclose(raiz(lambda x: x**2 - 5*x + 6, 2.5, 3.5), 3) \n",
    "assert np.isclose(raiz(lambda x: np.log(x), 0.5, 2), 1)"
   ]
  },
  {
   "cell_type": "markdown",
   "metadata": {},
   "source": [
    "## Questão 2\n",
    "\n",
    "Em Cálculo, você vai aprender que o número $e \\approx 2.71828...$ pode ser expressa como uma soma de infinitos termos:\n",
    "\n",
    "$$\n",
    "e = \\frac{1}{0!} + \\frac{1}{1!} + \\frac{1}{2!} + \\frac{1}{3!} + ... = \\lim_{p \\to \\infty} \\sum_{i=0}^{p} \\frac{1}{i!}\n",
    "$$\n",
    "\n",
    "onde, obviamente, $0! = 1$.\n",
    "\n",
    "1. Faça uma função chamada `e_approx` que receba um número inteiro `n` e um booleano, `lista`. Caso `lista` seja verdadeiro, a função deve retornar uma lista com os $n$ primeiros termos da soma acima. Caso `lista` seja falso, a função deve retornar a soma dos termos desta lista. Por default, `lista` deve ser falso."
   ]
  },
  {
   "cell_type": "code",
   "execution_count": 14,
   "metadata": {},
   "outputs": [],
   "source": [
    "#==Gabarito ==#\n",
    "\n",
    "def fat(n):\n",
    "    if n == 0:\n",
    "        return(1)\n",
    "    else:\n",
    "        return(n * fat(n-1))\n",
    "\n",
    "\n",
    "\n",
    "def e_approx(n, lista=False):\n",
    "    \n",
    "    termos = [1./fat(i) for i in range(n)]\n",
    "    \n",
    "    if lista:\n",
    "        return(termos)\n",
    "    else:\n",
    "        return(sum(termos))"
   ]
  },
  {
   "cell_type": "code",
   "execution_count": null,
   "metadata": {},
   "outputs": [],
   "source": []
  },
  {
   "cell_type": "code",
   "execution_count": 15,
   "metadata": {},
   "outputs": [
    {
     "data": {
      "text/plain": [
       "2.5"
      ]
     },
     "execution_count": 15,
     "metadata": {},
     "output_type": "execute_result"
    }
   ],
   "source": [
    "e_approx(3)"
   ]
  },
  {
   "cell_type": "code",
   "execution_count": 16,
   "metadata": {},
   "outputs": [],
   "source": [
    "assert e_approx(3) == 2.5\n",
    "assert e_approx(100) == 2.7182818284590455\n",
    "assert e_approx(5, lista=True)[1] == 1.0\n",
    "assert np.isclose(e_approx(100, lista=True)[50], 3.2879494166331584e-65)"
   ]
  },
  {
   "cell_type": "markdown",
   "metadata": {},
   "source": [
    "Se você imprimir essa lista, vai ver que os termos vão ficando cada vez menores. É por isso que conseguimos somar infinitos termos, e mesmo assim ter como resultado um número finito."
   ]
  },
  {
   "cell_type": "markdown",
   "metadata": {},
   "source": [
    "2. Importe o número `e` do pacote `math`."
   ]
  },
  {
   "cell_type": "code",
   "execution_count": 519,
   "metadata": {},
   "outputs": [],
   "source": [
    "## Faça isso aqui! ##\n",
    "\n",
    "from math import e\n"
   ]
  },
  {
   "cell_type": "markdown",
   "metadata": {},
   "source": [
    "Ótimo! A função abaixo te calcula o _erro relativo_ de se aproximar o número $e$ por uma soma finita de apenas _n_ termos. Note que essa função utiliza a função que você definiu anteriormente: "
   ]
  },
  {
   "cell_type": "code",
   "execution_count": 520,
   "metadata": {},
   "outputs": [],
   "source": [
    "def erro_relativo(n):\n",
    "    \n",
    "    valor_aproximado = e_approx(n)\n",
    "    valor_exato = e\n",
    "    erro_absoluto = abs(valor_aproximado - valor_exato)\n",
    "    erro_relativo = erro_absoluto / valor_exato\n",
    "    return(erro_relativo)"
   ]
  },
  {
   "cell_type": "markdown",
   "metadata": {},
   "source": [
    "Quantos termos (`n`) devemos somar para que o erro relativo seja menor do que 1 em 1 milhao ($10^{-6}$)? Salve sua resposta como a variável $m$."
   ]
  },
  {
   "cell_type": "code",
   "execution_count": 547,
   "metadata": {},
   "outputs": [
    {
     "name": "stdout",
     "output_type": "stream",
     "text": [
      "10\n"
     ]
    }
   ],
   "source": [
    "#== Gabarito ==\n",
    "m = 0\n",
    "while erro_relativo(m) >= 1e-6:\n",
    "    m += 1\n",
    "print(m)"
   ]
  },
  {
   "cell_type": "code",
   "execution_count": 548,
   "metadata": {},
   "outputs": [],
   "source": [
    "assert m % 2 == 0\n",
    "assert m % 3 == 1\n",
    "assert m % 4 == 2\n",
    "assert m % 15 == m"
   ]
  },
  {
   "cell_type": "markdown",
   "metadata": {},
   "source": [
    "## Questão 3\n",
    "\n",
    "Este [link](https://raw.githubusercontent.com/pycaret/pycaret/master/datasets/amazon.csv) contém dados sobre _reviews_ de produtos da Amazon.\n",
    "\n",
    "1. Importe a base e chame-a de `amazon`. Mostre 5 linhas _aleatórias_ desta base."
   ]
  },
  {
   "cell_type": "code",
   "execution_count": 523,
   "metadata": {},
   "outputs": [
    {
     "data": {
      "text/html": [
       "<div>\n",
       "<style scoped>\n",
       "    .dataframe tbody tr th:only-of-type {\n",
       "        vertical-align: middle;\n",
       "    }\n",
       "\n",
       "    .dataframe tbody tr th {\n",
       "        vertical-align: top;\n",
       "    }\n",
       "\n",
       "    .dataframe thead th {\n",
       "        text-align: right;\n",
       "    }\n",
       "</style>\n",
       "<table border=\"1\" class=\"dataframe\">\n",
       "  <thead>\n",
       "    <tr style=\"text-align: right;\">\n",
       "      <th></th>\n",
       "      <th>reviewText</th>\n",
       "      <th>Positive</th>\n",
       "    </tr>\n",
       "  </thead>\n",
       "  <tbody>\n",
       "    <tr>\n",
       "      <th>9078</th>\n",
       "      <td>Memory management apps like this are completel...</td>\n",
       "      <td>0</td>\n",
       "    </tr>\n",
       "    <tr>\n",
       "      <th>15723</th>\n",
       "      <td>Excellent sounds, very relaxing! Couldn't be h...</td>\n",
       "      <td>1</td>\n",
       "    </tr>\n",
       "    <tr>\n",
       "      <th>395</th>\n",
       "      <td>I recommend getting this game. It is a really ...</td>\n",
       "      <td>1</td>\n",
       "    </tr>\n",
       "    <tr>\n",
       "      <th>11571</th>\n",
       "      <td>I'm going to heed other reviews and NOT update...</td>\n",
       "      <td>1</td>\n",
       "    </tr>\n",
       "    <tr>\n",
       "      <th>13575</th>\n",
       "      <td>This app works fine on my Samsung Intercept (V...</td>\n",
       "      <td>1</td>\n",
       "    </tr>\n",
       "  </tbody>\n",
       "</table>\n",
       "</div>"
      ],
      "text/plain": [
       "                                              reviewText  Positive\n",
       "9078   Memory management apps like this are completel...         0\n",
       "15723  Excellent sounds, very relaxing! Couldn't be h...         1\n",
       "395    I recommend getting this game. It is a really ...         1\n",
       "11571  I'm going to heed other reviews and NOT update...         1\n",
       "13575  This app works fine on my Samsung Intercept (V...         1"
      ]
     },
     "execution_count": 523,
     "metadata": {},
     "output_type": "execute_result"
    }
   ],
   "source": [
    "#== Gabarito ==#\n",
    "import pandas as pd\n",
    "amazon = pd.read_csv('https://raw.githubusercontent.com/pycaret/pycaret/master/datasets/amazon.csv')\n",
    "amazon.sample(5)"
   ]
  },
  {
   "cell_type": "markdown",
   "metadata": {},
   "source": [
    "2. Quantas avaliações existem? Salve sua resposta em uma variável `n`."
   ]
  },
  {
   "cell_type": "code",
   "execution_count": 524,
   "metadata": {},
   "outputs": [
    {
     "data": {
      "text/plain": [
       "20000"
      ]
     },
     "execution_count": 524,
     "metadata": {},
     "output_type": "execute_result"
    }
   ],
   "source": [
    "n = len(amazon)\n",
    "n"
   ]
  },
  {
   "cell_type": "code",
   "execution_count": 525,
   "metadata": {},
   "outputs": [],
   "source": [
    "assert n % 625 == 0\n",
    "assert n % 1250 == 0\n",
    "assert len(str(n)) == 5\n",
    "assert int(sorted(str(n))[-1]) == 2"
   ]
  },
  {
   "cell_type": "markdown",
   "metadata": {},
   "source": [
    "3. A coluna `Positive` indica se um review foi positivo (1) ou não (0). Em uma única linha de código, mostre qual a fração de reviews positivos e negativos."
   ]
  },
  {
   "cell_type": "code",
   "execution_count": 526,
   "metadata": {},
   "outputs": [
    {
     "data": {
      "text/plain": [
       "1    0.76165\n",
       "0    0.23835\n",
       "Name: Positive, dtype: float64"
      ]
     },
     "execution_count": 526,
     "metadata": {},
     "output_type": "execute_result"
    }
   ],
   "source": [
    "amazon.Positive.value_counts(normalize=True)"
   ]
  },
  {
   "cell_type": "markdown",
   "metadata": {},
   "source": [
    "## Questão 4\n",
    "\n",
    "Este [link](https://gist.githubusercontent.com/zhonglism/f146a9423e2c975de8d03c26451f841e/raw/f79e190df4225caed58bf360d8e20a9fa872b4ac/vgsales.csv) tem dados sobre vendas de videogames.\n",
    "\n",
    "1. Importe esses dados como um dataframe chamado `vg` (de \"videogame\") onde a coluna `Rank` é o índice de linha. Mostre as primeiras 15 linhas desse dataframe."
   ]
  },
  {
   "cell_type": "code",
   "execution_count": 527,
   "metadata": {},
   "outputs": [
    {
     "data": {
      "text/html": [
       "<div>\n",
       "<style scoped>\n",
       "    .dataframe tbody tr th:only-of-type {\n",
       "        vertical-align: middle;\n",
       "    }\n",
       "\n",
       "    .dataframe tbody tr th {\n",
       "        vertical-align: top;\n",
       "    }\n",
       "\n",
       "    .dataframe thead th {\n",
       "        text-align: right;\n",
       "    }\n",
       "</style>\n",
       "<table border=\"1\" class=\"dataframe\">\n",
       "  <thead>\n",
       "    <tr style=\"text-align: right;\">\n",
       "      <th></th>\n",
       "      <th>Name</th>\n",
       "      <th>Platform</th>\n",
       "      <th>Year</th>\n",
       "      <th>Genre</th>\n",
       "      <th>Publisher</th>\n",
       "      <th>NA_Sales</th>\n",
       "      <th>EU_Sales</th>\n",
       "      <th>JP_Sales</th>\n",
       "      <th>Other_Sales</th>\n",
       "      <th>Global_Sales</th>\n",
       "    </tr>\n",
       "    <tr>\n",
       "      <th>Rank</th>\n",
       "      <th></th>\n",
       "      <th></th>\n",
       "      <th></th>\n",
       "      <th></th>\n",
       "      <th></th>\n",
       "      <th></th>\n",
       "      <th></th>\n",
       "      <th></th>\n",
       "      <th></th>\n",
       "      <th></th>\n",
       "    </tr>\n",
       "  </thead>\n",
       "  <tbody>\n",
       "    <tr>\n",
       "      <th>1</th>\n",
       "      <td>Wii Sports</td>\n",
       "      <td>Wii</td>\n",
       "      <td>2006.0</td>\n",
       "      <td>Sports</td>\n",
       "      <td>Nintendo</td>\n",
       "      <td>41.49</td>\n",
       "      <td>29.02</td>\n",
       "      <td>3.77</td>\n",
       "      <td>8.46</td>\n",
       "      <td>82.74</td>\n",
       "    </tr>\n",
       "    <tr>\n",
       "      <th>2</th>\n",
       "      <td>Super Mario Bros.</td>\n",
       "      <td>NES</td>\n",
       "      <td>1985.0</td>\n",
       "      <td>Platform</td>\n",
       "      <td>Nintendo</td>\n",
       "      <td>29.08</td>\n",
       "      <td>3.58</td>\n",
       "      <td>6.81</td>\n",
       "      <td>0.77</td>\n",
       "      <td>40.24</td>\n",
       "    </tr>\n",
       "    <tr>\n",
       "      <th>3</th>\n",
       "      <td>Mario Kart Wii</td>\n",
       "      <td>Wii</td>\n",
       "      <td>2008.0</td>\n",
       "      <td>Racing</td>\n",
       "      <td>Nintendo</td>\n",
       "      <td>15.85</td>\n",
       "      <td>12.88</td>\n",
       "      <td>3.79</td>\n",
       "      <td>3.31</td>\n",
       "      <td>35.82</td>\n",
       "    </tr>\n",
       "    <tr>\n",
       "      <th>4</th>\n",
       "      <td>Wii Sports Resort</td>\n",
       "      <td>Wii</td>\n",
       "      <td>2009.0</td>\n",
       "      <td>Sports</td>\n",
       "      <td>Nintendo</td>\n",
       "      <td>15.75</td>\n",
       "      <td>11.01</td>\n",
       "      <td>3.28</td>\n",
       "      <td>2.96</td>\n",
       "      <td>33.00</td>\n",
       "    </tr>\n",
       "    <tr>\n",
       "      <th>5</th>\n",
       "      <td>Pokemon Red/Pokemon Blue</td>\n",
       "      <td>GB</td>\n",
       "      <td>1996.0</td>\n",
       "      <td>Role-Playing</td>\n",
       "      <td>Nintendo</td>\n",
       "      <td>11.27</td>\n",
       "      <td>8.89</td>\n",
       "      <td>10.22</td>\n",
       "      <td>1.00</td>\n",
       "      <td>31.37</td>\n",
       "    </tr>\n",
       "    <tr>\n",
       "      <th>6</th>\n",
       "      <td>Tetris</td>\n",
       "      <td>GB</td>\n",
       "      <td>1989.0</td>\n",
       "      <td>Puzzle</td>\n",
       "      <td>Nintendo</td>\n",
       "      <td>23.20</td>\n",
       "      <td>2.26</td>\n",
       "      <td>4.22</td>\n",
       "      <td>0.58</td>\n",
       "      <td>30.26</td>\n",
       "    </tr>\n",
       "    <tr>\n",
       "      <th>7</th>\n",
       "      <td>New Super Mario Bros.</td>\n",
       "      <td>DS</td>\n",
       "      <td>2006.0</td>\n",
       "      <td>Platform</td>\n",
       "      <td>Nintendo</td>\n",
       "      <td>11.38</td>\n",
       "      <td>9.23</td>\n",
       "      <td>6.50</td>\n",
       "      <td>2.90</td>\n",
       "      <td>30.01</td>\n",
       "    </tr>\n",
       "    <tr>\n",
       "      <th>8</th>\n",
       "      <td>Wii Play</td>\n",
       "      <td>Wii</td>\n",
       "      <td>2006.0</td>\n",
       "      <td>Misc</td>\n",
       "      <td>Nintendo</td>\n",
       "      <td>14.03</td>\n",
       "      <td>9.20</td>\n",
       "      <td>2.93</td>\n",
       "      <td>2.85</td>\n",
       "      <td>29.02</td>\n",
       "    </tr>\n",
       "    <tr>\n",
       "      <th>9</th>\n",
       "      <td>New Super Mario Bros. Wii</td>\n",
       "      <td>Wii</td>\n",
       "      <td>2009.0</td>\n",
       "      <td>Platform</td>\n",
       "      <td>Nintendo</td>\n",
       "      <td>14.59</td>\n",
       "      <td>7.06</td>\n",
       "      <td>4.70</td>\n",
       "      <td>2.26</td>\n",
       "      <td>28.62</td>\n",
       "    </tr>\n",
       "    <tr>\n",
       "      <th>10</th>\n",
       "      <td>Duck Hunt</td>\n",
       "      <td>NES</td>\n",
       "      <td>1984.0</td>\n",
       "      <td>Shooter</td>\n",
       "      <td>Nintendo</td>\n",
       "      <td>26.93</td>\n",
       "      <td>0.63</td>\n",
       "      <td>0.28</td>\n",
       "      <td>0.47</td>\n",
       "      <td>28.31</td>\n",
       "    </tr>\n",
       "    <tr>\n",
       "      <th>11</th>\n",
       "      <td>Nintendogs</td>\n",
       "      <td>DS</td>\n",
       "      <td>2005.0</td>\n",
       "      <td>Simulation</td>\n",
       "      <td>Nintendo</td>\n",
       "      <td>9.07</td>\n",
       "      <td>11.00</td>\n",
       "      <td>1.93</td>\n",
       "      <td>2.75</td>\n",
       "      <td>24.76</td>\n",
       "    </tr>\n",
       "    <tr>\n",
       "      <th>12</th>\n",
       "      <td>Mario Kart DS</td>\n",
       "      <td>DS</td>\n",
       "      <td>2005.0</td>\n",
       "      <td>Racing</td>\n",
       "      <td>Nintendo</td>\n",
       "      <td>9.81</td>\n",
       "      <td>7.57</td>\n",
       "      <td>4.13</td>\n",
       "      <td>1.92</td>\n",
       "      <td>23.42</td>\n",
       "    </tr>\n",
       "    <tr>\n",
       "      <th>13</th>\n",
       "      <td>Pokemon Gold/Pokemon Silver</td>\n",
       "      <td>GB</td>\n",
       "      <td>1999.0</td>\n",
       "      <td>Role-Playing</td>\n",
       "      <td>Nintendo</td>\n",
       "      <td>9.00</td>\n",
       "      <td>6.18</td>\n",
       "      <td>7.20</td>\n",
       "      <td>0.71</td>\n",
       "      <td>23.10</td>\n",
       "    </tr>\n",
       "    <tr>\n",
       "      <th>14</th>\n",
       "      <td>Wii Fit</td>\n",
       "      <td>Wii</td>\n",
       "      <td>2007.0</td>\n",
       "      <td>Sports</td>\n",
       "      <td>Nintendo</td>\n",
       "      <td>8.94</td>\n",
       "      <td>8.03</td>\n",
       "      <td>3.60</td>\n",
       "      <td>2.15</td>\n",
       "      <td>22.72</td>\n",
       "    </tr>\n",
       "    <tr>\n",
       "      <th>15</th>\n",
       "      <td>Wii Fit Plus</td>\n",
       "      <td>Wii</td>\n",
       "      <td>2009.0</td>\n",
       "      <td>Sports</td>\n",
       "      <td>Nintendo</td>\n",
       "      <td>9.09</td>\n",
       "      <td>8.59</td>\n",
       "      <td>2.53</td>\n",
       "      <td>1.79</td>\n",
       "      <td>22.00</td>\n",
       "    </tr>\n",
       "  </tbody>\n",
       "</table>\n",
       "</div>"
      ],
      "text/plain": [
       "                             Name Platform    Year         Genre Publisher  \\\n",
       "Rank                                                                         \n",
       "1                      Wii Sports      Wii  2006.0        Sports  Nintendo   \n",
       "2               Super Mario Bros.      NES  1985.0      Platform  Nintendo   \n",
       "3                  Mario Kart Wii      Wii  2008.0        Racing  Nintendo   \n",
       "4               Wii Sports Resort      Wii  2009.0        Sports  Nintendo   \n",
       "5        Pokemon Red/Pokemon Blue       GB  1996.0  Role-Playing  Nintendo   \n",
       "6                          Tetris       GB  1989.0        Puzzle  Nintendo   \n",
       "7           New Super Mario Bros.       DS  2006.0      Platform  Nintendo   \n",
       "8                        Wii Play      Wii  2006.0          Misc  Nintendo   \n",
       "9       New Super Mario Bros. Wii      Wii  2009.0      Platform  Nintendo   \n",
       "10                      Duck Hunt      NES  1984.0       Shooter  Nintendo   \n",
       "11                     Nintendogs       DS  2005.0    Simulation  Nintendo   \n",
       "12                  Mario Kart DS       DS  2005.0        Racing  Nintendo   \n",
       "13    Pokemon Gold/Pokemon Silver       GB  1999.0  Role-Playing  Nintendo   \n",
       "14                        Wii Fit      Wii  2007.0        Sports  Nintendo   \n",
       "15                   Wii Fit Plus      Wii  2009.0        Sports  Nintendo   \n",
       "\n",
       "      NA_Sales  EU_Sales  JP_Sales  Other_Sales  Global_Sales  \n",
       "Rank                                                           \n",
       "1        41.49     29.02      3.77         8.46         82.74  \n",
       "2        29.08      3.58      6.81         0.77         40.24  \n",
       "3        15.85     12.88      3.79         3.31         35.82  \n",
       "4        15.75     11.01      3.28         2.96         33.00  \n",
       "5        11.27      8.89     10.22         1.00         31.37  \n",
       "6        23.20      2.26      4.22         0.58         30.26  \n",
       "7        11.38      9.23      6.50         2.90         30.01  \n",
       "8        14.03      9.20      2.93         2.85         29.02  \n",
       "9        14.59      7.06      4.70         2.26         28.62  \n",
       "10       26.93      0.63      0.28         0.47         28.31  \n",
       "11        9.07     11.00      1.93         2.75         24.76  \n",
       "12        9.81      7.57      4.13         1.92         23.42  \n",
       "13        9.00      6.18      7.20         0.71         23.10  \n",
       "14        8.94      8.03      3.60         2.15         22.72  \n",
       "15        9.09      8.59      2.53         1.79         22.00  "
      ]
     },
     "execution_count": 527,
     "metadata": {},
     "output_type": "execute_result"
    }
   ],
   "source": [
    "#==Gabarito ==#\n",
    "vg = pd.read_csv('https://gist.githubusercontent.com/zhonglism/f146a9423e2c975de8d03c26451f841e/raw/f79e190df4225caed58bf360d8e20a9fa872b4ac/vgsales.csv')\n",
    "vg = vg.set_index('Rank')\n",
    "vg.head(15)"
   ]
  },
  {
   "cell_type": "markdown",
   "metadata": {},
   "source": [
    "2. Mude o nome das colunas do dataframe para:\n",
    "\n",
    "* Jogo\n",
    "* Plataforma\n",
    "* Ano\n",
    "* Tipo\n",
    "* Empresa\n",
    "* Vendas_AN\n",
    "* Vendas_EU\n",
    "* Vendas_JP\n",
    "* Vendas_Outros\n",
    "* Vendas_Global"
   ]
  },
  {
   "cell_type": "code",
   "execution_count": 528,
   "metadata": {},
   "outputs": [],
   "source": [
    "#==Gabarito==#\n",
    "vg.columns = ['Jogo',\n",
    "              'Plataforma',\n",
    "              'Ano',\n",
    "              'Tipo',\n",
    "              'Empresa',\n",
    "              'Vendas_AN',\n",
    "              'Vendas_EU',\n",
    "              'Vendas_JP',\n",
    "              'Vendas_Outros',\n",
    "              'Vendas_Global']"
   ]
  },
  {
   "cell_type": "markdown",
   "metadata": {},
   "source": [
    "3. Crie um dataframe chamado `vg2000` contendo apenas os videogueimes lançados do ano 2000 em diante."
   ]
  },
  {
   "cell_type": "code",
   "execution_count": 529,
   "metadata": {},
   "outputs": [],
   "source": [
    "#==Gabarito ==#\n",
    "vg2000 = vg[vg.Ano >= 2000]"
   ]
  },
  {
   "cell_type": "markdown",
   "metadata": {},
   "source": [
    "4. Considerando apenas os videogames lançados do ano 2000 em diante, calcule o total de vendas por empresa em cada região (América do Norte, Europa, Japão, Outros e Global). Salve esse dataframe com o nome `vg2000_empresas`. "
   ]
  },
  {
   "cell_type": "code",
   "execution_count": 530,
   "metadata": {},
   "outputs": [],
   "source": [
    "#==Gabarito ==#\n",
    "vg2000_empresas = vg2000.drop(columns='Ano').groupby('Empresa').sum()"
   ]
  },
  {
   "cell_type": "markdown",
   "metadata": {},
   "source": [
    "5.Ordene esse dataframe em ordem decrescente de vendas globais (isso é, a primeira linha deve ter a empresa com o maior valor de vendas globais). Salve esse dataframe com o nome `vg2000_empresas_ord` e mostre a empresa que ocupa o topo do ranking de vendas globais."
   ]
  },
  {
   "cell_type": "code",
   "execution_count": 531,
   "metadata": {},
   "outputs": [
    {
     "data": {
      "text/html": [
       "<div>\n",
       "<style scoped>\n",
       "    .dataframe tbody tr th:only-of-type {\n",
       "        vertical-align: middle;\n",
       "    }\n",
       "\n",
       "    .dataframe tbody tr th {\n",
       "        vertical-align: top;\n",
       "    }\n",
       "\n",
       "    .dataframe thead th {\n",
       "        text-align: right;\n",
       "    }\n",
       "</style>\n",
       "<table border=\"1\" class=\"dataframe\">\n",
       "  <thead>\n",
       "    <tr style=\"text-align: right;\">\n",
       "      <th></th>\n",
       "      <th>Vendas_AN</th>\n",
       "      <th>Vendas_EU</th>\n",
       "      <th>Vendas_JP</th>\n",
       "      <th>Vendas_Outros</th>\n",
       "      <th>Vendas_Global</th>\n",
       "    </tr>\n",
       "    <tr>\n",
       "      <th>Empresa</th>\n",
       "      <th></th>\n",
       "      <th></th>\n",
       "      <th></th>\n",
       "      <th></th>\n",
       "      <th></th>\n",
       "    </tr>\n",
       "  </thead>\n",
       "  <tbody>\n",
       "    <tr>\n",
       "      <th>Nintendo</th>\n",
       "      <td>495.17</td>\n",
       "      <td>322.69</td>\n",
       "      <td>285.44</td>\n",
       "      <td>81.5</td>\n",
       "      <td>1184.95</td>\n",
       "    </tr>\n",
       "  </tbody>\n",
       "</table>\n",
       "</div>"
      ],
      "text/plain": [
       "          Vendas_AN  Vendas_EU  Vendas_JP  Vendas_Outros  Vendas_Global\n",
       "Empresa                                                                \n",
       "Nintendo     495.17     322.69     285.44           81.5        1184.95"
      ]
     },
     "execution_count": 531,
     "metadata": {},
     "output_type": "execute_result"
    }
   ],
   "source": [
    "#== Gabarito ==#\n",
    "vg2000_empresas_ord = vg2000_empresas.sort_values('Vendas_Global',ascending=False)\n",
    "vg2000_empresas_ord.head(1)"
   ]
  },
  {
   "cell_type": "code",
   "execution_count": 532,
   "metadata": {},
   "outputs": [],
   "source": [
    "#1\n",
    "assert len(list(vg.index)) == 16598"
   ]
  },
  {
   "cell_type": "code",
   "execution_count": 533,
   "metadata": {},
   "outputs": [],
   "source": [
    "#2\n",
    "assert vg.columns[2] == 'Ano'\n",
    "assert vg.columns[4] == 'Empresa'"
   ]
  },
  {
   "cell_type": "code",
   "execution_count": 534,
   "metadata": {},
   "outputs": [],
   "source": [
    "#3\n",
    "assert min(vg2000.Ano) == 2000\n",
    "assert len(vg2000) == 14353"
   ]
  },
  {
   "cell_type": "code",
   "execution_count": 535,
   "metadata": {},
   "outputs": [],
   "source": [
    "#4\n",
    "assert vg2000_empresas.shape == (457,5)\n",
    "assert list(vg2000_empresas.columns) == ['Vendas_AN', 'Vendas_EU', 'Vendas_JP', 'Vendas_Outros','Vendas_Global']"
   ]
  },
  {
   "cell_type": "code",
   "execution_count": 536,
   "metadata": {},
   "outputs": [],
   "source": [
    "#5\n",
    "assert vg2000_empresas_ord.tail(1).index[0] == 'Rain Games'\n",
    "assert vg2000_empresas_ord.tail().index[0] == 'Stainless Games'\n",
    "assert np.isclose(vg2000_empresas_ord.Vendas_AN[4], 190.23)"
   ]
  },
  {
   "cell_type": "markdown",
   "metadata": {},
   "source": [
    "## Questão 5\n",
    "\n",
    "Rode o código abaixo."
   ]
  },
  {
   "cell_type": "code",
   "execution_count": 537,
   "metadata": {},
   "outputs": [],
   "source": [
    "np.random.seed(12345)\n",
    "A = np.random.random((1000,5))\n",
    "#A"
   ]
  },
  {
   "cell_type": "markdown",
   "metadata": {},
   "source": [
    "1. Calcule a soma dos termos de cada linha desse array. Salve como o array `A1`"
   ]
  },
  {
   "cell_type": "code",
   "execution_count": 538,
   "metadata": {},
   "outputs": [],
   "source": [
    "#==Gabarito ==#\n",
    "A1 = A.sum(axis=1)"
   ]
  },
  {
   "cell_type": "markdown",
   "metadata": {},
   "source": [
    "2. Calcule a média dos termos de cada coluna desse array. Salve como o array `A2`."
   ]
  },
  {
   "cell_type": "code",
   "execution_count": 539,
   "metadata": {},
   "outputs": [],
   "source": [
    "A2 = A.mean(axis=0)"
   ]
  },
  {
   "cell_type": "markdown",
   "metadata": {},
   "source": [
    "3. Pegue a penúltima coluna desse array e salve como um array `v`. Em seguida, aplique a função `f` definida a seguir a cada um dos seus elementos. Salve o resultado como o array `A3`."
   ]
  },
  {
   "cell_type": "code",
   "execution_count": 540,
   "metadata": {},
   "outputs": [],
   "source": [
    "def f(x):\n",
    "    return(1/(1+np.exp(-x)))"
   ]
  },
  {
   "cell_type": "code",
   "execution_count": 541,
   "metadata": {},
   "outputs": [],
   "source": [
    "#== Gabarito ==#\n",
    "v = A[:,-2]\n",
    "A3 = f(v)"
   ]
  },
  {
   "cell_type": "markdown",
   "metadata": {},
   "source": [
    "4. Crie um dicionário chamado `dicionario` com 4 chaves: `A`, `B`, `C` e `D`. \n",
    "\n",
    "* O valor associado à chave `A` deve ser um outro dicionário, com 3 chaves: `A1`, `A2` e `A3` contendo, respectivamente, os arrays `A1`, `A2` e `A3` que você criou acima. \n",
    "* O valor associado à chave `B` deve ser uma lista com 3 elementos quaisquer (pode inventar!)\n",
    "* O valor associado à chave `C` deve ser um string qualquer (pode ser criativo!)\n",
    "* O valor associado à chave `D` deve ser um booleano."
   ]
  },
  {
   "cell_type": "code",
   "execution_count": 542,
   "metadata": {},
   "outputs": [],
   "source": [
    "#==Gabarito ==#\n",
    "dicionario = {'A': {'A1': A1,\n",
    "                   'A2': A2,\n",
    "                   'A3': A3},\n",
    "             'B': [1,2,3],\n",
    "             'C': 'abacate',\n",
    "             'D': True}"
   ]
  },
  {
   "cell_type": "code",
   "execution_count": 543,
   "metadata": {},
   "outputs": [],
   "source": [
    "assert A1.shape == (1000,)\n",
    "assert np.isclose(A1[100], 1.7375104252504976)"
   ]
  },
  {
   "cell_type": "code",
   "execution_count": 544,
   "metadata": {},
   "outputs": [],
   "source": [
    "assert A2.shape == (5,)\n",
    "assert np.isclose(A2.std(), 0.008440454567631938)"
   ]
  },
  {
   "cell_type": "code",
   "execution_count": 545,
   "metadata": {},
   "outputs": [],
   "source": [
    "assert A3.shape == (1000,)\n",
    "assert np.isclose(A3[300], 0.7131625870884012)"
   ]
  },
  {
   "cell_type": "code",
   "execution_count": 546,
   "metadata": {},
   "outputs": [],
   "source": [
    "assert np.prod(dicionario['A']['A1'] == A1)\n",
    "assert np.prod(dicionario['A']['A2'] == A2)\n",
    "assert np.prod(dicionario['A']['A3'] == A3)\n",
    "assert isinstance(dicionario['B'], list)\n",
    "assert isinstance(dicionario['C'], str)\n",
    "assert isinstance(dicionario['D'], bool)"
   ]
  },
  {
   "cell_type": "code",
   "execution_count": null,
   "metadata": {},
   "outputs": [],
   "source": []
  }
 ],
 "metadata": {
  "kernelspec": {
   "display_name": "Python 3",
   "language": "python",
   "name": "python3"
  },
  "language_info": {
   "codemirror_mode": {
    "name": "ipython",
    "version": 3
   },
   "file_extension": ".py",
   "mimetype": "text/x-python",
   "name": "python",
   "nbconvert_exporter": "python",
   "pygments_lexer": "ipython3",
   "version": "3.8.5"
  }
 },
 "nbformat": 4,
 "nbformat_minor": 4
}
