{
 "cells": [
  {
   "cell_type": "markdown",
   "metadata": {},
   "source": [
    "# Prova\n",
    "## Nome:\n",
    "\n",
    "\n",
    "#### Instruções de prova\n",
    "1. DEIXE AS CÉLULAS CONTENDO O COMANDO `assert` COMO AS ÚLTIMAS CÉLULAS DE CADA RESPOSTA.\n",
    "2. Mostre o código. Respostas sem o código não valem nada.\n",
    "3. Se o enunciado manda você chamar uma variável de `x`, chame de `x`, não de `y`. Siga o enunciado.\n",
    "4. Você pode consultar a internet.\n",
    "5. Você não pode consultar o seu colega de classe, irmão programador, amigo nerd, material das aulas... nada. Apenas a internet.\n",
    "\n",
    "Por quê? Porque (1) saber buscar uma dúvida na internet, (2) identificar o que é uma resposta e o que não é, e (3) compreender a resposta e adaptá-la ao seu problema são competências importantes para vocês desenvolverem. Consultar um colega, um irmão, ou o material das aulas não desenvolvem essas competências.\n",
    "\n",
    "6. Antes de começar, importe o numpy e o pandas rodando a célula abaixo:"
   ]
  },
  {
   "cell_type": "code",
   "execution_count": 14,
   "metadata": {},
   "outputs": [],
   "source": [
    "#== Rode esse código ==#\n",
    "import numpy as np\n",
    "import pandas as pd"
   ]
  },
  {
   "cell_type": "markdown",
   "metadata": {},
   "source": [
    "## Questão 1\n",
    "\n",
    "Faça a função descrita no docstring a seguir.\n",
    "\n",
    "```python\n",
    "    '''\n",
    "    Encontra a raiz de uma função usando o método da bissecção.\n",
    "    \n",
    "    Parameters\n",
    "    ----------\n",
    "    f: função\n",
    "        A função cuja raiz desejamos encontrar\n",
    "    a: float\n",
    "        Um chute inicial que subestima a raiz verdadeira\n",
    "    b: float\n",
    "        Um chute inicial que superestima a raiz verdadeira\n",
    "    tol: float\n",
    "        Erro tolerado. Por default, 1e-6.\n",
    "    \n",
    "    Returns\n",
    "    -------\n",
    "    float\n",
    "        Raiz estimada\n",
    "    \n",
    "    Notes:\n",
    "    ------\n",
    "    A função recebe uma função _f_ cuja raiz se deseja calcular,\n",
    "    e dois valores, _a_ e _b_, entre os quais está a raiz que se deseja descobrir.\n",
    "    A função calcula c = (a+b)/2, o ponto médio desse intervalo.\n",
    "    Então, ou bem f(a) e f(c) têm sinais diferentes, ou f(c) e f(b) têm sinais diferentes.  \n",
    "    No primeiro caso, podemos rodar o algoritmo novamente para buscar a raiz entre _a_ e _c_.\n",
    "    No segundo, podemos fazer o mesmo buscando a raiz entre _c_ e _b_.\n",
    "    O algoritmo continua até que o comprimento do intervalo em que estamos procurando a função\n",
    "    seja menor do que o parâmetro _tol_. \n",
    "    Nesse momento, o valor retornado como estimativa da raiz é o valor de c = (a+b)/2.\n",
    "    \n",
    "    Examples:\n",
    "    ---------\n",
    "    >>> raiz(lambda x: (x-2), 0, 10)\n",
    "    2.0000001788139343\n",
    "    >>> raiz(lambda x: (x**2-81), 0, 10)\n",
    "    9.000000059604645\n",
    "    >>> raiz(lambda x: (2**x - 16),-10, 10)\n",
    "    4.000000059604645\n",
    "    >>> raiz(lambda x: x**2 - 5*x + 6, 1.5, 2.5)\n",
    "    1.9999995231628418\n",
    "    >>> raiz(lambda x: x**2 - 5*x + 6, 2.5, 3.5)\n",
    "    2.999999523162842\n",
    "    >>> raiz(lambda x: np.log(x), 0.5, 2)\n",
    "    0.9999998807907104\n",
    " \n",
    "```\n",
    "\n",
    "Dica: A função `sign`, do pacote `numpy` te diz se um número é positivo ou negativo."
   ]
  },
  {
   "cell_type": "code",
   "execution_count": 477,
   "metadata": {},
   "outputs": [],
   "source": [
    "#== Coloque o seu código aqui == #\n",
    "\n",
    "\n",
    "\n",
    "\n",
    "\n",
    "\n",
    "\n",
    "\n",
    "\n"
   ]
  },
  {
   "cell_type": "code",
   "execution_count": 478,
   "metadata": {},
   "outputs": [],
   "source": [
    "assert np.isclose(raiz(lambda x: (x-2), 0, 10), 2)\n",
    "assert np.isclose(raiz(lambda x: (x**2-81), 0, 10), 9)\n",
    "assert np.isclose(raiz(lambda x: (2**x - 16),-10, 10), 4)\n",
    "assert np.isclose(raiz(lambda x: x**2 - 5*x + 6, 1.5, 2.5), 2)\n",
    "assert np.isclose(raiz(lambda x: x**2 - 5*x + 6, 2.5, 3.5), 3) \n",
    "assert np.isclose(raiz(lambda x: np.log(x), 0.5, 2), 1)"
   ]
  },
  {
   "cell_type": "markdown",
   "metadata": {},
   "source": [
    "## Questão 2\n",
    "\n",
    "Em Cálculo, você vai aprender que o número $e \\approx 2.71828...$ pode ser expressa como uma soma de infinitos termos:\n",
    "\n",
    "$$\n",
    "e = \\frac{1}{0!} + \\frac{1}{1!} + \\frac{1}{2!} + \\frac{1}{3!} + ... = \\lim_{p \\to \\infty} \\sum_{i=0}^{p} \\frac{1}{i!}\n",
    "$$\n",
    "\n",
    "onde, obviamente, $0! = 1$.\n",
    "\n",
    "1. Faça uma função chamada `e_approx` que receba um número inteiro `n` e um booleano, `lista`. Caso `lista` seja verdadeiro, a função deve retornar uma lista com os $n$ primeiros termos da soma acima. Caso `lista` seja falso, a função deve retornar a soma dos termos desta lista. Por default, `lista` deve ser falso."
   ]
  },
  {
   "cell_type": "code",
   "execution_count": 517,
   "metadata": {},
   "outputs": [],
   "source": [
    "#== Coloque o seu código aqui == #\n",
    "\n",
    "\n",
    "\n",
    "\n",
    "\n",
    "\n",
    "\n",
    "\n"
   ]
  },
  {
   "cell_type": "code",
   "execution_count": 518,
   "metadata": {},
   "outputs": [],
   "source": [
    "assert e_approx(3) == 2.5\n",
    "assert e_approx(100) == 2.7182818284590455\n",
    "assert e_approx(5, lista=True)[1] == 1.0\n",
    "assert np.isclose(e_approx(100, lista=True)[50], 3.2879494166331584e-65)"
   ]
  },
  {
   "cell_type": "markdown",
   "metadata": {},
   "source": [
    "Se você imprimir essa lista, vai ver que os termos vão ficando cada vez menores. É por isso que conseguimos somar infinitos termos, e mesmo assim ter como resultado um número finito."
   ]
  },
  {
   "cell_type": "markdown",
   "metadata": {},
   "source": [
    "2. Importe o número `e` do pacote `math`."
   ]
  },
  {
   "cell_type": "code",
   "execution_count": 519,
   "metadata": {},
   "outputs": [],
   "source": [
    "#== Coloque o seu código aqui == #\n",
    "\n",
    "\n",
    "\n",
    "\n"
   ]
  },
  {
   "cell_type": "markdown",
   "metadata": {},
   "source": [
    "Ótimo! A função abaixo te calcula o _erro relativo_ de se aproximar o número $e$ por uma soma finita de apenas _n_ termos. Note que essa função utiliza a função que você definiu anteriormente: "
   ]
  },
  {
   "cell_type": "code",
   "execution_count": 520,
   "metadata": {},
   "outputs": [],
   "source": [
    "def erro_relativo(n):\n",
    "    \n",
    "    valor_aproximado = e_approx(n)\n",
    "    valor_exato = e\n",
    "    erro_absoluto = abs(valor_aproximado - valor_exato)\n",
    "    erro_relativo = erro_absoluto / valor_exato\n",
    "    return(erro_relativo)"
   ]
  },
  {
   "cell_type": "markdown",
   "metadata": {},
   "source": [
    "Quantos termos (`n`) devemos somar para que o erro relativo seja menor do que 1 em 1 milhao ($10^{-6}$)? Salve sua resposta como a variável `m`."
   ]
  },
  {
   "cell_type": "code",
   "execution_count": 547,
   "metadata": {},
   "outputs": [
    {
     "name": "stdout",
     "output_type": "stream",
     "text": [
      "10\n"
     ]
    }
   ],
   "source": [
    "#== Coloque o seu código aqui == #\n",
    "\n",
    "\n",
    "\n",
    "\n",
    "\n",
    "\n"
   ]
  },
  {
   "cell_type": "code",
   "execution_count": 548,
   "metadata": {},
   "outputs": [],
   "source": [
    "assert m % 2 == 0\n",
    "assert m % 3 == 1\n",
    "assert m % 4 == 2\n",
    "assert m % 15 == m"
   ]
  },
  {
   "cell_type": "markdown",
   "metadata": {},
   "source": [
    "## Questão 3\n",
    "\n",
    "Este [link](https://raw.githubusercontent.com/pycaret/pycaret/master/datasets/amazon.csv) contém dados sobre _reviews_ de produtos da Amazon.\n",
    "\n",
    "1. Importe a base e chame-a de `amazon`. Mostre 5 linhas _aleatórias_ desta base."
   ]
  },
  {
   "cell_type": "code",
   "execution_count": 2,
   "metadata": {},
   "outputs": [],
   "source": [
    "#== Coloque o seu código aqui == #\n",
    "\n",
    "\n",
    "\n",
    "\n",
    "\n"
   ]
  },
  {
   "cell_type": "markdown",
   "metadata": {},
   "source": [
    "2. Quantas avaliações existem? Salve sua resposta em uma variável `n`."
   ]
  },
  {
   "cell_type": "code",
   "execution_count": 3,
   "metadata": {},
   "outputs": [],
   "source": [
    "#== Coloque o seu código aqui == #\n",
    "\n",
    "\n"
   ]
  },
  {
   "cell_type": "code",
   "execution_count": 525,
   "metadata": {},
   "outputs": [],
   "source": [
    "assert n % 625 == 0\n",
    "assert n % 1250 == 0\n",
    "assert len(str(n)) == 5\n",
    "assert int(sorted(str(n))[-1]) == 2"
   ]
  },
  {
   "cell_type": "markdown",
   "metadata": {},
   "source": [
    "3. A coluna `Positive` indica se um review foi positivo (1) ou não (0). Em uma única linha de código, mostre qual a fração de reviews positivos e negativos."
   ]
  },
  {
   "cell_type": "code",
   "execution_count": 4,
   "metadata": {},
   "outputs": [],
   "source": [
    "#== Coloque o seu código aqui == #\n"
   ]
  },
  {
   "cell_type": "markdown",
   "metadata": {},
   "source": [
    "## Questão 4\n",
    "\n",
    "Este [link](https://gist.githubusercontent.com/zhonglism/f146a9423e2c975de8d03c26451f841e/raw/f79e190df4225caed58bf360d8e20a9fa872b4ac/vgsales.csv) tem dados sobre vendas de videogames.\n",
    "\n",
    "1. Importe esses dados como um dataframe chamado `vg` (de \"videogame\") onde a coluna `Rank` é o índice de linha. Mostre as primeiras 15 linhas desse dataframe."
   ]
  },
  {
   "cell_type": "code",
   "execution_count": 5,
   "metadata": {},
   "outputs": [],
   "source": [
    "#== Coloque o seu código aqui == #\n",
    "\n",
    "\n",
    "\n"
   ]
  },
  {
   "cell_type": "markdown",
   "metadata": {},
   "source": [
    "2. Mude o nome das colunas do dataframe para:\n",
    "\n",
    "* Jogo\n",
    "* Plataforma\n",
    "* Ano\n",
    "* Tipo\n",
    "* Empresa\n",
    "* Vendas_AN\n",
    "* Vendas_EU\n",
    "* Vendas_JP\n",
    "* Vendas_Outros\n",
    "* Vendas_Global"
   ]
  },
  {
   "cell_type": "code",
   "execution_count": 528,
   "metadata": {},
   "outputs": [],
   "source": [
    "#== Coloque o seu código aqui == #\n"
   ]
  },
  {
   "cell_type": "markdown",
   "metadata": {},
   "source": [
    "3. Crie um dataframe chamado `vg2000` contendo apenas os videogueimes lançados do ano 2000 em diante."
   ]
  },
  {
   "cell_type": "code",
   "execution_count": 529,
   "metadata": {},
   "outputs": [],
   "source": [
    "#== Coloque o seu código aqui == #\n"
   ]
  },
  {
   "cell_type": "markdown",
   "metadata": {},
   "source": [
    "4. Considerando apenas os videogames lançados do ano 2000 em diante, calcule o total de vendas por empresa em cada região (América do Norte, Europa, Japão, Outros e Global). Salve esse dataframe com o nome `vg2000_empresas`. "
   ]
  },
  {
   "cell_type": "code",
   "execution_count": 530,
   "metadata": {},
   "outputs": [],
   "source": [
    "#== Coloque o seu código aqui == #\n"
   ]
  },
  {
   "cell_type": "markdown",
   "metadata": {},
   "source": [
    "5.Ordene esse dataframe em ordem decrescente de vendas globais (isso é, a primeira linha deve ter a empresa com o maior valor de vendas globais). Salve esse dataframe com o nome `vg2000_empresas_ord` e mostre a empresa que ocupa o topo do ranking de vendas globais."
   ]
  },
  {
   "cell_type": "code",
   "execution_count": 531,
   "metadata": {},
   "outputs": [
    {
     "data": {
      "text/html": [
       "<div>\n",
       "<style scoped>\n",
       "    .dataframe tbody tr th:only-of-type {\n",
       "        vertical-align: middle;\n",
       "    }\n",
       "\n",
       "    .dataframe tbody tr th {\n",
       "        vertical-align: top;\n",
       "    }\n",
       "\n",
       "    .dataframe thead th {\n",
       "        text-align: right;\n",
       "    }\n",
       "</style>\n",
       "<table border=\"1\" class=\"dataframe\">\n",
       "  <thead>\n",
       "    <tr style=\"text-align: right;\">\n",
       "      <th></th>\n",
       "      <th>Vendas_AN</th>\n",
       "      <th>Vendas_EU</th>\n",
       "      <th>Vendas_JP</th>\n",
       "      <th>Vendas_Outros</th>\n",
       "      <th>Vendas_Global</th>\n",
       "    </tr>\n",
       "    <tr>\n",
       "      <th>Empresa</th>\n",
       "      <th></th>\n",
       "      <th></th>\n",
       "      <th></th>\n",
       "      <th></th>\n",
       "      <th></th>\n",
       "    </tr>\n",
       "  </thead>\n",
       "  <tbody>\n",
       "    <tr>\n",
       "      <th>Nintendo</th>\n",
       "      <td>495.17</td>\n",
       "      <td>322.69</td>\n",
       "      <td>285.44</td>\n",
       "      <td>81.5</td>\n",
       "      <td>1184.95</td>\n",
       "    </tr>\n",
       "  </tbody>\n",
       "</table>\n",
       "</div>"
      ],
      "text/plain": [
       "          Vendas_AN  Vendas_EU  Vendas_JP  Vendas_Outros  Vendas_Global\n",
       "Empresa                                                                \n",
       "Nintendo     495.17     322.69     285.44           81.5        1184.95"
      ]
     },
     "execution_count": 531,
     "metadata": {},
     "output_type": "execute_result"
    }
   ],
   "source": [
    "#== Coloque o seu código aqui == #\n"
   ]
  },
  {
   "cell_type": "code",
   "execution_count": 532,
   "metadata": {},
   "outputs": [],
   "source": [
    "#1\n",
    "assert len(list(vg.index)) == 16598"
   ]
  },
  {
   "cell_type": "code",
   "execution_count": 533,
   "metadata": {},
   "outputs": [],
   "source": [
    "#2\n",
    "assert vg.columns[2] == 'Ano'\n",
    "assert vg.columns[4] == 'Empresa'"
   ]
  },
  {
   "cell_type": "code",
   "execution_count": 534,
   "metadata": {},
   "outputs": [],
   "source": [
    "#3\n",
    "assert min(vg2000.Ano) == 2000\n",
    "assert len(vg2000) == 14353"
   ]
  },
  {
   "cell_type": "code",
   "execution_count": 535,
   "metadata": {},
   "outputs": [],
   "source": [
    "#4\n",
    "assert vg2000_empresas.shape == (457,5)\n",
    "assert list(vg2000_empresas.columns) == ['Vendas_AN', 'Vendas_EU', 'Vendas_JP', 'Vendas_Outros','Vendas_Global']"
   ]
  },
  {
   "cell_type": "code",
   "execution_count": 536,
   "metadata": {},
   "outputs": [],
   "source": [
    "#5\n",
    "assert vg2000_empresas_ord.tail(1).index[0] == 'Rain Games'\n",
    "assert vg2000_empresas_ord.tail().index[0] == 'Stainless Games'\n",
    "assert np.isclose(vg2000_empresas_ord.Vendas_AN[4], 190.23)"
   ]
  },
  {
   "cell_type": "markdown",
   "metadata": {},
   "source": [
    "## Questão 5\n",
    "\n",
    "Rode o código abaixo."
   ]
  },
  {
   "cell_type": "code",
   "execution_count": 12,
   "metadata": {},
   "outputs": [],
   "source": [
    "np.random.seed(12345)\n",
    "A = np.random.random((1000,5))\n",
    "A"
   ]
  },
  {
   "cell_type": "markdown",
   "metadata": {},
   "source": [
    "1. Calcule a soma dos termos de cada linha desse array. Salve como o array `A1`"
   ]
  },
  {
   "cell_type": "code",
   "execution_count": 7,
   "metadata": {},
   "outputs": [],
   "source": [
    "#== Coloque o seu código aqui == #\n"
   ]
  },
  {
   "cell_type": "markdown",
   "metadata": {},
   "source": [
    "2. Calcule a média dos termos de cada coluna desse array. Salve como o array `A2`."
   ]
  },
  {
   "cell_type": "code",
   "execution_count": 8,
   "metadata": {},
   "outputs": [],
   "source": [
    "#== Coloque o seu código aqui == #\n"
   ]
  },
  {
   "cell_type": "markdown",
   "metadata": {},
   "source": [
    "3. Pegue a penúltima coluna desse array e salve como um array `v`. Em seguida, aplique a função `f` definida a seguir a cada um dos seus elementos. Salve o resultado como o array `A3`."
   ]
  },
  {
   "cell_type": "code",
   "execution_count": 13,
   "metadata": {},
   "outputs": [],
   "source": [
    "def f(x):\n",
    "    return(1/(1+np.exp(-x)))"
   ]
  },
  {
   "cell_type": "code",
   "execution_count": 10,
   "metadata": {},
   "outputs": [],
   "source": [
    "#== Coloque o seu código aqui == #\n",
    "# -- Pegue a penúltima coluna desse array e salve como um array v\n",
    "\n",
    "# -- Aplique a função f a cada um dos elementos de v. Salve o resultado como o array A3\n"
   ]
  },
  {
   "cell_type": "markdown",
   "metadata": {},
   "source": [
    "4. Crie um dicionário chamado `dicionario` com 4 chaves: `A`, `B`, `C` e `D`. \n",
    "\n",
    "* O valor associado à chave `A` deve ser um outro dicionário, com 3 chaves: `A1`, `A2` e `A3` contendo, respectivamente, os arrays `A1`, `A2` e `A3` que você criou acima. \n",
    "* O valor associado à chave `B` deve ser uma lista com 3 elementos quaisquer (pode inventar!)\n",
    "* O valor associado à chave `C` deve ser um string qualquer (pode ser criativo!)\n",
    "* O valor associado à chave `D` deve ser um booleano."
   ]
  },
  {
   "cell_type": "code",
   "execution_count": 11,
   "metadata": {},
   "outputs": [],
   "source": [
    "#== Coloque o seu código aqui == #\n"
   ]
  },
  {
   "cell_type": "code",
   "execution_count": 543,
   "metadata": {},
   "outputs": [],
   "source": [
    "assert A1.shape == (1000,)\n",
    "assert np.isclose(A1[100], 1.7375104252504976)"
   ]
  },
  {
   "cell_type": "code",
   "execution_count": 544,
   "metadata": {},
   "outputs": [],
   "source": [
    "assert A2.shape == (5,)\n",
    "assert np.isclose(A2.std(), 0.008440454567631938)"
   ]
  },
  {
   "cell_type": "code",
   "execution_count": 545,
   "metadata": {},
   "outputs": [],
   "source": [
    "assert A3.shape == (1000,)\n",
    "assert np.isclose(A3[300], 0.7131625870884012)"
   ]
  },
  {
   "cell_type": "code",
   "execution_count": 546,
   "metadata": {},
   "outputs": [],
   "source": [
    "assert np.prod(dicionario['A']['A1'] == A1)\n",
    "assert np.prod(dicionario['A']['A2'] == A2)\n",
    "assert np.prod(dicionario['A']['A3'] == A3)\n",
    "assert isinstance(dicionario['B'], list)\n",
    "assert isinstance(dicionario['C'], str)\n",
    "assert isinstance(dicionario['D'], bool)"
   ]
  }
 ],
 "metadata": {
  "kernelspec": {
   "display_name": "Python 3",
   "language": "python",
   "name": "python3"
  },
  "language_info": {
   "codemirror_mode": {
    "name": "ipython",
    "version": 3
   },
   "file_extension": ".py",
   "mimetype": "text/x-python",
   "name": "python",
   "nbconvert_exporter": "python",
   "pygments_lexer": "ipython3",
   "version": "3.8.5"
  }
 },
 "nbformat": 4,
 "nbformat_minor": 4
}
