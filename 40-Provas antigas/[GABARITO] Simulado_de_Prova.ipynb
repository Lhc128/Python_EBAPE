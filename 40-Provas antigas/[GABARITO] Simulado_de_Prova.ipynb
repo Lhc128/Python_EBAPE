{
 "cells": [
  {
   "cell_type": "markdown",
   "metadata": {},
   "source": [
    "# Prova\n",
    "## Nome:\n",
    "\n",
    "OBS: DEIXE AS CÉLULAS CONTENDO O COMANDO `assert` COMO AS ÚLTIMAS CÉLULAS DE CADA RESPOSTA.\n"
   ]
  },
  {
   "cell_type": "code",
   "execution_count": 1,
   "metadata": {},
   "outputs": [],
   "source": [
    "import numpy as np\n",
    "from math import pi, e, sqrt"
   ]
  },
  {
   "cell_type": "markdown",
   "metadata": {},
   "source": [
    "### Questão 1: Funções"
   ]
  },
  {
   "cell_type": "markdown",
   "metadata": {},
   "source": [
    "Os babilônicos tinham um jeito muito esperto de calcular a raiz de um número.  \n",
    "Pega, por exemplo, o número 49. Os babilônicos calculariam a raiz deste número assim...\n",
    "1. Chuta uma raiz. Sei lá, 5.\n",
    "2. Quanto é 49 sobre 5? É 9.8...\n",
    "3. 9.8 não é 5. Isso significa que a raiz de 49 tem que estar entre 9.8 e 5. Tira a média, então:\n",
    "4. A média entre 9.8 e 5 é 7.4. Voltamos ao passo 1, mas agora o nosso chute vai ser 7.4.\n",
    "\n",
    "Repetimos esses passos até que a diferença entre a nossa estimativa atual e a última for menor do que um determinado valor a ser especificado.\n",
    "\n",
    "**Construa uma função que calcule a raiz quadrada pelo método babilônico**\n",
    "Essa função deve seguir a descrição da seguinte documentação:\n",
    "\n",
    "```python\n",
    "\n",
    "'''\n",
    "Calcula a raiz quadrada pelo método babilônico\n",
    "\n",
    "Parameters:\n",
    "-----------\n",
    "x: float\n",
    "    Número cuja raiz quadrada se deseja calcular\n",
    "ci: float\n",
    "    Chute inicial.\n",
    "    O valor default desse chute deve ser 1\n",
    "tol: float\n",
    "    Tolerância. \n",
    "    A função termina quando a diferença (em valor absoluto) entre a estimativa atual e a última for menor do que esse valor.\n",
    "\n",
    "Returns:\n",
    "--------\n",
    "float\n",
    "    Raiz quadrada de Q, estimada pelo método babilônico\n",
    "    \n",
    "Exemplo:\n",
    "--------\n",
    ">>> raiz(100, 20)\n",
    "10.000000464611475\n",
    ">>> raiz(49)\n",
    "7.000000141269659\n",
    "\n",
    "'''\n",
    "\n",
    "```\n"
   ]
  },
  {
   "cell_type": "code",
   "execution_count": 7,
   "metadata": {},
   "outputs": [],
   "source": [
    "## == Gabarito == ##\n",
    "def raiz(x, ci = 1, tol=1e-6):\n",
    "    \n",
    "    r = ci\n",
    "    while abs(x/r - r) > tol:\n",
    "        r = (x/r + r)/2\n",
    "    return(r)"
   ]
  },
  {
   "cell_type": "markdown",
   "metadata": {},
   "source": [
    "#### Explicação\n",
    "\n",
    "O enunciado diz que a função deve se chamar `raiz`. Daí, o código começa com\n",
    "\n",
    "```python\n",
    "def raiz():\n",
    "```\n",
    "\n",
    "A função deve receber:\n",
    "* $x$, um float\n",
    "* $ci$, um float cujo default é 1\n",
    "* $tol$, um float que representa a tolerância. Quão pequena tem que ser a diferença entre a raiz estimada e a raiz real para que a gente páre de buscar a raiz exata. Vamos escolher um valor pequeno como default desse parâmetro. Digamos, 1e-6, ou seja, 0,000001. Isso significa que nossa estimativa deve extar correta pelo menos até a sexta casa decimal.\n",
    "Isso faz com que o cabeçalho da função vire:\n",
    "\n",
    "```python\n",
    "def raiz(x, ci=1, tol=1e-6):\n",
    "```\n",
    "\n",
    "Vamos criar uma variável que é a nossa estimativa da raiz. Vamos chamar essa variável de `r`.\n",
    "\n",
    "Nossa primeira estimativa da raiz é o próprio chute initial. Portanto:\n",
    "\n",
    "```python\n",
    "def raiz(x, ci=1, tol=1e-6):\n",
    "    r = ci\n",
    "```\n",
    "\n",
    "Com esse chute inicial, calculamos o valode  de $x/r$. Se $r = \\sqrt{x}$, então $x/r = r$. Mas se $r \\neq \\sqrt{x}$, precisaos continuar procurando. Mas o que significa dizer que $x/r = r$? Pode demorar muito tempo até esses dois valores sejam _exatamente_ iguais, e isso talvez nunca aconteça. Mas basta que a diferença entre $x/r$ e $r$ seja muito pequenininha, que já teremos uma ótima aproximação para a raiz de $x$ e poderemos parar. Ou seja, paramos quando $|x/r - r|$ for muito pequeno. O que significa \"pequeno\"? Significa menor do que um valor pequenininho: a tolerância. Assim, nosso código fica:\n",
    "\n",
    "```python\n",
    "def raiz(x, ci=1, tol=1e-6):\n",
    "    r = ci\n",
    "    while abs(x/r - r) > tol:\n",
    "        #continua buscando a raiz quadrada\n",
    "```\n",
    "\n",
    "Continuar buscando a raiz quadrada significa tomar como valor de $r$ a média entre $x/r$ e $r$. Isso porque a raiz de $x$ certamente estará em algum lugar entre esses dois valores, então a média parece ser um chute razoável. Portanto:\n",
    "\n",
    "```python\n",
    "def raiz(x, ci=1, tol=1e-6):\n",
    "    r = ci\n",
    "    while abs(x/r - r) > tol:\n",
    "        r = (x/r + r)/2\n",
    "```\n",
    "\n",
    "Quando $x/r$ e $r$ já estiverem bem pertinho, teremos chegado ao valor da raiz que buscamos. O valor dessa raiz é $r$. Portanto, pedimos para a função retornar $r$:\n",
    "\n",
    "```python\n",
    "def raiz(x, ci=1, tol=1e-6):\n",
    "    r = ci\n",
    "    while abs(x/r - r) > tol:\n",
    "        r = (x/r + r)/2\n",
    "    return(r)\n",
    "```\n",
    "\n",
    "Agora, basta testar com alguns valores e ver se a resposta é a correta."
   ]
  },
  {
   "cell_type": "markdown",
   "metadata": {},
   "source": [
    "### Curiosidade:\n",
    "(Pode pular se estiver com o tempo apertado)\n",
    "\n",
    "Você sabia que esse método, feito pelos babilônicos, é muito eficiente até mesmo para os padrões de hoje? Ele é um caso particular do Método de Newton, que você deve ter aprendido (ou vai aprender) em Cálculo.  \n",
    "\n",
    "Mesmo assim, essa função (com todo o respeito) é muito mais lenta do que a função já implementada no próprio Python. Isso porque a função implementada em Python não está escrita em Python, mas em uma linguagem muito mais rápida (e difícil!): C.\n",
    "\n",
    "Observe quanto tempo cada uma demora calculando $\\sqrt{100}$:"
   ]
  },
  {
   "cell_type": "code",
   "execution_count": 8,
   "metadata": {},
   "outputs": [
    {
     "name": "stdout",
     "output_type": "stream",
     "text": [
      "4.2 µs ± 313 ns per loop (mean ± std. dev. of 7 runs, 100000 loops each)\n",
      "192 ns ± 53.8 ns per loop (mean ± std. dev. of 7 runs, 1000000 loops each)\n"
     ]
    }
   ],
   "source": [
    "from math import sqrt\n",
    "%timeit raiz(100) # --- sua função\n",
    "%timeit sqrt(100) # --- função do Python"
   ]
  },
  {
   "cell_type": "markdown",
   "metadata": {},
   "source": [
    "Quase 20 vezes mais rápido! Esse é um dos motivos pelos quais, sempre que possível, devemos usar funções prontas em pacotes, ao invés de criarmos essas funções nós mesmos."
   ]
  },
  {
   "cell_type": "code",
   "execution_count": 4,
   "metadata": {},
   "outputs": [],
   "source": [
    "assert np.isclose(raiz(25), 5)\n",
    "assert np.isclose(raiz(15241578750190521),123456789)\n",
    "assert raiz(100,1) != raiz(100,2)"
   ]
  },
  {
   "cell_type": "markdown",
   "metadata": {},
   "source": [
    "## Questão 2: Listas"
   ]
  },
  {
   "cell_type": "markdown",
   "metadata": {},
   "source": [
    "Construa uma lista em que os termos sejam\n",
    "\n",
    "$$\n",
    "\\left[1, -\\frac{1}{3}, \\frac{1}{5}, -\\frac{1}{7}, \\frac{1}{9}, -\\frac{1}{11}, ...  \\right]\n",
    "$$\n",
    "\n",
    "isso é, o inverso de todos os números ímpares de 1 até 1-milhão-e-1 (inclusive), com sinais alternados. \n",
    "\n",
    "1. Use _list comprehension_ para gerar essa lista. Em seguida, salve-a como a variável `lista_Q2`\n",
    "\n",
    "Agora, some tudo e  multiplique por 4. \n",
    "\n",
    "2. Salve esse resultado em uma variável chamada `soma_Q2`.\n",
    "\n",
    "Agora, olhe o resultado. Você já viu esse número antes?\n",
    "\n",
    "**Dica:** O $i$-ésimo número ímpar é $2i + 1$, começando-se a contar de $i=0$. Veja, por exemplo, a tabela abaixo:\n",
    "\n",
    "| $i$ | $2i + 1$ |\n",
    "|-----|----------|\n",
    "|0    | 1        |\n",
    "|1    | 3        |\n",
    "|2    | 5        |\n",
    "|3    | 7        |\n",
    "|4    | 9        |\n",
    "| etc.| etc ìmpar|\n",
    "\n",
    "\n"
   ]
  },
  {
   "cell_type": "code",
   "execution_count": 11,
   "metadata": {},
   "outputs": [
    {
     "data": {
      "text/plain": [
       "3.1415946535856922"
      ]
     },
     "execution_count": 11,
     "metadata": {},
     "output_type": "execute_result"
    }
   ],
   "source": [
    "## == Gabarito == ##\n",
    "lista_Q2 = [(-1)**i * 1/(2*i + 1) for i in range(500000+1)]\n",
    "soma_Q2 = 4 * sum(lista_Q2)\n",
    "soma_Q2"
   ]
  },
  {
   "cell_type": "markdown",
   "metadata": {},
   "source": [
    "#### Explicação\n",
    "\n",
    "Cada elemento da lista tem a forma\n",
    "\n",
    "$$\n",
    "(-1)^i \\cdot \\frac{1}{2i+1}\n",
    "$$\n",
    "\n",
    "com $i$ indo de 0 até 500.000.\n",
    "\n",
    "Em Python, é possível definir uma lista com base em uma regra matemática (chama-se _list comprehension_):\n",
    "\n",
    "```python\n",
    "lista_Q2 = [(-1)**i * 1/(2*i + 1) for i in range(500000+1)]\n",
    "```\n",
    "\n",
    "Nesse comando, estamos mandando o Python calcular `(-1)**i * 1/(2*i + 1)` para todos os valores de `i` no `range(500000+1)`, ou seja, 0, 1, 2, 3,... até 500000. Note que 500000+1 não é incluído.\n",
    "\n",
    "Para somar os elementos da lista, basta fazer\n",
    "\n",
    "```python\n",
    "sum(lista_Q2)\n",
    "```\n",
    "\n",
    "e, para multiplicar por 4,\n",
    "\n",
    "```python\n",
    "4 * sum(lista_Q2)\n",
    "```\n",
    "\n",
    "O resultado é aproximadamente $\\pi$. Quanto mais termos colocamos na lista, mais o resultado se aproxima do valor exato de $\\pi$. Louco né?\n"
   ]
  },
  {
   "cell_type": "code",
   "execution_count": 15,
   "metadata": {},
   "outputs": [],
   "source": [
    "assert len(lista_Q2) == 500001\n",
    "assert np.isclose(soma_Q2, pi)"
   ]
  },
  {
   "cell_type": "markdown",
   "metadata": {},
   "source": [
    "## Questão 3: Dicionários\n",
    "\n",
    "Considere o seguinte dicionário, com resultados de um modelo de Data Science:"
   ]
  },
  {
   "cell_type": "code",
   "execution_count": 17,
   "metadata": {},
   "outputs": [],
   "source": [
    "resultados = {'modelo_1': {'acuracia': 0.98, 'precisao': 0.96, 'recall': 0.95},\n",
    "              'modelo_2': {'acuracia': 0.85, 'precisao': 0.86, 'recall': 0.82},\n",
    "              'modelo_3': {'acuracia': 0.90, 'precisao': 0.87, 'recall': 0.91},\n",
    "              'modelo_4': {'acuracia': 0.95, 'precisao': 0.97, 'recall': 0.92}\n",
    "             }"
   ]
  },
  {
   "cell_type": "markdown",
   "metadata": {},
   "source": [
    "Calcule o score F para cada um dos modelos e coloque no dicionario do respectivo modelo. O score F se calcula assim:\n",
    "\n",
    "$$\n",
    "F = 2\\times\\frac{precisao \\times recall}{precisao + recall}\n",
    "$$\n",
    "\n",
    "Agora, mostre o dicionario contendo o score F em cada modelo."
   ]
  },
  {
   "cell_type": "code",
   "execution_count": 18,
   "metadata": {},
   "outputs": [
    {
     "data": {
      "text/plain": [
       "{'modelo_1': {'acuracia': 0.98,\n",
       "  'precisao': 0.96,\n",
       "  'recall': 0.95,\n",
       "  'F': 0.9549738219895287},\n",
       " 'modelo_2': {'acuracia': 0.85,\n",
       "  'precisao': 0.86,\n",
       "  'recall': 0.82,\n",
       "  'F': 0.8395238095238095},\n",
       " 'modelo_3': {'acuracia': 0.9,\n",
       "  'precisao': 0.87,\n",
       "  'recall': 0.91,\n",
       "  'F': 0.8895505617977528},\n",
       " 'modelo_4': {'acuracia': 0.95,\n",
       "  'precisao': 0.97,\n",
       "  'recall': 0.92,\n",
       "  'F': 0.9443386243386243}}"
      ]
     },
     "execution_count": 18,
     "metadata": {},
     "output_type": "execute_result"
    }
   ],
   "source": [
    "## == Gabarito == ##\n",
    "for modelo in resultados.keys():\n",
    "    p = resultados[modelo]['precisao']\n",
    "    r = resultados[modelo]['recall']\n",
    "    F = 2 * p * r / (p + r)\n",
    "    resultados[modelo]['F'] = F \n",
    "resultados"
   ]
  },
  {
   "cell_type": "markdown",
   "metadata": {},
   "source": [
    "#### Explicação\n",
    "\n",
    "`resultados` é um dicionário. Ele é composto de pares chave:valor.\n",
    "Cada chave é o nome de um modelo. Cada valor é um novo dicionário, com dados sobre a acurácia, a precisão e o recall do modelo.\n",
    "\n",
    "Suponha que a gente tenha um modelo chamado `modelo`.\n",
    "Esse modelo é uma chave do dicionário `resultados.`\n",
    "Assim, para acessar o dicionário desse modelo, basta fazermos\n",
    "\n",
    "```python\n",
    "resultados[modelo]\n",
    "```\n",
    "\n",
    "Mas isso é, de novo, um dicionário. Uma das chaves desse dicionário é precisão. Assim, para obtermos a precisão, podemos fazer\n",
    "\n",
    "```python\n",
    "resultados[modelo][precisao]\n",
    "```\n",
    "\n",
    "e analogamente para obtermos o recall. Com isso, podemos calcular o $F$ da seguinte forma:\n",
    "\n",
    "```python\n",
    "p = resultados[modelo]['precisao']\n",
    "r = resultados[modelo]['recall']\n",
    "F = 2 * p * r / (p + r)\n",
    "```\n",
    "Para colocar isso dentro do dicionário de cada modelo como um valor associado à chave `F`, podemos fazer\n",
    "\n",
    "```python\n",
    "resultados[modelo]['F'] = F\n",
    "```\n",
    "\n",
    "Vamos juntar tudo:\n",
    "\n",
    "```python\n",
    "p = resultados[modelo]['precisao']\n",
    "r = resultados[modelo]['recall']\n",
    "F = 2 * p * r / (p + r)\n",
    "resultados[modelo]['F'] = F\n",
    "```\n",
    "\n",
    "Queremos fazer isso para todos os modelos. Para isso, precisamos de uma lista com o nome dos modelos. Como os nomes dos modelos são as chaves do dicionário `resultados`, podemos obter essa lista fazendo ``` resultados.keys()```. Queremos rodas o código acima para cada modelo listado nessa lista. Portanto:\n",
    "\n",
    "```python\n",
    "for modelo in resultados.keys():\n",
    "    p = resultados[modelo]['precisao']\n",
    "    r = resultados[modelo]['recall']\n",
    "    F = 2 * p * r / (p + r)\n",
    "    resultados[modelo]['F'] = F \n",
    "```"
   ]
  },
  {
   "cell_type": "code",
   "execution_count": 19,
   "metadata": {},
   "outputs": [],
   "source": [
    "assert list(map(lambda x: x['F'], resultados.values())) == [0.9549738219895287,\n",
    "                                                            0.8395238095238095,\n",
    "                                                            0.8895505617977528,\n",
    "                                                            0.9443386243386243]"
   ]
  },
  {
   "cell_type": "markdown",
   "metadata": {},
   "source": [
    "## Questão 5: Funções"
   ]
  },
  {
   "cell_type": "markdown",
   "metadata": {},
   "source": [
    "A sequência de Collatz é muito bonitinha. Ela recebe um número $n$ inteiro e devolve outro, calculado da seguinte maneira:\n",
    "\n",
    "* se $n$ for par, ela devolve $\\frac{n}{2}$\n",
    "* se $n$ for impar, ela devolve $3n + 1$\n",
    "\n",
    "Aparentemente, se você ficar repetindo esses passos várias vezes, você sempre chega a 1, independente do número do qual você começou. Sim, isso é estranho. E ninguém sabe o porquê.\n",
    "\n",
    "1. Faça uma função, chamada  `collatz`, recebe um número `n` e devolve o próximo termo da sequência de Collatz.\n",
    "\n",
    "2. Faça uma função chamada `seq_collatz` que, a partir de um número $n$, devolva uma lista com todos os termos da sequência de Collatz até que o número 1 seja atingido. O número 1 deve ser incluído na lista.\n",
    "\n",
    "3. Faça uma função chamada `max_collatz` que recebe um número $n$ e retorne o maior número da Collatz de $n$. Por exemplo, para $n = 12$, a sequência de Collatz é $[12, 6, 3, 10, 5, 16, 8, 4, 2, 1]$, então `max_collatz` deveria retornar $16$."
   ]
  },
  {
   "cell_type": "code",
   "execution_count": 22,
   "metadata": {},
   "outputs": [],
   "source": [
    "## == Gabarito e explicação== #\n",
    "def collatz(n):\n",
    "    if n%2 == 0: #se n for par...\n",
    "        return(n/2) #... me retorna n/2\n",
    "    else: #caso contrário (ou seja, se n for ímpar)...\n",
    "        return(3*n + 1) #... me retorne 3*n+1\n",
    "\n",
    "def seq_collatz(n):\n",
    "    seq = [n] #crie uma lista com o elemento n\n",
    "    while n != 1: #enquanto n for diferente de 1...\n",
    "        n = collatz(n) #calcule o próximo termo da sequência\n",
    "        seq.append(int(n)) #transforme o elemento em um inteiro e coloque ele na lista\n",
    "    return(seq)\n",
    "\n",
    "def max_collatz(n):\n",
    "    return(max(seq_collatz(n))) #retorne o maior número da sequencia de collatz"
   ]
  },
  {
   "cell_type": "code",
   "execution_count": 23,
   "metadata": {},
   "outputs": [],
   "source": [
    "assert max_collatz(12) == 16\n",
    "assert max_collatz(1000) ==9232"
   ]
  },
  {
   "cell_type": "markdown",
   "metadata": {},
   "source": [
    "## Questão 6: Séries e DataFrames\n",
    "\n",
    "Este [link](https://raw.githubusercontent.com/cliburn/bios-823-2020/master/quiz/wnv_human_cases.csv) tem dados sobre a incidência de casos do Vírus do Nilo Ocidental, um vírus da família da dengue, da zika e da febre amarela. \n",
    "\n",
    "1. Importe os dados como um DataFrame chamado `df`. Em seguida, mostre 5 linhas aleatórias do DataFrame."
   ]
  },
  {
   "cell_type": "code",
   "execution_count": 25,
   "metadata": {},
   "outputs": [
    {
     "data": {
      "text/html": [
       "<div>\n",
       "<style scoped>\n",
       "    .dataframe tbody tr th:only-of-type {\n",
       "        vertical-align: middle;\n",
       "    }\n",
       "\n",
       "    .dataframe tbody tr th {\n",
       "        vertical-align: top;\n",
       "    }\n",
       "\n",
       "    .dataframe thead th {\n",
       "        text-align: right;\n",
       "    }\n",
       "</style>\n",
       "<table border=\"1\" class=\"dataframe\">\n",
       "  <thead>\n",
       "    <tr style=\"text-align: right;\">\n",
       "      <th></th>\n",
       "      <th>Year</th>\n",
       "      <th>Week Reported</th>\n",
       "      <th>County</th>\n",
       "      <th>Positive Cases</th>\n",
       "    </tr>\n",
       "  </thead>\n",
       "  <tbody>\n",
       "    <tr>\n",
       "      <th>0</th>\n",
       "      <td>2006</td>\n",
       "      <td>35</td>\n",
       "      <td>Alameda</td>\n",
       "      <td>1</td>\n",
       "    </tr>\n",
       "    <tr>\n",
       "      <th>1</th>\n",
       "      <td>2006</td>\n",
       "      <td>33</td>\n",
       "      <td>Butte</td>\n",
       "      <td>4</td>\n",
       "    </tr>\n",
       "    <tr>\n",
       "      <th>2</th>\n",
       "      <td>2006</td>\n",
       "      <td>34</td>\n",
       "      <td>Butte</td>\n",
       "      <td>1</td>\n",
       "    </tr>\n",
       "    <tr>\n",
       "      <th>3</th>\n",
       "      <td>2006</td>\n",
       "      <td>35</td>\n",
       "      <td>Butte</td>\n",
       "      <td>10</td>\n",
       "    </tr>\n",
       "    <tr>\n",
       "      <th>4</th>\n",
       "      <td>2006</td>\n",
       "      <td>36</td>\n",
       "      <td>Butte</td>\n",
       "      <td>2</td>\n",
       "    </tr>\n",
       "  </tbody>\n",
       "</table>\n",
       "</div>"
      ],
      "text/plain": [
       "   Year  Week Reported   County  Positive Cases\n",
       "0  2006             35  Alameda               1\n",
       "1  2006             33    Butte               4\n",
       "2  2006             34    Butte               1\n",
       "3  2006             35    Butte              10\n",
       "4  2006             36    Butte               2"
      ]
     },
     "execution_count": 25,
     "metadata": {},
     "output_type": "execute_result"
    }
   ],
   "source": [
    "#== Gabarito e explicação ==#\n",
    "import pandas as pd\n",
    "\n",
    "#leia o csv da internet\n",
    "df = pd.read_csv('https://raw.githubusercontent.com/cliburn/bios-823-2020/master/quiz/wnv_human_cases.csv')\n",
    "\n",
    "#me mostre as 5 primeiras linhas\n",
    "df.head(5)"
   ]
  },
  {
   "cell_type": "markdown",
   "metadata": {},
   "source": [
    "2. Troque o nome das colunas para o portugues. Os nomes das colunas devem ser:\n",
    "    * ano\n",
    "    * semana\n",
    "    * distrito\n",
    "    * casos\n",
    "\n",
    "Note as letras minúsculas e a ausência de acentos."
   ]
  },
  {
   "cell_type": "code",
   "execution_count": 26,
   "metadata": {},
   "outputs": [
    {
     "data": {
      "text/html": [
       "<div>\n",
       "<style scoped>\n",
       "    .dataframe tbody tr th:only-of-type {\n",
       "        vertical-align: middle;\n",
       "    }\n",
       "\n",
       "    .dataframe tbody tr th {\n",
       "        vertical-align: top;\n",
       "    }\n",
       "\n",
       "    .dataframe thead th {\n",
       "        text-align: right;\n",
       "    }\n",
       "</style>\n",
       "<table border=\"1\" class=\"dataframe\">\n",
       "  <thead>\n",
       "    <tr style=\"text-align: right;\">\n",
       "      <th></th>\n",
       "      <th>ano</th>\n",
       "      <th>semana</th>\n",
       "      <th>distrito</th>\n",
       "      <th>casos</th>\n",
       "    </tr>\n",
       "  </thead>\n",
       "  <tbody>\n",
       "    <tr>\n",
       "      <th>0</th>\n",
       "      <td>2006</td>\n",
       "      <td>35</td>\n",
       "      <td>Alameda</td>\n",
       "      <td>1</td>\n",
       "    </tr>\n",
       "    <tr>\n",
       "      <th>1</th>\n",
       "      <td>2006</td>\n",
       "      <td>33</td>\n",
       "      <td>Butte</td>\n",
       "      <td>4</td>\n",
       "    </tr>\n",
       "    <tr>\n",
       "      <th>2</th>\n",
       "      <td>2006</td>\n",
       "      <td>34</td>\n",
       "      <td>Butte</td>\n",
       "      <td>1</td>\n",
       "    </tr>\n",
       "    <tr>\n",
       "      <th>3</th>\n",
       "      <td>2006</td>\n",
       "      <td>35</td>\n",
       "      <td>Butte</td>\n",
       "      <td>10</td>\n",
       "    </tr>\n",
       "    <tr>\n",
       "      <th>4</th>\n",
       "      <td>2006</td>\n",
       "      <td>36</td>\n",
       "      <td>Butte</td>\n",
       "      <td>2</td>\n",
       "    </tr>\n",
       "  </tbody>\n",
       "</table>\n",
       "</div>"
      ],
      "text/plain": [
       "    ano  semana distrito  casos\n",
       "0  2006      35  Alameda      1\n",
       "1  2006      33    Butte      4\n",
       "2  2006      34    Butte      1\n",
       "3  2006      35    Butte     10\n",
       "4  2006      36    Butte      2"
      ]
     },
     "execution_count": 26,
     "metadata": {},
     "output_type": "execute_result"
    }
   ],
   "source": [
    "#== Gabarito e explicação ==#\n",
    "\n",
    "#Chame as colunas de 'ano', 'semana', 'distrito' e 'casos'.\n",
    "#Os nomes dessas colunas são passadas na forma de uma lista\n",
    "df.columns = ['ano','semana','distrito','casos']\n",
    "\n",
    "#Mostre as 5 primeiras linhas\n",
    "df.head()"
   ]
  },
  {
   "cell_type": "markdown",
   "metadata": {},
   "source": [
    "3. Crie uma série com o número total de casos por ano no distrito de Butte. Essa série deve se chamar `butte` e deve ter o `ano` como índice."
   ]
  },
  {
   "cell_type": "code",
   "execution_count": 27,
   "metadata": {},
   "outputs": [
    {
     "data": {
      "text/html": [
       "<div>\n",
       "<style scoped>\n",
       "    .dataframe tbody tr th:only-of-type {\n",
       "        vertical-align: middle;\n",
       "    }\n",
       "\n",
       "    .dataframe tbody tr th {\n",
       "        vertical-align: top;\n",
       "    }\n",
       "\n",
       "    .dataframe thead th {\n",
       "        text-align: right;\n",
       "    }\n",
       "</style>\n",
       "<table border=\"1\" class=\"dataframe\">\n",
       "  <thead>\n",
       "    <tr style=\"text-align: right;\">\n",
       "      <th></th>\n",
       "      <th>casos</th>\n",
       "    </tr>\n",
       "    <tr>\n",
       "      <th>ano</th>\n",
       "      <th></th>\n",
       "    </tr>\n",
       "  </thead>\n",
       "  <tbody>\n",
       "    <tr>\n",
       "      <th>2006</th>\n",
       "      <td>31</td>\n",
       "    </tr>\n",
       "    <tr>\n",
       "      <th>2007</th>\n",
       "      <td>16</td>\n",
       "    </tr>\n",
       "    <tr>\n",
       "      <th>2008</th>\n",
       "      <td>6</td>\n",
       "    </tr>\n",
       "    <tr>\n",
       "      <th>2009</th>\n",
       "      <td>2</td>\n",
       "    </tr>\n",
       "    <tr>\n",
       "      <th>2010</th>\n",
       "      <td>1</td>\n",
       "    </tr>\n",
       "    <tr>\n",
       "      <th>2011</th>\n",
       "      <td>3</td>\n",
       "    </tr>\n",
       "    <tr>\n",
       "      <th>2012</th>\n",
       "      <td>10</td>\n",
       "    </tr>\n",
       "    <tr>\n",
       "      <th>2013</th>\n",
       "      <td>24</td>\n",
       "    </tr>\n",
       "    <tr>\n",
       "      <th>2014</th>\n",
       "      <td>24</td>\n",
       "    </tr>\n",
       "    <tr>\n",
       "      <th>2015</th>\n",
       "      <td>53</td>\n",
       "    </tr>\n",
       "    <tr>\n",
       "      <th>2016</th>\n",
       "      <td>21</td>\n",
       "    </tr>\n",
       "    <tr>\n",
       "      <th>2017</th>\n",
       "      <td>4</td>\n",
       "    </tr>\n",
       "    <tr>\n",
       "      <th>2018</th>\n",
       "      <td>12</td>\n",
       "    </tr>\n",
       "    <tr>\n",
       "      <th>2019</th>\n",
       "      <td>4</td>\n",
       "    </tr>\n",
       "  </tbody>\n",
       "</table>\n",
       "</div>"
      ],
      "text/plain": [
       "      casos\n",
       "ano        \n",
       "2006     31\n",
       "2007     16\n",
       "2008      6\n",
       "2009      2\n",
       "2010      1\n",
       "2011      3\n",
       "2012     10\n",
       "2013     24\n",
       "2014     24\n",
       "2015     53\n",
       "2016     21\n",
       "2017      4\n",
       "2018     12\n",
       "2019      4"
      ]
     },
     "execution_count": 27,
     "metadata": {},
     "output_type": "execute_result"
    }
   ],
   "source": [
    "#== Gabarito ==#\n",
    "butte = df.loc[df.distrito == 'Butte',['ano','casos']].groupby('ano').sum()\n",
    "butte"
   ]
  },
  {
   "cell_type": "markdown",
   "metadata": {},
   "source": [
    "#### Explicação\n",
    "\n",
    "Vamos explicar esse código:\n",
    "\n",
    "```python\n",
    "butte = df.loc[df.distrito == 'Butte',['ano','casos']].groupby('ano').sum()\n",
    "```\n",
    "\n",
    "Como diria meu amigo, Jack O Estripador, vamos por partes....\n",
    "\n",
    "```python\n",
    "df.loc[df.distrito == 'Butte',['ano','casos']]\n",
    "```\n",
    "\n",
    "`df.loc` recebe dois elementos dentro de seus colchetes. O primeiro (`df.distrito == 'Butte'`) vai filtrar linhas do dataframe. O segundo (`['ano', 'casos']`) vai filtrar colunas.\n",
    "\n",
    "\n",
    "`df.distrito == Butte` me diz: \"vai no dataframe df e olha a coluna distrito. Se o valor da coluna distrito for igual a Butte, pega essa linha\". Em suma, ele me filtra as linhas referentes ao distrito de Butte.\n",
    "\n",
    "Esse foi o primeiro elemento dentro dos colchetes do `.loc`. O segundo elemento filtra as colunas. Esse elemento é uma lista: `['ano', 'casos']`. Ou seja, queremos filtrar as colunas `ano` e `casos`. As demais colunas, pode jogar fora.\n",
    "\n",
    "Vamos ver o código de novo:\n",
    "\n",
    "```python\n",
    "butte = df.loc[df.distrito == 'Butte' ['ano','casos']].groupby('ano').sum()\n",
    "```\n",
    "Explicamos o `.loc`. Note que agora nosso dataframe tem duas colunas: o ano e número de casos naquele ano. Mas como a base original tinha uma linha por semana, existem várias linhas correspondentes ao mesmo ano (uma para cada semana). Queremos somar o número total de casos para cada ano. Por isso, agrupamos por ano (`groupby('ano')`) e somamos (`sum()`) o número de casos."
   ]
  },
  {
   "cell_type": "code",
   "execution_count": 18,
   "metadata": {},
   "outputs": [],
   "source": [
    "assert list(butte.index) == list(range(2006,2020))\n",
    "assert butte.iloc[6][0] == 10\n",
    "assert butte.iloc[9][0] == 53"
   ]
  },
  {
   "cell_type": "markdown",
   "metadata": {},
   "source": [
    "## Questão 8: Arrays\n",
    "\n",
    "Rode o código abaixo."
   ]
  },
  {
   "cell_type": "code",
   "execution_count": 38,
   "metadata": {},
   "outputs": [],
   "source": [
    "np.random.seed(0)"
   ]
  },
  {
   "cell_type": "markdown",
   "metadata": {},
   "source": [
    "Para responder as próximas perguntas, crie um array com 1000 linhas e 5 colunas de números aleatórios. Chame o seu array de `A`."
   ]
  },
  {
   "cell_type": "code",
   "execution_count": 39,
   "metadata": {},
   "outputs": [
    {
     "data": {
      "text/plain": [
       "array([[0.5488135 , 0.71518937, 0.60276338, 0.54488318, 0.4236548 ],\n",
       "       [0.64589411, 0.43758721, 0.891773  , 0.96366276, 0.38344152],\n",
       "       [0.79172504, 0.52889492, 0.56804456, 0.92559664, 0.07103606],\n",
       "       ...,\n",
       "       [0.69804658, 0.48635362, 0.9408649 , 0.06837524, 0.1557967 ],\n",
       "       [0.19456826, 0.22100051, 0.23542762, 0.1528502 , 0.69291755],\n",
       "       [0.21815575, 0.23545348, 0.19738826, 0.39868722, 0.9585931 ]])"
      ]
     },
     "execution_count": 39,
     "metadata": {},
     "output_type": "execute_result"
    }
   ],
   "source": [
    "#==Gabarito== #\n",
    "A = np.random.random((1000,5))\n",
    "A\n",
    "\n",
    "#Explicação\n",
    "# No pacote numpy (np) tem um módulo chamado random, dentro do qual tem uma função chamada random, \n",
    "# que gera um array de números aleatórios. As dimensões desse array são dadas por uma tupla.\n",
    "# No caso, queremos um array com 1000 linhas e 5 colunas. Portanto, passamos para essa função o argumento (1000,5)\n",
    "# No código acima, np é o pacote (numpy), o primeiro random é o módulo, e o segundo random é a função.\n",
    "# (1000, 5) é o argumento dessa função, que é o tamanho do array de números aleatórios que se quer gerar."
   ]
  },
  {
   "cell_type": "markdown",
   "metadata": {},
   "source": [
    "1. Calcule a soma dos termos de cada linha desse array. Salve como o array `A1`"
   ]
  },
  {
   "cell_type": "code",
   "execution_count": 40,
   "metadata": {},
   "outputs": [],
   "source": [
    "#==Gabarito ==#\n",
    "A1 = A.sum(axis=1)\n",
    "\n",
    "#Explicação\n",
    "# A.sum() soma os elementos do array.\n",
    "# axis = 1 faz com que a soma se dê em cada linha. (axis = 0 faria com que a soma se desse em cada coluna)"
   ]
  },
  {
   "cell_type": "markdown",
   "metadata": {},
   "source": [
    "2. Calcule a média dos termos de cada coluna desse array. Salve como o array `A2`."
   ]
  },
  {
   "cell_type": "code",
   "execution_count": 41,
   "metadata": {},
   "outputs": [],
   "source": [
    "A2 = A.mean(axis=0)\n",
    "\n",
    "#Explicação\n",
    "# A.sum() soma os elementos do array.\n",
    "# axis = 0 faz com que a soma se dê em cada coluna. (axis = 1 faria com que a soma se desse em cada linha)"
   ]
  },
  {
   "cell_type": "markdown",
   "metadata": {},
   "source": [
    "3. Pegue a primeira coluna desse array e salve como um array `v`. Em seguida, aplique a função `f` definida a seguir a cada um dos seus elementos. Salve o resultado como o array `A3`."
   ]
  },
  {
   "cell_type": "code",
   "execution_count": 42,
   "metadata": {},
   "outputs": [],
   "source": [
    "def f(x):\n",
    "    return(1/(1+np.exp(-x)))"
   ]
  },
  {
   "cell_type": "code",
   "execution_count": 43,
   "metadata": {},
   "outputs": [],
   "source": [
    "#== Gabarito ==#\n",
    "v = A[:,0]\n",
    "A3 = f(v)\n",
    "\n",
    "#Explicação\n",
    "# A[:,0]. O elemento antes da virgula filtra linhas. O depois da vírgula filtra colunas.\n",
    "# Quando escrevemos A[:,0], o : indica que estamos selecionando todas as linhas. \n",
    "# Já o 0 indica que estamos selecionando a coluna de índice 0,\n",
    "# ou seja, a primeira coluna, já que em Python contamos 0, 1, 2, 3,... a primeira coluna fica na posição 0.\n"
   ]
  },
  {
   "cell_type": "markdown",
   "metadata": {},
   "source": [
    "4. Construa um dicionário chamado `dicionario` com 3 chaves chamadas `A1`, `A2` e `A3` contendo os arrays `A1`, `A2` e `A3 respectivamente.`"
   ]
  },
  {
   "cell_type": "code",
   "execution_count": 44,
   "metadata": {},
   "outputs": [],
   "source": [
    "#== Gabarito ==#\n",
    "dicionario = {'A1': A1,\n",
    "              'A2': A2,\n",
    "              'A3': A3}\n",
    "\n",
    "#Expliação:\n",
    "# Essa é simplesmente a forma de construir um dicionário.\n",
    "# {} indica que estamos criando um dicionário. (se fosse uma lista, usaríamos [], por exemplo.)\n",
    "# 'A1', 'A2' e 'A3' são as chaves do dicionário.\n",
    "# Após cada chave, temos dois pontos (:) e seus valores correspondentes.\n",
    "# No caso, os valores são os próprios arrays, A1, A2 e A3.\n",
    "# Note que as chaves são strings e, por isso, aparecem entre aspas simples. Não são os objetos designados por A1, A2 e A3.\n",
    "# Já os valores são os próprios arrays A1, A2 e A3."
   ]
  },
  {
   "cell_type": "code",
   "execution_count": 45,
   "metadata": {},
   "outputs": [],
   "source": [
    "assert A1.shape == (1000,)\n",
    "assert np.isclose(A1[100], 2.292488620835086)"
   ]
  },
  {
   "cell_type": "code",
   "execution_count": 46,
   "metadata": {},
   "outputs": [],
   "source": [
    "assert A2.shape == (5,)\n",
    "assert np.isclose(A2.std(), 0.008099197912765557)"
   ]
  },
  {
   "cell_type": "code",
   "execution_count": 47,
   "metadata": {},
   "outputs": [],
   "source": [
    "assert A3.shape == (1000,)\n",
    "assert np.isclose(A3[300], 0.6098765471994557)"
   ]
  },
  {
   "cell_type": "code",
   "execution_count": 48,
   "metadata": {},
   "outputs": [],
   "source": [
    "assert np.prod(dicionario['A1'] == A1)\n",
    "assert np.prod(dicionario['A2'] == A2)\n",
    "assert np.prod(dicionario['A3'] == A3)"
   ]
  },
  {
   "cell_type": "code",
   "execution_count": null,
   "metadata": {},
   "outputs": [],
   "source": []
  }
 ],
 "metadata": {
  "kernelspec": {
   "display_name": "Python 3",
   "language": "python",
   "name": "python3"
  },
  "language_info": {
   "codemirror_mode": {
    "name": "ipython",
    "version": 3
   },
   "file_extension": ".py",
   "mimetype": "text/x-python",
   "name": "python",
   "nbconvert_exporter": "python",
   "pygments_lexer": "ipython3",
   "version": "3.8.3"
  }
 },
 "nbformat": 4,
 "nbformat_minor": 4
}
