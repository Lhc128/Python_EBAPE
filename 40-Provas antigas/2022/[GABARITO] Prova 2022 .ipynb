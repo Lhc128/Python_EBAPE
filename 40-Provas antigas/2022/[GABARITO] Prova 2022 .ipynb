{
 "cells": [
  {
   "cell_type": "markdown",
   "id": "f9d9ce62-21e8-4820-87ec-500176f61625",
   "metadata": {},
   "source": [
    "# Prova de Python para Análise de Dados - EPGE - 2022\n",
    "---"
   ]
  },
  {
   "cell_type": "code",
   "execution_count": null,
   "id": "8539047e-8abf-43bf-af03-ae1c8ac6b85e",
   "metadata": {},
   "outputs": [],
   "source": [
    "import warnings\n",
    "warnings.simplefilter(action='ignore', category=FutureWarning)"
   ]
  },
  {
   "cell_type": "markdown",
   "id": "b6ccf2b1-3bd7-453d-9581-31c5127e8e3e",
   "metadata": {},
   "source": [
    "# Questão 1"
   ]
  },
  {
   "cell_type": "markdown",
   "id": "ac07d6d3-2a96-402d-b55f-c33da605dc83",
   "metadata": {},
   "source": [
    "Crie uma função $f$ que receba um número $n$ e retorne\n",
    "\n",
    "$$\n",
    "f(n) = \\sqrt{6\\cdot\\sum_{i=1}^{n} \\frac{1}{i^2}}\n",
    "$$\n",
    "\n",
    "Obs.:\n",
    "1. Assuma que $n$ pode ser tanto um _int_ quanto um _float_ mas nada além disso.\n",
    "2. Sua função deve ser capaz de calcular $f(10^8)$ em menos de 1,5s."
   ]
  },
  {
   "cell_type": "code",
   "execution_count": null,
   "id": "90b23952-099c-4093-a10c-f4f311d5caef",
   "metadata": {},
   "outputs": [],
   "source": [
    "import numpy as np\n",
    "\n",
    "def f(n):\n",
    "    x = np.arange(1,n+1)\n",
    "    x = 1/x**2\n",
    "    return(np.sqrt(6 * x.sum()))"
   ]
  },
  {
   "cell_type": "code",
   "execution_count": null,
   "id": "8ec95735-09ad-42cb-b15b-a4aab3bab883",
   "metadata": {},
   "outputs": [],
   "source": [
    "#Esta célula calcula quanto tempo sua função demora para rodar f(10^8).\n",
    "#Deixe esta célula como a última célula da sua resposta.\n",
    "%timeit f(1e8)"
   ]
  },
  {
   "cell_type": "markdown",
   "id": "ab6fedf5-b9db-4953-95c3-eecbe131573b",
   "metadata": {},
   "source": [
    "# Questão 2"
   ]
  },
  {
   "cell_type": "markdown",
   "id": "21ec73ed-ae57-4474-af64-1e5213149d7f",
   "metadata": {},
   "source": [
    "Importe os dados sobre munocípios brasileiros que você encontra na url abaixo:"
   ]
  },
  {
   "cell_type": "code",
   "execution_count": null,
   "id": "b0b00c0a-aa38-4995-abcb-2417a0b55e52",
   "metadata": {},
   "outputs": [],
   "source": [
    "url = \"https://raw.githubusercontent.com/mapaslivres/municipios-br/main/tabelas/municipios.csv\""
   ]
  },
  {
   "cell_type": "markdown",
   "id": "e3c2a921-b734-4123-a082-ab99bbbb70b0",
   "metadata": {},
   "source": [
    "Você deve importar _apenas_ as colunas `municipio`, e `pop_21`, que são as colunas que iremos usar.\n",
    "\n",
    "A variável `município` é o código IBGE do município. O primeiro dígito dessa variável representa a região do Brasil em que o município se encontra:\n",
    "\n",
    "* 1 é região Norte\n",
    "* 2 é região Nordeste\n",
    "* 3 é região Sudeste\n",
    "* 4 é região Sul\n",
    "* 5 é região Centro-Oeste\n",
    "\n",
    "Com esses dados, construa um dataframe que contenha a população total de cada região do Brasil, em ordem decrescente de população.\n",
    "\n",
    "Esse dataframe deve ser indexado pelas regiões do Brasil, denotadas N, NE, SE, S e CO."
   ]
  },
  {
   "cell_type": "code",
   "execution_count": null,
   "id": "82436168-0a62-4407-8ffb-7b82b40bb900",
   "metadata": {},
   "outputs": [],
   "source": [
    "import pandas as pd"
   ]
  },
  {
   "cell_type": "code",
   "execution_count": null,
   "id": "d874663a-b576-473b-942f-31d48a38ba67",
   "metadata": {},
   "outputs": [],
   "source": [
    "df = pd.read_csv(url, usecols=['municipio','pop_21'])"
   ]
  },
  {
   "cell_type": "code",
   "execution_count": null,
   "id": "1a58de6b-e6e5-4625-b9a8-37b8d6b134cb",
   "metadata": {},
   "outputs": [],
   "source": [
    "df['regiao'] = (df.\n",
    "                municipio.\n",
    "                apply(lambda x: str(x)[0]).\n",
    "                values\n",
    "               )\n",
    "\n",
    "df['regiao'] = df.regiao.replace({'1': 'N', '2':'NE','3':'SE','4':'S','5':'CO'})"
   ]
  },
  {
   "cell_type": "code",
   "execution_count": null,
   "id": "0345e762-046b-4573-9343-886b66a5200d",
   "metadata": {},
   "outputs": [],
   "source": [
    "df[['regiao','pop_21']].groupby('regiao').sum().sort_values('pop_21', ascending=False)"
   ]
  },
  {
   "cell_type": "markdown",
   "id": "8f02635d-6b7e-40c2-8299-a4ee18605745",
   "metadata": {},
   "source": [
    "# Questão 3"
   ]
  },
  {
   "cell_type": "markdown",
   "id": "5bb9bbbc-c2f5-4631-b89f-ff01bcbfaeb7",
   "metadata": {},
   "source": [
    "Instale o pacote `investpy` e utilize a função `get_stock_historical_data` para buscar dados da ação `petr4` desde 01/01/2020 até ontem.\n",
    "\n",
    "Nesta questão, sempre que falarmos no \"preço\" da ação, estamos nos referindo ao preço médio da ação no dia, definido por\n",
    "\n",
    "$$\n",
    "\\frac{Open + High + Low + Close}{4}\n",
    "$$\n",
    "\n",
    "(existem outras definições, mas vamos usar esta, por simplicidade).\n",
    "\n",
    "Além disso, vamos usar o retorno diário, definido como a variaçao percentual do preço médio de um dia para o outro."
   ]
  },
  {
   "cell_type": "markdown",
   "id": "35211f90-c3e5-4d94-9245-c9db7c913f66",
   "metadata": {},
   "source": [
    "## (a)"
   ]
  },
  {
   "cell_type": "markdown",
   "id": "b4b51b8e-8a6b-4559-ad90-f7ec8ce3f007",
   "metadata": {},
   "source": [
    "Faça um gráfico que mostre a evolução do preço da ação ao longo do tempo.  \n",
    "\n",
    "Esse gráfico deve ser interativo, de modo que seja possível colocar o cursor sobre o gráfico e ver a data e o valor da ação naquela data."
   ]
  },
  {
   "cell_type": "code",
   "execution_count": null,
   "id": "1422cc20-70ed-4f0c-812f-8c6089271833",
   "metadata": {},
   "outputs": [],
   "source": [
    "from investpy import get_stock_historical_data \n",
    "df = get_stock_historical_data('petr4', 'brazil', from_date='01/01/2020', to_date='28/7/2022')\n",
    "df['preco_medio'] = (df.Open + df.High + df.Low + df.Close)/4"
   ]
  },
  {
   "cell_type": "code",
   "execution_count": null,
   "id": "f1b63df0-bc6d-4da0-8793-bf44ab758745",
   "metadata": {},
   "outputs": [],
   "source": [
    "df.preco_medio.plot(backend='plotly')"
   ]
  },
  {
   "cell_type": "markdown",
   "id": "10b62c05-161d-498d-a588-8224103c3336",
   "metadata": {},
   "source": [
    "## (b)"
   ]
  },
  {
   "cell_type": "markdown",
   "id": "3db849ca-3562-4ed2-819a-3365b7a2ce15",
   "metadata": {},
   "source": [
    "Faça uma figura contendo 4 gráficos, distribuídos em duas linhas e duas colunas.  \n",
    "\n",
    "Os gráficos devem ser os seguintes:\n",
    "\n",
    "* No canto superior esquerdo, a série de preços. Junto com a série de preços, devemos também ver a média móvel de 50 dias em vermelho.\n",
    "\n",
    "* No canto superior direito, a série de retornos diários da ação. Conforme antecipado anteriormente, o retorno diário consiste na variação percentual do preço da ação de um dia para o outro.\n",
    "\n",
    "* No canto inferior esquerdo, a função de autocorrelação do preço da ação.\n",
    "\n",
    "* No canto inferior direito, a função de autocorrelação parcial do preço da ação."
   ]
  },
  {
   "cell_type": "code",
   "execution_count": null,
   "id": "8189d340-06b8-49d6-b77f-d928734b63d2",
   "metadata": {},
   "outputs": [],
   "source": [
    "import matplotlib.pyplot as plt\n",
    "import statsmodels.api as sm\n",
    "\n",
    "plt.figure(figsize=(20,10))\n",
    "\n",
    "plt.subplot(2,2,1)\n",
    "df.preco_medio.plot()\n",
    "df.preco_medio.rolling(50).mean().plot(c='red', ls='dashed')\n",
    "\n",
    "plt.subplot(2,2,2)\n",
    "df.preco_medio.pct_change().plot()\n",
    "\n",
    "\n",
    "plt.subplot(2,2,3)\n",
    "pd.Series(sm.tsa.acf(df.preco_medio)).plot(kind='bar')\n",
    "\n",
    "plt.subplot(2,2,3)\n",
    "pd.Series(sm.tsa.acf(df.preco_medio)).plot(kind='bar')\n",
    "\n",
    "plt.subplot(2,2,4)\n",
    "pd.Series(sm.tsa.pacf(df.preco_medio)).plot(kind='bar')\n",
    "\n",
    "plt.show()"
   ]
  },
  {
   "cell_type": "markdown",
   "id": "9eff49d8-40c0-4e53-afb6-824a24a42900",
   "metadata": {},
   "source": [
    "## (c)\n",
    "\n",
    "Faça um reste de Shapiro-Wilk para testar a hipótese de que os retornos diários seguem uma distribuição normal. Salve o valor-p desse teste como uma variável chamada `p` e dè um `print` de seu valor.\n",
    "\n",
    "Para fins desse exercício, em caso de dados faltantes, você pode simplesmente retirá-los da série."
   ]
  },
  {
   "cell_type": "code",
   "execution_count": null,
   "id": "5078ecc8-b9f4-4282-b0a5-3d7c0407ce3c",
   "metadata": {},
   "outputs": [],
   "source": [
    "from scipy.stats import shapiro\n",
    "_, p = shapiro(df.preco_medio.pct_change().dropna())\n",
    "print(p)"
   ]
  },
  {
   "cell_type": "markdown",
   "id": "0ca18b63-fb00-4793-9e52-284570b4ff4f",
   "metadata": {
    "tags": []
   },
   "source": [
    "# Questão 4"
   ]
  },
  {
   "cell_type": "markdown",
   "id": "ae9605c0-796c-4a54-910a-b0a9189fdbb6",
   "metadata": {},
   "source": [
    "O link a seguir contém dados a respeito do processo seletivo de uma empresa. As variáveis são as seguintes:\n",
    "\n",
    "* `gender`: O gênero do candidato\n",
    "* `sat`: A nota tirada pelo candidato no exame de SAT.\n",
    "* `gpa`: O C.R. do candidato\n",
    "* `apttest`: A nota que o candidato obteve em um teste de aptidão à vaga\n",
    "* `int1` : A nota dada ao candidato pelo primeiro entrevistador\n",
    "* `int2` : A nota dada ao candidato pelo segundo entrevistador\n",
    "* `int3` : A nota dada ao candidato pelo terceiro entrevistador\n",
    "* `hired`: 1, caso o candidato tenha sido contratado, e 0 caso contrário.\n",
    "\n"
   ]
  },
  {
   "cell_type": "code",
   "execution_count": null,
   "id": "3168f622-a5de-4ec9-81e2-91de62e0415a",
   "metadata": {},
   "outputs": [],
   "source": [
    "url = \"https://peopleanalytics-regression-book.org/data/recruiting.csv\""
   ]
  },
  {
   "cell_type": "markdown",
   "id": "459be946-a96a-4414-ad68-b538e54971c0",
   "metadata": {},
   "source": [
    "## (a) \n",
    "Qual fração dos candidatos são mulheres?  \n",
    "Qual fração dos aprovados são mulheres?"
   ]
  },
  {
   "cell_type": "code",
   "execution_count": null,
   "id": "38042581-2d52-46ad-8818-04105f1d6c91",
   "metadata": {},
   "outputs": [],
   "source": [
    "df = pd.read_csv(url)"
   ]
  },
  {
   "cell_type": "code",
   "execution_count": null,
   "id": "148e4a4f-a341-4395-a468-2d2d8f7cac8b",
   "metadata": {},
   "outputs": [],
   "source": [
    "df.gender.value_counts(normalize=True)"
   ]
  },
  {
   "cell_type": "code",
   "execution_count": null,
   "id": "ceb6658d-d956-492d-8824-8b74711510a1",
   "metadata": {},
   "outputs": [],
   "source": [
    "df[['gender','hired']].replace({'F': 1, 'M': 0}).groupby('hired').mean()"
   ]
  },
  {
   "cell_type": "markdown",
   "id": "e4cbb073-9e98-4874-a041-0a9c05b9c41a",
   "metadata": {},
   "source": [
    "* 51% dos candidatos são mulheres.  \n",
    "* 42% dos aprovados são mulheres."
   ]
  },
  {
   "cell_type": "markdown",
   "id": "2a4635fa-c450-4794-80a8-fa76ae267ce3",
   "metadata": {},
   "source": [
    "## (b)\n",
    "Faça uma regressão logística para explicar a contratação (`hired`) em termos das demais variáveis da base. Use uma abordagem de Estatística clássica, produzindo estimativas para os coeficientes, erros-padrão e p-valores.  \n",
    "\n",
    "Exiba a tabela com os resultados da regressão.\n",
    "\n",
    "Obs.: A regressão deve ter uma única dummy designando gênero e esta deve ser 1 quando o gênero é masculino e 0 caso contrário."
   ]
  },
  {
   "cell_type": "code",
   "execution_count": null,
   "id": "cb29c7dc-e304-4686-bcd5-9d3c48023296",
   "metadata": {},
   "outputs": [],
   "source": [
    "dfreg = pd.get_dummies(df).drop(columns='gender_F')\n",
    "\n",
    "X = dfreg.drop(columns='hired')\n",
    "y = dfreg['hired']\n",
    "X = sm.add_constant(X)\n",
    "\n",
    "lg = sm.Logit(y,X).fit()\n",
    "print(lg.summary())"
   ]
  },
  {
   "cell_type": "markdown",
   "id": "5f17ab2d-1f42-45e2-9e94-d9187a3573f1",
   "metadata": {},
   "source": [
    "# Questão 5"
   ]
  },
  {
   "cell_type": "markdown",
   "id": "f8cd51ee-75ed-4d00-83fb-87dc38b5fbeb",
   "metadata": {},
   "source": [
    "Utilizando os mesmos dados da questão anterior, construa um modelo de Data Science para prever a `hired` a partir das outras variáveis (_features_). \n",
    "\n",
    "Aqui está novamente o link, para facilitar:"
   ]
  },
  {
   "cell_type": "code",
   "execution_count": null,
   "id": "cc144b95-eb38-4c69-b1c7-dbf0e14f791c",
   "metadata": {},
   "outputs": [],
   "source": [
    "url = \"https://peopleanalytics-regression-book.org/data/recruiting.csv\""
   ]
  },
  {
   "cell_type": "markdown",
   "id": "3da90b69-fcc4-4555-bc32-d600ff367e06",
   "metadata": {},
   "source": [
    "Antes de mais nada, normalize as variáveis dividindo-as todas pelos seus valores máximos:\n",
    "* o valor máximo do `sat` é 1600\n",
    "* o valor máximo do `gpa` é 4\n",
    "* o valor máximo do `apttest` é 100\n",
    "* os valores máximos de `int1`, `int2` e `int3` são todos iguais a 5\n",
    "Após a normalização, todas essas variáveis deverão estar contidas no intervalo $[0;1]$.\n",
    "\n",
    "A seguir, cria um dataframe contendo _precision_, _recall_, _f1_, _accuracy_ e _AUC_ para os modelos a seguir. Para facilitar, eu já disponibilizo o código para importá-los:"
   ]
  },
  {
   "cell_type": "code",
   "execution_count": null,
   "id": "3311e2f7-7381-4edb-a219-b89eb624754c",
   "metadata": {},
   "outputs": [],
   "source": [
    "# Modelos\n",
    "from sklearn.dummy import DummyClassifier #dummy\n",
    "from sklearn.linear_model import LogisticRegression #reg_log\n",
    "from sklearn.neighbors import KNeighborsClassifier #KNN\n",
    "from sklearn.tree import DecisionTreeClassifier #arvore_decisao\n",
    "from sklearn.ensemble import RandomForestClassifier #random_forest\n",
    "\n",
    "#Métricas\n",
    "from sklearn.metrics import precision_score, recall_score, f1_score, accuracy_score, roc_curve, roc_auc_score\n",
    "\n",
    "#Utils\n",
    "from sklearn.model_selection import train_test_split"
   ]
  },
  {
   "cell_type": "markdown",
   "id": "f330e3f5-f162-42b0-9da4-bba8cbcab5c3",
   "metadata": {},
   "source": [
    "## (a)\n",
    "Apresente esse dataframe ordenado em ordem decrescente de AUC."
   ]
  },
  {
   "cell_type": "code",
   "execution_count": null,
   "id": "51c319b8-bea8-4edc-8cbf-6dad81141929",
   "metadata": {},
   "outputs": [],
   "source": [
    "df = pd.read_csv(url)\n",
    "\n",
    "df['gender'] = df.gender.replace({'F': 0, 'M': 1})\n",
    "df['sat'] = df.sat/1600\n",
    "df['gpa'] = df.gpa/4\n",
    "df['apttest'] = df.apttest/100\n",
    "df['int1'] = df.int1/5\n",
    "df['int2'] = df.int2/5\n",
    "df['int3'] = df.int3/5\n",
    "\n",
    "df = df.astype('float64')"
   ]
  },
  {
   "cell_type": "code",
   "execution_count": null,
   "id": "c42046b4-f4e1-435c-96c3-defa96ed42d9",
   "metadata": {},
   "outputs": [],
   "source": [
    "modelos = {'dummy': DummyClassifier(),\n",
    "           'logistic': LogisticRegression(),\n",
    "           'KNN': KNeighborsClassifier(),\n",
    "           'tree': DecisionTreeClassifier(),\n",
    "           'rf': RandomForestClassifier()\n",
    "          }\n",
    "\n",
    "\n",
    "resultados = pd.DataFrame([], index = modelos.keys(), columns=['precision','recall','f1','accuracy','auc'])"
   ]
  },
  {
   "cell_type": "code",
   "execution_count": null,
   "id": "dbbfea94-aca8-4e47-81fb-6aa960a8e674",
   "metadata": {},
   "outputs": [],
   "source": [
    "X = df.drop(columns='hired')\n",
    "y = df.hired"
   ]
  },
  {
   "cell_type": "code",
   "execution_count": null,
   "id": "37e2e7f1-d62e-4dc4-b395-ab7719463027",
   "metadata": {},
   "outputs": [],
   "source": [
    "Xtrn, Xtst ,ytrn,  ytst = train_test_split(X,y)"
   ]
  },
  {
   "cell_type": "code",
   "execution_count": null,
   "id": "e14a7548-b09d-4b0e-a47f-cd842f78dc33",
   "metadata": {},
   "outputs": [],
   "source": [
    "plt.figure(figsize=(10,10))\n",
    "\n",
    "for nome, modelo in modelos.items():\n",
    "    modelo.fit(Xtrn,ytrn)\n",
    "    ypred = modelo.predict(Xtst)\n",
    "    ppred = modelo.predict_proba(Xtst)[:,1]\n",
    "    \n",
    "\n",
    "    \n",
    "    precision = precision_score(ytst, ypred)\n",
    "    recall = recall_score(ytst, ypred)\n",
    "    f1 = f1_score(ytst, ypred)\n",
    "    accuracy = accuracy_score(ytst, ypred)\n",
    "    auc = roc_auc_score(ytst, ppred)\n",
    "    \n",
    "    resultados.loc[nome,:] = precision, recall, f1, accuracy, auc\n",
    "    \n",
    "    fpr, tpr, _ = roc_curve(ytst, ppred)\n",
    "    plt.plot(fpr, tpr, label=f'{nome} ({auc:.2f})')\n",
    "    \n",
    "    modelos[nome] = modelo\n",
    "\n",
    "plt.title('Curvas ROC')\n",
    "plt.xlabel('False Positive Rate')\n",
    "plt.ylabel('True Positive Rate')\n",
    "plt.plot([0,1],[0,1], c='gray', linestyle='dashed', label='aleatório')\n",
    "plt.legend()\n",
    "plt.axis('square')\n",
    "plt.show()"
   ]
  },
  {
   "cell_type": "code",
   "execution_count": null,
   "id": "ff0790fb-caca-417e-b6e4-19e4e5ae114d",
   "metadata": {},
   "outputs": [],
   "source": [
    "resultados.sort_values('auc', ascending=False)"
   ]
  },
  {
   "cell_type": "markdown",
   "id": "d7fd32bf-11fb-45d9-a71f-c9523c6c98a6",
   "metadata": {},
   "source": [
    "## (b)\n",
    "Apresente as curvas ROC de cada modelo em um único gráfico. O gráfico deve ter:\n",
    "\n",
    "* Título: \"Curvas ROC\"\n",
    "* Nome do eixo x: \"Taxa de falsos positivos\"\n",
    "* Nome do eixo y: \"Taxa de verdadeiros positivos\"\n",
    "* Tamanho 10 x 10\n",
    "* Legenda, indicando qual curva corresponde a qual modelo, com os valores dos respectivos AUC entre parêntesis. (Por exemplo, \"dummy (0.54)\")\n",
    "* Uma reta cinza tracejada entre os pontos (0,0) e (1,1) e legenda \"aleatório\"\n",
    "\n",
    "Você pode responder essa pergunta juntamente com a anterior, se preferir."
   ]
  },
  {
   "cell_type": "markdown",
   "id": "f50ad2df-a153-47c3-9182-33441b7d5007",
   "metadata": {},
   "source": [
    "## (c)\n",
    "\n",
    "Salve o modelo com o melhor AUC em um arquivo. Em seguida, importe o modelo deste arquivo com um nome diferente do nome do seu modelo inicial. "
   ]
  },
  {
   "cell_type": "code",
   "execution_count": null,
   "id": "79ef986c-e4b3-4eb0-a95a-5679c551f672",
   "metadata": {},
   "outputs": [],
   "source": [
    "import pickle"
   ]
  },
  {
   "cell_type": "code",
   "execution_count": null,
   "id": "b419a497-a0a9-498f-9fe9-b393b69ce145",
   "metadata": {},
   "outputs": [],
   "source": [
    "pickle.dump(modelos['rf'], open('meu_modelo.pkl','wb'))"
   ]
  },
  {
   "cell_type": "code",
   "execution_count": null,
   "id": "b52f7b2b-f6d2-472c-aef0-3c219a224de3",
   "metadata": {},
   "outputs": [],
   "source": [
    "minha_rf = pickle.load(open('meu_modelo.pkl','rb'))"
   ]
  },
  {
   "cell_type": "code",
   "execution_count": null,
   "id": "11737ba0-bbcf-409b-8869-c7c49cf8a6a0",
   "metadata": {},
   "outputs": [],
   "source": [
    "minha_rf"
   ]
  },
  {
   "cell_type": "code",
   "execution_count": null,
   "id": "90071b4e-dd45-423a-a363-0ca73255ffa4",
   "metadata": {},
   "outputs": [],
   "source": []
  }
 ],
 "metadata": {
  "kernelspec": {
   "display_name": "Python 3 (ipykernel)",
   "language": "python",
   "name": "python3"
  },
  "language_info": {
   "codemirror_mode": {
    "name": "ipython",
    "version": 3
   },
   "file_extension": ".py",
   "mimetype": "text/x-python",
   "name": "python",
   "nbconvert_exporter": "python",
   "pygments_lexer": "ipython3",
   "version": "3.9.12"
  }
 },
 "nbformat": 4,
 "nbformat_minor": 5
}
