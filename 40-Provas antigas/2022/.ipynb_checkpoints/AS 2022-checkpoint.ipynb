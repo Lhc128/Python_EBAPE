{
 "cells": [
  {
   "cell_type": "markdown",
   "id": "9059cb36-0b28-49ec-b073-5b736e3bc950",
   "metadata": {
    "id": "f9d9ce62-21e8-4820-87ec-500176f61625"
   },
   "source": [
    "# Prova de Python para Análise de Dados - EPGE - 2022\n",
    "---"
   ]
  },
  {
   "cell_type": "code",
   "execution_count": 8,
   "id": "f241eee4-c3f6-4bea-abd6-64481c67f958",
   "metadata": {
    "id": "8539047e-8abf-43bf-af03-ae1c8ac6b85e"
   },
   "outputs": [],
   "source": [
    "import pandas as pd\n",
    "import numpy as np\n",
    "import matplotlib.pyplot as plt\n",
    "import warnings\n",
    "warnings.simplefilter(action='ignore', category=FutureWarning)"
   ]
  },
  {
   "cell_type": "markdown",
   "id": "728552f1-45c3-47c9-ac40-88fd8b84351a",
   "metadata": {},
   "source": [
    "# Questão 1"
   ]
  },
  {
   "cell_type": "markdown",
   "id": "774bec2a-93d0-4ca2-b323-510301b84af8",
   "metadata": {},
   "source": [
    "A sequência de Collatz é muito bonitinha. Ela recebe um número $n$ inteiro e devolve outro, calculado da seguinte maneira:\n",
    "\n",
    "* se $n$ for par, ela devolve $\\frac{n}{2}$\n",
    "* se $n$ for impar, ela devolve $3n + 1$\n",
    "\n",
    "Aparentemente, se você ficar repetindo esses passos várias vezes, você sempre chega a 1, independente do número do qual você começou. Sim, isso é estranho. E ninguém sabe o porquê.\n",
    "\n",
    "#### (a)\n",
    "\n",
    "Crie uma função chamada `collatz` que receba um número $n$ e devolva o próximo termo da sequência de Collatz, dada pela regra acima."
   ]
  },
  {
   "cell_type": "code",
   "execution_count": 9,
   "id": "e528b906-02b7-4e3d-b926-fd7ed1751e48",
   "metadata": {},
   "outputs": [],
   "source": []
  },
  {
   "cell_type": "markdown",
   "id": "eb41cfbd-62b2-49c6-bdd7-54447b73fb24",
   "metadata": {},
   "source": [
    "#### (b)\n",
    "\n",
    "Faça uma função chamada `seq_collatz` que, a partir de um número $n$, devolva uma lista com todos os termos da sequência de Collatz até que o número 1 seja atingido. O número original e o 1 devem ser incluídos na lista.\n",
    "\n",
    "Para verificar, note que a sequência do número 15 é 15, 46, 23, 70, 35, 106, 53, 160, 80, 40, 20, 10, 5, 16, 8, 4, 2, 1.\n",
    " \n",
    "\n"
   ]
  },
  {
   "cell_type": "code",
   "execution_count": 10,
   "id": "e6afc346-6078-4b3b-9512-e2e94e9a3cbc",
   "metadata": {},
   "outputs": [],
   "source": []
  },
  {
   "cell_type": "markdown",
   "id": "d1406a02-5d37-4ec6-8294-e141d91a01b8",
   "metadata": {},
   "source": [
    "# Questão 2\n",
    "\n",
    "Este [link](https://gist.githubusercontent.com/zhonglism/f146a9423e2c975de8d03c26451f841e/raw/f79e190df4225caed58bf360d8e20a9fa872b4ac/vgsales.csv) tem dados sobre vendas de videogames.\n",
    "\n",
    "#### (a)\n",
    "Importe esses dados como um dataframe chamado `vg` (de \"videogame\") onde a coluna `Rank` é o índice de linha. Mostre as primeiras 15 linhas desse dataframe."
   ]
  },
  {
   "cell_type": "code",
   "execution_count": 1,
   "id": "cfddb117-00d0-45b2-bdcf-497b59205311",
   "metadata": {},
   "outputs": [],
   "source": [
    "url = 'https://gist.githubusercontent.com/zhonglism/f146a9423e2c975de8d03c26451f841e/raw/f79e190df4225caed58bf360d8e20a9fa872b4ac/vgsales.csv'"
   ]
  },
  {
   "cell_type": "code",
   "execution_count": null,
   "id": "5cf72083-e41d-4c32-972b-74dd5c06121f",
   "metadata": {},
   "outputs": [],
   "source": []
  },
  {
   "cell_type": "markdown",
   "id": "0ddd858b-9567-4a09-b883-8965989825d9",
   "metadata": {},
   "source": [
    "#### (b)\n",
    "Mude o nome das colunas do dataframe para:\n",
    "\n",
    "* Jogo\n",
    "* Plataforma\n",
    "* Ano\n",
    "* Tipo\n",
    "* Empresa\n",
    "* Vendas_AN\n",
    "* Vendas_EU\n",
    "* Vendas_JP\n",
    "* Vendas_Outros\n",
    "* Vendas_Global"
   ]
  },
  {
   "cell_type": "code",
   "execution_count": 13,
   "id": "ea7dd21a-58f7-45c4-949f-ce1bd516bba9",
   "metadata": {},
   "outputs": [],
   "source": []
  },
  {
   "cell_type": "markdown",
   "id": "605b751a-f7b4-47d7-860e-2725fd6bf6c9",
   "metadata": {},
   "source": [
    "#### (c)\n",
    "Crie um dataframe chamado `vg2000` contendo apenas os videogueimes lançados do ano 2000 em diante."
   ]
  },
  {
   "cell_type": "code",
   "execution_count": 14,
   "id": "446861e2-ccbe-4143-ba69-db757ed14104",
   "metadata": {},
   "outputs": [],
   "source": []
  },
  {
   "cell_type": "markdown",
   "id": "82a74fa3-0852-4c82-aaaa-6d2264b74120",
   "metadata": {},
   "source": [
    "#### (d)\n",
    "Considerando apenas os videogames lançados do ano 2000 em diante, calcule o total de vendas por empresa em cada região (América do Norte, Europa, Japão, Outros e Global). Salve esse dataframe com o nome `vg2000_empresas`. "
   ]
  },
  {
   "cell_type": "code",
   "execution_count": 15,
   "id": "9873263e-e598-4efb-afe9-519d3bbd34d9",
   "metadata": {},
   "outputs": [],
   "source": []
  },
  {
   "cell_type": "markdown",
   "id": "87b9ac29-533c-4db6-af05-a39512e2dcc0",
   "metadata": {},
   "source": [
    "#### (e)\n",
    "Ordene esse dataframe em ordem decrescente de vendas globais (isso é, a primeira linha deve ter a empresa com o maior valor de vendas globais). Salve esse dataframe com o nome `vg2000_empresas_ord` e mostre a empresa que ocupa o topo do ranking de vendas globais."
   ]
  },
  {
   "cell_type": "code",
   "execution_count": null,
   "id": "ea13436d-43fa-4601-8723-0d72c17290b0",
   "metadata": {},
   "outputs": [],
   "source": []
  },
  {
   "cell_type": "code",
   "execution_count": 17,
   "id": "cd6a0944-de6e-49bf-8cdd-3db6f5c16d79",
   "metadata": {},
   "outputs": [],
   "source": [
    "#1\n",
    "assert len(list(vg.index)) == 16598"
   ]
  },
  {
   "cell_type": "code",
   "execution_count": 18,
   "id": "045673a5-866d-4c27-a72d-334eb7832d46",
   "metadata": {},
   "outputs": [],
   "source": [
    "#2\n",
    "assert vg.columns[2] == 'Ano'\n",
    "assert vg.columns[4] == 'Empresa'"
   ]
  },
  {
   "cell_type": "code",
   "execution_count": 19,
   "id": "6b6b85b6-b141-4962-9279-12bc990bb8f3",
   "metadata": {},
   "outputs": [],
   "source": [
    "#3\n",
    "assert min(vg2000.Ano) == 2000\n",
    "assert len(vg2000) == 14353"
   ]
  },
  {
   "cell_type": "code",
   "execution_count": 20,
   "id": "5ee556e8-36d0-4226-b1e3-8cdb632f8dc9",
   "metadata": {},
   "outputs": [],
   "source": [
    "#4\n",
    "assert vg2000_empresas.shape == (457,5)\n",
    "assert list(vg2000_empresas.columns) == ['Vendas_AN', 'Vendas_EU', 'Vendas_JP', 'Vendas_Outros','Vendas_Global']"
   ]
  },
  {
   "cell_type": "code",
   "execution_count": 21,
   "id": "dc41c80f-c35f-45e7-9f53-c1c6048cb42e",
   "metadata": {},
   "outputs": [],
   "source": [
    "#5\n",
    "assert vg2000_empresas_ord.tail(1).index[0] == 'Rain Games'\n",
    "assert vg2000_empresas_ord.tail().index[0] == 'Stainless Games'\n",
    "assert np.isclose(vg2000_empresas_ord.Vendas_AN[4], 190.23)"
   ]
  }
 ],
 "metadata": {
  "kernelspec": {
   "display_name": "Python 3 (ipykernel)",
   "language": "python",
   "name": "python3"
  },
  "language_info": {
   "codemirror_mode": {
    "name": "ipython",
    "version": 3
   },
   "file_extension": ".py",
   "mimetype": "text/x-python",
   "name": "python",
   "nbconvert_exporter": "python",
   "pygments_lexer": "ipython3",
   "version": "3.9.12"
  }
 },
 "nbformat": 4,
 "nbformat_minor": 5
}
