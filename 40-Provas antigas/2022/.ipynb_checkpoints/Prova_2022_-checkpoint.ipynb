{
  "cells": [
    {
      "cell_type": "markdown",
      "id": "f9d9ce62-21e8-4820-87ec-500176f61625",
      "metadata": {
        "id": "f9d9ce62-21e8-4820-87ec-500176f61625"
      },
      "source": [
        "# Prova de Python para Análise de Dados - EPGE - 2022\n",
        "---"
      ]
    },
    {
      "cell_type": "code",
      "execution_count": 1,
      "id": "8539047e-8abf-43bf-af03-ae1c8ac6b85e",
      "metadata": {
        "id": "8539047e-8abf-43bf-af03-ae1c8ac6b85e"
      },
      "outputs": [],
      "source": [
        "import warnings\n",
        "warnings.simplefilter(action='ignore', category=FutureWarning)"
      ]
    },
    {
      "cell_type": "markdown",
      "id": "b6ccf2b1-3bd7-453d-9581-31c5127e8e3e",
      "metadata": {
        "id": "b6ccf2b1-3bd7-453d-9581-31c5127e8e3e"
      },
      "source": [
        "# Questão 1"
      ]
    },
    {
      "cell_type": "markdown",
      "id": "ac07d6d3-2a96-402d-b55f-c33da605dc83",
      "metadata": {
        "id": "ac07d6d3-2a96-402d-b55f-c33da605dc83"
      },
      "source": [
        "Crie uma função $f$ que receba um número $n$ e retorne\n",
        "\n",
        "$$\n",
        "f(n) = \\sqrt{6\\cdot\\sum_{i=1}^{n} \\frac{1}{i^2}}\n",
        "$$\n",
        "\n",
        "Obs.:\n",
        "1. Assuma que $n$ pode ser tanto um _int_ quanto um _float_ mas nada além disso.\n",
        "2. Sua função deve ser capaz de calcular $f(10^8)$ em menos de 1,5s.\n",
        "3. Para checar se sua função está correta, você pode utilizar o seguinte fato: \n",
        "$$\n",
        "\\lim_{n\\rightarrow +\\infty} f(n)=\\pi\n",
        "$$\n",
        "Assim, por exemplo, $f(10^8)$ deve ser bem próximo de 3.1415926..."
      ]
    },
    {
      "cell_type": "code",
      "execution_count": 37,
      "id": "90b23952-099c-4093-a10c-f4f311d5caef",
      "metadata": {
        "id": "90b23952-099c-4093-a10c-f4f311d5caef"
      },
      "outputs": [],
      "source": []
    },
    {
      "cell_type": "code",
      "execution_count": 34,
      "id": "8ec95735-09ad-42cb-b15b-a4aab3bab883",
      "metadata": {
        "colab": {
          "base_uri": "https://localhost:8080/"
        },
        "id": "8ec95735-09ad-42cb-b15b-a4aab3bab883",
        "outputId": "084f0300-e267-4654-9a8a-81a7f342955e"
      },
      "outputs": [
        {
          "output_type": "stream",
          "name": "stdout",
          "text": [
            "340 ms ± 6.99 ms per loop (mean ± std. dev. of 7 runs, 1 loop each)\n"
          ]
        }
      ],
      "source": [
        "#Esta célula calcula quanto tempo sua função demora para rodar f(10^8).\n",
        "#Deixe esta célula como a última célula da sua resposta.\n",
        "%timeit f(1e8)"
      ]
    },
    {
      "cell_type": "markdown",
      "id": "ab6fedf5-b9db-4953-95c3-eecbe131573b",
      "metadata": {
        "id": "ab6fedf5-b9db-4953-95c3-eecbe131573b"
      },
      "source": [
        "# Questão 2"
      ]
    },
    {
      "cell_type": "markdown",
      "id": "21ec73ed-ae57-4474-af64-1e5213149d7f",
      "metadata": {
        "id": "21ec73ed-ae57-4474-af64-1e5213149d7f"
      },
      "source": [
        "Importe os dados sobre munocípios brasileiros que você encontra na url abaixo:"
      ]
    },
    {
      "cell_type": "code",
      "execution_count": 4,
      "id": "b0b00c0a-aa38-4995-abcb-2417a0b55e52",
      "metadata": {
        "id": "b0b00c0a-aa38-4995-abcb-2417a0b55e52"
      },
      "outputs": [],
      "source": [
        "url = \"https://raw.githubusercontent.com/mapaslivres/municipios-br/main/tabelas/municipios.csv\""
      ]
    },
    {
      "cell_type": "markdown",
      "id": "e3c2a921-b734-4123-a082-ab99bbbb70b0",
      "metadata": {
        "id": "e3c2a921-b734-4123-a082-ab99bbbb70b0"
      },
      "source": [
        "Você deve importar _apenas_ as colunas `municipio`, e `pop_21`, que são as colunas que iremos usar.\n",
        "\n",
        "A variável `município` é o código IBGE do município. O primeiro dígito dessa variável representa a região do Brasil em que o município se encontra:\n",
        "\n",
        "* 1 é região Norte\n",
        "* 2 é região Nordeste\n",
        "* 3 é região Sudeste\n",
        "* 4 é região Sul\n",
        "* 5 é região Centro-Oeste\n",
        "\n",
        "Com esses dados, construa um dataframe que contenha a população total de cada região do Brasil, em ordem decrescente de população.\n",
        "\n",
        "Esse dataframe deve ser indexado pelas regiões do Brasil, denotadas N, NE, SE, S e CO."
      ]
    },
    {
      "cell_type": "code",
      "execution_count": 5,
      "id": "82436168-0a62-4407-8ffb-7b82b40bb900",
      "metadata": {
        "id": "82436168-0a62-4407-8ffb-7b82b40bb900"
      },
      "outputs": [],
      "source": []
    },
    {
      "cell_type": "markdown",
      "id": "0ca18b63-fb00-4793-9e52-284570b4ff4f",
      "metadata": {
        "tags": [],
        "id": "0ca18b63-fb00-4793-9e52-284570b4ff4f"
      },
      "source": [
        "# Questão 3"
      ]
    },
    {
      "cell_type": "markdown",
      "id": "ae9605c0-796c-4a54-910a-b0a9189fdbb6",
      "metadata": {
        "id": "ae9605c0-796c-4a54-910a-b0a9189fdbb6"
      },
      "source": [
        "O link a seguir contém dados a respeito do processo seletivo de uma empresa. As variáveis são as seguintes:\n",
        "\n",
        "* `gender`: O gênero do candidato\n",
        "* `sat`: A nota tirada pelo candidato no exame de SAT.\n",
        "* `gpa`: O C.R. do candidato\n",
        "* `apttest`: A nota que o candidato obteve em um teste de aptidão à vaga\n",
        "* `int1` : A nota dada ao candidato pelo primeiro entrevistador\n",
        "* `int2` : A nota dada ao candidato pelo segundo entrevistador\n",
        "* `int3` : A nota dada ao candidato pelo terceiro entrevistador\n",
        "* `hired`: 1, caso o candidato tenha sido contratado, e 0 caso contrário.\n",
        "\n"
      ]
    },
    {
      "cell_type": "code",
      "execution_count": 11,
      "id": "3168f622-a5de-4ec9-81e2-91de62e0415a",
      "metadata": {
        "id": "3168f622-a5de-4ec9-81e2-91de62e0415a"
      },
      "outputs": [],
      "source": [
        "url = \"https://peopleanalytics-regression-book.org/data/recruiting.csv\""
      ]
    },
    {
      "cell_type": "markdown",
      "id": "459be946-a96a-4414-ad68-b538e54971c0",
      "metadata": {
        "id": "459be946-a96a-4414-ad68-b538e54971c0"
      },
      "source": [
        "## (a) \n",
        "Qual fração dos candidatos são mulheres?  \n",
        "Qual fração dos aprovados são mulheres?"
      ]
    },
    {
      "cell_type": "code",
      "execution_count": 12,
      "id": "38042581-2d52-46ad-8818-04105f1d6c91",
      "metadata": {
        "id": "38042581-2d52-46ad-8818-04105f1d6c91"
      },
      "outputs": [],
      "source": []
    },
    {
      "cell_type": "markdown",
      "id": "2a4635fa-c450-4794-80a8-fa76ae267ce3",
      "metadata": {
        "id": "2a4635fa-c450-4794-80a8-fa76ae267ce3"
      },
      "source": [
        "## (b)\n",
        "Faça uma regressão logística para explicar a contratação (`hired`) em termos das demais variáveis da base. Use uma abordagem de Estatística clássica, produzindo estimativas para os coeficientes, erros-padrão e p-valores.  \n",
        "\n",
        "Exiba a tabela com os resultados da regressão.\n",
        "\n",
        "Obs.: A regressão deve ter uma única dummy designando gênero e esta deve ser 1 quando o gênero é masculino e 0 caso contrário."
      ]
    },
    {
      "cell_type": "code",
      "source": [],
      "metadata": {
        "id": "27DRlALw1yc1"
      },
      "id": "27DRlALw1yc1",
      "execution_count": 17,
      "outputs": []
    },
    {
      "cell_type": "markdown",
      "id": "5f17ab2d-1f42-45e2-9e94-d9187a3573f1",
      "metadata": {
        "id": "5f17ab2d-1f42-45e2-9e94-d9187a3573f1"
      },
      "source": [
        "# Questão 5"
      ]
    },
    {
      "cell_type": "markdown",
      "id": "f8cd51ee-75ed-4d00-83fb-87dc38b5fbeb",
      "metadata": {
        "id": "f8cd51ee-75ed-4d00-83fb-87dc38b5fbeb"
      },
      "source": [
        "Utilizando os mesmos dados da questão anterior, construa um modelo de Data Science para prever a `hired` a partir das outras variáveis (_features_). \n",
        "\n",
        "Aqui está novamente o link, para facilitar:"
      ]
    },
    {
      "cell_type": "code",
      "execution_count": 19,
      "id": "cc144b95-eb38-4c69-b1c7-dbf0e14f791c",
      "metadata": {
        "id": "cc144b95-eb38-4c69-b1c7-dbf0e14f791c"
      },
      "outputs": [],
      "source": [
        "url = \"https://peopleanalytics-regression-book.org/data/recruiting.csv\""
      ]
    },
    {
      "cell_type": "markdown",
      "id": "3da90b69-fcc4-4555-bc32-d600ff367e06",
      "metadata": {
        "id": "3da90b69-fcc4-4555-bc32-d600ff367e06"
      },
      "source": [
        "Antes de mais nada, normalize as variáveis dividindo-as todas pelos seus valores máximos:\n",
        "* o valor máximo do `sat` é 1600\n",
        "* o valor máximo do `gpa` é 4\n",
        "* o valor máximo do `apttest` é 100\n",
        "* os valores máximos de `int1`, `int2` e `int3` são todos iguais a 5  \n",
        "\n",
        "Após a normalização, todas essas variáveis deverão estar contidas no intervalo $[0;1]$.\n",
        "\n",
        "A seguir, cria um dataframe contendo _precision_, _recall_, _f1_, _accuracy_ e _AUC_ para os modelos a seguir. Para facilitar, eu já disponibilizo o código para importá-los:"
      ]
    },
    {
      "cell_type": "code",
      "execution_count": 26,
      "id": "3311e2f7-7381-4edb-a219-b89eb624754c",
      "metadata": {
        "id": "3311e2f7-7381-4edb-a219-b89eb624754c"
      },
      "outputs": [],
      "source": [
        "# Modelos\n",
        "from sklearn.dummy import DummyClassifier #dummy\n",
        "from sklearn.linear_model import LogisticRegression #reg_log\n",
        "from sklearn.neighbors import KNeighborsClassifier #KNN\n",
        "from sklearn.tree import DecisionTreeClassifier #arvore_decisao\n",
        "from sklearn.ensemble import RandomForestClassifier #random_forest\n",
        "\n",
        "#Métricas\n",
        "from sklearn.metrics import precision_score, recall_score, f1_score, accuracy_score, roc_curve, roc_auc_score\n",
        "\n",
        "#Utils\n",
        "from sklearn.model_selection import train_test_split\n",
        "import matplotlib.pyplot as plt"
      ]
    },
    {
      "cell_type": "markdown",
      "id": "f330e3f5-f162-42b0-9da4-bba8cbcab5c3",
      "metadata": {
        "id": "f330e3f5-f162-42b0-9da4-bba8cbcab5c3"
      },
      "source": [
        "## (a)\n",
        "Apresente esse dataframe ordenado em ordem decrescente de AUC."
      ]
    },
    {
      "cell_type": "code",
      "execution_count": 27,
      "id": "51c319b8-bea8-4edc-8cbf-6dad81141929",
      "metadata": {
        "id": "51c319b8-bea8-4edc-8cbf-6dad81141929"
      },
      "outputs": [],
      "source": []
    },
    {
      "cell_type": "markdown",
      "id": "d7fd32bf-11fb-45d9-a71f-c9523c6c98a6",
      "metadata": {
        "id": "d7fd32bf-11fb-45d9-a71f-c9523c6c98a6"
      },
      "source": [
        "## (b)\n",
        "Apresente as curvas ROC de cada modelo em um único gráfico. O gráfico deve ter:\n",
        "\n",
        "* Título: \"Curvas ROC\"\n",
        "* Nome do eixo x: \"Taxa de falsos positivos\"\n",
        "* Nome do eixo y: \"Taxa de verdadeiros positivos\"\n",
        "* Tamanho 10 x 10\n",
        "* Legenda, indicando qual curva corresponde a qual modelo, com os valores dos respectivos AUC entre parêntesis. (Por exemplo, \"dummy (0.54)\")\n",
        "* Uma reta cinza tracejada entre os pontos (0,0) e (1,1) e legenda \"aleatório\"\n",
        "\n",
        "Você pode responder essa pergunta juntamente com a anterior, se preferir."
      ]
    },
    {
      "cell_type": "markdown",
      "id": "f50ad2df-a153-47c3-9182-33441b7d5007",
      "metadata": {
        "id": "f50ad2df-a153-47c3-9182-33441b7d5007"
      },
      "source": [
        "## (c)\n",
        "\n",
        "Salve o modelo com o melhor AUC em um arquivo. Em seguida, importe o modelo deste arquivo com um nome diferente do nome do seu modelo inicial. "
      ]
    },
    {
      "cell_type": "code",
      "execution_count": null,
      "id": "79ef986c-e4b3-4eb0-a95a-5679c551f672",
      "metadata": {
        "id": "79ef986c-e4b3-4eb0-a95a-5679c551f672"
      },
      "outputs": [],
      "source": []
    }
  ],
  "metadata": {
    "kernelspec": {
      "display_name": "Python 3 (ipykernel)",
      "language": "python",
      "name": "python3"
    },
    "language_info": {
      "codemirror_mode": {
        "name": "ipython",
        "version": 3
      },
      "file_extension": ".py",
      "mimetype": "text/x-python",
      "name": "python",
      "nbconvert_exporter": "python",
      "pygments_lexer": "ipython3",
      "version": "3.8.5"
    },
    "colab": {
      "provenance": [],
      "collapsed_sections": [
        "d7fd32bf-11fb-45d9-a71f-c9523c6c98a6"
      ]
    }
  },
  "nbformat": 4,
  "nbformat_minor": 5
}