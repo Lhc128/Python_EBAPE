{
 "cells": [
  {
   "cell_type": "markdown",
   "id": "f9d9ce62-21e8-4820-87ec-500176f61625",
   "metadata": {
    "id": "f9d9ce62-21e8-4820-87ec-500176f61625"
   },
   "source": [
    "# Prova de Python para Análise de Dados - EPGE - 2022\n",
    "---"
   ]
  },
  {
   "cell_type": "code",
   "execution_count": 1,
   "id": "8539047e-8abf-43bf-af03-ae1c8ac6b85e",
   "metadata": {
    "id": "8539047e-8abf-43bf-af03-ae1c8ac6b85e"
   },
   "outputs": [],
   "source": [
    "import warnings\n",
    "warnings.simplefilter(action='ignore', category=FutureWarning)"
   ]
  },
  {
   "cell_type": "markdown",
   "id": "b6ccf2b1-3bd7-453d-9581-31c5127e8e3e",
   "metadata": {
    "id": "b6ccf2b1-3bd7-453d-9581-31c5127e8e3e"
   },
   "source": [
    "# Questão 1"
   ]
  },
  {
   "cell_type": "markdown",
   "id": "ac07d6d3-2a96-402d-b55f-c33da605dc83",
   "metadata": {
    "id": "ac07d6d3-2a96-402d-b55f-c33da605dc83"
   },
   "source": [
    "Crie uma função $f$ que receba um número $n$ e retorne\n",
    "\n",
    "$$\n",
    "f(n) = \\sqrt{6\\cdot\\sum_{i=1}^{n} \\frac{1}{i^2}}\n",
    "$$\n",
    "\n",
    "Obs.:\n",
    "1. Assuma que $n$ pode ser tanto um _int_ quanto um _float_ mas nada além disso.\n",
    "2. Sua função deve ser capaz de calcular $f(10^8)$ em menos de 1,5s.\n",
    "3. Para checar se sua função está correta, você pode utilizar o seguinte fato: \n",
    "$$\n",
    "\\lim_{n\\rightarrow +\\infty} f(n)=\\pi\n",
    "$$\n",
    "Assim, por exemplo, $f(10^8)$ deve ser bem próximo de 3.1415926..."
   ]
  },
  {
   "cell_type": "code",
   "execution_count": 36,
   "id": "90b23952-099c-4093-a10c-f4f311d5caef",
   "metadata": {
    "id": "90b23952-099c-4093-a10c-f4f311d5caef"
   },
   "outputs": [],
   "source": [
    "import numpy as np\n",
    "\n",
    "def f(n):\n",
    "    x = np.arange(1,n+1)\n",
    "    x = 1/x**2\n",
    "    return(np.sqrt(6 * x.sum()))"
   ]
  },
  {
   "cell_type": "code",
   "execution_count": 33,
   "id": "DMmayZKe3p3R",
   "metadata": {
    "colab": {
     "base_uri": "https://localhost:8080/"
    },
    "id": "DMmayZKe3p3R",
    "outputId": "64805c3e-c507-46f2-9b23-43a3f6f9b32d"
   },
   "outputs": [
    {
     "data": {
      "text/plain": [
       "3.14159264404049"
      ]
     },
     "execution_count": 33,
     "metadata": {},
     "output_type": "execute_result"
    }
   ],
   "source": [
    "f(1e8)"
   ]
  },
  {
   "cell_type": "code",
   "execution_count": 34,
   "id": "8ec95735-09ad-42cb-b15b-a4aab3bab883",
   "metadata": {
    "colab": {
     "base_uri": "https://localhost:8080/"
    },
    "id": "8ec95735-09ad-42cb-b15b-a4aab3bab883",
    "outputId": "084f0300-e267-4654-9a8a-81a7f342955e"
   },
   "outputs": [
    {
     "name": "stdout",
     "output_type": "stream",
     "text": [
      "340 ms ± 6.99 ms per loop (mean ± std. dev. of 7 runs, 1 loop each)\n"
     ]
    }
   ],
   "source": [
    "#Esta célula calcula quanto tempo sua função demora para rodar f(10^8).\n",
    "#Deixe esta célula como a última célula da sua resposta.\n",
    "%timeit f(1e8)"
   ]
  },
  {
   "cell_type": "markdown",
   "id": "ab6fedf5-b9db-4953-95c3-eecbe131573b",
   "metadata": {
    "id": "ab6fedf5-b9db-4953-95c3-eecbe131573b"
   },
   "source": [
    "# Questão 2"
   ]
  },
  {
   "cell_type": "markdown",
   "id": "21ec73ed-ae57-4474-af64-1e5213149d7f",
   "metadata": {
    "id": "21ec73ed-ae57-4474-af64-1e5213149d7f"
   },
   "source": [
    "Importe os dados sobre munocípios brasileiros que você encontra na url abaixo:"
   ]
  },
  {
   "cell_type": "code",
   "execution_count": 4,
   "id": "b0b00c0a-aa38-4995-abcb-2417a0b55e52",
   "metadata": {
    "id": "b0b00c0a-aa38-4995-abcb-2417a0b55e52"
   },
   "outputs": [],
   "source": [
    "url = \"https://raw.githubusercontent.com/mapaslivres/municipios-br/main/tabelas/municipios.csv\""
   ]
  },
  {
   "cell_type": "markdown",
   "id": "e3c2a921-b734-4123-a082-ab99bbbb70b0",
   "metadata": {
    "id": "e3c2a921-b734-4123-a082-ab99bbbb70b0"
   },
   "source": [
    "Você deve importar _apenas_ as colunas `municipio`, e `pop_21`, que são as colunas que iremos usar.\n",
    "\n",
    "A variável `município` é o código IBGE do município. O primeiro dígito dessa variável representa a região do Brasil em que o município se encontra:\n",
    "\n",
    "* 1 é região Norte\n",
    "* 2 é região Nordeste\n",
    "* 3 é região Sudeste\n",
    "* 4 é região Sul\n",
    "* 5 é região Centro-Oeste\n",
    "\n",
    "Com esses dados, construa um dataframe que contenha a população total de cada região do Brasil, em ordem decrescente de população.\n",
    "\n",
    "Esse dataframe deve ser indexado pelas regiões do Brasil, denotadas N, NE, SE, S e CO."
   ]
  },
  {
   "cell_type": "code",
   "execution_count": 5,
   "id": "82436168-0a62-4407-8ffb-7b82b40bb900",
   "metadata": {
    "id": "82436168-0a62-4407-8ffb-7b82b40bb900"
   },
   "outputs": [],
   "source": [
    "import pandas as pd"
   ]
  },
  {
   "cell_type": "code",
   "execution_count": 6,
   "id": "d874663a-b576-473b-942f-31d48a38ba67",
   "metadata": {
    "id": "d874663a-b576-473b-942f-31d48a38ba67"
   },
   "outputs": [],
   "source": [
    "df = pd.read_csv(url, usecols=['municipio','pop_21'])"
   ]
  },
  {
   "cell_type": "code",
   "execution_count": 7,
   "id": "1a58de6b-e6e5-4625-b9a8-37b8d6b134cb",
   "metadata": {
    "id": "1a58de6b-e6e5-4625-b9a8-37b8d6b134cb"
   },
   "outputs": [],
   "source": [
    "df['regiao'] = (df.\n",
    "                municipio.\n",
    "                apply(lambda x: str(x)[0]).\n",
    "                values\n",
    "               )\n",
    "\n",
    "df['regiao'] = df.regiao.replace({'1': 'N', '2':'NE','3':'SE','4':'S','5':'CO'})"
   ]
  },
  {
   "cell_type": "code",
   "execution_count": 8,
   "id": "0345e762-046b-4573-9343-886b66a5200d",
   "metadata": {
    "colab": {
     "base_uri": "https://localhost:8080/",
     "height": 237
    },
    "id": "0345e762-046b-4573-9343-886b66a5200d",
    "outputId": "cb3b0a0c-1584-4b81-f035-542ce57d1837"
   },
   "outputs": [
    {
     "data": {
      "text/html": [
       "\n",
       "  <div id=\"df-f73d16dd-9337-48fa-8612-fc5eafcfe100\">\n",
       "    <div class=\"colab-df-container\">\n",
       "      <div>\n",
       "<style scoped>\n",
       "    .dataframe tbody tr th:only-of-type {\n",
       "        vertical-align: middle;\n",
       "    }\n",
       "\n",
       "    .dataframe tbody tr th {\n",
       "        vertical-align: top;\n",
       "    }\n",
       "\n",
       "    .dataframe thead th {\n",
       "        text-align: right;\n",
       "    }\n",
       "</style>\n",
       "<table border=\"1\" class=\"dataframe\">\n",
       "  <thead>\n",
       "    <tr style=\"text-align: right;\">\n",
       "      <th></th>\n",
       "      <th>pop_21</th>\n",
       "    </tr>\n",
       "    <tr>\n",
       "      <th>regiao</th>\n",
       "      <th></th>\n",
       "    </tr>\n",
       "  </thead>\n",
       "  <tbody>\n",
       "    <tr>\n",
       "      <th>SE</th>\n",
       "      <td>89632912</td>\n",
       "    </tr>\n",
       "    <tr>\n",
       "      <th>NE</th>\n",
       "      <td>57667842</td>\n",
       "    </tr>\n",
       "    <tr>\n",
       "      <th>S</th>\n",
       "      <td>30402587</td>\n",
       "    </tr>\n",
       "    <tr>\n",
       "      <th>N</th>\n",
       "      <td>18906962</td>\n",
       "    </tr>\n",
       "    <tr>\n",
       "      <th>CO</th>\n",
       "      <td>16707336</td>\n",
       "    </tr>\n",
       "  </tbody>\n",
       "</table>\n",
       "</div>\n",
       "      <button class=\"colab-df-convert\" onclick=\"convertToInteractive('df-f73d16dd-9337-48fa-8612-fc5eafcfe100')\"\n",
       "              title=\"Convert this dataframe to an interactive table.\"\n",
       "              style=\"display:none;\">\n",
       "        \n",
       "  <svg xmlns=\"http://www.w3.org/2000/svg\" height=\"24px\"viewBox=\"0 0 24 24\"\n",
       "       width=\"24px\">\n",
       "    <path d=\"M0 0h24v24H0V0z\" fill=\"none\"/>\n",
       "    <path d=\"M18.56 5.44l.94 2.06.94-2.06 2.06-.94-2.06-.94-.94-2.06-.94 2.06-2.06.94zm-11 1L8.5 8.5l.94-2.06 2.06-.94-2.06-.94L8.5 2.5l-.94 2.06-2.06.94zm10 10l.94 2.06.94-2.06 2.06-.94-2.06-.94-.94-2.06-.94 2.06-2.06.94z\"/><path d=\"M17.41 7.96l-1.37-1.37c-.4-.4-.92-.59-1.43-.59-.52 0-1.04.2-1.43.59L10.3 9.45l-7.72 7.72c-.78.78-.78 2.05 0 2.83L4 21.41c.39.39.9.59 1.41.59.51 0 1.02-.2 1.41-.59l7.78-7.78 2.81-2.81c.8-.78.8-2.07 0-2.86zM5.41 20L4 18.59l7.72-7.72 1.47 1.35L5.41 20z\"/>\n",
       "  </svg>\n",
       "      </button>\n",
       "      \n",
       "  <style>\n",
       "    .colab-df-container {\n",
       "      display:flex;\n",
       "      flex-wrap:wrap;\n",
       "      gap: 12px;\n",
       "    }\n",
       "\n",
       "    .colab-df-convert {\n",
       "      background-color: #E8F0FE;\n",
       "      border: none;\n",
       "      border-radius: 50%;\n",
       "      cursor: pointer;\n",
       "      display: none;\n",
       "      fill: #1967D2;\n",
       "      height: 32px;\n",
       "      padding: 0 0 0 0;\n",
       "      width: 32px;\n",
       "    }\n",
       "\n",
       "    .colab-df-convert:hover {\n",
       "      background-color: #E2EBFA;\n",
       "      box-shadow: 0px 1px 2px rgba(60, 64, 67, 0.3), 0px 1px 3px 1px rgba(60, 64, 67, 0.15);\n",
       "      fill: #174EA6;\n",
       "    }\n",
       "\n",
       "    [theme=dark] .colab-df-convert {\n",
       "      background-color: #3B4455;\n",
       "      fill: #D2E3FC;\n",
       "    }\n",
       "\n",
       "    [theme=dark] .colab-df-convert:hover {\n",
       "      background-color: #434B5C;\n",
       "      box-shadow: 0px 1px 3px 1px rgba(0, 0, 0, 0.15);\n",
       "      filter: drop-shadow(0px 1px 2px rgba(0, 0, 0, 0.3));\n",
       "      fill: #FFFFFF;\n",
       "    }\n",
       "  </style>\n",
       "\n",
       "      <script>\n",
       "        const buttonEl =\n",
       "          document.querySelector('#df-f73d16dd-9337-48fa-8612-fc5eafcfe100 button.colab-df-convert');\n",
       "        buttonEl.style.display =\n",
       "          google.colab.kernel.accessAllowed ? 'block' : 'none';\n",
       "\n",
       "        async function convertToInteractive(key) {\n",
       "          const element = document.querySelector('#df-f73d16dd-9337-48fa-8612-fc5eafcfe100');\n",
       "          const dataTable =\n",
       "            await google.colab.kernel.invokeFunction('convertToInteractive',\n",
       "                                                     [key], {});\n",
       "          if (!dataTable) return;\n",
       "\n",
       "          const docLinkHtml = 'Like what you see? Visit the ' +\n",
       "            '<a target=\"_blank\" href=https://colab.research.google.com/notebooks/data_table.ipynb>data table notebook</a>'\n",
       "            + ' to learn more about interactive tables.';\n",
       "          element.innerHTML = '';\n",
       "          dataTable['output_type'] = 'display_data';\n",
       "          await google.colab.output.renderOutput(dataTable, element);\n",
       "          const docLink = document.createElement('div');\n",
       "          docLink.innerHTML = docLinkHtml;\n",
       "          element.appendChild(docLink);\n",
       "        }\n",
       "      </script>\n",
       "    </div>\n",
       "  </div>\n",
       "  "
      ],
      "text/plain": [
       "          pop_21\n",
       "regiao          \n",
       "SE      89632912\n",
       "NE      57667842\n",
       "S       30402587\n",
       "N       18906962\n",
       "CO      16707336"
      ]
     },
     "execution_count": 8,
     "metadata": {},
     "output_type": "execute_result"
    }
   ],
   "source": [
    "df[['regiao','pop_21']].groupby('regiao').sum().sort_values('pop_21', ascending=False)"
   ]
  },
  {
   "cell_type": "markdown",
   "id": "0ca18b63-fb00-4793-9e52-284570b4ff4f",
   "metadata": {
    "id": "0ca18b63-fb00-4793-9e52-284570b4ff4f",
    "tags": []
   },
   "source": [
    "# Questão 3"
   ]
  },
  {
   "cell_type": "markdown",
   "id": "ae9605c0-796c-4a54-910a-b0a9189fdbb6",
   "metadata": {
    "id": "ae9605c0-796c-4a54-910a-b0a9189fdbb6"
   },
   "source": [
    "O link a seguir contém dados a respeito do processo seletivo de uma empresa. As variáveis são as seguintes:\n",
    "\n",
    "* `gender`: O gênero do candidato\n",
    "* `sat`: A nota tirada pelo candidato no exame de SAT.\n",
    "* `gpa`: O C.R. do candidato\n",
    "* `apttest`: A nota que o candidato obteve em um teste de aptidão à vaga\n",
    "* `int1` : A nota dada ao candidato pelo primeiro entrevistador\n",
    "* `int2` : A nota dada ao candidato pelo segundo entrevistador\n",
    "* `int3` : A nota dada ao candidato pelo terceiro entrevistador\n",
    "* `hired`: 1, caso o candidato tenha sido contratado, e 0 caso contrário.\n",
    "\n"
   ]
  },
  {
   "cell_type": "code",
   "execution_count": 11,
   "id": "3168f622-a5de-4ec9-81e2-91de62e0415a",
   "metadata": {
    "id": "3168f622-a5de-4ec9-81e2-91de62e0415a"
   },
   "outputs": [],
   "source": [
    "url = \"https://peopleanalytics-regression-book.org/data/recruiting.csv\""
   ]
  },
  {
   "cell_type": "markdown",
   "id": "459be946-a96a-4414-ad68-b538e54971c0",
   "metadata": {
    "id": "459be946-a96a-4414-ad68-b538e54971c0"
   },
   "source": [
    "## (a) \n",
    "Qual fração dos candidatos são mulheres?  \n",
    "Qual fração dos aprovados são mulheres?"
   ]
  },
  {
   "cell_type": "code",
   "execution_count": 12,
   "id": "38042581-2d52-46ad-8818-04105f1d6c91",
   "metadata": {
    "id": "38042581-2d52-46ad-8818-04105f1d6c91"
   },
   "outputs": [],
   "source": [
    "df = pd.read_csv(url)"
   ]
  },
  {
   "cell_type": "code",
   "execution_count": 13,
   "id": "148e4a4f-a341-4395-a468-2d2d8f7cac8b",
   "metadata": {
    "colab": {
     "base_uri": "https://localhost:8080/"
    },
    "id": "148e4a4f-a341-4395-a468-2d2d8f7cac8b",
    "outputId": "8ccc7258-30c5-4a47-fff2-3cc1e6a8e3e5"
   },
   "outputs": [
    {
     "data": {
      "text/plain": [
       "F    0.511387\n",
       "M    0.488613\n",
       "Name: gender, dtype: float64"
      ]
     },
     "execution_count": 13,
     "metadata": {},
     "output_type": "execute_result"
    }
   ],
   "source": [
    "df.gender.value_counts(normalize=True)"
   ]
  },
  {
   "cell_type": "code",
   "execution_count": 14,
   "id": "ceb6658d-d956-492d-8824-8b74711510a1",
   "metadata": {
    "colab": {
     "base_uri": "https://localhost:8080/",
     "height": 143
    },
    "id": "ceb6658d-d956-492d-8824-8b74711510a1",
    "outputId": "f5cde9f3-b7b2-45c5-b604-cc72e5d8f000"
   },
   "outputs": [
    {
     "data": {
      "text/html": [
       "\n",
       "  <div id=\"df-bff5e365-cacc-4b2d-a432-05984f7ca6ac\">\n",
       "    <div class=\"colab-df-container\">\n",
       "      <div>\n",
       "<style scoped>\n",
       "    .dataframe tbody tr th:only-of-type {\n",
       "        vertical-align: middle;\n",
       "    }\n",
       "\n",
       "    .dataframe tbody tr th {\n",
       "        vertical-align: top;\n",
       "    }\n",
       "\n",
       "    .dataframe thead th {\n",
       "        text-align: right;\n",
       "    }\n",
       "</style>\n",
       "<table border=\"1\" class=\"dataframe\">\n",
       "  <thead>\n",
       "    <tr style=\"text-align: right;\">\n",
       "      <th></th>\n",
       "      <th>gender</th>\n",
       "    </tr>\n",
       "    <tr>\n",
       "      <th>hired</th>\n",
       "      <th></th>\n",
       "    </tr>\n",
       "  </thead>\n",
       "  <tbody>\n",
       "    <tr>\n",
       "      <th>0</th>\n",
       "      <td>0.533333</td>\n",
       "    </tr>\n",
       "    <tr>\n",
       "      <th>1</th>\n",
       "      <td>0.419355</td>\n",
       "    </tr>\n",
       "  </tbody>\n",
       "</table>\n",
       "</div>\n",
       "      <button class=\"colab-df-convert\" onclick=\"convertToInteractive('df-bff5e365-cacc-4b2d-a432-05984f7ca6ac')\"\n",
       "              title=\"Convert this dataframe to an interactive table.\"\n",
       "              style=\"display:none;\">\n",
       "        \n",
       "  <svg xmlns=\"http://www.w3.org/2000/svg\" height=\"24px\"viewBox=\"0 0 24 24\"\n",
       "       width=\"24px\">\n",
       "    <path d=\"M0 0h24v24H0V0z\" fill=\"none\"/>\n",
       "    <path d=\"M18.56 5.44l.94 2.06.94-2.06 2.06-.94-2.06-.94-.94-2.06-.94 2.06-2.06.94zm-11 1L8.5 8.5l.94-2.06 2.06-.94-2.06-.94L8.5 2.5l-.94 2.06-2.06.94zm10 10l.94 2.06.94-2.06 2.06-.94-2.06-.94-.94-2.06-.94 2.06-2.06.94z\"/><path d=\"M17.41 7.96l-1.37-1.37c-.4-.4-.92-.59-1.43-.59-.52 0-1.04.2-1.43.59L10.3 9.45l-7.72 7.72c-.78.78-.78 2.05 0 2.83L4 21.41c.39.39.9.59 1.41.59.51 0 1.02-.2 1.41-.59l7.78-7.78 2.81-2.81c.8-.78.8-2.07 0-2.86zM5.41 20L4 18.59l7.72-7.72 1.47 1.35L5.41 20z\"/>\n",
       "  </svg>\n",
       "      </button>\n",
       "      \n",
       "  <style>\n",
       "    .colab-df-container {\n",
       "      display:flex;\n",
       "      flex-wrap:wrap;\n",
       "      gap: 12px;\n",
       "    }\n",
       "\n",
       "    .colab-df-convert {\n",
       "      background-color: #E8F0FE;\n",
       "      border: none;\n",
       "      border-radius: 50%;\n",
       "      cursor: pointer;\n",
       "      display: none;\n",
       "      fill: #1967D2;\n",
       "      height: 32px;\n",
       "      padding: 0 0 0 0;\n",
       "      width: 32px;\n",
       "    }\n",
       "\n",
       "    .colab-df-convert:hover {\n",
       "      background-color: #E2EBFA;\n",
       "      box-shadow: 0px 1px 2px rgba(60, 64, 67, 0.3), 0px 1px 3px 1px rgba(60, 64, 67, 0.15);\n",
       "      fill: #174EA6;\n",
       "    }\n",
       "\n",
       "    [theme=dark] .colab-df-convert {\n",
       "      background-color: #3B4455;\n",
       "      fill: #D2E3FC;\n",
       "    }\n",
       "\n",
       "    [theme=dark] .colab-df-convert:hover {\n",
       "      background-color: #434B5C;\n",
       "      box-shadow: 0px 1px 3px 1px rgba(0, 0, 0, 0.15);\n",
       "      filter: drop-shadow(0px 1px 2px rgba(0, 0, 0, 0.3));\n",
       "      fill: #FFFFFF;\n",
       "    }\n",
       "  </style>\n",
       "\n",
       "      <script>\n",
       "        const buttonEl =\n",
       "          document.querySelector('#df-bff5e365-cacc-4b2d-a432-05984f7ca6ac button.colab-df-convert');\n",
       "        buttonEl.style.display =\n",
       "          google.colab.kernel.accessAllowed ? 'block' : 'none';\n",
       "\n",
       "        async function convertToInteractive(key) {\n",
       "          const element = document.querySelector('#df-bff5e365-cacc-4b2d-a432-05984f7ca6ac');\n",
       "          const dataTable =\n",
       "            await google.colab.kernel.invokeFunction('convertToInteractive',\n",
       "                                                     [key], {});\n",
       "          if (!dataTable) return;\n",
       "\n",
       "          const docLinkHtml = 'Like what you see? Visit the ' +\n",
       "            '<a target=\"_blank\" href=https://colab.research.google.com/notebooks/data_table.ipynb>data table notebook</a>'\n",
       "            + ' to learn more about interactive tables.';\n",
       "          element.innerHTML = '';\n",
       "          dataTable['output_type'] = 'display_data';\n",
       "          await google.colab.output.renderOutput(dataTable, element);\n",
       "          const docLink = document.createElement('div');\n",
       "          docLink.innerHTML = docLinkHtml;\n",
       "          element.appendChild(docLink);\n",
       "        }\n",
       "      </script>\n",
       "    </div>\n",
       "  </div>\n",
       "  "
      ],
      "text/plain": [
       "         gender\n",
       "hired          \n",
       "0      0.533333\n",
       "1      0.419355"
      ]
     },
     "execution_count": 14,
     "metadata": {},
     "output_type": "execute_result"
    }
   ],
   "source": [
    "df[['gender','hired']].replace({'F': 1, 'M': 0}).groupby('hired').mean()"
   ]
  },
  {
   "cell_type": "markdown",
   "id": "2a4635fa-c450-4794-80a8-fa76ae267ce3",
   "metadata": {
    "id": "2a4635fa-c450-4794-80a8-fa76ae267ce3"
   },
   "source": [
    "## (b)\n",
    "Faça uma regressão logística para explicar a contratação (`hired`) em termos das demais variáveis da base. Use uma abordagem de Estatística clássica, produzindo estimativas para os coeficientes, erros-padrão e p-valores.  \n",
    "\n",
    "Exiba a tabela com os resultados da regressão.\n",
    "\n",
    "Obs.: A regressão deve ter uma única dummy designando gênero e esta deve ser 1 quando o gênero é masculino e 0 caso contrário."
   ]
  },
  {
   "cell_type": "code",
   "execution_count": 17,
   "id": "27DRlALw1yc1",
   "metadata": {
    "id": "27DRlALw1yc1"
   },
   "outputs": [],
   "source": [
    "import statsmodels.api as sm"
   ]
  },
  {
   "cell_type": "code",
   "execution_count": 18,
   "id": "cb29c7dc-e304-4686-bcd5-9d3c48023296",
   "metadata": {
    "colab": {
     "base_uri": "https://localhost:8080/"
    },
    "id": "cb29c7dc-e304-4686-bcd5-9d3c48023296",
    "outputId": "967a2f8c-02fe-4578-e4f5-703ded1dba52"
   },
   "outputs": [
    {
     "name": "stdout",
     "output_type": "stream",
     "text": [
      "Optimization terminated successfully.\n",
      "         Current function value: 0.208131\n",
      "         Iterations 9\n",
      "                           Logit Regression Results                           \n",
      "==============================================================================\n",
      "Dep. Variable:                  hired   No. Observations:                  966\n",
      "Model:                          Logit   Df Residuals:                      958\n",
      "Method:                           MLE   Df Model:                            7\n",
      "Date:                Sun, 25 Sep 2022   Pseudo R-squ.:                  0.5752\n",
      "Time:                        18:09:56   Log-Likelihood:                -201.05\n",
      "converged:                       True   LL-Null:                       -473.24\n",
      "Covariance Type:            nonrobust   LLR p-value:                2.300e-113\n",
      "==============================================================================\n",
      "                 coef    std err          z      P>|z|      [0.025      0.975]\n",
      "------------------------------------------------------------------------------\n",
      "const        -36.1752      3.571    -10.131      0.000     -43.174     -29.177\n",
      "sat           -0.0015      0.001     -1.735      0.083      -0.003       0.000\n",
      "gpa            1.0526      0.767      1.372      0.170      -0.451       2.556\n",
      "apttest        0.0755      0.010      7.586      0.000       0.056       0.095\n",
      "int1           2.7514      0.277      9.917      0.000       2.208       3.295\n",
      "int2           3.9616      0.440      9.006      0.000       3.099       4.824\n",
      "int3           0.6967      0.235      2.961      0.003       0.236       1.158\n",
      "gender_M       0.2886      0.254      1.135      0.256      -0.210       0.787\n",
      "==============================================================================\n",
      "\n",
      "Possibly complete quasi-separation: A fraction 0.10 of observations can be\n",
      "perfectly predicted. This might indicate that there is complete\n",
      "quasi-separation. In this case some parameters will not be identified.\n"
     ]
    }
   ],
   "source": [
    "dfreg = pd.get_dummies(df).drop(columns='gender_F')\n",
    "\n",
    "X = dfreg.drop(columns='hired')\n",
    "y = dfreg['hired']\n",
    "X = sm.add_constant(X)\n",
    "\n",
    "lg = sm.Logit(y,X).fit()\n",
    "print(lg.summary())"
   ]
  },
  {
   "cell_type": "markdown",
   "id": "5f17ab2d-1f42-45e2-9e94-d9187a3573f1",
   "metadata": {
    "id": "5f17ab2d-1f42-45e2-9e94-d9187a3573f1"
   },
   "source": [
    "# Questão 5"
   ]
  },
  {
   "cell_type": "markdown",
   "id": "f8cd51ee-75ed-4d00-83fb-87dc38b5fbeb",
   "metadata": {
    "id": "f8cd51ee-75ed-4d00-83fb-87dc38b5fbeb"
   },
   "source": [
    "Utilizando os mesmos dados da questão anterior, construa um modelo de Data Science para prever a `hired` a partir das outras variáveis (_features_). \n",
    "\n",
    "Aqui está novamente o link, para facilitar:"
   ]
  },
  {
   "cell_type": "code",
   "execution_count": 19,
   "id": "cc144b95-eb38-4c69-b1c7-dbf0e14f791c",
   "metadata": {
    "id": "cc144b95-eb38-4c69-b1c7-dbf0e14f791c"
   },
   "outputs": [],
   "source": [
    "url = \"https://peopleanalytics-regression-book.org/data/recruiting.csv\""
   ]
  },
  {
   "cell_type": "markdown",
   "id": "3da90b69-fcc4-4555-bc32-d600ff367e06",
   "metadata": {
    "id": "3da90b69-fcc4-4555-bc32-d600ff367e06"
   },
   "source": [
    "Antes de mais nada, normalize as variáveis dividindo-as todas pelos seus valores máximos:\n",
    "* o valor máximo do `sat` é 1600\n",
    "* o valor máximo do `gpa` é 4\n",
    "* o valor máximo do `apttest` é 100\n",
    "* os valores máximos de `int1`, `int2` e `int3` são todos iguais a 5  \n",
    "\n",
    "Após a normalização, todas essas variáveis deverão estar contidas no intervalo $[0;1]$.\n",
    "\n",
    "A seguir, cria um dataframe contendo _precision_, _recall_, _f1_, _accuracy_ e _AUC_ para os modelos a seguir. Para facilitar, eu já disponibilizo o código para importá-los:"
   ]
  },
  {
   "cell_type": "code",
   "execution_count": 26,
   "id": "3311e2f7-7381-4edb-a219-b89eb624754c",
   "metadata": {
    "id": "3311e2f7-7381-4edb-a219-b89eb624754c"
   },
   "outputs": [],
   "source": [
    "# Modelos\n",
    "from sklearn.dummy import DummyClassifier #dummy\n",
    "from sklearn.linear_model import LogisticRegression #reg_log\n",
    "from sklearn.neighbors import KNeighborsClassifier #KNN\n",
    "from sklearn.tree import DecisionTreeClassifier #arvore_decisao\n",
    "from sklearn.ensemble import RandomForestClassifier #random_forest\n",
    "\n",
    "#Métricas\n",
    "from sklearn.metrics import precision_score, recall_score, f1_score, accuracy_score, roc_curve, roc_auc_score\n",
    "\n",
    "#Utils\n",
    "from sklearn.model_selection import train_test_split\n",
    "import matplotlib.pyplot as plt"
   ]
  },
  {
   "cell_type": "markdown",
   "id": "f330e3f5-f162-42b0-9da4-bba8cbcab5c3",
   "metadata": {
    "id": "f330e3f5-f162-42b0-9da4-bba8cbcab5c3"
   },
   "source": [
    "## (a)\n",
    "Apresente esse dataframe ordenado em ordem decrescente de AUC."
   ]
  },
  {
   "cell_type": "code",
   "execution_count": 27,
   "id": "51c319b8-bea8-4edc-8cbf-6dad81141929",
   "metadata": {
    "id": "51c319b8-bea8-4edc-8cbf-6dad81141929"
   },
   "outputs": [],
   "source": [
    "df = pd.read_csv(url)\n",
    "\n",
    "df['gender'] = df.gender.replace({'F': 0, 'M': 1})\n",
    "df['sat'] = df.sat/1600\n",
    "df['gpa'] = df.gpa/4\n",
    "df['apttest'] = df.apttest/100\n",
    "df['int1'] = df.int1/5\n",
    "df['int2'] = df.int2/5\n",
    "df['int3'] = df.int3/5\n",
    "\n",
    "df = df.astype('float64')"
   ]
  },
  {
   "cell_type": "code",
   "execution_count": 28,
   "id": "c42046b4-f4e1-435c-96c3-defa96ed42d9",
   "metadata": {
    "id": "c42046b4-f4e1-435c-96c3-defa96ed42d9"
   },
   "outputs": [],
   "source": [
    "modelos = {'dummy': DummyClassifier(),\n",
    "           'logistic': LogisticRegression(),\n",
    "           'KNN': KNeighborsClassifier(),\n",
    "           'tree': DecisionTreeClassifier(),\n",
    "           'rf': RandomForestClassifier()\n",
    "          }\n",
    "\n",
    "\n",
    "resultados = pd.DataFrame([], index = modelos.keys(), columns=['precision','recall','f1','accuracy','auc'])"
   ]
  },
  {
   "cell_type": "code",
   "execution_count": 29,
   "id": "dbbfea94-aca8-4e47-81fb-6aa960a8e674",
   "metadata": {
    "id": "dbbfea94-aca8-4e47-81fb-6aa960a8e674"
   },
   "outputs": [],
   "source": [
    "X = df.drop(columns='hired')\n",
    "y = df.hired"
   ]
  },
  {
   "cell_type": "code",
   "execution_count": 30,
   "id": "37e2e7f1-d62e-4dc4-b395-ab7719463027",
   "metadata": {
    "id": "37e2e7f1-d62e-4dc4-b395-ab7719463027"
   },
   "outputs": [],
   "source": [
    "Xtrn, Xtst ,ytrn,  ytst = train_test_split(X,y)"
   ]
  },
  {
   "cell_type": "code",
   "execution_count": 31,
   "id": "e14a7548-b09d-4b0e-a47f-cd842f78dc33",
   "metadata": {
    "colab": {
     "base_uri": "https://localhost:8080/",
     "height": 676
    },
    "id": "e14a7548-b09d-4b0e-a47f-cd842f78dc33",
    "outputId": "6c9fb0e0-4cc6-49a7-bb98-b4660140f650"
   },
   "outputs": [
    {
     "name": "stderr",
     "output_type": "stream",
     "text": [
      "/usr/local/lib/python3.7/dist-packages/sklearn/metrics/_classification.py:1318: UndefinedMetricWarning: Precision is ill-defined and being set to 0.0 due to no predicted samples. Use `zero_division` parameter to control this behavior.\n",
      "  _warn_prf(average, modifier, msg_start, len(result))\n"
     ]
    },
    {
     "data": {
      "image/png": "[encoded data removed]",
      "text/plain": [
       "<Figure size 720x720 with 1 Axes>"
      ]
     },
     "metadata": {
      "needs_background": "light"
     },
     "output_type": "display_data"
    }
   ],
   "source": [
    "plt.figure(figsize=(10,10))\n",
    "\n",
    "for nome, modelo in modelos.items():\n",
    "    modelo.fit(Xtrn,ytrn)\n",
    "    ypred = modelo.predict(Xtst)\n",
    "    ppred = modelo.predict_proba(Xtst)[:,1]\n",
    "    \n",
    "\n",
    "    \n",
    "    precision = precision_score(ytst, ypred)\n",
    "    recall = recall_score(ytst, ypred)\n",
    "    f1 = f1_score(ytst, ypred)\n",
    "    accuracy = accuracy_score(ytst, ypred)\n",
    "    auc = roc_auc_score(ytst, ppred)\n",
    "    \n",
    "    resultados.loc[nome,:] = precision, recall, f1, accuracy, auc\n",
    "    \n",
    "    fpr, tpr, _ = roc_curve(ytst, ppred)\n",
    "    plt.plot(fpr, tpr, label=f'{nome} ({auc:.2f})')\n",
    "    \n",
    "    modelos[nome] = modelo\n",
    "\n",
    "plt.title('Curvas ROC')\n",
    "plt.xlabel('False Positive Rate')\n",
    "plt.ylabel('True Positive Rate')\n",
    "plt.plot([0,1],[0,1], c='gray', linestyle='dashed', label='aleatório')\n",
    "plt.legend()\n",
    "plt.axis('square')\n",
    "plt.show()"
   ]
  },
  {
   "cell_type": "code",
   "execution_count": 32,
   "id": "ff0790fb-caca-417e-b6e4-19e4e5ae114d",
   "metadata": {
    "colab": {
     "base_uri": "https://localhost:8080/",
     "height": 206
    },
    "id": "ff0790fb-caca-417e-b6e4-19e4e5ae114d",
    "outputId": "e6d15a92-1a71-4cc1-d38d-a1b2ecd6e818"
   },
   "outputs": [
    {
     "data": {
      "text/html": [
       "\n",
       "  <div id=\"df-c92185d4-fea5-4ed3-ada2-2ce5e3c44f80\">\n",
       "    <div class=\"colab-df-container\">\n",
       "      <div>\n",
       "<style scoped>\n",
       "    .dataframe tbody tr th:only-of-type {\n",
       "        vertical-align: middle;\n",
       "    }\n",
       "\n",
       "    .dataframe tbody tr th {\n",
       "        vertical-align: top;\n",
       "    }\n",
       "\n",
       "    .dataframe thead th {\n",
       "        text-align: right;\n",
       "    }\n",
       "</style>\n",
       "<table border=\"1\" class=\"dataframe\">\n",
       "  <thead>\n",
       "    <tr style=\"text-align: right;\">\n",
       "      <th></th>\n",
       "      <th>precision</th>\n",
       "      <th>recall</th>\n",
       "      <th>f1</th>\n",
       "      <th>accuracy</th>\n",
       "      <th>auc</th>\n",
       "    </tr>\n",
       "  </thead>\n",
       "  <tbody>\n",
       "    <tr>\n",
       "      <th>rf</th>\n",
       "      <td>0.843137</td>\n",
       "      <td>0.843137</td>\n",
       "      <td>0.843137</td>\n",
       "      <td>0.933884</td>\n",
       "      <td>0.97064</td>\n",
       "    </tr>\n",
       "    <tr>\n",
       "      <th>KNN</th>\n",
       "      <td>0.857143</td>\n",
       "      <td>0.823529</td>\n",
       "      <td>0.84</td>\n",
       "      <td>0.933884</td>\n",
       "      <td>0.951853</td>\n",
       "    </tr>\n",
       "    <tr>\n",
       "      <th>logistic</th>\n",
       "      <td>0.777778</td>\n",
       "      <td>0.411765</td>\n",
       "      <td>0.538462</td>\n",
       "      <td>0.85124</td>\n",
       "      <td>0.942203</td>\n",
       "    </tr>\n",
       "    <tr>\n",
       "      <th>tree</th>\n",
       "      <td>0.847826</td>\n",
       "      <td>0.764706</td>\n",
       "      <td>0.804124</td>\n",
       "      <td>0.921488</td>\n",
       "      <td>0.864028</td>\n",
       "    </tr>\n",
       "    <tr>\n",
       "      <th>dummy</th>\n",
       "      <td>0.0</td>\n",
       "      <td>0.0</td>\n",
       "      <td>0.0</td>\n",
       "      <td>0.789256</td>\n",
       "      <td>0.5</td>\n",
       "    </tr>\n",
       "  </tbody>\n",
       "</table>\n",
       "</div>\n",
       "      <button class=\"colab-df-convert\" onclick=\"convertToInteractive('df-c92185d4-fea5-4ed3-ada2-2ce5e3c44f80')\"\n",
       "              title=\"Convert this dataframe to an interactive table.\"\n",
       "              style=\"display:none;\">\n",
       "        \n",
       "  <svg xmlns=\"http://www.w3.org/2000/svg\" height=\"24px\"viewBox=\"0 0 24 24\"\n",
       "       width=\"24px\">\n",
       "    <path d=\"M0 0h24v24H0V0z\" fill=\"none\"/>\n",
       "    <path d=\"M18.56 5.44l.94 2.06.94-2.06 2.06-.94-2.06-.94-.94-2.06-.94 2.06-2.06.94zm-11 1L8.5 8.5l.94-2.06 2.06-.94-2.06-.94L8.5 2.5l-.94 2.06-2.06.94zm10 10l.94 2.06.94-2.06 2.06-.94-2.06-.94-.94-2.06-.94 2.06-2.06.94z\"/><path d=\"M17.41 7.96l-1.37-1.37c-.4-.4-.92-.59-1.43-.59-.52 0-1.04.2-1.43.59L10.3 9.45l-7.72 7.72c-.78.78-.78 2.05 0 2.83L4 21.41c.39.39.9.59 1.41.59.51 0 1.02-.2 1.41-.59l7.78-7.78 2.81-2.81c.8-.78.8-2.07 0-2.86zM5.41 20L4 18.59l7.72-7.72 1.47 1.35L5.41 20z\"/>\n",
       "  </svg>\n",
       "      </button>\n",
       "      \n",
       "  <style>\n",
       "    .colab-df-container {\n",
       "      display:flex;\n",
       "      flex-wrap:wrap;\n",
       "      gap: 12px;\n",
       "    }\n",
       "\n",
       "    .colab-df-convert {\n",
       "      background-color: #E8F0FE;\n",
       "      border: none;\n",
       "      border-radius: 50%;\n",
       "      cursor: pointer;\n",
       "      display: none;\n",
       "      fill: #1967D2;\n",
       "      height: 32px;\n",
       "      padding: 0 0 0 0;\n",
       "      width: 32px;\n",
       "    }\n",
       "\n",
       "    .colab-df-convert:hover {\n",
       "      background-color: #E2EBFA;\n",
       "      box-shadow: 0px 1px 2px rgba(60, 64, 67, 0.3), 0px 1px 3px 1px rgba(60, 64, 67, 0.15);\n",
       "      fill: #174EA6;\n",
       "    }\n",
       "\n",
       "    [theme=dark] .colab-df-convert {\n",
       "      background-color: #3B4455;\n",
       "      fill: #D2E3FC;\n",
       "    }\n",
       "\n",
       "    [theme=dark] .colab-df-convert:hover {\n",
       "      background-color: #434B5C;\n",
       "      box-shadow: 0px 1px 3px 1px rgba(0, 0, 0, 0.15);\n",
       "      filter: drop-shadow(0px 1px 2px rgba(0, 0, 0, 0.3));\n",
       "      fill: #FFFFFF;\n",
       "    }\n",
       "  </style>\n",
       "\n",
       "      <script>\n",
       "        const buttonEl =\n",
       "          document.querySelector('#df-c92185d4-fea5-4ed3-ada2-2ce5e3c44f80 button.colab-df-convert');\n",
       "        buttonEl.style.display =\n",
       "          google.colab.kernel.accessAllowed ? 'block' : 'none';\n",
       "\n",
       "        async function convertToInteractive(key) {\n",
       "          const element = document.querySelector('#df-c92185d4-fea5-4ed3-ada2-2ce5e3c44f80');\n",
       "          const dataTable =\n",
       "            await google.colab.kernel.invokeFunction('convertToInteractive',\n",
       "                                                     [key], {});\n",
       "          if (!dataTable) return;\n",
       "\n",
       "          const docLinkHtml = 'Like what you see? Visit the ' +\n",
       "            '<a target=\"_blank\" href=https://colab.research.google.com/notebooks/data_table.ipynb>data table notebook</a>'\n",
       "            + ' to learn more about interactive tables.';\n",
       "          element.innerHTML = '';\n",
       "          dataTable['output_type'] = 'display_data';\n",
       "          await google.colab.output.renderOutput(dataTable, element);\n",
       "          const docLink = document.createElement('div');\n",
       "          docLink.innerHTML = docLinkHtml;\n",
       "          element.appendChild(docLink);\n",
       "        }\n",
       "      </script>\n",
       "    </div>\n",
       "  </div>\n",
       "  "
      ],
      "text/plain": [
       "         precision    recall        f1  accuracy       auc\n",
       "rf        0.843137  0.843137  0.843137  0.933884   0.97064\n",
       "KNN       0.857143  0.823529      0.84  0.933884  0.951853\n",
       "logistic  0.777778  0.411765  0.538462   0.85124  0.942203\n",
       "tree      0.847826  0.764706  0.804124  0.921488  0.864028\n",
       "dummy          0.0       0.0       0.0  0.789256       0.5"
      ]
     },
     "execution_count": 32,
     "metadata": {},
     "output_type": "execute_result"
    }
   ],
   "source": [
    "resultados.sort_values('auc', ascending=False)"
   ]
  },
  {
   "cell_type": "markdown",
   "id": "d7fd32bf-11fb-45d9-a71f-c9523c6c98a6",
   "metadata": {
    "id": "d7fd32bf-11fb-45d9-a71f-c9523c6c98a6"
   },
   "source": [
    "## (b)\n",
    "Apresente as curvas ROC de cada modelo em um único gráfico. O gráfico deve ter:\n",
    "\n",
    "* Título: \"Curvas ROC\"\n",
    "* Nome do eixo x: \"Taxa de falsos positivos\"\n",
    "* Nome do eixo y: \"Taxa de verdadeiros positivos\"\n",
    "* Tamanho 10 x 10\n",
    "* Legenda, indicando qual curva corresponde a qual modelo, com os valores dos respectivos AUC entre parêntesis. (Por exemplo, \"dummy (0.54)\")\n",
    "* Uma reta cinza tracejada entre os pontos (0,0) e (1,1) e legenda \"aleatório\"\n",
    "\n",
    "Você pode responder essa pergunta juntamente com a anterior, se preferir."
   ]
  },
  {
   "cell_type": "markdown",
   "id": "f50ad2df-a153-47c3-9182-33441b7d5007",
   "metadata": {
    "id": "f50ad2df-a153-47c3-9182-33441b7d5007"
   },
   "source": [
    "## (c)\n",
    "\n",
    "Salve o modelo com o melhor AUC em um arquivo. Em seguida, importe o modelo deste arquivo com um nome diferente do nome do seu modelo inicial. "
   ]
  },
  {
   "cell_type": "code",
   "execution_count": null,
   "id": "79ef986c-e4b3-4eb0-a95a-5679c551f672",
   "metadata": {
    "id": "79ef986c-e4b3-4eb0-a95a-5679c551f672"
   },
   "outputs": [],
   "source": [
    "import pickle"
   ]
  },
  {
   "cell_type": "code",
   "execution_count": null,
   "id": "b419a497-a0a9-498f-9fe9-b393b69ce145",
   "metadata": {
    "id": "b419a497-a0a9-498f-9fe9-b393b69ce145"
   },
   "outputs": [],
   "source": [
    "pickle.dump(modelos['rf'], open('meu_modelo.pkl','wb'))"
   ]
  },
  {
   "cell_type": "code",
   "execution_count": null,
   "id": "b52f7b2b-f6d2-472c-aef0-3c219a224de3",
   "metadata": {
    "id": "b52f7b2b-f6d2-472c-aef0-3c219a224de3"
   },
   "outputs": [],
   "source": [
    "minha_rf = pickle.load(open('meu_modelo.pkl','rb'))"
   ]
  },
  {
   "cell_type": "code",
   "execution_count": null,
   "id": "11737ba0-bbcf-409b-8869-c7c49cf8a6a0",
   "metadata": {
    "id": "11737ba0-bbcf-409b-8869-c7c49cf8a6a0"
   },
   "outputs": [],
   "source": [
    "minha_rf"
   ]
  },
  {
   "cell_type": "code",
   "execution_count": null,
   "id": "90071b4e-dd45-423a-a363-0ca73255ffa4",
   "metadata": {
    "id": "90071b4e-dd45-423a-a363-0ca73255ffa4"
   },
   "outputs": [],
   "source": []
  }
 ],
 "metadata": {
  "colab": {
   "collapsed_sections": [
    "d7fd32bf-11fb-45d9-a71f-c9523c6c98a6"
   ],
   "provenance": []
  },
  "kernelspec": {
   "display_name": "Python 3 (ipykernel)",
   "language": "python",
   "name": "python3"
  },
  "language_info": {
   "codemirror_mode": {
    "name": "ipython",
    "version": 3
   },
   "file_extension": ".py",
   "mimetype": "text/x-python",
   "name": "python",
   "nbconvert_exporter": "python",
   "pygments_lexer": "ipython3",
   "version": "3.9.12"
  }
 },
 "nbformat": 4,
 "nbformat_minor": 5
}
