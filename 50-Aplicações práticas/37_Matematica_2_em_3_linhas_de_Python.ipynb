{
 "cells": [
  {
   "cell_type": "markdown",
   "metadata": {},
   "source": [
    "A grande aplicação de Matemática 2 em um curso de Administração é encontrar o máximo e o mínimo de uma função. Por exemplo:\n",
    "* Quanto uma fábrica deve produzir para maximizar o lucro?\n",
    "* Quanto devemos estocar para minimizar o custo de frete e estocagem? (aplicação prática 36)\n",
    "\n",
    "Em Cálculo, aprendemos a fazer isso formalmente.  \n",
    "Em Python, podemos fazer isso muito facilmente.\n",
    "\n",
    "Imagine que queremos encontrar o mínimo da seguinte função:\n",
    "\n",
    "$$\n",
    "f(x)= 4x + \\frac{100}{x} \n",
    "$$\n",
    "\n",
    "O primeiro passo é definir a função em Python:"
   ]
  },
  {
   "cell_type": "code",
   "execution_count": 194,
   "metadata": {},
   "outputs": [],
   "source": [
    "def f(x):\n",
    "    return(4 * x + 100/x)"
   ]
  },
  {
   "cell_type": "markdown",
   "metadata": {},
   "source": [
    "Agora, bastam 3 linhas de código"
   ]
  },
  {
   "cell_type": "code",
   "execution_count": 195,
   "metadata": {},
   "outputs": [
    {
     "data": {
      "text/plain": [
       "      fun: 40.000000000000284\n",
       " hess_inv: array([[0.62388716]])\n",
       "      jac: array([-9.53674316e-07])\n",
       "  message: 'Optimization terminated successfully.'\n",
       "     nfev: 22\n",
       "      nit: 10\n",
       "     njev: 11\n",
       "   status: 0\n",
       "  success: True\n",
       "        x: array([4.9999994])"
      ]
     },
     "execution_count": 195,
     "metadata": {},
     "output_type": "execute_result"
    }
   ],
   "source": [
    "## == Matemática 2 em 3 linhas de código == ##\n",
    "from scipy.optimize import minimize\n",
    "ponto_minimo = minimize(f, x0 = 1) # x0=1 é um cute inicial.\n",
    "ponto_minimo"
   ]
  },
  {
   "cell_type": "code",
   "execution_count": 196,
   "metadata": {},
   "outputs": [
    {
     "data": {
      "text/plain": [
       "array([4.9999994])"
      ]
     },
     "execution_count": 196,
     "metadata": {},
     "output_type": "execute_result"
    }
   ],
   "source": [
    "#O minimo ocorre em...\n",
    "ponto_minimo.x"
   ]
  },
  {
   "cell_type": "code",
   "execution_count": 197,
   "metadata": {},
   "outputs": [
    {
     "data": {
      "text/plain": [
       "40.000000000000284"
      ]
     },
     "execution_count": 197,
     "metadata": {},
     "output_type": "execute_result"
    }
   ],
   "source": [
    "#O valor da função nesse ponto é...\n",
    "ponto_minimo.fun"
   ]
  },
  {
   "cell_type": "markdown",
   "metadata": {},
   "source": [
    "Note que Python nos dá uma solução _numérica_, _aproximada_, mas suficientemente boa para qualquer aplicação prática."
   ]
  },
  {
   "cell_type": "markdown",
   "metadata": {},
   "source": [
    "Vamos ver no gráfico se realmente encontramos o ponto de mínimo?"
   ]
  },
  {
   "cell_type": "code",
   "execution_count": 198,
   "metadata": {},
   "outputs": [
    {
     "data": {
      "image/png": "[encoded data removed]",
      "text/plain": [
       "<Figure size 432x288 with 1 Axes>"
      ]
     },
     "metadata": {
      "needs_background": "light"
     },
     "output_type": "display_data"
    }
   ],
   "source": [
    "import matplotlib.pyplot as plt\n",
    "import numpy as np\n",
    "x = np.linspace(0.1,100,1000)\n",
    "y = f(x)\n",
    "plt.plot(x,y)\n",
    "plt.axhline(y=ponto_minimo.fun, linestyle='dashed', color='grey')\n",
    "plt.plot(ponto_minimo.x, ponto_minimo.fun, 'ro')\n",
    "plt.show()"
   ]
  },
  {
   "cell_type": "markdown",
   "metadata": {},
   "source": [
    "Claro que o título dessa aula é um pouco forçado. Existe mais em Matemática 2 do que isso. Há todo uma série de conceitos, como a diferença entre um mínimo local e um mínimo global, por exemplo. Há ainda o entendimento de como o Python está chegando ao ponto de mínimo. Mas o Python consegue resolver um número muito grande de problemas desse tipo, muito mais do que você consegue resolver na mão. Por exemplo, encontrar o mínimo desta função:\n",
    "\n",
    "$$\n",
    "g(x) = x \\cdot e^{-x^2}\n",
    "$$"
   ]
  },
  {
   "cell_type": "code",
   "execution_count": 207,
   "metadata": {},
   "outputs": [],
   "source": [
    "def g(x):\n",
    "    from numpy import exp\n",
    "    return(x * exp(-x**2))"
   ]
  },
  {
   "cell_type": "code",
   "execution_count": 208,
   "metadata": {},
   "outputs": [
    {
     "data": {
      "image/png": "[encoded data removed]",
      "text/plain": [
       "<Figure size 432x288 with 1 Axes>"
      ]
     },
     "metadata": {
      "needs_background": "light"
     },
     "output_type": "display_data"
    }
   ],
   "source": [
    "x = np.linspace(-5,5,1000)\n",
    "y = g(x)\n",
    "plt.plot(x,y)\n",
    "plt.show()"
   ]
  },
  {
   "cell_type": "code",
   "execution_count": 209,
   "metadata": {},
   "outputs": [
    {
     "data": {
      "text/plain": [
       "      fun: -0.42888194247943506\n",
       " hess_inv: array([[0.57925723]])\n",
       "      jac: array([-1.76206231e-06])\n",
       "  message: 'Optimization terminated successfully.'\n",
       "     nfev: 12\n",
       "      nit: 5\n",
       "     njev: 6\n",
       "   status: 0\n",
       "  success: True\n",
       "        x: array([-0.70710782])"
      ]
     },
     "execution_count": 209,
     "metadata": {},
     "output_type": "execute_result"
    }
   ],
   "source": [
    "## == Matemática 2 em 3 linhas de código == ##\n",
    "from scipy.optimize import minimize\n",
    "ponto_minimo = minimize(g, x0 = 0) # x0=1 é um cute inicial.\n",
    "ponto_minimo"
   ]
  },
  {
   "cell_type": "code",
   "execution_count": 202,
   "metadata": {},
   "outputs": [
    {
     "data": {
      "image/png": "[encoded data removed]",
      "text/plain": [
       "<Figure size 432x288 with 1 Axes>"
      ]
     },
     "metadata": {
      "needs_background": "light"
     },
     "output_type": "display_data"
    }
   ],
   "source": [
    "import matplotlib.pyplot as plt\n",
    "import numpy as np\n",
    "x = np.linspace(-5,5,1000)\n",
    "y = g(x)\n",
    "plt.plot(x,y)\n",
    "plt.axhline(y=ponto_minimo.fun, linestyle='dashed', color='grey')\n",
    "plt.plot(ponto_minimo.x, ponto_minimo.fun, 'ro')\n",
    "plt.show()"
   ]
  }
 ],
 "metadata": {
  "kernelspec": {
   "display_name": "Python 3",
   "language": "python",
   "name": "python3"
  },
  "language_info": {
   "codemirror_mode": {
    "name": "ipython",
    "version": 3
   },
   "file_extension": ".py",
   "mimetype": "text/x-python",
   "name": "python",
   "nbconvert_exporter": "python",
   "pygments_lexer": "ipython3",
   "version": "3.8.5"
  }
 },
 "nbformat": 4,
 "nbformat_minor": 4
}
