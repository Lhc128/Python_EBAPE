{
 "cells": [
  {
   "cell_type": "markdown",
   "metadata": {},
   "source": [
    "### Gestão de estoques (Lote Econômico Ótimo)\n",
    "\n",
    "Um dos problemas clássicos em Administração é o problema de se gerir um estoque.\n",
    "\n",
    "Existem dois custos em gestão de estoques:\n",
    "* O custo de se encomendar itens\n",
    "* O custo de se manter itens em estoque\n",
    "\n",
    "Pense em um estoque de um único item. A empresa encomenda sempre a mesma quantidade, $Q$.   \n",
    "Encomendar tem um custo. Frete, por exemplo.\n",
    "\n",
    "Então você poderia pensar: vou encomendar um lote grande para pagar pouco frete.\n",
    "Aí você paga um dinheirão para fazer um estoque enorme.\n",
    "Esse dinheiro poderia estar sendo investido, rendendo juros.\n",
    "Você está abrindo mão desses juros. Isso é um custo. Um _custo de oportunidade_. A oportunidade de ganhar dinheiro que você não está ganhando.\n",
    "\n",
    "> Estoque é dinheiro na prateleira.\n",
    "\n",
    "Você não quer ter muito dinheiro parado, sem render juros, sem ser investido.\n",
    "Então muito estoque também custa caro.\n",
    "\n",
    "Em suma:\n",
    "Pedir lotes pequenos é ruim, porque você paga muito frente.\n",
    "Mas pedir lotes grandes também é ruim, porque você deixa dinheiro parado, sem render.\n",
    "\n",
    "**Qual é o tamanho do lote que devemos pedir para ter o menor custo total?**\n",
    "\n",
    "Vamos chamar o tamanho do lote de $Q$.\n",
    "Se nossa demanda é $D$ e pedimos $Q$ a cada vez, então o número de pedidos que faremos é $D/N$.  \n",
    "Se o custo de um pedido (frete, por exemplo), é $A$, entáo o custo de pedidos é\n",
    "\n",
    "$$\n",
    "A\\cdot \\frac{D}{Q}\n",
    "$$\n",
    "\n",
    "Note que quanto maior o lote que encomendamos, _menor_ será esse custo.\n",
    "\n",
    "Suponha que a demanda é constante, para simplificar. Nosso estoque vai de $Q$ a zero. Em média, a quantidade que temos em estoque é $Q/2$. Se o custo de se manter um item em estoque é $H$, então o custo de manter o estoque é\n",
    "\n",
    "$$\n",
    "H\\cdot\\frac{Q}{2}\n",
    "$$\n",
    "\n",
    "Note que quanto maior o lote que encomendamos, _maior_ será esse custo.\n",
    "\n",
    "O custo total é a soma dos dois custos:\n",
    "\n",
    "$$\n",
    "C(Q) = A\\cdot\\frac{D}{Q} + H\\cdot\\frac{Q}{2}\n",
    "$$\n",
    "\n",
    "Qual é o valor de $Q$ que minimiza esse custo?"
   ]
  },
  {
   "cell_type": "markdown",
   "metadata": {},
   "source": [
    "Vamos pegar um caso concreto:\n",
    "\n",
    "> A SmartTalk e uma empresa que vende smartphones. O custo de frete de $A = 100$ reais, o custo de manter uma unidade em estoque de $H = 0.10$ reais por mês e a demanda é de $D = 400$ por mês. Quantos smartphones a SmartTalk deve manter em estoque?\n",
    "\n",
    "Começamos definindo a função que dá o custo total do estoque da empresa em função do tamanho do estoque:\n"
   ]
  },
  {
   "cell_type": "code",
   "execution_count": 13,
   "metadata": {},
   "outputs": [],
   "source": [
    "def C(Q, D = 400, A = 100, H = 0.10):\n",
    "    return((A * D/Q) +( H * Q /2))"
   ]
  },
  {
   "cell_type": "markdown",
   "metadata": {},
   "source": [
    "Python nos permite calcular o mínimo dessa função em apenas 2 linhas de código:"
   ]
  },
  {
   "cell_type": "code",
   "execution_count": 18,
   "metadata": {},
   "outputs": [
    {
     "data": {
      "text/plain": [
       "      fun: 89.44271910041948\n",
       " hess_inv: array([[8892.20407277]])\n",
       "      jac: array([0.])\n",
       "  message: 'Optimization terminated successfully.'\n",
       "     nfev: 32\n",
       "      nit: 13\n",
       "     njev: 16\n",
       "   status: 0\n",
       "  success: True\n",
       "        x: array([894.42442436])"
      ]
     },
     "execution_count": 18,
     "metadata": {},
     "output_type": "execute_result"
    }
   ],
   "source": [
    "from scipy.optimize import minimize\n",
    "minimize(C, x0 = 100) #x0 = 100 é um chute inicial"
   ]
  },
  {
   "cell_type": "markdown",
   "metadata": {},
   "source": [
    "Ou seja: a SmartTalk deve manter 894 itens em estoque. Isso lhe dá o menor custo de estoque, que será de 89.44."
   ]
  },
  {
   "cell_type": "markdown",
   "metadata": {},
   "source": [
    "Simples. Problema resolvido.\n",
    "\n",
    "Mas como o Python sabe que a resposta é essa? Existem várias formas de se chegar nessa resposta, mas uma forma muito comum em Data Science é utilizar o método do **declive do gradiente** ([_gradient descent_](https://en.wikipedia.org/wiki/Gradient_descent)). A ideia é simples:\n",
    "\n",
    "Eu estou em um ponto da função e quero chegar no mínimo. Preciso saber se tenho que andar para a frente ou para trás. Eu olho para a reta tangente à função nesse ponto. Se a reta for crescente, é porque a função está aumentando, logo eu preciso andar para trás. Se a reta for decrescente, é porque a função está diminuindo, logo eu preciso andar para frente.\n",
    "\n",
    "![reta-tangente](https://study.com/cimages/multimages/16/screenshot_from_2020-04-13_14-17-441268120511678723667.jpg)\n",
    "\n",
    "A questão é como saber se a reta tangente é crescente ou decrescente. Em Càlculo você vai aprender que basta olhar para o sinal da derivada. Se a derivada for positiva, a reta será crescente (e teremos que andar para trás). Se a derivada for negativa, a reta será decrescente (e teremos que andar para frente).\n",
    "\n",
    "Isso significa que, a partir de cada ponto $x$, nós damos um passo igual a\n",
    "\n",
    "$$\n",
    "-\\eta\\frac{dy}{dx}\n",
    "$$\n",
    "\n",
    "onde $\\eta$ é um número positivo chamado _velocidade de aprendizagem_ (você vai aprender mais sobre isso no seu curso de Data Science).\n",
    "\n",
    "Se essa expressão aí em cima for positiva, daremos um passo para trás. Se for negativa, daremos um passo para frente.\n",
    "\n",
    "Vamos implementar isso em Python:\n",
    "\n",
    "Primeiro, uma função que cacula a derivada em um ponto:"
   ]
  },
  {
   "cell_type": "code",
   "execution_count": 3,
   "metadata": {},
   "outputs": [],
   "source": [
    "def derivada(f, x, dx = 1e-4):\n",
    "    dy = f(x + dx) - f(x)\n",
    "    return(dy/dx)"
   ]
  },
  {
   "cell_type": "markdown",
   "metadata": {},
   "source": [
    "Agora, uma função que encontra o mínimo.\n",
    "A função pára quando nossos passos pararem de fazer diferença (ou seja, menor do que um valor especificado chamado de _tolerancia_).\n",
    "\n",
    "Vamos colocar também um parâmetro chamado `mostra_trajetória` que nos permite visualizar todos os passos intermediários do algoritmo:"
   ]
  },
  {
   "cell_type": "code",
   "execution_count": 4,
   "metadata": {},
   "outputs": [],
   "source": [
    "def minimo(f, x0, η = 1e-1, tol = 1e-6, n_iter_max = 1e6, mostra_trajetoria = False):\n",
    "    \n",
    "    from numpy import inf\n",
    "    step = inf\n",
    "    x = x0\n",
    "    n_iter = 0\n",
    "    \n",
    "    while (abs(step) > tol) and (n_iter < n_iter_max):\n",
    "        dydx = derivada(f, x)\n",
    "        step = - η * dydx\n",
    "        \n",
    "        if mostra_trajetoria:\n",
    "            print(f'minimo estimado: {x:.5f}. derivada: {dydx:.5f}. passo: {step:.5f}')\n",
    "        \n",
    "        x = x + step\n",
    "        n_iter = n_iter + 1\n",
    "        \n",
    "        if n_iter == n_iter_max:\n",
    "            print('Mínimo não alcançado')\n",
    "            break\n",
    "    \n",
    "    return(x)"
   ]
  },
  {
   "cell_type": "markdown",
   "metadata": {},
   "source": [
    "Vamos testar isso com uma função cujo mínimo nós conhecemos: $f(x) = (x-10)^2$ a partir de um chute inicial de $x = 0$. A resposta deveria ser $10$:"
   ]
  },
  {
   "cell_type": "code",
   "execution_count": 19,
   "metadata": {},
   "outputs": [
    {
     "data": {
      "text/plain": [
       "9.999946786139981"
      ]
     },
     "execution_count": 19,
     "metadata": {},
     "output_type": "execute_result"
    }
   ],
   "source": [
    "def f(x):\n",
    "    return((x-10)**2)\n",
    "\n",
    "minimo(f, x0=0)"
   ]
  },
  {
   "cell_type": "markdown",
   "metadata": {},
   "source": [
    "Vamos ver o camino até se chegar nessa solulção:"
   ]
  },
  {
   "cell_type": "code",
   "execution_count": 20,
   "metadata": {},
   "outputs": [
    {
     "name": "stdout",
     "output_type": "stream",
     "text": [
      "minimo estimado: 0.00000. derivada: -19.99990. passo: 1.99999\n",
      "minimo estimado: 1.99999. derivada: -15.99992. passo: 1.59999\n",
      "minimo estimado: 3.59998. derivada: -12.79994. passo: 1.27999\n",
      "minimo estimado: 4.87998. derivada: -10.23995. passo: 1.02399\n",
      "minimo estimado: 5.90397. derivada: -8.19196. passo: 0.81920\n",
      "minimo estimado: 6.72317. derivada: -6.55357. passo: 0.65536\n",
      "minimo estimado: 7.37852. derivada: -5.24285. passo: 0.52429\n",
      "minimo estimado: 7.90281. derivada: -4.19428. passo: 0.41943\n",
      "minimo estimado: 8.32224. derivada: -3.35543. passo: 0.33554\n",
      "minimo estimado: 8.65778. derivada: -2.68434. passo: 0.26843\n",
      "minimo estimado: 8.92621. derivada: -2.14747. passo: 0.21475\n",
      "minimo estimado: 9.14096. derivada: -1.71798. passo: 0.17180\n",
      "minimo estimado: 9.31276. derivada: -1.37438. passo: 0.13744\n",
      "minimo estimado: 9.45020. derivada: -1.09951. passo: 0.10995\n",
      "minimo estimado: 9.56015. derivada: -0.87960. passo: 0.08796\n",
      "minimo estimado: 9.64811. derivada: -0.70368. passo: 0.07037\n",
      "minimo estimado: 9.71848. derivada: -0.56295. passo: 0.05629\n",
      "minimo estimado: 9.77477. derivada: -0.45036. passo: 0.04504\n",
      "minimo estimado: 9.81981. derivada: -0.36029. passo: 0.03603\n",
      "minimo estimado: 9.85584. derivada: -0.28823. passo: 0.02882\n",
      "minimo estimado: 9.88466. derivada: -0.23058. passo: 0.02306\n",
      "minimo estimado: 9.90772. derivada: -0.18447. passo: 0.01845\n",
      "minimo estimado: 9.92616. derivada: -0.14757. passo: 0.01476\n",
      "minimo estimado: 9.94092. derivada: -0.11806. passo: 0.01181\n",
      "minimo estimado: 9.95273. derivada: -0.09445. passo: 0.00944\n",
      "minimo estimado: 9.96217. derivada: -0.07556. passo: 0.00756\n",
      "minimo estimado: 9.96973. derivada: -0.06045. passo: 0.00604\n",
      "minimo estimado: 9.97577. derivada: -0.04836. passo: 0.00484\n",
      "minimo estimado: 9.98061. derivada: -0.03869. passo: 0.00387\n",
      "minimo estimado: 9.98448. derivada: -0.03095. passo: 0.00309\n",
      "minimo estimado: 9.98757. derivada: -0.02476. passo: 0.00248\n",
      "minimo estimado: 9.99005. derivada: -0.01981. passo: 0.00198\n",
      "minimo estimado: 9.99203. derivada: -0.01585. passo: 0.00158\n",
      "minimo estimado: 9.99361. derivada: -0.01268. passo: 0.00127\n",
      "minimo estimado: 9.99488. derivada: -0.01014. passo: 0.00101\n",
      "minimo estimado: 9.99589. derivada: -0.00811. passo: 0.00081\n",
      "minimo estimado: 9.99670. derivada: -0.00649. passo: 0.00065\n",
      "minimo estimado: 9.99735. derivada: -0.00519. passo: 0.00052\n",
      "minimo estimado: 9.99787. derivada: -0.00415. passo: 0.00042\n",
      "minimo estimado: 9.99829. derivada: -0.00332. passo: 0.00033\n",
      "minimo estimado: 9.99862. derivada: -0.00266. passo: 0.00027\n",
      "minimo estimado: 9.99889. derivada: -0.00213. passo: 0.00021\n",
      "minimo estimado: 9.99910. derivada: -0.00170. passo: 0.00017\n",
      "minimo estimado: 9.99927. derivada: -0.00136. passo: 0.00014\n",
      "minimo estimado: 9.99941. derivada: -0.00109. passo: 0.00011\n",
      "minimo estimado: 9.99951. derivada: -0.00087. passo: 0.00009\n",
      "minimo estimado: 9.99960. derivada: -0.00070. passo: 0.00007\n",
      "minimo estimado: 9.99967. derivada: -0.00056. passo: 0.00006\n",
      "minimo estimado: 9.99973. derivada: -0.00045. passo: 0.00004\n",
      "minimo estimado: 9.99977. derivada: -0.00036. passo: 0.00004\n",
      "minimo estimado: 9.99981. derivada: -0.00029. passo: 0.00003\n",
      "minimo estimado: 9.99984. derivada: -0.00023. passo: 0.00002\n",
      "minimo estimado: 9.99986. derivada: -0.00018. passo: 0.00002\n",
      "minimo estimado: 9.99988. derivada: -0.00015. passo: 0.00001\n",
      "minimo estimado: 9.99989. derivada: -0.00012. passo: 0.00001\n",
      "minimo estimado: 9.99990. derivada: -0.00009. passo: 0.00001\n",
      "minimo estimado: 9.99991. derivada: -0.00007. passo: 0.00001\n",
      "minimo estimado: 9.99992. derivada: -0.00006. passo: 0.00001\n",
      "minimo estimado: 9.99993. derivada: -0.00005. passo: 0.00000\n",
      "minimo estimado: 9.99993. derivada: -0.00004. passo: 0.00000\n",
      "minimo estimado: 9.99993. derivada: -0.00003. passo: 0.00000\n",
      "minimo estimado: 9.99994. derivada: -0.00002. passo: 0.00000\n",
      "minimo estimado: 9.99994. derivada: -0.00002. passo: 0.00000\n",
      "minimo estimado: 9.99994. derivada: -0.00002. passo: 0.00000\n",
      "minimo estimado: 9.99994. derivada: -0.00001. passo: 0.00000\n",
      "minimo estimado: 9.99994. derivada: -0.00001. passo: 0.00000\n",
      "minimo estimado: 9.99995. derivada: -0.00001. passo: 0.00000\n"
     ]
    },
    {
     "data": {
      "text/plain": [
       "9.999946786139981"
      ]
     },
     "execution_count": 20,
     "metadata": {},
     "output_type": "execute_result"
    }
   ],
   "source": [
    "minimo(f, x0=0, mostra_trajetoria=True)"
   ]
  },
  {
   "cell_type": "markdown",
   "metadata": {},
   "source": [
    "Brilhante! Vamos agora aplicar essa função ao nosso problema da SmartTalk:"
   ]
  },
  {
   "cell_type": "markdown",
   "metadata": {},
   "source": [
    "Agora, usamos função `minimo` que criamos anteriormente para descobrir qual tamanho de estoque faz esse custo ser o menor possível. Vamos usar o mesmo chute inicial que usamos anteriormente: 100."
   ]
  },
  {
   "cell_type": "code",
   "execution_count": 21,
   "metadata": {},
   "outputs": [
    {
     "data": {
      "text/plain": [
       "894.3377135991909"
      ]
     },
     "execution_count": 21,
     "metadata": {},
     "output_type": "execute_result"
    }
   ],
   "source": [
    "minimo(C, 100)"
   ]
  },
  {
   "cell_type": "markdown",
   "metadata": {},
   "source": [
    "A SmartTalk deve manter aproximadamente 894 unidades em estoque.  Isso lhe dá um custo de:"
   ]
  },
  {
   "cell_type": "code",
   "execution_count": 22,
   "metadata": {},
   "outputs": [
    {
     "data": {
      "text/plain": [
       "89.4427293064877"
      ]
     },
     "execution_count": 22,
     "metadata": {},
     "output_type": "execute_result"
    }
   ],
   "source": [
    "C(894)"
   ]
  },
  {
   "cell_type": "markdown",
   "metadata": {},
   "source": [
    "Se você quiser ver isso em um gráfico, rode o código abaixo.  \n",
    "Ele vai fazer um gráfico com a função $f(x)$ e marcar o ponto onde ele calculou que é o custo mínimo. \n",
    "Veja se, de fato, ele parece ser o custo mínimo."
   ]
  },
  {
   "cell_type": "code",
   "execution_count": 23,
   "metadata": {},
   "outputs": [
    {
     "data": {
      "image/png": "[encoded data removed]",
      "text/plain": [
       "<Figure size 576x432 with 1 Axes>"
      ]
     },
     "metadata": {
      "needs_background": "light"
     },
     "output_type": "display_data"
    }
   ],
   "source": [
    "import numpy as np\n",
    "import matplotlib.pyplot as plt\n",
    "x = np.arange(100, 5000)\n",
    "y = C(x)\n",
    "plt.figure(figsize=(8,6))\n",
    "plt.plot(x, y, c = 'navy')\n",
    "plt.ylim(-1,400)\n",
    "plt.grid('on')\n",
    "\n",
    "Q_menor_custo = minimo(C, 100)\n",
    "menor_custo = C(Q_menor_custo)\n",
    "plt.plot(Q_menor_custo, menor_custo, 'ro')\n",
    "plt.axhline(y = menor_custo, c = 'green', linestyle = 'dashed')\n",
    "plt.axvline(x=0, c='black')\n",
    "plt.axhline(y=0, c='black')\n",
    "plt.box(False)\n",
    "\n",
    "plt.xlabel('Tamanho do lote')\n",
    "plt.ylabel('Custo')\n",
    "plt.show()"
   ]
  }
 ],
 "metadata": {
  "kernelspec": {
   "display_name": "Python 3",
   "language": "python",
   "name": "python3"
  },
  "language_info": {
   "codemirror_mode": {
    "name": "ipython",
    "version": 3
   },
   "file_extension": ".py",
   "mimetype": "text/x-python",
   "name": "python",
   "nbconvert_exporter": "python",
   "pygments_lexer": "ipython3",
   "version": "3.8.5"
  }
 },
 "nbformat": 4,
 "nbformat_minor": 4
}
