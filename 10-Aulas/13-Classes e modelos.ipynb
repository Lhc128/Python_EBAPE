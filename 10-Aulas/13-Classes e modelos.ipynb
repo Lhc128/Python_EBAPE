{
  "cells": [
    {
      "cell_type": "markdown",
      "id": "cf105078-6c21-486c-b617-277407249f2e",
      "metadata": {
        "id": "cf105078-6c21-486c-b617-277407249f2e"
      },
      "source": [
        "# Classes\n",
        "\n",
        "## Motivação \n",
        "\n",
        "Já aprendemos sobre algumas __Criaturas__ que vivem em Python:\n",
        "\n",
        "- Listas\n",
        "- Tuplas\n",
        "- Conjuntos\n",
        "- Séries\n",
        "- DataFrames\n",
        "- Arrays\n",
        "\n",
        "Como podemos __criar uma criatura nova__?\n",
        "\n",
        "## Conceitos\n",
        "\n",
        "* Abstração\n",
        "* Classe\n",
        "* Instância\n",
        "* Métodos\n",
        "* Atributos\n",
        "\n",
        "## Vamos criar um Círculo\n",
        "\n",
        "* __Atributos__ : centro, raio, área, perímetro\n",
        "* __Módulos__: plot, classifica_ponto"
      ]
    },
    {
      "cell_type": "code",
      "execution_count": null,
      "id": "d383a68b-580f-4310-bb24-40ddf00a4298",
      "metadata": {
        "id": "d383a68b-580f-4310-bb24-40ddf00a4298"
      },
      "outputs": [],
      "source": [
        "import numpy as np\n",
        "from math import pi\n",
        "import matplotlib.pyplot as plt"
      ]
    },
    {
      "cell_type": "code",
      "execution_count": null,
      "id": "5d1d12e2-9564-4ee6-b9c1-feee194fc1e9",
      "metadata": {
        "id": "5d1d12e2-9564-4ee6-b9c1-feee194fc1e9"
      },
      "outputs": [],
      "source": [
        "class circulo():\n",
        "    def __init__(self, centro=(0,0), raio = 1):\n",
        "        \n",
        "        self.centro = centro\n",
        "        self.raio = raio\n",
        "        self.area = pi * raio ** 2\n",
        "        self.perimetro = 2 * pi * raio\n",
        "        pass\n",
        "    \n",
        "    def classifica_ponto(self, x, y):\n",
        "        \n",
        "        xc, yc, r = self.centro[0], self.centro[1], self.raio\n",
        "        distancia_quadrado = (x - xc)**2 + (y - yc)**2\n",
        "        \n",
        "        \n",
        "        if distancia_quadrado < r**2:\n",
        "            return('ponto interno')\n",
        "        elif distancia_quadrado > r**2:\n",
        "            return('ponto externo')\n",
        "        elif distancia_quadrado == r**2:\n",
        "            return('ponto tangente')\n",
        "        else:\n",
        "            return('deu ruim')\n",
        "    \n",
        "    def plot(self, n=100, alpha = 100):\n",
        "        \n",
        "        from numpy import sin, cos\n",
        "        xc, yc, r = self.centro[0], self.centro[1], self.raio\n",
        "        theta = np.linspace(0,2*pi,n)\n",
        "        \n",
        "        x = xc + r * cos(theta)\n",
        "        y = yc + r * sin(theta)\n",
        "        \n",
        "        plt.figure(figsize=(6,6))\n",
        "        plt.plot(x,y)\n",
        "        plt.scatter(x = xc, y = yc, marker='x', s=100)\n",
        "        plt.axis('square')\n",
        "        plt.xlim(xc - r - 1, xc + r + 1)\n",
        "        plt.ylim(yc - r - 1, yc + r + 1)\n",
        "        plt.grid('on')\n",
        "        plt.show()\n",
        "        pass\n",
        "        \n",
        "        "
      ]
    },
    {
      "cell_type": "code",
      "execution_count": null,
      "id": "1109850b-9633-4fff-b3c7-575323366843",
      "metadata": {
        "id": "1109850b-9633-4fff-b3c7-575323366843"
      },
      "outputs": [],
      "source": [
        "q1 = circulo((1,2), 3)"
      ]
    },
    {
      "cell_type": "code",
      "execution_count": null,
      "id": "0046138d-5fb3-4010-ab74-ee4c76d7bb7c",
      "metadata": {
        "id": "0046138d-5fb3-4010-ab74-ee4c76d7bb7c",
        "outputId": "3053d84f-e6cf-4cd7-8a0f-726321a42034"
      },
      "outputs": [
        {
          "data": {
            "image/png": "[encoded data removed]",
            "text/plain": [
              "<Figure size 432x432 with 1 Axes>"
            ]
          },
          "metadata": {
            "needs_background": "light"
          },
          "output_type": "display_data"
        }
      ],
      "source": [
        "q1.plot()"
      ]
    },
    {
      "cell_type": "code",
      "execution_count": null,
      "id": "9b686522-9784-4ce9-9ace-141c1e45d86a",
      "metadata": {
        "id": "9b686522-9784-4ce9-9ace-141c1e45d86a",
        "outputId": "8a5d9195-e048-470c-dbbb-a70a17c77a18"
      },
      "outputs": [
        {
          "data": {
            "text/plain": [
              "'ponto externo'"
            ]
          },
          "execution_count": 82,
          "metadata": {},
          "output_type": "execute_result"
        }
      ],
      "source": [
        "q1.classifica_ponto(4,5)"
      ]
    },
    {
      "cell_type": "code",
      "execution_count": null,
      "id": "3aa4b03f-43d5-41b0-98c7-aab2c5f01032",
      "metadata": {
        "id": "3aa4b03f-43d5-41b0-98c7-aab2c5f01032",
        "outputId": "65b942b0-9749-4688-b1d6-08cba16718ea"
      },
      "outputs": [
        {
          "data": {
            "text/plain": [
              "'ponto interno'"
            ]
          },
          "execution_count": 83,
          "metadata": {},
          "output_type": "execute_result"
        }
      ],
      "source": [
        "q1.classifica_ponto(2,3)"
      ]
    },
    {
      "cell_type": "code",
      "execution_count": null,
      "id": "aebf26ed-b121-430f-bba1-f83187d0d7df",
      "metadata": {
        "id": "aebf26ed-b121-430f-bba1-f83187d0d7df",
        "outputId": "5ed6358c-fa47-47b4-afcc-e3a271d1b6e2"
      },
      "outputs": [
        {
          "data": {
            "text/plain": [
              "'ponto tangente'"
            ]
          },
          "execution_count": 84,
          "metadata": {},
          "output_type": "execute_result"
        }
      ],
      "source": [
        "q1.classifica_ponto(1,-1)"
      ]
    },
    {
      "cell_type": "markdown",
      "id": "9cb67be1-e578-434a-8ed3-949b689a655d",
      "metadata": {
        "id": "9cb67be1-e578-434a-8ed3-949b689a655d"
      },
      "source": [
        "## "
      ]
    },
    {
      "cell_type": "markdown",
      "id": "373e94ee-ba5c-49aa-9e7f-e3fa93d09dfd",
      "metadata": {
        "id": "373e94ee-ba5c-49aa-9e7f-e3fa93d09dfd"
      },
      "source": [
        "## Modelos\n",
        "\n",
        "Exemplo: Regressão Linear Simples"
      ]
    },
    {
      "cell_type": "code",
      "execution_count": null,
      "id": "d56e6509-5f26-493c-a27c-90ae3dfc9069",
      "metadata": {
        "id": "d56e6509-5f26-493c-a27c-90ae3dfc9069"
      },
      "outputs": [],
      "source": [
        "class RLS():\n",
        "    \n",
        "    def __init__(self):\n",
        "        pass\n",
        "    \n",
        "    def fit(self, X,y):\n",
        "        pass\n",
        "    \n",
        "    def predict(self, X):\n",
        "        pass\n",
        "    \n",
        "    def score(self, y, yhat):\n",
        "        #R2 fora da amostra\n",
        "        pass\n",
        "    \n",
        "    def plot(self):\n",
        "        pass"
      ]
    },
    {
      "cell_type": "code",
      "execution_count": null,
      "id": "a63295a1-d52f-4184-927b-998699efeb8a",
      "metadata": {
        "id": "a63295a1-d52f-4184-927b-998699efeb8a"
      },
      "outputs": [],
      "source": [
        "class RLS():\n",
        "    \n",
        "    def __init__(self):\n",
        "        self.coefs = None\n",
        "        self.X = None\n",
        "        self.y = None\n",
        "        self.r2 = None\n",
        "    \n",
        "    def fit(self, X,y):\n",
        "        \n",
        "        self.X = X\n",
        "        self.y = y\n",
        "        \n",
        "        covmat = np.cov(X,y)\n",
        "        coef_angular = covmat[0,1] / covmat[0,0]\n",
        "        coef_linear = y.mean() - coef_angular * X.mean()\n",
        "        \n",
        "        self.coefs = (coef_angular, coef_linear)\n",
        "        self.r2 = np.corrcoef(X,y)[0,1]**2  \n",
        "        \n",
        "        pass\n",
        "    \n",
        "    def predict(self, X):\n",
        "        \n",
        "        a, b = self.coefs\n",
        "        yhat = a * X + b\n",
        "        return(yhat)\n",
        "    \n",
        "    def score(self, y, yhat):\n",
        "        #R2 fora da amostra\n",
        "        return(np.corrcoef(y,yhat)[0,1]**2)\n",
        "        \n",
        "    \n",
        "    def plot(self):\n",
        "        \n",
        "        X, y = self.X, self.y\n",
        "        \n",
        "        dominio = np.linspace(min(X), max(X), 1000)\n",
        "        imagem = self.predict(dominio)\n",
        "        \n",
        "        plt.figure(figsize=(20,10))\n",
        "        plt.scatter(X,y, c='lightgray')\n",
        "        plt.plot(dominio, imagem, c='red')\n",
        "        plt.grid('on')\n",
        "        plt.show()\n"
      ]
    },
    {
      "cell_type": "code",
      "execution_count": null,
      "id": "ba086cdf-a7a3-4a83-b6fb-d90855c3642b",
      "metadata": {
        "id": "ba086cdf-a7a3-4a83-b6fb-d90855c3642b"
      },
      "outputs": [],
      "source": [
        "np.random.seed(0)"
      ]
    },
    {
      "cell_type": "code",
      "execution_count": null,
      "id": "cd3b5f07-5430-467f-86ee-6805705e3a3a",
      "metadata": {
        "id": "cd3b5f07-5430-467f-86ee-6805705e3a3a"
      },
      "outputs": [],
      "source": [
        "n = 1000\n",
        "X = np.linspace(0,10, n)\n",
        "y = 2 * X + 1 + np.random.normal(scale=1, size=n)"
      ]
    },
    {
      "cell_type": "code",
      "execution_count": null,
      "id": "ae9e657b-e99a-4820-832b-50b29681b9a4",
      "metadata": {
        "id": "ae9e657b-e99a-4820-832b-50b29681b9a4",
        "outputId": "4b4c574a-59bf-4ae7-ab50-f64e72383e98"
      },
      "outputs": [
        {
          "name": "stdout",
          "output_type": "stream",
          "text": [
            "(1.998137835415675, 0.9640541154314306)\n",
            "0.971607527200776\n"
          ]
        }
      ],
      "source": [
        "rl = RLS()\n",
        "rl.fit(X,y)\n",
        "print(rl.coefs)\n",
        "print(rl.r2)"
      ]
    },
    {
      "cell_type": "code",
      "execution_count": null,
      "id": "ea278e32-ca04-4480-aa38-ea6579eb6c8e",
      "metadata": {
        "id": "ea278e32-ca04-4480-aa38-ea6579eb6c8e",
        "outputId": "dd0ceb31-6d30-4ca1-a15f-da3dc084f4e9"
      },
      "outputs": [
        {
          "data": {
            "text/plain": [
              "array([17.38682708, 14.96158158, 18.6091617 , 20.27755703, 16.44457932])"
            ]
          },
          "execution_count": 55,
          "metadata": {},
          "output_type": "execute_result"
        }
      ],
      "source": [
        "X_teste = np.random.uniform(0,10, 5)\n",
        "y_teste = 2 * X_teste + 1 + np.random.normal(scale=1, size=5)\n",
        "rl.predict(X_teste)"
      ]
    },
    {
      "cell_type": "code",
      "execution_count": null,
      "id": "407ffc7c-b75a-4c83-b67a-1ef63526a102",
      "metadata": {
        "id": "407ffc7c-b75a-4c83-b67a-1ef63526a102",
        "outputId": "cf6ef1e0-3999-4091-be1a-4abe8a88668d"
      },
      "outputs": [
        {
          "data": {
            "text/plain": [
              "0.9417702709657686"
            ]
          },
          "execution_count": 56,
          "metadata": {},
          "output_type": "execute_result"
        }
      ],
      "source": [
        "rl.score(y_teste, rl.predict(X_teste))"
      ]
    },
    {
      "cell_type": "code",
      "execution_count": null,
      "id": "146f32e6-4497-4dec-9baf-3665926a7259",
      "metadata": {
        "id": "146f32e6-4497-4dec-9baf-3665926a7259",
        "outputId": "0fb4f819-e1cf-439d-826a-98c551a81fce"
      },
      "outputs": [
        {
          "data": {
            "image/png": "[encoded data removed]",
            "text/plain": [
              "<Figure size 1440x720 with 1 Axes>"
            ]
          },
          "metadata": {
            "needs_background": "light"
          },
          "output_type": "display_data"
        }
      ],
      "source": [
        "rl.plot()"
      ]
    },
    {
      "cell_type": "markdown",
      "id": "6efccf1f-1f57-404a-bc8f-72f2a42838de",
      "metadata": {
        "id": "6efccf1f-1f57-404a-bc8f-72f2a42838de"
      },
      "source": [
        "## Modelos do `scikit-learn`"
      ]
    },
    {
      "cell_type": "code",
      "execution_count": null,
      "id": "43616140-2ae2-4506-9a34-915447d4a55c",
      "metadata": {
        "id": "43616140-2ae2-4506-9a34-915447d4a55c"
      },
      "outputs": [],
      "source": [
        "from sklearn.linear_model import LinearRegression\n",
        "from sklearn.metrics import r2_score"
      ]
    },
    {
      "cell_type": "code",
      "execution_count": null,
      "id": "257c2fa9-3b6f-47da-9eb7-b599786da2d1",
      "metadata": {
        "id": "257c2fa9-3b6f-47da-9eb7-b599786da2d1",
        "outputId": "1f3ceb66-c7c9-4076-fef5-e59010b5b8de"
      },
      "outputs": [
        {
          "data": {
            "text/plain": [
              "['__abstractmethods__',\n",
              " '__class__',\n",
              " '__delattr__',\n",
              " '__dict__',\n",
              " '__dir__',\n",
              " '__doc__',\n",
              " '__eq__',\n",
              " '__format__',\n",
              " '__ge__',\n",
              " '__getattribute__',\n",
              " '__getstate__',\n",
              " '__gt__',\n",
              " '__hash__',\n",
              " '__init__',\n",
              " '__init_subclass__',\n",
              " '__le__',\n",
              " '__lt__',\n",
              " '__module__',\n",
              " '__ne__',\n",
              " '__new__',\n",
              " '__reduce__',\n",
              " '__reduce_ex__',\n",
              " '__repr__',\n",
              " '__setattr__',\n",
              " '__setstate__',\n",
              " '__sizeof__',\n",
              " '__str__',\n",
              " '__subclasshook__',\n",
              " '__weakref__',\n",
              " '_abc_impl',\n",
              " '_check_n_features',\n",
              " '_decision_function',\n",
              " '_estimator_type',\n",
              " '_get_param_names',\n",
              " '_get_tags',\n",
              " '_more_tags',\n",
              " '_preprocess_data',\n",
              " '_repr_html_',\n",
              " '_repr_html_inner',\n",
              " '_repr_mimebundle_',\n",
              " '_set_intercept',\n",
              " '_validate_data',\n",
              " 'fit',\n",
              " 'get_params',\n",
              " 'predict',\n",
              " 'score',\n",
              " 'set_params']"
            ]
          },
          "execution_count": 74,
          "metadata": {},
          "output_type": "execute_result"
        }
      ],
      "source": [
        "dir(LinearRegression)"
      ]
    },
    {
      "cell_type": "code",
      "execution_count": null,
      "id": "22059e8a-7e05-4931-8d69-cf17debb803b",
      "metadata": {
        "id": "22059e8a-7e05-4931-8d69-cf17debb803b",
        "outputId": "445b5935-30b1-4c9f-f3fb-c8a3149b84a4"
      },
      "outputs": [
        {
          "data": {
            "text/plain": [
              "(1000, 1)"
            ]
          },
          "execution_count": 75,
          "metadata": {},
          "output_type": "execute_result"
        }
      ],
      "source": [
        "X.shape"
      ]
    },
    {
      "cell_type": "code",
      "execution_count": null,
      "id": "b35c4865-272e-4e00-b58e-b5b69db925ac",
      "metadata": {
        "id": "b35c4865-272e-4e00-b58e-b5b69db925ac"
      },
      "outputs": [],
      "source": [
        "X = X.reshape(-1,1)\n",
        "y = y.reshape(-1,1)\n",
        "X_teste = X_teste.reshape(-1,1)\n",
        "y_teste = y_teste.reshape(-1,1)"
      ]
    },
    {
      "cell_type": "code",
      "execution_count": null,
      "id": "e74f4942-f44c-4bfd-8131-7d321696491c",
      "metadata": {
        "id": "e74f4942-f44c-4bfd-8131-7d321696491c",
        "outputId": "4e38cef3-2dd3-4801-afcc-24a4237cec4a"
      },
      "outputs": [
        {
          "data": {
            "text/plain": [
              "array([[17.38682708],\n",
              "       [14.96158158],\n",
              "       [18.6091617 ],\n",
              "       [20.27755703],\n",
              "       [16.44457932]])"
            ]
          },
          "execution_count": 77,
          "metadata": {},
          "output_type": "execute_result"
        }
      ],
      "source": [
        "lr = LinearRegression()\n",
        "lr.fit(X,y)\n",
        "lr.predict(X_teste)"
      ]
    },
    {
      "cell_type": "code",
      "execution_count": null,
      "id": "0426d2cf-9831-4906-b9bd-ee7a13e54f26",
      "metadata": {
        "id": "0426d2cf-9831-4906-b9bd-ee7a13e54f26",
        "outputId": "90e87c31-43e4-43d1-c2a6-013881bb3a9c"
      },
      "outputs": [
        {
          "data": {
            "text/plain": [
              "0.9127867518510451"
            ]
          },
          "execution_count": 78,
          "metadata": {},
          "output_type": "execute_result"
        }
      ],
      "source": [
        "r2_score(y_teste, lr.predict(X_teste))"
      ]
    },
    {
      "cell_type": "markdown",
      "source": [
        "## Outros comentários sobre Classes em Python\n",
        "\n",
        "\n",
        "### Hereditariedade\n",
        "\n"
      ],
      "metadata": {
        "id": "_Ffug7XlUdKs"
      },
      "id": "_Ffug7XlUdKs"
    },
    {
      "cell_type": "code",
      "execution_count": 1,
      "id": "7a77c663-3182-4b52-b817-2a8fa3bdfcd8",
      "metadata": {
        "id": "7a77c663-3182-4b52-b817-2a8fa3bdfcd8"
      },
      "outputs": [],
      "source": [
        "class Retangulo():\n",
        "  \n",
        "  def __init__(self, base, altura):\n",
        "    self.base = base\n",
        "    self.altura = altura\n",
        "    pass\n",
        "  \n",
        "  def area(self):\n",
        "    return(self.base * self.altura)\n",
        "  \n",
        "  def perimetro(self):\n",
        "    return(2*(self.base + self.altura))"
      ]
    },
    {
      "cell_type": "code",
      "source": [
        "R1 = Retangulo(3,2)\n",
        "R1.area(), R1.perimetro()"
      ],
      "metadata": {
        "id": "ntZpzpOIU_le",
        "outputId": "6b32cf76-231c-4239-a56f-ade560b6b997",
        "colab": {
          "base_uri": "https://localhost:8080/"
        }
      },
      "id": "ntZpzpOIU_le",
      "execution_count": 2,
      "outputs": [
        {
          "output_type": "execute_result",
          "data": {
            "text/plain": [
              "(6, 10)"
            ]
          },
          "metadata": {},
          "execution_count": 2
        }
      ]
    },
    {
      "cell_type": "code",
      "source": [
        "class Quadrado(Retangulo):\n",
        "  def __init__(self, lado):\n",
        "    super().__init__(lado, lado)\n",
        "    pass"
      ],
      "metadata": {
        "id": "7dhg0bw0VFcD"
      },
      "id": "7dhg0bw0VFcD",
      "execution_count": 16,
      "outputs": []
    },
    {
      "cell_type": "code",
      "source": [
        "Q1 = Quadrado(5)\n",
        "Q1.area(), Q1.perimetro()"
      ],
      "metadata": {
        "id": "4yCL0lJJVTjQ",
        "outputId": "99609104-5c4b-49bf-9bae-aa4b33c7a4f3",
        "colab": {
          "base_uri": "https://localhost:8080/"
        }
      },
      "id": "4yCL0lJJVTjQ",
      "execution_count": 15,
      "outputs": [
        {
          "output_type": "execute_result",
          "data": {
            "text/plain": [
              "(25, 20)"
            ]
          },
          "metadata": {},
          "execution_count": 15
        }
      ]
    },
    {
      "cell_type": "markdown",
      "source": [
        "### Números são classes"
      ],
      "metadata": {
        "id": "IE_nAyf7Vdvx"
      },
      "id": "IE_nAyf7Vdvx"
    },
    {
      "cell_type": "code",
      "source": [
        "#Números são classes\n",
        "dir(int)"
      ],
      "metadata": {
        "id": "NCMmXEvVVY4R",
        "outputId": "296fc66d-6730-4007-e17c-b090a4c8f54c",
        "colab": {
          "base_uri": "https://localhost:8080/"
        }
      },
      "id": "NCMmXEvVVY4R",
      "execution_count": 7,
      "outputs": [
        {
          "output_type": "execute_result",
          "data": {
            "text/plain": [
              "['__abs__',\n",
              " '__add__',\n",
              " '__and__',\n",
              " '__bool__',\n",
              " '__ceil__',\n",
              " '__class__',\n",
              " '__delattr__',\n",
              " '__dir__',\n",
              " '__divmod__',\n",
              " '__doc__',\n",
              " '__eq__',\n",
              " '__float__',\n",
              " '__floor__',\n",
              " '__floordiv__',\n",
              " '__format__',\n",
              " '__ge__',\n",
              " '__getattribute__',\n",
              " '__getnewargs__',\n",
              " '__gt__',\n",
              " '__hash__',\n",
              " '__index__',\n",
              " '__init__',\n",
              " '__init_subclass__',\n",
              " '__int__',\n",
              " '__invert__',\n",
              " '__le__',\n",
              " '__lshift__',\n",
              " '__lt__',\n",
              " '__mod__',\n",
              " '__mul__',\n",
              " '__ne__',\n",
              " '__neg__',\n",
              " '__new__',\n",
              " '__or__',\n",
              " '__pos__',\n",
              " '__pow__',\n",
              " '__radd__',\n",
              " '__rand__',\n",
              " '__rdivmod__',\n",
              " '__reduce__',\n",
              " '__reduce_ex__',\n",
              " '__repr__',\n",
              " '__rfloordiv__',\n",
              " '__rlshift__',\n",
              " '__rmod__',\n",
              " '__rmul__',\n",
              " '__ror__',\n",
              " '__round__',\n",
              " '__rpow__',\n",
              " '__rrshift__',\n",
              " '__rshift__',\n",
              " '__rsub__',\n",
              " '__rtruediv__',\n",
              " '__rxor__',\n",
              " '__setattr__',\n",
              " '__sizeof__',\n",
              " '__str__',\n",
              " '__sub__',\n",
              " '__subclasshook__',\n",
              " '__truediv__',\n",
              " '__trunc__',\n",
              " '__xor__',\n",
              " 'bit_length',\n",
              " 'conjugate',\n",
              " 'denominator',\n",
              " 'from_bytes',\n",
              " 'imag',\n",
              " 'numerator',\n",
              " 'real',\n",
              " 'to_bytes']"
            ]
          },
          "metadata": {},
          "execution_count": 7
        }
      ]
    },
    {
      "cell_type": "markdown",
      "source": [
        "### Métodos especiais e operações com classes"
      ],
      "metadata": {
        "id": "7lCLUE5IXW2T"
      },
      "id": "7lCLUE5IXW2T"
    },
    {
      "cell_type": "code",
      "source": [
        "class Quadrado(Retangulo):\n",
        "  def __init__(self, lado):\n",
        "    super().__init__(lado, lado)\n",
        "    self.lado = lado\n",
        "    pass\n",
        "  \n",
        "  def __gt__(self, outro_quadrado):\n",
        "\n",
        "    L1 = self.lado\n",
        "    L2 = outro_quadrado.lado\n",
        "    return(L1 > L2)\n",
        "    "
      ],
      "metadata": {
        "id": "LI7ZKY67WzJE"
      },
      "id": "LI7ZKY67WzJE",
      "execution_count": 82,
      "outputs": []
    },
    {
      "cell_type": "code",
      "source": [
        "Q1 = Quadrado(5)\n",
        "Q2 = Quadrado(3)\n",
        "Q1 > Q2"
      ],
      "metadata": {
        "id": "ICrKDs-gX0Fv",
        "outputId": "dc038415-e427-4ad3-c465-91b17f9462cb",
        "colab": {
          "base_uri": "https://localhost:8080/"
        }
      },
      "id": "ICrKDs-gX0Fv",
      "execution_count": 83,
      "outputs": [
        {
          "output_type": "execute_result",
          "data": {
            "text/plain": [
              "True"
            ]
          },
          "metadata": {},
          "execution_count": 83
        }
      ]
    },
    {
      "cell_type": "code",
      "source": [
        "Q1 = Quadrado(15)\n",
        "Q2 = Quadrado(31)\n",
        "Q1 > Q2"
      ],
      "metadata": {
        "id": "c-PnGJdeiZCZ",
        "outputId": "6d014b6a-83f4-4b48-fe2f-97e9cedaa142",
        "colab": {
          "base_uri": "https://localhost:8080/"
        }
      },
      "id": "c-PnGJdeiZCZ",
      "execution_count": 84,
      "outputs": [
        {
          "output_type": "execute_result",
          "data": {
            "text/plain": [
              "False"
            ]
          },
          "metadata": {},
          "execution_count": 84
        }
      ]
    },
    {
      "cell_type": "code",
      "source": [
        "class vetor():\n",
        "\n",
        "  def __init__(self, x, y):\n",
        "    self.x = x\n",
        "    self.y = y\n",
        "    pass\n",
        "\n",
        "  def __add__(self, v):\n",
        "    return(self.x + v.x, self.y + v.y)\n",
        "\n",
        "  def __mul__(self, v):\n",
        "    return(self.x * v.x + self.y * v.y)\n",
        "\n",
        "  def __mod__\n",
        "\n",
        "  def __str__(self):\n",
        "    return(f'({self.x} ; {self.y})')\n",
        "\n",
        "\n",
        "  "
      ],
      "metadata": {
        "id": "FXX_qPhRbJzi"
      },
      "id": "FXX_qPhRbJzi",
      "execution_count": 74,
      "outputs": []
    },
    {
      "cell_type": "code",
      "source": [
        "u = vetor(2,-1)\n",
        "v = vetor(3,5)"
      ],
      "metadata": {
        "id": "BzQXD3YQbvJp"
      },
      "id": "BzQXD3YQbvJp",
      "execution_count": 75,
      "outputs": []
    },
    {
      "cell_type": "code",
      "source": [
        "u + v"
      ],
      "metadata": {
        "id": "v2vbYUIOb0mn",
        "outputId": "9ce4fbbe-888b-4699-9350-f7aae8b9caec",
        "colab": {
          "base_uri": "https://localhost:8080/"
        }
      },
      "id": "v2vbYUIOb0mn",
      "execution_count": 76,
      "outputs": [
        {
          "output_type": "execute_result",
          "data": {
            "text/plain": [
              "(5, 4)"
            ]
          },
          "metadata": {},
          "execution_count": 76
        }
      ]
    },
    {
      "cell_type": "code",
      "source": [
        "u * v"
      ],
      "metadata": {
        "id": "NjGdpi3Db1Fl",
        "outputId": "857b6c70-8192-43f5-a184-2cfa8982ecc4",
        "colab": {
          "base_uri": "https://localhost:8080/"
        }
      },
      "id": "NjGdpi3Db1Fl",
      "execution_count": 77,
      "outputs": [
        {
          "output_type": "execute_result",
          "data": {
            "text/plain": [
              "1"
            ]
          },
          "metadata": {},
          "execution_count": 77
        }
      ]
    },
    {
      "cell_type": "code",
      "source": [
        "str(u)"
      ],
      "metadata": {
        "id": "5rtULjidb2yu",
        "outputId": "3af4d9e5-f3bd-4896-d7b0-10cee6a51c21",
        "colab": {
          "base_uri": "https://localhost:8080/",
          "height": 36
        }
      },
      "id": "5rtULjidb2yu",
      "execution_count": 78,
      "outputs": [
        {
          "output_type": "execute_result",
          "data": {
            "text/plain": [
              "'(2 ; -1)'"
            ],
            "application/vnd.google.colaboratory.intrinsic+json": {
              "type": "string"
            }
          },
          "metadata": {},
          "execution_count": 78
        }
      ]
    },
    {
      "cell_type": "code",
      "source": [],
      "metadata": {
        "id": "atK47joPcRPY"
      },
      "id": "atK47joPcRPY",
      "execution_count": null,
      "outputs": []
    }
  ],
  "metadata": {
    "kernelspec": {
      "display_name": "Python 3 (ipykernel)",
      "language": "python",
      "name": "python3"
    },
    "language_info": {
      "codemirror_mode": {
        "name": "ipython",
        "version": 3
      },
      "file_extension": ".py",
      "mimetype": "text/x-python",
      "name": "python",
      "nbconvert_exporter": "python",
      "pygments_lexer": "ipython3",
      "version": "3.8.5"
    },
    "colab": {
      "provenance": []
    }
  },
  "nbformat": 4,
  "nbformat_minor": 5
}