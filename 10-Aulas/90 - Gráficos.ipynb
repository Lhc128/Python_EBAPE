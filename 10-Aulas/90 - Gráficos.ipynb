{
 "cells": [
  {
   "cell_type": "markdown",
   "id": "bd471347-39f7-4ce2-9bee-63ea18850b9d",
   "metadata": {},
   "source": [
    "# Gráficos e visualização"
   ]
  },
  {
   "cell_type": "markdown",
   "id": "8cf4ad64-bd18-4417-bf5d-e115dfaf2916",
   "metadata": {},
   "source": [
    "Vários pacotes disponíveis!\n",
    "\n",
    "![pacotes-viz](https://optimise2.assets-servd.host/voracious-blesbok/production/Blog/PythonVisLandscape.jpg?w=1200&auto=compress%2Cformat&fit=crop&dm=1632326979&s=35cf543e04fd14bcc881ef8e70363860)\n"
   ]
  },
  {
   "cell_type": "markdown",
   "id": "10411b28-7bbf-47c4-85d3-0014f019ba24",
   "metadata": {},
   "source": [
    "Da minha experiência, as que eu mais vejo sendo utilizadas são:\n",
    "* matplotlib\n",
    "* seaborn\n",
    "* pandas\n",
    "* bokeh\n",
    "* plotly\n",
    "\n",
    "__matplotlib__ é uma linguagem mais baixo-nível, baseada no conceito de __gramática dos gráficos__. É a mais poderosa e tanto seaborn quanto pandas são versões facilitadas de matplotlib. \n",
    "\n",
    "__seaborn__ é um pacote que agrupa vários comandos do matplotlib em funções. É uma abordagem mais _funcional_ para a construção de gráficos, menos calcada no conceito de gramática dos gráficos.\n",
    "\n",
    "__pandas__ é um pacote que trata gráficos como uma extensão de um dataframe. Um dataframe pode ser representado igualmente por uma tabela ou por um gráfico.\n",
    "\n",
    "__bokeh__ e __plotly__ permitem a construção de gráficos iterativos: o usuário pode dar zoom, selecionar uma região do gráfico, ou interagir com o gráfico de outras maneiras.\n",
    "\n",
    "Para aplicações de Data Science & Machine Learning em Economia, conseguimos fazer tudo com __matplotlib__ e __seaborn__, mas __pandas__ é útil, porque é uma extensão de um pacote que já conhecemos.\n",
    "\n",
    "Neste notebook, vamos falar sobre __pandas__, __seaborn__, __matplotlib__ e um pouquinho de __plotly__."
   ]
  },
  {
   "cell_type": "markdown",
   "id": "edc53961-40cb-4a61-91a3-3350b2aa8dc0",
   "metadata": {},
   "source": [
    "## Antes de começar: Importar base de dados"
   ]
  },
  {
   "cell_type": "code",
   "execution_count": 65,
   "id": "dbeb6218-5b56-45d4-ba77-45b8b3f53be0",
   "metadata": {},
   "outputs": [],
   "source": [
    "#Dados \n",
    "import pandas as pd\n",
    "import numpy as np\n",
    "from numpy import log10\n",
    "pd.options.plotting.backend = 'matplotlib'"
   ]
  },
  {
   "cell_type": "code",
   "execution_count": 66,
   "id": "cf44a012-d38e-4803-891e-22c524c601f1",
   "metadata": {},
   "outputs": [
    {
     "data": {
      "text/html": [
       "<div><div id=a854cc0f-f2ef-46ad-8452-bb2541a8cc79 style=\"display:none; background-color:#9D6CFF; color:white; width:200px; height:30px; padding-left:5px; border-radius:4px; flex-direction:row; justify-content:space-around; align-items:center;\" onmouseover=\"this.style.backgroundColor='#BA9BF8'\" onmouseout=\"this.style.backgroundColor='#9D6CFF'\" onclick=\"window.commands?.execute('create-mitosheet-from-dataframe-output');\">See Full Dataframe in Mito</div> <script> if (window.commands.hasCommand('create-mitosheet-from-dataframe-output')) document.getElementById('a854cc0f-f2ef-46ad-8452-bb2541a8cc79').style.display = 'flex' </script> <table border=\"1\" class=\"dataframe\">\n",
       "  <thead>\n",
       "    <tr style=\"text-align: right;\">\n",
       "      <th></th>\n",
       "      <th>Year</th>\n",
       "      <th>Country Name</th>\n",
       "      <th>Country Code</th>\n",
       "      <th>GDP per capita (constant 2010 US$)</th>\n",
       "      <th>Population, total</th>\n",
       "      <th>CO2 emissions (metric tons per capita)</th>\n",
       "      <th>Mortality rate attributed to household and ambient air pollution, age-standardized (per 100,000 population)</th>\n",
       "      <th>PM2.5 air pollution, population exposed to levels exceeding WHO guideline value (% of total)</th>\n",
       "      <th>Life expectancy at birth, total (years)</th>\n",
       "      <th>Mortality rate, under-5 (per 1,000 live births)</th>\n",
       "      <th>Literacy rate, youth female (% of females ages 15-24)</th>\n",
       "      <th>logPop</th>\n",
       "    </tr>\n",
       "  </thead>\n",
       "  <tbody>\n",
       "    <tr>\n",
       "      <th>10270</th>\n",
       "      <td>2018</td>\n",
       "      <td>Gambia, The</td>\n",
       "      <td>GMB</td>\n",
       "      <td>791.453516</td>\n",
       "      <td>2280092.0</td>\n",
       "      <td>0.249990</td>\n",
       "      <td>NaN</td>\n",
       "      <td>NaN</td>\n",
       "      <td>61.735</td>\n",
       "      <td>53.7</td>\n",
       "      <td>NaN</td>\n",
       "      <td>6.357952</td>\n",
       "    </tr>\n",
       "    <tr>\n",
       "      <th>10384</th>\n",
       "      <td>2018</td>\n",
       "      <td>Sudan</td>\n",
       "      <td>SDN</td>\n",
       "      <td>2095.047956</td>\n",
       "      <td>41801532.0</td>\n",
       "      <td>0.483236</td>\n",
       "      <td>NaN</td>\n",
       "      <td>NaN</td>\n",
       "      <td>65.095</td>\n",
       "      <td>60.3</td>\n",
       "      <td>73.489998</td>\n",
       "      <td>7.621192</td>\n",
       "    </tr>\n",
       "    <tr>\n",
       "      <th>10222</th>\n",
       "      <td>2018</td>\n",
       "      <td>Bolivia</td>\n",
       "      <td>BOL</td>\n",
       "      <td>2559.511644</td>\n",
       "      <td>11353140.0</td>\n",
       "      <td>2.000328</td>\n",
       "      <td>NaN</td>\n",
       "      <td>NaN</td>\n",
       "      <td>71.239</td>\n",
       "      <td>27.0</td>\n",
       "      <td>NaN</td>\n",
       "      <td>7.055116</td>\n",
       "    </tr>\n",
       "    <tr>\n",
       "      <th>10219</th>\n",
       "      <td>2018</td>\n",
       "      <td>Benin</td>\n",
       "      <td>BEN</td>\n",
       "      <td>1211.318027</td>\n",
       "      <td>11485035.0</td>\n",
       "      <td>0.688722</td>\n",
       "      <td>NaN</td>\n",
       "      <td>NaN</td>\n",
       "      <td>61.470</td>\n",
       "      <td>92.8</td>\n",
       "      <td>51.943619</td>\n",
       "      <td>7.060132</td>\n",
       "    </tr>\n",
       "    <tr>\n",
       "      <th>10283</th>\n",
       "      <td>2018</td>\n",
       "      <td>Haiti</td>\n",
       "      <td>HTI</td>\n",
       "      <td>1282.237813</td>\n",
       "      <td>11123183.0</td>\n",
       "      <td>0.299375</td>\n",
       "      <td>NaN</td>\n",
       "      <td>NaN</td>\n",
       "      <td>63.660</td>\n",
       "      <td>64.7</td>\n",
       "      <td>NaN</td>\n",
       "      <td>7.046229</td>\n",
       "    </tr>\n",
       "  </tbody>\n",
       "</table></div>"
      ],
      "text/plain": [
       "       Year Country Name Country Code  GDP per capita (constant 2010 US$)  \\\n",
       "10270  2018  Gambia, The          GMB                          791.453516   \n",
       "10384  2018        Sudan          SDN                         2095.047956   \n",
       "10222  2018      Bolivia          BOL                         2559.511644   \n",
       "10219  2018        Benin          BEN                         1211.318027   \n",
       "10283  2018        Haiti          HTI                         1282.237813   \n",
       "\n",
       "       Population, total  CO2 emissions (metric tons per capita)  \\\n",
       "10270          2280092.0                                0.249990   \n",
       "10384         41801532.0                                0.483236   \n",
       "10222         11353140.0                                2.000328   \n",
       "10219         11485035.0                                0.688722   \n",
       "10283         11123183.0                                0.299375   \n",
       "\n",
       "       Mortality rate attributed to household and ambient air pollution, age-standardized (per 100,000 population)  \\\n",
       "10270                                                NaN                                                             \n",
       "10384                                                NaN                                                             \n",
       "10222                                                NaN                                                             \n",
       "10219                                                NaN                                                             \n",
       "10283                                                NaN                                                             \n",
       "\n",
       "       PM2.5 air pollution, population exposed to levels exceeding WHO guideline value (% of total)  \\\n",
       "10270                                                NaN                                              \n",
       "10384                                                NaN                                              \n",
       "10222                                                NaN                                              \n",
       "10219                                                NaN                                              \n",
       "10283                                                NaN                                              \n",
       "\n",
       "       Life expectancy at birth, total (years)  \\\n",
       "10270                                   61.735   \n",
       "10384                                   65.095   \n",
       "10222                                   71.239   \n",
       "10219                                   61.470   \n",
       "10283                                   63.660   \n",
       "\n",
       "       Mortality rate, under-5 (per 1,000 live births)  \\\n",
       "10270                                             53.7   \n",
       "10384                                             60.3   \n",
       "10222                                             27.0   \n",
       "10219                                             92.8   \n",
       "10283                                             64.7   \n",
       "\n",
       "       Literacy rate, youth female (% of females ages 15-24)    logPop  \n",
       "10270                                                NaN      6.357952  \n",
       "10384                                          73.489998      7.621192  \n",
       "10222                                                NaN      7.055116  \n",
       "10219                                          51.943619      7.060132  \n",
       "10283                                                NaN      7.046229  "
      ]
     },
     "execution_count": 66,
     "metadata": {},
     "output_type": "execute_result"
    }
   ],
   "source": [
    "url = \"https://raw.githubusercontent.com/nickeubank/practicaldatascience/master/Example_Data/wdi_plotting.csv\"\n",
    "mundo = pd.read_csv(url)\n",
    "mundo = mundo[mundo.Year == 2018]\n",
    "mundo['logPop'] = log10(mundo['Population, total'])\n",
    "mundo.sample(5)"
   ]
  },
  {
   "cell_type": "markdown",
   "id": "fdce2d6b-791d-4638-8512-0bfa44dc7090",
   "metadata": {},
   "source": [
    "## Pandas"
   ]
  },
  {
   "cell_type": "markdown",
   "id": "84af001a-2a5c-494a-95a4-592d63304330",
   "metadata": {},
   "source": [
    "Para plotar um gráfico no pandas, _tipicamente_, você deve preparar o seu dataframe para que ele seja plotado.\n",
    "* O eixo X do seu gráfico deve ser o índice do seu dataframe\n",
    "* Cada coluna será uma variável. Ou seja, o seu dataframe não deve ter nada que você não deseje plotar.\n"
   ]
  },
  {
   "cell_type": "markdown",
   "id": "e2fc7b2a-6a99-44d4-9ded-be0a89d455fd",
   "metadata": {},
   "source": [
    "### Gráfico de barras"
   ]
  },
  {
   "cell_type": "code",
   "execution_count": 67,
   "id": "87c815a3-1df1-4f14-a90c-5d0d5de1378a",
   "metadata": {},
   "outputs": [
    {
     "data": {
      "text/html": [
       "<div><div id=daed8509-8c93-4269-ad95-612d26731d68 style=\"display:none; background-color:#9D6CFF; color:white; width:200px; height:30px; padding-left:5px; border-radius:4px; flex-direction:row; justify-content:space-around; align-items:center;\" onmouseover=\"this.style.backgroundColor='#BA9BF8'\" onmouseout=\"this.style.backgroundColor='#9D6CFF'\" onclick=\"window.commands?.execute('create-mitosheet-from-dataframe-output');\">See Full Dataframe in Mito</div> <script> if (window.commands.hasCommand('create-mitosheet-from-dataframe-output')) document.getElementById('daed8509-8c93-4269-ad95-612d26731d68').style.display = 'flex' </script> <table border=\"1\" class=\"dataframe\">\n",
       "  <thead>\n",
       "    <tr style=\"text-align: right;\">\n",
       "      <th></th>\n",
       "      <th>Country Code</th>\n",
       "      <th>Mortality rate, under-5 (per 1,000 live births)</th>\n",
       "      <th>Literacy rate, youth female (% of females ages 15-24)</th>\n",
       "    </tr>\n",
       "    <tr>\n",
       "      <th>Country Name</th>\n",
       "      <th></th>\n",
       "      <th></th>\n",
       "      <th></th>\n",
       "    </tr>\n",
       "  </thead>\n",
       "  <tbody>\n",
       "    <tr>\n",
       "      <th>China</th>\n",
       "      <td>CHN</td>\n",
       "      <td>8.5</td>\n",
       "      <td>99.783379</td>\n",
       "    </tr>\n",
       "    <tr>\n",
       "      <th>India</th>\n",
       "      <td>IND</td>\n",
       "      <td>36.3</td>\n",
       "      <td>90.169411</td>\n",
       "    </tr>\n",
       "    <tr>\n",
       "      <th>United States</th>\n",
       "      <td>USA</td>\n",
       "      <td>6.6</td>\n",
       "      <td>NaN</td>\n",
       "    </tr>\n",
       "    <tr>\n",
       "      <th>Indonesia</th>\n",
       "      <td>IDN</td>\n",
       "      <td>24.8</td>\n",
       "      <td>99.696251</td>\n",
       "    </tr>\n",
       "    <tr>\n",
       "      <th>Pakistan</th>\n",
       "      <td>PAK</td>\n",
       "      <td>69.4</td>\n",
       "      <td>NaN</td>\n",
       "    </tr>\n",
       "    <tr>\n",
       "      <th>Brazil</th>\n",
       "      <td>BRA</td>\n",
       "      <td>14.4</td>\n",
       "      <td>99.431534</td>\n",
       "    </tr>\n",
       "    <tr>\n",
       "      <th>Nigeria</th>\n",
       "      <td>NGA</td>\n",
       "      <td>120.0</td>\n",
       "      <td>68.262627</td>\n",
       "    </tr>\n",
       "    <tr>\n",
       "      <th>Bangladesh</th>\n",
       "      <td>BGD</td>\n",
       "      <td>32.3</td>\n",
       "      <td>94.912590</td>\n",
       "    </tr>\n",
       "    <tr>\n",
       "      <th>Russian Federation</th>\n",
       "      <td>RUS</td>\n",
       "      <td>6.3</td>\n",
       "      <td>99.749092</td>\n",
       "    </tr>\n",
       "    <tr>\n",
       "      <th>Japan</th>\n",
       "      <td>JPN</td>\n",
       "      <td>2.5</td>\n",
       "      <td>NaN</td>\n",
       "    </tr>\n",
       "  </tbody>\n",
       "</table></div>"
      ],
      "text/plain": [
       "                   Country Code  \\\n",
       "Country Name                      \n",
       "China                       CHN   \n",
       "India                       IND   \n",
       "United States               USA   \n",
       "Indonesia                   IDN   \n",
       "Pakistan                    PAK   \n",
       "Brazil                      BRA   \n",
       "Nigeria                     NGA   \n",
       "Bangladesh                  BGD   \n",
       "Russian Federation          RUS   \n",
       "Japan                       JPN   \n",
       "\n",
       "                    Mortality rate, under-5 (per 1,000 live births)  \\\n",
       "Country Name                                                          \n",
       "China                                                           8.5   \n",
       "India                                                          36.3   \n",
       "United States                                                   6.6   \n",
       "Indonesia                                                      24.8   \n",
       "Pakistan                                                       69.4   \n",
       "Brazil                                                         14.4   \n",
       "Nigeria                                                       120.0   \n",
       "Bangladesh                                                     32.3   \n",
       "Russian Federation                                              6.3   \n",
       "Japan                                                           2.5   \n",
       "\n",
       "                    Literacy rate, youth female (% of females ages 15-24)  \n",
       "Country Name                                                               \n",
       "China                                                       99.783379      \n",
       "India                                                       90.169411      \n",
       "United States                                                     NaN      \n",
       "Indonesia                                                   99.696251      \n",
       "Pakistan                                                          NaN      \n",
       "Brazil                                                      99.431534      \n",
       "Nigeria                                                     68.262627      \n",
       "Bangladesh                                                  94.912590      \n",
       "Russian Federation                                          99.749092      \n",
       "Japan                                                             NaN      "
      ]
     },
     "execution_count": 67,
     "metadata": {},
     "output_type": "execute_result"
    }
   ],
   "source": [
    "#Mortalidade infantil e Alfabetização de Meninas por país\n",
    "df = mundo.set_index('Country Name')\n",
    "df = df.sort_values('Population, total', ascending=False)\n",
    "df = df.head(10)\n",
    "df = df[[\"Country Code\",\n",
    "         \"Mortality rate, under-5 (per 1,000 live births)\", \n",
    "         \"Literacy rate, youth female (% of females ages 15-24)\"]]\n",
    "\n",
    "df"
   ]
  },
  {
   "cell_type": "code",
   "execution_count": 68,
   "id": "9de97378-5310-4abb-adb8-a0af7e9bfd65",
   "metadata": {},
   "outputs": [
    {
     "data": {
      "image/png": "[encoded data removed]",
      "text/plain": [
       "<Figure size 432x288 with 1 Axes>"
      ]
     },
     "metadata": {
      "needs_background": "light"
     },
     "output_type": "display_data"
    }
   ],
   "source": [
    "df.plot(kind='bar');"
   ]
  },
  {
   "cell_type": "markdown",
   "id": "70a996f0-0424-4269-bb56-094b0a5a9b02",
   "metadata": {},
   "source": [
    "Podemos fazer esse gráfico mais bonitinho:"
   ]
  },
  {
   "cell_type": "code",
   "execution_count": 69,
   "id": "f1624bbc-d30b-4bff-b345-f7cad08be833",
   "metadata": {},
   "outputs": [
    {
     "data": {
      "image/png": "[encoded data removed]",
      "text/plain": [
       "<Figure size 1440x360 with 1 Axes>"
      ]
     },
     "metadata": {
      "needs_background": "light"
     },
     "output_type": "display_data"
    }
   ],
   "source": [
    "df.plot(kind='bar', \n",
    "        figsize=(20,5), \n",
    "        rot=45,\n",
    "        title=\"Estatísticas de Desenvolvimento Social dos 10 países mais populosos\",\n",
    "        xlabel=\"País\",\n",
    "        ylabel=\"Estatística\",\n",
    "        grid=True,\n",
    "       cmap='Set1');"
   ]
  },
  {
   "cell_type": "markdown",
   "id": "4f300ae2-37e0-4fe5-8521-de5fabb510f5",
   "metadata": {},
   "source": [
    "Outros tipos de gráfico:"
   ]
  },
  {
   "cell_type": "code",
   "execution_count": 70,
   "id": "6d79c83b-6df0-451b-a9ca-e6315145bd1b",
   "metadata": {},
   "outputs": [],
   "source": [
    "#Mortalidade infantil e Alfabetização de Meninas por país\n",
    "df = mundo.set_index('Country Name')\n",
    "df = df.sort_values('Population, total', ascending=False)\n",
    "df = df[[\"Country Code\",\n",
    "         \"Mortality rate, under-5 (per 1,000 live births)\", \n",
    "         \"Literacy rate, youth female (% of females ages 15-24)\"]]"
   ]
  },
  {
   "cell_type": "markdown",
   "id": "542e4515-9d57-4bf7-9941-b9d36270176b",
   "metadata": {},
   "source": [
    "### Histogramas"
   ]
  },
  {
   "cell_type": "code",
   "execution_count": 71,
   "id": "9f388083-692d-465c-a469-826b2377fd25",
   "metadata": {},
   "outputs": [
    {
     "data": {
      "text/plain": [
       "<AxesSubplot:ylabel='Frequency'>"
      ]
     },
     "execution_count": 71,
     "metadata": {},
     "output_type": "execute_result"
    },
    {
     "data": {
      "image/png": "[encoded data removed]",
      "text/plain": [
       "<Figure size 720x432 with 1 Axes>"
      ]
     },
     "metadata": {
      "needs_background": "light"
     },
     "output_type": "display_data"
    }
   ],
   "source": [
    "df.plot(kind='hist', figsize=(10,6))"
   ]
  },
  {
   "cell_type": "markdown",
   "id": "f3f3fefc-8b57-4890-a684-e755a96c251e",
   "metadata": {},
   "source": [
    "### Densidade"
   ]
  },
  {
   "cell_type": "code",
   "execution_count": 72,
   "id": "21c2c731-d31b-4cda-8403-e17af81d7db7",
   "metadata": {},
   "outputs": [
    {
     "data": {
      "text/plain": [
       "<AxesSubplot:ylabel='Density'>"
      ]
     },
     "execution_count": 72,
     "metadata": {},
     "output_type": "execute_result"
    },
    {
     "data": {
      "image/png": "[encoded data removed]",
      "text/plain": [
       "<Figure size 720x432 with 1 Axes>"
      ]
     },
     "metadata": {
      "needs_background": "light"
     },
     "output_type": "display_data"
    }
   ],
   "source": [
    "df.plot(kind='kde', figsize=(10,6))"
   ]
  },
  {
   "cell_type": "markdown",
   "id": "52f00b20-4e11-4e30-9714-98a7b0344227",
   "metadata": {},
   "source": [
    "### Diagama de Dispersão (_scatter plot_)"
   ]
  },
  {
   "cell_type": "markdown",
   "id": "c99bdf3b-9b49-44d7-97bb-14659c84a26f",
   "metadata": {},
   "source": [
    "Para fazer um gráfico de dispersão, podemos passar x e y diretamente:"
   ]
  },
  {
   "cell_type": "code",
   "execution_count": 73,
   "id": "183f041c-65f1-4e2b-9205-2070274761f9",
   "metadata": {},
   "outputs": [
    {
     "data": {
      "image/png": "[encoded data removed]",
      "text/plain": [
       "<Figure size 432x288 with 1 Axes>"
      ]
     },
     "metadata": {
      "needs_background": "light"
     },
     "output_type": "display_data"
    }
   ],
   "source": [
    "mundo.plot(x=\"GDP per capita (constant 2010 US$)\",\n",
    "           y=\"Mortality rate, under-5 (per 1,000 live births)\", \n",
    "           kind='scatter');"
   ]
  },
  {
   "cell_type": "code",
   "execution_count": 74,
   "id": "8eb7a92c-9808-4d23-8a84-9036db06b66b",
   "metadata": {},
   "outputs": [
    {
     "data": {
      "image/png": "[encoded data removed]",
      "text/plain": [
       "<Figure size 720x432 with 2 Axes>"
      ]
     },
     "metadata": {
      "needs_background": "light"
     },
     "output_type": "display_data"
    }
   ],
   "source": [
    "mundo.plot(x = \"GDP per capita (constant 2010 US$)\",\n",
    "           y = \"Mortality rate, under-5 (per 1,000 live births)\",\n",
    "           c = \"Literacy rate, youth female (% of females ages 15-24)\",\n",
    "           cmap = \"Spectral\",\n",
    "           kind = 'scatter', \n",
    "           figsize = (10,6), \n",
    "           xlim=(1,1e6),\n",
    "           ylim=(1,1e3),\n",
    "           title = 'Relação entre mortalidade infantil e pib per capita',\n",
    "           xlabel = 'PIB per capita',\n",
    "           ylabel = 'Mortalidade infantil',\n",
    "           grid=True,\n",
    "           loglog=True\n",
    "          );"
   ]
  },
  {
   "cell_type": "markdown",
   "id": "db662eef-0708-4e69-8953-55b15b70460e",
   "metadata": {},
   "source": [
    "### Backend e dashboards"
   ]
  },
  {
   "cell_type": "code",
   "execution_count": 116,
   "id": "0bacfe15-0234-4741-a7ad-2af888215f94",
   "metadata": {},
   "outputs": [],
   "source": [
    "pd.options.plotting.backend = 'plotly'"
   ]
  },
  {
   "cell_type": "code",
   "execution_count": 117,
   "id": "e0e485cd-e55c-4647-8c18-14537d41ea9b",
   "metadata": {},
   "outputs": [
    {
     "data": {
      "application/vnd.plotly.v1+json": {
       "config": {
        "plotlyServerURL": "https://plot.ly"
       },
       "data": [
        {
         "hovertemplate": "GDP per capita (constant 2010 US$)=%{x}<br>Mortality rate, under-5 (per 1,000 live births)=%{y}<extra></extra>",
         "legendgroup": "",
         "marker": {
          "color": "#636efa",
          "symbol": "circle"
         },
         "mode": "markers",
         "name": "",
         "orientation": "v",
         "showlegend": false,
         "type": "scatter",
         "x": [
          564.6170395,
          5074.857222,
          4755.046243,
          9559.418112,
          45132.54143,
          3233.903611,
          15073.53277,
          10049.55524,
          4406.758686,
          null,
          56832.05048,
          50051.78591,
          5801.437925,
          28845.62977,
          21465.76405,
          1203.062281,
          16136.96623,
          6586.29774,
          47030.58215,
          4251.568677,
          1211.318027,
          93833.8346,
          3128.827201,
          2559.511644,
          6096.919492,
          8032.892192,
          11130.71897,
          null,
          31437.01477,
          8674.723202,
          800.3145169,
          210.8042013,
          3740.024711,
          1202.625082,
          1502.167666,
          51734.26854,
          78727.40159,
          379.3652001,
          812.0170771,
          null,
          15076.86004,
          7807.057809,
          7698.105082,
          1402.740368,
          418.9888065,
          2337.167897,
          10050.16098,
          1667.942905,
          15971.14767,
          6816.891999,
          null,
          31977.80965,
          23804.97517,
          64271.87827,
          null,
          6696.450249,
          7697.734961,
          5180.598391,
          2908.583723,
          3506.422244,
          10147.65522,
          null,
          19918.16341,
          4761.618785,
          570.6526036,
          null,
          4794.646037,
          48744.3838,
          43631.40429,
          null,
          9051.281301,
          791.4535158,
          4733.1578,
          47313.84582,
          1803.96896,
          null,
          23050.85483,
          49311.76706,
          9092.16942,
          31900.56622,
          3290.455657,
          898.4741496,
          607.5934873,
          5838.79123,
          1282.237813,
          2222.609579,
          38698.62573,
          16792.49435,
          51677.64971,
          2089.678931,
          4284.758778,
          6440.070971,
          5507.820213,
          76415.36462,
          94519.41604,
          34767.37633,
          35484.27938,
          4853.160005,
          48766.13366,
          3306.659715,
          11165.57307,
          1201.476645,
          1777.791234,
          null,
          28157.73445,
          4276.970706,
          33112.12747,
          1090.867754,
          1785.579074,
          16257.90542,
          6204.860857,
          1247.706351,
          541.2714365,
          8038.577819,
          null,
          17737.59545,
          110701.8772,
          58841.54216,
          483.7015804,
          521.3534009,
          12131.70556,
          8157.286807,
          778.7252326,
          28727.0219,
          3013.50814,
          1703.863724,
          10577.17573,
          10385.83315,
          2728.624468,
          3524.554341,
          196061.4168,
          4210.850244,
          8253.329046,
          3366.850155,
          592.5104519,
          1635.944544,
          6028.871105,
          9688.409051,
          826.9370162,
          54894.12903,
          null,
          38335.16728,
          1868.412712,
          552.3240419,
          2383.420479,
          5453.974082,
          18615.19802,
          91964.25929,
          15665.71015,
          1197.837816,
          12681.89153,
          11743.60008,
          2397.65774,
          5368.982281,
          6453.075898,
          3190.791611,
          16648.76826,
          24085.41595,
          27509.41183,
          63932.54986,
          11539.77852,
          11875.7332,
          845.0053171,
          3753.988361,
          49831.46067,
          1296.724896,
          20818.01181,
          1504.512531,
          6898.175015,
          14140.03677,
          472.8257471,
          59260.56672,
          null,
          20516.9279,
          26760.48351,
          1773.698494,
          null,
          7431.956381,
          null,
          32949.07818,
          3944.879054,
          16943.63571,
          9237.317728,
          null,
          6852.599956,
          2095.047956,
          8328.303147,
          57911.22898,
          82792.26422,
          null,
          1071.104328,
          959.4382298,
          6379.597547,
          839.8841917,
          677.2156169,
          4377.592564,
          15164.68438,
          4408.333573,
          15186.83078,
          7647.943647,
          null,
          3636.867973,
          933.7150727,
          3106.038946,
          41327.35272,
          43246.20254,
          54953.61515,
          14317.45509,
          2373.537518,
          2843.526834,
          null,
          1964.361592,
          30224.42427,
          2985.759092,
          632.9087146,
          1678.177704,
          1289.146499
         ],
         "xaxis": "x",
         "y": [
          62.5,
          9.5,
          23.8,
          null,
          3.1,
          77.7,
          6.9,
          9.8,
          12.4,
          null,
          3.7,
          3.5,
          21.6,
          12.9,
          7.1,
          32.3,
          13,
          3.4,
          3.5,
          13,
          92.8,
          null,
          29.6,
          27,
          6,
          43,
          14.4,
          null,
          11.2,
          7,
          90.7,
          58.8,
          15.8,
          27.6,
          77.5,
          5,
          null,
          114.2,
          117.7,
          null,
          7.2,
          8.5,
          14.2,
          65.1,
          87.6,
          49.3,
          8.7,
          82.4,
          4.8,
          5.2,
          null,
          2.4,
          3.2,
          3.9,
          59.3,
          34,
          28.8,
          14.3,
          21,
          13.7,
          84.7,
          41.9,
          2.6,
          55.3,
          53.1,
          null,
          25.6,
          2.4,
          4.4,
          null,
          43.6,
          53.7,
          9.8,
          3.9,
          48,
          null,
          4,
          null,
          16.6,
          null,
          25.4,
          101.1,
          81.4,
          30.3,
          64.7,
          17.4,
          null,
          4,
          2,
          36.3,
          24.8,
          14.4,
          26.8,
          3.4,
          null,
          3.7,
          3.2,
          14.3,
          2.5,
          16.1,
          10.3,
          44.6,
          52.5,
          18.2,
          3.3,
          null,
          8.1,
          19.2,
          47.3,
          3.9,
          7.4,
          86.6,
          86.4,
          11.9,
          null,
          4,
          2.8,
          null,
          52.3,
          43.9,
          8.4,
          8.2,
          97.4,
          7.1,
          32.8,
          75.3,
          15.4,
          14.7,
          30.5,
          14.7,
          3.2,
          16.5,
          2.5,
          22.2,
          77,
          46.4,
          43.3,
          31.9,
          31.9,
          4,
          null,
          4.9,
          17.3,
          83.4,
          120,
          7.8,
          null,
          2.5,
          11.4,
          69.4,
          17.9,
          15.3,
          46.3,
          20.1,
          13.7,
          28,
          4.5,
          3.7,
          null,
          6.8,
          7.5,
          6.3,
          35.9,
          15.5,
          1.7,
          30.9,
          7,
          47,
          5.5,
          14.5,
          113.5,
          2.6,
          null,
          5.9,
          2.2,
          20.3,
          120.3,
          35,
          96.2,
          3.2,
          7.4,
          15.8,
          22,
          null,
          15.1,
          60.3,
          18.5,
          2.7,
          4.1,
          22.1,
          34.8,
          51.8,
          9.4,
          45.6,
          69.1,
          16.8,
          18.1,
          17,
          10.7,
          42.4,
          null,
          24.7,
          48,
          8.6,
          7.6,
          4.3,
          6.6,
          7.5,
          18.4,
          26.6,
          24.2,
          20.4,
          null,
          19.9,
          58.5,
          63.3,
          55.9
         ],
         "yaxis": "y"
        }
       ],
       "layout": {
        "autosize": true,
        "legend": {
         "tracegroupgap": 0
        },
        "template": {
         "data": {
          "bar": [
           {
            "error_x": {
             "color": "#2a3f5f"
            },
            "error_y": {
             "color": "#2a3f5f"
            },
            "marker": {
             "line": {
              "color": "#E5ECF6",
              "width": 0.5
             },
             "pattern": {
              "fillmode": "overlay",
              "size": 10,
              "solidity": 0.2
             }
            },
            "type": "bar"
           }
          ],
          "barpolar": [
           {
            "marker": {
             "line": {
              "color": "#E5ECF6",
              "width": 0.5
             },
             "pattern": {
              "fillmode": "overlay",
              "size": 10,
              "solidity": 0.2
             }
            },
            "type": "barpolar"
           }
          ],
          "carpet": [
           {
            "aaxis": {
             "endlinecolor": "#2a3f5f",
             "gridcolor": "white",
             "linecolor": "white",
             "minorgridcolor": "white",
             "startlinecolor": "#2a3f5f"
            },
            "baxis": {
             "endlinecolor": "#2a3f5f",
             "gridcolor": "white",
             "linecolor": "white",
             "minorgridcolor": "white",
             "startlinecolor": "#2a3f5f"
            },
            "type": "carpet"
           }
          ],
          "choropleth": [
           {
            "colorbar": {
             "outlinewidth": 0,
             "ticks": ""
            },
            "type": "choropleth"
           }
          ],
          "contour": [
           {
            "colorbar": {
             "outlinewidth": 0,
             "ticks": ""
            },
            "colorscale": [
             [
              0,
              "#0d0887"
             ],
             [
              0.1111111111111111,
              "#46039f"
             ],
             [
              0.2222222222222222,
              "#7201a8"
             ],
             [
              0.3333333333333333,
              "#9c179e"
             ],
             [
              0.4444444444444444,
              "#bd3786"
             ],
             [
              0.5555555555555556,
              "#d8576b"
             ],
             [
              0.6666666666666666,
              "#ed7953"
             ],
             [
              0.7777777777777778,
              "#fb9f3a"
             ],
             [
              0.8888888888888888,
              "#fdca26"
             ],
             [
              1,
              "#f0f921"
             ]
            ],
            "type": "contour"
           }
          ],
          "contourcarpet": [
           {
            "colorbar": {
             "outlinewidth": 0,
             "ticks": ""
            },
            "type": "contourcarpet"
           }
          ],
          "heatmap": [
           {
            "colorbar": {
             "outlinewidth": 0,
             "ticks": ""
            },
            "colorscale": [
             [
              0,
              "#0d0887"
             ],
             [
              0.1111111111111111,
              "#46039f"
             ],
             [
              0.2222222222222222,
              "#7201a8"
             ],
             [
              0.3333333333333333,
              "#9c179e"
             ],
             [
              0.4444444444444444,
              "#bd3786"
             ],
             [
              0.5555555555555556,
              "#d8576b"
             ],
             [
              0.6666666666666666,
              "#ed7953"
             ],
             [
              0.7777777777777778,
              "#fb9f3a"
             ],
             [
              0.8888888888888888,
              "#fdca26"
             ],
             [
              1,
              "#f0f921"
             ]
            ],
            "type": "heatmap"
           }
          ],
          "heatmapgl": [
           {
            "colorbar": {
             "outlinewidth": 0,
             "ticks": ""
            },
            "colorscale": [
             [
              0,
              "#0d0887"
             ],
             [
              0.1111111111111111,
              "#46039f"
             ],
             [
              0.2222222222222222,
              "#7201a8"
             ],
             [
              0.3333333333333333,
              "#9c179e"
             ],
             [
              0.4444444444444444,
              "#bd3786"
             ],
             [
              0.5555555555555556,
              "#d8576b"
             ],
             [
              0.6666666666666666,
              "#ed7953"
             ],
             [
              0.7777777777777778,
              "#fb9f3a"
             ],
             [
              0.8888888888888888,
              "#fdca26"
             ],
             [
              1,
              "#f0f921"
             ]
            ],
            "type": "heatmapgl"
           }
          ],
          "histogram": [
           {
            "marker": {
             "pattern": {
              "fillmode": "overlay",
              "size": 10,
              "solidity": 0.2
             }
            },
            "type": "histogram"
           }
          ],
          "histogram2d": [
           {
            "colorbar": {
             "outlinewidth": 0,
             "ticks": ""
            },
            "colorscale": [
             [
              0,
              "#0d0887"
             ],
             [
              0.1111111111111111,
              "#46039f"
             ],
             [
              0.2222222222222222,
              "#7201a8"
             ],
             [
              0.3333333333333333,
              "#9c179e"
             ],
             [
              0.4444444444444444,
              "#bd3786"
             ],
             [
              0.5555555555555556,
              "#d8576b"
             ],
             [
              0.6666666666666666,
              "#ed7953"
             ],
             [
              0.7777777777777778,
              "#fb9f3a"
             ],
             [
              0.8888888888888888,
              "#fdca26"
             ],
             [
              1,
              "#f0f921"
             ]
            ],
            "type": "histogram2d"
           }
          ],
          "histogram2dcontour": [
           {
            "colorbar": {
             "outlinewidth": 0,
             "ticks": ""
            },
            "colorscale": [
             [
              0,
              "#0d0887"
             ],
             [
              0.1111111111111111,
              "#46039f"
             ],
             [
              0.2222222222222222,
              "#7201a8"
             ],
             [
              0.3333333333333333,
              "#9c179e"
             ],
             [
              0.4444444444444444,
              "#bd3786"
             ],
             [
              0.5555555555555556,
              "#d8576b"
             ],
             [
              0.6666666666666666,
              "#ed7953"
             ],
             [
              0.7777777777777778,
              "#fb9f3a"
             ],
             [
              0.8888888888888888,
              "#fdca26"
             ],
             [
              1,
              "#f0f921"
             ]
            ],
            "type": "histogram2dcontour"
           }
          ],
          "mesh3d": [
           {
            "colorbar": {
             "outlinewidth": 0,
             "ticks": ""
            },
            "type": "mesh3d"
           }
          ],
          "parcoords": [
           {
            "line": {
             "colorbar": {
              "outlinewidth": 0,
              "ticks": ""
             }
            },
            "type": "parcoords"
           }
          ],
          "pie": [
           {
            "automargin": true,
            "type": "pie"
           }
          ],
          "scatter": [
           {
            "marker": {
             "colorbar": {
              "outlinewidth": 0,
              "ticks": ""
             }
            },
            "type": "scatter"
           }
          ],
          "scatter3d": [
           {
            "line": {
             "colorbar": {
              "outlinewidth": 0,
              "ticks": ""
             }
            },
            "marker": {
             "colorbar": {
              "outlinewidth": 0,
              "ticks": ""
             }
            },
            "type": "scatter3d"
           }
          ],
          "scattercarpet": [
           {
            "marker": {
             "colorbar": {
              "outlinewidth": 0,
              "ticks": ""
             }
            },
            "type": "scattercarpet"
           }
          ],
          "scattergeo": [
           {
            "marker": {
             "colorbar": {
              "outlinewidth": 0,
              "ticks": ""
             }
            },
            "type": "scattergeo"
           }
          ],
          "scattergl": [
           {
            "marker": {
             "colorbar": {
              "outlinewidth": 0,
              "ticks": ""
             }
            },
            "type": "scattergl"
           }
          ],
          "scattermapbox": [
           {
            "marker": {
             "colorbar": {
              "outlinewidth": 0,
              "ticks": ""
             }
            },
            "type": "scattermapbox"
           }
          ],
          "scatterpolar": [
           {
            "marker": {
             "colorbar": {
              "outlinewidth": 0,
              "ticks": ""
             }
            },
            "type": "scatterpolar"
           }
          ],
          "scatterpolargl": [
           {
            "marker": {
             "colorbar": {
              "outlinewidth": 0,
              "ticks": ""
             }
            },
            "type": "scatterpolargl"
           }
          ],
          "scatterternary": [
           {
            "marker": {
             "colorbar": {
              "outlinewidth": 0,
              "ticks": ""
             }
            },
            "type": "scatterternary"
           }
          ],
          "surface": [
           {
            "colorbar": {
             "outlinewidth": 0,
             "ticks": ""
            },
            "colorscale": [
             [
              0,
              "#0d0887"
             ],
             [
              0.1111111111111111,
              "#46039f"
             ],
             [
              0.2222222222222222,
              "#7201a8"
             ],
             [
              0.3333333333333333,
              "#9c179e"
             ],
             [
              0.4444444444444444,
              "#bd3786"
             ],
             [
              0.5555555555555556,
              "#d8576b"
             ],
             [
              0.6666666666666666,
              "#ed7953"
             ],
             [
              0.7777777777777778,
              "#fb9f3a"
             ],
             [
              0.8888888888888888,
              "#fdca26"
             ],
             [
              1,
              "#f0f921"
             ]
            ],
            "type": "surface"
           }
          ],
          "table": [
           {
            "cells": {
             "fill": {
              "color": "#EBF0F8"
             },
             "line": {
              "color": "white"
             }
            },
            "header": {
             "fill": {
              "color": "#C8D4E3"
             },
             "line": {
              "color": "white"
             }
            },
            "type": "table"
           }
          ]
         },
         "layout": {
          "annotationdefaults": {
           "arrowcolor": "#2a3f5f",
           "arrowhead": 0,
           "arrowwidth": 1
          },
          "autotypenumbers": "strict",
          "coloraxis": {
           "colorbar": {
            "outlinewidth": 0,
            "ticks": ""
           }
          },
          "colorscale": {
           "diverging": [
            [
             0,
             "#8e0152"
            ],
            [
             0.1,
             "#c51b7d"
            ],
            [
             0.2,
             "#de77ae"
            ],
            [
             0.3,
             "#f1b6da"
            ],
            [
             0.4,
             "#fde0ef"
            ],
            [
             0.5,
             "#f7f7f7"
            ],
            [
             0.6,
             "#e6f5d0"
            ],
            [
             0.7,
             "#b8e186"
            ],
            [
             0.8,
             "#7fbc41"
            ],
            [
             0.9,
             "#4d9221"
            ],
            [
             1,
             "#276419"
            ]
           ],
           "sequential": [
            [
             0,
             "#0d0887"
            ],
            [
             0.1111111111111111,
             "#46039f"
            ],
            [
             0.2222222222222222,
             "#7201a8"
            ],
            [
             0.3333333333333333,
             "#9c179e"
            ],
            [
             0.4444444444444444,
             "#bd3786"
            ],
            [
             0.5555555555555556,
             "#d8576b"
            ],
            [
             0.6666666666666666,
             "#ed7953"
            ],
            [
             0.7777777777777778,
             "#fb9f3a"
            ],
            [
             0.8888888888888888,
             "#fdca26"
            ],
            [
             1,
             "#f0f921"
            ]
           ],
           "sequentialminus": [
            [
             0,
             "#0d0887"
            ],
            [
             0.1111111111111111,
             "#46039f"
            ],
            [
             0.2222222222222222,
             "#7201a8"
            ],
            [
             0.3333333333333333,
             "#9c179e"
            ],
            [
             0.4444444444444444,
             "#bd3786"
            ],
            [
             0.5555555555555556,
             "#d8576b"
            ],
            [
             0.6666666666666666,
             "#ed7953"
            ],
            [
             0.7777777777777778,
             "#fb9f3a"
            ],
            [
             0.8888888888888888,
             "#fdca26"
            ],
            [
             1,
             "#f0f921"
            ]
           ]
          },
          "colorway": [
           "#636efa",
           "#EF553B",
           "#00cc96",
           "#ab63fa",
           "#FFA15A",
           "#19d3f3",
           "#FF6692",
           "#B6E880",
           "#FF97FF",
           "#FECB52"
          ],
          "font": {
           "color": "#2a3f5f"
          },
          "geo": {
           "bgcolor": "white",
           "lakecolor": "white",
           "landcolor": "#E5ECF6",
           "showlakes": true,
           "showland": true,
           "subunitcolor": "white"
          },
          "hoverlabel": {
           "align": "left"
          },
          "hovermode": "closest",
          "mapbox": {
           "style": "light"
          },
          "paper_bgcolor": "white",
          "plot_bgcolor": "#E5ECF6",
          "polar": {
           "angularaxis": {
            "gridcolor": "white",
            "linecolor": "white",
            "ticks": ""
           },
           "bgcolor": "#E5ECF6",
           "radialaxis": {
            "gridcolor": "white",
            "linecolor": "white",
            "ticks": ""
           }
          },
          "scene": {
           "xaxis": {
            "backgroundcolor": "#E5ECF6",
            "gridcolor": "white",
            "gridwidth": 2,
            "linecolor": "white",
            "showbackground": true,
            "ticks": "",
            "zerolinecolor": "white"
           },
           "yaxis": {
            "backgroundcolor": "#E5ECF6",
            "gridcolor": "white",
            "gridwidth": 2,
            "linecolor": "white",
            "showbackground": true,
            "ticks": "",
            "zerolinecolor": "white"
           },
           "zaxis": {
            "backgroundcolor": "#E5ECF6",
            "gridcolor": "white",
            "gridwidth": 2,
            "linecolor": "white",
            "showbackground": true,
            "ticks": "",
            "zerolinecolor": "white"
           }
          },
          "shapedefaults": {
           "line": {
            "color": "#2a3f5f"
           }
          },
          "ternary": {
           "aaxis": {
            "gridcolor": "white",
            "linecolor": "white",
            "ticks": ""
           },
           "baxis": {
            "gridcolor": "white",
            "linecolor": "white",
            "ticks": ""
           },
           "bgcolor": "#E5ECF6",
           "caxis": {
            "gridcolor": "white",
            "linecolor": "white",
            "ticks": ""
           }
          },
          "title": {
           "x": 0.05
          },
          "xaxis": {
           "automargin": true,
           "gridcolor": "white",
           "linecolor": "white",
           "ticks": "",
           "title": {
            "standoff": 15
           },
           "zerolinecolor": "white",
           "zerolinewidth": 2
          },
          "yaxis": {
           "automargin": true,
           "gridcolor": "white",
           "linecolor": "white",
           "ticks": "",
           "title": {
            "standoff": 15
           },
           "zerolinecolor": "white",
           "zerolinewidth": 2
          }
         }
        },
        "title": {
         "text": "Relação entre mortalidade infantil e pib per capita"
        },
        "xaxis": {
         "anchor": "y",
         "autorange": true,
         "domain": [
          0,
          1
         ],
         "range": [
          -11922.73213887741,
          208194.95314017741
         ],
         "title": {
          "text": "GDP per capita (constant 2010 US$)"
         },
         "type": "linear"
        },
        "yaxis": {
         "anchor": "x",
         "autorange": true,
         "domain": [
          0,
          1
         ],
         "range": [
          -8.0873786407767,
          130.0873786407767
         ],
         "title": {
          "text": "Mortality rate, under-5 (per 1,000 live births)"
         },
         "type": "linear"
        }
       }
      },
      "image/png": "[encoded data removed]",
      "text/html": [
       "<div>                            <div id=\"5cf8227a-0b05-4b8f-b2dc-b6a16358a289\" class=\"plotly-graph-div\" style=\"height:525px; width:100%;\"></div>            <script type=\"text/javascript\">                require([\"plotly\"], function(Plotly) {                    window.PLOTLYENV=window.PLOTLYENV || {};                                    if (document.getElementById(\"5cf8227a-0b05-4b8f-b2dc-b6a16358a289\")) {                    Plotly.newPlot(                        \"5cf8227a-0b05-4b8f-b2dc-b6a16358a289\",                        [{\"hovertemplate\":\"GDP per capita (constant 2010 US$)=%{x}<br>Mortality rate, under-5 (per 1,000 live births)=%{y}<extra></extra>\",\"legendgroup\":\"\",\"marker\":{\"color\":\"#636efa\",\"symbol\":\"circle\"},\"mode\":\"markers\",\"name\":\"\",\"orientation\":\"v\",\"showlegend\":false,\"x\":[564.6170395,5074.857222,4755.046243,9559.418112,45132.54143,3233.903611,15073.53277,10049.55524,4406.758686,null,56832.05048,50051.78591,5801.437925,28845.62977,21465.76405,1203.062281,16136.96623,6586.29774,47030.58215,4251.568677,1211.318027,93833.8346,3128.827201,2559.511644,6096.919492,8032.892192,11130.71897,null,31437.01477,8674.723202,800.3145169,210.8042013,3740.024711,1202.625082,1502.167666,51734.26854,78727.40159,379.3652001,812.0170771,null,15076.86004,7807.057809,7698.105082,1402.740368,418.9888065,2337.167897,10050.16098,1667.942905,15971.14767,6816.891999,null,31977.80965,23804.97517,64271.87827,null,6696.450249,7697.734961,5180.598391,2908.583723,3506.422244,10147.65522,null,19918.16341,4761.618785,570.6526036,null,4794.646037,48744.3838,43631.40429,null,9051.281301,791.4535158,4733.1578,47313.84582,1803.96896,null,23050.85483,49311.76706,9092.16942,31900.56622,3290.455657,898.4741496,607.5934873,5838.79123,1282.237813,2222.609579,38698.62573,16792.49435,51677.64971,2089.678931,4284.758778,6440.070971,5507.820213,76415.36462,94519.41604,34767.37633,35484.27938,4853.160005,48766.13366,3306.659715,11165.57307,1201.476645,1777.791234,null,28157.73445,4276.970706,33112.12747,1090.867754,1785.579074,16257.90542,6204.860857,1247.706351,541.2714365,8038.577819,null,17737.59545,110701.8772,58841.54216,483.7015804,521.3534009,12131.70556,8157.286807,778.7252326,28727.0219,3013.50814,1703.863724,10577.17573,10385.83315,2728.624468,3524.554341,196061.4168,4210.850244,8253.329046,3366.850155,592.5104519,1635.944544,6028.871105,9688.409051,826.9370162,54894.12903,null,38335.16728,1868.412712,552.3240419,2383.420479,5453.974082,18615.19802,91964.25929,15665.71015,1197.837816,12681.89153,11743.60008,2397.65774,5368.982281,6453.075898,3190.791611,16648.76826,24085.41595,27509.41183,63932.54986,11539.77852,11875.7332,845.0053171,3753.988361,49831.46067,1296.724896,20818.01181,1504.512531,6898.175015,14140.03677,472.8257471,59260.56672,null,20516.9279,26760.48351,1773.698494,null,7431.956381,null,32949.07818,3944.879054,16943.63571,9237.317728,null,6852.599956,2095.047956,8328.303147,57911.22898,82792.26422,null,1071.104328,959.4382298,6379.597547,839.8841917,677.2156169,4377.592564,15164.68438,4408.333573,15186.83078,7647.943647,null,3636.867973,933.7150727,3106.038946,41327.35272,43246.20254,54953.61515,14317.45509,2373.537518,2843.526834,null,1964.361592,30224.42427,2985.759092,632.9087146,1678.177704,1289.146499],\"xaxis\":\"x\",\"y\":[62.5,9.5,23.8,null,3.1,77.7,6.9,9.8,12.4,null,3.7,3.5,21.6,12.9,7.1,32.3,13.0,3.4,3.5,13.0,92.8,null,29.6,27.0,6.0,43.0,14.4,null,11.2,7.0,90.7,58.8,15.8,27.6,77.5,5.0,null,114.2,117.7,null,7.2,8.5,14.2,65.1,87.6,49.3,8.7,82.4,4.8,5.2,null,2.4,3.2,3.9,59.3,34.0,28.8,14.3,21.0,13.7,84.7,41.9,2.6,55.3,53.1,null,25.6,2.4,4.4,null,43.6,53.7,9.8,3.9,48.0,null,4.0,null,16.6,null,25.4,101.1,81.4,30.3,64.7,17.4,null,4.0,2.0,36.3,24.8,14.4,26.8,3.4,null,3.7,3.2,14.3,2.5,16.1,10.3,44.6,52.5,18.2,3.3,null,8.1,19.2,47.3,3.9,7.4,86.6,86.4,11.9,null,4.0,2.8,null,52.3,43.9,8.4,8.2,97.4,7.1,32.8,75.3,15.4,14.7,30.5,14.7,3.2,16.5,2.5,22.2,77.0,46.4,43.3,31.9,31.9,4.0,null,4.9,17.3,83.4,120.0,7.8,null,2.5,11.4,69.4,17.9,15.3,46.3,20.1,13.7,28.0,4.5,3.7,null,6.8,7.5,6.3,35.9,15.5,1.7,30.9,7.0,47.0,5.5,14.5,113.5,2.6,null,5.9,2.2,20.3,120.3,35.0,96.2,3.2,7.4,15.8,22.0,null,15.1,60.3,18.5,2.7,4.1,22.1,34.8,51.8,9.4,45.6,69.1,16.8,18.1,17.0,10.7,42.4,null,24.7,48.0,8.6,7.6,4.3,6.6,7.5,18.4,26.6,24.2,20.4,null,19.9,58.5,63.3,55.9],\"yaxis\":\"y\",\"type\":\"scatter\"}],                        {\"template\":{\"data\":{\"bar\":[{\"error_x\":{\"color\":\"#2a3f5f\"},\"error_y\":{\"color\":\"#2a3f5f\"},\"marker\":{\"line\":{\"color\":\"#E5ECF6\",\"width\":0.5},\"pattern\":{\"fillmode\":\"overlay\",\"size\":10,\"solidity\":0.2}},\"type\":\"bar\"}],\"barpolar\":[{\"marker\":{\"line\":{\"color\":\"#E5ECF6\",\"width\":0.5},\"pattern\":{\"fillmode\":\"overlay\",\"size\":10,\"solidity\":0.2}},\"type\":\"barpolar\"}],\"carpet\":[{\"aaxis\":{\"endlinecolor\":\"#2a3f5f\",\"gridcolor\":\"white\",\"linecolor\":\"white\",\"minorgridcolor\":\"white\",\"startlinecolor\":\"#2a3f5f\"},\"baxis\":{\"endlinecolor\":\"#2a3f5f\",\"gridcolor\":\"white\",\"linecolor\":\"white\",\"minorgridcolor\":\"white\",\"startlinecolor\":\"#2a3f5f\"},\"type\":\"carpet\"}],\"choropleth\":[{\"colorbar\":{\"outlinewidth\":0,\"ticks\":\"\"},\"type\":\"choropleth\"}],\"contour\":[{\"colorbar\":{\"outlinewidth\":0,\"ticks\":\"\"},\"colorscale\":[[0.0,\"#0d0887\"],[0.1111111111111111,\"#46039f\"],[0.2222222222222222,\"#7201a8\"],[0.3333333333333333,\"#9c179e\"],[0.4444444444444444,\"#bd3786\"],[0.5555555555555556,\"#d8576b\"],[0.6666666666666666,\"#ed7953\"],[0.7777777777777778,\"#fb9f3a\"],[0.8888888888888888,\"#fdca26\"],[1.0,\"#f0f921\"]],\"type\":\"contour\"}],\"contourcarpet\":[{\"colorbar\":{\"outlinewidth\":0,\"ticks\":\"\"},\"type\":\"contourcarpet\"}],\"heatmap\":[{\"colorbar\":{\"outlinewidth\":0,\"ticks\":\"\"},\"colorscale\":[[0.0,\"#0d0887\"],[0.1111111111111111,\"#46039f\"],[0.2222222222222222,\"#7201a8\"],[0.3333333333333333,\"#9c179e\"],[0.4444444444444444,\"#bd3786\"],[0.5555555555555556,\"#d8576b\"],[0.6666666666666666,\"#ed7953\"],[0.7777777777777778,\"#fb9f3a\"],[0.8888888888888888,\"#fdca26\"],[1.0,\"#f0f921\"]],\"type\":\"heatmap\"}],\"heatmapgl\":[{\"colorbar\":{\"outlinewidth\":0,\"ticks\":\"\"},\"colorscale\":[[0.0,\"#0d0887\"],[0.1111111111111111,\"#46039f\"],[0.2222222222222222,\"#7201a8\"],[0.3333333333333333,\"#9c179e\"],[0.4444444444444444,\"#bd3786\"],[0.5555555555555556,\"#d8576b\"],[0.6666666666666666,\"#ed7953\"],[0.7777777777777778,\"#fb9f3a\"],[0.8888888888888888,\"#fdca26\"],[1.0,\"#f0f921\"]],\"type\":\"heatmapgl\"}],\"histogram\":[{\"marker\":{\"pattern\":{\"fillmode\":\"overlay\",\"size\":10,\"solidity\":0.2}},\"type\":\"histogram\"}],\"histogram2d\":[{\"colorbar\":{\"outlinewidth\":0,\"ticks\":\"\"},\"colorscale\":[[0.0,\"#0d0887\"],[0.1111111111111111,\"#46039f\"],[0.2222222222222222,\"#7201a8\"],[0.3333333333333333,\"#9c179e\"],[0.4444444444444444,\"#bd3786\"],[0.5555555555555556,\"#d8576b\"],[0.6666666666666666,\"#ed7953\"],[0.7777777777777778,\"#fb9f3a\"],[0.8888888888888888,\"#fdca26\"],[1.0,\"#f0f921\"]],\"type\":\"histogram2d\"}],\"histogram2dcontour\":[{\"colorbar\":{\"outlinewidth\":0,\"ticks\":\"\"},\"colorscale\":[[0.0,\"#0d0887\"],[0.1111111111111111,\"#46039f\"],[0.2222222222222222,\"#7201a8\"],[0.3333333333333333,\"#9c179e\"],[0.4444444444444444,\"#bd3786\"],[0.5555555555555556,\"#d8576b\"],[0.6666666666666666,\"#ed7953\"],[0.7777777777777778,\"#fb9f3a\"],[0.8888888888888888,\"#fdca26\"],[1.0,\"#f0f921\"]],\"type\":\"histogram2dcontour\"}],\"mesh3d\":[{\"colorbar\":{\"outlinewidth\":0,\"ticks\":\"\"},\"type\":\"mesh3d\"}],\"parcoords\":[{\"line\":{\"colorbar\":{\"outlinewidth\":0,\"ticks\":\"\"}},\"type\":\"parcoords\"}],\"pie\":[{\"automargin\":true,\"type\":\"pie\"}],\"scatter\":[{\"marker\":{\"colorbar\":{\"outlinewidth\":0,\"ticks\":\"\"}},\"type\":\"scatter\"}],\"scatter3d\":[{\"line\":{\"colorbar\":{\"outlinewidth\":0,\"ticks\":\"\"}},\"marker\":{\"colorbar\":{\"outlinewidth\":0,\"ticks\":\"\"}},\"type\":\"scatter3d\"}],\"scattercarpet\":[{\"marker\":{\"colorbar\":{\"outlinewidth\":0,\"ticks\":\"\"}},\"type\":\"scattercarpet\"}],\"scattergeo\":[{\"marker\":{\"colorbar\":{\"outlinewidth\":0,\"ticks\":\"\"}},\"type\":\"scattergeo\"}],\"scattergl\":[{\"marker\":{\"colorbar\":{\"outlinewidth\":0,\"ticks\":\"\"}},\"type\":\"scattergl\"}],\"scattermapbox\":[{\"marker\":{\"colorbar\":{\"outlinewidth\":0,\"ticks\":\"\"}},\"type\":\"scattermapbox\"}],\"scatterpolar\":[{\"marker\":{\"colorbar\":{\"outlinewidth\":0,\"ticks\":\"\"}},\"type\":\"scatterpolar\"}],\"scatterpolargl\":[{\"marker\":{\"colorbar\":{\"outlinewidth\":0,\"ticks\":\"\"}},\"type\":\"scatterpolargl\"}],\"scatterternary\":[{\"marker\":{\"colorbar\":{\"outlinewidth\":0,\"ticks\":\"\"}},\"type\":\"scatterternary\"}],\"surface\":[{\"colorbar\":{\"outlinewidth\":0,\"ticks\":\"\"},\"colorscale\":[[0.0,\"#0d0887\"],[0.1111111111111111,\"#46039f\"],[0.2222222222222222,\"#7201a8\"],[0.3333333333333333,\"#9c179e\"],[0.4444444444444444,\"#bd3786\"],[0.5555555555555556,\"#d8576b\"],[0.6666666666666666,\"#ed7953\"],[0.7777777777777778,\"#fb9f3a\"],[0.8888888888888888,\"#fdca26\"],[1.0,\"#f0f921\"]],\"type\":\"surface\"}],\"table\":[{\"cells\":{\"fill\":{\"color\":\"#EBF0F8\"},\"line\":{\"color\":\"white\"}},\"header\":{\"fill\":{\"color\":\"#C8D4E3\"},\"line\":{\"color\":\"white\"}},\"type\":\"table\"}]},\"layout\":{\"annotationdefaults\":{\"arrowcolor\":\"#2a3f5f\",\"arrowhead\":0,\"arrowwidth\":1},\"autotypenumbers\":\"strict\",\"coloraxis\":{\"colorbar\":{\"outlinewidth\":0,\"ticks\":\"\"}},\"colorscale\":{\"diverging\":[[0,\"#8e0152\"],[0.1,\"#c51b7d\"],[0.2,\"#de77ae\"],[0.3,\"#f1b6da\"],[0.4,\"#fde0ef\"],[0.5,\"#f7f7f7\"],[0.6,\"#e6f5d0\"],[0.7,\"#b8e186\"],[0.8,\"#7fbc41\"],[0.9,\"#4d9221\"],[1,\"#276419\"]],\"sequential\":[[0.0,\"#0d0887\"],[0.1111111111111111,\"#46039f\"],[0.2222222222222222,\"#7201a8\"],[0.3333333333333333,\"#9c179e\"],[0.4444444444444444,\"#bd3786\"],[0.5555555555555556,\"#d8576b\"],[0.6666666666666666,\"#ed7953\"],[0.7777777777777778,\"#fb9f3a\"],[0.8888888888888888,\"#fdca26\"],[1.0,\"#f0f921\"]],\"sequentialminus\":[[0.0,\"#0d0887\"],[0.1111111111111111,\"#46039f\"],[0.2222222222222222,\"#7201a8\"],[0.3333333333333333,\"#9c179e\"],[0.4444444444444444,\"#bd3786\"],[0.5555555555555556,\"#d8576b\"],[0.6666666666666666,\"#ed7953\"],[0.7777777777777778,\"#fb9f3a\"],[0.8888888888888888,\"#fdca26\"],[1.0,\"#f0f921\"]]},\"colorway\":[\"#636efa\",\"#EF553B\",\"#00cc96\",\"#ab63fa\",\"#FFA15A\",\"#19d3f3\",\"#FF6692\",\"#B6E880\",\"#FF97FF\",\"#FECB52\"],\"font\":{\"color\":\"#2a3f5f\"},\"geo\":{\"bgcolor\":\"white\",\"lakecolor\":\"white\",\"landcolor\":\"#E5ECF6\",\"showlakes\":true,\"showland\":true,\"subunitcolor\":\"white\"},\"hoverlabel\":{\"align\":\"left\"},\"hovermode\":\"closest\",\"mapbox\":{\"style\":\"light\"},\"paper_bgcolor\":\"white\",\"plot_bgcolor\":\"#E5ECF6\",\"polar\":{\"angularaxis\":{\"gridcolor\":\"white\",\"linecolor\":\"white\",\"ticks\":\"\"},\"bgcolor\":\"#E5ECF6\",\"radialaxis\":{\"gridcolor\":\"white\",\"linecolor\":\"white\",\"ticks\":\"\"}},\"scene\":{\"xaxis\":{\"backgroundcolor\":\"#E5ECF6\",\"gridcolor\":\"white\",\"gridwidth\":2,\"linecolor\":\"white\",\"showbackground\":true,\"ticks\":\"\",\"zerolinecolor\":\"white\"},\"yaxis\":{\"backgroundcolor\":\"#E5ECF6\",\"gridcolor\":\"white\",\"gridwidth\":2,\"linecolor\":\"white\",\"showbackground\":true,\"ticks\":\"\",\"zerolinecolor\":\"white\"},\"zaxis\":{\"backgroundcolor\":\"#E5ECF6\",\"gridcolor\":\"white\",\"gridwidth\":2,\"linecolor\":\"white\",\"showbackground\":true,\"ticks\":\"\",\"zerolinecolor\":\"white\"}},\"shapedefaults\":{\"line\":{\"color\":\"#2a3f5f\"}},\"ternary\":{\"aaxis\":{\"gridcolor\":\"white\",\"linecolor\":\"white\",\"ticks\":\"\"},\"baxis\":{\"gridcolor\":\"white\",\"linecolor\":\"white\",\"ticks\":\"\"},\"bgcolor\":\"#E5ECF6\",\"caxis\":{\"gridcolor\":\"white\",\"linecolor\":\"white\",\"ticks\":\"\"}},\"title\":{\"x\":0.05},\"xaxis\":{\"automargin\":true,\"gridcolor\":\"white\",\"linecolor\":\"white\",\"ticks\":\"\",\"title\":{\"standoff\":15},\"zerolinecolor\":\"white\",\"zerolinewidth\":2},\"yaxis\":{\"automargin\":true,\"gridcolor\":\"white\",\"linecolor\":\"white\",\"ticks\":\"\",\"title\":{\"standoff\":15},\"zerolinecolor\":\"white\",\"zerolinewidth\":2}}},\"xaxis\":{\"anchor\":\"y\",\"domain\":[0.0,1.0],\"title\":{\"text\":\"GDP per capita (constant 2010 US$)\"}},\"yaxis\":{\"anchor\":\"x\",\"domain\":[0.0,1.0],\"title\":{\"text\":\"Mortality rate, under-5 (per 1,000 live births)\"}},\"legend\":{\"tracegroupgap\":0},\"title\":{\"text\":\"Rela\\u00e7\\u00e3o entre mortalidade infantil e pib per capita\"}},                        {\"responsive\": true}                    ).then(function(){\n",
       "                            \n",
       "var gd = document.getElementById('5cf8227a-0b05-4b8f-b2dc-b6a16358a289');\n",
       "var x = new MutationObserver(function (mutations, observer) {{\n",
       "        var display = window.getComputedStyle(gd).display;\n",
       "        if (!display || display === 'none') {{\n",
       "            console.log([gd, 'removed!']);\n",
       "            Plotly.purge(gd);\n",
       "            observer.disconnect();\n",
       "        }}\n",
       "}});\n",
       "\n",
       "// Listen for the removal of the full notebook cells\n",
       "var notebookContainer = gd.closest('#notebook-container');\n",
       "if (notebookContainer) {{\n",
       "    x.observe(notebookContainer, {childList: true});\n",
       "}}\n",
       "\n",
       "// Listen for the clearing of the current output cell\n",
       "var outputEl = gd.closest('.output');\n",
       "if (outputEl) {{\n",
       "    x.observe(outputEl, {childList: true});\n",
       "}}\n",
       "\n",
       "                        })                };                });            </script>        </div>"
      ]
     },
     "metadata": {},
     "output_type": "display_data"
    }
   ],
   "source": [
    "mundo.plot(x = \"GDP per capita (constant 2010 US$)\",\n",
    "           y = \"Mortality rate, under-5 (per 1,000 live births)\",\n",
    "           c = \"Literacy rate, youth female (% of females ages 15-24)\",\n",
    "           kind = 'scatter', \n",
    "           title = 'Relação entre mortalidade infantil e pib per capita'\n",
    "          )"
   ]
  },
  {
   "cell_type": "code",
   "execution_count": 146,
   "id": "16a09ab7-d59f-4d05-9eae-8be69e7ae5d4",
   "metadata": {},
   "outputs": [
    {
     "data": {
      "application/vnd.plotly.v1+json": {
       "config": {
        "plotlyServerURL": "https://plot.ly"
       },
       "data": [
        {
         "alignmentgroup": "True",
         "hovertemplate": "variable=Population, total<br>Country Name=%{x}<br>value=%{y}<extra></extra>",
         "legendgroup": "Population, total",
         "marker": {
          "color": "#636efa",
          "pattern": {
           "shape": ""
          }
         },
         "name": "Population, total",
         "offsetgroup": "Population, total",
         "orientation": "v",
         "showlegend": true,
         "textposition": "auto",
         "type": "bar",
         "x": [
          "China",
          "India",
          "United States",
          "Indonesia",
          "Pakistan"
         ],
         "xaxis": "x",
         "y": [
          1392730000,
          1352642283,
          326838199,
          267670549,
          212228288
         ],
         "yaxis": "y"
        }
       ],
       "layout": {
        "autosize": true,
        "barmode": "relative",
        "legend": {
         "title": {
          "text": "variable"
         },
         "tracegroupgap": 0
        },
        "template": {
         "data": {
          "bar": [
           {
            "error_x": {
             "color": "#2a3f5f"
            },
            "error_y": {
             "color": "#2a3f5f"
            },
            "marker": {
             "line": {
              "color": "#E5ECF6",
              "width": 0.5
             },
             "pattern": {
              "fillmode": "overlay",
              "size": 10,
              "solidity": 0.2
             }
            },
            "type": "bar"
           }
          ],
          "barpolar": [
           {
            "marker": {
             "line": {
              "color": "#E5ECF6",
              "width": 0.5
             },
             "pattern": {
              "fillmode": "overlay",
              "size": 10,
              "solidity": 0.2
             }
            },
            "type": "barpolar"
           }
          ],
          "carpet": [
           {
            "aaxis": {
             "endlinecolor": "#2a3f5f",
             "gridcolor": "white",
             "linecolor": "white",
             "minorgridcolor": "white",
             "startlinecolor": "#2a3f5f"
            },
            "baxis": {
             "endlinecolor": "#2a3f5f",
             "gridcolor": "white",
             "linecolor": "white",
             "minorgridcolor": "white",
             "startlinecolor": "#2a3f5f"
            },
            "type": "carpet"
           }
          ],
          "choropleth": [
           {
            "colorbar": {
             "outlinewidth": 0,
             "ticks": ""
            },
            "type": "choropleth"
           }
          ],
          "contour": [
           {
            "colorbar": {
             "outlinewidth": 0,
             "ticks": ""
            },
            "colorscale": [
             [
              0,
              "#0d0887"
             ],
             [
              0.1111111111111111,
              "#46039f"
             ],
             [
              0.2222222222222222,
              "#7201a8"
             ],
             [
              0.3333333333333333,
              "#9c179e"
             ],
             [
              0.4444444444444444,
              "#bd3786"
             ],
             [
              0.5555555555555556,
              "#d8576b"
             ],
             [
              0.6666666666666666,
              "#ed7953"
             ],
             [
              0.7777777777777778,
              "#fb9f3a"
             ],
             [
              0.8888888888888888,
              "#fdca26"
             ],
             [
              1,
              "#f0f921"
             ]
            ],
            "type": "contour"
           }
          ],
          "contourcarpet": [
           {
            "colorbar": {
             "outlinewidth": 0,
             "ticks": ""
            },
            "type": "contourcarpet"
           }
          ],
          "heatmap": [
           {
            "colorbar": {
             "outlinewidth": 0,
             "ticks": ""
            },
            "colorscale": [
             [
              0,
              "#0d0887"
             ],
             [
              0.1111111111111111,
              "#46039f"
             ],
             [
              0.2222222222222222,
              "#7201a8"
             ],
             [
              0.3333333333333333,
              "#9c179e"
             ],
             [
              0.4444444444444444,
              "#bd3786"
             ],
             [
              0.5555555555555556,
              "#d8576b"
             ],
             [
              0.6666666666666666,
              "#ed7953"
             ],
             [
              0.7777777777777778,
              "#fb9f3a"
             ],
             [
              0.8888888888888888,
              "#fdca26"
             ],
             [
              1,
              "#f0f921"
             ]
            ],
            "type": "heatmap"
           }
          ],
          "heatmapgl": [
           {
            "colorbar": {
             "outlinewidth": 0,
             "ticks": ""
            },
            "colorscale": [
             [
              0,
              "#0d0887"
             ],
             [
              0.1111111111111111,
              "#46039f"
             ],
             [
              0.2222222222222222,
              "#7201a8"
             ],
             [
              0.3333333333333333,
              "#9c179e"
             ],
             [
              0.4444444444444444,
              "#bd3786"
             ],
             [
              0.5555555555555556,
              "#d8576b"
             ],
             [
              0.6666666666666666,
              "#ed7953"
             ],
             [
              0.7777777777777778,
              "#fb9f3a"
             ],
             [
              0.8888888888888888,
              "#fdca26"
             ],
             [
              1,
              "#f0f921"
             ]
            ],
            "type": "heatmapgl"
           }
          ],
          "histogram": [
           {
            "marker": {
             "pattern": {
              "fillmode": "overlay",
              "size": 10,
              "solidity": 0.2
             }
            },
            "type": "histogram"
           }
          ],
          "histogram2d": [
           {
            "colorbar": {
             "outlinewidth": 0,
             "ticks": ""
            },
            "colorscale": [
             [
              0,
              "#0d0887"
             ],
             [
              0.1111111111111111,
              "#46039f"
             ],
             [
              0.2222222222222222,
              "#7201a8"
             ],
             [
              0.3333333333333333,
              "#9c179e"
             ],
             [
              0.4444444444444444,
              "#bd3786"
             ],
             [
              0.5555555555555556,
              "#d8576b"
             ],
             [
              0.6666666666666666,
              "#ed7953"
             ],
             [
              0.7777777777777778,
              "#fb9f3a"
             ],
             [
              0.8888888888888888,
              "#fdca26"
             ],
             [
              1,
              "#f0f921"
             ]
            ],
            "type": "histogram2d"
           }
          ],
          "histogram2dcontour": [
           {
            "colorbar": {
             "outlinewidth": 0,
             "ticks": ""
            },
            "colorscale": [
             [
              0,
              "#0d0887"
             ],
             [
              0.1111111111111111,
              "#46039f"
             ],
             [
              0.2222222222222222,
              "#7201a8"
             ],
             [
              0.3333333333333333,
              "#9c179e"
             ],
             [
              0.4444444444444444,
              "#bd3786"
             ],
             [
              0.5555555555555556,
              "#d8576b"
             ],
             [
              0.6666666666666666,
              "#ed7953"
             ],
             [
              0.7777777777777778,
              "#fb9f3a"
             ],
             [
              0.8888888888888888,
              "#fdca26"
             ],
             [
              1,
              "#f0f921"
             ]
            ],
            "type": "histogram2dcontour"
           }
          ],
          "mesh3d": [
           {
            "colorbar": {
             "outlinewidth": 0,
             "ticks": ""
            },
            "type": "mesh3d"
           }
          ],
          "parcoords": [
           {
            "line": {
             "colorbar": {
              "outlinewidth": 0,
              "ticks": ""
             }
            },
            "type": "parcoords"
           }
          ],
          "pie": [
           {
            "automargin": true,
            "type": "pie"
           }
          ],
          "scatter": [
           {
            "marker": {
             "colorbar": {
              "outlinewidth": 0,
              "ticks": ""
             }
            },
            "type": "scatter"
           }
          ],
          "scatter3d": [
           {
            "line": {
             "colorbar": {
              "outlinewidth": 0,
              "ticks": ""
             }
            },
            "marker": {
             "colorbar": {
              "outlinewidth": 0,
              "ticks": ""
             }
            },
            "type": "scatter3d"
           }
          ],
          "scattercarpet": [
           {
            "marker": {
             "colorbar": {
              "outlinewidth": 0,
              "ticks": ""
             }
            },
            "type": "scattercarpet"
           }
          ],
          "scattergeo": [
           {
            "marker": {
             "colorbar": {
              "outlinewidth": 0,
              "ticks": ""
             }
            },
            "type": "scattergeo"
           }
          ],
          "scattergl": [
           {
            "marker": {
             "colorbar": {
              "outlinewidth": 0,
              "ticks": ""
             }
            },
            "type": "scattergl"
           }
          ],
          "scattermapbox": [
           {
            "marker": {
             "colorbar": {
              "outlinewidth": 0,
              "ticks": ""
             }
            },
            "type": "scattermapbox"
           }
          ],
          "scatterpolar": [
           {
            "marker": {
             "colorbar": {
              "outlinewidth": 0,
              "ticks": ""
             }
            },
            "type": "scatterpolar"
           }
          ],
          "scatterpolargl": [
           {
            "marker": {
             "colorbar": {
              "outlinewidth": 0,
              "ticks": ""
             }
            },
            "type": "scatterpolargl"
           }
          ],
          "scatterternary": [
           {
            "marker": {
             "colorbar": {
              "outlinewidth": 0,
              "ticks": ""
             }
            },
            "type": "scatterternary"
           }
          ],
          "surface": [
           {
            "colorbar": {
             "outlinewidth": 0,
             "ticks": ""
            },
            "colorscale": [
             [
              0,
              "#0d0887"
             ],
             [
              0.1111111111111111,
              "#46039f"
             ],
             [
              0.2222222222222222,
              "#7201a8"
             ],
             [
              0.3333333333333333,
              "#9c179e"
             ],
             [
              0.4444444444444444,
              "#bd3786"
             ],
             [
              0.5555555555555556,
              "#d8576b"
             ],
             [
              0.6666666666666666,
              "#ed7953"
             ],
             [
              0.7777777777777778,
              "#fb9f3a"
             ],
             [
              0.8888888888888888,
              "#fdca26"
             ],
             [
              1,
              "#f0f921"
             ]
            ],
            "type": "surface"
           }
          ],
          "table": [
           {
            "cells": {
             "fill": {
              "color": "#EBF0F8"
             },
             "line": {
              "color": "white"
             }
            },
            "header": {
             "fill": {
              "color": "#C8D4E3"
             },
             "line": {
              "color": "white"
             }
            },
            "type": "table"
           }
          ]
         },
         "layout": {
          "annotationdefaults": {
           "arrowcolor": "#2a3f5f",
           "arrowhead": 0,
           "arrowwidth": 1
          },
          "autotypenumbers": "strict",
          "coloraxis": {
           "colorbar": {
            "outlinewidth": 0,
            "ticks": ""
           }
          },
          "colorscale": {
           "diverging": [
            [
             0,
             "#8e0152"
            ],
            [
             0.1,
             "#c51b7d"
            ],
            [
             0.2,
             "#de77ae"
            ],
            [
             0.3,
             "#f1b6da"
            ],
            [
             0.4,
             "#fde0ef"
            ],
            [
             0.5,
             "#f7f7f7"
            ],
            [
             0.6,
             "#e6f5d0"
            ],
            [
             0.7,
             "#b8e186"
            ],
            [
             0.8,
             "#7fbc41"
            ],
            [
             0.9,
             "#4d9221"
            ],
            [
             1,
             "#276419"
            ]
           ],
           "sequential": [
            [
             0,
             "#0d0887"
            ],
            [
             0.1111111111111111,
             "#46039f"
            ],
            [
             0.2222222222222222,
             "#7201a8"
            ],
            [
             0.3333333333333333,
             "#9c179e"
            ],
            [
             0.4444444444444444,
             "#bd3786"
            ],
            [
             0.5555555555555556,
             "#d8576b"
            ],
            [
             0.6666666666666666,
             "#ed7953"
            ],
            [
             0.7777777777777778,
             "#fb9f3a"
            ],
            [
             0.8888888888888888,
             "#fdca26"
            ],
            [
             1,
             "#f0f921"
            ]
           ],
           "sequentialminus": [
            [
             0,
             "#0d0887"
            ],
            [
             0.1111111111111111,
             "#46039f"
            ],
            [
             0.2222222222222222,
             "#7201a8"
            ],
            [
             0.3333333333333333,
             "#9c179e"
            ],
            [
             0.4444444444444444,
             "#bd3786"
            ],
            [
             0.5555555555555556,
             "#d8576b"
            ],
            [
             0.6666666666666666,
             "#ed7953"
            ],
            [
             0.7777777777777778,
             "#fb9f3a"
            ],
            [
             0.8888888888888888,
             "#fdca26"
            ],
            [
             1,
             "#f0f921"
            ]
           ]
          },
          "colorway": [
           "#636efa",
           "#EF553B",
           "#00cc96",
           "#ab63fa",
           "#FFA15A",
           "#19d3f3",
           "#FF6692",
           "#B6E880",
           "#FF97FF",
           "#FECB52"
          ],
          "font": {
           "color": "#2a3f5f"
          },
          "geo": {
           "bgcolor": "white",
           "lakecolor": "white",
           "landcolor": "#E5ECF6",
           "showlakes": true,
           "showland": true,
           "subunitcolor": "white"
          },
          "hoverlabel": {
           "align": "left"
          },
          "hovermode": "closest",
          "mapbox": {
           "style": "light"
          },
          "paper_bgcolor": "white",
          "plot_bgcolor": "#E5ECF6",
          "polar": {
           "angularaxis": {
            "gridcolor": "white",
            "linecolor": "white",
            "ticks": ""
           },
           "bgcolor": "#E5ECF6",
           "radialaxis": {
            "gridcolor": "white",
            "linecolor": "white",
            "ticks": ""
           }
          },
          "scene": {
           "xaxis": {
            "backgroundcolor": "#E5ECF6",
            "gridcolor": "white",
            "gridwidth": 2,
            "linecolor": "white",
            "showbackground": true,
            "ticks": "",
            "zerolinecolor": "white"
           },
           "yaxis": {
            "backgroundcolor": "#E5ECF6",
            "gridcolor": "white",
            "gridwidth": 2,
            "linecolor": "white",
            "showbackground": true,
            "ticks": "",
            "zerolinecolor": "white"
           },
           "zaxis": {
            "backgroundcolor": "#E5ECF6",
            "gridcolor": "white",
            "gridwidth": 2,
            "linecolor": "white",
            "showbackground": true,
            "ticks": "",
            "zerolinecolor": "white"
           }
          },
          "shapedefaults": {
           "line": {
            "color": "#2a3f5f"
           }
          },
          "ternary": {
           "aaxis": {
            "gridcolor": "white",
            "linecolor": "white",
            "ticks": ""
           },
           "baxis": {
            "gridcolor": "white",
            "linecolor": "white",
            "ticks": ""
           },
           "bgcolor": "#E5ECF6",
           "caxis": {
            "gridcolor": "white",
            "linecolor": "white",
            "ticks": ""
           }
          },
          "title": {
           "x": 0.05
          },
          "xaxis": {
           "automargin": true,
           "gridcolor": "white",
           "linecolor": "white",
           "ticks": "",
           "title": {
            "standoff": 15
           },
           "zerolinecolor": "white",
           "zerolinewidth": 2
          },
          "yaxis": {
           "automargin": true,
           "gridcolor": "white",
           "linecolor": "white",
           "ticks": "",
           "title": {
            "standoff": 15
           },
           "zerolinecolor": "white",
           "zerolinewidth": 2
          }
         }
        },
        "title": {
         "text": "Países mais populosos do mundo em 2018"
        },
        "xaxis": {
         "anchor": "y",
         "autorange": true,
         "domain": [
          0,
          1
         ],
         "range": [
          -0.5,
          4.5
         ],
         "title": {
          "text": "Country Name"
         },
         "type": "category"
        },
        "yaxis": {
         "anchor": "x",
         "autorange": true,
         "domain": [
          0,
          1
         ],
         "range": [
          0,
          1466031578.9473684
         ],
         "title": {
          "text": "value"
         },
         "type": "linear"
        }
       }
      },
      "image/png": "[encoded data removed]",
      "text/html": [
       "<div>                            <div id=\"85ed9fb5-eddc-41a5-a6a1-d6bca9ff6d36\" class=\"plotly-graph-div\" style=\"height:525px; width:100%;\"></div>            <script type=\"text/javascript\">                require([\"plotly\"], function(Plotly) {                    window.PLOTLYENV=window.PLOTLYENV || {};                                    if (document.getElementById(\"85ed9fb5-eddc-41a5-a6a1-d6bca9ff6d36\")) {                    Plotly.newPlot(                        \"85ed9fb5-eddc-41a5-a6a1-d6bca9ff6d36\",                        [{\"alignmentgroup\":\"True\",\"hovertemplate\":\"variable=Population, total<br>Country Name=%{x}<br>value=%{y}<extra></extra>\",\"legendgroup\":\"Population, total\",\"marker\":{\"color\":\"#636efa\",\"pattern\":{\"shape\":\"\"}},\"name\":\"Population, total\",\"offsetgroup\":\"Population, total\",\"orientation\":\"v\",\"showlegend\":true,\"textposition\":\"auto\",\"x\":[\"China\",\"India\",\"United States\",\"Indonesia\",\"Pakistan\"],\"xaxis\":\"x\",\"y\":[1392730000.0,1352642283.0,326838199.0,267670549.0,212228288.0],\"yaxis\":\"y\",\"type\":\"bar\"}],                        {\"template\":{\"data\":{\"bar\":[{\"error_x\":{\"color\":\"#2a3f5f\"},\"error_y\":{\"color\":\"#2a3f5f\"},\"marker\":{\"line\":{\"color\":\"#E5ECF6\",\"width\":0.5},\"pattern\":{\"fillmode\":\"overlay\",\"size\":10,\"solidity\":0.2}},\"type\":\"bar\"}],\"barpolar\":[{\"marker\":{\"line\":{\"color\":\"#E5ECF6\",\"width\":0.5},\"pattern\":{\"fillmode\":\"overlay\",\"size\":10,\"solidity\":0.2}},\"type\":\"barpolar\"}],\"carpet\":[{\"aaxis\":{\"endlinecolor\":\"#2a3f5f\",\"gridcolor\":\"white\",\"linecolor\":\"white\",\"minorgridcolor\":\"white\",\"startlinecolor\":\"#2a3f5f\"},\"baxis\":{\"endlinecolor\":\"#2a3f5f\",\"gridcolor\":\"white\",\"linecolor\":\"white\",\"minorgridcolor\":\"white\",\"startlinecolor\":\"#2a3f5f\"},\"type\":\"carpet\"}],\"choropleth\":[{\"colorbar\":{\"outlinewidth\":0,\"ticks\":\"\"},\"type\":\"choropleth\"}],\"contour\":[{\"colorbar\":{\"outlinewidth\":0,\"ticks\":\"\"},\"colorscale\":[[0.0,\"#0d0887\"],[0.1111111111111111,\"#46039f\"],[0.2222222222222222,\"#7201a8\"],[0.3333333333333333,\"#9c179e\"],[0.4444444444444444,\"#bd3786\"],[0.5555555555555556,\"#d8576b\"],[0.6666666666666666,\"#ed7953\"],[0.7777777777777778,\"#fb9f3a\"],[0.8888888888888888,\"#fdca26\"],[1.0,\"#f0f921\"]],\"type\":\"contour\"}],\"contourcarpet\":[{\"colorbar\":{\"outlinewidth\":0,\"ticks\":\"\"},\"type\":\"contourcarpet\"}],\"heatmap\":[{\"colorbar\":{\"outlinewidth\":0,\"ticks\":\"\"},\"colorscale\":[[0.0,\"#0d0887\"],[0.1111111111111111,\"#46039f\"],[0.2222222222222222,\"#7201a8\"],[0.3333333333333333,\"#9c179e\"],[0.4444444444444444,\"#bd3786\"],[0.5555555555555556,\"#d8576b\"],[0.6666666666666666,\"#ed7953\"],[0.7777777777777778,\"#fb9f3a\"],[0.8888888888888888,\"#fdca26\"],[1.0,\"#f0f921\"]],\"type\":\"heatmap\"}],\"heatmapgl\":[{\"colorbar\":{\"outlinewidth\":0,\"ticks\":\"\"},\"colorscale\":[[0.0,\"#0d0887\"],[0.1111111111111111,\"#46039f\"],[0.2222222222222222,\"#7201a8\"],[0.3333333333333333,\"#9c179e\"],[0.4444444444444444,\"#bd3786\"],[0.5555555555555556,\"#d8576b\"],[0.6666666666666666,\"#ed7953\"],[0.7777777777777778,\"#fb9f3a\"],[0.8888888888888888,\"#fdca26\"],[1.0,\"#f0f921\"]],\"type\":\"heatmapgl\"}],\"histogram\":[{\"marker\":{\"pattern\":{\"fillmode\":\"overlay\",\"size\":10,\"solidity\":0.2}},\"type\":\"histogram\"}],\"histogram2d\":[{\"colorbar\":{\"outlinewidth\":0,\"ticks\":\"\"},\"colorscale\":[[0.0,\"#0d0887\"],[0.1111111111111111,\"#46039f\"],[0.2222222222222222,\"#7201a8\"],[0.3333333333333333,\"#9c179e\"],[0.4444444444444444,\"#bd3786\"],[0.5555555555555556,\"#d8576b\"],[0.6666666666666666,\"#ed7953\"],[0.7777777777777778,\"#fb9f3a\"],[0.8888888888888888,\"#fdca26\"],[1.0,\"#f0f921\"]],\"type\":\"histogram2d\"}],\"histogram2dcontour\":[{\"colorbar\":{\"outlinewidth\":0,\"ticks\":\"\"},\"colorscale\":[[0.0,\"#0d0887\"],[0.1111111111111111,\"#46039f\"],[0.2222222222222222,\"#7201a8\"],[0.3333333333333333,\"#9c179e\"],[0.4444444444444444,\"#bd3786\"],[0.5555555555555556,\"#d8576b\"],[0.6666666666666666,\"#ed7953\"],[0.7777777777777778,\"#fb9f3a\"],[0.8888888888888888,\"#fdca26\"],[1.0,\"#f0f921\"]],\"type\":\"histogram2dcontour\"}],\"mesh3d\":[{\"colorbar\":{\"outlinewidth\":0,\"ticks\":\"\"},\"type\":\"mesh3d\"}],\"parcoords\":[{\"line\":{\"colorbar\":{\"outlinewidth\":0,\"ticks\":\"\"}},\"type\":\"parcoords\"}],\"pie\":[{\"automargin\":true,\"type\":\"pie\"}],\"scatter\":[{\"marker\":{\"colorbar\":{\"outlinewidth\":0,\"ticks\":\"\"}},\"type\":\"scatter\"}],\"scatter3d\":[{\"line\":{\"colorbar\":{\"outlinewidth\":0,\"ticks\":\"\"}},\"marker\":{\"colorbar\":{\"outlinewidth\":0,\"ticks\":\"\"}},\"type\":\"scatter3d\"}],\"scattercarpet\":[{\"marker\":{\"colorbar\":{\"outlinewidth\":0,\"ticks\":\"\"}},\"type\":\"scattercarpet\"}],\"scattergeo\":[{\"marker\":{\"colorbar\":{\"outlinewidth\":0,\"ticks\":\"\"}},\"type\":\"scattergeo\"}],\"scattergl\":[{\"marker\":{\"colorbar\":{\"outlinewidth\":0,\"ticks\":\"\"}},\"type\":\"scattergl\"}],\"scattermapbox\":[{\"marker\":{\"colorbar\":{\"outlinewidth\":0,\"ticks\":\"\"}},\"type\":\"scattermapbox\"}],\"scatterpolar\":[{\"marker\":{\"colorbar\":{\"outlinewidth\":0,\"ticks\":\"\"}},\"type\":\"scatterpolar\"}],\"scatterpolargl\":[{\"marker\":{\"colorbar\":{\"outlinewidth\":0,\"ticks\":\"\"}},\"type\":\"scatterpolargl\"}],\"scatterternary\":[{\"marker\":{\"colorbar\":{\"outlinewidth\":0,\"ticks\":\"\"}},\"type\":\"scatterternary\"}],\"surface\":[{\"colorbar\":{\"outlinewidth\":0,\"ticks\":\"\"},\"colorscale\":[[0.0,\"#0d0887\"],[0.1111111111111111,\"#46039f\"],[0.2222222222222222,\"#7201a8\"],[0.3333333333333333,\"#9c179e\"],[0.4444444444444444,\"#bd3786\"],[0.5555555555555556,\"#d8576b\"],[0.6666666666666666,\"#ed7953\"],[0.7777777777777778,\"#fb9f3a\"],[0.8888888888888888,\"#fdca26\"],[1.0,\"#f0f921\"]],\"type\":\"surface\"}],\"table\":[{\"cells\":{\"fill\":{\"color\":\"#EBF0F8\"},\"line\":{\"color\":\"white\"}},\"header\":{\"fill\":{\"color\":\"#C8D4E3\"},\"line\":{\"color\":\"white\"}},\"type\":\"table\"}]},\"layout\":{\"annotationdefaults\":{\"arrowcolor\":\"#2a3f5f\",\"arrowhead\":0,\"arrowwidth\":1},\"autotypenumbers\":\"strict\",\"coloraxis\":{\"colorbar\":{\"outlinewidth\":0,\"ticks\":\"\"}},\"colorscale\":{\"diverging\":[[0,\"#8e0152\"],[0.1,\"#c51b7d\"],[0.2,\"#de77ae\"],[0.3,\"#f1b6da\"],[0.4,\"#fde0ef\"],[0.5,\"#f7f7f7\"],[0.6,\"#e6f5d0\"],[0.7,\"#b8e186\"],[0.8,\"#7fbc41\"],[0.9,\"#4d9221\"],[1,\"#276419\"]],\"sequential\":[[0.0,\"#0d0887\"],[0.1111111111111111,\"#46039f\"],[0.2222222222222222,\"#7201a8\"],[0.3333333333333333,\"#9c179e\"],[0.4444444444444444,\"#bd3786\"],[0.5555555555555556,\"#d8576b\"],[0.6666666666666666,\"#ed7953\"],[0.7777777777777778,\"#fb9f3a\"],[0.8888888888888888,\"#fdca26\"],[1.0,\"#f0f921\"]],\"sequentialminus\":[[0.0,\"#0d0887\"],[0.1111111111111111,\"#46039f\"],[0.2222222222222222,\"#7201a8\"],[0.3333333333333333,\"#9c179e\"],[0.4444444444444444,\"#bd3786\"],[0.5555555555555556,\"#d8576b\"],[0.6666666666666666,\"#ed7953\"],[0.7777777777777778,\"#fb9f3a\"],[0.8888888888888888,\"#fdca26\"],[1.0,\"#f0f921\"]]},\"colorway\":[\"#636efa\",\"#EF553B\",\"#00cc96\",\"#ab63fa\",\"#FFA15A\",\"#19d3f3\",\"#FF6692\",\"#B6E880\",\"#FF97FF\",\"#FECB52\"],\"font\":{\"color\":\"#2a3f5f\"},\"geo\":{\"bgcolor\":\"white\",\"lakecolor\":\"white\",\"landcolor\":\"#E5ECF6\",\"showlakes\":true,\"showland\":true,\"subunitcolor\":\"white\"},\"hoverlabel\":{\"align\":\"left\"},\"hovermode\":\"closest\",\"mapbox\":{\"style\":\"light\"},\"paper_bgcolor\":\"white\",\"plot_bgcolor\":\"#E5ECF6\",\"polar\":{\"angularaxis\":{\"gridcolor\":\"white\",\"linecolor\":\"white\",\"ticks\":\"\"},\"bgcolor\":\"#E5ECF6\",\"radialaxis\":{\"gridcolor\":\"white\",\"linecolor\":\"white\",\"ticks\":\"\"}},\"scene\":{\"xaxis\":{\"backgroundcolor\":\"#E5ECF6\",\"gridcolor\":\"white\",\"gridwidth\":2,\"linecolor\":\"white\",\"showbackground\":true,\"ticks\":\"\",\"zerolinecolor\":\"white\"},\"yaxis\":{\"backgroundcolor\":\"#E5ECF6\",\"gridcolor\":\"white\",\"gridwidth\":2,\"linecolor\":\"white\",\"showbackground\":true,\"ticks\":\"\",\"zerolinecolor\":\"white\"},\"zaxis\":{\"backgroundcolor\":\"#E5ECF6\",\"gridcolor\":\"white\",\"gridwidth\":2,\"linecolor\":\"white\",\"showbackground\":true,\"ticks\":\"\",\"zerolinecolor\":\"white\"}},\"shapedefaults\":{\"line\":{\"color\":\"#2a3f5f\"}},\"ternary\":{\"aaxis\":{\"gridcolor\":\"white\",\"linecolor\":\"white\",\"ticks\":\"\"},\"baxis\":{\"gridcolor\":\"white\",\"linecolor\":\"white\",\"ticks\":\"\"},\"bgcolor\":\"#E5ECF6\",\"caxis\":{\"gridcolor\":\"white\",\"linecolor\":\"white\",\"ticks\":\"\"}},\"title\":{\"x\":0.05},\"xaxis\":{\"automargin\":true,\"gridcolor\":\"white\",\"linecolor\":\"white\",\"ticks\":\"\",\"title\":{\"standoff\":15},\"zerolinecolor\":\"white\",\"zerolinewidth\":2},\"yaxis\":{\"automargin\":true,\"gridcolor\":\"white\",\"linecolor\":\"white\",\"ticks\":\"\",\"title\":{\"standoff\":15},\"zerolinecolor\":\"white\",\"zerolinewidth\":2}}},\"xaxis\":{\"anchor\":\"y\",\"domain\":[0.0,1.0],\"title\":{\"text\":\"Country Name\"}},\"yaxis\":{\"anchor\":\"x\",\"domain\":[0.0,1.0],\"title\":{\"text\":\"value\"}},\"legend\":{\"title\":{\"text\":\"variable\"},\"tracegroupgap\":0},\"title\":{\"text\":\"Pa\\u00edses mais populosos do mundo em 2018\"},\"barmode\":\"relative\"},                        {\"responsive\": true}                    ).then(function(){\n",
       "                            \n",
       "var gd = document.getElementById('85ed9fb5-eddc-41a5-a6a1-d6bca9ff6d36');\n",
       "var x = new MutationObserver(function (mutations, observer) {{\n",
       "        var display = window.getComputedStyle(gd).display;\n",
       "        if (!display || display === 'none') {{\n",
       "            console.log([gd, 'removed!']);\n",
       "            Plotly.purge(gd);\n",
       "            observer.disconnect();\n",
       "        }}\n",
       "}});\n",
       "\n",
       "// Listen for the removal of the full notebook cells\n",
       "var notebookContainer = gd.closest('#notebook-container');\n",
       "if (notebookContainer) {{\n",
       "    x.observe(notebookContainer, {childList: true});\n",
       "}}\n",
       "\n",
       "// Listen for the clearing of the current output cell\n",
       "var outputEl = gd.closest('.output');\n",
       "if (outputEl) {{\n",
       "    x.observe(outputEl, {childList: true});\n",
       "}}\n",
       "\n",
       "                        })                };                });            </script>        </div>"
      ]
     },
     "metadata": {},
     "output_type": "display_data"
    }
   ],
   "source": [
    "paises_populosos = mundo[['Country Name','Population, total']].set_index('Country Name').sort_values('Population, total', ascending=False).head()\n",
    "paises_populosos.plot(kind='bar', title='Países mais populosos do mundo em 2018')"
   ]
  },
  {
   "cell_type": "code",
   "execution_count": 148,
   "id": "2f76789d-e495-40d9-9a85-abc8fc772165",
   "metadata": {},
   "outputs": [
    {
     "data": {
      "application/vnd.plotly.v1+json": {
       "config": {
        "plotlyServerURL": "https://plot.ly"
       },
       "data": [
        {
         "alignmentgroup": "True",
         "hovertemplate": "variable=%{x}<br>value=%{y}<extra></extra>",
         "legendgroup": "",
         "marker": {
          "color": "#636efa"
         },
         "name": "",
         "notched": false,
         "offsetgroup": "",
         "orientation": "v",
         "showlegend": false,
         "type": "box",
         "x": [
          "a",
          "a",
          "a",
          "a",
          "a",
          "a",
          "a",
          "a",
          "a",
          "a",
          "a",
          "a",
          "a",
          "a",
          "a",
          "a",
          "a",
          "a",
          "a",
          "a",
          "a",
          "a",
          "a",
          "a",
          "a",
          "a",
          "a",
          "a",
          "a",
          "a",
          "a",
          "a",
          "a",
          "a",
          "a",
          "a",
          "a",
          "a",
          "a",
          "a",
          "a",
          "a",
          "a",
          "a",
          "a",
          "a",
          "a",
          "a",
          "a",
          "a",
          "a",
          "a",
          "a",
          "a",
          "a",
          "a",
          "a",
          "a",
          "a",
          "a",
          "a",
          "a",
          "a",
          "a",
          "a",
          "a",
          "a",
          "a",
          "a",
          "a",
          "a",
          "a",
          "a",
          "a",
          "a",
          "a",
          "a",
          "a",
          "a",
          "a",
          "a",
          "a",
          "a",
          "a",
          "a",
          "a",
          "a",
          "a",
          "a",
          "a",
          "a",
          "a",
          "a",
          "a",
          "a",
          "a",
          "a",
          "a",
          "a",
          "a",
          "b",
          "b",
          "b",
          "b",
          "b",
          "b",
          "b",
          "b",
          "b",
          "b",
          "b",
          "b",
          "b",
          "b",
          "b",
          "b",
          "b",
          "b",
          "b",
          "b",
          "b",
          "b",
          "b",
          "b",
          "b",
          "b",
          "b",
          "b",
          "b",
          "b",
          "b",
          "b",
          "b",
          "b",
          "b",
          "b",
          "b",
          "b",
          "b",
          "b",
          "b",
          "b",
          "b",
          "b",
          "b",
          "b",
          "b",
          "b",
          "b",
          "b",
          "b",
          "b",
          "b",
          "b",
          "b",
          "b",
          "b",
          "b",
          "b",
          "b",
          "b",
          "b",
          "b",
          "b",
          "b",
          "b",
          "b",
          "b",
          "b",
          "b",
          "b",
          "b",
          "b",
          "b",
          "b",
          "b",
          "b",
          "b",
          "b",
          "b",
          "b",
          "b",
          "b",
          "b",
          "b",
          "b",
          "b",
          "b",
          "b",
          "b",
          "b",
          "b",
          "b",
          "b",
          "b",
          "b",
          "b",
          "b",
          "b",
          "b"
         ],
         "x0": " ",
         "xaxis": "x",
         "y": [
          4.248690727326483,
          -0.22351282730015076,
          -0.05634350452691139,
          -1.145937244312341,
          2.730815258649357,
          -3.6030773937605654,
          4.4896235284329595,
          -0.5224138017902056,
          1.6380781921141971,
          0.5012592490451798,
          3.924215874089948,
          -3.120281418995308,
          0.35516559197298503,
          0.23189129066316871,
          3.267538884670875,
          -1.1997825346280617,
          0.6551435848991285,
          -0.7557168358427435,
          1.0844274934311857,
          2.1656304274316445,
          -1.2012383544258425,
          3.2894474196792283,
          2.803181441185591,
          2.0049886778037367,
          2.801711898528824,
          -0.3674557183486662,
          0.7542195489627037,
          -0.8715388685181376,
          0.4642238407479682,
          2.060710933476372,
          -0.3833215034506181,
          0.20649294628804526,
          -0.3743454002391988,
          -0.6904112829974391,
          -0.3424922616736381,
          0.9746708021621973,
          -1.2346206972705556,
          1.4688313956341843,
          4.3196043542197415,
          2.484088321154671,
          0.6163288952767702,
          -0.7752579281696725,
          -0.4943165875016753,
          4.384909202055493,
          1.101615509552058,
          -0.27399129313870674,
          1.381830969334932,
          5.200510272957684,
          1.2403179049632582,
          2.234406219414838,
          1.6003406399116549,
          0.2955003070129627,
          -1.2850363960442803,
          0.301314555174245,
          0.5822115332504438,
          2.173246382364395,
          2.67796682774901,
          2.8622041626071146,
          1.5711746505085176,
          2.770282328541456,
          -0.5087958819933056,
          3.5057363104665757,
          2.0258596408360177,
          0.40381432979456866,
          1.977036293074994,
          0.8488565739578886,
          3.263258774902854,
          4.039633632844398,
          5.371150813066323,
          -1.7929926709762753,
          -1.888227610859179,
          -0.008931725892902476,
          1.320074138895661,
          2.75233784223245,
          1.6312698944832105,
          -3.044402431648006,
          0.38759197474325635,
          2.6559492852144926,
          1.4601894707287668,
          2.5240223606240493,
          0.5553437147792815,
          0.598483862140005,
          1.3731227819765686,
          1.8201032944165125,
          1.3965994402535395,
          1.2380172916149177,
          -0.34132457257806115,
          1.7551275726418387,
          1.2436425419828738,
          3.2589678158238393,
          3.397835759803014,
          1.3703128349678877,
          0.2494300998197716,
          -0.27746081490844476,
          1.846988708128226,
          1.1546801366971189,
          0.3122926488578488,
          1.087193713668494,
          -0.24000168789625853,
          2.3960640681444376,
          1.5528714352140018,
          3.224507704805499,
          2.4034916417908,
          2.593578523237067,
          0.9050881542589582,
          2.169382433058668,
          2.7405564510962748,
          1.0462993981920654,
          1.733781493996378,
          2.0326145466933587,
          0.6268826797532443,
          2.315159392042292,
          2.8461606475850334,
          1.1404840591680137,
          2.3505459786641074,
          0.6877165887625682,
          1.961304490733949,
          0.3842276452967053,
          3.121417708235664,
          2.4089005379368276,
          1.9753830441242217,
          1.2248383808308403,
          3.2737559301587766,
          3.9671017492547347,
          0.14201813555324794,
          3.2361640304528203,
          3.6276507531489064,
          2.3380116965744757,
          0.8007319676648139,
          2.8633453175440216,
          1.8190796979218495,
          1.3960793722067426,
          0.7699418643330382,
          2.5505374959762155,
          2.7928068659193475,
          1.3764692703202084,
          2.5205763370733707,
          0.8556586103768573,
          2.801861031871345,
          2.0465672984241454,
          1.8134302280926513,
          1.8982541274708549,
          2.8688861570058677,
          2.7504116398650083,
          2.529465324352709,
          2.137701209997386,
          2.077821127912706,
          2.6183802619985244,
          2.232494559178738,
          2.6825514068644853,
          1.68988322648194,
          -0.4348377641071388,
          3.038824601859414,
          4.186979646974258,
          2.441364443568582,
          1.8998447667165002,
          1.863555256103967,
          1.88094581222519,
          2.0174094083000047,
          0.8779812712531117,
          1.482905542079772,
          1.002973172349737,
          2.2487991613877707,
          1.7033588476291373,
          2.4952113239779603,
          1.825296840257499,
          2.986335187821242,
          2.213533901335442,
          4.190699728969733,
          0.10363907710890752,
          1.353083311745092,
          2.901486891648711,
          4.528325706806398,
          1.75136522228454,
          2.043668993178389,
          1.773685757486395,
          3.331457112587592,
          1.7126921365239811,
          2.6800698398781044,
          1.680198401101329,
          0.7274412447540057,
          2.3135477204634323,
          2.5031848134353263,
          3.293225882532262,
          1.8895529735826837,
          1.382637936287639,
          2.562761096619026,
          2.2407370922377323,
          2.280665077122639,
          1.9268872962527221,
          3.16033856999377,
          2.369492716375724,
          3.904658708340981,
          3.1110566985605046,
          2.65904979610021,
          0.37256165938374264,
          2.602319280295629,
          2.4202822036470595,
          2.8109516728035557,
          3.044442094707259
         ],
         "y0": " ",
         "yaxis": "y"
        }
       ],
       "layout": {
        "autosize": true,
        "boxmode": "group",
        "legend": {
         "tracegroupgap": 0
        },
        "margin": {
         "t": 60
        },
        "template": {
         "data": {
          "bar": [
           {
            "error_x": {
             "color": "#2a3f5f"
            },
            "error_y": {
             "color": "#2a3f5f"
            },
            "marker": {
             "line": {
              "color": "#E5ECF6",
              "width": 0.5
             },
             "pattern": {
              "fillmode": "overlay",
              "size": 10,
              "solidity": 0.2
             }
            },
            "type": "bar"
           }
          ],
          "barpolar": [
           {
            "marker": {
             "line": {
              "color": "#E5ECF6",
              "width": 0.5
             },
             "pattern": {
              "fillmode": "overlay",
              "size": 10,
              "solidity": 0.2
             }
            },
            "type": "barpolar"
           }
          ],
          "carpet": [
           {
            "aaxis": {
             "endlinecolor": "#2a3f5f",
             "gridcolor": "white",
             "linecolor": "white",
             "minorgridcolor": "white",
             "startlinecolor": "#2a3f5f"
            },
            "baxis": {
             "endlinecolor": "#2a3f5f",
             "gridcolor": "white",
             "linecolor": "white",
             "minorgridcolor": "white",
             "startlinecolor": "#2a3f5f"
            },
            "type": "carpet"
           }
          ],
          "choropleth": [
           {
            "colorbar": {
             "outlinewidth": 0,
             "ticks": ""
            },
            "type": "choropleth"
           }
          ],
          "contour": [
           {
            "colorbar": {
             "outlinewidth": 0,
             "ticks": ""
            },
            "colorscale": [
             [
              0,
              "#0d0887"
             ],
             [
              0.1111111111111111,
              "#46039f"
             ],
             [
              0.2222222222222222,
              "#7201a8"
             ],
             [
              0.3333333333333333,
              "#9c179e"
             ],
             [
              0.4444444444444444,
              "#bd3786"
             ],
             [
              0.5555555555555556,
              "#d8576b"
             ],
             [
              0.6666666666666666,
              "#ed7953"
             ],
             [
              0.7777777777777778,
              "#fb9f3a"
             ],
             [
              0.8888888888888888,
              "#fdca26"
             ],
             [
              1,
              "#f0f921"
             ]
            ],
            "type": "contour"
           }
          ],
          "contourcarpet": [
           {
            "colorbar": {
             "outlinewidth": 0,
             "ticks": ""
            },
            "type": "contourcarpet"
           }
          ],
          "heatmap": [
           {
            "colorbar": {
             "outlinewidth": 0,
             "ticks": ""
            },
            "colorscale": [
             [
              0,
              "#0d0887"
             ],
             [
              0.1111111111111111,
              "#46039f"
             ],
             [
              0.2222222222222222,
              "#7201a8"
             ],
             [
              0.3333333333333333,
              "#9c179e"
             ],
             [
              0.4444444444444444,
              "#bd3786"
             ],
             [
              0.5555555555555556,
              "#d8576b"
             ],
             [
              0.6666666666666666,
              "#ed7953"
             ],
             [
              0.7777777777777778,
              "#fb9f3a"
             ],
             [
              0.8888888888888888,
              "#fdca26"
             ],
             [
              1,
              "#f0f921"
             ]
            ],
            "type": "heatmap"
           }
          ],
          "heatmapgl": [
           {
            "colorbar": {
             "outlinewidth": 0,
             "ticks": ""
            },
            "colorscale": [
             [
              0,
              "#0d0887"
             ],
             [
              0.1111111111111111,
              "#46039f"
             ],
             [
              0.2222222222222222,
              "#7201a8"
             ],
             [
              0.3333333333333333,
              "#9c179e"
             ],
             [
              0.4444444444444444,
              "#bd3786"
             ],
             [
              0.5555555555555556,
              "#d8576b"
             ],
             [
              0.6666666666666666,
              "#ed7953"
             ],
             [
              0.7777777777777778,
              "#fb9f3a"
             ],
             [
              0.8888888888888888,
              "#fdca26"
             ],
             [
              1,
              "#f0f921"
             ]
            ],
            "type": "heatmapgl"
           }
          ],
          "histogram": [
           {
            "marker": {
             "pattern": {
              "fillmode": "overlay",
              "size": 10,
              "solidity": 0.2
             }
            },
            "type": "histogram"
           }
          ],
          "histogram2d": [
           {
            "colorbar": {
             "outlinewidth": 0,
             "ticks": ""
            },
            "colorscale": [
             [
              0,
              "#0d0887"
             ],
             [
              0.1111111111111111,
              "#46039f"
             ],
             [
              0.2222222222222222,
              "#7201a8"
             ],
             [
              0.3333333333333333,
              "#9c179e"
             ],
             [
              0.4444444444444444,
              "#bd3786"
             ],
             [
              0.5555555555555556,
              "#d8576b"
             ],
             [
              0.6666666666666666,
              "#ed7953"
             ],
             [
              0.7777777777777778,
              "#fb9f3a"
             ],
             [
              0.8888888888888888,
              "#fdca26"
             ],
             [
              1,
              "#f0f921"
             ]
            ],
            "type": "histogram2d"
           }
          ],
          "histogram2dcontour": [
           {
            "colorbar": {
             "outlinewidth": 0,
             "ticks": ""
            },
            "colorscale": [
             [
              0,
              "#0d0887"
             ],
             [
              0.1111111111111111,
              "#46039f"
             ],
             [
              0.2222222222222222,
              "#7201a8"
             ],
             [
              0.3333333333333333,
              "#9c179e"
             ],
             [
              0.4444444444444444,
              "#bd3786"
             ],
             [
              0.5555555555555556,
              "#d8576b"
             ],
             [
              0.6666666666666666,
              "#ed7953"
             ],
             [
              0.7777777777777778,
              "#fb9f3a"
             ],
             [
              0.8888888888888888,
              "#fdca26"
             ],
             [
              1,
              "#f0f921"
             ]
            ],
            "type": "histogram2dcontour"
           }
          ],
          "mesh3d": [
           {
            "colorbar": {
             "outlinewidth": 0,
             "ticks": ""
            },
            "type": "mesh3d"
           }
          ],
          "parcoords": [
           {
            "line": {
             "colorbar": {
              "outlinewidth": 0,
              "ticks": ""
             }
            },
            "type": "parcoords"
           }
          ],
          "pie": [
           {
            "automargin": true,
            "type": "pie"
           }
          ],
          "scatter": [
           {
            "marker": {
             "colorbar": {
              "outlinewidth": 0,
              "ticks": ""
             }
            },
            "type": "scatter"
           }
          ],
          "scatter3d": [
           {
            "line": {
             "colorbar": {
              "outlinewidth": 0,
              "ticks": ""
             }
            },
            "marker": {
             "colorbar": {
              "outlinewidth": 0,
              "ticks": ""
             }
            },
            "type": "scatter3d"
           }
          ],
          "scattercarpet": [
           {
            "marker": {
             "colorbar": {
              "outlinewidth": 0,
              "ticks": ""
             }
            },
            "type": "scattercarpet"
           }
          ],
          "scattergeo": [
           {
            "marker": {
             "colorbar": {
              "outlinewidth": 0,
              "ticks": ""
             }
            },
            "type": "scattergeo"
           }
          ],
          "scattergl": [
           {
            "marker": {
             "colorbar": {
              "outlinewidth": 0,
              "ticks": ""
             }
            },
            "type": "scattergl"
           }
          ],
          "scattermapbox": [
           {
            "marker": {
             "colorbar": {
              "outlinewidth": 0,
              "ticks": ""
             }
            },
            "type": "scattermapbox"
           }
          ],
          "scatterpolar": [
           {
            "marker": {
             "colorbar": {
              "outlinewidth": 0,
              "ticks": ""
             }
            },
            "type": "scatterpolar"
           }
          ],
          "scatterpolargl": [
           {
            "marker": {
             "colorbar": {
              "outlinewidth": 0,
              "ticks": ""
             }
            },
            "type": "scatterpolargl"
           }
          ],
          "scatterternary": [
           {
            "marker": {
             "colorbar": {
              "outlinewidth": 0,
              "ticks": ""
             }
            },
            "type": "scatterternary"
           }
          ],
          "surface": [
           {
            "colorbar": {
             "outlinewidth": 0,
             "ticks": ""
            },
            "colorscale": [
             [
              0,
              "#0d0887"
             ],
             [
              0.1111111111111111,
              "#46039f"
             ],
             [
              0.2222222222222222,
              "#7201a8"
             ],
             [
              0.3333333333333333,
              "#9c179e"
             ],
             [
              0.4444444444444444,
              "#bd3786"
             ],
             [
              0.5555555555555556,
              "#d8576b"
             ],
             [
              0.6666666666666666,
              "#ed7953"
             ],
             [
              0.7777777777777778,
              "#fb9f3a"
             ],
             [
              0.8888888888888888,
              "#fdca26"
             ],
             [
              1,
              "#f0f921"
             ]
            ],
            "type": "surface"
           }
          ],
          "table": [
           {
            "cells": {
             "fill": {
              "color": "#EBF0F8"
             },
             "line": {
              "color": "white"
             }
            },
            "header": {
             "fill": {
              "color": "#C8D4E3"
             },
             "line": {
              "color": "white"
             }
            },
            "type": "table"
           }
          ]
         },
         "layout": {
          "annotationdefaults": {
           "arrowcolor": "#2a3f5f",
           "arrowhead": 0,
           "arrowwidth": 1
          },
          "autotypenumbers": "strict",
          "coloraxis": {
           "colorbar": {
            "outlinewidth": 0,
            "ticks": ""
           }
          },
          "colorscale": {
           "diverging": [
            [
             0,
             "#8e0152"
            ],
            [
             0.1,
             "#c51b7d"
            ],
            [
             0.2,
             "#de77ae"
            ],
            [
             0.3,
             "#f1b6da"
            ],
            [
             0.4,
             "#fde0ef"
            ],
            [
             0.5,
             "#f7f7f7"
            ],
            [
             0.6,
             "#e6f5d0"
            ],
            [
             0.7,
             "#b8e186"
            ],
            [
             0.8,
             "#7fbc41"
            ],
            [
             0.9,
             "#4d9221"
            ],
            [
             1,
             "#276419"
            ]
           ],
           "sequential": [
            [
             0,
             "#0d0887"
            ],
            [
             0.1111111111111111,
             "#46039f"
            ],
            [
             0.2222222222222222,
             "#7201a8"
            ],
            [
             0.3333333333333333,
             "#9c179e"
            ],
            [
             0.4444444444444444,
             "#bd3786"
            ],
            [
             0.5555555555555556,
             "#d8576b"
            ],
            [
             0.6666666666666666,
             "#ed7953"
            ],
            [
             0.7777777777777778,
             "#fb9f3a"
            ],
            [
             0.8888888888888888,
             "#fdca26"
            ],
            [
             1,
             "#f0f921"
            ]
           ],
           "sequentialminus": [
            [
             0,
             "#0d0887"
            ],
            [
             0.1111111111111111,
             "#46039f"
            ],
            [
             0.2222222222222222,
             "#7201a8"
            ],
            [
             0.3333333333333333,
             "#9c179e"
            ],
            [
             0.4444444444444444,
             "#bd3786"
            ],
            [
             0.5555555555555556,
             "#d8576b"
            ],
            [
             0.6666666666666666,
             "#ed7953"
            ],
            [
             0.7777777777777778,
             "#fb9f3a"
            ],
            [
             0.8888888888888888,
             "#fdca26"
            ],
            [
             1,
             "#f0f921"
            ]
           ]
          },
          "colorway": [
           "#636efa",
           "#EF553B",
           "#00cc96",
           "#ab63fa",
           "#FFA15A",
           "#19d3f3",
           "#FF6692",
           "#B6E880",
           "#FF97FF",
           "#FECB52"
          ],
          "font": {
           "color": "#2a3f5f"
          },
          "geo": {
           "bgcolor": "white",
           "lakecolor": "white",
           "landcolor": "#E5ECF6",
           "showlakes": true,
           "showland": true,
           "subunitcolor": "white"
          },
          "hoverlabel": {
           "align": "left"
          },
          "hovermode": "closest",
          "mapbox": {
           "style": "light"
          },
          "paper_bgcolor": "white",
          "plot_bgcolor": "#E5ECF6",
          "polar": {
           "angularaxis": {
            "gridcolor": "white",
            "linecolor": "white",
            "ticks": ""
           },
           "bgcolor": "#E5ECF6",
           "radialaxis": {
            "gridcolor": "white",
            "linecolor": "white",
            "ticks": ""
           }
          },
          "scene": {
           "xaxis": {
            "backgroundcolor": "#E5ECF6",
            "gridcolor": "white",
            "gridwidth": 2,
            "linecolor": "white",
            "showbackground": true,
            "ticks": "",
            "zerolinecolor": "white"
           },
           "yaxis": {
            "backgroundcolor": "#E5ECF6",
            "gridcolor": "white",
            "gridwidth": 2,
            "linecolor": "white",
            "showbackground": true,
            "ticks": "",
            "zerolinecolor": "white"
           },
           "zaxis": {
            "backgroundcolor": "#E5ECF6",
            "gridcolor": "white",
            "gridwidth": 2,
            "linecolor": "white",
            "showbackground": true,
            "ticks": "",
            "zerolinecolor": "white"
           }
          },
          "shapedefaults": {
           "line": {
            "color": "#2a3f5f"
           }
          },
          "ternary": {
           "aaxis": {
            "gridcolor": "white",
            "linecolor": "white",
            "ticks": ""
           },
           "baxis": {
            "gridcolor": "white",
            "linecolor": "white",
            "ticks": ""
           },
           "bgcolor": "#E5ECF6",
           "caxis": {
            "gridcolor": "white",
            "linecolor": "white",
            "ticks": ""
           }
          },
          "title": {
           "x": 0.05
          },
          "xaxis": {
           "automargin": true,
           "gridcolor": "white",
           "linecolor": "white",
           "ticks": "",
           "title": {
            "standoff": 15
           },
           "zerolinecolor": "white",
           "zerolinewidth": 2
          },
          "yaxis": {
           "automargin": true,
           "gridcolor": "white",
           "linecolor": "white",
           "ticks": "",
           "title": {
            "standoff": 15
           },
           "zerolinecolor": "white",
           "zerolinewidth": 2
          }
         }
        },
        "xaxis": {
         "anchor": "y",
         "autorange": true,
         "domain": [
          0,
          1
         ],
         "range": [
          -0.5,
          1.5
         ],
         "title": {
          "text": "variable"
         },
         "type": "category"
        },
        "yaxis": {
         "anchor": "x",
         "autorange": true,
         "domain": [
          0,
          1
         ],
         "range": [
          -4.10164562747317,
          5.869719046778927
         ],
         "title": {
          "text": "value"
         },
         "type": "linear"
        }
       }
      },
      "image/png": "[encoded data removed]",
      "text/html": [
       "<div>                            <div id=\"72f6a5e0-72f2-44a9-9bea-d7f34215755a\" class=\"plotly-graph-div\" style=\"height:525px; width:100%;\"></div>            <script type=\"text/javascript\">                require([\"plotly\"], function(Plotly) {                    window.PLOTLYENV=window.PLOTLYENV || {};                                    if (document.getElementById(\"72f6a5e0-72f2-44a9-9bea-d7f34215755a\")) {                    Plotly.newPlot(                        \"72f6a5e0-72f2-44a9-9bea-d7f34215755a\",                        [{\"alignmentgroup\":\"True\",\"hovertemplate\":\"variable=%{x}<br>value=%{y}<extra></extra>\",\"legendgroup\":\"\",\"marker\":{\"color\":\"#636efa\"},\"name\":\"\",\"notched\":false,\"offsetgroup\":\"\",\"orientation\":\"v\",\"showlegend\":false,\"x\":[\"a\",\"a\",\"a\",\"a\",\"a\",\"a\",\"a\",\"a\",\"a\",\"a\",\"a\",\"a\",\"a\",\"a\",\"a\",\"a\",\"a\",\"a\",\"a\",\"a\",\"a\",\"a\",\"a\",\"a\",\"a\",\"a\",\"a\",\"a\",\"a\",\"a\",\"a\",\"a\",\"a\",\"a\",\"a\",\"a\",\"a\",\"a\",\"a\",\"a\",\"a\",\"a\",\"a\",\"a\",\"a\",\"a\",\"a\",\"a\",\"a\",\"a\",\"a\",\"a\",\"a\",\"a\",\"a\",\"a\",\"a\",\"a\",\"a\",\"a\",\"a\",\"a\",\"a\",\"a\",\"a\",\"a\",\"a\",\"a\",\"a\",\"a\",\"a\",\"a\",\"a\",\"a\",\"a\",\"a\",\"a\",\"a\",\"a\",\"a\",\"a\",\"a\",\"a\",\"a\",\"a\",\"a\",\"a\",\"a\",\"a\",\"a\",\"a\",\"a\",\"a\",\"a\",\"a\",\"a\",\"a\",\"a\",\"a\",\"a\",\"b\",\"b\",\"b\",\"b\",\"b\",\"b\",\"b\",\"b\",\"b\",\"b\",\"b\",\"b\",\"b\",\"b\",\"b\",\"b\",\"b\",\"b\",\"b\",\"b\",\"b\",\"b\",\"b\",\"b\",\"b\",\"b\",\"b\",\"b\",\"b\",\"b\",\"b\",\"b\",\"b\",\"b\",\"b\",\"b\",\"b\",\"b\",\"b\",\"b\",\"b\",\"b\",\"b\",\"b\",\"b\",\"b\",\"b\",\"b\",\"b\",\"b\",\"b\",\"b\",\"b\",\"b\",\"b\",\"b\",\"b\",\"b\",\"b\",\"b\",\"b\",\"b\",\"b\",\"b\",\"b\",\"b\",\"b\",\"b\",\"b\",\"b\",\"b\",\"b\",\"b\",\"b\",\"b\",\"b\",\"b\",\"b\",\"b\",\"b\",\"b\",\"b\",\"b\",\"b\",\"b\",\"b\",\"b\",\"b\",\"b\",\"b\",\"b\",\"b\",\"b\",\"b\",\"b\",\"b\",\"b\",\"b\",\"b\",\"b\"],\"x0\":\" \",\"xaxis\":\"x\",\"y\":[4.248690727326483,-0.22351282730015076,-0.05634350452691139,-1.145937244312341,2.730815258649357,-3.6030773937605654,4.4896235284329595,-0.5224138017902056,1.6380781921141971,0.5012592490451798,3.924215874089948,-3.120281418995308,0.35516559197298503,0.23189129066316871,3.267538884670875,-1.1997825346280617,0.6551435848991285,-0.7557168358427435,1.0844274934311857,2.1656304274316445,-1.2012383544258425,3.2894474196792283,2.803181441185591,2.0049886778037367,2.801711898528824,-0.3674557183486662,0.7542195489627037,-0.8715388685181376,0.4642238407479682,2.060710933476372,-0.3833215034506181,0.20649294628804526,-0.3743454002391988,-0.6904112829974391,-0.3424922616736381,0.9746708021621973,-1.2346206972705556,1.4688313956341843,4.3196043542197415,2.484088321154671,0.6163288952767702,-0.7752579281696725,-0.4943165875016753,4.384909202055493,1.101615509552058,-0.27399129313870674,1.381830969334932,5.200510272957684,1.2403179049632582,2.234406219414838,1.6003406399116549,0.2955003070129627,-1.2850363960442803,0.301314555174245,0.5822115332504438,2.173246382364395,2.67796682774901,2.8622041626071146,1.5711746505085176,2.770282328541456,-0.5087958819933056,3.5057363104665757,2.0258596408360177,0.40381432979456866,1.977036293074994,0.8488565739578886,3.263258774902854,4.039633632844398,5.371150813066323,-1.7929926709762753,-1.888227610859179,-0.008931725892902476,1.320074138895661,2.75233784223245,1.6312698944832105,-3.044402431648006,0.38759197474325635,2.6559492852144926,1.4601894707287668,2.5240223606240493,0.5553437147792815,0.598483862140005,1.3731227819765686,1.8201032944165125,1.3965994402535395,1.2380172916149177,-0.34132457257806115,1.7551275726418387,1.2436425419828738,3.2589678158238393,3.397835759803014,1.3703128349678877,0.2494300998197716,-0.27746081490844476,1.846988708128226,1.1546801366971189,0.3122926488578488,1.087193713668494,-0.24000168789625853,2.3960640681444376,1.5528714352140018,3.224507704805499,2.4034916417908,2.593578523237067,0.9050881542589582,2.169382433058668,2.7405564510962748,1.0462993981920654,1.733781493996378,2.0326145466933587,0.6268826797532443,2.315159392042292,2.8461606475850334,1.1404840591680137,2.3505459786641074,0.6877165887625682,1.961304490733949,0.3842276452967053,3.121417708235664,2.4089005379368276,1.9753830441242217,1.2248383808308403,3.2737559301587766,3.9671017492547347,0.14201813555324794,3.2361640304528203,3.6276507531489064,2.3380116965744757,0.8007319676648139,2.8633453175440216,1.8190796979218495,1.3960793722067426,0.7699418643330382,2.5505374959762155,2.7928068659193475,1.3764692703202084,2.5205763370733707,0.8556586103768573,2.801861031871345,2.0465672984241454,1.8134302280926513,1.8982541274708549,2.8688861570058677,2.7504116398650083,2.529465324352709,2.137701209997386,2.077821127912706,2.6183802619985244,2.232494559178738,2.6825514068644853,1.68988322648194,-0.4348377641071388,3.038824601859414,4.186979646974258,2.441364443568582,1.8998447667165002,1.863555256103967,1.88094581222519,2.0174094083000047,0.8779812712531117,1.482905542079772,1.002973172349737,2.2487991613877707,1.7033588476291373,2.4952113239779603,1.825296840257499,2.986335187821242,2.213533901335442,4.190699728969733,0.10363907710890752,1.353083311745092,2.901486891648711,4.528325706806398,1.75136522228454,2.043668993178389,1.773685757486395,3.331457112587592,1.7126921365239811,2.6800698398781044,1.680198401101329,0.7274412447540057,2.3135477204634323,2.5031848134353263,3.293225882532262,1.8895529735826837,1.382637936287639,2.562761096619026,2.2407370922377323,2.280665077122639,1.9268872962527221,3.16033856999377,2.369492716375724,3.904658708340981,3.1110566985605046,2.65904979610021,0.37256165938374264,2.602319280295629,2.4202822036470595,2.8109516728035557,3.044442094707259],\"y0\":\" \",\"yaxis\":\"y\",\"type\":\"box\"}],                        {\"template\":{\"data\":{\"bar\":[{\"error_x\":{\"color\":\"#2a3f5f\"},\"error_y\":{\"color\":\"#2a3f5f\"},\"marker\":{\"line\":{\"color\":\"#E5ECF6\",\"width\":0.5},\"pattern\":{\"fillmode\":\"overlay\",\"size\":10,\"solidity\":0.2}},\"type\":\"bar\"}],\"barpolar\":[{\"marker\":{\"line\":{\"color\":\"#E5ECF6\",\"width\":0.5},\"pattern\":{\"fillmode\":\"overlay\",\"size\":10,\"solidity\":0.2}},\"type\":\"barpolar\"}],\"carpet\":[{\"aaxis\":{\"endlinecolor\":\"#2a3f5f\",\"gridcolor\":\"white\",\"linecolor\":\"white\",\"minorgridcolor\":\"white\",\"startlinecolor\":\"#2a3f5f\"},\"baxis\":{\"endlinecolor\":\"#2a3f5f\",\"gridcolor\":\"white\",\"linecolor\":\"white\",\"minorgridcolor\":\"white\",\"startlinecolor\":\"#2a3f5f\"},\"type\":\"carpet\"}],\"choropleth\":[{\"colorbar\":{\"outlinewidth\":0,\"ticks\":\"\"},\"type\":\"choropleth\"}],\"contour\":[{\"colorbar\":{\"outlinewidth\":0,\"ticks\":\"\"},\"colorscale\":[[0.0,\"#0d0887\"],[0.1111111111111111,\"#46039f\"],[0.2222222222222222,\"#7201a8\"],[0.3333333333333333,\"#9c179e\"],[0.4444444444444444,\"#bd3786\"],[0.5555555555555556,\"#d8576b\"],[0.6666666666666666,\"#ed7953\"],[0.7777777777777778,\"#fb9f3a\"],[0.8888888888888888,\"#fdca26\"],[1.0,\"#f0f921\"]],\"type\":\"contour\"}],\"contourcarpet\":[{\"colorbar\":{\"outlinewidth\":0,\"ticks\":\"\"},\"type\":\"contourcarpet\"}],\"heatmap\":[{\"colorbar\":{\"outlinewidth\":0,\"ticks\":\"\"},\"colorscale\":[[0.0,\"#0d0887\"],[0.1111111111111111,\"#46039f\"],[0.2222222222222222,\"#7201a8\"],[0.3333333333333333,\"#9c179e\"],[0.4444444444444444,\"#bd3786\"],[0.5555555555555556,\"#d8576b\"],[0.6666666666666666,\"#ed7953\"],[0.7777777777777778,\"#fb9f3a\"],[0.8888888888888888,\"#fdca26\"],[1.0,\"#f0f921\"]],\"type\":\"heatmap\"}],\"heatmapgl\":[{\"colorbar\":{\"outlinewidth\":0,\"ticks\":\"\"},\"colorscale\":[[0.0,\"#0d0887\"],[0.1111111111111111,\"#46039f\"],[0.2222222222222222,\"#7201a8\"],[0.3333333333333333,\"#9c179e\"],[0.4444444444444444,\"#bd3786\"],[0.5555555555555556,\"#d8576b\"],[0.6666666666666666,\"#ed7953\"],[0.7777777777777778,\"#fb9f3a\"],[0.8888888888888888,\"#fdca26\"],[1.0,\"#f0f921\"]],\"type\":\"heatmapgl\"}],\"histogram\":[{\"marker\":{\"pattern\":{\"fillmode\":\"overlay\",\"size\":10,\"solidity\":0.2}},\"type\":\"histogram\"}],\"histogram2d\":[{\"colorbar\":{\"outlinewidth\":0,\"ticks\":\"\"},\"colorscale\":[[0.0,\"#0d0887\"],[0.1111111111111111,\"#46039f\"],[0.2222222222222222,\"#7201a8\"],[0.3333333333333333,\"#9c179e\"],[0.4444444444444444,\"#bd3786\"],[0.5555555555555556,\"#d8576b\"],[0.6666666666666666,\"#ed7953\"],[0.7777777777777778,\"#fb9f3a\"],[0.8888888888888888,\"#fdca26\"],[1.0,\"#f0f921\"]],\"type\":\"histogram2d\"}],\"histogram2dcontour\":[{\"colorbar\":{\"outlinewidth\":0,\"ticks\":\"\"},\"colorscale\":[[0.0,\"#0d0887\"],[0.1111111111111111,\"#46039f\"],[0.2222222222222222,\"#7201a8\"],[0.3333333333333333,\"#9c179e\"],[0.4444444444444444,\"#bd3786\"],[0.5555555555555556,\"#d8576b\"],[0.6666666666666666,\"#ed7953\"],[0.7777777777777778,\"#fb9f3a\"],[0.8888888888888888,\"#fdca26\"],[1.0,\"#f0f921\"]],\"type\":\"histogram2dcontour\"}],\"mesh3d\":[{\"colorbar\":{\"outlinewidth\":0,\"ticks\":\"\"},\"type\":\"mesh3d\"}],\"parcoords\":[{\"line\":{\"colorbar\":{\"outlinewidth\":0,\"ticks\":\"\"}},\"type\":\"parcoords\"}],\"pie\":[{\"automargin\":true,\"type\":\"pie\"}],\"scatter\":[{\"marker\":{\"colorbar\":{\"outlinewidth\":0,\"ticks\":\"\"}},\"type\":\"scatter\"}],\"scatter3d\":[{\"line\":{\"colorbar\":{\"outlinewidth\":0,\"ticks\":\"\"}},\"marker\":{\"colorbar\":{\"outlinewidth\":0,\"ticks\":\"\"}},\"type\":\"scatter3d\"}],\"scattercarpet\":[{\"marker\":{\"colorbar\":{\"outlinewidth\":0,\"ticks\":\"\"}},\"type\":\"scattercarpet\"}],\"scattergeo\":[{\"marker\":{\"colorbar\":{\"outlinewidth\":0,\"ticks\":\"\"}},\"type\":\"scattergeo\"}],\"scattergl\":[{\"marker\":{\"colorbar\":{\"outlinewidth\":0,\"ticks\":\"\"}},\"type\":\"scattergl\"}],\"scattermapbox\":[{\"marker\":{\"colorbar\":{\"outlinewidth\":0,\"ticks\":\"\"}},\"type\":\"scattermapbox\"}],\"scatterpolar\":[{\"marker\":{\"colorbar\":{\"outlinewidth\":0,\"ticks\":\"\"}},\"type\":\"scatterpolar\"}],\"scatterpolargl\":[{\"marker\":{\"colorbar\":{\"outlinewidth\":0,\"ticks\":\"\"}},\"type\":\"scatterpolargl\"}],\"scatterternary\":[{\"marker\":{\"colorbar\":{\"outlinewidth\":0,\"ticks\":\"\"}},\"type\":\"scatterternary\"}],\"surface\":[{\"colorbar\":{\"outlinewidth\":0,\"ticks\":\"\"},\"colorscale\":[[0.0,\"#0d0887\"],[0.1111111111111111,\"#46039f\"],[0.2222222222222222,\"#7201a8\"],[0.3333333333333333,\"#9c179e\"],[0.4444444444444444,\"#bd3786\"],[0.5555555555555556,\"#d8576b\"],[0.6666666666666666,\"#ed7953\"],[0.7777777777777778,\"#fb9f3a\"],[0.8888888888888888,\"#fdca26\"],[1.0,\"#f0f921\"]],\"type\":\"surface\"}],\"table\":[{\"cells\":{\"fill\":{\"color\":\"#EBF0F8\"},\"line\":{\"color\":\"white\"}},\"header\":{\"fill\":{\"color\":\"#C8D4E3\"},\"line\":{\"color\":\"white\"}},\"type\":\"table\"}]},\"layout\":{\"annotationdefaults\":{\"arrowcolor\":\"#2a3f5f\",\"arrowhead\":0,\"arrowwidth\":1},\"autotypenumbers\":\"strict\",\"coloraxis\":{\"colorbar\":{\"outlinewidth\":0,\"ticks\":\"\"}},\"colorscale\":{\"diverging\":[[0,\"#8e0152\"],[0.1,\"#c51b7d\"],[0.2,\"#de77ae\"],[0.3,\"#f1b6da\"],[0.4,\"#fde0ef\"],[0.5,\"#f7f7f7\"],[0.6,\"#e6f5d0\"],[0.7,\"#b8e186\"],[0.8,\"#7fbc41\"],[0.9,\"#4d9221\"],[1,\"#276419\"]],\"sequential\":[[0.0,\"#0d0887\"],[0.1111111111111111,\"#46039f\"],[0.2222222222222222,\"#7201a8\"],[0.3333333333333333,\"#9c179e\"],[0.4444444444444444,\"#bd3786\"],[0.5555555555555556,\"#d8576b\"],[0.6666666666666666,\"#ed7953\"],[0.7777777777777778,\"#fb9f3a\"],[0.8888888888888888,\"#fdca26\"],[1.0,\"#f0f921\"]],\"sequentialminus\":[[0.0,\"#0d0887\"],[0.1111111111111111,\"#46039f\"],[0.2222222222222222,\"#7201a8\"],[0.3333333333333333,\"#9c179e\"],[0.4444444444444444,\"#bd3786\"],[0.5555555555555556,\"#d8576b\"],[0.6666666666666666,\"#ed7953\"],[0.7777777777777778,\"#fb9f3a\"],[0.8888888888888888,\"#fdca26\"],[1.0,\"#f0f921\"]]},\"colorway\":[\"#636efa\",\"#EF553B\",\"#00cc96\",\"#ab63fa\",\"#FFA15A\",\"#19d3f3\",\"#FF6692\",\"#B6E880\",\"#FF97FF\",\"#FECB52\"],\"font\":{\"color\":\"#2a3f5f\"},\"geo\":{\"bgcolor\":\"white\",\"lakecolor\":\"white\",\"landcolor\":\"#E5ECF6\",\"showlakes\":true,\"showland\":true,\"subunitcolor\":\"white\"},\"hoverlabel\":{\"align\":\"left\"},\"hovermode\":\"closest\",\"mapbox\":{\"style\":\"light\"},\"paper_bgcolor\":\"white\",\"plot_bgcolor\":\"#E5ECF6\",\"polar\":{\"angularaxis\":{\"gridcolor\":\"white\",\"linecolor\":\"white\",\"ticks\":\"\"},\"bgcolor\":\"#E5ECF6\",\"radialaxis\":{\"gridcolor\":\"white\",\"linecolor\":\"white\",\"ticks\":\"\"}},\"scene\":{\"xaxis\":{\"backgroundcolor\":\"#E5ECF6\",\"gridcolor\":\"white\",\"gridwidth\":2,\"linecolor\":\"white\",\"showbackground\":true,\"ticks\":\"\",\"zerolinecolor\":\"white\"},\"yaxis\":{\"backgroundcolor\":\"#E5ECF6\",\"gridcolor\":\"white\",\"gridwidth\":2,\"linecolor\":\"white\",\"showbackground\":true,\"ticks\":\"\",\"zerolinecolor\":\"white\"},\"zaxis\":{\"backgroundcolor\":\"#E5ECF6\",\"gridcolor\":\"white\",\"gridwidth\":2,\"linecolor\":\"white\",\"showbackground\":true,\"ticks\":\"\",\"zerolinecolor\":\"white\"}},\"shapedefaults\":{\"line\":{\"color\":\"#2a3f5f\"}},\"ternary\":{\"aaxis\":{\"gridcolor\":\"white\",\"linecolor\":\"white\",\"ticks\":\"\"},\"baxis\":{\"gridcolor\":\"white\",\"linecolor\":\"white\",\"ticks\":\"\"},\"bgcolor\":\"#E5ECF6\",\"caxis\":{\"gridcolor\":\"white\",\"linecolor\":\"white\",\"ticks\":\"\"}},\"title\":{\"x\":0.05},\"xaxis\":{\"automargin\":true,\"gridcolor\":\"white\",\"linecolor\":\"white\",\"ticks\":\"\",\"title\":{\"standoff\":15},\"zerolinecolor\":\"white\",\"zerolinewidth\":2},\"yaxis\":{\"automargin\":true,\"gridcolor\":\"white\",\"linecolor\":\"white\",\"ticks\":\"\",\"title\":{\"standoff\":15},\"zerolinecolor\":\"white\",\"zerolinewidth\":2}}},\"xaxis\":{\"anchor\":\"y\",\"domain\":[0.0,1.0],\"title\":{\"text\":\"variable\"}},\"yaxis\":{\"anchor\":\"x\",\"domain\":[0.0,1.0],\"title\":{\"text\":\"value\"}},\"legend\":{\"tracegroupgap\":0},\"margin\":{\"t\":60},\"boxmode\":\"group\"},                        {\"responsive\": true}                    ).then(function(){\n",
       "                            \n",
       "var gd = document.getElementById('72f6a5e0-72f2-44a9-9bea-d7f34215755a');\n",
       "var x = new MutationObserver(function (mutations, observer) {{\n",
       "        var display = window.getComputedStyle(gd).display;\n",
       "        if (!display || display === 'none') {{\n",
       "            console.log([gd, 'removed!']);\n",
       "            Plotly.purge(gd);\n",
       "            observer.disconnect();\n",
       "        }}\n",
       "}});\n",
       "\n",
       "// Listen for the removal of the full notebook cells\n",
       "var notebookContainer = gd.closest('#notebook-container');\n",
       "if (notebookContainer) {{\n",
       "    x.observe(notebookContainer, {childList: true});\n",
       "}}\n",
       "\n",
       "// Listen for the clearing of the current output cell\n",
       "var outputEl = gd.closest('.output');\n",
       "if (outputEl) {{\n",
       "    x.observe(outputEl, {childList: true});\n",
       "}}\n",
       "\n",
       "                        })                };                });            </script>        </div>"
      ]
     },
     "metadata": {},
     "output_type": "display_data"
    }
   ],
   "source": [
    "#Um exemplo com boxplot\n",
    "#Fonte: https://plotly.com/python/pandas-backend/\n",
    "\n",
    "np.random.seed(1)\n",
    "\n",
    "df = pd.DataFrame(dict(\n",
    "    a=np.random.normal(loc=1, scale=2, size=100),\n",
    "    b=np.random.normal(loc=2, scale=1, size=100)\n",
    "))\n",
    "fig = df.plot.box()\n",
    "fig.show()"
   ]
  },
  {
   "cell_type": "markdown",
   "id": "12a10e52-b910-4104-8bf6-33de0238fdf7",
   "metadata": {},
   "source": [
    "Para saber mais sobre uso do plotly com pandas, veja [aqui](https://plotly.com/python/pandas-backend/)"
   ]
  },
  {
   "cell_type": "markdown",
   "id": "bace7cf9-0071-49b6-b726-aae909396609",
   "metadata": {},
   "source": [
    "## Seaborn"
   ]
  },
  {
   "cell_type": "markdown",
   "id": "fcd6d275-d49d-4ceb-8085-029e06aacf53",
   "metadata": {},
   "source": [
    "Seaborn é um pacote para visuaização estatística.  "
   ]
  },
  {
   "cell_type": "code",
   "execution_count": 125,
   "id": "36f2421e-5331-4dd1-9a81-566935db8483",
   "metadata": {},
   "outputs": [],
   "source": [
    "import seaborn as sns"
   ]
  },
  {
   "cell_type": "code",
   "execution_count": 126,
   "id": "1074cb2e-bfac-4a58-b9f9-0af1a5726aec",
   "metadata": {},
   "outputs": [
    {
     "data": {
      "text/html": [
       "<div><div id=93881041-ee08-4ef1-8a01-4e71246028f8 style=\"display:none; background-color:#9D6CFF; color:white; width:200px; height:30px; padding-left:5px; border-radius:4px; flex-direction:row; justify-content:space-around; align-items:center;\" onmouseover=\"this.style.backgroundColor='#BA9BF8'\" onmouseout=\"this.style.backgroundColor='#9D6CFF'\" onclick=\"window.commands?.execute('create-mitosheet-from-dataframe-output');\">See Full Dataframe in Mito</div> <script> if (window.commands.hasCommand('create-mitosheet-from-dataframe-output')) document.getElementById('93881041-ee08-4ef1-8a01-4e71246028f8').style.display = 'flex' </script> <table border=\"1\" class=\"dataframe\">\n",
       "  <thead>\n",
       "    <tr style=\"text-align: right;\">\n",
       "      <th></th>\n",
       "      <th>Year</th>\n",
       "      <th>Country Name</th>\n",
       "      <th>Country Code</th>\n",
       "      <th>GDP per capita (constant 2010 US$)</th>\n",
       "      <th>Population, total</th>\n",
       "      <th>CO2 emissions (metric tons per capita)</th>\n",
       "      <th>Mortality rate attributed to household and ambient air pollution, age-standardized (per 100,000 population)</th>\n",
       "      <th>PM2.5 air pollution, population exposed to levels exceeding WHO guideline value (% of total)</th>\n",
       "      <th>Life expectancy at birth, total (years)</th>\n",
       "      <th>Mortality rate, under-5 (per 1,000 live births)</th>\n",
       "      <th>Literacy rate, youth female (% of females ages 15-24)</th>\n",
       "      <th>logPop</th>\n",
       "    </tr>\n",
       "  </thead>\n",
       "  <tbody>\n",
       "    <tr>\n",
       "      <th>10199</th>\n",
       "      <td>2018</td>\n",
       "      <td>Afghanistan</td>\n",
       "      <td>AFG</td>\n",
       "      <td>564.61704</td>\n",
       "      <td>37171922.0</td>\n",
       "      <td>0.200151</td>\n",
       "      <td>NaN</td>\n",
       "      <td>NaN</td>\n",
       "      <td>64.486</td>\n",
       "      <td>62.5</td>\n",
       "      <td>56.254749</td>\n",
       "      <td>7.570215</td>\n",
       "    </tr>\n",
       "  </tbody>\n",
       "</table></div>"
      ],
      "text/plain": [
       "       Year Country Name Country Code  GDP per capita (constant 2010 US$)  \\\n",
       "10199  2018  Afghanistan          AFG                           564.61704   \n",
       "\n",
       "       Population, total  CO2 emissions (metric tons per capita)  \\\n",
       "10199         37171922.0                                0.200151   \n",
       "\n",
       "       Mortality rate attributed to household and ambient air pollution, age-standardized (per 100,000 population)  \\\n",
       "10199                                                NaN                                                             \n",
       "\n",
       "       PM2.5 air pollution, population exposed to levels exceeding WHO guideline value (% of total)  \\\n",
       "10199                                                NaN                                              \n",
       "\n",
       "       Life expectancy at birth, total (years)  \\\n",
       "10199                                   64.486   \n",
       "\n",
       "       Mortality rate, under-5 (per 1,000 live births)  \\\n",
       "10199                                             62.5   \n",
       "\n",
       "       Literacy rate, youth female (% of females ages 15-24)    logPop  \n",
       "10199                                          56.254749      7.570215  "
      ]
     },
     "execution_count": 126,
     "metadata": {},
     "output_type": "execute_result"
    }
   ],
   "source": [
    "mundo.head(1)"
   ]
  },
  {
   "cell_type": "code",
   "execution_count": 127,
   "id": "939f1c65-61e1-4934-b077-336c35b0f268",
   "metadata": {},
   "outputs": [
    {
     "data": {
      "text/html": [
       "<div><div id=9fa97ef5-804a-4121-8128-7b460027b681 style=\"display:none; background-color:#9D6CFF; color:white; width:200px; height:30px; padding-left:5px; border-radius:4px; flex-direction:row; justify-content:space-around; align-items:center;\" onmouseover=\"this.style.backgroundColor='#BA9BF8'\" onmouseout=\"this.style.backgroundColor='#9D6CFF'\" onclick=\"window.commands?.execute('create-mitosheet-from-dataframe-output');\">See Full Dataframe in Mito</div> <script> if (window.commands.hasCommand('create-mitosheet-from-dataframe-output')) document.getElementById('9fa97ef5-804a-4121-8128-7b460027b681').style.display = 'flex' </script> <table border=\"1\" class=\"dataframe\">\n",
       "  <thead>\n",
       "    <tr style=\"text-align: right;\">\n",
       "      <th></th>\n",
       "      <th>GDP per capita (constant 2010 US$)</th>\n",
       "      <th>logPop</th>\n",
       "      <th>CO2 emissions (metric tons per capita)</th>\n",
       "      <th>Life expectancy at birth, total (years)</th>\n",
       "      <th>Mortality rate, under-5 (per 1,000 live births)</th>\n",
       "      <th>Literacy rate, youth female (% of females ages 15-24)</th>\n",
       "    </tr>\n",
       "  </thead>\n",
       "  <tbody>\n",
       "    <tr>\n",
       "      <th>GDP per capita (constant 2010 US$)</th>\n",
       "      <td>1.000000</td>\n",
       "      <td>-0.225156</td>\n",
       "      <td>0.605110</td>\n",
       "      <td>0.653857</td>\n",
       "      <td>-0.442952</td>\n",
       "      <td>0.361190</td>\n",
       "    </tr>\n",
       "    <tr>\n",
       "      <th>logPop</th>\n",
       "      <td>-0.225156</td>\n",
       "      <td>1.000000</td>\n",
       "      <td>-0.050099</td>\n",
       "      <td>-0.152969</td>\n",
       "      <td>0.134208</td>\n",
       "      <td>-0.142239</td>\n",
       "    </tr>\n",
       "    <tr>\n",
       "      <th>CO2 emissions (metric tons per capita)</th>\n",
       "      <td>0.605110</td>\n",
       "      <td>-0.050099</td>\n",
       "      <td>1.000000</td>\n",
       "      <td>0.520904</td>\n",
       "      <td>-0.495343</td>\n",
       "      <td>0.373931</td>\n",
       "    </tr>\n",
       "    <tr>\n",
       "      <th>Life expectancy at birth, total (years)</th>\n",
       "      <td>0.653857</td>\n",
       "      <td>-0.152969</td>\n",
       "      <td>0.520904</td>\n",
       "      <td>1.000000</td>\n",
       "      <td>-0.922308</td>\n",
       "      <td>0.772955</td>\n",
       "    </tr>\n",
       "    <tr>\n",
       "      <th>Mortality rate, under-5 (per 1,000 live births)</th>\n",
       "      <td>-0.442952</td>\n",
       "      <td>0.134208</td>\n",
       "      <td>-0.495343</td>\n",
       "      <td>-0.922308</td>\n",
       "      <td>1.000000</td>\n",
       "      <td>-0.888661</td>\n",
       "    </tr>\n",
       "    <tr>\n",
       "      <th>Literacy rate, youth female (% of females ages 15-24)</th>\n",
       "      <td>0.361190</td>\n",
       "      <td>-0.142239</td>\n",
       "      <td>0.373931</td>\n",
       "      <td>0.772955</td>\n",
       "      <td>-0.888661</td>\n",
       "      <td>1.000000</td>\n",
       "    </tr>\n",
       "  </tbody>\n",
       "</table></div>"
      ],
      "text/plain": [
       "                                                    GDP per capita (constant 2010 US$)  \\\n",
       "GDP per capita (constant 2010 US$)                                            1.000000   \n",
       "logPop                                                                       -0.225156   \n",
       "CO2 emissions (metric tons per capita)                                        0.605110   \n",
       "Life expectancy at birth, total (years)                                       0.653857   \n",
       "Mortality rate, under-5 (per 1,000 live births)                              -0.442952   \n",
       "Literacy rate, youth female (% of females ages ...                            0.361190   \n",
       "\n",
       "                                                      logPop  \\\n",
       "GDP per capita (constant 2010 US$)                 -0.225156   \n",
       "logPop                                              1.000000   \n",
       "CO2 emissions (metric tons per capita)             -0.050099   \n",
       "Life expectancy at birth, total (years)            -0.152969   \n",
       "Mortality rate, under-5 (per 1,000 live births)     0.134208   \n",
       "Literacy rate, youth female (% of females ages ... -0.142239   \n",
       "\n",
       "                                                    CO2 emissions (metric tons per capita)  \\\n",
       "GDP per capita (constant 2010 US$)                                                0.605110   \n",
       "logPop                                                                           -0.050099   \n",
       "CO2 emissions (metric tons per capita)                                            1.000000   \n",
       "Life expectancy at birth, total (years)                                           0.520904   \n",
       "Mortality rate, under-5 (per 1,000 live births)                                  -0.495343   \n",
       "Literacy rate, youth female (% of females ages ...                                0.373931   \n",
       "\n",
       "                                                    Life expectancy at birth, total (years)  \\\n",
       "GDP per capita (constant 2010 US$)                                                 0.653857   \n",
       "logPop                                                                            -0.152969   \n",
       "CO2 emissions (metric tons per capita)                                             0.520904   \n",
       "Life expectancy at birth, total (years)                                            1.000000   \n",
       "Mortality rate, under-5 (per 1,000 live births)                                   -0.922308   \n",
       "Literacy rate, youth female (% of females ages ...                                 0.772955   \n",
       "\n",
       "                                                    Mortality rate, under-5 (per 1,000 live births)  \\\n",
       "GDP per capita (constant 2010 US$)                                                        -0.442952   \n",
       "logPop                                                                                     0.134208   \n",
       "CO2 emissions (metric tons per capita)                                                    -0.495343   \n",
       "Life expectancy at birth, total (years)                                                   -0.922308   \n",
       "Mortality rate, under-5 (per 1,000 live births)                                            1.000000   \n",
       "Literacy rate, youth female (% of females ages ...                                        -0.888661   \n",
       "\n",
       "                                                    Literacy rate, youth female (% of females ages 15-24)  \n",
       "GDP per capita (constant 2010 US$)                                                           0.361190      \n",
       "logPop                                                                                      -0.142239      \n",
       "CO2 emissions (metric tons per capita)                                                       0.373931      \n",
       "Life expectancy at birth, total (years)                                                      0.772955      \n",
       "Mortality rate, under-5 (per 1,000 live births)                                             -0.888661      \n",
       "Literacy rate, youth female (% of females ages ...                                           1.000000      "
      ]
     },
     "execution_count": 127,
     "metadata": {},
     "output_type": "execute_result"
    }
   ],
   "source": [
    "df = mundo[['GDP per capita (constant 2010 US$)',\n",
    "            'logPop',\n",
    "            'CO2 emissions (metric tons per capita)',\n",
    "            'Life expectancy at birth, total (years)',\n",
    "            'Mortality rate, under-5 (per 1,000 live births)',\n",
    "            'Literacy rate, youth female (% of females ages 15-24)']]\n",
    "df.corr()"
   ]
  },
  {
   "cell_type": "markdown",
   "id": "4146a989-2b5e-4fdb-bf70-24df488200aa",
   "metadata": {},
   "source": [
    "### Heatmap"
   ]
  },
  {
   "cell_type": "code",
   "execution_count": 128,
   "id": "95e83097-42c1-44c0-ae69-bf798a06e7c2",
   "metadata": {},
   "outputs": [
    {
     "data": {
      "text/plain": [
       "<AxesSubplot:>"
      ]
     },
     "execution_count": 128,
     "metadata": {},
     "output_type": "execute_result"
    },
    {
     "data": {
      "image/png": "[encoded data removed]",
      "text/plain": [
       "<Figure size 432x288 with 2 Axes>"
      ]
     },
     "metadata": {
      "needs_background": "light"
     },
     "output_type": "display_data"
    }
   ],
   "source": [
    "sns.heatmap(df.corr().abs(), cmap='Blues')"
   ]
  },
  {
   "cell_type": "markdown",
   "id": "263e0f03-8467-4483-b4de-f959138c2a12",
   "metadata": {},
   "source": [
    "### Clustermap"
   ]
  },
  {
   "cell_type": "code",
   "execution_count": 129,
   "id": "b97a8a6d-0500-4014-9210-79a1c7fa247e",
   "metadata": {},
   "outputs": [
    {
     "data": {
      "text/plain": [
       "<seaborn.matrix.ClusterGrid at 0x222cf7a1ca0>"
      ]
     },
     "execution_count": 129,
     "metadata": {},
     "output_type": "execute_result"
    },
    {
     "data": {
      "image/png": "[encoded data removed]",
      "text/plain": [
       "<Figure size 720x720 with 4 Axes>"
      ]
     },
     "metadata": {
      "needs_background": "light"
     },
     "output_type": "display_data"
    }
   ],
   "source": [
    "sns.clustermap(df.corr().abs(), cmap='Blues')"
   ]
  },
  {
   "cell_type": "markdown",
   "id": "55ed745c-da8b-4710-803f-c4d1bf4bf1a1",
   "metadata": {},
   "source": [
    "### Densidade"
   ]
  },
  {
   "cell_type": "code",
   "execution_count": 130,
   "id": "ef1fadfd-1ac2-4d7a-872e-2c253fdc1a0d",
   "metadata": {},
   "outputs": [
    {
     "data": {
      "text/plain": [
       "<AxesSubplot:xlabel='Life expectancy at birth, total (years)'>"
      ]
     },
     "execution_count": 130,
     "metadata": {},
     "output_type": "execute_result"
    },
    {
     "data": {
      "image/png": "[encoded data removed]",
      "text/plain": [
       "<Figure size 432x288 with 1 Axes>"
      ]
     },
     "metadata": {
      "needs_background": "light"
     },
     "output_type": "display_data"
    }
   ],
   "source": [
    "sns.distplot(mundo[\"Life expectancy at birth, total (years)\"], hist=True, rug=True)"
   ]
  },
  {
   "cell_type": "markdown",
   "id": "4a946e4c-6baf-4e4f-99bb-1961d9674150",
   "metadata": {},
   "source": [
    "### Densidades marginais e conjunta"
   ]
  },
  {
   "cell_type": "code",
   "execution_count": 131,
   "id": "f56e2d0b-5cf2-4274-a950-cf2512060d95",
   "metadata": {},
   "outputs": [
    {
     "data": {
      "text/plain": [
       "<seaborn.axisgrid.JointGrid at 0x222d01d26a0>"
      ]
     },
     "execution_count": 131,
     "metadata": {},
     "output_type": "execute_result"
    },
    {
     "data": {
      "image/png": "[encoded data removed]",
      "text/plain": [
       "<Figure size 432x432 with 3 Axes>"
      ]
     },
     "metadata": {
      "needs_background": "light"
     },
     "output_type": "display_data"
    }
   ],
   "source": [
    "sns.jointplot(x='Mortality rate, under-5 (per 1,000 live births)', y='Life expectancy at birth, total (years)', data=mundo)"
   ]
  },
  {
   "cell_type": "code",
   "execution_count": 132,
   "id": "652b61eb-c657-48cc-ab05-0af6de281dd7",
   "metadata": {},
   "outputs": [
    {
     "data": {
      "text/plain": [
       "<seaborn.axisgrid.JointGrid at 0x222d030c4c0>"
      ]
     },
     "execution_count": 132,
     "metadata": {},
     "output_type": "execute_result"
    },
    {
     "data": {
      "image/png": "[encoded data removed]",
      "text/plain": [
       "<Figure size 432x432 with 3 Axes>"
      ]
     },
     "metadata": {
      "needs_background": "light"
     },
     "output_type": "display_data"
    }
   ],
   "source": [
    "sns.jointplot(x='Mortality rate, under-5 (per 1,000 live births)', y='Life expectancy at birth, total (years)', data=mundo, kind='kdeplot')"
   ]
  },
  {
   "cell_type": "markdown",
   "id": "6bd139b2-bd99-449d-945a-d810d11c9552",
   "metadata": {},
   "source": [
    "### Regressão Linear, LOWESS e Logística"
   ]
  },
  {
   "cell_type": "code",
   "execution_count": 133,
   "id": "1a56f454-d32e-4bb7-b5dd-f84c9c656324",
   "metadata": {},
   "outputs": [
    {
     "data": {
      "text/plain": [
       "<AxesSubplot:xlabel='Mortality rate, under-5 (per 1,000 live births)', ylabel='Life expectancy at birth, total (years)'>"
      ]
     },
     "execution_count": 133,
     "metadata": {},
     "output_type": "execute_result"
    },
    {
     "data": {
      "image/png": "[encoded data removed]",
      "text/plain": [
       "<Figure size 432x288 with 1 Axes>"
      ]
     },
     "metadata": {
      "needs_background": "light"
     },
     "output_type": "display_data"
    }
   ],
   "source": [
    "#Regressão Linear\n",
    "sns.regplot(x='Mortality rate, under-5 (per 1,000 live births)', y='Life expectancy at birth, total (years)', data=mundo)"
   ]
  },
  {
   "cell_type": "code",
   "execution_count": 134,
   "id": "f0ed4061-bca4-4627-8b64-0bcfb47d8e2a",
   "metadata": {},
   "outputs": [
    {
     "data": {
      "text/plain": [
       "<AxesSubplot:xlabel='Mortality rate, under-5 (per 1,000 live births)', ylabel='Life expectancy at birth, total (years)'>"
      ]
     },
     "execution_count": 134,
     "metadata": {},
     "output_type": "execute_result"
    },
    {
     "data": {
      "image/png": "[encoded data removed]",
      "text/plain": [
       "<Figure size 432x288 with 1 Axes>"
      ]
     },
     "metadata": {
      "needs_background": "light"
     },
     "output_type": "display_data"
    }
   ],
   "source": [
    "#LOWESS\n",
    "sns.regplot(x='Mortality rate, under-5 (per 1,000 live births)', y='Life expectancy at birth, total (years)', data=mundo, lowess=True)"
   ]
  },
  {
   "cell_type": "code",
   "execution_count": 135,
   "id": "cafb0a5b-7a0d-49bf-8e0b-36becd79af14",
   "metadata": {},
   "outputs": [
    {
     "data": {
      "text/html": [
       "<div><div id=16391c38-1da4-415d-b967-26f8dfc999c0 style=\"display:none; background-color:#9D6CFF; color:white; width:200px; height:30px; padding-left:5px; border-radius:4px; flex-direction:row; justify-content:space-around; align-items:center;\" onmouseover=\"this.style.backgroundColor='#BA9BF8'\" onmouseout=\"this.style.backgroundColor='#9D6CFF'\" onclick=\"window.commands?.execute('create-mitosheet-from-dataframe-output');\">See Full Dataframe in Mito</div> <script> if (window.commands.hasCommand('create-mitosheet-from-dataframe-output')) document.getElementById('16391c38-1da4-415d-b967-26f8dfc999c0').style.display = 'flex' </script> <table border=\"1\" class=\"dataframe\">\n",
       "  <thead>\n",
       "    <tr style=\"text-align: right;\">\n",
       "      <th></th>\n",
       "      <th>survived</th>\n",
       "      <th>pclass</th>\n",
       "      <th>sex</th>\n",
       "      <th>age</th>\n",
       "      <th>sibsp</th>\n",
       "      <th>parch</th>\n",
       "      <th>fare</th>\n",
       "      <th>embarked</th>\n",
       "      <th>class</th>\n",
       "      <th>who</th>\n",
       "      <th>adult_male</th>\n",
       "      <th>deck</th>\n",
       "      <th>embark_town</th>\n",
       "      <th>alive</th>\n",
       "      <th>alone</th>\n",
       "    </tr>\n",
       "  </thead>\n",
       "  <tbody>\n",
       "    <tr>\n",
       "      <th>0</th>\n",
       "      <td>0</td>\n",
       "      <td>3</td>\n",
       "      <td>male</td>\n",
       "      <td>22.0</td>\n",
       "      <td>1</td>\n",
       "      <td>0</td>\n",
       "      <td>7.2500</td>\n",
       "      <td>S</td>\n",
       "      <td>Third</td>\n",
       "      <td>man</td>\n",
       "      <td>True</td>\n",
       "      <td>NaN</td>\n",
       "      <td>Southampton</td>\n",
       "      <td>no</td>\n",
       "      <td>False</td>\n",
       "    </tr>\n",
       "    <tr>\n",
       "      <th>1</th>\n",
       "      <td>1</td>\n",
       "      <td>1</td>\n",
       "      <td>female</td>\n",
       "      <td>38.0</td>\n",
       "      <td>1</td>\n",
       "      <td>0</td>\n",
       "      <td>71.2833</td>\n",
       "      <td>C</td>\n",
       "      <td>First</td>\n",
       "      <td>woman</td>\n",
       "      <td>False</td>\n",
       "      <td>C</td>\n",
       "      <td>Cherbourg</td>\n",
       "      <td>yes</td>\n",
       "      <td>False</td>\n",
       "    </tr>\n",
       "    <tr>\n",
       "      <th>2</th>\n",
       "      <td>1</td>\n",
       "      <td>3</td>\n",
       "      <td>female</td>\n",
       "      <td>26.0</td>\n",
       "      <td>0</td>\n",
       "      <td>0</td>\n",
       "      <td>7.9250</td>\n",
       "      <td>S</td>\n",
       "      <td>Third</td>\n",
       "      <td>woman</td>\n",
       "      <td>False</td>\n",
       "      <td>NaN</td>\n",
       "      <td>Southampton</td>\n",
       "      <td>yes</td>\n",
       "      <td>True</td>\n",
       "    </tr>\n",
       "    <tr>\n",
       "      <th>3</th>\n",
       "      <td>1</td>\n",
       "      <td>1</td>\n",
       "      <td>female</td>\n",
       "      <td>35.0</td>\n",
       "      <td>1</td>\n",
       "      <td>0</td>\n",
       "      <td>53.1000</td>\n",
       "      <td>S</td>\n",
       "      <td>First</td>\n",
       "      <td>woman</td>\n",
       "      <td>False</td>\n",
       "      <td>C</td>\n",
       "      <td>Southampton</td>\n",
       "      <td>yes</td>\n",
       "      <td>False</td>\n",
       "    </tr>\n",
       "    <tr>\n",
       "      <th>4</th>\n",
       "      <td>0</td>\n",
       "      <td>3</td>\n",
       "      <td>male</td>\n",
       "      <td>35.0</td>\n",
       "      <td>0</td>\n",
       "      <td>0</td>\n",
       "      <td>8.0500</td>\n",
       "      <td>S</td>\n",
       "      <td>Third</td>\n",
       "      <td>man</td>\n",
       "      <td>True</td>\n",
       "      <td>NaN</td>\n",
       "      <td>Southampton</td>\n",
       "      <td>no</td>\n",
       "      <td>True</td>\n",
       "    </tr>\n",
       "  </tbody>\n",
       "</table></div>"
      ],
      "text/plain": [
       "   survived  pclass     sex   age  sibsp  parch     fare embarked  class  \\\n",
       "0         0       3    male  22.0      1      0   7.2500        S  Third   \n",
       "1         1       1  female  38.0      1      0  71.2833        C  First   \n",
       "2         1       3  female  26.0      0      0   7.9250        S  Third   \n",
       "3         1       1  female  35.0      1      0  53.1000        S  First   \n",
       "4         0       3    male  35.0      0      0   8.0500        S  Third   \n",
       "\n",
       "     who  adult_male deck  embark_town alive  alone  \n",
       "0    man        True  NaN  Southampton    no  False  \n",
       "1  woman       False    C    Cherbourg   yes  False  \n",
       "2  woman       False  NaN  Southampton   yes   True  \n",
       "3  woman       False    C  Southampton   yes  False  \n",
       "4    man        True  NaN  Southampton    no   True  "
      ]
     },
     "execution_count": 135,
     "metadata": {},
     "output_type": "execute_result"
    }
   ],
   "source": [
    "url = 'https://raw.githubusercontent.com/mwaskom/seaborn-data/master/titanic.csv'\n",
    "titanic = pd.read_csv(url)\n",
    "titanic.head()"
   ]
  },
  {
   "cell_type": "code",
   "execution_count": 136,
   "id": "df04d699-7eb7-4bf8-87f3-a7c3d98a6e5e",
   "metadata": {},
   "outputs": [
    {
     "data": {
      "text/plain": [
       "<AxesSubplot:xlabel='fare', ylabel='survived'>"
      ]
     },
     "execution_count": 136,
     "metadata": {},
     "output_type": "execute_result"
    },
    {
     "data": {
      "image/png": "[encoded data removed]",
      "text/plain": [
       "<Figure size 432x288 with 1 Axes>"
      ]
     },
     "metadata": {
      "needs_background": "light"
     },
     "output_type": "display_data"
    }
   ],
   "source": [
    "#Logistic\n",
    "sns.regplot(x='fare', y='survived', data=titanic, logistic=True)"
   ]
  },
  {
   "cell_type": "markdown",
   "id": "5c26d7e2-0be1-48f8-b417-0ab6f7623358",
   "metadata": {},
   "source": [
    "### Boxplot e violin pot"
   ]
  },
  {
   "cell_type": "code",
   "execution_count": 137,
   "id": "439fc17b-ae69-42ed-ab5d-eb5eef02b76b",
   "metadata": {},
   "outputs": [
    {
     "data": {
      "text/plain": [
       "<AxesSubplot:xlabel='sex', ylabel='age'>"
      ]
     },
     "execution_count": 137,
     "metadata": {},
     "output_type": "execute_result"
    },
    {
     "data": {
      "image/png": "[encoded data removed]",
      "text/plain": [
       "<Figure size 432x288 with 1 Axes>"
      ]
     },
     "metadata": {
      "needs_background": "light"
     },
     "output_type": "display_data"
    }
   ],
   "source": [
    "sns.boxplot('sex','age', data=titanic)"
   ]
  },
  {
   "cell_type": "code",
   "execution_count": 138,
   "id": "e7cd2032-b527-41f6-b417-d4b6aa2588ce",
   "metadata": {},
   "outputs": [
    {
     "data": {
      "text/plain": [
       "<AxesSubplot:xlabel='sex', ylabel='age'>"
      ]
     },
     "execution_count": 138,
     "metadata": {},
     "output_type": "execute_result"
    },
    {
     "data": {
      "image/png": "[encoded data removed]",
      "text/plain": [
       "<Figure size 432x288 with 1 Axes>"
      ]
     },
     "metadata": {
      "needs_background": "light"
     },
     "output_type": "display_data"
    }
   ],
   "source": [
    "sns.violinplot('sex','age', data=titanic)"
   ]
  },
  {
   "cell_type": "markdown",
   "id": "6936ac3a-76fe-4b4b-9af6-7539d16ba40e",
   "metadata": {},
   "source": [
    "## Matplotlib\n",
    "\n",
    "* Gramática de Gráficos\n",
    "* Uma espada Jedi: muito poderosa, mas tem que saber usar e dá trabalho aprender."
   ]
  },
  {
   "cell_type": "code",
   "execution_count": 139,
   "id": "01ee7203-0c5b-4424-a144-52ac76dd4123",
   "metadata": {},
   "outputs": [],
   "source": [
    "import matplotlib.pyplot as plt"
   ]
  },
  {
   "cell_type": "markdown",
   "id": "ef907edc-a546-4782-b977-327ba975004b",
   "metadata": {},
   "source": [
    "### Diagrama de Dispersão"
   ]
  },
  {
   "cell_type": "code",
   "execution_count": 140,
   "id": "74fc69c2-79f9-48ea-ac63-07cf97f80884",
   "metadata": {},
   "outputs": [
    {
     "data": {
      "image/png": "[encoded data removed]",
      "text/plain": [
       "<Figure size 432x288 with 1 Axes>"
      ]
     },
     "metadata": {
      "needs_background": "light"
     },
     "output_type": "display_data"
    }
   ],
   "source": [
    "plt.scatter(mundo['Mortality rate, under-5 (per 1,000 live births)'], \n",
    "            mundo['Life expectancy at birth, total (years)'])\n",
    "plt.show()"
   ]
  },
  {
   "cell_type": "markdown",
   "id": "ce76f7eb-11c6-49cd-93c2-75c2812db5ba",
   "metadata": {},
   "source": [
    "### Gráfico com vários elementos"
   ]
  },
  {
   "cell_type": "code",
   "execution_count": 141,
   "id": "d4a8990a-c942-4a4a-873a-668e993ccd11",
   "metadata": {},
   "outputs": [
    {
     "data": {
      "image/png": "[encoded data removed]",
      "text/plain": [
       "<Figure size 720x576 with 1 Axes>"
      ]
     },
     "metadata": {
      "needs_background": "light"
     },
     "output_type": "display_data"
    }
   ],
   "source": [
    "plt.figure(figsize=(10,8))\n",
    "plt.scatter(mundo[\"GDP per capita (constant 2010 US$)\"], \n",
    "            mundo[\"Mortality rate, under-5 (per 1,000 live births)\"],\n",
    "            c = mundo[\"Literacy rate, youth female (% of females ages 15-24)\"],\n",
    "            cmap = \"Spectral\");\n",
    "plt.xlabel('PIB per capita')\n",
    "plt.ylabel('Mortalidade infantil')\n",
    "plt.title('Relação entre PIB per capita e mortalidade infantil')\n",
    "\n",
    "xm = mundo[\"GDP per capita (constant 2010 US$)\"].median()\n",
    "ym = mundo[\"Mortality rate, under-5 (per 1,000 live births)\"].median()\n",
    "\n",
    "plt.axvline(xm, c='lightblue', ls='dashed')\n",
    "plt.axhline(ym, c='lightblue', ls='dashed')\n",
    "plt.plot(xm,ym, c='red', marker='.', markersize=25)\n",
    "plt.annotate(f'Ponto mediano: (US${xm:.0f} ; {ym:.0f} mortes por 1.000)', (xm + 4000, ym), c='red')\n",
    "\n",
    "plt.xscale('log')\n",
    "plt.yscale('log')\n",
    "plt.xlim(1,1e8)\n",
    "plt.ylim(1,1e3)\n",
    "plt.grid('on')\n",
    "plt.show()"
   ]
  },
  {
   "cell_type": "markdown",
   "id": "095f0e19-8f9f-4408-a1fc-caae532855ae",
   "metadata": {},
   "source": [
    "### Subplots"
   ]
  },
  {
   "cell_type": "code",
   "execution_count": 142,
   "id": "9d506235-5583-4c67-bc55-236386076fb1",
   "metadata": {},
   "outputs": [
    {
     "data": {
      "image/png": "[encoded data removed]",
      "text/plain": [
       "<Figure size 1440x432 with 3 Axes>"
      ]
     },
     "metadata": {
      "needs_background": "light"
     },
     "output_type": "display_data"
    }
   ],
   "source": [
    "plt.figure(figsize=(20,6))\n",
    "\n",
    "#plot 1:\n",
    "plt.subplot(1, 3, 1)\n",
    "plt.scatter(mundo['Mortality rate, under-5 (per 1,000 live births)'], \n",
    "            mundo['Life expectancy at birth, total (years)'], \n",
    "            c='Red')\n",
    "plt.title(\"Um gráfico vermelho\")\n",
    "\n",
    "#plot 2:\n",
    "plt.subplot(1, 3, 2)\n",
    "plt.scatter(mundo['Mortality rate, under-5 (per 1,000 live births)'], \n",
    "            mundo['Life expectancy at birth, total (years)'], \n",
    "            c='Green')\n",
    "plt.title(\"Um gráfico verde\")\n",
    "\n",
    "#plot 2:\n",
    "plt.subplot(1, 3, 3)\n",
    "plt.scatter(mundo['Mortality rate, under-5 (per 1,000 live births)'], \n",
    "            mundo['Life expectancy at birth, total (years)'], \n",
    "            c='Blue')\n",
    "plt.title(\"Um gráfico azul\")\n",
    "\n",
    "\n",
    "plt.show()"
   ]
  },
  {
   "cell_type": "code",
   "execution_count": null,
   "id": "feb3b44f-71af-451a-9784-b347cf43063b",
   "metadata": {},
   "outputs": [],
   "source": []
  }
 ],
 "metadata": {
  "kernelspec": {
   "display_name": "Python 3 (ipykernel)",
   "language": "python",
   "name": "python3"
  },
  "language_info": {
   "codemirror_mode": {
    "name": "ipython",
    "version": 3
   },
   "file_extension": ".py",
   "mimetype": "text/x-python",
   "name": "python",
   "nbconvert_exporter": "python",
   "pygments_lexer": "ipython3",
   "version": "3.8.5"
  }
 },
 "nbformat": 4,
 "nbformat_minor": 5
}
