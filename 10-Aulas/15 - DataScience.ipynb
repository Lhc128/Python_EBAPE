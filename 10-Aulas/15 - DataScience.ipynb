{
 "cells": [
  {
   "cell_type": "code",
   "execution_count": 70,
   "metadata": {},
   "outputs": [],
   "source": [
    "from sklearn.datasets import load_breast_cancer\n",
    "from sklearn.model_selection import train_test_split\n",
    "from yellowbrick.classifier import confusion_matrix, classification_report, roc_auc, class_prediction_error, discrimination_threshold\n",
    "import matplotlib.pyplot as plt\n",
    "import seaborn as sns\n",
    "import warnings\n",
    "warnings.filterwarnings('ignore')"
   ]
  },
  {
   "cell_type": "markdown",
   "metadata": {},
   "source": [
    "# Importa base"
   ]
  },
  {
   "cell_type": "code",
   "execution_count": 71,
   "metadata": {},
   "outputs": [],
   "source": [
    "data = load_breast_cancer(as_frame=True)['frame']"
   ]
  },
  {
   "cell_type": "code",
   "execution_count": 72,
   "metadata": {},
   "outputs": [
    {
     "data": {
      "text/html": [
       "<div><div id=6eed8dfd-74ae-4e13-a5d2-5cca8ccf8a9a style=\"display:none; background-color:#9D6CFF; color:white; width:200px; height:30px; padding-left:5px; border-radius:4px; flex-direction:row; justify-content:space-around; align-items:center;\" onmouseover=\"this.style.backgroundColor='#BA9BF8'\" onmouseout=\"this.style.backgroundColor='#9D6CFF'\" onclick=\"window.commands?.execute('create-mitosheet-from-dataframe-output');\">See Full Dataframe in Mito</div> <script> if (window.commands.hasCommand('create-mitosheet-from-dataframe-output')) document.getElementById('6eed8dfd-74ae-4e13-a5d2-5cca8ccf8a9a').style.display = 'flex' </script> <table border=\"1\" class=\"dataframe\">\n",
       "  <thead>\n",
       "    <tr style=\"text-align: right;\">\n",
       "      <th></th>\n",
       "      <th>mean radius</th>\n",
       "      <th>mean texture</th>\n",
       "      <th>mean perimeter</th>\n",
       "      <th>mean area</th>\n",
       "      <th>mean smoothness</th>\n",
       "      <th>mean compactness</th>\n",
       "      <th>mean concavity</th>\n",
       "      <th>mean concave points</th>\n",
       "      <th>mean symmetry</th>\n",
       "      <th>mean fractal dimension</th>\n",
       "      <th>...</th>\n",
       "      <th>worst texture</th>\n",
       "      <th>worst perimeter</th>\n",
       "      <th>worst area</th>\n",
       "      <th>worst smoothness</th>\n",
       "      <th>worst compactness</th>\n",
       "      <th>worst concavity</th>\n",
       "      <th>worst concave points</th>\n",
       "      <th>worst symmetry</th>\n",
       "      <th>worst fractal dimension</th>\n",
       "      <th>target</th>\n",
       "    </tr>\n",
       "  </thead>\n",
       "  <tbody>\n",
       "    <tr>\n",
       "      <th>0</th>\n",
       "      <td>17.99</td>\n",
       "      <td>10.38</td>\n",
       "      <td>122.80</td>\n",
       "      <td>1001.0</td>\n",
       "      <td>0.11840</td>\n",
       "      <td>0.27760</td>\n",
       "      <td>0.3001</td>\n",
       "      <td>0.14710</td>\n",
       "      <td>0.2419</td>\n",
       "      <td>0.07871</td>\n",
       "      <td>...</td>\n",
       "      <td>17.33</td>\n",
       "      <td>184.60</td>\n",
       "      <td>2019.0</td>\n",
       "      <td>0.1622</td>\n",
       "      <td>0.6656</td>\n",
       "      <td>0.7119</td>\n",
       "      <td>0.2654</td>\n",
       "      <td>0.4601</td>\n",
       "      <td>0.11890</td>\n",
       "      <td>0</td>\n",
       "    </tr>\n",
       "    <tr>\n",
       "      <th>1</th>\n",
       "      <td>20.57</td>\n",
       "      <td>17.77</td>\n",
       "      <td>132.90</td>\n",
       "      <td>1326.0</td>\n",
       "      <td>0.08474</td>\n",
       "      <td>0.07864</td>\n",
       "      <td>0.0869</td>\n",
       "      <td>0.07017</td>\n",
       "      <td>0.1812</td>\n",
       "      <td>0.05667</td>\n",
       "      <td>...</td>\n",
       "      <td>23.41</td>\n",
       "      <td>158.80</td>\n",
       "      <td>1956.0</td>\n",
       "      <td>0.1238</td>\n",
       "      <td>0.1866</td>\n",
       "      <td>0.2416</td>\n",
       "      <td>0.1860</td>\n",
       "      <td>0.2750</td>\n",
       "      <td>0.08902</td>\n",
       "      <td>0</td>\n",
       "    </tr>\n",
       "    <tr>\n",
       "      <th>2</th>\n",
       "      <td>19.69</td>\n",
       "      <td>21.25</td>\n",
       "      <td>130.00</td>\n",
       "      <td>1203.0</td>\n",
       "      <td>0.10960</td>\n",
       "      <td>0.15990</td>\n",
       "      <td>0.1974</td>\n",
       "      <td>0.12790</td>\n",
       "      <td>0.2069</td>\n",
       "      <td>0.05999</td>\n",
       "      <td>...</td>\n",
       "      <td>25.53</td>\n",
       "      <td>152.50</td>\n",
       "      <td>1709.0</td>\n",
       "      <td>0.1444</td>\n",
       "      <td>0.4245</td>\n",
       "      <td>0.4504</td>\n",
       "      <td>0.2430</td>\n",
       "      <td>0.3613</td>\n",
       "      <td>0.08758</td>\n",
       "      <td>0</td>\n",
       "    </tr>\n",
       "    <tr>\n",
       "      <th>3</th>\n",
       "      <td>11.42</td>\n",
       "      <td>20.38</td>\n",
       "      <td>77.58</td>\n",
       "      <td>386.1</td>\n",
       "      <td>0.14250</td>\n",
       "      <td>0.28390</td>\n",
       "      <td>0.2414</td>\n",
       "      <td>0.10520</td>\n",
       "      <td>0.2597</td>\n",
       "      <td>0.09744</td>\n",
       "      <td>...</td>\n",
       "      <td>26.50</td>\n",
       "      <td>98.87</td>\n",
       "      <td>567.7</td>\n",
       "      <td>0.2098</td>\n",
       "      <td>0.8663</td>\n",
       "      <td>0.6869</td>\n",
       "      <td>0.2575</td>\n",
       "      <td>0.6638</td>\n",
       "      <td>0.17300</td>\n",
       "      <td>0</td>\n",
       "    </tr>\n",
       "    <tr>\n",
       "      <th>4</th>\n",
       "      <td>20.29</td>\n",
       "      <td>14.34</td>\n",
       "      <td>135.10</td>\n",
       "      <td>1297.0</td>\n",
       "      <td>0.10030</td>\n",
       "      <td>0.13280</td>\n",
       "      <td>0.1980</td>\n",
       "      <td>0.10430</td>\n",
       "      <td>0.1809</td>\n",
       "      <td>0.05883</td>\n",
       "      <td>...</td>\n",
       "      <td>16.67</td>\n",
       "      <td>152.20</td>\n",
       "      <td>1575.0</td>\n",
       "      <td>0.1374</td>\n",
       "      <td>0.2050</td>\n",
       "      <td>0.4000</td>\n",
       "      <td>0.1625</td>\n",
       "      <td>0.2364</td>\n",
       "      <td>0.07678</td>\n",
       "      <td>0</td>\n",
       "    </tr>\n",
       "  </tbody>\n",
       "</table></div>"
      ],
      "text/plain": [
       "   mean radius  mean texture  mean perimeter  mean area  mean smoothness  \\\n",
       "0        17.99         10.38          122.80     1001.0          0.11840   \n",
       "1        20.57         17.77          132.90     1326.0          0.08474   \n",
       "2        19.69         21.25          130.00     1203.0          0.10960   \n",
       "3        11.42         20.38           77.58      386.1          0.14250   \n",
       "4        20.29         14.34          135.10     1297.0          0.10030   \n",
       "\n",
       "   mean compactness  mean concavity  mean concave points  mean symmetry  \\\n",
       "0           0.27760          0.3001              0.14710         0.2419   \n",
       "1           0.07864          0.0869              0.07017         0.1812   \n",
       "2           0.15990          0.1974              0.12790         0.2069   \n",
       "3           0.28390          0.2414              0.10520         0.2597   \n",
       "4           0.13280          0.1980              0.10430         0.1809   \n",
       "\n",
       "   mean fractal dimension  ...  worst texture  worst perimeter  worst area  \\\n",
       "0                 0.07871  ...          17.33           184.60      2019.0   \n",
       "1                 0.05667  ...          23.41           158.80      1956.0   \n",
       "2                 0.05999  ...          25.53           152.50      1709.0   \n",
       "3                 0.09744  ...          26.50            98.87       567.7   \n",
       "4                 0.05883  ...          16.67           152.20      1575.0   \n",
       "\n",
       "   worst smoothness  worst compactness  worst concavity  worst concave points  \\\n",
       "0            0.1622             0.6656           0.7119                0.2654   \n",
       "1            0.1238             0.1866           0.2416                0.1860   \n",
       "2            0.1444             0.4245           0.4504                0.2430   \n",
       "3            0.2098             0.8663           0.6869                0.2575   \n",
       "4            0.1374             0.2050           0.4000                0.1625   \n",
       "\n",
       "   worst symmetry  worst fractal dimension  target  \n",
       "0          0.4601                  0.11890       0  \n",
       "1          0.2750                  0.08902       0  \n",
       "2          0.3613                  0.08758       0  \n",
       "3          0.6638                  0.17300       0  \n",
       "4          0.2364                  0.07678       0  \n",
       "\n",
       "[5 rows x 31 columns]"
      ]
     },
     "execution_count": 72,
     "metadata": {},
     "output_type": "execute_result"
    }
   ],
   "source": [
    "data.head()"
   ]
  },
  {
   "cell_type": "code",
   "execution_count": 73,
   "metadata": {},
   "outputs": [
    {
     "data": {
      "text/plain": [
       "mean radius                float64\n",
       "mean texture               float64\n",
       "mean perimeter             float64\n",
       "mean area                  float64\n",
       "mean smoothness            float64\n",
       "mean compactness           float64\n",
       "mean concavity             float64\n",
       "mean concave points        float64\n",
       "mean symmetry              float64\n",
       "mean fractal dimension     float64\n",
       "radius error               float64\n",
       "texture error              float64\n",
       "perimeter error            float64\n",
       "area error                 float64\n",
       "smoothness error           float64\n",
       "compactness error          float64\n",
       "concavity error            float64\n",
       "concave points error       float64\n",
       "symmetry error             float64\n",
       "fractal dimension error    float64\n",
       "worst radius               float64\n",
       "worst texture              float64\n",
       "worst perimeter            float64\n",
       "worst area                 float64\n",
       "worst smoothness           float64\n",
       "worst compactness          float64\n",
       "worst concavity            float64\n",
       "worst concave points       float64\n",
       "worst symmetry             float64\n",
       "worst fractal dimension    float64\n",
       "target                       int32\n",
       "dtype: object"
      ]
     },
     "execution_count": 73,
     "metadata": {},
     "output_type": "execute_result"
    }
   ],
   "source": [
    "data.dtypes"
   ]
  },
  {
   "cell_type": "markdown",
   "metadata": {},
   "source": [
    "# EDA"
   ]
  },
  {
   "cell_type": "code",
   "execution_count": 74,
   "metadata": {},
   "outputs": [
    {
     "data": {
      "text/html": [
       "<div><div id=4ccdd80e-1b87-4879-8fdc-ffeb2b044f0c style=\"display:none; background-color:#9D6CFF; color:white; width:200px; height:30px; padding-left:5px; border-radius:4px; flex-direction:row; justify-content:space-around; align-items:center;\" onmouseover=\"this.style.backgroundColor='#BA9BF8'\" onmouseout=\"this.style.backgroundColor='#9D6CFF'\" onclick=\"window.commands?.execute('create-mitosheet-from-dataframe-output');\">See Full Dataframe in Mito</div> <script> if (window.commands.hasCommand('create-mitosheet-from-dataframe-output')) document.getElementById('4ccdd80e-1b87-4879-8fdc-ffeb2b044f0c').style.display = 'flex' </script> <table border=\"1\" class=\"dataframe\">\n",
       "  <thead>\n",
       "    <tr style=\"text-align: right;\">\n",
       "      <th></th>\n",
       "      <th>mean radius</th>\n",
       "      <th>mean texture</th>\n",
       "      <th>mean perimeter</th>\n",
       "      <th>mean area</th>\n",
       "      <th>mean smoothness</th>\n",
       "      <th>mean compactness</th>\n",
       "      <th>mean concavity</th>\n",
       "      <th>mean concave points</th>\n",
       "      <th>mean symmetry</th>\n",
       "      <th>mean fractal dimension</th>\n",
       "      <th>...</th>\n",
       "      <th>worst texture</th>\n",
       "      <th>worst perimeter</th>\n",
       "      <th>worst area</th>\n",
       "      <th>worst smoothness</th>\n",
       "      <th>worst compactness</th>\n",
       "      <th>worst concavity</th>\n",
       "      <th>worst concave points</th>\n",
       "      <th>worst symmetry</th>\n",
       "      <th>worst fractal dimension</th>\n",
       "      <th>target</th>\n",
       "    </tr>\n",
       "  </thead>\n",
       "  <tbody>\n",
       "    <tr>\n",
       "      <th>count</th>\n",
       "      <td>569.000000</td>\n",
       "      <td>569.000000</td>\n",
       "      <td>569.000000</td>\n",
       "      <td>569.000000</td>\n",
       "      <td>569.000000</td>\n",
       "      <td>569.000000</td>\n",
       "      <td>569.000000</td>\n",
       "      <td>569.000000</td>\n",
       "      <td>569.000000</td>\n",
       "      <td>569.000000</td>\n",
       "      <td>...</td>\n",
       "      <td>569.000000</td>\n",
       "      <td>569.000000</td>\n",
       "      <td>569.000000</td>\n",
       "      <td>569.000000</td>\n",
       "      <td>569.000000</td>\n",
       "      <td>569.000000</td>\n",
       "      <td>569.000000</td>\n",
       "      <td>569.000000</td>\n",
       "      <td>569.000000</td>\n",
       "      <td>569.000000</td>\n",
       "    </tr>\n",
       "    <tr>\n",
       "      <th>mean</th>\n",
       "      <td>14.127292</td>\n",
       "      <td>19.289649</td>\n",
       "      <td>91.969033</td>\n",
       "      <td>654.889104</td>\n",
       "      <td>0.096360</td>\n",
       "      <td>0.104341</td>\n",
       "      <td>0.088799</td>\n",
       "      <td>0.048919</td>\n",
       "      <td>0.181162</td>\n",
       "      <td>0.062798</td>\n",
       "      <td>...</td>\n",
       "      <td>25.677223</td>\n",
       "      <td>107.261213</td>\n",
       "      <td>880.583128</td>\n",
       "      <td>0.132369</td>\n",
       "      <td>0.254265</td>\n",
       "      <td>0.272188</td>\n",
       "      <td>0.114606</td>\n",
       "      <td>0.290076</td>\n",
       "      <td>0.083946</td>\n",
       "      <td>0.627417</td>\n",
       "    </tr>\n",
       "    <tr>\n",
       "      <th>std</th>\n",
       "      <td>3.524049</td>\n",
       "      <td>4.301036</td>\n",
       "      <td>24.298981</td>\n",
       "      <td>351.914129</td>\n",
       "      <td>0.014064</td>\n",
       "      <td>0.052813</td>\n",
       "      <td>0.079720</td>\n",
       "      <td>0.038803</td>\n",
       "      <td>0.027414</td>\n",
       "      <td>0.007060</td>\n",
       "      <td>...</td>\n",
       "      <td>6.146258</td>\n",
       "      <td>33.602542</td>\n",
       "      <td>569.356993</td>\n",
       "      <td>0.022832</td>\n",
       "      <td>0.157336</td>\n",
       "      <td>0.208624</td>\n",
       "      <td>0.065732</td>\n",
       "      <td>0.061867</td>\n",
       "      <td>0.018061</td>\n",
       "      <td>0.483918</td>\n",
       "    </tr>\n",
       "    <tr>\n",
       "      <th>min</th>\n",
       "      <td>6.981000</td>\n",
       "      <td>9.710000</td>\n",
       "      <td>43.790000</td>\n",
       "      <td>143.500000</td>\n",
       "      <td>0.052630</td>\n",
       "      <td>0.019380</td>\n",
       "      <td>0.000000</td>\n",
       "      <td>0.000000</td>\n",
       "      <td>0.106000</td>\n",
       "      <td>0.049960</td>\n",
       "      <td>...</td>\n",
       "      <td>12.020000</td>\n",
       "      <td>50.410000</td>\n",
       "      <td>185.200000</td>\n",
       "      <td>0.071170</td>\n",
       "      <td>0.027290</td>\n",
       "      <td>0.000000</td>\n",
       "      <td>0.000000</td>\n",
       "      <td>0.156500</td>\n",
       "      <td>0.055040</td>\n",
       "      <td>0.000000</td>\n",
       "    </tr>\n",
       "    <tr>\n",
       "      <th>25%</th>\n",
       "      <td>11.700000</td>\n",
       "      <td>16.170000</td>\n",
       "      <td>75.170000</td>\n",
       "      <td>420.300000</td>\n",
       "      <td>0.086370</td>\n",
       "      <td>0.064920</td>\n",
       "      <td>0.029560</td>\n",
       "      <td>0.020310</td>\n",
       "      <td>0.161900</td>\n",
       "      <td>0.057700</td>\n",
       "      <td>...</td>\n",
       "      <td>21.080000</td>\n",
       "      <td>84.110000</td>\n",
       "      <td>515.300000</td>\n",
       "      <td>0.116600</td>\n",
       "      <td>0.147200</td>\n",
       "      <td>0.114500</td>\n",
       "      <td>0.064930</td>\n",
       "      <td>0.250400</td>\n",
       "      <td>0.071460</td>\n",
       "      <td>0.000000</td>\n",
       "    </tr>\n",
       "    <tr>\n",
       "      <th>50%</th>\n",
       "      <td>13.370000</td>\n",
       "      <td>18.840000</td>\n",
       "      <td>86.240000</td>\n",
       "      <td>551.100000</td>\n",
       "      <td>0.095870</td>\n",
       "      <td>0.092630</td>\n",
       "      <td>0.061540</td>\n",
       "      <td>0.033500</td>\n",
       "      <td>0.179200</td>\n",
       "      <td>0.061540</td>\n",
       "      <td>...</td>\n",
       "      <td>25.410000</td>\n",
       "      <td>97.660000</td>\n",
       "      <td>686.500000</td>\n",
       "      <td>0.131300</td>\n",
       "      <td>0.211900</td>\n",
       "      <td>0.226700</td>\n",
       "      <td>0.099930</td>\n",
       "      <td>0.282200</td>\n",
       "      <td>0.080040</td>\n",
       "      <td>1.000000</td>\n",
       "    </tr>\n",
       "    <tr>\n",
       "      <th>75%</th>\n",
       "      <td>15.780000</td>\n",
       "      <td>21.800000</td>\n",
       "      <td>104.100000</td>\n",
       "      <td>782.700000</td>\n",
       "      <td>0.105300</td>\n",
       "      <td>0.130400</td>\n",
       "      <td>0.130700</td>\n",
       "      <td>0.074000</td>\n",
       "      <td>0.195700</td>\n",
       "      <td>0.066120</td>\n",
       "      <td>...</td>\n",
       "      <td>29.720000</td>\n",
       "      <td>125.400000</td>\n",
       "      <td>1084.000000</td>\n",
       "      <td>0.146000</td>\n",
       "      <td>0.339100</td>\n",
       "      <td>0.382900</td>\n",
       "      <td>0.161400</td>\n",
       "      <td>0.317900</td>\n",
       "      <td>0.092080</td>\n",
       "      <td>1.000000</td>\n",
       "    </tr>\n",
       "    <tr>\n",
       "      <th>max</th>\n",
       "      <td>28.110000</td>\n",
       "      <td>39.280000</td>\n",
       "      <td>188.500000</td>\n",
       "      <td>2501.000000</td>\n",
       "      <td>0.163400</td>\n",
       "      <td>0.345400</td>\n",
       "      <td>0.426800</td>\n",
       "      <td>0.201200</td>\n",
       "      <td>0.304000</td>\n",
       "      <td>0.097440</td>\n",
       "      <td>...</td>\n",
       "      <td>49.540000</td>\n",
       "      <td>251.200000</td>\n",
       "      <td>4254.000000</td>\n",
       "      <td>0.222600</td>\n",
       "      <td>1.058000</td>\n",
       "      <td>1.252000</td>\n",
       "      <td>0.291000</td>\n",
       "      <td>0.663800</td>\n",
       "      <td>0.207500</td>\n",
       "      <td>1.000000</td>\n",
       "    </tr>\n",
       "  </tbody>\n",
       "</table></div>"
      ],
      "text/plain": [
       "       mean radius  mean texture  mean perimeter    mean area  \\\n",
       "count   569.000000    569.000000      569.000000   569.000000   \n",
       "mean     14.127292     19.289649       91.969033   654.889104   \n",
       "std       3.524049      4.301036       24.298981   351.914129   \n",
       "min       6.981000      9.710000       43.790000   143.500000   \n",
       "25%      11.700000     16.170000       75.170000   420.300000   \n",
       "50%      13.370000     18.840000       86.240000   551.100000   \n",
       "75%      15.780000     21.800000      104.100000   782.700000   \n",
       "max      28.110000     39.280000      188.500000  2501.000000   \n",
       "\n",
       "       mean smoothness  mean compactness  mean concavity  mean concave points  \\\n",
       "count       569.000000        569.000000      569.000000           569.000000   \n",
       "mean          0.096360          0.104341        0.088799             0.048919   \n",
       "std           0.014064          0.052813        0.079720             0.038803   \n",
       "min           0.052630          0.019380        0.000000             0.000000   \n",
       "25%           0.086370          0.064920        0.029560             0.020310   \n",
       "50%           0.095870          0.092630        0.061540             0.033500   \n",
       "75%           0.105300          0.130400        0.130700             0.074000   \n",
       "max           0.163400          0.345400        0.426800             0.201200   \n",
       "\n",
       "       mean symmetry  mean fractal dimension  ...  worst texture  \\\n",
       "count     569.000000              569.000000  ...     569.000000   \n",
       "mean        0.181162                0.062798  ...      25.677223   \n",
       "std         0.027414                0.007060  ...       6.146258   \n",
       "min         0.106000                0.049960  ...      12.020000   \n",
       "25%         0.161900                0.057700  ...      21.080000   \n",
       "50%         0.179200                0.061540  ...      25.410000   \n",
       "75%         0.195700                0.066120  ...      29.720000   \n",
       "max         0.304000                0.097440  ...      49.540000   \n",
       "\n",
       "       worst perimeter   worst area  worst smoothness  worst compactness  \\\n",
       "count       569.000000   569.000000        569.000000         569.000000   \n",
       "mean        107.261213   880.583128          0.132369           0.254265   \n",
       "std          33.602542   569.356993          0.022832           0.157336   \n",
       "min          50.410000   185.200000          0.071170           0.027290   \n",
       "25%          84.110000   515.300000          0.116600           0.147200   \n",
       "50%          97.660000   686.500000          0.131300           0.211900   \n",
       "75%         125.400000  1084.000000          0.146000           0.339100   \n",
       "max         251.200000  4254.000000          0.222600           1.058000   \n",
       "\n",
       "       worst concavity  worst concave points  worst symmetry  \\\n",
       "count       569.000000            569.000000      569.000000   \n",
       "mean          0.272188              0.114606        0.290076   \n",
       "std           0.208624              0.065732        0.061867   \n",
       "min           0.000000              0.000000        0.156500   \n",
       "25%           0.114500              0.064930        0.250400   \n",
       "50%           0.226700              0.099930        0.282200   \n",
       "75%           0.382900              0.161400        0.317900   \n",
       "max           1.252000              0.291000        0.663800   \n",
       "\n",
       "       worst fractal dimension      target  \n",
       "count               569.000000  569.000000  \n",
       "mean                  0.083946    0.627417  \n",
       "std                   0.018061    0.483918  \n",
       "min                   0.055040    0.000000  \n",
       "25%                   0.071460    0.000000  \n",
       "50%                   0.080040    1.000000  \n",
       "75%                   0.092080    1.000000  \n",
       "max                   0.207500    1.000000  \n",
       "\n",
       "[8 rows x 31 columns]"
      ]
     },
     "execution_count": 74,
     "metadata": {},
     "output_type": "execute_result"
    }
   ],
   "source": [
    "data.describe()"
   ]
  },
  {
   "cell_type": "code",
   "execution_count": 75,
   "metadata": {},
   "outputs": [
    {
     "data": {
      "text/plain": [
       "1    357\n",
       "0    212\n",
       "Name: target, dtype: int64"
      ]
     },
     "execution_count": 75,
     "metadata": {},
     "output_type": "execute_result"
    }
   ],
   "source": [
    "data.target.value_counts()"
   ]
  },
  {
   "cell_type": "markdown",
   "metadata": {},
   "source": [
    "# Separa base de treino e base de teste\n",
    "* Por que separar?\n",
    "* Por que embaralhar a base antes de separar?"
   ]
  },
  {
   "cell_type": "code",
   "execution_count": 76,
   "metadata": {},
   "outputs": [],
   "source": [
    "#Primeiro embaralhamos a base (por quê?)\n",
    "data = data.sample(frac=1)"
   ]
  },
  {
   "cell_type": "code",
   "execution_count": 77,
   "metadata": {},
   "outputs": [],
   "source": [
    "X = data.iloc[:,:-1]\n",
    "y = data['target']"
   ]
  },
  {
   "cell_type": "code",
   "execution_count": 78,
   "metadata": {},
   "outputs": [],
   "source": [
    "Xtrn, Xtst, ytrn, ytst = train_test_split(X, y, test_size=0.33, random_state=123)"
   ]
  },
  {
   "cell_type": "markdown",
   "metadata": {},
   "source": [
    "# Processamento dos dados e _feature engineering_"
   ]
  },
  {
   "cell_type": "code",
   "execution_count": 79,
   "metadata": {},
   "outputs": [],
   "source": [
    "from sklearn.preprocessing import StandardScaler"
   ]
  },
  {
   "cell_type": "code",
   "execution_count": 80,
   "metadata": {},
   "outputs": [],
   "source": [
    "scaler = StandardScaler()\n",
    "Xtrn = scaler.fit_transform(Xtrn)\n",
    "Xtst = scaler.transform(Xtst)"
   ]
  },
  {
   "cell_type": "markdown",
   "metadata": {},
   "source": [
    "Desafio: Por que dar fit na base treino apenas, e não na base inteira? "
   ]
  },
  {
   "cell_type": "markdown",
   "metadata": {},
   "source": [
    "# Cria modelos - 1 (sem cross-validation)"
   ]
  },
  {
   "cell_type": "code",
   "execution_count": 81,
   "metadata": {},
   "outputs": [],
   "source": [
    "from sklearn.dummy import DummyClassifier\n",
    "from sklearn.linear_model import LogisticRegression\n",
    "from sklearn.neighbors import KNeighborsClassifier\n",
    "from sklearn.tree import DecisionTreeClassifier\n",
    "from sklearn.ensemble import RandomForestClassifier\n",
    "from sklearn.neural_network import MLPClassifier\n",
    "\n",
    "from sklearn.metrics import precision_score, recall_score, f1_score, accuracy_score"
   ]
  },
  {
   "cell_type": "code",
   "execution_count": 82,
   "metadata": {},
   "outputs": [
    {
     "data": {
      "text/html": [
       "<div><div id=01f37b8e-d95e-4084-bdf2-242288e3c65b style=\"display:none; background-color:#9D6CFF; color:white; width:200px; height:30px; padding-left:5px; border-radius:4px; flex-direction:row; justify-content:space-around; align-items:center;\" onmouseover=\"this.style.backgroundColor='#BA9BF8'\" onmouseout=\"this.style.backgroundColor='#9D6CFF'\" onclick=\"window.commands?.execute('create-mitosheet-from-dataframe-output');\">See Full Dataframe in Mito</div> <script> if (window.commands.hasCommand('create-mitosheet-from-dataframe-output')) document.getElementById('01f37b8e-d95e-4084-bdf2-242288e3c65b').style.display = 'flex' </script> <table border=\"1\" class=\"dataframe\">\n",
       "  <thead>\n",
       "    <tr style=\"text-align: right;\">\n",
       "      <th></th>\n",
       "      <th>precision</th>\n",
       "      <th>recall</th>\n",
       "      <th>f1</th>\n",
       "      <th>accuracy</th>\n",
       "    </tr>\n",
       "  </thead>\n",
       "  <tbody>\n",
       "    <tr>\n",
       "      <th>dummy</th>\n",
       "      <td>NaN</td>\n",
       "      <td>NaN</td>\n",
       "      <td>NaN</td>\n",
       "      <td>NaN</td>\n",
       "    </tr>\n",
       "    <tr>\n",
       "      <th>logistic</th>\n",
       "      <td>NaN</td>\n",
       "      <td>NaN</td>\n",
       "      <td>NaN</td>\n",
       "      <td>NaN</td>\n",
       "    </tr>\n",
       "    <tr>\n",
       "      <th>KNN</th>\n",
       "      <td>NaN</td>\n",
       "      <td>NaN</td>\n",
       "      <td>NaN</td>\n",
       "      <td>NaN</td>\n",
       "    </tr>\n",
       "    <tr>\n",
       "      <th>tree</th>\n",
       "      <td>NaN</td>\n",
       "      <td>NaN</td>\n",
       "      <td>NaN</td>\n",
       "      <td>NaN</td>\n",
       "    </tr>\n",
       "    <tr>\n",
       "      <th>rf</th>\n",
       "      <td>NaN</td>\n",
       "      <td>NaN</td>\n",
       "      <td>NaN</td>\n",
       "      <td>NaN</td>\n",
       "    </tr>\n",
       "    <tr>\n",
       "      <th>nn</th>\n",
       "      <td>NaN</td>\n",
       "      <td>NaN</td>\n",
       "      <td>NaN</td>\n",
       "      <td>NaN</td>\n",
       "    </tr>\n",
       "  </tbody>\n",
       "</table></div>"
      ],
      "text/plain": [
       "         precision recall   f1 accuracy\n",
       "dummy          NaN    NaN  NaN      NaN\n",
       "logistic       NaN    NaN  NaN      NaN\n",
       "KNN            NaN    NaN  NaN      NaN\n",
       "tree           NaN    NaN  NaN      NaN\n",
       "rf             NaN    NaN  NaN      NaN\n",
       "nn             NaN    NaN  NaN      NaN"
      ]
     },
     "execution_count": 82,
     "metadata": {},
     "output_type": "execute_result"
    }
   ],
   "source": [
    "modelos = {'dummy': DummyClassifier(),\n",
    "           'logistic': LogisticRegression(),\n",
    "           'KNN': KNeighborsClassifier(),\n",
    "           'tree': DecisionTreeClassifier(),\n",
    "           'rf': RandomForestClassifier(),\n",
    "           'nn': MLPClassifier(max_iter=500)}\n",
    ",\n",
    "resultados = pd.DataFrame([], index = modelos.keys(), columns=['precision','recall','f1','accuracy'])\n",
    "resultados"
   ]
  },
  {
   "cell_type": "code",
   "execution_count": 83,
   "metadata": {},
   "outputs": [
    {
     "data": {
      "text/html": [
       "<div><div id=60aa03eb-82f0-4e79-9d68-c56fc7e77a05 style=\"display:none; background-color:#9D6CFF; color:white; width:200px; height:30px; padding-left:5px; border-radius:4px; flex-direction:row; justify-content:space-around; align-items:center;\" onmouseover=\"this.style.backgroundColor='#BA9BF8'\" onmouseout=\"this.style.backgroundColor='#9D6CFF'\" onclick=\"window.commands?.execute('create-mitosheet-from-dataframe-output');\">See Full Dataframe in Mito</div> <script> if (window.commands.hasCommand('create-mitosheet-from-dataframe-output')) document.getElementById('60aa03eb-82f0-4e79-9d68-c56fc7e77a05').style.display = 'flex' </script> <table border=\"1\" class=\"dataframe\">\n",
       "  <thead>\n",
       "    <tr style=\"text-align: right;\">\n",
       "      <th></th>\n",
       "      <th>precision</th>\n",
       "      <th>recall</th>\n",
       "      <th>f1</th>\n",
       "      <th>accuracy</th>\n",
       "    </tr>\n",
       "  </thead>\n",
       "  <tbody>\n",
       "    <tr>\n",
       "      <th>dummy</th>\n",
       "      <td>0.623853</td>\n",
       "      <td>0.561983</td>\n",
       "      <td>0.591304</td>\n",
       "      <td>0.5</td>\n",
       "    </tr>\n",
       "    <tr>\n",
       "      <th>logistic</th>\n",
       "      <td>0.960317</td>\n",
       "      <td>1.0</td>\n",
       "      <td>0.979757</td>\n",
       "      <td>0.973404</td>\n",
       "    </tr>\n",
       "    <tr>\n",
       "      <th>KNN</th>\n",
       "      <td>0.915385</td>\n",
       "      <td>0.983471</td>\n",
       "      <td>0.948207</td>\n",
       "      <td>0.930851</td>\n",
       "    </tr>\n",
       "    <tr>\n",
       "      <th>tree</th>\n",
       "      <td>0.926829</td>\n",
       "      <td>0.942149</td>\n",
       "      <td>0.934426</td>\n",
       "      <td>0.914894</td>\n",
       "    </tr>\n",
       "    <tr>\n",
       "      <th>rf</th>\n",
       "      <td>0.936</td>\n",
       "      <td>0.966942</td>\n",
       "      <td>0.95122</td>\n",
       "      <td>0.93617</td>\n",
       "    </tr>\n",
       "    <tr>\n",
       "      <th>nn</th>\n",
       "      <td>0.96748</td>\n",
       "      <td>0.983471</td>\n",
       "      <td>0.97541</td>\n",
       "      <td>0.968085</td>\n",
       "    </tr>\n",
       "  </tbody>\n",
       "</table></div>"
      ],
      "text/plain": [
       "         precision    recall        f1  accuracy\n",
       "dummy     0.623853  0.561983  0.591304       0.5\n",
       "logistic  0.960317       1.0  0.979757  0.973404\n",
       "KNN       0.915385  0.983471  0.948207  0.930851\n",
       "tree      0.926829  0.942149  0.934426  0.914894\n",
       "rf           0.936  0.966942   0.95122   0.93617\n",
       "nn         0.96748  0.983471   0.97541  0.968085"
      ]
     },
     "execution_count": 83,
     "metadata": {},
     "output_type": "execute_result"
    }
   ],
   "source": [
    "for nome, modelo in modelos.items():\n",
    "    modelo.fit(Xtrn,ytrn)\n",
    "    ypred = modelo.predict(Xtst)\n",
    "    \n",
    "    precision = precision_score(ytst, ypred)\n",
    "    recall = recall_score(ytst, ypred)\n",
    "    f1 = f1_score(ytst, ypred)\n",
    "    accuracy = accuracy_score(ytst, ypred)\n",
    "    \n",
    "    resultados.loc[nome,:] = precision, recall, f1, accuracy\n",
    "    modelos[nome] = modelo\n",
    "\n",
    "resultados    "
   ]
  },
  {
   "cell_type": "markdown",
   "metadata": {},
   "source": [
    "Vamos supor que nossa métrica mais importante é _accuracy_:"
   ]
  },
  {
   "cell_type": "code",
   "execution_count": 84,
   "metadata": {},
   "outputs": [
    {
     "data": {
      "text/html": [
       "<div><div id=19343367-4a4e-490d-8b30-b27c769fab0e style=\"display:none; background-color:#9D6CFF; color:white; width:200px; height:30px; padding-left:5px; border-radius:4px; flex-direction:row; justify-content:space-around; align-items:center;\" onmouseover=\"this.style.backgroundColor='#BA9BF8'\" onmouseout=\"this.style.backgroundColor='#9D6CFF'\" onclick=\"window.commands?.execute('create-mitosheet-from-dataframe-output');\">See Full Dataframe in Mito</div> <script> if (window.commands.hasCommand('create-mitosheet-from-dataframe-output')) document.getElementById('19343367-4a4e-490d-8b30-b27c769fab0e').style.display = 'flex' </script> <table border=\"1\" class=\"dataframe\">\n",
       "  <thead>\n",
       "    <tr style=\"text-align: right;\">\n",
       "      <th></th>\n",
       "      <th>precision</th>\n",
       "      <th>recall</th>\n",
       "      <th>f1</th>\n",
       "      <th>accuracy</th>\n",
       "    </tr>\n",
       "  </thead>\n",
       "  <tbody>\n",
       "    <tr>\n",
       "      <th>logistic</th>\n",
       "      <td>0.960317</td>\n",
       "      <td>1.0</td>\n",
       "      <td>0.979757</td>\n",
       "      <td>0.973404</td>\n",
       "    </tr>\n",
       "    <tr>\n",
       "      <th>nn</th>\n",
       "      <td>0.96748</td>\n",
       "      <td>0.983471</td>\n",
       "      <td>0.97541</td>\n",
       "      <td>0.968085</td>\n",
       "    </tr>\n",
       "    <tr>\n",
       "      <th>rf</th>\n",
       "      <td>0.936</td>\n",
       "      <td>0.966942</td>\n",
       "      <td>0.95122</td>\n",
       "      <td>0.93617</td>\n",
       "    </tr>\n",
       "    <tr>\n",
       "      <th>KNN</th>\n",
       "      <td>0.915385</td>\n",
       "      <td>0.983471</td>\n",
       "      <td>0.948207</td>\n",
       "      <td>0.930851</td>\n",
       "    </tr>\n",
       "    <tr>\n",
       "      <th>tree</th>\n",
       "      <td>0.926829</td>\n",
       "      <td>0.942149</td>\n",
       "      <td>0.934426</td>\n",
       "      <td>0.914894</td>\n",
       "    </tr>\n",
       "    <tr>\n",
       "      <th>dummy</th>\n",
       "      <td>0.623853</td>\n",
       "      <td>0.561983</td>\n",
       "      <td>0.591304</td>\n",
       "      <td>0.5</td>\n",
       "    </tr>\n",
       "  </tbody>\n",
       "</table></div>"
      ],
      "text/plain": [
       "         precision    recall        f1  accuracy\n",
       "logistic  0.960317       1.0  0.979757  0.973404\n",
       "nn         0.96748  0.983471   0.97541  0.968085\n",
       "rf           0.936  0.966942   0.95122   0.93617\n",
       "KNN       0.915385  0.983471  0.948207  0.930851\n",
       "tree      0.926829  0.942149  0.934426  0.914894\n",
       "dummy     0.623853  0.561983  0.591304       0.5"
      ]
     },
     "execution_count": 84,
     "metadata": {},
     "output_type": "execute_result"
    }
   ],
   "source": [
    "resultados.sort_values('accuracy',ascending=False)"
   ]
  },
  {
   "cell_type": "markdown",
   "metadata": {
    "tags": []
   },
   "source": [
    "# Cria modelos - 2 (com cross-validation)"
   ]
  },
  {
   "cell_type": "code",
   "execution_count": 85,
   "metadata": {},
   "outputs": [],
   "source": [
    "from sklearn.model_selection import cross_validate"
   ]
  },
  {
   "cell_type": "code",
   "execution_count": 86,
   "metadata": {},
   "outputs": [
    {
     "data": {
      "text/plain": [
       "{'fit_time': array([0.70527911, 0.83268166, 0.71721005, 0.89821148, 0.70010591]),\n",
       " 'score_time': array([0.00390339, 0.00299954, 0.00700283, 0.00302792, 0.00302577]),\n",
       " 'test_precision': array([0.9787234 , 0.97916667, 0.97916667, 1.        , 1.        ]),\n",
       " 'test_recall': array([0.95833333, 1.        , 1.        , 1.        , 0.93617021]),\n",
       " 'test_f1': array([0.96842105, 0.98947368, 0.98947368, 1.        , 0.96703297]),\n",
       " 'test_accuracy': array([0.96103896, 0.98684211, 0.98684211, 1.        , 0.96052632])}"
      ]
     },
     "execution_count": 86,
     "metadata": {},
     "output_type": "execute_result"
    }
   ],
   "source": [
    "#Qual o output do cross-validation?\n",
    "cross_validate(modelo, Xtrn, ytrn, scoring = ['precision','recall','f1','accuracy'])"
   ]
  },
  {
   "cell_type": "code",
   "execution_count": 87,
   "metadata": {},
   "outputs": [
    {
     "data": {
      "text/plain": [
       "dict_keys(['explained_variance', 'r2', 'max_error', 'neg_median_absolute_error', 'neg_mean_absolute_error', 'neg_mean_squared_error', 'neg_mean_squared_log_error', 'neg_root_mean_squared_error', 'neg_mean_poisson_deviance', 'neg_mean_gamma_deviance', 'accuracy', 'roc_auc', 'roc_auc_ovr', 'roc_auc_ovo', 'roc_auc_ovr_weighted', 'roc_auc_ovo_weighted', 'balanced_accuracy', 'average_precision', 'neg_log_loss', 'neg_brier_score', 'adjusted_rand_score', 'homogeneity_score', 'completeness_score', 'v_measure_score', 'mutual_info_score', 'adjusted_mutual_info_score', 'normalized_mutual_info_score', 'fowlkes_mallows_score', 'precision', 'precision_macro', 'precision_micro', 'precision_samples', 'precision_weighted', 'recall', 'recall_macro', 'recall_micro', 'recall_samples', 'recall_weighted', 'f1', 'f1_macro', 'f1_micro', 'f1_samples', 'f1_weighted', 'jaccard', 'jaccard_macro', 'jaccard_micro', 'jaccard_samples', 'jaccard_weighted'])"
      ]
     },
     "execution_count": 87,
     "metadata": {},
     "output_type": "execute_result"
    }
   ],
   "source": [
    "#Quais as métricas de avaliação possíveis?\n",
    "from sklearn.metrics import SCORERS\n",
    "SCORERS.keys()"
   ]
  },
  {
   "cell_type": "code",
   "execution_count": 88,
   "metadata": {},
   "outputs": [],
   "source": [
    "#Comparação de modelos usando cross-validation\n",
    "modelos = {'dummy': DummyClassifier(),\n",
    "           'logistic': LogisticRegression(),\n",
    "           'KNN': KNeighborsClassifier(),\n",
    "           'tree': DecisionTreeClassifier(),\n",
    "           'rf': RandomForestClassifier(),\n",
    "           'nn': MLPClassifier(max_iter=500)}\n",
    ",\n",
    "resultados = pd.DataFrame([], index = modelos.keys(), columns=['precision','recall','f1','accuracy'])"
   ]
  },
  {
   "cell_type": "code",
   "execution_count": 89,
   "metadata": {},
   "outputs": [
    {
     "data": {
      "text/html": [
       "<div><div id=39de9a37-4758-4f62-b1f5-397519bc3b8d style=\"display:none; background-color:#9D6CFF; color:white; width:200px; height:30px; padding-left:5px; border-radius:4px; flex-direction:row; justify-content:space-around; align-items:center;\" onmouseover=\"this.style.backgroundColor='#BA9BF8'\" onmouseout=\"this.style.backgroundColor='#9D6CFF'\" onclick=\"window.commands?.execute('create-mitosheet-from-dataframe-output');\">See Full Dataframe in Mito</div> <script> if (window.commands.hasCommand('create-mitosheet-from-dataframe-output')) document.getElementById('39de9a37-4758-4f62-b1f5-397519bc3b8d').style.display = 'flex' </script> <table border=\"1\" class=\"dataframe\">\n",
       "  <thead>\n",
       "    <tr style=\"text-align: right;\">\n",
       "      <th></th>\n",
       "      <th>precision</th>\n",
       "      <th>recall</th>\n",
       "      <th>f1</th>\n",
       "      <th>accuracy</th>\n",
       "    </tr>\n",
       "  </thead>\n",
       "  <tbody>\n",
       "    <tr>\n",
       "      <th>logistic</th>\n",
       "      <td>0.983333</td>\n",
       "      <td>0.987323</td>\n",
       "      <td>0.98517</td>\n",
       "      <td>0.981647</td>\n",
       "    </tr>\n",
       "    <tr>\n",
       "      <th>nn</th>\n",
       "      <td>0.983333</td>\n",
       "      <td>0.983067</td>\n",
       "      <td>0.982924</td>\n",
       "      <td>0.979016</td>\n",
       "    </tr>\n",
       "    <tr>\n",
       "      <th>KNN</th>\n",
       "      <td>0.963863</td>\n",
       "      <td>0.995745</td>\n",
       "      <td>0.979367</td>\n",
       "      <td>0.973821</td>\n",
       "    </tr>\n",
       "    <tr>\n",
       "      <th>rf</th>\n",
       "      <td>0.971088</td>\n",
       "      <td>0.983156</td>\n",
       "      <td>0.977014</td>\n",
       "      <td>0.971224</td>\n",
       "    </tr>\n",
       "    <tr>\n",
       "      <th>tree</th>\n",
       "      <td>0.952255</td>\n",
       "      <td>0.957624</td>\n",
       "      <td>0.95384</td>\n",
       "      <td>0.942276</td>\n",
       "    </tr>\n",
       "    <tr>\n",
       "      <th>dummy</th>\n",
       "      <td>0.600344</td>\n",
       "      <td>0.593351</td>\n",
       "      <td>0.59568</td>\n",
       "      <td>0.50663</td>\n",
       "    </tr>\n",
       "  </tbody>\n",
       "</table></div>"
      ],
      "text/plain": [
       "         precision    recall        f1  accuracy\n",
       "logistic  0.983333  0.987323   0.98517  0.981647\n",
       "nn        0.983333  0.983067  0.982924  0.979016\n",
       "KNN       0.963863  0.995745  0.979367  0.973821\n",
       "rf        0.971088  0.983156  0.977014  0.971224\n",
       "tree      0.952255  0.957624   0.95384  0.942276\n",
       "dummy     0.600344  0.593351   0.59568   0.50663"
      ]
     },
     "execution_count": 89,
     "metadata": {},
     "output_type": "execute_result"
    }
   ],
   "source": [
    "for nome, modelo in modelos.items():\n",
    "    modelo.fit(Xtrn,ytrn)\n",
    "    ypred = modelo.predict(Xtst)\n",
    "    \n",
    "    cv = cross_validate(modelo, Xtrn, ytrn, scoring = ['precision','recall','f1','accuracy'])\n",
    "    \n",
    "    precision = cv['test_precision'].mean()\n",
    "    recall = cv['test_recall'].mean()\n",
    "    f1 = cv['test_f1'].mean()\n",
    "    accuracy = cv['test_accuracy'].mean()\n",
    "    \n",
    "    resultados.loc[nome,:] = precision, recall, f1, accuracy\n",
    "    modelos[nome] = modelo\n",
    "\n",
    "resultados.sort_values('accuracy',ascending=False)"
   ]
  },
  {
   "cell_type": "markdown",
   "metadata": {
    "tags": []
   },
   "source": [
    "# Comparação dos modelos via AUC e ROC"
   ]
  },
  {
   "cell_type": "code",
   "execution_count": 90,
   "metadata": {},
   "outputs": [],
   "source": [
    "from sklearn.dummy import DummyClassifier\n",
    "from sklearn.linear_model import LogisticRegression\n",
    "from sklearn.neighbors import KNeighborsClassifier\n",
    "from sklearn.tree import DecisionTreeClassifier\n",
    "from sklearn.ensemble import RandomForestClassifier\n",
    "from sklearn.neural_network import MLPClassifier\n",
    "\n",
    "from sklearn.metrics import precision_score, recall_score, f1_score, accuracy_score, roc_curve, roc_auc_score"
   ]
  },
  {
   "cell_type": "code",
   "execution_count": 91,
   "metadata": {},
   "outputs": [
    {
     "data": {
      "text/html": [
       "<div><div id=e09a2bd0-d76d-40c4-b8b9-967e10ddd407 style=\"display:none; background-color:#9D6CFF; color:white; width:200px; height:30px; padding-left:5px; border-radius:4px; flex-direction:row; justify-content:space-around; align-items:center;\" onmouseover=\"this.style.backgroundColor='#BA9BF8'\" onmouseout=\"this.style.backgroundColor='#9D6CFF'\" onclick=\"window.commands?.execute('create-mitosheet-from-dataframe-output');\">See Full Dataframe in Mito</div> <script> if (window.commands.hasCommand('create-mitosheet-from-dataframe-output')) document.getElementById('e09a2bd0-d76d-40c4-b8b9-967e10ddd407').style.display = 'flex' </script> <table border=\"1\" class=\"dataframe\">\n",
       "  <thead>\n",
       "    <tr style=\"text-align: right;\">\n",
       "      <th></th>\n",
       "      <th>precision</th>\n",
       "      <th>recall</th>\n",
       "      <th>f1</th>\n",
       "      <th>accuracy</th>\n",
       "      <th>auc</th>\n",
       "    </tr>\n",
       "  </thead>\n",
       "  <tbody>\n",
       "    <tr>\n",
       "      <th>dummy</th>\n",
       "      <td>NaN</td>\n",
       "      <td>NaN</td>\n",
       "      <td>NaN</td>\n",
       "      <td>NaN</td>\n",
       "      <td>NaN</td>\n",
       "    </tr>\n",
       "    <tr>\n",
       "      <th>logistic</th>\n",
       "      <td>NaN</td>\n",
       "      <td>NaN</td>\n",
       "      <td>NaN</td>\n",
       "      <td>NaN</td>\n",
       "      <td>NaN</td>\n",
       "    </tr>\n",
       "    <tr>\n",
       "      <th>KNN</th>\n",
       "      <td>NaN</td>\n",
       "      <td>NaN</td>\n",
       "      <td>NaN</td>\n",
       "      <td>NaN</td>\n",
       "      <td>NaN</td>\n",
       "    </tr>\n",
       "    <tr>\n",
       "      <th>tree</th>\n",
       "      <td>NaN</td>\n",
       "      <td>NaN</td>\n",
       "      <td>NaN</td>\n",
       "      <td>NaN</td>\n",
       "      <td>NaN</td>\n",
       "    </tr>\n",
       "    <tr>\n",
       "      <th>rf</th>\n",
       "      <td>NaN</td>\n",
       "      <td>NaN</td>\n",
       "      <td>NaN</td>\n",
       "      <td>NaN</td>\n",
       "      <td>NaN</td>\n",
       "    </tr>\n",
       "    <tr>\n",
       "      <th>nn</th>\n",
       "      <td>NaN</td>\n",
       "      <td>NaN</td>\n",
       "      <td>NaN</td>\n",
       "      <td>NaN</td>\n",
       "      <td>NaN</td>\n",
       "    </tr>\n",
       "  </tbody>\n",
       "</table></div>"
      ],
      "text/plain": [
       "         precision recall   f1 accuracy  auc\n",
       "dummy          NaN    NaN  NaN      NaN  NaN\n",
       "logistic       NaN    NaN  NaN      NaN  NaN\n",
       "KNN            NaN    NaN  NaN      NaN  NaN\n",
       "tree           NaN    NaN  NaN      NaN  NaN\n",
       "rf             NaN    NaN  NaN      NaN  NaN\n",
       "nn             NaN    NaN  NaN      NaN  NaN"
      ]
     },
     "execution_count": 91,
     "metadata": {},
     "output_type": "execute_result"
    }
   ],
   "source": [
    "resultados = pd.DataFrame([], index = modelos.keys(), columns=['precision','recall','f1','accuracy','auc'])\n",
    "resultados"
   ]
  },
  {
   "cell_type": "code",
   "execution_count": 92,
   "metadata": {},
   "outputs": [
    {
     "data": {
      "image/png": "[encoded data removed]",
      "text/plain": [
       "<Figure size 720x720 with 1 Axes>"
      ]
     },
     "metadata": {},
     "output_type": "display_data"
    }
   ],
   "source": [
    "plt.figure(figsize=(10,10))\n",
    "\n",
    "for nome, modelo in modelos.items():\n",
    "    modelo.fit(Xtrn,ytrn)\n",
    "    ypred = modelo.predict(Xtst)\n",
    "    ppred = modelo.predict_proba(Xtst)[:,1]\n",
    "    \n",
    "\n",
    "    \n",
    "    precision = precision_score(ytst, ypred)\n",
    "    recall = recall_score(ytst, ypred)\n",
    "    f1 = f1_score(ytst, ypred)\n",
    "    accuracy = accuracy_score(ytst, ypred)\n",
    "    auc = roc_auc_score(ytst, ppred)\n",
    "    \n",
    "    resultados.loc[nome,:] = precision, recall, f1, accuracy, auc\n",
    "    \n",
    "    fpr, tpr, _ = roc_curve(ytst, ppred)\n",
    "    plt.plot(fpr, tpr, label=f'{nome} ({auc:.2f})')\n",
    "    \n",
    "    modelos[nome] = modelo\n",
    "\n",
    "plt.title('Curvas ROC')\n",
    "plt.xlabel('False Positive Rate')\n",
    "plt.ylabel('True Positive Rate')\n",
    "plt.plot([0,1],[0,1], c='gray', linestyle='dashed', label='aleatório')\n",
    "plt.legend()\n",
    "plt.axis('square')\n",
    "plt.show()"
   ]
  },
  {
   "cell_type": "code",
   "execution_count": 93,
   "metadata": {},
   "outputs": [
    {
     "data": {
      "text/html": [
       "<div><div id=14450ca8-c8d6-4fa0-8d11-b4d9f056d6b0 style=\"display:none; background-color:#9D6CFF; color:white; width:200px; height:30px; padding-left:5px; border-radius:4px; flex-direction:row; justify-content:space-around; align-items:center;\" onmouseover=\"this.style.backgroundColor='#BA9BF8'\" onmouseout=\"this.style.backgroundColor='#9D6CFF'\" onclick=\"window.commands?.execute('create-mitosheet-from-dataframe-output');\">See Full Dataframe in Mito</div> <script> if (window.commands.hasCommand('create-mitosheet-from-dataframe-output')) document.getElementById('14450ca8-c8d6-4fa0-8d11-b4d9f056d6b0').style.display = 'flex' </script> <table border=\"1\" class=\"dataframe\">\n",
       "  <thead>\n",
       "    <tr style=\"text-align: right;\">\n",
       "      <th></th>\n",
       "      <th>precision</th>\n",
       "      <th>recall</th>\n",
       "      <th>f1</th>\n",
       "      <th>accuracy</th>\n",
       "      <th>auc</th>\n",
       "    </tr>\n",
       "  </thead>\n",
       "  <tbody>\n",
       "    <tr>\n",
       "      <th>nn</th>\n",
       "      <td>0.96</td>\n",
       "      <td>0.991736</td>\n",
       "      <td>0.97561</td>\n",
       "      <td>0.968085</td>\n",
       "      <td>0.990749</td>\n",
       "    </tr>\n",
       "    <tr>\n",
       "      <th>logistic</th>\n",
       "      <td>0.960317</td>\n",
       "      <td>1.0</td>\n",
       "      <td>0.979757</td>\n",
       "      <td>0.973404</td>\n",
       "      <td>0.990132</td>\n",
       "    </tr>\n",
       "    <tr>\n",
       "      <th>rf</th>\n",
       "      <td>0.943548</td>\n",
       "      <td>0.966942</td>\n",
       "      <td>0.955102</td>\n",
       "      <td>0.941489</td>\n",
       "      <td>0.975083</td>\n",
       "    </tr>\n",
       "    <tr>\n",
       "      <th>KNN</th>\n",
       "      <td>0.915385</td>\n",
       "      <td>0.983471</td>\n",
       "      <td>0.948207</td>\n",
       "      <td>0.930851</td>\n",
       "      <td>0.964475</td>\n",
       "    </tr>\n",
       "    <tr>\n",
       "      <th>tree</th>\n",
       "      <td>0.928571</td>\n",
       "      <td>0.966942</td>\n",
       "      <td>0.947368</td>\n",
       "      <td>0.930851</td>\n",
       "      <td>0.916307</td>\n",
       "    </tr>\n",
       "    <tr>\n",
       "      <th>dummy</th>\n",
       "      <td>0.680672</td>\n",
       "      <td>0.669421</td>\n",
       "      <td>0.675</td>\n",
       "      <td>0.585106</td>\n",
       "      <td>0.509683</td>\n",
       "    </tr>\n",
       "  </tbody>\n",
       "</table></div>"
      ],
      "text/plain": [
       "         precision    recall        f1  accuracy       auc\n",
       "nn            0.96  0.991736   0.97561  0.968085  0.990749\n",
       "logistic  0.960317       1.0  0.979757  0.973404  0.990132\n",
       "rf        0.943548  0.966942  0.955102  0.941489  0.975083\n",
       "KNN       0.915385  0.983471  0.948207  0.930851  0.964475\n",
       "tree      0.928571  0.966942  0.947368  0.930851  0.916307\n",
       "dummy     0.680672  0.669421     0.675  0.585106  0.509683"
      ]
     },
     "execution_count": 93,
     "metadata": {},
     "output_type": "execute_result"
    }
   ],
   "source": [
    "resultados.sort_values('auc', ascending=False)"
   ]
  },
  {
   "cell_type": "code",
   "execution_count": 94,
   "metadata": {},
   "outputs": [
    {
     "data": {
      "image/png": "[encoded data removed]",
      "text/plain": [
       "<Figure size 720x720 with 1 Axes>"
      ]
     },
     "metadata": {},
     "output_type": "display_data"
    }
   ],
   "source": [
    "plt.figure(figsize=(10,10))\n",
    "\n",
    "for nome, modelo in modelos.items():\n",
    "        \n",
    "    modelo.fit(Xtrn,ytrn)\n",
    "    ypred = modelo.predict(Xtst)\n",
    "    ppred = modelo.predict_proba(Xtst)[:,1]\n",
    "    \n",
    "\n",
    "    \n",
    "    precision = precision_score(ytst, ypred)\n",
    "    recall = recall_score(ytst, ypred)\n",
    "    f1 = f1_score(ytst, ypred)\n",
    "    accuracy = accuracy_score(ytst, ypred)\n",
    "    auc = roc_auc_score(ytst, ppred)\n",
    "    \n",
    "    resultados.loc[nome,:] = precision, recall, f1, accuracy, auc\n",
    "    \n",
    "    fpr, tpr, _ = roc_curve(ytst, ppred)\n",
    "    \n",
    "    if nome == 'nn':\n",
    "        plt.plot(fpr, tpr, label=f'{nome} ({auc:.2f})', c='navy')\n",
    "    else:\n",
    "        plt.plot(fpr, tpr, c='lightgray')\n",
    "    \n",
    "    modelos[nome] = modelo\n",
    "\n",
    "\n",
    "plt.title('Curvas ROC')\n",
    "plt.xlabel('False Positive Rate')\n",
    "plt.ylabel('True Positive Rate')\n",
    "plt.legend()\n",
    "plt.axis('square')\n",
    "plt.show()\n"
   ]
  },
  {
   "cell_type": "markdown",
   "metadata": {},
   "source": [
    "# Investigando um modelo mais a fundo..."
   ]
  },
  {
   "cell_type": "code",
   "execution_count": 95,
   "metadata": {},
   "outputs": [],
   "source": [
    "modelo = modelos['KNN']"
   ]
  },
  {
   "cell_type": "code",
   "execution_count": 96,
   "metadata": {},
   "outputs": [
    {
     "data": {
      "text/plain": [
       "array([0, 1, 1, 1, 0, 1, 1, 1, 1, 1, 0, 0, 0, 0, 1, 0, 0, 0, 0, 1, 0, 0,\n",
       "       1, 1, 1, 1, 0, 1, 1, 0, 1, 1, 1, 0, 1, 1, 1, 1, 0, 1, 1, 1, 1, 0,\n",
       "       0, 1, 0, 1, 0, 0, 0, 1, 1, 1, 0, 0, 1, 1, 0, 1, 1, 1, 1, 1, 1, 1,\n",
       "       1, 0, 1, 1, 1, 1, 1, 1, 1, 0, 1, 1, 1, 1, 1, 0, 1, 0, 1, 1, 1, 1,\n",
       "       1, 1, 0, 1, 0, 1, 0, 1, 0, 1, 1, 1, 1, 1, 1, 0, 1, 0, 1, 0, 0, 0,\n",
       "       1, 1, 1, 0, 1, 1, 1, 1, 0, 0, 1, 1, 1, 1, 1, 1, 1, 1, 1, 1, 1, 0,\n",
       "       1, 0, 0, 0, 0, 1, 0, 1, 1, 0, 0, 1, 0, 1, 1, 0, 1, 1, 1, 1, 0, 1,\n",
       "       1, 1, 0, 1, 0, 1, 0, 1, 1, 1, 1, 1, 1, 1, 1, 1, 0, 1, 1, 0, 0, 0,\n",
       "       0, 0, 1, 0, 0, 1, 1, 1, 0, 0, 1, 1, 1, 1, 0, 1, 1, 0, 0, 1, 1, 1,\n",
       "       1, 0, 1, 0, 0, 1, 1, 1, 1, 1, 0, 0, 1, 0, 1, 1, 0, 1, 1, 0, 1, 1,\n",
       "       1, 1, 1, 0, 1, 1, 1, 1, 0, 1, 0, 1, 1, 1, 0, 1, 0, 1, 0, 1, 1, 0,\n",
       "       0, 1, 0, 1, 0, 0, 1, 0, 1, 1, 1, 0, 1, 1, 0, 1, 1, 0, 0, 1, 0, 0,\n",
       "       1, 1, 1, 0, 1, 1, 1, 1, 0, 1, 1, 1, 1, 1, 0, 0, 1, 1, 0, 1, 0, 0,\n",
       "       1, 1, 1, 0, 0, 0, 0, 0, 1, 1, 1, 0, 0, 0, 0, 0, 0, 0, 1, 0, 1, 1,\n",
       "       1, 1, 0, 1, 1, 1, 1, 1, 0, 0, 0, 1, 0, 1, 1, 1, 1, 1, 0, 0, 0, 1,\n",
       "       0, 1, 1, 0, 1, 0, 0, 1, 1, 1, 0, 1, 1, 0, 0, 1, 0, 1, 1, 1, 1, 1,\n",
       "       0, 1, 1, 0, 1, 1, 0, 0, 1, 1, 0, 1, 1, 0, 1, 1, 0, 1, 1, 0, 0, 1,\n",
       "       1, 0, 1, 1, 1, 1, 1])"
      ]
     },
     "execution_count": 96,
     "metadata": {},
     "output_type": "execute_result"
    }
   ],
   "source": [
    "previsao = modelo.predict(Xtrn)\n",
    "previsao"
   ]
  },
  {
   "cell_type": "code",
   "execution_count": 97,
   "metadata": {},
   "outputs": [
    {
     "data": {
      "text/plain": [
       "array([[1. , 0. ],\n",
       "       [0.4, 0.6],\n",
       "       [0. , 1. ],\n",
       "       [0. , 1. ],\n",
       "       [1. , 0. ],\n",
       "       [0. , 1. ],\n",
       "       [0. , 1. ],\n",
       "       [0. , 1. ],\n",
       "       [0. , 1. ],\n",
       "       [0.2, 0.8]])"
      ]
     },
     "execution_count": 97,
     "metadata": {},
     "output_type": "execute_result"
    }
   ],
   "source": [
    "modelo.predict_proba(Xtrn)[:10,:]"
   ]
  },
  {
   "cell_type": "code",
   "execution_count": 98,
   "metadata": {},
   "outputs": [
    {
     "data": {
      "image/png": "[encoded data removed]",
      "text/plain": [
       "<Figure size 576x396 with 1 Axes>"
      ]
     },
     "metadata": {},
     "output_type": "display_data"
    }
   ],
   "source": [
    "class_prediction_error(modelo, Xtrn, ytrn, Xtst, ytst, is_fitted=True);"
   ]
  },
  {
   "cell_type": "code",
   "execution_count": 99,
   "metadata": {},
   "outputs": [
    {
     "data": {
      "image/png": "[encoded data removed]",
      "text/plain": [
       "<Figure size 576x396 with 1 Axes>"
      ]
     },
     "metadata": {},
     "output_type": "display_data"
    }
   ],
   "source": [
    "confusion_matrix(modelo, Xtrn, ytrn, Xtst, ytst, is_fitted=True);"
   ]
  },
  {
   "cell_type": "code",
   "execution_count": 100,
   "metadata": {},
   "outputs": [
    {
     "data": {
      "image/png": "[encoded data removed]",
      "text/plain": [
       "<Figure size 576x396 with 2 Axes>"
      ]
     },
     "metadata": {},
     "output_type": "display_data"
    }
   ],
   "source": [
    "classification_report(modelo, Xtrn, ytrn, Xtst, ytst, is_fitted=True);"
   ]
  },
  {
   "cell_type": "code",
   "execution_count": 101,
   "metadata": {},
   "outputs": [
    {
     "data": {
      "image/png": "[encoded data removed]",
      "text/plain": [
       "<Figure size 576x396 with 1 Axes>"
      ]
     },
     "metadata": {},
     "output_type": "display_data"
    }
   ],
   "source": [
    "roc_auc(modelo, Xtrn, ytrn, Xtst, ytst, is_fitted=True);"
   ]
  },
  {
   "cell_type": "code",
   "execution_count": 102,
   "metadata": {},
   "outputs": [
    {
     "data": {
      "image/png": "[encoded data removed]",
      "text/plain": [
       "<Figure size 576x396 with 1 Axes>"
      ]
     },
     "metadata": {},
     "output_type": "display_data"
    }
   ],
   "source": [
    "discrimination_threshold(modelo, Xtrn, ytrn, exclude=['queue_rate'], is_fitted=True);"
   ]
  },
  {
   "cell_type": "markdown",
   "metadata": {},
   "source": [
    "# Hyperparameter tuning\n",
    "\n",
    "* O que são hiperparâmetros\n",
    "* Por que otimizar hiperparâmetros?\n",
    "* Técnicas:\n",
    "    * Grid search\n",
    "    * Random search\n",
    "    * Otimização Bayesiana\n",
    "\n",
    "Aqui vamos fazer a mais simples: Grid Search."
   ]
  },
  {
   "cell_type": "code",
   "execution_count": 103,
   "metadata": {},
   "outputs": [],
   "source": [
    "from sklearn.model_selection import GridSearchCV"
   ]
  },
  {
   "cell_type": "code",
   "execution_count": 104,
   "metadata": {},
   "outputs": [
    {
     "data": {
      "text/plain": [
       "{'mean_fit_time': array([0.00199594, 0.00124836, 0.00118775, 0.00119648, 0.00122757,\n",
       "        0.00119519, 0.00119715, 0.00140095, 0.00106692, 0.0013907 ,\n",
       "        0.00119524, 0.0014102 , 0.00083833, 0.0009778 , 0.00118608,\n",
       "        0.00124774]),\n",
       " 'std_fit_time': array([6.54068417e-04, 2.44999424e-04, 4.43265278e-04, 3.98350846e-04,\n",
       "        3.88301922e-04, 3.98996666e-04, 3.99208097e-04, 3.77588706e-04,\n",
       "        9.06270386e-05, 3.67427150e-04, 4.00143560e-04, 4.97844561e-04,\n",
       "        4.26689956e-04, 3.59781141e-05, 3.82446095e-04, 2.95747560e-04]),\n",
       " 'mean_score_time': array([0.00524149, 0.00180068, 0.00457602, 0.00219874, 0.00445604,\n",
       "        0.0021956 , 0.00418844, 0.00198998, 0.00412292, 0.00202236,\n",
       "        0.00459442, 0.00238013, 0.0042686 , 0.00413203, 0.00498891,\n",
       "        0.00313826]),\n",
       " 'std_score_time': array([1.43332515e-03, 7.00288278e-04, 4.80224958e-04, 3.97740744e-04,\n",
       "        4.50909859e-04, 3.97991528e-04, 3.98922024e-04, 5.54870727e-04,\n",
       "        4.48270486e-04, 2.66365035e-04, 4.76608999e-04, 5.01782133e-04,\n",
       "        4.46583632e-04, 3.45898826e-03, 8.05981756e-06, 2.15948720e-04]),\n",
       " 'param_n_neighbors': masked_array(data=[1, 1, 1, 1, 5, 5, 5, 5, 10, 10, 10, 10, 50, 50, 50, 50],\n",
       "              mask=[False, False, False, False, False, False, False, False,\n",
       "                    False, False, False, False, False, False, False, False],\n",
       "        fill_value='?',\n",
       "             dtype=object),\n",
       " 'param_p': masked_array(data=[1, 1, 2, 2, 1, 1, 2, 2, 1, 1, 2, 2, 1, 1, 2, 2],\n",
       "              mask=[False, False, False, False, False, False, False, False,\n",
       "                    False, False, False, False, False, False, False, False],\n",
       "        fill_value='?',\n",
       "             dtype=object),\n",
       " 'param_weights': masked_array(data=['uniform', 'distance', 'uniform', 'distance',\n",
       "                    'uniform', 'distance', 'uniform', 'distance',\n",
       "                    'uniform', 'distance', 'uniform', 'distance',\n",
       "                    'uniform', 'distance', 'uniform', 'distance'],\n",
       "              mask=[False, False, False, False, False, False, False, False,\n",
       "                    False, False, False, False, False, False, False, False],\n",
       "        fill_value='?',\n",
       "             dtype=object),\n",
       " 'params': [{'n_neighbors': 1, 'p': 1, 'weights': 'uniform'},\n",
       "  {'n_neighbors': 1, 'p': 1, 'weights': 'distance'},\n",
       "  {'n_neighbors': 1, 'p': 2, 'weights': 'uniform'},\n",
       "  {'n_neighbors': 1, 'p': 2, 'weights': 'distance'},\n",
       "  {'n_neighbors': 5, 'p': 1, 'weights': 'uniform'},\n",
       "  {'n_neighbors': 5, 'p': 1, 'weights': 'distance'},\n",
       "  {'n_neighbors': 5, 'p': 2, 'weights': 'uniform'},\n",
       "  {'n_neighbors': 5, 'p': 2, 'weights': 'distance'},\n",
       "  {'n_neighbors': 10, 'p': 1, 'weights': 'uniform'},\n",
       "  {'n_neighbors': 10, 'p': 1, 'weights': 'distance'},\n",
       "  {'n_neighbors': 10, 'p': 2, 'weights': 'uniform'},\n",
       "  {'n_neighbors': 10, 'p': 2, 'weights': 'distance'},\n",
       "  {'n_neighbors': 50, 'p': 1, 'weights': 'uniform'},\n",
       "  {'n_neighbors': 50, 'p': 1, 'weights': 'distance'},\n",
       "  {'n_neighbors': 50, 'p': 2, 'weights': 'uniform'},\n",
       "  {'n_neighbors': 50, 'p': 2, 'weights': 'distance'}],\n",
       " 'split0_test_score': array([0.93506494, 0.93506494, 0.96103896, 0.96103896, 0.92207792,\n",
       "        0.92207792, 0.94805195, 0.94805195, 0.92207792, 0.92207792,\n",
       "        0.90909091, 0.92207792, 0.92207792, 0.92207792, 0.90909091,\n",
       "        0.90909091]),\n",
       " 'split1_test_score': array([0.97368421, 0.97368421, 0.97368421, 0.97368421, 0.97368421,\n",
       "        0.97368421, 0.97368421, 0.97368421, 0.94736842, 0.96052632,\n",
       "        0.96052632, 0.96052632, 0.93421053, 0.96052632, 0.93421053,\n",
       "        0.94736842]),\n",
       " 'split2_test_score': array([0.97368421, 0.97368421, 0.97368421, 0.97368421, 0.97368421,\n",
       "        0.97368421, 0.98684211, 0.98684211, 0.97368421, 0.97368421,\n",
       "        0.98684211, 0.98684211, 0.96052632, 0.96052632, 0.92105263,\n",
       "        0.94736842]),\n",
       " 'split3_test_score': array([0.97368421, 0.97368421, 0.98684211, 0.98684211, 0.98684211,\n",
       "        0.98684211, 0.98684211, 0.98684211, 0.98684211, 0.98684211,\n",
       "        0.98684211, 0.98684211, 0.97368421, 0.97368421, 0.97368421,\n",
       "        0.97368421]),\n",
       " 'split4_test_score': array([0.97368421, 0.97368421, 0.97368421, 0.97368421, 0.97368421,\n",
       "        0.97368421, 0.97368421, 0.97368421, 0.98684211, 0.98684211,\n",
       "        0.97368421, 0.97368421, 0.96052632, 0.96052632, 0.96052632,\n",
       "        0.96052632]),\n",
       " 'mean_test_score': array([0.96596036, 0.96596036, 0.97378674, 0.97378674, 0.96599453,\n",
       "        0.96599453, 0.97382092, 0.97382092, 0.96336295, 0.96599453,\n",
       "        0.96339713, 0.96599453, 0.95020506, 0.95546822, 0.93971292,\n",
       "        0.94760766]),\n",
       " 'std_test_score': array([0.01544771, 0.01544771, 0.00816064, 0.00816064, 0.02254189,\n",
       "        0.02254189, 0.0141646 , 0.0141646 , 0.02517677, 0.02402892,\n",
       "        0.0288533 , 0.02402892, 0.01903307, 0.01745559, 0.02409745,\n",
       "        0.0215895 ]),\n",
       " 'rank_test_score': array([ 9,  9,  3,  3,  5,  5,  1,  1, 12,  5, 11,  5, 14, 13, 16, 15])}"
      ]
     },
     "execution_count": 104,
     "metadata": {},
     "output_type": "execute_result"
    }
   ],
   "source": [
    "grid = {'n_neighbors': [1, 5, 10, 50], \n",
    "        'weights': ['uniform','distance'], \n",
    "        'p':[1,2]}\n",
    "\n",
    "gscv = GridSearchCV(KNeighborsClassifier(), grid, scoring='accuracy', cv=5).fit(Xtrn, ytrn)\n",
    "\n",
    "gscv.cv_results_"
   ]
  },
  {
   "cell_type": "code",
   "execution_count": 105,
   "metadata": {},
   "outputs": [
    {
     "data": {
      "text/html": [
       "<div><div id=77188843-836a-403e-8c09-767fe79edcac style=\"display:none; background-color:#9D6CFF; color:white; width:200px; height:30px; padding-left:5px; border-radius:4px; flex-direction:row; justify-content:space-around; align-items:center;\" onmouseover=\"this.style.backgroundColor='#BA9BF8'\" onmouseout=\"this.style.backgroundColor='#9D6CFF'\" onclick=\"window.commands?.execute('create-mitosheet-from-dataframe-output');\">See Full Dataframe in Mito</div> <script> if (window.commands.hasCommand('create-mitosheet-from-dataframe-output')) document.getElementById('77188843-836a-403e-8c09-767fe79edcac').style.display = 'flex' </script> <table border=\"1\" class=\"dataframe\">\n",
       "  <thead>\n",
       "    <tr style=\"text-align: right;\">\n",
       "      <th></th>\n",
       "      <th>mean_fit_time</th>\n",
       "      <th>std_fit_time</th>\n",
       "      <th>mean_score_time</th>\n",
       "      <th>std_score_time</th>\n",
       "      <th>param_n_neighbors</th>\n",
       "      <th>param_p</th>\n",
       "      <th>param_weights</th>\n",
       "      <th>params</th>\n",
       "      <th>split0_test_score</th>\n",
       "      <th>split1_test_score</th>\n",
       "      <th>split2_test_score</th>\n",
       "      <th>split3_test_score</th>\n",
       "      <th>split4_test_score</th>\n",
       "      <th>mean_test_score</th>\n",
       "      <th>std_test_score</th>\n",
       "      <th>rank_test_score</th>\n",
       "    </tr>\n",
       "  </thead>\n",
       "  <tbody>\n",
       "    <tr>\n",
       "      <th>6</th>\n",
       "      <td>0.001197</td>\n",
       "      <td>0.000399</td>\n",
       "      <td>0.004188</td>\n",
       "      <td>0.000399</td>\n",
       "      <td>5</td>\n",
       "      <td>2</td>\n",
       "      <td>uniform</td>\n",
       "      <td>{'n_neighbors': 5, 'p': 2, 'weights': 'uniform'}</td>\n",
       "      <td>0.948052</td>\n",
       "      <td>0.973684</td>\n",
       "      <td>0.986842</td>\n",
       "      <td>0.986842</td>\n",
       "      <td>0.973684</td>\n",
       "      <td>0.973821</td>\n",
       "      <td>0.014165</td>\n",
       "      <td>1</td>\n",
       "    </tr>\n",
       "    <tr>\n",
       "      <th>7</th>\n",
       "      <td>0.001401</td>\n",
       "      <td>0.000378</td>\n",
       "      <td>0.001990</td>\n",
       "      <td>0.000555</td>\n",
       "      <td>5</td>\n",
       "      <td>2</td>\n",
       "      <td>distance</td>\n",
       "      <td>{'n_neighbors': 5, 'p': 2, 'weights': 'distance'}</td>\n",
       "      <td>0.948052</td>\n",
       "      <td>0.973684</td>\n",
       "      <td>0.986842</td>\n",
       "      <td>0.986842</td>\n",
       "      <td>0.973684</td>\n",
       "      <td>0.973821</td>\n",
       "      <td>0.014165</td>\n",
       "      <td>1</td>\n",
       "    </tr>\n",
       "    <tr>\n",
       "      <th>2</th>\n",
       "      <td>0.001188</td>\n",
       "      <td>0.000443</td>\n",
       "      <td>0.004576</td>\n",
       "      <td>0.000480</td>\n",
       "      <td>1</td>\n",
       "      <td>2</td>\n",
       "      <td>uniform</td>\n",
       "      <td>{'n_neighbors': 1, 'p': 2, 'weights': 'uniform'}</td>\n",
       "      <td>0.961039</td>\n",
       "      <td>0.973684</td>\n",
       "      <td>0.973684</td>\n",
       "      <td>0.986842</td>\n",
       "      <td>0.973684</td>\n",
       "      <td>0.973787</td>\n",
       "      <td>0.008161</td>\n",
       "      <td>3</td>\n",
       "    </tr>\n",
       "    <tr>\n",
       "      <th>3</th>\n",
       "      <td>0.001196</td>\n",
       "      <td>0.000398</td>\n",
       "      <td>0.002199</td>\n",
       "      <td>0.000398</td>\n",
       "      <td>1</td>\n",
       "      <td>2</td>\n",
       "      <td>distance</td>\n",
       "      <td>{'n_neighbors': 1, 'p': 2, 'weights': 'distance'}</td>\n",
       "      <td>0.961039</td>\n",
       "      <td>0.973684</td>\n",
       "      <td>0.973684</td>\n",
       "      <td>0.986842</td>\n",
       "      <td>0.973684</td>\n",
       "      <td>0.973787</td>\n",
       "      <td>0.008161</td>\n",
       "      <td>3</td>\n",
       "    </tr>\n",
       "    <tr>\n",
       "      <th>4</th>\n",
       "      <td>0.001228</td>\n",
       "      <td>0.000388</td>\n",
       "      <td>0.004456</td>\n",
       "      <td>0.000451</td>\n",
       "      <td>5</td>\n",
       "      <td>1</td>\n",
       "      <td>uniform</td>\n",
       "      <td>{'n_neighbors': 5, 'p': 1, 'weights': 'uniform'}</td>\n",
       "      <td>0.922078</td>\n",
       "      <td>0.973684</td>\n",
       "      <td>0.973684</td>\n",
       "      <td>0.986842</td>\n",
       "      <td>0.973684</td>\n",
       "      <td>0.965995</td>\n",
       "      <td>0.022542</td>\n",
       "      <td>5</td>\n",
       "    </tr>\n",
       "    <tr>\n",
       "      <th>5</th>\n",
       "      <td>0.001195</td>\n",
       "      <td>0.000399</td>\n",
       "      <td>0.002196</td>\n",
       "      <td>0.000398</td>\n",
       "      <td>5</td>\n",
       "      <td>1</td>\n",
       "      <td>distance</td>\n",
       "      <td>{'n_neighbors': 5, 'p': 1, 'weights': 'distance'}</td>\n",
       "      <td>0.922078</td>\n",
       "      <td>0.973684</td>\n",
       "      <td>0.973684</td>\n",
       "      <td>0.986842</td>\n",
       "      <td>0.973684</td>\n",
       "      <td>0.965995</td>\n",
       "      <td>0.022542</td>\n",
       "      <td>5</td>\n",
       "    </tr>\n",
       "    <tr>\n",
       "      <th>9</th>\n",
       "      <td>0.001391</td>\n",
       "      <td>0.000367</td>\n",
       "      <td>0.002022</td>\n",
       "      <td>0.000266</td>\n",
       "      <td>10</td>\n",
       "      <td>1</td>\n",
       "      <td>distance</td>\n",
       "      <td>{'n_neighbors': 10, 'p': 1, 'weights': 'distance'}</td>\n",
       "      <td>0.922078</td>\n",
       "      <td>0.960526</td>\n",
       "      <td>0.973684</td>\n",
       "      <td>0.986842</td>\n",
       "      <td>0.986842</td>\n",
       "      <td>0.965995</td>\n",
       "      <td>0.024029</td>\n",
       "      <td>5</td>\n",
       "    </tr>\n",
       "    <tr>\n",
       "      <th>11</th>\n",
       "      <td>0.001410</td>\n",
       "      <td>0.000498</td>\n",
       "      <td>0.002380</td>\n",
       "      <td>0.000502</td>\n",
       "      <td>10</td>\n",
       "      <td>2</td>\n",
       "      <td>distance</td>\n",
       "      <td>{'n_neighbors': 10, 'p': 2, 'weights': 'distance'}</td>\n",
       "      <td>0.922078</td>\n",
       "      <td>0.960526</td>\n",
       "      <td>0.986842</td>\n",
       "      <td>0.986842</td>\n",
       "      <td>0.973684</td>\n",
       "      <td>0.965995</td>\n",
       "      <td>0.024029</td>\n",
       "      <td>5</td>\n",
       "    </tr>\n",
       "    <tr>\n",
       "      <th>0</th>\n",
       "      <td>0.001996</td>\n",
       "      <td>0.000654</td>\n",
       "      <td>0.005241</td>\n",
       "      <td>0.001433</td>\n",
       "      <td>1</td>\n",
       "      <td>1</td>\n",
       "      <td>uniform</td>\n",
       "      <td>{'n_neighbors': 1, 'p': 1, 'weights': 'uniform'}</td>\n",
       "      <td>0.935065</td>\n",
       "      <td>0.973684</td>\n",
       "      <td>0.973684</td>\n",
       "      <td>0.973684</td>\n",
       "      <td>0.973684</td>\n",
       "      <td>0.965960</td>\n",
       "      <td>0.015448</td>\n",
       "      <td>9</td>\n",
       "    </tr>\n",
       "    <tr>\n",
       "      <th>1</th>\n",
       "      <td>0.001248</td>\n",
       "      <td>0.000245</td>\n",
       "      <td>0.001801</td>\n",
       "      <td>0.000700</td>\n",
       "      <td>1</td>\n",
       "      <td>1</td>\n",
       "      <td>distance</td>\n",
       "      <td>{'n_neighbors': 1, 'p': 1, 'weights': 'distance'}</td>\n",
       "      <td>0.935065</td>\n",
       "      <td>0.973684</td>\n",
       "      <td>0.973684</td>\n",
       "      <td>0.973684</td>\n",
       "      <td>0.973684</td>\n",
       "      <td>0.965960</td>\n",
       "      <td>0.015448</td>\n",
       "      <td>9</td>\n",
       "    </tr>\n",
       "    <tr>\n",
       "      <th>10</th>\n",
       "      <td>0.001195</td>\n",
       "      <td>0.000400</td>\n",
       "      <td>0.004594</td>\n",
       "      <td>0.000477</td>\n",
       "      <td>10</td>\n",
       "      <td>2</td>\n",
       "      <td>uniform</td>\n",
       "      <td>{'n_neighbors': 10, 'p': 2, 'weights': 'uniform'}</td>\n",
       "      <td>0.909091</td>\n",
       "      <td>0.960526</td>\n",
       "      <td>0.986842</td>\n",
       "      <td>0.986842</td>\n",
       "      <td>0.973684</td>\n",
       "      <td>0.963397</td>\n",
       "      <td>0.028853</td>\n",
       "      <td>11</td>\n",
       "    </tr>\n",
       "    <tr>\n",
       "      <th>8</th>\n",
       "      <td>0.001067</td>\n",
       "      <td>0.000091</td>\n",
       "      <td>0.004123</td>\n",
       "      <td>0.000448</td>\n",
       "      <td>10</td>\n",
       "      <td>1</td>\n",
       "      <td>uniform</td>\n",
       "      <td>{'n_neighbors': 10, 'p': 1, 'weights': 'uniform'}</td>\n",
       "      <td>0.922078</td>\n",
       "      <td>0.947368</td>\n",
       "      <td>0.973684</td>\n",
       "      <td>0.986842</td>\n",
       "      <td>0.986842</td>\n",
       "      <td>0.963363</td>\n",
       "      <td>0.025177</td>\n",
       "      <td>12</td>\n",
       "    </tr>\n",
       "    <tr>\n",
       "      <th>13</th>\n",
       "      <td>0.000978</td>\n",
       "      <td>0.000036</td>\n",
       "      <td>0.004132</td>\n",
       "      <td>0.003459</td>\n",
       "      <td>50</td>\n",
       "      <td>1</td>\n",
       "      <td>distance</td>\n",
       "      <td>{'n_neighbors': 50, 'p': 1, 'weights': 'distance'}</td>\n",
       "      <td>0.922078</td>\n",
       "      <td>0.960526</td>\n",
       "      <td>0.960526</td>\n",
       "      <td>0.973684</td>\n",
       "      <td>0.960526</td>\n",
       "      <td>0.955468</td>\n",
       "      <td>0.017456</td>\n",
       "      <td>13</td>\n",
       "    </tr>\n",
       "    <tr>\n",
       "      <th>12</th>\n",
       "      <td>0.000838</td>\n",
       "      <td>0.000427</td>\n",
       "      <td>0.004269</td>\n",
       "      <td>0.000447</td>\n",
       "      <td>50</td>\n",
       "      <td>1</td>\n",
       "      <td>uniform</td>\n",
       "      <td>{'n_neighbors': 50, 'p': 1, 'weights': 'uniform'}</td>\n",
       "      <td>0.922078</td>\n",
       "      <td>0.934211</td>\n",
       "      <td>0.960526</td>\n",
       "      <td>0.973684</td>\n",
       "      <td>0.960526</td>\n",
       "      <td>0.950205</td>\n",
       "      <td>0.019033</td>\n",
       "      <td>14</td>\n",
       "    </tr>\n",
       "    <tr>\n",
       "      <th>15</th>\n",
       "      <td>0.001248</td>\n",
       "      <td>0.000296</td>\n",
       "      <td>0.003138</td>\n",
       "      <td>0.000216</td>\n",
       "      <td>50</td>\n",
       "      <td>2</td>\n",
       "      <td>distance</td>\n",
       "      <td>{'n_neighbors': 50, 'p': 2, 'weights': 'distance'}</td>\n",
       "      <td>0.909091</td>\n",
       "      <td>0.947368</td>\n",
       "      <td>0.947368</td>\n",
       "      <td>0.973684</td>\n",
       "      <td>0.960526</td>\n",
       "      <td>0.947608</td>\n",
       "      <td>0.021590</td>\n",
       "      <td>15</td>\n",
       "    </tr>\n",
       "    <tr>\n",
       "      <th>14</th>\n",
       "      <td>0.001186</td>\n",
       "      <td>0.000382</td>\n",
       "      <td>0.004989</td>\n",
       "      <td>0.000008</td>\n",
       "      <td>50</td>\n",
       "      <td>2</td>\n",
       "      <td>uniform</td>\n",
       "      <td>{'n_neighbors': 50, 'p': 2, 'weights': 'uniform'}</td>\n",
       "      <td>0.909091</td>\n",
       "      <td>0.934211</td>\n",
       "      <td>0.921053</td>\n",
       "      <td>0.973684</td>\n",
       "      <td>0.960526</td>\n",
       "      <td>0.939713</td>\n",
       "      <td>0.024097</td>\n",
       "      <td>16</td>\n",
       "    </tr>\n",
       "  </tbody>\n",
       "</table></div>"
      ],
      "text/plain": [
       "    mean_fit_time  std_fit_time  mean_score_time  std_score_time  \\\n",
       "6        0.001197      0.000399         0.004188        0.000399   \n",
       "7        0.001401      0.000378         0.001990        0.000555   \n",
       "2        0.001188      0.000443         0.004576        0.000480   \n",
       "3        0.001196      0.000398         0.002199        0.000398   \n",
       "4        0.001228      0.000388         0.004456        0.000451   \n",
       "5        0.001195      0.000399         0.002196        0.000398   \n",
       "9        0.001391      0.000367         0.002022        0.000266   \n",
       "11       0.001410      0.000498         0.002380        0.000502   \n",
       "0        0.001996      0.000654         0.005241        0.001433   \n",
       "1        0.001248      0.000245         0.001801        0.000700   \n",
       "10       0.001195      0.000400         0.004594        0.000477   \n",
       "8        0.001067      0.000091         0.004123        0.000448   \n",
       "13       0.000978      0.000036         0.004132        0.003459   \n",
       "12       0.000838      0.000427         0.004269        0.000447   \n",
       "15       0.001248      0.000296         0.003138        0.000216   \n",
       "14       0.001186      0.000382         0.004989        0.000008   \n",
       "\n",
       "   param_n_neighbors param_p param_weights  \\\n",
       "6                  5       2       uniform   \n",
       "7                  5       2      distance   \n",
       "2                  1       2       uniform   \n",
       "3                  1       2      distance   \n",
       "4                  5       1       uniform   \n",
       "5                  5       1      distance   \n",
       "9                 10       1      distance   \n",
       "11                10       2      distance   \n",
       "0                  1       1       uniform   \n",
       "1                  1       1      distance   \n",
       "10                10       2       uniform   \n",
       "8                 10       1       uniform   \n",
       "13                50       1      distance   \n",
       "12                50       1       uniform   \n",
       "15                50       2      distance   \n",
       "14                50       2       uniform   \n",
       "\n",
       "                                               params  split0_test_score  \\\n",
       "6    {'n_neighbors': 5, 'p': 2, 'weights': 'uniform'}           0.948052   \n",
       "7   {'n_neighbors': 5, 'p': 2, 'weights': 'distance'}           0.948052   \n",
       "2    {'n_neighbors': 1, 'p': 2, 'weights': 'uniform'}           0.961039   \n",
       "3   {'n_neighbors': 1, 'p': 2, 'weights': 'distance'}           0.961039   \n",
       "4    {'n_neighbors': 5, 'p': 1, 'weights': 'uniform'}           0.922078   \n",
       "5   {'n_neighbors': 5, 'p': 1, 'weights': 'distance'}           0.922078   \n",
       "9   {'n_neighbors': 10, 'p': 1, 'weights': 'distan...           0.922078   \n",
       "11  {'n_neighbors': 10, 'p': 2, 'weights': 'distan...           0.922078   \n",
       "0    {'n_neighbors': 1, 'p': 1, 'weights': 'uniform'}           0.935065   \n",
       "1   {'n_neighbors': 1, 'p': 1, 'weights': 'distance'}           0.935065   \n",
       "10  {'n_neighbors': 10, 'p': 2, 'weights': 'uniform'}           0.909091   \n",
       "8   {'n_neighbors': 10, 'p': 1, 'weights': 'uniform'}           0.922078   \n",
       "13  {'n_neighbors': 50, 'p': 1, 'weights': 'distan...           0.922078   \n",
       "12  {'n_neighbors': 50, 'p': 1, 'weights': 'uniform'}           0.922078   \n",
       "15  {'n_neighbors': 50, 'p': 2, 'weights': 'distan...           0.909091   \n",
       "14  {'n_neighbors': 50, 'p': 2, 'weights': 'uniform'}           0.909091   \n",
       "\n",
       "    split1_test_score  split2_test_score  split3_test_score  \\\n",
       "6            0.973684           0.986842           0.986842   \n",
       "7            0.973684           0.986842           0.986842   \n",
       "2            0.973684           0.973684           0.986842   \n",
       "3            0.973684           0.973684           0.986842   \n",
       "4            0.973684           0.973684           0.986842   \n",
       "5            0.973684           0.973684           0.986842   \n",
       "9            0.960526           0.973684           0.986842   \n",
       "11           0.960526           0.986842           0.986842   \n",
       "0            0.973684           0.973684           0.973684   \n",
       "1            0.973684           0.973684           0.973684   \n",
       "10           0.960526           0.986842           0.986842   \n",
       "8            0.947368           0.973684           0.986842   \n",
       "13           0.960526           0.960526           0.973684   \n",
       "12           0.934211           0.960526           0.973684   \n",
       "15           0.947368           0.947368           0.973684   \n",
       "14           0.934211           0.921053           0.973684   \n",
       "\n",
       "    split4_test_score  mean_test_score  std_test_score  rank_test_score  \n",
       "6            0.973684         0.973821        0.014165                1  \n",
       "7            0.973684         0.973821        0.014165                1  \n",
       "2            0.973684         0.973787        0.008161                3  \n",
       "3            0.973684         0.973787        0.008161                3  \n",
       "4            0.973684         0.965995        0.022542                5  \n",
       "5            0.973684         0.965995        0.022542                5  \n",
       "9            0.986842         0.965995        0.024029                5  \n",
       "11           0.973684         0.965995        0.024029                5  \n",
       "0            0.973684         0.965960        0.015448                9  \n",
       "1            0.973684         0.965960        0.015448                9  \n",
       "10           0.973684         0.963397        0.028853               11  \n",
       "8            0.986842         0.963363        0.025177               12  \n",
       "13           0.960526         0.955468        0.017456               13  \n",
       "12           0.960526         0.950205        0.019033               14  \n",
       "15           0.960526         0.947608        0.021590               15  \n",
       "14           0.960526         0.939713        0.024097               16  "
      ]
     },
     "execution_count": 105,
     "metadata": {},
     "output_type": "execute_result"
    }
   ],
   "source": [
    "#Mais fácil visualizar como um dataframe\n",
    "pd.DataFrame(gscv.cv_results_).sort_values('rank_test_score')"
   ]
  },
  {
   "cell_type": "code",
   "execution_count": 106,
   "metadata": {},
   "outputs": [
    {
     "data": {
      "text/plain": [
       "{'n_neighbors': 5, 'p': 2, 'weights': 'uniform'}"
      ]
     },
     "execution_count": 106,
     "metadata": {},
     "output_type": "execute_result"
    }
   ],
   "source": [
    "gscv.best_params_"
   ]
  },
  {
   "cell_type": "code",
   "execution_count": 107,
   "metadata": {},
   "outputs": [
    {
     "data": {
      "text/plain": [
       "0.973820915926179"
      ]
     },
     "execution_count": 107,
     "metadata": {},
     "output_type": "execute_result"
    }
   ],
   "source": [
    "gscv.best_score_"
   ]
  },
  {
   "cell_type": "code",
   "execution_count": 108,
   "metadata": {},
   "outputs": [
    {
     "data": {
      "text/plain": [
       "KNeighborsClassifier()"
      ]
     },
     "execution_count": 108,
     "metadata": {},
     "output_type": "execute_result"
    }
   ],
   "source": [
    "melhor_modelo = gscv.best_estimator_\n",
    "melhor_modelo"
   ]
  },
  {
   "cell_type": "markdown",
   "metadata": {},
   "source": [
    "# Feature Importance"
   ]
  },
  {
   "cell_type": "code",
   "execution_count": 109,
   "metadata": {},
   "outputs": [],
   "source": [
    "from sklearn.inspection import permutation_importance"
   ]
  },
  {
   "cell_type": "code",
   "execution_count": 110,
   "metadata": {},
   "outputs": [
    {
     "data": {
      "text/plain": [
       "{'importances_mean': array([0.00577428, 0.00524934, 0.00472441, 0.00472441, 0.00629921,\n",
       "        0.00314961, 0.0015748 , 0.00262467, 0.00472441, 0.00787402,\n",
       "        0.00524934, 0.00209974, 0.00262467, 0.00419948, 0.00367454,\n",
       "        0.00209974, 0.00209974, 0.00682415, 0.00787402, 0.00262467,\n",
       "        0.00524934, 0.01364829, 0.00472441, 0.00472441, 0.00997375,\n",
       "        0.00472441, 0.00052493, 0.00367454, 0.00367454, 0.00472441]),\n",
       " 'importances_std': array([0.00419948, 0.00469516, 0.00451566, 0.00348202, 0.00356028,\n",
       "        0.00196412, 0.00209974, 0.00165999, 0.00306087, 0.00287518,\n",
       "        0.00165999, 0.00196412, 0.00165999, 0.00209974, 0.00392825,\n",
       "        0.00257164, 0.00104987, 0.00209974, 0.00234758, 0.00234758,\n",
       "        0.00406612, 0.00508943, 0.00419948, 0.00306087, 0.00508943,\n",
       "        0.00306087, 0.00196412, 0.00267665, 0.00314961, 0.00196412]),\n",
       " 'importances': array([[ 0.00787402,  0.00262467,  0.00262467,  0.00262467,  0.01312336],\n",
       "        [ 0.00262467,  0.00787402,  0.01049869, -0.00262467,  0.00787402],\n",
       "        [ 0.00262467,  0.00262467,  0.00524934,  0.        ,  0.01312336],\n",
       "        [ 0.00524934,  0.00524934,  0.00262467,  0.        ,  0.01049869],\n",
       "        [ 0.00524934,  0.01312336,  0.00524934,  0.00524934,  0.00262467],\n",
       "        [ 0.00524934,  0.00262467,  0.        ,  0.00524934,  0.00262467],\n",
       "        [ 0.00262467,  0.00524934,  0.        ,  0.        ,  0.        ],\n",
       "        [ 0.00262467,  0.        ,  0.00262467,  0.00262467,  0.00524934],\n",
       "        [ 0.00524934,  0.00262467,  0.00262467,  0.00262467,  0.01049869],\n",
       "        [ 0.00524934,  0.01312336,  0.00524934,  0.00787402,  0.00787402],\n",
       "        [ 0.00262467,  0.00524934,  0.00524934,  0.00524934,  0.00787402],\n",
       "        [ 0.        ,  0.00262467,  0.00262467,  0.        ,  0.00524934],\n",
       "        [ 0.        ,  0.00262467,  0.00262467,  0.00262467,  0.00524934],\n",
       "        [ 0.        ,  0.00524934,  0.00524934,  0.00524934,  0.00524934],\n",
       "        [ 0.00787402,  0.00262467,  0.00787402,  0.00262467, -0.00262467],\n",
       "        [ 0.        ,  0.00524934,  0.        ,  0.00524934,  0.        ],\n",
       "        [ 0.00262467,  0.00262467,  0.00262467,  0.00262467,  0.        ],\n",
       "        [ 0.00524934,  0.01049869,  0.00787402,  0.00524934,  0.00524934],\n",
       "        [ 0.01049869,  0.00524934,  0.00787402,  0.01049869,  0.00524934],\n",
       "        [ 0.00524934,  0.        ,  0.        ,  0.00524934,  0.00262467],\n",
       "        [ 0.00262467,  0.00262467,  0.00524934,  0.00262467,  0.01312336],\n",
       "        [ 0.00787402,  0.01574803,  0.02099738,  0.00787402,  0.01574803],\n",
       "        [ 0.00262467,  0.00262467,  0.00262467,  0.00262467,  0.01312336],\n",
       "        [ 0.00262467,  0.00524934,  0.00262467,  0.00262467,  0.01049869],\n",
       "        [ 0.00524934,  0.01312336,  0.01312336,  0.01574803,  0.00262467],\n",
       "        [ 0.00787402,  0.        ,  0.00262467,  0.00787402,  0.00524934],\n",
       "        [ 0.        ,  0.00262467, -0.00262467,  0.        ,  0.00262467],\n",
       "        [ 0.00262467,  0.00787402,  0.00524934,  0.        ,  0.00262467],\n",
       "        [ 0.00524934,  0.00787402,  0.00524934,  0.        ,  0.        ],\n",
       "        [ 0.00787402,  0.00262467,  0.00524934,  0.00524934,  0.00262467]])}"
      ]
     },
     "execution_count": 110,
     "metadata": {},
     "output_type": "execute_result"
    }
   ],
   "source": [
    "feature_importance = permutation_importance(melhor_modelo, Xtrn,ytrn, scoring='accuracy')\n",
    "feature_importance"
   ]
  },
  {
   "cell_type": "code",
   "execution_count": 111,
   "metadata": {},
   "outputs": [
    {
     "data": {
      "text/html": [
       "<div><div id=4443c9fb-3f13-41c4-a09c-dd5e71fe96c6 style=\"display:none; background-color:#9D6CFF; color:white; width:200px; height:30px; padding-left:5px; border-radius:4px; flex-direction:row; justify-content:space-around; align-items:center;\" onmouseover=\"this.style.backgroundColor='#BA9BF8'\" onmouseout=\"this.style.backgroundColor='#9D6CFF'\" onclick=\"window.commands?.execute('create-mitosheet-from-dataframe-output');\">See Full Dataframe in Mito</div> <script> if (window.commands.hasCommand('create-mitosheet-from-dataframe-output')) document.getElementById('4443c9fb-3f13-41c4-a09c-dd5e71fe96c6').style.display = 'flex' </script> <table border=\"1\" class=\"dataframe\">\n",
       "  <thead>\n",
       "    <tr style=\"text-align: right;\">\n",
       "      <th></th>\n",
       "      <th>importance</th>\n",
       "    </tr>\n",
       "  </thead>\n",
       "  <tbody>\n",
       "    <tr>\n",
       "      <th>worst texture</th>\n",
       "      <td>0.013648</td>\n",
       "    </tr>\n",
       "    <tr>\n",
       "      <th>worst smoothness</th>\n",
       "      <td>0.009974</td>\n",
       "    </tr>\n",
       "    <tr>\n",
       "      <th>mean fractal dimension</th>\n",
       "      <td>0.007874</td>\n",
       "    </tr>\n",
       "    <tr>\n",
       "      <th>symmetry error</th>\n",
       "      <td>0.007874</td>\n",
       "    </tr>\n",
       "    <tr>\n",
       "      <th>concave points error</th>\n",
       "      <td>0.006824</td>\n",
       "    </tr>\n",
       "  </tbody>\n",
       "</table></div>"
      ],
      "text/plain": [
       "                        importance\n",
       "worst texture             0.013648\n",
       "worst smoothness          0.009974\n",
       "mean fractal dimension    0.007874\n",
       "symmetry error            0.007874\n",
       "concave points error      0.006824"
      ]
     },
     "execution_count": 111,
     "metadata": {},
     "output_type": "execute_result"
    }
   ],
   "source": [
    "(pd.DataFrame(feature_importance['importances_mean'], index=X.columns, columns=['importance']).\n",
    " sort_values('importance', ascending=False).\n",
    " head()\n",
    ")"
   ]
  },
  {
   "cell_type": "code",
   "execution_count": 112,
   "metadata": {},
   "outputs": [
    {
     "data": {
      "image/png": "[encoded data removed]",
      "text/plain": [
       "<Figure size 720x720 with 4 Axes>"
      ]
     },
     "metadata": {},
     "output_type": "display_data"
    }
   ],
   "source": [
    "#Note que permutation importance não é uma boa métrica nesse caso:\n",
    "sns.clustermap(X.corr())\n",
    "pass"
   ]
  },
  {
   "cell_type": "markdown",
   "metadata": {},
   "source": [
    "Para SHAP values, veja pacote `shap` "
   ]
  },
  {
   "cell_type": "markdown",
   "metadata": {},
   "source": [
    "# Salva e carrega modelo"
   ]
  },
  {
   "cell_type": "code",
   "execution_count": 114,
   "metadata": {},
   "outputs": [],
   "source": [
    "import pickle"
   ]
  },
  {
   "cell_type": "code",
   "execution_count": 117,
   "metadata": {},
   "outputs": [],
   "source": [
    "pickle.dump(melhor_modelo, open('meu_modelo.pkl','wb'))"
   ]
  },
  {
   "cell_type": "code",
   "execution_count": 118,
   "metadata": {},
   "outputs": [],
   "source": [
    "meu_modelo = pickle.load(open('meu_modelo.pkl', 'rb'))"
   ]
  },
  {
   "cell_type": "code",
   "execution_count": 123,
   "metadata": {},
   "outputs": [
    {
     "data": {
      "text/plain": [
       "KNeighborsClassifier()"
      ]
     },
     "execution_count": 123,
     "metadata": {},
     "output_type": "execute_result"
    }
   ],
   "source": [
    "meu_modelo"
   ]
  },
  {
   "cell_type": "code",
   "execution_count": 124,
   "metadata": {},
   "outputs": [
    {
     "data": {
      "text/plain": [
       "array([1, 1, 0, 1, 0, 1, 1, 1, 1, 1, 0, 1, 0, 1, 0, 0, 0, 0, 1, 1, 1, 1,\n",
       "       1, 0, 1, 1, 1, 1, 1, 1, 0, 0, 1, 0, 1, 1, 0, 1, 1, 1, 1, 1, 1, 1,\n",
       "       1, 0, 1, 1, 0, 1, 0, 1, 1, 1, 1, 1, 0, 0, 0, 0, 1, 1, 0, 1, 0, 1,\n",
       "       1, 1, 0, 1, 0, 1, 1, 1, 0, 0, 1, 0, 0, 0, 1, 1, 0, 1, 1, 1, 1, 0,\n",
       "       1, 1, 0, 1, 0, 1, 1, 1, 0, 1, 1, 1, 0, 1, 0, 1, 1, 0, 1, 1, 1, 1,\n",
       "       1, 1, 0, 1, 1, 1, 1, 1, 1, 0, 1, 1, 0, 1, 1, 1, 0, 0, 0, 0, 1, 1,\n",
       "       0, 0, 1, 0, 1, 1, 1, 1, 0, 1, 0, 1, 1, 0, 0, 1, 1, 1, 1, 1, 1, 1,\n",
       "       1, 1, 1, 1, 1, 1, 1, 1, 0, 1, 0, 1, 1, 1, 1, 1, 1, 1, 0, 1, 1, 0,\n",
       "       1, 0, 0, 1, 0, 1, 1, 1, 1, 1, 1, 1])"
      ]
     },
     "execution_count": 124,
     "metadata": {},
     "output_type": "execute_result"
    }
   ],
   "source": [
    "meu_modelo.predict(Xtst)"
   ]
  },
  {
   "cell_type": "code",
   "execution_count": null,
   "metadata": {},
   "outputs": [],
   "source": []
  }
 ],
 "metadata": {
  "kernelspec": {
   "display_name": "Python 3 (ipykernel)",
   "language": "python",
   "name": "python3"
  },
  "language_info": {
   "codemirror_mode": {
    "name": "ipython",
    "version": 3
   },
   "file_extension": ".py",
   "mimetype": "text/x-python",
   "name": "python",
   "nbconvert_exporter": "python",
   "pygments_lexer": "ipython3",
   "version": "3.8.5"
  }
 },
 "nbformat": 4,
 "nbformat_minor": 4
}
