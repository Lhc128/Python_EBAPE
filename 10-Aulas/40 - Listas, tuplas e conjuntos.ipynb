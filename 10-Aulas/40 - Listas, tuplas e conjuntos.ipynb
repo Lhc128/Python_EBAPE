{
 "cells": [
  {
   "cell_type": "markdown",
   "metadata": {},
   "source": [
    "# Estruturas de dados\n",
    "\n",
    "As estruturas de dados mais comuns em Python são as seguintes:\n",
    "\n",
    "1. Listas\n",
    "2. Dicionários\n",
    "3. Tuplas\n",
    "4. Conjuntos\n",
    "\n",
    "Mais tarde, vamos acrescentar mais dois elementos a essa lista: os arrays e os data frames.\n",
    "\n",
    "Agora, vamos falar sobre listas.\n",
    "\n",
    "## Listas\n",
    "\n",
    "Listas são sequências de objetos.  \n",
    "Cada objeto é identificado pela sua posição na lista.\n",
    "\n",
    "Uma lista pode conter números..."
   ]
  },
  {
   "cell_type": "code",
   "execution_count": 5,
   "metadata": {},
   "outputs": [],
   "source": [
    "pares = [0, 2, 4, 6, 8, 10]"
   ]
  },
  {
   "cell_type": "markdown",
   "metadata": {},
   "source": [
    "... strings..."
   ]
  },
  {
   "cell_type": "code",
   "execution_count": 6,
   "metadata": {},
   "outputs": [],
   "source": [
    "espiãs = ['Sam','Alex','Clover']"
   ]
  },
  {
   "cell_type": "markdown",
   "metadata": {},
   "source": [
    "... booleanos..."
   ]
  },
  {
   "cell_type": "code",
   "execution_count": 7,
   "metadata": {},
   "outputs": [],
   "source": [
    "bools = [True, False, False, True]"
   ]
  },
  {
   "cell_type": "markdown",
   "metadata": {},
   "source": [
    "... tipos misturados, e até outras listas:"
   ]
  },
  {
   "cell_type": "code",
   "execution_count": 8,
   "metadata": {},
   "outputs": [],
   "source": [
    "zoeira = [0, 1, 2, 'três', 4.0, [5,6,7,8]]"
   ]
  },
  {
   "cell_type": "markdown",
   "metadata": {},
   "source": [
    "### Indices e _slicing_"
   ]
  },
  {
   "cell_type": "markdown",
   "metadata": {},
   "source": [
    "Os elementos de uma lista são identificados pela sua posição na lista, começando a contar do **zero**.  \n",
    "Essa posição se chama **índice**.  "
   ]
  },
  {
   "cell_type": "code",
   "execution_count": 9,
   "metadata": {},
   "outputs": [
    {
     "data": {
      "text/plain": [
       "['Sam', 'Alex', 'Clover']"
      ]
     },
     "execution_count": 9,
     "metadata": {},
     "output_type": "execute_result"
    }
   ],
   "source": [
    "#Vamos usar essa lista de exemplo\n",
    "espiãs"
   ]
  },
  {
   "cell_type": "code",
   "execution_count": 10,
   "metadata": {},
   "outputs": [
    {
     "data": {
      "text/plain": [
       "'Sam'"
      ]
     },
     "execution_count": 10,
     "metadata": {},
     "output_type": "execute_result"
    }
   ],
   "source": [
    "espiãs[0]"
   ]
  },
  {
   "cell_type": "code",
   "execution_count": 11,
   "metadata": {},
   "outputs": [
    {
     "data": {
      "text/plain": [
       "'Alex'"
      ]
     },
     "execution_count": 11,
     "metadata": {},
     "output_type": "execute_result"
    }
   ],
   "source": [
    "espiãs[1]"
   ]
  },
  {
   "cell_type": "code",
   "execution_count": 12,
   "metadata": {},
   "outputs": [
    {
     "data": {
      "text/plain": [
       "'Clover'"
      ]
     },
     "execution_count": 12,
     "metadata": {},
     "output_type": "execute_result"
    }
   ],
   "source": [
    "espiãs[2]"
   ]
  },
  {
   "cell_type": "markdown",
   "metadata": {},
   "source": [
    "Também podemos percorrer uma lista de trás para frente. Para isso, usamos índices negativos:"
   ]
  },
  {
   "cell_type": "code",
   "execution_count": 13,
   "metadata": {},
   "outputs": [
    {
     "data": {
      "text/plain": [
       "['Sam', 'Alex', 'Clover']"
      ]
     },
     "execution_count": 13,
     "metadata": {},
     "output_type": "execute_result"
    }
   ],
   "source": [
    "#Para recordar\n",
    "espiãs"
   ]
  },
  {
   "cell_type": "code",
   "execution_count": 14,
   "metadata": {},
   "outputs": [
    {
     "data": {
      "text/plain": [
       "'Clover'"
      ]
     },
     "execution_count": 14,
     "metadata": {},
     "output_type": "execute_result"
    }
   ],
   "source": [
    "espiãs[-1]"
   ]
  },
  {
   "cell_type": "code",
   "execution_count": 15,
   "metadata": {},
   "outputs": [
    {
     "data": {
      "text/plain": [
       "'Alex'"
      ]
     },
     "execution_count": 15,
     "metadata": {},
     "output_type": "execute_result"
    }
   ],
   "source": [
    "espiãs[-2]"
   ]
  },
  {
   "cell_type": "code",
   "execution_count": 16,
   "metadata": {},
   "outputs": [
    {
     "data": {
      "text/plain": [
       "'Sam'"
      ]
     },
     "execution_count": 16,
     "metadata": {},
     "output_type": "execute_result"
    }
   ],
   "source": [
    "espiãs[-3]"
   ]
  },
  {
   "cell_type": "markdown",
   "metadata": {},
   "source": [
    "Também podemos pegar um pedaço de uma lista."
   ]
  },
  {
   "cell_type": "code",
   "execution_count": 17,
   "metadata": {},
   "outputs": [],
   "source": [
    "#Vamos usar uma lista maior como exemplo:\n",
    "skywalkers = ['Luke', 'Leia','Shmi', 'Anakin', 'Han','Ben','Rey']"
   ]
  },
  {
   "cell_type": "code",
   "execution_count": 18,
   "metadata": {},
   "outputs": [
    {
     "data": {
      "text/plain": [
       "['Shmi', 'Anakin']"
      ]
     },
     "execution_count": 18,
     "metadata": {},
     "output_type": "execute_result"
    }
   ],
   "source": [
    "skywalkers[2:4]"
   ]
  },
  {
   "cell_type": "markdown",
   "metadata": {},
   "source": [
    "Note que o primeiro elemento é incluído. O último não.\n",
    "\n",
    "Quando um índice é omitido, ele representa o início ou o final da lista."
   ]
  },
  {
   "cell_type": "code",
   "execution_count": 19,
   "metadata": {},
   "outputs": [
    {
     "data": {
      "text/plain": [
       "['Luke', 'Leia', 'Shmi']"
      ]
     },
     "execution_count": 19,
     "metadata": {},
     "output_type": "execute_result"
    }
   ],
   "source": [
    "skywalkers[:3]"
   ]
  },
  {
   "cell_type": "code",
   "execution_count": 20,
   "metadata": {},
   "outputs": [
    {
     "data": {
      "text/plain": [
       "['Anakin', 'Han', 'Ben', 'Rey']"
      ]
     },
     "execution_count": 20,
     "metadata": {},
     "output_type": "execute_result"
    }
   ],
   "source": [
    "skywalkers[3:]"
   ]
  },
  {
   "cell_type": "markdown",
   "metadata": {},
   "source": [
    "### Acrescentando um elemento a uma lista\n",
    "\n",
    "Podemos acrescentar elementos à lista usando o método `.append`"
   ]
  },
  {
   "cell_type": "code",
   "execution_count": 21,
   "metadata": {},
   "outputs": [],
   "source": [
    "skywalkers.append('Johny Walker')"
   ]
  },
  {
   "cell_type": "code",
   "execution_count": 24,
   "metadata": {},
   "outputs": [
    {
     "data": {
      "text/plain": [
       "['Luke', 'Leia', 'Shmi', 'Anakin', 'Han', 'Ben', 'Rey', 'Johny Walker']"
      ]
     },
     "execution_count": 24,
     "metadata": {},
     "output_type": "execute_result"
    }
   ],
   "source": [
    "skywalkers"
   ]
  },
  {
   "cell_type": "markdown",
   "metadata": {},
   "source": [
    "### Criando uma lista"
   ]
  },
  {
   "cell_type": "markdown",
   "metadata": {},
   "source": [
    "Podemos criar uma lista usando uma regra:"
   ]
  },
  {
   "cell_type": "code",
   "execution_count": 25,
   "metadata": {},
   "outputs": [
    {
     "data": {
      "text/plain": [
       "[1, 2, 3, 4, 5, 6, 10, 12, 15, 20, 30, 60]"
      ]
     },
     "execution_count": 25,
     "metadata": {},
     "output_type": "execute_result"
    }
   ],
   "source": [
    "divisores_de_60 = []\n",
    "for i in range(1, 61):\n",
    "    if 60 % i == 0:\n",
    "        divisores_de_60.append(i)\n",
    "\n",
    "divisores_de_60"
   ]
  },
  {
   "cell_type": "markdown",
   "metadata": {},
   "source": [
    "Uma forma mais suscinta de fazer isso é usando _list comprehension_:"
   ]
  },
  {
   "cell_type": "code",
   "execution_count": 26,
   "metadata": {},
   "outputs": [
    {
     "data": {
      "text/plain": [
       "[1, 2, 3, 4, 5, 6, 10, 12, 15, 20, 30, 60]"
      ]
     },
     "execution_count": 26,
     "metadata": {},
     "output_type": "execute_result"
    }
   ],
   "source": [
    "divisores_de_60 = [i for i in range(1,61) if 60 % i == 0]\n",
    "divisores_de_60"
   ]
  },
  {
   "cell_type": "markdown",
   "metadata": {},
   "source": [
    "### Iterando por uma lista\n",
    "\n",
    "Uma lista é um **iterável**. Isso significa que podemos percorrer todos os elementos de uma lista usando um _for loop_:"
   ]
  },
  {
   "cell_type": "code",
   "execution_count": 27,
   "metadata": {},
   "outputs": [
    {
     "name": "stdout",
     "output_type": "stream",
     "text": [
      "The Force is strong with you, Luke Skywalker!\n",
      "The Force is strong with you, Leia Skywalker!\n",
      "The Force is strong with you, Shmi Skywalker!\n",
      "The Force is strong with you, Anakin Skywalker!\n",
      "The Force is strong with you, Han Skywalker!\n",
      "The Force is strong with you, Ben Skywalker!\n",
      "The Force is strong with you, Rey Skywalker!\n",
      "The Force is strong with you, Johny Walker Skywalker!\n"
     ]
    }
   ],
   "source": [
    "for jedi in skywalkers:\n",
    "    print('The Force is strong with you, ' + jedi + ' Skywalker!')"
   ]
  },
  {
   "cell_type": "markdown",
   "metadata": {},
   "source": [
    "Às vezes queremos iterar pelos elementos de uma lista _sabendo em que posição estamos_. Para isso, podemos usar o comando __enumerate__:"
   ]
  },
  {
   "cell_type": "code",
   "execution_count": 28,
   "metadata": {},
   "outputs": [
    {
     "name": "stdout",
     "output_type": "stream",
     "text": [
      "Jedi número 0: Luke Skywalker\n",
      "Jedi número 1: Leia Skywalker\n",
      "Jedi número 2: Shmi Skywalker\n",
      "Jedi número 3: Anakin Skywalker\n",
      "Jedi número 4: Han Skywalker\n",
      "Jedi número 5: Ben Skywalker\n",
      "Jedi número 6: Rey Skywalker\n",
      "Jedi número 7: Johny Walker Skywalker\n"
     ]
    }
   ],
   "source": [
    "for i, jedi in enumerate(skywalkers):\n",
    "    print(f'Jedi número {i}: {jedi} Skywalker')"
   ]
  },
  {
   "cell_type": "markdown",
   "metadata": {},
   "source": [
    "### Aplicando funções a listas"
   ]
  },
  {
   "cell_type": "code",
   "execution_count": 29,
   "metadata": {},
   "outputs": [
    {
     "data": {
      "text/plain": [
       "[5, 3, 2, 1, 4]"
      ]
     },
     "execution_count": 29,
     "metadata": {},
     "output_type": "execute_result"
    }
   ],
   "source": [
    "#Vamos usar essa lista como exemplo\n",
    "numeros = [5,3,2,1,4]\n",
    "numeros"
   ]
  },
  {
   "cell_type": "markdown",
   "metadata": {},
   "source": [
    "Podemos calcular o número de elementos de uma lista..."
   ]
  },
  {
   "cell_type": "code",
   "execution_count": 30,
   "metadata": {},
   "outputs": [
    {
     "data": {
      "text/plain": [
       "5"
      ]
     },
     "execution_count": 30,
     "metadata": {},
     "output_type": "execute_result"
    }
   ],
   "source": [
    "len(numeros)"
   ]
  },
  {
   "cell_type": "markdown",
   "metadata": {},
   "source": [
    "...colocá-la em ordem..."
   ]
  },
  {
   "cell_type": "code",
   "execution_count": 31,
   "metadata": {},
   "outputs": [
    {
     "data": {
      "text/plain": [
       "[1, 2, 3, 4, 5]"
      ]
     },
     "execution_count": 31,
     "metadata": {},
     "output_type": "execute_result"
    }
   ],
   "source": [
    "sorted(numeros)"
   ]
  },
  {
   "cell_type": "code",
   "execution_count": 32,
   "metadata": {},
   "outputs": [
    {
     "data": {
      "text/plain": [
       "[5, 4, 3, 2, 1]"
      ]
     },
     "execution_count": 32,
     "metadata": {},
     "output_type": "execute_result"
    }
   ],
   "source": [
    "sorted(numeros, reverse=True)"
   ]
  },
  {
   "cell_type": "markdown",
   "metadata": {},
   "source": [
    "...somar seus elementos..."
   ]
  },
  {
   "cell_type": "code",
   "execution_count": 33,
   "metadata": {},
   "outputs": [
    {
     "data": {
      "text/plain": [
       "15"
      ]
     },
     "execution_count": 33,
     "metadata": {},
     "output_type": "execute_result"
    }
   ],
   "source": [
    "sum(numeros)"
   ]
  },
  {
   "cell_type": "markdown",
   "metadata": {},
   "source": [
    "... e, com a ajuda de outros pacotes, podemos também calcular o produto..."
   ]
  },
  {
   "cell_type": "code",
   "execution_count": 34,
   "metadata": {},
   "outputs": [
    {
     "data": {
      "text/plain": [
       "120"
      ]
     },
     "execution_count": 34,
     "metadata": {},
     "output_type": "execute_result"
    }
   ],
   "source": [
    "from numpy import prod\n",
    "prod(numeros)"
   ]
  },
  {
   "cell_type": "markdown",
   "metadata": {},
   "source": [
    "... e a média:"
   ]
  },
  {
   "cell_type": "code",
   "execution_count": 35,
   "metadata": {},
   "outputs": [
    {
     "data": {
      "text/plain": [
       "3.0"
      ]
     },
     "execution_count": 35,
     "metadata": {},
     "output_type": "execute_result"
    }
   ],
   "source": [
    "from numpy import mean\n",
    "mean(numeros)"
   ]
  },
  {
   "cell_type": "markdown",
   "metadata": {},
   "source": [
    "Também podemos aplicar uma função que não exista previamente usando `list`, `map` e `lambda`:"
   ]
  },
  {
   "cell_type": "code",
   "execution_count": 38,
   "metadata": {},
   "outputs": [
    {
     "data": {
      "text/plain": [
       "[10, 6, 4, 2, 8]"
      ]
     },
     "execution_count": 38,
     "metadata": {},
     "output_type": "execute_result"
    }
   ],
   "source": [
    "list(map(lambda x: 2*x, numeros))"
   ]
  },
  {
   "cell_type": "markdown",
   "metadata": {},
   "source": [
    "Uma lista também pode ser filtrada com base em uma condição:"
   ]
  },
  {
   "cell_type": "code",
   "execution_count": 39,
   "metadata": {},
   "outputs": [
    {
     "data": {
      "text/plain": [
       "[5, 4]"
      ]
     },
     "execution_count": 39,
     "metadata": {},
     "output_type": "execute_result"
    }
   ],
   "source": [
    "#Selecionar apenas os elementos maiores que 3\n",
    "list(filter(lambda x: x > 3, numeros))"
   ]
  },
  {
   "cell_type": "markdown",
   "metadata": {},
   "source": [
    "### Desempacotando uma lista"
   ]
  },
  {
   "cell_type": "code",
   "execution_count": 40,
   "metadata": {},
   "outputs": [],
   "source": [
    "a, b, c, _ = [10, 11, 12, 13]"
   ]
  },
  {
   "cell_type": "code",
   "execution_count": 41,
   "metadata": {},
   "outputs": [
    {
     "data": {
      "text/plain": [
       "10"
      ]
     },
     "execution_count": 41,
     "metadata": {},
     "output_type": "execute_result"
    }
   ],
   "source": [
    "a"
   ]
  },
  {
   "cell_type": "code",
   "execution_count": 42,
   "metadata": {},
   "outputs": [
    {
     "data": {
      "text/plain": [
       "11"
      ]
     },
     "execution_count": 42,
     "metadata": {},
     "output_type": "execute_result"
    }
   ],
   "source": [
    "b"
   ]
  },
  {
   "cell_type": "code",
   "execution_count": 43,
   "metadata": {},
   "outputs": [
    {
     "data": {
      "text/plain": [
       "12"
      ]
     },
     "execution_count": 43,
     "metadata": {},
     "output_type": "execute_result"
    }
   ],
   "source": [
    "c"
   ]
  },
  {
   "cell_type": "markdown",
   "metadata": {},
   "source": [
    "### Alguns tipos especiais de lista"
   ]
  },
  {
   "cell_type": "markdown",
   "metadata": {},
   "source": [
    "#### Lista de números consecutivos"
   ]
  },
  {
   "cell_type": "code",
   "execution_count": 44,
   "metadata": {},
   "outputs": [
    {
     "data": {
      "text/plain": [
       "[0, 1, 2, 3, 4, 5, 6, 7, 8, 9]"
      ]
     },
     "execution_count": 44,
     "metadata": {},
     "output_type": "execute_result"
    }
   ],
   "source": [
    "list(range(10))"
   ]
  },
  {
   "cell_type": "code",
   "execution_count": 45,
   "metadata": {},
   "outputs": [
    {
     "data": {
      "text/plain": [
       "[15, 16, 17, 18, 19, 20]"
      ]
     },
     "execution_count": 45,
     "metadata": {},
     "output_type": "execute_result"
    }
   ],
   "source": [
    "list(range(15, 21))"
   ]
  },
  {
   "cell_type": "markdown",
   "metadata": {},
   "source": [
    "#### Lista de números seguidos mas \"pulando\"\n",
    "(vulgo Progressão Aritmética)"
   ]
  },
  {
   "cell_type": "code",
   "execution_count": 46,
   "metadata": {},
   "outputs": [
    {
     "data": {
      "text/plain": [
       "[10, 12, 14, 16, 18]"
      ]
     },
     "execution_count": 46,
     "metadata": {},
     "output_type": "execute_result"
    }
   ],
   "source": [
    "list(range(10, 20, 2))"
   ]
  },
  {
   "cell_type": "markdown",
   "metadata": {},
   "source": [
    "#### Lista de números aleatórios"
   ]
  },
  {
   "cell_type": "code",
   "execution_count": 47,
   "metadata": {},
   "outputs": [
    {
     "data": {
      "text/plain": [
       "[0.06327460849358446,\n",
       " 0.9332043776551415,\n",
       " 0.9050386814489007,\n",
       " 0.2696388312230047,\n",
       " 0.29198999175103146]"
      ]
     },
     "execution_count": 47,
     "metadata": {},
     "output_type": "execute_result"
    }
   ],
   "source": [
    "from numpy.random import random\n",
    "list(random(5))"
   ]
  },
  {
   "cell_type": "code",
   "execution_count": 48,
   "metadata": {},
   "outputs": [
    {
     "data": {
      "text/plain": [
       "[0.03461394833285447,\n",
       " -1.262778636266097,\n",
       " -1.5559536149409403,\n",
       " -1.011733901914601,\n",
       " 0.4929606318857703]"
      ]
     },
     "execution_count": 48,
     "metadata": {},
     "output_type": "execute_result"
    }
   ],
   "source": [
    "from numpy.random import normal\n",
    "list(normal(size=5))"
   ]
  },
  {
   "cell_type": "code",
   "execution_count": 49,
   "metadata": {},
   "outputs": [
    {
     "data": {
      "text/plain": [
       "[5.609855969951211,\n",
       " 5.968415947223859,\n",
       " 6.006393100546251,\n",
       " 6.122196765604371,\n",
       " 6.406068363048941]"
      ]
     },
     "execution_count": 49,
     "metadata": {},
     "output_type": "execute_result"
    }
   ],
   "source": [
    "list(normal(loc=6, scale=0.3, size=5))"
   ]
  },
  {
   "cell_type": "code",
   "execution_count": 50,
   "metadata": {},
   "outputs": [
    {
     "data": {
      "text/plain": [
       "[1, 2, 3, 1, 3]"
      ]
     },
     "execution_count": 50,
     "metadata": {},
     "output_type": "execute_result"
    }
   ],
   "source": [
    "from numpy.random import poisson\n",
    "list(poisson(3, size=5))"
   ]
  },
  {
   "cell_type": "markdown",
   "metadata": {},
   "source": [
    "## Tuplas\n",
    "Uma tupla é que nem uma lista, mas ela não pode ser alterada."
   ]
  },
  {
   "cell_type": "code",
   "execution_count": 51,
   "metadata": {},
   "outputs": [],
   "source": [
    "pokemons = ('Pikachu','Bulbassauro','Charmander')"
   ]
  },
  {
   "cell_type": "code",
   "execution_count": 52,
   "metadata": {},
   "outputs": [
    {
     "data": {
      "text/plain": [
       "'Bulbassauro'"
      ]
     },
     "execution_count": 52,
     "metadata": {},
     "output_type": "execute_result"
    }
   ],
   "source": [
    "pokemons[1]"
   ]
  },
  {
   "cell_type": "code",
   "execution_count": 53,
   "metadata": {},
   "outputs": [
    {
     "name": "stdout",
     "output_type": "stream",
     "text": [
      "Pikachu, eu escolho você!!!\n",
      "Bulbassauro, eu escolho você!!!\n",
      "Charmander, eu escolho você!!!\n"
     ]
    }
   ],
   "source": [
    "for p in pokemons:\n",
    "    print(p + ', eu escolho você!!!')"
   ]
  },
  {
   "cell_type": "markdown",
   "metadata": {},
   "source": [
    "Se tentamos modificar uma tupla, o Python ou dá erro..."
   ]
  },
  {
   "cell_type": "code",
   "execution_count": 54,
   "metadata": {},
   "outputs": [
    {
     "ename": "AttributeError",
     "evalue": "'tuple' object has no attribute 'append'",
     "output_type": "error",
     "traceback": [
      "\u001b[1;31m---------------------------------------------------------------------------\u001b[0m",
      "\u001b[1;31mAttributeError\u001b[0m                            Traceback (most recent call last)",
      "Input \u001b[1;32mIn [54]\u001b[0m, in \u001b[0;36m<cell line: 1>\u001b[1;34m()\u001b[0m\n\u001b[1;32m----> 1\u001b[0m \u001b[43mpokemons\u001b[49m\u001b[38;5;241;43m.\u001b[39;49m\u001b[43mappend\u001b[49m(\u001b[38;5;124m'\u001b[39m\u001b[38;5;124mMagicarp\u001b[39m\u001b[38;5;124m'\u001b[39m)\n",
      "\u001b[1;31mAttributeError\u001b[0m: 'tuple' object has no attribute 'append'"
     ]
    }
   ],
   "source": [
    "pokemons.append('Magicarp')"
   ]
  },
  {
   "cell_type": "markdown",
   "metadata": {},
   "source": [
    "... ou transforma a tupla em uma lista:"
   ]
  },
  {
   "cell_type": "code",
   "execution_count": 55,
   "metadata": {},
   "outputs": [
    {
     "data": {
      "text/plain": [
       "['Bulbassauro', 'Charmander', 'Pikachu']"
      ]
     },
     "execution_count": 55,
     "metadata": {},
     "output_type": "execute_result"
    }
   ],
   "source": [
    "sorted(pokemons)"
   ]
  },
  {
   "cell_type": "markdown",
   "metadata": {},
   "source": [
    "Para transformar uma tupla numa lista ou uma lista numa tupla, podemos usar os comandos `list` e `tuple`:"
   ]
  },
  {
   "cell_type": "code",
   "execution_count": 56,
   "metadata": {},
   "outputs": [
    {
     "data": {
      "text/plain": [
       "['Pikachu', 'Bulbassauro', 'Charmander']"
      ]
     },
     "execution_count": 56,
     "metadata": {},
     "output_type": "execute_result"
    }
   ],
   "source": [
    "list(pokemons)"
   ]
  },
  {
   "cell_type": "code",
   "execution_count": 58,
   "metadata": {},
   "outputs": [
    {
     "data": {
      "text/plain": [
       "('Luke', 'Leia', 'Shmi', 'Anakin', 'Han', 'Ben', 'Rey', 'Johny Walker')"
      ]
     },
     "execution_count": 58,
     "metadata": {},
     "output_type": "execute_result"
    }
   ],
   "source": [
    "tuple(skywalkers)"
   ]
  },
  {
   "cell_type": "markdown",
   "metadata": {},
   "source": [
    "Em uma igualdade de tuplas, cada termo da primeira tupla é igual ao termo correspondente da segunda:"
   ]
  },
  {
   "cell_type": "code",
   "execution_count": 64,
   "metadata": {},
   "outputs": [
    {
     "name": "stdout",
     "output_type": "stream",
     "text": [
      "a = 1 e b = 2\n"
     ]
    }
   ],
   "source": [
    "a, b = (1, 2)\n",
    "print(f'a = {a} e b = {b}')"
   ]
  },
  {
   "cell_type": "markdown",
   "metadata": {},
   "source": [
    "Não precisamos dos parêntesis para definir uma tupla:"
   ]
  },
  {
   "cell_type": "code",
   "execution_count": 65,
   "metadata": {},
   "outputs": [
    {
     "name": "stdout",
     "output_type": "stream",
     "text": [
      "a = 1 e b = 2\n"
     ]
    }
   ],
   "source": [
    "a, b = 1, 2\n",
    "print(f'a = {a} e b = {b}')"
   ]
  },
  {
   "cell_type": "markdown",
   "metadata": {},
   "source": [
    "Isso pode ser usado para trocar variáveis:"
   ]
  },
  {
   "cell_type": "code",
   "execution_count": 69,
   "metadata": {},
   "outputs": [
    {
     "name": "stdout",
     "output_type": "stream",
     "text": [
      "a = 2 e b = 1\n"
     ]
    }
   ],
   "source": [
    "a = 1\n",
    "b = 2\n",
    "\n",
    "a, b = b, a\n",
    "\n",
    "print(f'a = {a} e b = {b}')"
   ]
  },
  {
   "cell_type": "markdown",
   "metadata": {},
   "source": [
    "Quando uma função retorna vários outputs, é usual que a resposta venha em uma tupla:"
   ]
  },
  {
   "cell_type": "code",
   "execution_count": 71,
   "metadata": {},
   "outputs": [
    {
     "data": {
      "text/plain": [
       "(10, 15, 20)"
      ]
     },
     "execution_count": 71,
     "metadata": {},
     "output_type": "execute_result"
    }
   ],
   "source": [
    "def dobro_triplo_quadruplo(x):\n",
    "    return(2*x, 3*x, 4*x)\n",
    "\n",
    "dobro_triplo_quadruplo(5)"
   ]
  },
  {
   "cell_type": "code",
   "execution_count": 89,
   "metadata": {},
   "outputs": [
    {
     "name": "stdout",
     "output_type": "stream",
     "text": [
      "x1:  [ 1.92016599 -1.02065341 -1.35050716  0.52694381  0.58725958 -1.6431059\n",
      " -0.93712062 -1.28155859 -1.76122572  0.31165797  1.2581435   1.23499619\n",
      "  0.03353346  2.28392755 -1.08260785  0.28509081 -1.0053617   0.56614829\n",
      " -0.11993373 -0.74797521 -0.15656596  1.51518917 -0.91411746 -0.66967175\n",
      "  0.13519602 -0.29174042 -0.05494518  0.14013783  0.65403494 -0.603377\n",
      "  1.74391112 -0.52862416 -0.84401474  2.03992736 -0.26230975  0.94852255\n",
      "  0.00372446  1.4998793   0.43979442  0.48758074  0.9683589   0.59044252\n",
      " -1.04326995  0.80246692  1.46698755  0.52057657  1.1741249   2.07921732\n",
      " -0.34442651 -0.14715581  0.76725577  0.53378399 -0.69953212 -0.85045546\n",
      " -1.04070413 -0.30815709 -0.42886859 -0.32959428 -1.04989179  0.62958199\n",
      "  0.33295349 -1.25872474 -1.06659449 -1.74808148  0.66865335 -0.52592726\n",
      " -3.07526252 -0.38058286  0.77919039  0.65099851  2.01574685 -0.61517072\n",
      " -0.78530673 -2.16181982  0.61326122 -0.05330667 -0.56545309 -0.11386375\n",
      " -0.99166638  0.25014531  0.82148586  0.60104814 -0.07799905  0.18821577\n",
      " -0.72687489 -0.41088294 -1.27556017 -0.90938817  0.03616021  0.18819654\n",
      "  0.18080534  0.8105911  -0.05831102 -0.0144885   0.92840627 -0.90926476\n",
      "  1.57308113  1.82142791  0.81737859 -0.82260136]\n",
      "\n",
      "\n",
      "x2:  [ 2.39147563 -0.09121046 -1.11643367  0.28332702  1.33990405  0.82365409\n",
      "  1.30652166 -0.19644627  1.48288686  1.64028262  1.36178774  0.45196131\n",
      "  0.51224032  1.27491018  1.19427729  0.18583945  0.07059086  0.56532089\n",
      "  1.05031029  1.66937711 -0.0956463   0.66302709  0.78897944  1.69399169\n",
      "  1.49895055  2.32804028  2.02181305  0.19220571 -0.04747745  2.53606085\n",
      "  1.10999284  1.05899065  1.52982585  1.86819824  1.6908167   0.34281865\n",
      "  0.9315668   1.08209064  1.02015013  1.45799836  1.15944315  0.97521052\n",
      "  2.08276408 -0.40166473  2.12334751  2.71540049  1.59817609  3.34093252\n",
      " -0.93854434  1.03886441  1.98210006  0.21573687  3.0745539  -0.44732885\n",
      "  1.65893152  1.61428724  0.08188226  1.7706941   1.9149538   1.32517593\n",
      "  0.99069971 -0.08878434  0.90113533  1.82657151  0.37194867  2.00099655\n",
      "  1.83762963  1.36670404  0.98335338  1.85028572  2.1044793   0.40427096\n",
      "  0.57720334  0.83686887  0.29492404  1.98420853  1.32598534  1.12174473\n",
      "  1.06821875  2.04263895  0.67233387  2.22288753  3.02215047  0.77879155\n",
      "  1.40576963  0.54297183  0.54682111 -0.34541189  3.30848117  1.03715087\n",
      " -0.57277456  0.76671738  2.98453186  0.95525624  0.66932532  0.56216989\n",
      "  2.99574883 -0.24645381  1.38196056  3.43042941]\n"
     ]
    }
   ],
   "source": [
    "from scipy.stats import norm, ttest_ind\n",
    "\n",
    "x1 = norm.rvs(loc=0, scale = 1, size=100)\n",
    "x2 = norm.rvs(loc=1, scale = 1, size=100)\n",
    "\n",
    "print(\"x1: \", x1)\n",
    "print(\"\\n\")\n",
    "print(\"x2: \", x2)"
   ]
  },
  {
   "cell_type": "code",
   "execution_count": 90,
   "metadata": {},
   "outputs": [
    {
     "data": {
      "text/plain": [
       "Ttest_indResult(statistic=-8.252180702704944, pvalue=2.1555891868289663e-14)"
      ]
     },
     "execution_count": 90,
     "metadata": {},
     "output_type": "execute_result"
    }
   ],
   "source": [
    "ttest_ind(x1,x2, equal_var=True)"
   ]
  },
  {
   "cell_type": "code",
   "execution_count": 91,
   "metadata": {},
   "outputs": [
    {
     "name": "stdout",
     "output_type": "stream",
     "text": [
      "t = -8.252180702704944\n",
      "valor-p = 2.1555891868289663e-14\n"
     ]
    }
   ],
   "source": [
    "t, p = ttest_ind(x1,x2)\n",
    "print(f't = {t}')\n",
    "print(f'valor-p = {p}')"
   ]
  },
  {
   "cell_type": "markdown",
   "metadata": {},
   "source": [
    "## Conjuntos\n",
    "\n",
    "Em uma lista/tupla, os elementos têm uma ordem.  \n",
    "Em um conjunto, não.\n",
    "Além disso, um conjunto não têm elementos repetidos."
   ]
  },
  {
   "cell_type": "code",
   "execution_count": 92,
   "metadata": {},
   "outputs": [
    {
     "data": {
      "text/plain": [
       "['Socrates', 'Felipe']"
      ]
     },
     "execution_count": 92,
     "metadata": {},
     "output_type": "execute_result"
    }
   ],
   "source": [
    "#Uma turma de 5 alunos.\n",
    "#Cada aluno votou em quem é o melhor professor...\n",
    "votos_dos_alunos = ['Felipe','Felipe','Felipe','Socrates','Felipe']\n",
    "\n",
    "professores_que_receberam_votos = set(votos_dos_alunos)\n",
    "\n",
    "list(professores_que_receberam_votos)"
   ]
  },
  {
   "cell_type": "markdown",
   "metadata": {},
   "source": [
    "Nós não vamos usar muito conjuntos. Quando usarmos, falaremos mais sobre eles."
   ]
  }
 ],
 "metadata": {
  "kernelspec": {
   "display_name": "Python 3 (ipykernel)",
   "language": "python",
   "name": "python3"
  },
  "language_info": {
   "codemirror_mode": {
    "name": "ipython",
    "version": 3
   },
   "file_extension": ".py",
   "mimetype": "text/x-python",
   "name": "python",
   "nbconvert_exporter": "python",
   "pygments_lexer": "ipython3",
   "version": "3.8.5"
  }
 },
 "nbformat": 4,
 "nbformat_minor": 4
}
