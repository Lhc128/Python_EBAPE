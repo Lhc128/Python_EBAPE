{
 "cells": [
  {
   "cell_type": "markdown",
   "metadata": {},
   "source": [
    "# Estruturas de dados\n",
    "\n",
    "As estruturas de dados mais comuns em Python são as seguintes:\n",
    "\n",
    "1. Listas\n",
    "2. Dicionários\n",
    "3. Tuplas\n",
    "4. Conjuntos\n",
    "\n",
    "Mais tarde, vamos acrescentar mais dois elementos a essa lista: os arrays e os data frames.\n",
    "\n",
    "Agora, vamos falar sobre listas.\n",
    "\n",
    "## Listas\n",
    "\n",
    "Listas são sequências de objetos.  \n",
    "Cada objeto é identificado pela sua posição na lista.\n",
    "\n",
    "Uma lista pode conter números..."
   ]
  },
  {
   "cell_type": "code",
   "execution_count": 1,
   "metadata": {},
   "outputs": [],
   "source": [
    "pares = [0, 2, 4, 6, 8, 10]"
   ]
  },
  {
   "cell_type": "markdown",
   "metadata": {},
   "source": [
    "... strings..."
   ]
  },
  {
   "cell_type": "code",
   "execution_count": 2,
   "metadata": {},
   "outputs": [],
   "source": [
    "espiãs = ['Sam','Alex','Clover']"
   ]
  },
  {
   "cell_type": "markdown",
   "metadata": {},
   "source": [
    "... booleanos..."
   ]
  },
  {
   "cell_type": "code",
   "execution_count": 3,
   "metadata": {},
   "outputs": [],
   "source": [
    "bools = [True, False, False, True]"
   ]
  },
  {
   "cell_type": "markdown",
   "metadata": {},
   "source": [
    "... tipos misturados, e até outras listas:"
   ]
  },
  {
   "cell_type": "code",
   "execution_count": 4,
   "metadata": {},
   "outputs": [],
   "source": [
    "zoeira = [0, 1, 2, 'três', 4.0, [5,6,7,8]]"
   ]
  },
  {
   "cell_type": "markdown",
   "metadata": {},
   "source": [
    "### Indices e _slicing_"
   ]
  },
  {
   "cell_type": "markdown",
   "metadata": {},
   "source": [
    "Os elementos de uma lista são identificados pela sua posição na lista, começando a contar do **zero**.  \n",
    "Essa posição se chama **índice**.  "
   ]
  },
  {
   "cell_type": "code",
   "execution_count": 5,
   "metadata": {},
   "outputs": [
    {
     "data": {
      "text/plain": [
       "['Sam', 'Alex', 'Clover']"
      ]
     },
     "execution_count": 5,
     "metadata": {},
     "output_type": "execute_result"
    }
   ],
   "source": [
    "#Vamos usar essa lista de exemplo\n",
    "espiãs"
   ]
  },
  {
   "cell_type": "code",
   "execution_count": 6,
   "metadata": {},
   "outputs": [
    {
     "data": {
      "text/plain": [
       "'Sam'"
      ]
     },
     "execution_count": 6,
     "metadata": {},
     "output_type": "execute_result"
    }
   ],
   "source": [
    "espiãs[0]"
   ]
  },
  {
   "cell_type": "code",
   "execution_count": 7,
   "metadata": {},
   "outputs": [
    {
     "data": {
      "text/plain": [
       "'Alex'"
      ]
     },
     "execution_count": 7,
     "metadata": {},
     "output_type": "execute_result"
    }
   ],
   "source": [
    "espiãs[1]"
   ]
  },
  {
   "cell_type": "code",
   "execution_count": 8,
   "metadata": {},
   "outputs": [
    {
     "data": {
      "text/plain": [
       "'Clover'"
      ]
     },
     "execution_count": 8,
     "metadata": {},
     "output_type": "execute_result"
    }
   ],
   "source": [
    "espiãs[2]"
   ]
  },
  {
   "cell_type": "markdown",
   "metadata": {},
   "source": [
    "Também podemos percorrer uma lista de trás para frente. Para isso, usamos índices negativos:"
   ]
  },
  {
   "cell_type": "code",
   "execution_count": 9,
   "metadata": {},
   "outputs": [
    {
     "data": {
      "text/plain": [
       "['Sam', 'Alex', 'Clover']"
      ]
     },
     "execution_count": 9,
     "metadata": {},
     "output_type": "execute_result"
    }
   ],
   "source": [
    "#Para recordar\n",
    "espiãs"
   ]
  },
  {
   "cell_type": "code",
   "execution_count": 10,
   "metadata": {},
   "outputs": [
    {
     "data": {
      "text/plain": [
       "'Clover'"
      ]
     },
     "execution_count": 10,
     "metadata": {},
     "output_type": "execute_result"
    }
   ],
   "source": [
    "espiãs[-1]"
   ]
  },
  {
   "cell_type": "code",
   "execution_count": 11,
   "metadata": {},
   "outputs": [
    {
     "data": {
      "text/plain": [
       "'Alex'"
      ]
     },
     "execution_count": 11,
     "metadata": {},
     "output_type": "execute_result"
    }
   ],
   "source": [
    "espiãs[-2]"
   ]
  },
  {
   "cell_type": "code",
   "execution_count": 12,
   "metadata": {},
   "outputs": [
    {
     "data": {
      "text/plain": [
       "'Sam'"
      ]
     },
     "execution_count": 12,
     "metadata": {},
     "output_type": "execute_result"
    }
   ],
   "source": [
    "espiãs[-3]"
   ]
  },
  {
   "cell_type": "markdown",
   "metadata": {},
   "source": [
    "Também podemos pegar um pedaço de uma lista."
   ]
  },
  {
   "cell_type": "code",
   "execution_count": 13,
   "metadata": {},
   "outputs": [],
   "source": [
    "#Vamos usar uma lista maior como exemplo:\n",
    "skywalkers = ['Luke', 'Leia','Shmi', 'Anakin', 'Han','Ben','Rey']"
   ]
  },
  {
   "cell_type": "code",
   "execution_count": 14,
   "metadata": {},
   "outputs": [
    {
     "data": {
      "text/plain": [
       "['Shmi', 'Anakin']"
      ]
     },
     "execution_count": 14,
     "metadata": {},
     "output_type": "execute_result"
    }
   ],
   "source": [
    "skywalkers[2:4]"
   ]
  },
  {
   "cell_type": "markdown",
   "metadata": {},
   "source": [
    "Note que o primeiro elemento é incluído. O último não.\n",
    "\n",
    "Quando um índice é omitido, ele representa o início ou o final da lista."
   ]
  },
  {
   "cell_type": "code",
   "execution_count": 15,
   "metadata": {},
   "outputs": [
    {
     "data": {
      "text/plain": [
       "['Luke', 'Leia', 'Shmi']"
      ]
     },
     "execution_count": 15,
     "metadata": {},
     "output_type": "execute_result"
    }
   ],
   "source": [
    "skywalkers[:3]"
   ]
  },
  {
   "cell_type": "code",
   "execution_count": 16,
   "metadata": {},
   "outputs": [
    {
     "data": {
      "text/plain": [
       "['Anakin', 'Han', 'Ben', 'Rey']"
      ]
     },
     "execution_count": 16,
     "metadata": {},
     "output_type": "execute_result"
    }
   ],
   "source": [
    "skywalkers[3:]"
   ]
  },
  {
   "cell_type": "markdown",
   "metadata": {},
   "source": [
    "### Acrescentando um elemento a uma lista\n",
    "\n",
    "Podemos acrescentar elementos à lista usando o método `.append`"
   ]
  },
  {
   "cell_type": "code",
   "execution_count": 17,
   "metadata": {},
   "outputs": [],
   "source": [
    "skywalkers.append('Johny Walker')"
   ]
  },
  {
   "cell_type": "code",
   "execution_count": 18,
   "metadata": {},
   "outputs": [
    {
     "data": {
      "text/plain": [
       "['Luke', 'Leia', 'Shmi', 'Anakin', 'Han', 'Ben', 'Rey', 'Johny Walker']"
      ]
     },
     "execution_count": 18,
     "metadata": {},
     "output_type": "execute_result"
    }
   ],
   "source": [
    "skywalkers"
   ]
  },
  {
   "cell_type": "markdown",
   "metadata": {},
   "source": [
    "### Criando uma lista"
   ]
  },
  {
   "cell_type": "markdown",
   "metadata": {},
   "source": [
    "Podemos criar uma lista usando uma regra:"
   ]
  },
  {
   "cell_type": "code",
   "execution_count": 19,
   "metadata": {},
   "outputs": [
    {
     "data": {
      "text/plain": [
       "[1, 2, 3, 4, 5, 6, 10, 12, 15, 20, 30, 60]"
      ]
     },
     "execution_count": 19,
     "metadata": {},
     "output_type": "execute_result"
    }
   ],
   "source": [
    "divisores_de_60 = []\n",
    "for i in range(1, 61):\n",
    "    if 60 % i == 0:\n",
    "        divisores_de_60.append(i)\n",
    "\n",
    "divisores_de_60"
   ]
  },
  {
   "cell_type": "markdown",
   "metadata": {},
   "source": [
    "Uma forma mais suscinta de fazer isso é usando _list comprehension_:"
   ]
  },
  {
   "cell_type": "code",
   "execution_count": 20,
   "metadata": {},
   "outputs": [
    {
     "data": {
      "text/plain": [
       "[1, 2, 3, 4, 5, 6, 10, 12, 15, 20, 30, 60]"
      ]
     },
     "execution_count": 20,
     "metadata": {},
     "output_type": "execute_result"
    }
   ],
   "source": [
    "divisores_de_60 = [i for i in range(1,61) if 60 % i == 0]\n",
    "divisores_de_60"
   ]
  },
  {
   "cell_type": "markdown",
   "metadata": {},
   "source": [
    "### Iterando por uma lista\n",
    "\n",
    "Uma lista é um **iterável**. Isso significa que podemos percorrer todos os elementos de uma lista usando um _for loop_:"
   ]
  },
  {
   "cell_type": "code",
   "execution_count": 21,
   "metadata": {},
   "outputs": [
    {
     "name": "stdout",
     "output_type": "stream",
     "text": [
      "The Force is strong with you, Luke Skywalker!\n",
      "The Force is strong with you, Leia Skywalker!\n",
      "The Force is strong with you, Shmi Skywalker!\n",
      "The Force is strong with you, Anakin Skywalker!\n",
      "The Force is strong with you, Han Skywalker!\n",
      "The Force is strong with you, Ben Skywalker!\n",
      "The Force is strong with you, Rey Skywalker!\n",
      "The Force is strong with you, Johny Walker Skywalker!\n"
     ]
    }
   ],
   "source": [
    "for jedi in skywalkers:\n",
    "    print('The Force is strong with you, ' + jedi + ' Skywalker!')"
   ]
  },
  {
   "cell_type": "markdown",
   "metadata": {},
   "source": [
    "Às vezes queremos iterar pelos elementos de uma lista _sabendo em que posição estamos_. Para isso, podemos usar o comando __enumerate__:"
   ]
  },
  {
   "cell_type": "code",
   "execution_count": 22,
   "metadata": {},
   "outputs": [
    {
     "name": "stdout",
     "output_type": "stream",
     "text": [
      "Jedi número 0: Luke Skywalker\n",
      "Jedi número 1: Leia Skywalker\n",
      "Jedi número 2: Shmi Skywalker\n",
      "Jedi número 3: Anakin Skywalker\n",
      "Jedi número 4: Han Skywalker\n",
      "Jedi número 5: Ben Skywalker\n",
      "Jedi número 6: Rey Skywalker\n",
      "Jedi número 7: Johny Walker Skywalker\n"
     ]
    }
   ],
   "source": [
    "for i, jedi in enumerate(skywalkers):\n",
    "    print(f'Jedi número {i}: {jedi} Skywalker')"
   ]
  },
  {
   "cell_type": "markdown",
   "metadata": {},
   "source": [
    "### Aplicando funções a listas"
   ]
  },
  {
   "cell_type": "code",
   "execution_count": 23,
   "metadata": {},
   "outputs": [
    {
     "data": {
      "text/plain": [
       "[5, 3, 2, 1, 4]"
      ]
     },
     "execution_count": 23,
     "metadata": {},
     "output_type": "execute_result"
    }
   ],
   "source": [
    "#Vamos usar essa lista como exemplo\n",
    "numeros = [5,3,2,1,4]\n",
    "numeros"
   ]
  },
  {
   "cell_type": "markdown",
   "metadata": {},
   "source": [
    "Podemos calcular o número de elementos de uma lista..."
   ]
  },
  {
   "cell_type": "code",
   "execution_count": 24,
   "metadata": {},
   "outputs": [
    {
     "data": {
      "text/plain": [
       "5"
      ]
     },
     "execution_count": 24,
     "metadata": {},
     "output_type": "execute_result"
    }
   ],
   "source": [
    "len(numeros)"
   ]
  },
  {
   "cell_type": "markdown",
   "metadata": {},
   "source": [
    "...colocá-la em ordem..."
   ]
  },
  {
   "cell_type": "code",
   "execution_count": 25,
   "metadata": {},
   "outputs": [
    {
     "data": {
      "text/plain": [
       "[1, 2, 3, 4, 5]"
      ]
     },
     "execution_count": 25,
     "metadata": {},
     "output_type": "execute_result"
    }
   ],
   "source": [
    "sorted(numeros)"
   ]
  },
  {
   "cell_type": "code",
   "execution_count": 26,
   "metadata": {},
   "outputs": [
    {
     "data": {
      "text/plain": [
       "[5, 4, 3, 2, 1]"
      ]
     },
     "execution_count": 26,
     "metadata": {},
     "output_type": "execute_result"
    }
   ],
   "source": [
    "sorted(numeros, reverse=True)"
   ]
  },
  {
   "cell_type": "markdown",
   "metadata": {},
   "source": [
    "...somar seus elementos..."
   ]
  },
  {
   "cell_type": "code",
   "execution_count": 27,
   "metadata": {},
   "outputs": [
    {
     "data": {
      "text/plain": [
       "15"
      ]
     },
     "execution_count": 27,
     "metadata": {},
     "output_type": "execute_result"
    }
   ],
   "source": [
    "sum(numeros)"
   ]
  },
  {
   "cell_type": "markdown",
   "metadata": {},
   "source": [
    "... e, com a ajuda de outros pacotes, podemos também calcular o produto..."
   ]
  },
  {
   "cell_type": "code",
   "execution_count": 28,
   "metadata": {},
   "outputs": [
    {
     "data": {
      "text/plain": [
       "120"
      ]
     },
     "execution_count": 28,
     "metadata": {},
     "output_type": "execute_result"
    }
   ],
   "source": [
    "from numpy import prod\n",
    "prod(numeros)"
   ]
  },
  {
   "cell_type": "markdown",
   "metadata": {},
   "source": [
    "... e a média:"
   ]
  },
  {
   "cell_type": "code",
   "execution_count": 29,
   "metadata": {},
   "outputs": [
    {
     "data": {
      "text/plain": [
       "3.0"
      ]
     },
     "execution_count": 29,
     "metadata": {},
     "output_type": "execute_result"
    }
   ],
   "source": [
    "from numpy import mean\n",
    "mean(numeros)"
   ]
  },
  {
   "cell_type": "markdown",
   "metadata": {},
   "source": [
    "Também podemos aplicar uma função que não exista previamente usando `list`, `map` e `lambda`:"
   ]
  },
  {
   "cell_type": "code",
   "execution_count": 30,
   "metadata": {},
   "outputs": [
    {
     "data": {
      "text/plain": [
       "[10, 6, 4, 2, 8]"
      ]
     },
     "execution_count": 30,
     "metadata": {},
     "output_type": "execute_result"
    }
   ],
   "source": [
    "list(map(lambda x: 2*x, numeros))"
   ]
  },
  {
   "cell_type": "markdown",
   "metadata": {},
   "source": [
    "Uma lista também pode ser filtrada com base em uma condição:"
   ]
  },
  {
   "cell_type": "code",
   "execution_count": 31,
   "metadata": {},
   "outputs": [
    {
     "data": {
      "text/plain": [
       "[5, 4]"
      ]
     },
     "execution_count": 31,
     "metadata": {},
     "output_type": "execute_result"
    }
   ],
   "source": [
    "#Selecionar apenas os elementos maiores que 3\n",
    "list(filter(lambda x: x > 3, numeros))"
   ]
  },
  {
   "cell_type": "markdown",
   "metadata": {},
   "source": [
    "### Desempacotando uma lista"
   ]
  },
  {
   "cell_type": "code",
   "execution_count": 32,
   "metadata": {},
   "outputs": [],
   "source": [
    "a, b, c, _ = [10, 11, 12, 13]"
   ]
  },
  {
   "cell_type": "code",
   "execution_count": 33,
   "metadata": {},
   "outputs": [
    {
     "data": {
      "text/plain": [
       "10"
      ]
     },
     "execution_count": 33,
     "metadata": {},
     "output_type": "execute_result"
    }
   ],
   "source": [
    "a"
   ]
  },
  {
   "cell_type": "code",
   "execution_count": 34,
   "metadata": {},
   "outputs": [
    {
     "data": {
      "text/plain": [
       "11"
      ]
     },
     "execution_count": 34,
     "metadata": {},
     "output_type": "execute_result"
    }
   ],
   "source": [
    "b"
   ]
  },
  {
   "cell_type": "code",
   "execution_count": 35,
   "metadata": {},
   "outputs": [
    {
     "data": {
      "text/plain": [
       "12"
      ]
     },
     "execution_count": 35,
     "metadata": {},
     "output_type": "execute_result"
    }
   ],
   "source": [
    "c"
   ]
  },
  {
   "cell_type": "markdown",
   "metadata": {},
   "source": [
    "### Alguns tipos especiais de lista"
   ]
  },
  {
   "cell_type": "markdown",
   "metadata": {},
   "source": [
    "#### Lista de números consecutivos"
   ]
  },
  {
   "cell_type": "code",
   "execution_count": 36,
   "metadata": {},
   "outputs": [
    {
     "data": {
      "text/plain": [
       "[0, 1, 2, 3, 4, 5, 6, 7, 8, 9]"
      ]
     },
     "execution_count": 36,
     "metadata": {},
     "output_type": "execute_result"
    }
   ],
   "source": [
    "list(range(10))"
   ]
  },
  {
   "cell_type": "code",
   "execution_count": 37,
   "metadata": {},
   "outputs": [
    {
     "data": {
      "text/plain": [
       "[15, 16, 17, 18, 19, 20]"
      ]
     },
     "execution_count": 37,
     "metadata": {},
     "output_type": "execute_result"
    }
   ],
   "source": [
    "list(range(15, 21))"
   ]
  },
  {
   "cell_type": "markdown",
   "metadata": {},
   "source": [
    "#### Lista de números seguidos mas \"pulando\"\n",
    "(vulgo Progressão Aritmética)"
   ]
  },
  {
   "cell_type": "code",
   "execution_count": 38,
   "metadata": {},
   "outputs": [
    {
     "data": {
      "text/plain": [
       "[10, 12, 14, 16, 18]"
      ]
     },
     "execution_count": 38,
     "metadata": {},
     "output_type": "execute_result"
    }
   ],
   "source": [
    "list(range(10, 20, 2))"
   ]
  },
  {
   "cell_type": "markdown",
   "metadata": {},
   "source": [
    "#### Lista de números aleatórios"
   ]
  },
  {
   "cell_type": "code",
   "execution_count": 39,
   "metadata": {},
   "outputs": [
    {
     "data": {
      "text/plain": [
       "[0.7740519339699002,\n",
       " 0.41826267828758945,\n",
       " 0.7764493912662824,\n",
       " 0.4504817371484061,\n",
       " 0.26952124804872823]"
      ]
     },
     "execution_count": 39,
     "metadata": {},
     "output_type": "execute_result"
    }
   ],
   "source": [
    "from numpy.random import random\n",
    "list(random(5))"
   ]
  },
  {
   "cell_type": "code",
   "execution_count": 40,
   "metadata": {},
   "outputs": [
    {
     "data": {
      "text/plain": [
       "[1.1120735323165667,\n",
       " -0.7695167763131225,\n",
       " -1.6479078847753221,\n",
       " 0.7716325762433557,\n",
       " -0.7900204792327529]"
      ]
     },
     "execution_count": 40,
     "metadata": {},
     "output_type": "execute_result"
    }
   ],
   "source": [
    "from numpy.random import normal\n",
    "list(normal(size=5))"
   ]
  },
  {
   "cell_type": "code",
   "execution_count": 41,
   "metadata": {},
   "outputs": [
    {
     "data": {
      "text/plain": [
       "[5.878664673459896,\n",
       " 6.435719364238884,\n",
       " 6.225759709312125,\n",
       " 6.111487405861259,\n",
       " 5.75504601054053]"
      ]
     },
     "execution_count": 41,
     "metadata": {},
     "output_type": "execute_result"
    }
   ],
   "source": [
    "list(normal(loc=6, scale=0.3, size=5))"
   ]
  },
  {
   "cell_type": "code",
   "execution_count": 42,
   "metadata": {},
   "outputs": [
    {
     "data": {
      "text/plain": [
       "[1, 2, 4, 5, 6]"
      ]
     },
     "execution_count": 42,
     "metadata": {},
     "output_type": "execute_result"
    }
   ],
   "source": [
    "from numpy.random import poisson\n",
    "list(poisson(3, size=5))"
   ]
  },
  {
   "cell_type": "markdown",
   "metadata": {},
   "source": [
    "## Tuplas\n",
    "Uma tupla é que nem uma lista, mas ela não pode ser alterada."
   ]
  },
  {
   "cell_type": "code",
   "execution_count": 43,
   "metadata": {},
   "outputs": [],
   "source": [
    "pokemons = ('Pikachu','Bulbassauro','Charmander')"
   ]
  },
  {
   "cell_type": "code",
   "execution_count": 44,
   "metadata": {},
   "outputs": [
    {
     "data": {
      "text/plain": [
       "'Bulbassauro'"
      ]
     },
     "execution_count": 44,
     "metadata": {},
     "output_type": "execute_result"
    }
   ],
   "source": [
    "pokemons[1]"
   ]
  },
  {
   "cell_type": "code",
   "execution_count": 45,
   "metadata": {},
   "outputs": [
    {
     "name": "stdout",
     "output_type": "stream",
     "text": [
      "Pikachu, eu escolho você!!!\n",
      "Bulbassauro, eu escolho você!!!\n",
      "Charmander, eu escolho você!!!\n"
     ]
    }
   ],
   "source": [
    "for p in pokemons:\n",
    "    print(p + ', eu escolho você!!!')"
   ]
  },
  {
   "cell_type": "markdown",
   "metadata": {},
   "source": [
    "Se tentamos modificar uma tupla, o Python ou dá erro..."
   ]
  },
  {
   "cell_type": "code",
   "execution_count": 46,
   "metadata": {},
   "outputs": [
    {
     "ename": "AttributeError",
     "evalue": "'tuple' object has no attribute 'append'",
     "output_type": "error",
     "traceback": [
      "\u001b[1;31m---------------------------------------------------------------------------\u001b[0m",
      "\u001b[1;31mAttributeError\u001b[0m                            Traceback (most recent call last)",
      "Input \u001b[1;32mIn [46]\u001b[0m, in \u001b[0;36m<cell line: 1>\u001b[1;34m()\u001b[0m\n\u001b[1;32m----> 1\u001b[0m \u001b[43mpokemons\u001b[49m\u001b[38;5;241;43m.\u001b[39;49m\u001b[43mappend\u001b[49m(\u001b[38;5;124m'\u001b[39m\u001b[38;5;124mMagicarp\u001b[39m\u001b[38;5;124m'\u001b[39m)\n",
      "\u001b[1;31mAttributeError\u001b[0m: 'tuple' object has no attribute 'append'"
     ]
    }
   ],
   "source": [
    "pokemons.append('Magicarp')"
   ]
  },
  {
   "cell_type": "markdown",
   "metadata": {},
   "source": [
    "... ou transforma a tupla em uma lista:"
   ]
  },
  {
   "cell_type": "code",
   "execution_count": 47,
   "metadata": {},
   "outputs": [
    {
     "data": {
      "text/plain": [
       "['Bulbassauro', 'Charmander', 'Pikachu']"
      ]
     },
     "execution_count": 47,
     "metadata": {},
     "output_type": "execute_result"
    }
   ],
   "source": [
    "sorted(pokemons)"
   ]
  },
  {
   "cell_type": "markdown",
   "metadata": {},
   "source": [
    "Para transformar uma tupla numa lista ou uma lista numa tupla, podemos usar os comandos `list` e `tuple`:"
   ]
  },
  {
   "cell_type": "code",
   "execution_count": 48,
   "metadata": {},
   "outputs": [
    {
     "data": {
      "text/plain": [
       "['Pikachu', 'Bulbassauro', 'Charmander']"
      ]
     },
     "execution_count": 48,
     "metadata": {},
     "output_type": "execute_result"
    }
   ],
   "source": [
    "list(pokemons)"
   ]
  },
  {
   "cell_type": "code",
   "execution_count": 49,
   "metadata": {},
   "outputs": [
    {
     "data": {
      "text/plain": [
       "('Luke', 'Leia', 'Shmi', 'Anakin', 'Han', 'Ben', 'Rey', 'Johny Walker')"
      ]
     },
     "execution_count": 49,
     "metadata": {},
     "output_type": "execute_result"
    }
   ],
   "source": [
    "tuple(skywalkers)"
   ]
  },
  {
   "cell_type": "markdown",
   "metadata": {},
   "source": [
    "Em uma igualdade de tuplas, cada termo da primeira tupla é igual ao termo correspondente da segunda:"
   ]
  },
  {
   "cell_type": "code",
   "execution_count": 50,
   "metadata": {},
   "outputs": [
    {
     "name": "stdout",
     "output_type": "stream",
     "text": [
      "a = 1 e b = 2\n"
     ]
    }
   ],
   "source": [
    "a, b = (1, 2)\n",
    "print(f'a = {a} e b = {b}')"
   ]
  },
  {
   "cell_type": "markdown",
   "metadata": {},
   "source": [
    "Não precisamos dos parêntesis para definir uma tupla:"
   ]
  },
  {
   "cell_type": "code",
   "execution_count": 51,
   "metadata": {},
   "outputs": [
    {
     "name": "stdout",
     "output_type": "stream",
     "text": [
      "a = 1 e b = 2\n"
     ]
    }
   ],
   "source": [
    "a, b = 1, 2\n",
    "print(f'a = {a} e b = {b}')"
   ]
  },
  {
   "cell_type": "markdown",
   "metadata": {},
   "source": [
    "Isso pode ser usado para trocar variáveis:"
   ]
  },
  {
   "cell_type": "code",
   "execution_count": 52,
   "metadata": {},
   "outputs": [
    {
     "name": "stdout",
     "output_type": "stream",
     "text": [
      "a = 2 e b = 1\n"
     ]
    }
   ],
   "source": [
    "a = 1\n",
    "b = 2\n",
    "\n",
    "a, b = b, a\n",
    "\n",
    "print(f'a = {a} e b = {b}')"
   ]
  },
  {
   "cell_type": "markdown",
   "metadata": {},
   "source": [
    "Quando uma função retorna vários outputs, é usual que a resposta venha em uma tupla:"
   ]
  },
  {
   "cell_type": "code",
   "execution_count": 53,
   "metadata": {},
   "outputs": [
    {
     "data": {
      "text/plain": [
       "(10, 15, 20)"
      ]
     },
     "execution_count": 53,
     "metadata": {},
     "output_type": "execute_result"
    }
   ],
   "source": [
    "def dobro_triplo_quadruplo(x):\n",
    "    return(2*x, 3*x, 4*x)\n",
    "\n",
    "dobro_triplo_quadruplo(5)"
   ]
  },
  {
   "cell_type": "markdown",
   "metadata": {},
   "source": [
    "Também é possível passar vários argumentos a uma função e pedir que eles sejam todos colocados em uma tupla. Isso é feito colocando-se um asterisco na frente do nome a ser dado à tupla de argumentos:"
   ]
  },
  {
   "cell_type": "code",
   "execution_count": 2,
   "metadata": {},
   "outputs": [
    {
     "data": {
      "text/plain": [
       "(1, 2, 3, 4, 5)"
      ]
     },
     "execution_count": 2,
     "metadata": {},
     "output_type": "execute_result"
    }
   ],
   "source": [
    "def f(*args):\n",
    "    return(args)\n",
    "\n",
    "f(1,2,3,4,5)"
   ]
  },
  {
   "cell_type": "markdown",
   "metadata": {},
   "source": [
    "Para o que é que isso serve????\n",
    "\n",
    "Isso é útil quando não sabemos quantos argumentos nossa função deverá receber. Ao colocá-los em uma única tupla, nossa função irá operar sobre um único argumento (a tupla) que poderá conter quantos elementos forem necessários. Considere, por exemplo, o caso de uma função que soma vários números. Nós não queremos uma função que some apenas 2 números, ou apenas 3. Queremos uma função que possa receber um número arbitrário de parcelas e somá-las todas. Podemos fazer isso assim:"
   ]
  },
  {
   "cell_type": "code",
   "execution_count": 7,
   "metadata": {},
   "outputs": [
    {
     "name": "stdout",
     "output_type": "stream",
     "text": [
      "6\n",
      "15\n",
      "55\n"
     ]
    }
   ],
   "source": [
    "def soma(*parcelas):\n",
    "    total = 0\n",
    "    for p in parcelas:\n",
    "        total += p\n",
    "    return(total)\n",
    "\n",
    "print(soma(1,2,3))\n",
    "print(soma(1,2,3,4,5))\n",
    "print(soma(1,2,3,4,5,6,7,8,9,10))"
   ]
  },
  {
   "cell_type": "markdown",
   "metadata": {},
   "source": [
    "### Exemplo: Análise Estatística com o pacote _Scipy_\n",
    "As funções do pacote _scipy_ utilizam tuplas com bastante frequência:"
   ]
  },
  {
   "cell_type": "code",
   "execution_count": 54,
   "metadata": {},
   "outputs": [],
   "source": [
    "from scipy.stats import describe, ttest_1samp # <- isto também é uma tupla :)"
   ]
  },
  {
   "cell_type": "code",
   "execution_count": 55,
   "metadata": {},
   "outputs": [
    {
     "data": {
      "text/plain": [
       "array([2.44022456, 4.18930581, 3.43814657, 3.37434738, 2.68327377,\n",
       "       4.55307362, 3.02035539, 3.30645583, 3.56287821, 3.65151519,\n",
       "       3.78080461, 1.90249507, 5.45013289, 0.8850745 , 4.69703591,\n",
       "       1.53117845, 2.16008781, 3.40946683, 4.65164743, 2.76842196,\n",
       "       3.70466075, 3.28128177, 4.80314123, 3.08674818, 1.82988675,\n",
       "       4.26197265, 2.26144261, 2.45244086, 2.65566719, 3.53480485,\n",
       "       3.12826427, 3.10202767, 4.38763335, 2.7492386 , 3.22674598,\n",
       "       4.93315922, 2.94176871, 3.61130085, 3.2324174 , 2.09997099,\n",
       "       2.99428923, 3.43062798, 2.67302401, 3.55185284, 4.06516625,\n",
       "       2.06662779, 2.37215878, 3.21260905, 1.79125114, 2.73215724,\n",
       "       2.62501153, 5.14148715, 4.83858703, 4.32630909, 2.5361459 ,\n",
       "       2.9431005 , 2.95162722, 2.8606021 , 3.93775616, 4.72057392,\n",
       "       3.55017033, 2.90343493, 2.84193659, 1.27231439, 3.1719894 ,\n",
       "       3.4329618 , 4.11087906, 4.7487553 , 4.58292205, 3.91956498,\n",
       "       2.39496169, 4.19170123, 3.11772669, 1.41315318, 2.94128654,\n",
       "       3.62218697, 3.47765009, 3.32504049, 2.95956354, 2.55382343,\n",
       "       4.45207301, 3.92587828, 1.79729947, 2.65436091, 4.09099405,\n",
       "       3.09783219, 4.1191582 , 4.90602402, 1.69999898, 3.41809988,\n",
       "       2.66035098, 2.56219748, 1.26770611, 2.90480854, 1.47861305,\n",
       "       2.17259045, 3.50345949, 2.74390352, 1.85946414, 4.01863775])"
      ]
     },
     "execution_count": 55,
     "metadata": {},
     "output_type": "execute_result"
    }
   ],
   "source": [
    "x = normal(loc=3, scale=1, size=100)\n",
    "x"
   ]
  },
  {
   "cell_type": "code",
   "execution_count": 56,
   "metadata": {},
   "outputs": [
    {
     "data": {
      "text/plain": [
       "Ttest_1sampResult(statistic=2.0941835505058384, pvalue=0.038797716380754875)"
      ]
     },
     "execution_count": 56,
     "metadata": {},
     "output_type": "execute_result"
    }
   ],
   "source": [
    "ttest_1samp(x, 3)"
   ]
  },
  {
   "cell_type": "code",
   "execution_count": 57,
   "metadata": {},
   "outputs": [
    {
     "name": "stdout",
     "output_type": "stream",
     "text": [
      "t = 2.0941835505058384\n",
      "valor-p = 0.038797716380754875\n"
     ]
    }
   ],
   "source": [
    "t, p = ttest_1samp(x, 3)\n",
    "print(f't = {t}')\n",
    "print(f'valor-p = {p}')"
   ]
  },
  {
   "cell_type": "markdown",
   "metadata": {},
   "source": [
    "Às vezes a estrutura é mais complexa..."
   ]
  },
  {
   "cell_type": "code",
   "execution_count": 58,
   "metadata": {},
   "outputs": [
    {
     "data": {
      "text/plain": [
       "DescribeResult(nobs=100, minmax=(0.8850745017787971, 5.450132887533878), mean=3.203769338193011, variance=0.9467780527169265, skewness=0.0030312540726951773, kurtosis=-0.4176330686749683)"
      ]
     },
     "execution_count": 58,
     "metadata": {},
     "output_type": "execute_result"
    }
   ],
   "source": [
    "describe(x)"
   ]
  },
  {
   "cell_type": "code",
   "execution_count": 59,
   "metadata": {},
   "outputs": [
    {
     "name": "stdout",
     "output_type": "stream",
     "text": [
      "média = 3.203769338193011\n",
      "amplitude = 4.565058385755082\n"
     ]
    }
   ],
   "source": [
    "n, (a, b), m, v, s, k = describe(x)\n",
    "\n",
    "print(f'média = {m}')\n",
    "print(f'amplitude = {b - a}')"
   ]
  },
  {
   "cell_type": "code",
   "execution_count": null,
   "metadata": {},
   "outputs": [],
   "source": []
  },
  {
   "cell_type": "markdown",
   "metadata": {},
   "source": [
    "## Conjuntos\n",
    "\n",
    "Em uma lista/tupla, os elementos têm uma ordem.  \n",
    "Em um conjunto, não.\n",
    "Além disso, um conjunto não têm elementos repetidos."
   ]
  },
  {
   "cell_type": "code",
   "execution_count": null,
   "metadata": {},
   "outputs": [],
   "source": [
    "#Uma turma de 5 alunos.\n",
    "#Cada aluno votou em quem é o melhor professor...\n",
    "votos_dos_alunos = ['Felipe','Felipe','Felipe','Socrates','Felipe']\n",
    "\n",
    "professores_que_receberam_votos = set(votos_dos_alunos)\n",
    "\n",
    "list(professores_que_receberam_votos)"
   ]
  },
  {
   "cell_type": "markdown",
   "metadata": {},
   "source": [
    "Nós não vamos usar muito conjuntos. Quando usarmos, falaremos mais sobre eles."
   ]
  }
 ],
 "metadata": {
  "kernelspec": {
   "display_name": "Python 3 (ipykernel)",
   "language": "python",
   "name": "python3"
  },
  "language_info": {
   "codemirror_mode": {
    "name": "ipython",
    "version": 3
   },
   "file_extension": ".py",
   "mimetype": "text/x-python",
   "name": "python",
   "nbconvert_exporter": "python",
   "pygments_lexer": "ipython3",
   "version": "3.8.5"
  }
 },
 "nbformat": 4,
 "nbformat_minor": 4
}
