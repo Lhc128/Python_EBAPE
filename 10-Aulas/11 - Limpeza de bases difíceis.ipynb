{
 "cells": [
  {
   "cell_type": "markdown",
   "id": "fa1791e9-ce6d-4900-b056-59b33b43511e",
   "metadata": {},
   "source": [
    "# Limpeza de bases difíceis\n",
    "\n"
   ]
  },
  {
   "cell_type": "markdown",
   "id": "3b1080c1-2958-46df-aff8-1657bf30e0d4",
   "metadata": {},
   "source": [
    "## Os dados não começam na primeira linha! E agora?"
   ]
  },
  {
   "cell_type": "code",
   "execution_count": 95,
   "id": "ed596af4-8a07-45e8-9a1a-8565fa5b258b",
   "metadata": {},
   "outputs": [
    {
     "data": {
      "text/html": [
       "<div><div id=265e5d1a-1c8e-433b-9148-f2d1b00507e2 style=\"display:none; background-color:#9D6CFF; color:white; width:200px; height:30px; padding-left:5px; border-radius:4px; flex-direction:row; justify-content:space-around; align-items:center;\" onmouseover=\"this.style.backgroundColor='#BA9BF8'\" onmouseout=\"this.style.backgroundColor='#9D6CFF'\" onclick=\"window.commands?.execute('create-mitosheet-from-dataframe-output');\">See Full Dataframe in Mito</div> <script> if (window.commands.hasCommand('create-mitosheet-from-dataframe-output')) document.getElementById('265e5d1a-1c8e-433b-9148-f2d1b00507e2').style.display = 'flex' </script> <table border=\"1\" class=\"dataframe\">\n",
       "  <thead>\n",
       "    <tr style=\"text-align: right;\">\n",
       "      <th></th>\n",
       "      <th>Marketing campain data - 2022</th>\n",
       "      <th>Unnamed: 1</th>\n",
       "      <th>Unnamed: 2</th>\n",
       "      <th>Unnamed: 3</th>\n",
       "      <th>Unnamed: 4</th>\n",
       "      <th>Unnamed: 5</th>\n",
       "    </tr>\n",
       "  </thead>\n",
       "  <tbody>\n",
       "    <tr>\n",
       "      <th>0</th>\n",
       "      <td>Dirty dataset made by Felipe Buchbinder</td>\n",
       "      <td>NaN</td>\n",
       "      <td>NaN</td>\n",
       "      <td>NaN</td>\n",
       "      <td>NaN</td>\n",
       "      <td>NaN</td>\n",
       "    </tr>\n",
       "    <tr>\n",
       "      <th>1</th>\n",
       "      <td>Hope you have fun cleaning it!</td>\n",
       "      <td>NaN</td>\n",
       "      <td>NaN</td>\n",
       "      <td>NaN</td>\n",
       "      <td>NaN</td>\n",
       "      <td>NaN</td>\n",
       "    </tr>\n",
       "    <tr>\n",
       "      <th>2</th>\n",
       "      <td>id</td>\n",
       "      <td>job</td>\n",
       "      <td>marital</td>\n",
       "      <td>education</td>\n",
       "      <td>e-mail</td>\n",
       "      <td>age</td>\n",
       "    </tr>\n",
       "    <tr>\n",
       "      <th>3</th>\n",
       "      <td>1</td>\n",
       "      <td>unemployed</td>\n",
       "      <td>married</td>\n",
       "      <td>MSc, PhD or equivalent</td>\n",
       "      <td>id1@gmail.com</td>\n",
       "      <td>30 yeard old</td>\n",
       "    </tr>\n",
       "    <tr>\n",
       "      <th>4</th>\n",
       "      <td>2</td>\n",
       "      <td>services</td>\n",
       "      <td>married</td>\n",
       "      <td>college</td>\n",
       "      <td>id2@gmail.com</td>\n",
       "      <td>33 yeard old</td>\n",
       "    </tr>\n",
       "  </tbody>\n",
       "</table></div>"
      ],
      "text/plain": [
       "             Marketing campain data - 2022  Unnamed: 1 Unnamed: 2  \\\n",
       "0  Dirty dataset made by Felipe Buchbinder         NaN        NaN   \n",
       "1           Hope you have fun cleaning it!         NaN        NaN   \n",
       "2                                       id         job    marital   \n",
       "3                                        1  unemployed    married   \n",
       "4                                        2    services    married   \n",
       "\n",
       "               Unnamed: 3     Unnamed: 4    Unnamed: 5  \n",
       "0                     NaN            NaN           NaN  \n",
       "1                     NaN            NaN           NaN  \n",
       "2               education         e-mail           age  \n",
       "3  MSc, PhD or equivalent  id1@gmail.com  30 yeard old  \n",
       "4                 college  id2@gmail.com  33 yeard old  "
      ]
     },
     "execution_count": 95,
     "metadata": {},
     "output_type": "execute_result"
    }
   ],
   "source": [
    "clientes = pd.read_excel('dados/base-suja.xlsx')\n",
    "clientes.head(5)"
   ]
  },
  {
   "cell_type": "code",
   "execution_count": 96,
   "id": "53d55df7-ab0e-4670-a61c-afc935fcb360",
   "metadata": {},
   "outputs": [
    {
     "data": {
      "text/html": [
       "<div><div id=ff79f88f-76a8-4e31-a79e-65856ad3a245 style=\"display:none; background-color:#9D6CFF; color:white; width:200px; height:30px; padding-left:5px; border-radius:4px; flex-direction:row; justify-content:space-around; align-items:center;\" onmouseover=\"this.style.backgroundColor='#BA9BF8'\" onmouseout=\"this.style.backgroundColor='#9D6CFF'\" onclick=\"window.commands?.execute('create-mitosheet-from-dataframe-output');\">See Full Dataframe in Mito</div> <script> if (window.commands.hasCommand('create-mitosheet-from-dataframe-output')) document.getElementById('ff79f88f-76a8-4e31-a79e-65856ad3a245').style.display = 'flex' </script> <table border=\"1\" class=\"dataframe\">\n",
       "  <thead>\n",
       "    <tr style=\"text-align: right;\">\n",
       "      <th></th>\n",
       "      <th>id</th>\n",
       "      <th>job</th>\n",
       "      <th>marital</th>\n",
       "      <th>education</th>\n",
       "      <th>e-mail</th>\n",
       "      <th>age</th>\n",
       "    </tr>\n",
       "  </thead>\n",
       "  <tbody>\n",
       "    <tr>\n",
       "      <th>0</th>\n",
       "      <td>1</td>\n",
       "      <td>unemployed</td>\n",
       "      <td>married</td>\n",
       "      <td>MSc, PhD or equivalent</td>\n",
       "      <td>id1@gmail.com</td>\n",
       "      <td>30 yeard old</td>\n",
       "    </tr>\n",
       "    <tr>\n",
       "      <th>1</th>\n",
       "      <td>2</td>\n",
       "      <td>services</td>\n",
       "      <td>married</td>\n",
       "      <td>college</td>\n",
       "      <td>id2@gmail.com</td>\n",
       "      <td>33 yeard old</td>\n",
       "    </tr>\n",
       "    <tr>\n",
       "      <th>2</th>\n",
       "      <td>3</td>\n",
       "      <td>management</td>\n",
       "      <td>single</td>\n",
       "      <td>high school</td>\n",
       "      <td>id3@gmail.com</td>\n",
       "      <td>35 yeard old</td>\n",
       "    </tr>\n",
       "    <tr>\n",
       "      <th>3</th>\n",
       "      <td>4</td>\n",
       "      <td>management</td>\n",
       "      <td>married</td>\n",
       "      <td>MSc, PhD or equivalent</td>\n",
       "      <td>id4@gmail.com</td>\n",
       "      <td>30 yeard old</td>\n",
       "    </tr>\n",
       "    <tr>\n",
       "      <th>4</th>\n",
       "      <td>5</td>\n",
       "      <td>NaN</td>\n",
       "      <td>married</td>\n",
       "      <td>NaN</td>\n",
       "      <td>id5@gmail.com</td>\n",
       "      <td>59 yeard old</td>\n",
       "    </tr>\n",
       "  </tbody>\n",
       "</table></div>"
      ],
      "text/plain": [
       "   id         job  marital               education         e-mail  \\\n",
       "0   1  unemployed  married  MSc, PhD or equivalent  id1@gmail.com   \n",
       "1   2    services  married                 college  id2@gmail.com   \n",
       "2   3  management   single             high school  id3@gmail.com   \n",
       "3   4  management  married  MSc, PhD or equivalent  id4@gmail.com   \n",
       "4   5         NaN  married                     NaN  id5@gmail.com   \n",
       "\n",
       "            age  \n",
       "0  30 yeard old  \n",
       "1  33 yeard old  \n",
       "2  35 yeard old  \n",
       "3  30 yeard old  \n",
       "4  59 yeard old  "
      ]
     },
     "execution_count": 96,
     "metadata": {},
     "output_type": "execute_result"
    }
   ],
   "source": [
    "clientes = pd.read_excel('dados/base-suja.xlsx', skiprows=3)\n",
    "clientes.head(5)"
   ]
  },
  {
   "cell_type": "markdown",
   "id": "10234ef0-45f0-4cbf-a136-ef2674a25901",
   "metadata": {},
   "source": [
    "## O índice não corresponde ao identificador"
   ]
  },
  {
   "cell_type": "code",
   "execution_count": 97,
   "id": "7881304b-ec8a-4e65-a927-9f1b53e3673d",
   "metadata": {},
   "outputs": [
    {
     "data": {
      "text/html": [
       "<div><div id=8141be2a-2c64-4765-96dc-201bcbb6222f style=\"display:none; background-color:#9D6CFF; color:white; width:200px; height:30px; padding-left:5px; border-radius:4px; flex-direction:row; justify-content:space-around; align-items:center;\" onmouseover=\"this.style.backgroundColor='#BA9BF8'\" onmouseout=\"this.style.backgroundColor='#9D6CFF'\" onclick=\"window.commands?.execute('create-mitosheet-from-dataframe-output');\">See Full Dataframe in Mito</div> <script> if (window.commands.hasCommand('create-mitosheet-from-dataframe-output')) document.getElementById('8141be2a-2c64-4765-96dc-201bcbb6222f').style.display = 'flex' </script> <table border=\"1\" class=\"dataframe\">\n",
       "  <thead>\n",
       "    <tr style=\"text-align: right;\">\n",
       "      <th></th>\n",
       "      <th>job</th>\n",
       "      <th>marital</th>\n",
       "      <th>education</th>\n",
       "      <th>e-mail</th>\n",
       "      <th>age</th>\n",
       "    </tr>\n",
       "    <tr>\n",
       "      <th>id</th>\n",
       "      <th></th>\n",
       "      <th></th>\n",
       "      <th></th>\n",
       "      <th></th>\n",
       "      <th></th>\n",
       "    </tr>\n",
       "  </thead>\n",
       "  <tbody>\n",
       "    <tr>\n",
       "      <th>1</th>\n",
       "      <td>unemployed</td>\n",
       "      <td>married</td>\n",
       "      <td>MSc, PhD or equivalent</td>\n",
       "      <td>id1@gmail.com</td>\n",
       "      <td>30 yeard old</td>\n",
       "    </tr>\n",
       "    <tr>\n",
       "      <th>2</th>\n",
       "      <td>services</td>\n",
       "      <td>married</td>\n",
       "      <td>college</td>\n",
       "      <td>id2@gmail.com</td>\n",
       "      <td>33 yeard old</td>\n",
       "    </tr>\n",
       "    <tr>\n",
       "      <th>3</th>\n",
       "      <td>management</td>\n",
       "      <td>single</td>\n",
       "      <td>high school</td>\n",
       "      <td>id3@gmail.com</td>\n",
       "      <td>35 yeard old</td>\n",
       "    </tr>\n",
       "    <tr>\n",
       "      <th>4</th>\n",
       "      <td>management</td>\n",
       "      <td>married</td>\n",
       "      <td>MSc, PhD or equivalent</td>\n",
       "      <td>id4@gmail.com</td>\n",
       "      <td>30 yeard old</td>\n",
       "    </tr>\n",
       "    <tr>\n",
       "      <th>5</th>\n",
       "      <td>NaN</td>\n",
       "      <td>married</td>\n",
       "      <td>NaN</td>\n",
       "      <td>id5@gmail.com</td>\n",
       "      <td>59 yeard old</td>\n",
       "    </tr>\n",
       "  </tbody>\n",
       "</table></div>"
      ],
      "text/plain": [
       "           job  marital               education         e-mail           age\n",
       "id                                                                          \n",
       "1   unemployed  married  MSc, PhD or equivalent  id1@gmail.com  30 yeard old\n",
       "2     services  married                 college  id2@gmail.com  33 yeard old\n",
       "3   management   single             high school  id3@gmail.com  35 yeard old\n",
       "4   management  married  MSc, PhD or equivalent  id4@gmail.com  30 yeard old\n",
       "5          NaN  married                     NaN  id5@gmail.com  59 yeard old"
      ]
     },
     "execution_count": 97,
     "metadata": {},
     "output_type": "execute_result"
    }
   ],
   "source": [
    "clientes =clientes.set_index('id')\n",
    "clientes.head()"
   ]
  },
  {
   "cell_type": "markdown",
   "id": "f4639012-0868-4e64-bbeb-fc4e62502ffa",
   "metadata": {},
   "source": [
    "## Coluna `age` tem números e unidades! Quero só o número!"
   ]
  },
  {
   "cell_type": "code",
   "execution_count": 98,
   "id": "a551253d-3294-4f0d-a8a0-af89a7dbcfcb",
   "metadata": {},
   "outputs": [
    {
     "data": {
      "text/plain": [
       "id\n",
       "1    [30, yeard, old]\n",
       "2    [33, yeard, old]\n",
       "3    [35, yeard, old]\n",
       "4    [30, yeard, old]\n",
       "5    [59, yeard, old]\n",
       "Name: age, dtype: object"
      ]
     },
     "execution_count": 98,
     "metadata": {},
     "output_type": "execute_result"
    }
   ],
   "source": [
    "clientes.age.str.split(' ').head()"
   ]
  },
  {
   "cell_type": "code",
   "execution_count": 99,
   "id": "aa7e4a74-1818-4ebd-bd0b-b0bd89c07110",
   "metadata": {},
   "outputs": [
    {
     "data": {
      "text/html": [
       "<div><div id=12491a4d-d859-41cc-bd4a-9ccb479efee3 style=\"display:none; background-color:#9D6CFF; color:white; width:200px; height:30px; padding-left:5px; border-radius:4px; flex-direction:row; justify-content:space-around; align-items:center;\" onmouseover=\"this.style.backgroundColor='#BA9BF8'\" onmouseout=\"this.style.backgroundColor='#9D6CFF'\" onclick=\"window.commands?.execute('create-mitosheet-from-dataframe-output');\">See Full Dataframe in Mito</div> <script> if (window.commands.hasCommand('create-mitosheet-from-dataframe-output')) document.getElementById('12491a4d-d859-41cc-bd4a-9ccb479efee3').style.display = 'flex' </script> <table border=\"1\" class=\"dataframe\">\n",
       "  <thead>\n",
       "    <tr style=\"text-align: right;\">\n",
       "      <th></th>\n",
       "      <th>job</th>\n",
       "      <th>marital</th>\n",
       "      <th>education</th>\n",
       "      <th>e-mail</th>\n",
       "      <th>age</th>\n",
       "    </tr>\n",
       "    <tr>\n",
       "      <th>id</th>\n",
       "      <th></th>\n",
       "      <th></th>\n",
       "      <th></th>\n",
       "      <th></th>\n",
       "      <th></th>\n",
       "    </tr>\n",
       "  </thead>\n",
       "  <tbody>\n",
       "    <tr>\n",
       "      <th>1</th>\n",
       "      <td>unemployed</td>\n",
       "      <td>married</td>\n",
       "      <td>MSc, PhD or equivalent</td>\n",
       "      <td>id1@gmail.com</td>\n",
       "      <td>30</td>\n",
       "    </tr>\n",
       "    <tr>\n",
       "      <th>2</th>\n",
       "      <td>services</td>\n",
       "      <td>married</td>\n",
       "      <td>college</td>\n",
       "      <td>id2@gmail.com</td>\n",
       "      <td>33</td>\n",
       "    </tr>\n",
       "    <tr>\n",
       "      <th>3</th>\n",
       "      <td>management</td>\n",
       "      <td>single</td>\n",
       "      <td>high school</td>\n",
       "      <td>id3@gmail.com</td>\n",
       "      <td>35</td>\n",
       "    </tr>\n",
       "    <tr>\n",
       "      <th>4</th>\n",
       "      <td>management</td>\n",
       "      <td>married</td>\n",
       "      <td>MSc, PhD or equivalent</td>\n",
       "      <td>id4@gmail.com</td>\n",
       "      <td>30</td>\n",
       "    </tr>\n",
       "    <tr>\n",
       "      <th>5</th>\n",
       "      <td>NaN</td>\n",
       "      <td>married</td>\n",
       "      <td>NaN</td>\n",
       "      <td>id5@gmail.com</td>\n",
       "      <td>59</td>\n",
       "    </tr>\n",
       "  </tbody>\n",
       "</table></div>"
      ],
      "text/plain": [
       "           job  marital               education         e-mail age\n",
       "id                                                                \n",
       "1   unemployed  married  MSc, PhD or equivalent  id1@gmail.com  30\n",
       "2     services  married                 college  id2@gmail.com  33\n",
       "3   management   single             high school  id3@gmail.com  35\n",
       "4   management  married  MSc, PhD or equivalent  id4@gmail.com  30\n",
       "5          NaN  married                     NaN  id5@gmail.com  59"
      ]
     },
     "execution_count": 99,
     "metadata": {},
     "output_type": "execute_result"
    }
   ],
   "source": [
    "clientes['age'] = clientes.age.str.split(' ').apply(lambda x: x[0])\n",
    "clientes.head()"
   ]
  },
  {
   "cell_type": "markdown",
   "id": "947c6d23-9234-4d75-a1fd-a0346836f2cb",
   "metadata": {},
   "source": [
    "## Parte da informação está em outra tabela!"
   ]
  },
  {
   "cell_type": "code",
   "execution_count": 100,
   "id": "1574a648-6dcf-4f24-ace2-60a8aa551af3",
   "metadata": {},
   "outputs": [
    {
     "data": {
      "text/html": [
       "<div><div id=ce933ade-dbf1-4e2b-827b-5d67ee23fafc style=\"display:none; background-color:#9D6CFF; color:white; width:200px; height:30px; padding-left:5px; border-radius:4px; flex-direction:row; justify-content:space-around; align-items:center;\" onmouseover=\"this.style.backgroundColor='#BA9BF8'\" onmouseout=\"this.style.backgroundColor='#9D6CFF'\" onclick=\"window.commands?.execute('create-mitosheet-from-dataframe-output');\">See Full Dataframe in Mito</div> <script> if (window.commands.hasCommand('create-mitosheet-from-dataframe-output')) document.getElementById('ce933ade-dbf1-4e2b-827b-5d67ee23fafc').style.display = 'flex' </script> <table border=\"1\" class=\"dataframe\">\n",
       "  <thead>\n",
       "    <tr style=\"text-align: right;\">\n",
       "      <th></th>\n",
       "      <th>contact</th>\n",
       "      <th>buy</th>\n",
       "    </tr>\n",
       "    <tr>\n",
       "      <th>id</th>\n",
       "      <th></th>\n",
       "      <th></th>\n",
       "    </tr>\n",
       "  </thead>\n",
       "  <tbody>\n",
       "    <tr>\n",
       "      <th>1</th>\n",
       "      <td>cellular</td>\n",
       "      <td>no</td>\n",
       "    </tr>\n",
       "    <tr>\n",
       "      <th>2</th>\n",
       "      <td>cellular</td>\n",
       "      <td>no</td>\n",
       "    </tr>\n",
       "    <tr>\n",
       "      <th>3</th>\n",
       "      <td>cellular</td>\n",
       "      <td>no</td>\n",
       "    </tr>\n",
       "    <tr>\n",
       "      <th>4</th>\n",
       "      <td>unknown</td>\n",
       "      <td>NaN</td>\n",
       "    </tr>\n",
       "    <tr>\n",
       "      <th>5</th>\n",
       "      <td>unknown</td>\n",
       "      <td>no</td>\n",
       "    </tr>\n",
       "  </tbody>\n",
       "</table></div>"
      ],
      "text/plain": [
       "     contact  buy\n",
       "id               \n",
       "1   cellular   no\n",
       "2   cellular   no\n",
       "3   cellular   no\n",
       "4    unknown  NaN\n",
       "5    unknown   no"
      ]
     },
     "execution_count": 100,
     "metadata": {},
     "output_type": "execute_result"
    }
   ],
   "source": [
    "resultado_campanha = pd.read_excel('dados/base-suja.xlsx', \n",
    "                                   sheet_name='campaign-result', \n",
    "                                   index_col='id')\n",
    "resultado_campanha.head(5)"
   ]
  },
  {
   "cell_type": "code",
   "execution_count": 101,
   "id": "f2d492c6-9010-487a-8c00-0443b013c517",
   "metadata": {},
   "outputs": [
    {
     "data": {
      "text/html": [
       "<div><div id=0438f480-bf6a-4145-bb5f-01f399a4d979 style=\"display:none; background-color:#9D6CFF; color:white; width:200px; height:30px; padding-left:5px; border-radius:4px; flex-direction:row; justify-content:space-around; align-items:center;\" onmouseover=\"this.style.backgroundColor='#BA9BF8'\" onmouseout=\"this.style.backgroundColor='#9D6CFF'\" onclick=\"window.commands?.execute('create-mitosheet-from-dataframe-output');\">See Full Dataframe in Mito</div> <script> if (window.commands.hasCommand('create-mitosheet-from-dataframe-output')) document.getElementById('0438f480-bf6a-4145-bb5f-01f399a4d979').style.display = 'flex' </script> <table border=\"1\" class=\"dataframe\">\n",
       "  <thead>\n",
       "    <tr style=\"text-align: right;\">\n",
       "      <th></th>\n",
       "      <th>job</th>\n",
       "      <th>marital</th>\n",
       "      <th>education</th>\n",
       "      <th>e-mail</th>\n",
       "      <th>age</th>\n",
       "      <th>contact</th>\n",
       "      <th>buy</th>\n",
       "      <th>_merge</th>\n",
       "    </tr>\n",
       "    <tr>\n",
       "      <th>id</th>\n",
       "      <th></th>\n",
       "      <th></th>\n",
       "      <th></th>\n",
       "      <th></th>\n",
       "      <th></th>\n",
       "      <th></th>\n",
       "      <th></th>\n",
       "      <th></th>\n",
       "    </tr>\n",
       "  </thead>\n",
       "  <tbody>\n",
       "    <tr>\n",
       "      <th>1</th>\n",
       "      <td>unemployed</td>\n",
       "      <td>married</td>\n",
       "      <td>MSc, PhD or equivalent</td>\n",
       "      <td>id1@gmail.com</td>\n",
       "      <td>30</td>\n",
       "      <td>cellular</td>\n",
       "      <td>no</td>\n",
       "      <td>both</td>\n",
       "    </tr>\n",
       "    <tr>\n",
       "      <th>2</th>\n",
       "      <td>services</td>\n",
       "      <td>married</td>\n",
       "      <td>college</td>\n",
       "      <td>id2@gmail.com</td>\n",
       "      <td>33</td>\n",
       "      <td>cellular</td>\n",
       "      <td>no</td>\n",
       "      <td>both</td>\n",
       "    </tr>\n",
       "    <tr>\n",
       "      <th>3</th>\n",
       "      <td>management</td>\n",
       "      <td>single</td>\n",
       "      <td>high school</td>\n",
       "      <td>id3@gmail.com</td>\n",
       "      <td>35</td>\n",
       "      <td>cellular</td>\n",
       "      <td>no</td>\n",
       "      <td>both</td>\n",
       "    </tr>\n",
       "    <tr>\n",
       "      <th>4</th>\n",
       "      <td>management</td>\n",
       "      <td>married</td>\n",
       "      <td>MSc, PhD or equivalent</td>\n",
       "      <td>id4@gmail.com</td>\n",
       "      <td>30</td>\n",
       "      <td>unknown</td>\n",
       "      <td>NaN</td>\n",
       "      <td>both</td>\n",
       "    </tr>\n",
       "    <tr>\n",
       "      <th>5</th>\n",
       "      <td>NaN</td>\n",
       "      <td>married</td>\n",
       "      <td>NaN</td>\n",
       "      <td>id5@gmail.com</td>\n",
       "      <td>59</td>\n",
       "      <td>unknown</td>\n",
       "      <td>no</td>\n",
       "      <td>both</td>\n",
       "    </tr>\n",
       "  </tbody>\n",
       "</table></div>"
      ],
      "text/plain": [
       "           job  marital               education         e-mail age   contact  \\\n",
       "id                                                                             \n",
       "1   unemployed  married  MSc, PhD or equivalent  id1@gmail.com  30  cellular   \n",
       "2     services  married                 college  id2@gmail.com  33  cellular   \n",
       "3   management   single             high school  id3@gmail.com  35  cellular   \n",
       "4   management  married  MSc, PhD or equivalent  id4@gmail.com  30   unknown   \n",
       "5          NaN  married                     NaN  id5@gmail.com  59   unknown   \n",
       "\n",
       "    buy _merge  \n",
       "id              \n",
       "1    no   both  \n",
       "2    no   both  \n",
       "3    no   both  \n",
       "4   NaN   both  \n",
       "5    no   both  "
      ]
     },
     "execution_count": 101,
     "metadata": {},
     "output_type": "execute_result"
    }
   ],
   "source": [
    "df = pd.merge(clientes, resultado_campanha, \n",
    "              how = 'left', \n",
    "              on='id',\n",
    "              validate='1:1', \n",
    "              indicator=True)\n",
    "\n",
    "df.head()"
   ]
  },
  {
   "cell_type": "code",
   "execution_count": 102,
   "id": "c1b05524-825e-428b-a180-c66220d50402",
   "metadata": {},
   "outputs": [
    {
     "data": {
      "text/plain": [
       "((4521, 5), (4519, 2), (4521, 8))"
      ]
     },
     "execution_count": 102,
     "metadata": {},
     "output_type": "execute_result"
    }
   ],
   "source": [
    "clientes.shape, resultado_campanha.shape, df.shape"
   ]
  },
  {
   "cell_type": "markdown",
   "id": "d1cdfb8b-4519-4449-8f65-bac0d06c7e41",
   "metadata": {},
   "source": [
    "## Identificando problemas silenciosos na junção das bases"
   ]
  },
  {
   "cell_type": "code",
   "execution_count": 103,
   "id": "f380afe5-925b-43c6-a5c1-703b1353e3dd",
   "metadata": {},
   "outputs": [
    {
     "data": {
      "text/html": [
       "<div><div id=98693f55-8523-4e3f-872c-9232183fb422 style=\"display:none; background-color:#9D6CFF; color:white; width:200px; height:30px; padding-left:5px; border-radius:4px; flex-direction:row; justify-content:space-around; align-items:center;\" onmouseover=\"this.style.backgroundColor='#BA9BF8'\" onmouseout=\"this.style.backgroundColor='#9D6CFF'\" onclick=\"window.commands?.execute('create-mitosheet-from-dataframe-output');\">See Full Dataframe in Mito</div> <script> if (window.commands.hasCommand('create-mitosheet-from-dataframe-output')) document.getElementById('98693f55-8523-4e3f-872c-9232183fb422').style.display = 'flex' </script> <table border=\"1\" class=\"dataframe\">\n",
       "  <thead>\n",
       "    <tr style=\"text-align: right;\">\n",
       "      <th></th>\n",
       "      <th>job</th>\n",
       "      <th>marital</th>\n",
       "      <th>education</th>\n",
       "      <th>e-mail</th>\n",
       "      <th>age</th>\n",
       "      <th>contact</th>\n",
       "      <th>buy</th>\n",
       "      <th>_merge</th>\n",
       "    </tr>\n",
       "    <tr>\n",
       "      <th>id</th>\n",
       "      <th></th>\n",
       "      <th></th>\n",
       "      <th></th>\n",
       "      <th></th>\n",
       "      <th></th>\n",
       "      <th></th>\n",
       "      <th></th>\n",
       "      <th></th>\n",
       "    </tr>\n",
       "  </thead>\n",
       "  <tbody>\n",
       "    <tr>\n",
       "      <th>37</th>\n",
       "      <td>retired</td>\n",
       "      <td>divorced</td>\n",
       "      <td>high school</td>\n",
       "      <td>id37@gmail.com</td>\n",
       "      <td>78</td>\n",
       "      <td>NaN</td>\n",
       "      <td>NaN</td>\n",
       "      <td>left_only</td>\n",
       "    </tr>\n",
       "    <tr>\n",
       "      <th>73</th>\n",
       "      <td>management</td>\n",
       "      <td>single</td>\n",
       "      <td>MSc, PhD or equivalent</td>\n",
       "      <td>NaN</td>\n",
       "      <td>31</td>\n",
       "      <td>NaN</td>\n",
       "      <td>NaN</td>\n",
       "      <td>left_only</td>\n",
       "    </tr>\n",
       "  </tbody>\n",
       "</table></div>"
      ],
      "text/plain": [
       "           job   marital               education          e-mail age contact  \\\n",
       "id                                                                             \n",
       "37     retired  divorced             high school  id37@gmail.com  78     NaN   \n",
       "73  management    single  MSc, PhD or equivalent             NaN  31     NaN   \n",
       "\n",
       "    buy     _merge  \n",
       "id                  \n",
       "37  NaN  left_only  \n",
       "73  NaN  left_only  "
      ]
     },
     "execution_count": 103,
     "metadata": {},
     "output_type": "execute_result"
    }
   ],
   "source": [
    "df[df._merge!='both']"
   ]
  },
  {
   "cell_type": "code",
   "execution_count": 104,
   "id": "4a94d374-489a-4358-b710-a08974434a5a",
   "metadata": {},
   "outputs": [],
   "source": [
    "df = df[df._merge == 'both']\n",
    "df = df.drop(columns = ['_merge'])"
   ]
  },
  {
   "cell_type": "code",
   "execution_count": 105,
   "id": "aba9fb9c-04bb-4d8a-bcd4-c02c664b61cf",
   "metadata": {},
   "outputs": [
    {
     "data": {
      "text/plain": [
       "(4519, 7)"
      ]
     },
     "execution_count": 105,
     "metadata": {},
     "output_type": "execute_result"
    }
   ],
   "source": [
    "df.shape"
   ]
  },
  {
   "cell_type": "code",
   "execution_count": 106,
   "id": "0e8a7ce4-c907-4d80-9ed5-8eace5fc62cb",
   "metadata": {},
   "outputs": [
    {
     "data": {
      "text/html": [
       "<div><div id=323072e8-b25e-4b44-9a6b-32e54a93f50e style=\"display:none; background-color:#9D6CFF; color:white; width:200px; height:30px; padding-left:5px; border-radius:4px; flex-direction:row; justify-content:space-around; align-items:center;\" onmouseover=\"this.style.backgroundColor='#BA9BF8'\" onmouseout=\"this.style.backgroundColor='#9D6CFF'\" onclick=\"window.commands?.execute('create-mitosheet-from-dataframe-output');\">See Full Dataframe in Mito</div> <script> if (window.commands.hasCommand('create-mitosheet-from-dataframe-output')) document.getElementById('323072e8-b25e-4b44-9a6b-32e54a93f50e').style.display = 'flex' </script> <table border=\"1\" class=\"dataframe\">\n",
       "  <thead>\n",
       "    <tr style=\"text-align: right;\">\n",
       "      <th></th>\n",
       "      <th>job</th>\n",
       "      <th>marital</th>\n",
       "      <th>education</th>\n",
       "      <th>e-mail</th>\n",
       "      <th>age</th>\n",
       "      <th>contact</th>\n",
       "      <th>buy</th>\n",
       "    </tr>\n",
       "    <tr>\n",
       "      <th>id</th>\n",
       "      <th></th>\n",
       "      <th></th>\n",
       "      <th></th>\n",
       "      <th></th>\n",
       "      <th></th>\n",
       "      <th></th>\n",
       "      <th></th>\n",
       "    </tr>\n",
       "  </thead>\n",
       "  <tbody>\n",
       "    <tr>\n",
       "      <th>1</th>\n",
       "      <td>unemployed</td>\n",
       "      <td>married</td>\n",
       "      <td>MSc, PhD or equivalent</td>\n",
       "      <td>id1@gmail.com</td>\n",
       "      <td>30</td>\n",
       "      <td>cellular</td>\n",
       "      <td>no</td>\n",
       "    </tr>\n",
       "    <tr>\n",
       "      <th>2</th>\n",
       "      <td>services</td>\n",
       "      <td>married</td>\n",
       "      <td>college</td>\n",
       "      <td>id2@gmail.com</td>\n",
       "      <td>33</td>\n",
       "      <td>cellular</td>\n",
       "      <td>no</td>\n",
       "    </tr>\n",
       "    <tr>\n",
       "      <th>3</th>\n",
       "      <td>management</td>\n",
       "      <td>single</td>\n",
       "      <td>high school</td>\n",
       "      <td>id3@gmail.com</td>\n",
       "      <td>35</td>\n",
       "      <td>cellular</td>\n",
       "      <td>no</td>\n",
       "    </tr>\n",
       "    <tr>\n",
       "      <th>4</th>\n",
       "      <td>management</td>\n",
       "      <td>married</td>\n",
       "      <td>MSc, PhD or equivalent</td>\n",
       "      <td>id4@gmail.com</td>\n",
       "      <td>30</td>\n",
       "      <td>unknown</td>\n",
       "      <td>NaN</td>\n",
       "    </tr>\n",
       "    <tr>\n",
       "      <th>5</th>\n",
       "      <td>NaN</td>\n",
       "      <td>married</td>\n",
       "      <td>NaN</td>\n",
       "      <td>id5@gmail.com</td>\n",
       "      <td>59</td>\n",
       "      <td>unknown</td>\n",
       "      <td>no</td>\n",
       "    </tr>\n",
       "  </tbody>\n",
       "</table></div>"
      ],
      "text/plain": [
       "           job  marital               education         e-mail age   contact  \\\n",
       "id                                                                             \n",
       "1   unemployed  married  MSc, PhD or equivalent  id1@gmail.com  30  cellular   \n",
       "2     services  married                 college  id2@gmail.com  33  cellular   \n",
       "3   management   single             high school  id3@gmail.com  35  cellular   \n",
       "4   management  married  MSc, PhD or equivalent  id4@gmail.com  30   unknown   \n",
       "5          NaN  married                     NaN  id5@gmail.com  59   unknown   \n",
       "\n",
       "    buy  \n",
       "id       \n",
       "1    no  \n",
       "2    no  \n",
       "3    no  \n",
       "4   NaN  \n",
       "5    no  "
      ]
     },
     "execution_count": 106,
     "metadata": {},
     "output_type": "execute_result"
    }
   ],
   "source": [
    "df.head()"
   ]
  },
  {
   "cell_type": "markdown",
   "id": "82ae113d-c30e-40e9-97ce-65542a476254",
   "metadata": {},
   "source": [
    "## Trocando \"yes\" e \"no\" por True e False"
   ]
  },
  {
   "cell_type": "code",
   "execution_count": 107,
   "id": "a25d389a-84cd-4536-8ab4-bab2852109ef",
   "metadata": {},
   "outputs": [
    {
     "data": {
      "text/plain": [
       "no     3995\n",
       "yes     515\n",
       "Name: buy, dtype: int64"
      ]
     },
     "execution_count": 107,
     "metadata": {},
     "output_type": "execute_result"
    }
   ],
   "source": [
    "df.buy.value_counts()"
   ]
  },
  {
   "cell_type": "code",
   "execution_count": 108,
   "id": "e05129d1-85d8-4390-928f-a5b1aea08bfe",
   "metadata": {},
   "outputs": [
    {
     "data": {
      "text/plain": [
       "False    3995\n",
       "True      515\n",
       "Name: buy, dtype: int64"
      ]
     },
     "execution_count": 108,
     "metadata": {},
     "output_type": "execute_result"
    }
   ],
   "source": [
    "df['buy'] = df.buy.replace({'yes': True, 'no': False})\n",
    "df.buy.value_counts()"
   ]
  },
  {
   "cell_type": "markdown",
   "id": "e9905aaa-706f-410d-aabb-d0c2ee6bf229",
   "metadata": {},
   "source": [
    "## Corrigindo o tipo das variáveis"
   ]
  },
  {
   "cell_type": "code",
   "execution_count": 109,
   "id": "6a5dfdd0-0e63-4856-a590-f4d96cae57ee",
   "metadata": {},
   "outputs": [
    {
     "data": {
      "text/plain": [
       "job          object\n",
       "marital      object\n",
       "education    object\n",
       "e-mail       object\n",
       "age          object\n",
       "contact      object\n",
       "buy          object\n",
       "dtype: object"
      ]
     },
     "execution_count": 109,
     "metadata": {},
     "output_type": "execute_result"
    }
   ],
   "source": [
    "df.dtypes"
   ]
  },
  {
   "cell_type": "code",
   "execution_count": 110,
   "id": "c9b9beba-3819-4071-ba98-2300f5ca2b21",
   "metadata": {},
   "outputs": [
    {
     "data": {
      "text/plain": [
       "job          object\n",
       "marital      object\n",
       "education    object\n",
       "e-mail       object\n",
       "age           int32\n",
       "contact      object\n",
       "buy            bool\n",
       "dtype: object"
      ]
     },
     "execution_count": 110,
     "metadata": {},
     "output_type": "execute_result"
    }
   ],
   "source": [
    "df['age'] = df.age.astype('int')\n",
    "df['buy'] = df.buy.astype('bool')\n",
    "\n",
    "df.dtypes"
   ]
  },
  {
   "cell_type": "code",
   "execution_count": 111,
   "id": "b13935bd-0de9-4cc9-ba49-603510282ede",
   "metadata": {},
   "outputs": [
    {
     "data": {
      "text/plain": [
       "False    3995\n",
       "True      524\n",
       "Name: buy, dtype: int64"
      ]
     },
     "execution_count": 111,
     "metadata": {},
     "output_type": "execute_result"
    }
   ],
   "source": [
    "df.buy.value_counts()"
   ]
  },
  {
   "cell_type": "markdown",
   "id": "d7d71e42-cff7-41ec-bbdb-6066f28a09be",
   "metadata": {},
   "source": [
    "## Identificando missing values"
   ]
  },
  {
   "cell_type": "code",
   "execution_count": 112,
   "id": "352d90c5-73fb-45e3-b6aa-cb3331169faa",
   "metadata": {},
   "outputs": [
    {
     "data": {
      "text/plain": [
       "job             2\n",
       "marital         0\n",
       "education       2\n",
       "e-mail       4464\n",
       "age             0\n",
       "contact        39\n",
       "buy             0\n",
       "dtype: int64"
      ]
     },
     "execution_count": 112,
     "metadata": {},
     "output_type": "execute_result"
    }
   ],
   "source": [
    "df.isnull().sum()"
   ]
  },
  {
   "cell_type": "code",
   "execution_count": 113,
   "id": "dd7cabb4-dd52-48da-8ea7-e4e6b91fba7c",
   "metadata": {},
   "outputs": [
    {
     "data": {
      "text/plain": [
       "job          0.000443\n",
       "marital      0.000000\n",
       "education    0.000443\n",
       "e-mail       0.987829\n",
       "age          0.000000\n",
       "contact      0.008630\n",
       "buy          0.000000\n",
       "dtype: float64"
      ]
     },
     "execution_count": 113,
     "metadata": {},
     "output_type": "execute_result"
    }
   ],
   "source": [
    "df.isnull().mean()"
   ]
  },
  {
   "cell_type": "code",
   "execution_count": 114,
   "id": "b006d2eb-3630-42f9-ac0d-4418bbc1e4ee",
   "metadata": {},
   "outputs": [],
   "source": [
    "#!pip install missingno"
   ]
  },
  {
   "cell_type": "code",
   "execution_count": 115,
   "id": "aef1725e-5b41-4163-9a13-520da7c76b1c",
   "metadata": {},
   "outputs": [],
   "source": [
    "import missingno as mn"
   ]
  },
  {
   "cell_type": "code",
   "execution_count": 116,
   "id": "2a59f69b-d5b2-4f32-8436-248771d1388e",
   "metadata": {},
   "outputs": [
    {
     "data": {
      "text/plain": [
       "<AxesSubplot:>"
      ]
     },
     "execution_count": 116,
     "metadata": {},
     "output_type": "execute_result"
    },
    {
     "data": {
      "image/png": "[encoded data removed]",
      "text/plain": [
       "<Figure size 1440x864 with 2 Axes>"
      ]
     },
     "metadata": {
      "needs_background": "light"
     },
     "output_type": "display_data"
    }
   ],
   "source": [
    "mn.heatmap(df)"
   ]
  },
  {
   "cell_type": "markdown",
   "id": "871719d4-23a5-4d7c-a13c-ab276a0a4a40",
   "metadata": {},
   "source": [
    "## Tratando missing values\n",
    "\n",
    "* Retirar variável da base\n",
    "* Retirar observação da base\n",
    "* Imputar valor"
   ]
  },
  {
   "cell_type": "markdown",
   "id": "6703020e-718e-4bb6-840a-634b0cc39b26",
   "metadata": {},
   "source": [
    "### Coluna `e-mail`"
   ]
  },
  {
   "cell_type": "code",
   "execution_count": 117,
   "id": "c973c51c-ca0e-4ec9-ae8d-5d2621e450c2",
   "metadata": {},
   "outputs": [],
   "source": [
    "df = df.drop(columns = ['e-mail'])"
   ]
  },
  {
   "cell_type": "code",
   "execution_count": 118,
   "id": "5f90cad0-59a4-4a3e-a60c-321cb3320616",
   "metadata": {},
   "outputs": [
    {
     "data": {
      "text/plain": [
       "Index(['job', 'marital', 'education', 'age', 'contact', 'buy'], dtype='object')"
      ]
     },
     "execution_count": 118,
     "metadata": {},
     "output_type": "execute_result"
    }
   ],
   "source": [
    "df.columns"
   ]
  },
  {
   "cell_type": "markdown",
   "id": "4b15c6b6-bfd6-42ac-98b3-35e650d1f9a6",
   "metadata": {},
   "source": [
    "### Coluna  `job`\n",
    "\n",
    "Apenas 2 casos -> retirar da base."
   ]
  },
  {
   "cell_type": "code",
   "execution_count": 119,
   "id": "fd46fbbd-b5de-4191-bc90-59948cb6d68d",
   "metadata": {},
   "outputs": [],
   "source": [
    "df = df[~df.job.isnull()]"
   ]
  },
  {
   "cell_type": "code",
   "execution_count": 120,
   "id": "c4601fb2-1c21-41df-866a-0fc5654cdea8",
   "metadata": {},
   "outputs": [
    {
     "data": {
      "text/plain": [
       "job           0\n",
       "marital       0\n",
       "education     0\n",
       "age           0\n",
       "contact      39\n",
       "buy           0\n",
       "dtype: int64"
      ]
     },
     "execution_count": 120,
     "metadata": {},
     "output_type": "execute_result"
    }
   ],
   "source": [
    "df.isnull().sum()"
   ]
  },
  {
   "cell_type": "markdown",
   "id": "3f0e2f8a-924b-4f4e-a5f0-f3e48a5427f2",
   "metadata": {},
   "source": [
    "Coluna `education` agora está sem missing, já que eram os mesmos casos que tinham `job` missing."
   ]
  },
  {
   "cell_type": "markdown",
   "id": "2800c4f8-c87d-4e5c-afff-a3182541e3cb",
   "metadata": {},
   "source": [
    "## Coluna `contact`"
   ]
  },
  {
   "cell_type": "code",
   "execution_count": 121,
   "id": "f4fedd3a-463d-42dd-a183-ccf0f48c7be3",
   "metadata": {},
   "outputs": [
    {
     "data": {
      "text/plain": [
       "cellular     2895\n",
       "unknown      1283\n",
       "telephone     300\n",
       "Name: contact, dtype: int64"
      ]
     },
     "execution_count": 121,
     "metadata": {},
     "output_type": "execute_result"
    }
   ],
   "source": [
    "df.contact.value_counts()"
   ]
  },
  {
   "cell_type": "markdown",
   "id": "84555dc9-08e0-4018-a8ad-e3e185cb9569",
   "metadata": {},
   "source": [
    "Substituir missing por _unknown_"
   ]
  },
  {
   "cell_type": "code",
   "execution_count": 122,
   "id": "eb1a2db5-cfa3-4772-9b54-4a92a512d70e",
   "metadata": {},
   "outputs": [],
   "source": [
    "df['contact'] = df.contact.fillna('unknown')"
   ]
  },
  {
   "cell_type": "code",
   "execution_count": 123,
   "id": "9a43a40d-3e9a-4bd1-8bbb-7d7c6ec45c4c",
   "metadata": {},
   "outputs": [
    {
     "data": {
      "text/plain": [
       "cellular     2895\n",
       "unknown      1322\n",
       "telephone     300\n",
       "Name: contact, dtype: int64"
      ]
     },
     "execution_count": 123,
     "metadata": {},
     "output_type": "execute_result"
    }
   ],
   "source": [
    "df.contact.value_counts()"
   ]
  },
  {
   "cell_type": "code",
   "execution_count": 124,
   "id": "9a5a6489-d6ec-4bc3-98c9-ec54aabec5c9",
   "metadata": {},
   "outputs": [
    {
     "data": {
      "text/plain": [
       "job          0\n",
       "marital      0\n",
       "education    0\n",
       "age          0\n",
       "contact      0\n",
       "buy          0\n",
       "dtype: int64"
      ]
     },
     "execution_count": 124,
     "metadata": {},
     "output_type": "execute_result"
    }
   ],
   "source": [
    "df.isnull().sum()"
   ]
  },
  {
   "cell_type": "markdown",
   "id": "9ee77796-7c02-4959-94b4-f0e5957a4150",
   "metadata": {},
   "source": [
    "__obs.:__ Também podemos usar a função `fillna` para imputar um valor numérico, como a média da variável, por exemplo. "
   ]
  },
  {
   "cell_type": "code",
   "execution_count": 125,
   "id": "d5c1ead4-c376-4935-8734-f777e8deecee",
   "metadata": {},
   "outputs": [
    {
     "data": {
      "text/html": [
       "<div><div id=b3421db7-3016-4616-84da-362960409b8a style=\"display:none; background-color:#9D6CFF; color:white; width:200px; height:30px; padding-left:5px; border-radius:4px; flex-direction:row; justify-content:space-around; align-items:center;\" onmouseover=\"this.style.backgroundColor='#BA9BF8'\" onmouseout=\"this.style.backgroundColor='#9D6CFF'\" onclick=\"window.commands?.execute('create-mitosheet-from-dataframe-output');\">See Full Dataframe in Mito</div> <script> if (window.commands.hasCommand('create-mitosheet-from-dataframe-output')) document.getElementById('b3421db7-3016-4616-84da-362960409b8a').style.display = 'flex' </script> <table border=\"1\" class=\"dataframe\">\n",
       "  <thead>\n",
       "    <tr style=\"text-align: right;\">\n",
       "      <th></th>\n",
       "      <th>job</th>\n",
       "      <th>marital</th>\n",
       "      <th>education</th>\n",
       "      <th>age</th>\n",
       "      <th>contact</th>\n",
       "      <th>buy</th>\n",
       "    </tr>\n",
       "    <tr>\n",
       "      <th>id</th>\n",
       "      <th></th>\n",
       "      <th></th>\n",
       "      <th></th>\n",
       "      <th></th>\n",
       "      <th></th>\n",
       "      <th></th>\n",
       "    </tr>\n",
       "  </thead>\n",
       "  <tbody>\n",
       "    <tr>\n",
       "      <th>1</th>\n",
       "      <td>unemployed</td>\n",
       "      <td>married</td>\n",
       "      <td>MSc, PhD or equivalent</td>\n",
       "      <td>30</td>\n",
       "      <td>cellular</td>\n",
       "      <td>False</td>\n",
       "    </tr>\n",
       "    <tr>\n",
       "      <th>2</th>\n",
       "      <td>services</td>\n",
       "      <td>married</td>\n",
       "      <td>college</td>\n",
       "      <td>33</td>\n",
       "      <td>cellular</td>\n",
       "      <td>False</td>\n",
       "    </tr>\n",
       "    <tr>\n",
       "      <th>3</th>\n",
       "      <td>management</td>\n",
       "      <td>single</td>\n",
       "      <td>high school</td>\n",
       "      <td>35</td>\n",
       "      <td>cellular</td>\n",
       "      <td>False</td>\n",
       "    </tr>\n",
       "    <tr>\n",
       "      <th>4</th>\n",
       "      <td>management</td>\n",
       "      <td>married</td>\n",
       "      <td>MSc, PhD or equivalent</td>\n",
       "      <td>30</td>\n",
       "      <td>unknown</td>\n",
       "      <td>True</td>\n",
       "    </tr>\n",
       "    <tr>\n",
       "      <th>6</th>\n",
       "      <td>management</td>\n",
       "      <td>single</td>\n",
       "      <td>MSc, PhD or equivalent</td>\n",
       "      <td>35</td>\n",
       "      <td>cellular</td>\n",
       "      <td>False</td>\n",
       "    </tr>\n",
       "  </tbody>\n",
       "</table></div>"
      ],
      "text/plain": [
       "           job  marital               education  age   contact    buy\n",
       "id                                                                   \n",
       "1   unemployed  married  MSc, PhD or equivalent   30  cellular  False\n",
       "2     services  married                 college   33  cellular  False\n",
       "3   management   single             high school   35  cellular  False\n",
       "4   management  married  MSc, PhD or equivalent   30   unknown   True\n",
       "6   management   single  MSc, PhD or equivalent   35  cellular  False"
      ]
     },
     "execution_count": 125,
     "metadata": {},
     "output_type": "execute_result"
    }
   ],
   "source": [
    "df.head()"
   ]
  },
  {
   "cell_type": "markdown",
   "id": "a791be99-d7d1-40f8-993d-dd35e07cb459",
   "metadata": {},
   "source": [
    "## Reduzindo o número de categorias (cardinalidade)"
   ]
  },
  {
   "cell_type": "code",
   "execution_count": 126,
   "id": "748c611b-7dbe-40ee-b2f0-a52384c318d4",
   "metadata": {},
   "outputs": [
    {
     "data": {
      "text/plain": [
       "management       968\n",
       "blue-collar      945\n",
       "technician       768\n",
       "admin.           478\n",
       "services         416\n",
       "retired          229\n",
       "self-employed    183\n",
       "entrepreneur     168\n",
       "unemployed       128\n",
       "housemaid        112\n",
       "student           84\n",
       "unknown           38\n",
       "Name: job, dtype: int64"
      ]
     },
     "execution_count": 126,
     "metadata": {},
     "output_type": "execute_result"
    }
   ],
   "source": [
    "df.job.value_counts()"
   ]
  },
  {
   "cell_type": "code",
   "execution_count": 127,
   "id": "3591408d-79c5-45f2-a9be-74ee75285679",
   "metadata": {},
   "outputs": [
    {
     "data": {
      "text/plain": [
       "Index(['management', 'blue-collar', 'technician'], dtype='object')"
      ]
     },
     "execution_count": 127,
     "metadata": {},
     "output_type": "execute_result"
    }
   ],
   "source": [
    "top3 = df.job.value_counts()[:3].index\n",
    "top3"
   ]
  },
  {
   "cell_type": "code",
   "execution_count": 128,
   "id": "d7b8d3e5-be66-44de-9efa-d4692684a686",
   "metadata": {},
   "outputs": [
    {
     "data": {
      "text/plain": [
       "id\n",
       "1        True\n",
       "2        True\n",
       "3       False\n",
       "4       False\n",
       "6       False\n",
       "        ...  \n",
       "4517     True\n",
       "4518     True\n",
       "4519    False\n",
       "4520    False\n",
       "4521     True\n",
       "Name: job, Length: 4517, dtype: bool"
      ]
     },
     "execution_count": 128,
     "metadata": {},
     "output_type": "execute_result"
    }
   ],
   "source": [
    "#Quem não está no top 3\n",
    "df.job.apply(lambda x: x not in top3)"
   ]
  },
  {
   "cell_type": "code",
   "execution_count": 129,
   "id": "d326e606-978e-4cb7-b7ac-df6c859aeed1",
   "metadata": {},
   "outputs": [],
   "source": [
    "df.loc[df.job.apply(lambda x: x not in top3),'job'] = 'other'"
   ]
  },
  {
   "cell_type": "code",
   "execution_count": 130,
   "id": "3e05e5ed-2734-45ca-828a-88e0a3325a1f",
   "metadata": {},
   "outputs": [
    {
     "data": {
      "text/plain": [
       "other          1836\n",
       "management      968\n",
       "blue-collar     945\n",
       "technician      768\n",
       "Name: job, dtype: int64"
      ]
     },
     "execution_count": 130,
     "metadata": {},
     "output_type": "execute_result"
    }
   ],
   "source": [
    "df.job.value_counts()"
   ]
  },
  {
   "cell_type": "code",
   "execution_count": 131,
   "id": "f016d6cf-f2e3-4bb4-b35b-24ace1e3855a",
   "metadata": {},
   "outputs": [
    {
     "data": {
      "text/html": [
       "<div><div id=f616604d-699d-4eb7-9c1e-e11eee5e3015 style=\"display:none; background-color:#9D6CFF; color:white; width:200px; height:30px; padding-left:5px; border-radius:4px; flex-direction:row; justify-content:space-around; align-items:center;\" onmouseover=\"this.style.backgroundColor='#BA9BF8'\" onmouseout=\"this.style.backgroundColor='#9D6CFF'\" onclick=\"window.commands?.execute('create-mitosheet-from-dataframe-output');\">See Full Dataframe in Mito</div> <script> if (window.commands.hasCommand('create-mitosheet-from-dataframe-output')) document.getElementById('f616604d-699d-4eb7-9c1e-e11eee5e3015').style.display = 'flex' </script> <table border=\"1\" class=\"dataframe\">\n",
       "  <thead>\n",
       "    <tr style=\"text-align: right;\">\n",
       "      <th></th>\n",
       "      <th>job</th>\n",
       "      <th>marital</th>\n",
       "      <th>education</th>\n",
       "      <th>age</th>\n",
       "      <th>contact</th>\n",
       "      <th>buy</th>\n",
       "    </tr>\n",
       "    <tr>\n",
       "      <th>id</th>\n",
       "      <th></th>\n",
       "      <th></th>\n",
       "      <th></th>\n",
       "      <th></th>\n",
       "      <th></th>\n",
       "      <th></th>\n",
       "    </tr>\n",
       "  </thead>\n",
       "  <tbody>\n",
       "    <tr>\n",
       "      <th>1</th>\n",
       "      <td>other</td>\n",
       "      <td>married</td>\n",
       "      <td>MSc, PhD or equivalent</td>\n",
       "      <td>30</td>\n",
       "      <td>cellular</td>\n",
       "      <td>False</td>\n",
       "    </tr>\n",
       "    <tr>\n",
       "      <th>2</th>\n",
       "      <td>other</td>\n",
       "      <td>married</td>\n",
       "      <td>college</td>\n",
       "      <td>33</td>\n",
       "      <td>cellular</td>\n",
       "      <td>False</td>\n",
       "    </tr>\n",
       "    <tr>\n",
       "      <th>3</th>\n",
       "      <td>management</td>\n",
       "      <td>single</td>\n",
       "      <td>high school</td>\n",
       "      <td>35</td>\n",
       "      <td>cellular</td>\n",
       "      <td>False</td>\n",
       "    </tr>\n",
       "    <tr>\n",
       "      <th>4</th>\n",
       "      <td>management</td>\n",
       "      <td>married</td>\n",
       "      <td>MSc, PhD or equivalent</td>\n",
       "      <td>30</td>\n",
       "      <td>unknown</td>\n",
       "      <td>True</td>\n",
       "    </tr>\n",
       "    <tr>\n",
       "      <th>6</th>\n",
       "      <td>management</td>\n",
       "      <td>single</td>\n",
       "      <td>MSc, PhD or equivalent</td>\n",
       "      <td>35</td>\n",
       "      <td>cellular</td>\n",
       "      <td>False</td>\n",
       "    </tr>\n",
       "  </tbody>\n",
       "</table></div>"
      ],
      "text/plain": [
       "           job  marital               education  age   contact    buy\n",
       "id                                                                   \n",
       "1        other  married  MSc, PhD or equivalent   30  cellular  False\n",
       "2        other  married                 college   33  cellular  False\n",
       "3   management   single             high school   35  cellular  False\n",
       "4   management  married  MSc, PhD or equivalent   30   unknown   True\n",
       "6   management   single  MSc, PhD or equivalent   35  cellular  False"
      ]
     },
     "execution_count": 131,
     "metadata": {},
     "output_type": "execute_result"
    }
   ],
   "source": [
    "df.head()"
   ]
  },
  {
   "cell_type": "markdown",
   "id": "e48982d1-4d37-45f8-9592-5248e8ddb3a4",
   "metadata": {},
   "source": [
    "## Ordenando categorias"
   ]
  },
  {
   "cell_type": "code",
   "execution_count": 132,
   "id": "cd0b9d4e-bb19-407b-bdbc-2aaa1ab6cdbe",
   "metadata": {},
   "outputs": [
    {
     "data": {
      "text/plain": [
       "<AxesSubplot:xlabel='education', ylabel='age'>"
      ]
     },
     "execution_count": 132,
     "metadata": {},
     "output_type": "execute_result"
    },
    {
     "data": {
      "image/png": "[encoded data removed]",
      "text/plain": [
       "<Figure size 432x288 with 1 Axes>"
      ]
     },
     "metadata": {
      "needs_background": "light"
     },
     "output_type": "display_data"
    }
   ],
   "source": [
    "import seaborn as sns\n",
    "sns.boxplot('education','age', data=df)"
   ]
  },
  {
   "cell_type": "code",
   "execution_count": 133,
   "id": "d7ac4971-ce54-4b92-8a2a-eaadf1a9da23",
   "metadata": {},
   "outputs": [
    {
     "data": {
      "text/plain": [
       "dtype('O')"
      ]
     },
     "execution_count": 133,
     "metadata": {},
     "output_type": "execute_result"
    }
   ],
   "source": [
    "df['education'].dtype"
   ]
  },
  {
   "cell_type": "code",
   "execution_count": 134,
   "id": "399bb89f-bb68-470f-873e-7a3c98b5c7ba",
   "metadata": {},
   "outputs": [
    {
     "data": {
      "text/plain": [
       "CategoricalDtype(categories=['MSc, PhD or equivalent', 'college', 'high school',\n",
       "                  'unknown'],\n",
       ", ordered=False)"
      ]
     },
     "execution_count": 134,
     "metadata": {},
     "output_type": "execute_result"
    }
   ],
   "source": [
    "df['education'] = df.education.astype('category')\n",
    "df['education'].dtype"
   ]
  },
  {
   "cell_type": "code",
   "execution_count": 137,
   "id": "ffc5368f-7a77-4135-8ab2-ce6dc7729b8e",
   "metadata": {},
   "outputs": [],
   "source": [
    "df['education'] = df.education.cat.reorder_categories(['high school',\n",
    "                                                       'college',\n",
    "                                                       'MSc, PhD or equivalent',\n",
    "                                                       'unknown'],\n",
    "                                                      ordered=True)"
   ]
  },
  {
   "cell_type": "code",
   "execution_count": 138,
   "id": "0e07a4a8-39a3-4a1b-8015-652544fca0b4",
   "metadata": {},
   "outputs": [
    {
     "data": {
      "text/plain": [
       "<AxesSubplot:xlabel='education', ylabel='age'>"
      ]
     },
     "execution_count": 138,
     "metadata": {},
     "output_type": "execute_result"
    },
    {
     "data": {
      "image/png": "[encoded data removed]",
      "text/plain": [
       "<Figure size 432x288 with 1 Axes>"
      ]
     },
     "metadata": {
      "needs_background": "light"
     },
     "output_type": "display_data"
    }
   ],
   "source": [
    "sns.boxplot('education','age', data=df)"
   ]
  },
  {
   "cell_type": "code",
   "execution_count": 157,
   "id": "f6d93f14-3f11-46b5-9e97-7476a4b2a1e3",
   "metadata": {},
   "outputs": [],
   "source": [
    "#Fazer a mesma coisa para estado civil\n",
    "df['marital'] = df.marital.astype('category')\n",
    "df['marital'] = df.marital.cat.reorder_categories(['single',\n",
    "                                                   'married',\n",
    "                                                   'divorced'],\n",
    "                                                  ordered=True)"
   ]
  },
  {
   "cell_type": "markdown",
   "id": "658b8d70-2e60-483d-8684-c5fbdce2c3a0",
   "metadata": {},
   "source": [
    "## Base limpa"
   ]
  },
  {
   "cell_type": "code",
   "execution_count": 139,
   "id": "ee44f4bb-2a95-496a-8cdd-bb055c5ad2ef",
   "metadata": {},
   "outputs": [
    {
     "data": {
      "text/html": [
       "<div><div id=26d5a955-4d74-4388-97e4-faff8c308b7c style=\"display:none; background-color:#9D6CFF; color:white; width:200px; height:30px; padding-left:5px; border-radius:4px; flex-direction:row; justify-content:space-around; align-items:center;\" onmouseover=\"this.style.backgroundColor='#BA9BF8'\" onmouseout=\"this.style.backgroundColor='#9D6CFF'\" onclick=\"window.commands?.execute('create-mitosheet-from-dataframe-output');\">See Full Dataframe in Mito</div> <script> if (window.commands.hasCommand('create-mitosheet-from-dataframe-output')) document.getElementById('26d5a955-4d74-4388-97e4-faff8c308b7c').style.display = 'flex' </script> <table border=\"1\" class=\"dataframe\">\n",
       "  <thead>\n",
       "    <tr style=\"text-align: right;\">\n",
       "      <th></th>\n",
       "      <th>job</th>\n",
       "      <th>marital</th>\n",
       "      <th>education</th>\n",
       "      <th>age</th>\n",
       "      <th>contact</th>\n",
       "      <th>buy</th>\n",
       "    </tr>\n",
       "    <tr>\n",
       "      <th>id</th>\n",
       "      <th></th>\n",
       "      <th></th>\n",
       "      <th></th>\n",
       "      <th></th>\n",
       "      <th></th>\n",
       "      <th></th>\n",
       "    </tr>\n",
       "  </thead>\n",
       "  <tbody>\n",
       "    <tr>\n",
       "      <th>1</th>\n",
       "      <td>other</td>\n",
       "      <td>married</td>\n",
       "      <td>MSc, PhD or equivalent</td>\n",
       "      <td>30</td>\n",
       "      <td>cellular</td>\n",
       "      <td>False</td>\n",
       "    </tr>\n",
       "    <tr>\n",
       "      <th>2</th>\n",
       "      <td>other</td>\n",
       "      <td>married</td>\n",
       "      <td>college</td>\n",
       "      <td>33</td>\n",
       "      <td>cellular</td>\n",
       "      <td>False</td>\n",
       "    </tr>\n",
       "    <tr>\n",
       "      <th>3</th>\n",
       "      <td>management</td>\n",
       "      <td>single</td>\n",
       "      <td>high school</td>\n",
       "      <td>35</td>\n",
       "      <td>cellular</td>\n",
       "      <td>False</td>\n",
       "    </tr>\n",
       "    <tr>\n",
       "      <th>4</th>\n",
       "      <td>management</td>\n",
       "      <td>married</td>\n",
       "      <td>MSc, PhD or equivalent</td>\n",
       "      <td>30</td>\n",
       "      <td>unknown</td>\n",
       "      <td>True</td>\n",
       "    </tr>\n",
       "    <tr>\n",
       "      <th>6</th>\n",
       "      <td>management</td>\n",
       "      <td>single</td>\n",
       "      <td>MSc, PhD or equivalent</td>\n",
       "      <td>35</td>\n",
       "      <td>cellular</td>\n",
       "      <td>False</td>\n",
       "    </tr>\n",
       "    <tr>\n",
       "      <th>7</th>\n",
       "      <td>other</td>\n",
       "      <td>married</td>\n",
       "      <td>MSc, PhD or equivalent</td>\n",
       "      <td>36</td>\n",
       "      <td>cellular</td>\n",
       "      <td>False</td>\n",
       "    </tr>\n",
       "    <tr>\n",
       "      <th>8</th>\n",
       "      <td>technician</td>\n",
       "      <td>married</td>\n",
       "      <td>college</td>\n",
       "      <td>39</td>\n",
       "      <td>cellular</td>\n",
       "      <td>False</td>\n",
       "    </tr>\n",
       "    <tr>\n",
       "      <th>9</th>\n",
       "      <td>other</td>\n",
       "      <td>married</td>\n",
       "      <td>MSc, PhD or equivalent</td>\n",
       "      <td>41</td>\n",
       "      <td>unknown</td>\n",
       "      <td>False</td>\n",
       "    </tr>\n",
       "    <tr>\n",
       "      <th>11</th>\n",
       "      <td>other</td>\n",
       "      <td>married</td>\n",
       "      <td>college</td>\n",
       "      <td>39</td>\n",
       "      <td>unknown</td>\n",
       "      <td>False</td>\n",
       "    </tr>\n",
       "    <tr>\n",
       "      <th>12</th>\n",
       "      <td>other</td>\n",
       "      <td>married</td>\n",
       "      <td>college</td>\n",
       "      <td>43</td>\n",
       "      <td>cellular</td>\n",
       "      <td>False</td>\n",
       "    </tr>\n",
       "    <tr>\n",
       "      <th>13</th>\n",
       "      <td>technician</td>\n",
       "      <td>married</td>\n",
       "      <td>MSc, PhD or equivalent</td>\n",
       "      <td>36</td>\n",
       "      <td>cellular</td>\n",
       "      <td>False</td>\n",
       "    </tr>\n",
       "    <tr>\n",
       "      <th>14</th>\n",
       "      <td>other</td>\n",
       "      <td>single</td>\n",
       "      <td>college</td>\n",
       "      <td>20</td>\n",
       "      <td>cellular</td>\n",
       "      <td>True</td>\n",
       "    </tr>\n",
       "    <tr>\n",
       "      <th>15</th>\n",
       "      <td>blue-collar</td>\n",
       "      <td>married</td>\n",
       "      <td>college</td>\n",
       "      <td>31</td>\n",
       "      <td>cellular</td>\n",
       "      <td>False</td>\n",
       "    </tr>\n",
       "    <tr>\n",
       "      <th>16</th>\n",
       "      <td>management</td>\n",
       "      <td>married</td>\n",
       "      <td>MSc, PhD or equivalent</td>\n",
       "      <td>40</td>\n",
       "      <td>cellular</td>\n",
       "      <td>False</td>\n",
       "    </tr>\n",
       "    <tr>\n",
       "      <th>17</th>\n",
       "      <td>technician</td>\n",
       "      <td>married</td>\n",
       "      <td>college</td>\n",
       "      <td>56</td>\n",
       "      <td>cellular</td>\n",
       "      <td>False</td>\n",
       "    </tr>\n",
       "    <tr>\n",
       "      <th>18</th>\n",
       "      <td>other</td>\n",
       "      <td>single</td>\n",
       "      <td>MSc, PhD or equivalent</td>\n",
       "      <td>37</td>\n",
       "      <td>cellular</td>\n",
       "      <td>False</td>\n",
       "    </tr>\n",
       "    <tr>\n",
       "      <th>19</th>\n",
       "      <td>blue-collar</td>\n",
       "      <td>single</td>\n",
       "      <td>high school</td>\n",
       "      <td>25</td>\n",
       "      <td>unknown</td>\n",
       "      <td>False</td>\n",
       "    </tr>\n",
       "    <tr>\n",
       "      <th>20</th>\n",
       "      <td>other</td>\n",
       "      <td>married</td>\n",
       "      <td>college</td>\n",
       "      <td>31</td>\n",
       "      <td>cellular</td>\n",
       "      <td>False</td>\n",
       "    </tr>\n",
       "    <tr>\n",
       "      <th>21</th>\n",
       "      <td>management</td>\n",
       "      <td>divorced</td>\n",
       "      <td>unknown</td>\n",
       "      <td>38</td>\n",
       "      <td>cellular</td>\n",
       "      <td>False</td>\n",
       "    </tr>\n",
       "    <tr>\n",
       "      <th>22</th>\n",
       "      <td>management</td>\n",
       "      <td>divorced</td>\n",
       "      <td>MSc, PhD or equivalent</td>\n",
       "      <td>42</td>\n",
       "      <td>cellular</td>\n",
       "      <td>False</td>\n",
       "    </tr>\n",
       "    <tr>\n",
       "      <th>23</th>\n",
       "      <td>other</td>\n",
       "      <td>single</td>\n",
       "      <td>college</td>\n",
       "      <td>44</td>\n",
       "      <td>unknown</td>\n",
       "      <td>False</td>\n",
       "    </tr>\n",
       "    <tr>\n",
       "      <th>24</th>\n",
       "      <td>other</td>\n",
       "      <td>married</td>\n",
       "      <td>college</td>\n",
       "      <td>44</td>\n",
       "      <td>cellular</td>\n",
       "      <td>False</td>\n",
       "    </tr>\n",
       "    <tr>\n",
       "      <th>25</th>\n",
       "      <td>other</td>\n",
       "      <td>married</td>\n",
       "      <td>MSc, PhD or equivalent</td>\n",
       "      <td>26</td>\n",
       "      <td>cellular</td>\n",
       "      <td>False</td>\n",
       "    </tr>\n",
       "    <tr>\n",
       "      <th>26</th>\n",
       "      <td>management</td>\n",
       "      <td>married</td>\n",
       "      <td>MSc, PhD or equivalent</td>\n",
       "      <td>41</td>\n",
       "      <td>cellular</td>\n",
       "      <td>False</td>\n",
       "    </tr>\n",
       "    <tr>\n",
       "      <th>27</th>\n",
       "      <td>blue-collar</td>\n",
       "      <td>married</td>\n",
       "      <td>high school</td>\n",
       "      <td>55</td>\n",
       "      <td>unknown</td>\n",
       "      <td>False</td>\n",
       "    </tr>\n",
       "    <tr>\n",
       "      <th>28</th>\n",
       "      <td>other</td>\n",
       "      <td>married</td>\n",
       "      <td>unknown</td>\n",
       "      <td>67</td>\n",
       "      <td>telephone</td>\n",
       "      <td>False</td>\n",
       "    </tr>\n",
       "    <tr>\n",
       "      <th>29</th>\n",
       "      <td>other</td>\n",
       "      <td>married</td>\n",
       "      <td>college</td>\n",
       "      <td>56</td>\n",
       "      <td>cellular</td>\n",
       "      <td>False</td>\n",
       "    </tr>\n",
       "    <tr>\n",
       "      <th>30</th>\n",
       "      <td>other</td>\n",
       "      <td>married</td>\n",
       "      <td>college</td>\n",
       "      <td>53</td>\n",
       "      <td>cellular</td>\n",
       "      <td>False</td>\n",
       "    </tr>\n",
       "    <tr>\n",
       "      <th>31</th>\n",
       "      <td>other</td>\n",
       "      <td>divorced</td>\n",
       "      <td>college</td>\n",
       "      <td>68</td>\n",
       "      <td>telephone</td>\n",
       "      <td>True</td>\n",
       "    </tr>\n",
       "    <tr>\n",
       "      <th>32</th>\n",
       "      <td>technician</td>\n",
       "      <td>married</td>\n",
       "      <td>college</td>\n",
       "      <td>31</td>\n",
       "      <td>cellular</td>\n",
       "      <td>False</td>\n",
       "    </tr>\n",
       "    <tr>\n",
       "      <th>...</th>\n",
       "      <td>...</td>\n",
       "      <td>...</td>\n",
       "      <td>...</td>\n",
       "      <td>...</td>\n",
       "      <td>...</td>\n",
       "      <td>...</td>\n",
       "    </tr>\n",
       "    <tr>\n",
       "      <th>4492</th>\n",
       "      <td>blue-collar</td>\n",
       "      <td>single</td>\n",
       "      <td>college</td>\n",
       "      <td>35</td>\n",
       "      <td>cellular</td>\n",
       "      <td>False</td>\n",
       "    </tr>\n",
       "    <tr>\n",
       "      <th>4493</th>\n",
       "      <td>technician</td>\n",
       "      <td>single</td>\n",
       "      <td>college</td>\n",
       "      <td>32</td>\n",
       "      <td>cellular</td>\n",
       "      <td>False</td>\n",
       "    </tr>\n",
       "    <tr>\n",
       "      <th>4494</th>\n",
       "      <td>technician</td>\n",
       "      <td>single</td>\n",
       "      <td>MSc, PhD or equivalent</td>\n",
       "      <td>28</td>\n",
       "      <td>unknown</td>\n",
       "      <td>False</td>\n",
       "    </tr>\n",
       "    <tr>\n",
       "      <th>4495</th>\n",
       "      <td>technician</td>\n",
       "      <td>single</td>\n",
       "      <td>college</td>\n",
       "      <td>26</td>\n",
       "      <td>unknown</td>\n",
       "      <td>True</td>\n",
       "    </tr>\n",
       "    <tr>\n",
       "      <th>4496</th>\n",
       "      <td>management</td>\n",
       "      <td>married</td>\n",
       "      <td>MSc, PhD or equivalent</td>\n",
       "      <td>48</td>\n",
       "      <td>telephone</td>\n",
       "      <td>False</td>\n",
       "    </tr>\n",
       "    <tr>\n",
       "      <th>4497</th>\n",
       "      <td>blue-collar</td>\n",
       "      <td>single</td>\n",
       "      <td>college</td>\n",
       "      <td>30</td>\n",
       "      <td>cellular</td>\n",
       "      <td>False</td>\n",
       "    </tr>\n",
       "    <tr>\n",
       "      <th>4498</th>\n",
       "      <td>other</td>\n",
       "      <td>single</td>\n",
       "      <td>MSc, PhD or equivalent</td>\n",
       "      <td>31</td>\n",
       "      <td>cellular</td>\n",
       "      <td>False</td>\n",
       "    </tr>\n",
       "    <tr>\n",
       "      <th>4499</th>\n",
       "      <td>management</td>\n",
       "      <td>married</td>\n",
       "      <td>MSc, PhD or equivalent</td>\n",
       "      <td>31</td>\n",
       "      <td>unknown</td>\n",
       "      <td>False</td>\n",
       "    </tr>\n",
       "    <tr>\n",
       "      <th>4500</th>\n",
       "      <td>blue-collar</td>\n",
       "      <td>divorced</td>\n",
       "      <td>high school</td>\n",
       "      <td>45</td>\n",
       "      <td>cellular</td>\n",
       "      <td>False</td>\n",
       "    </tr>\n",
       "    <tr>\n",
       "      <th>4501</th>\n",
       "      <td>other</td>\n",
       "      <td>married</td>\n",
       "      <td>college</td>\n",
       "      <td>38</td>\n",
       "      <td>cellular</td>\n",
       "      <td>False</td>\n",
       "    </tr>\n",
       "    <tr>\n",
       "      <th>4502</th>\n",
       "      <td>management</td>\n",
       "      <td>married</td>\n",
       "      <td>MSc, PhD or equivalent</td>\n",
       "      <td>34</td>\n",
       "      <td>cellular</td>\n",
       "      <td>False</td>\n",
       "    </tr>\n",
       "    <tr>\n",
       "      <th>4503</th>\n",
       "      <td>other</td>\n",
       "      <td>married</td>\n",
       "      <td>college</td>\n",
       "      <td>42</td>\n",
       "      <td>cellular</td>\n",
       "      <td>False</td>\n",
       "    </tr>\n",
       "    <tr>\n",
       "      <th>4504</th>\n",
       "      <td>other</td>\n",
       "      <td>married</td>\n",
       "      <td>high school</td>\n",
       "      <td>60</td>\n",
       "      <td>cellular</td>\n",
       "      <td>True</td>\n",
       "    </tr>\n",
       "    <tr>\n",
       "      <th>4505</th>\n",
       "      <td>blue-collar</td>\n",
       "      <td>single</td>\n",
       "      <td>college</td>\n",
       "      <td>42</td>\n",
       "      <td>cellular</td>\n",
       "      <td>True</td>\n",
       "    </tr>\n",
       "    <tr>\n",
       "      <th>4506</th>\n",
       "      <td>other</td>\n",
       "      <td>single</td>\n",
       "      <td>college</td>\n",
       "      <td>32</td>\n",
       "      <td>unknown</td>\n",
       "      <td>True</td>\n",
       "    </tr>\n",
       "    <tr>\n",
       "      <th>4507</th>\n",
       "      <td>other</td>\n",
       "      <td>divorced</td>\n",
       "      <td>MSc, PhD or equivalent</td>\n",
       "      <td>42</td>\n",
       "      <td>cellular</td>\n",
       "      <td>False</td>\n",
       "    </tr>\n",
       "    <tr>\n",
       "      <th>4508</th>\n",
       "      <td>other</td>\n",
       "      <td>married</td>\n",
       "      <td>college</td>\n",
       "      <td>33</td>\n",
       "      <td>cellular</td>\n",
       "      <td>False</td>\n",
       "    </tr>\n",
       "    <tr>\n",
       "      <th>4509</th>\n",
       "      <td>other</td>\n",
       "      <td>married</td>\n",
       "      <td>unknown</td>\n",
       "      <td>42</td>\n",
       "      <td>unknown</td>\n",
       "      <td>False</td>\n",
       "    </tr>\n",
       "    <tr>\n",
       "      <th>4510</th>\n",
       "      <td>technician</td>\n",
       "      <td>married</td>\n",
       "      <td>MSc, PhD or equivalent</td>\n",
       "      <td>51</td>\n",
       "      <td>cellular</td>\n",
       "      <td>False</td>\n",
       "    </tr>\n",
       "    <tr>\n",
       "      <th>4511</th>\n",
       "      <td>technician</td>\n",
       "      <td>divorced</td>\n",
       "      <td>college</td>\n",
       "      <td>36</td>\n",
       "      <td>unknown</td>\n",
       "      <td>False</td>\n",
       "    </tr>\n",
       "    <tr>\n",
       "      <th>4512</th>\n",
       "      <td>blue-collar</td>\n",
       "      <td>married</td>\n",
       "      <td>college</td>\n",
       "      <td>46</td>\n",
       "      <td>unknown</td>\n",
       "      <td>True</td>\n",
       "    </tr>\n",
       "    <tr>\n",
       "      <th>4513</th>\n",
       "      <td>blue-collar</td>\n",
       "      <td>married</td>\n",
       "      <td>college</td>\n",
       "      <td>40</td>\n",
       "      <td>unknown</td>\n",
       "      <td>False</td>\n",
       "    </tr>\n",
       "    <tr>\n",
       "      <th>4514</th>\n",
       "      <td>blue-collar</td>\n",
       "      <td>married</td>\n",
       "      <td>college</td>\n",
       "      <td>49</td>\n",
       "      <td>cellular</td>\n",
       "      <td>False</td>\n",
       "    </tr>\n",
       "    <tr>\n",
       "      <th>4515</th>\n",
       "      <td>blue-collar</td>\n",
       "      <td>married</td>\n",
       "      <td>college</td>\n",
       "      <td>38</td>\n",
       "      <td>cellular</td>\n",
       "      <td>False</td>\n",
       "    </tr>\n",
       "    <tr>\n",
       "      <th>4516</th>\n",
       "      <td>other</td>\n",
       "      <td>single</td>\n",
       "      <td>college</td>\n",
       "      <td>32</td>\n",
       "      <td>cellular</td>\n",
       "      <td>False</td>\n",
       "    </tr>\n",
       "    <tr>\n",
       "      <th>4517</th>\n",
       "      <td>other</td>\n",
       "      <td>married</td>\n",
       "      <td>college</td>\n",
       "      <td>33</td>\n",
       "      <td>cellular</td>\n",
       "      <td>False</td>\n",
       "    </tr>\n",
       "    <tr>\n",
       "      <th>4518</th>\n",
       "      <td>other</td>\n",
       "      <td>married</td>\n",
       "      <td>MSc, PhD or equivalent</td>\n",
       "      <td>57</td>\n",
       "      <td>unknown</td>\n",
       "      <td>False</td>\n",
       "    </tr>\n",
       "    <tr>\n",
       "      <th>4519</th>\n",
       "      <td>technician</td>\n",
       "      <td>married</td>\n",
       "      <td>college</td>\n",
       "      <td>57</td>\n",
       "      <td>cellular</td>\n",
       "      <td>False</td>\n",
       "    </tr>\n",
       "    <tr>\n",
       "      <th>4520</th>\n",
       "      <td>blue-collar</td>\n",
       "      <td>married</td>\n",
       "      <td>college</td>\n",
       "      <td>28</td>\n",
       "      <td>cellular</td>\n",
       "      <td>False</td>\n",
       "    </tr>\n",
       "    <tr>\n",
       "      <th>4521</th>\n",
       "      <td>other</td>\n",
       "      <td>single</td>\n",
       "      <td>MSc, PhD or equivalent</td>\n",
       "      <td>44</td>\n",
       "      <td>cellular</td>\n",
       "      <td>False</td>\n",
       "    </tr>\n",
       "  </tbody>\n",
       "</table></div>"
      ],
      "text/plain": [
       "              job  marital               education  age   contact    buy\n",
       "id                                                                      \n",
       "1           other  married  MSc, PhD or equivalent   30  cellular  False\n",
       "2           other  married                 college   33  cellular  False\n",
       "3      management   single             high school   35  cellular  False\n",
       "4      management  married  MSc, PhD or equivalent   30   unknown   True\n",
       "6      management   single  MSc, PhD or equivalent   35  cellular  False\n",
       "...           ...      ...                     ...  ...       ...    ...\n",
       "4517        other  married                 college   33  cellular  False\n",
       "4518        other  married  MSc, PhD or equivalent   57   unknown  False\n",
       "4519   technician  married                 college   57  cellular  False\n",
       "4520  blue-collar  married                 college   28  cellular  False\n",
       "4521        other   single  MSc, PhD or equivalent   44  cellular  False\n",
       "\n",
       "[4517 rows x 6 columns]"
      ]
     },
     "execution_count": 139,
     "metadata": {},
     "output_type": "execute_result"
    }
   ],
   "source": [
    "df"
   ]
  },
  {
   "cell_type": "code",
   "execution_count": null,
   "id": "adce3f32-98e4-48cb-ba60-f0990ab7ea07",
   "metadata": {},
   "outputs": [],
   "source": []
  }
 ],
 "metadata": {
  "kernelspec": {
   "display_name": "Python 3 (ipykernel)",
   "language": "python",
   "name": "python3"
  },
  "language_info": {
   "codemirror_mode": {
    "name": "ipython",
    "version": 3
   },
   "file_extension": ".py",
   "mimetype": "text/x-python",
   "name": "python",
   "nbconvert_exporter": "python",
   "pygments_lexer": "ipython3",
   "version": "3.8.5"
  }
 },
 "nbformat": 4,
 "nbformat_minor": 5
}
