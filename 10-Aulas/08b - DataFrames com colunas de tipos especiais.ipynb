{
 "cells": [
  {
   "cell_type": "markdown",
   "id": "ae29e3f0-b100-495b-a238-8ab4914a53ae",
   "metadata": {},
   "source": [
    "# Colunas de tipos especiais\n",
    "\n",
    "* strings\n",
    "* categorias\n",
    "* datas e tempos\n",
    "\n",
    "## Strings"
   ]
  },
  {
   "cell_type": "code",
   "execution_count": 400,
   "id": "39bf1326-578d-408c-9ed0-846f59ed97f2",
   "metadata": {},
   "outputs": [
    {
     "data": {
      "text/html": [
       "<div>\n",
       "<style scoped>\n",
       "    .dataframe tbody tr th:only-of-type {\n",
       "        vertical-align: middle;\n",
       "    }\n",
       "\n",
       "    .dataframe tbody tr th {\n",
       "        vertical-align: top;\n",
       "    }\n",
       "\n",
       "    .dataframe thead th {\n",
       "        text-align: right;\n",
       "    }\n",
       "</style>\n",
       "<table border=\"1\" class=\"dataframe\">\n",
       "  <thead>\n",
       "    <tr style=\"text-align: right;\">\n",
       "      <th></th>\n",
       "      <th>mean radius</th>\n",
       "      <th>mean texture</th>\n",
       "      <th>mean perimeter</th>\n",
       "      <th>mean area</th>\n",
       "      <th>mean smoothness</th>\n",
       "      <th>mean compactness</th>\n",
       "      <th>mean concavity</th>\n",
       "      <th>mean concave points</th>\n",
       "      <th>mean symmetry</th>\n",
       "      <th>mean fractal dimension</th>\n",
       "      <th>...</th>\n",
       "      <th>worst radius</th>\n",
       "      <th>worst texture</th>\n",
       "      <th>worst perimeter</th>\n",
       "      <th>worst area</th>\n",
       "      <th>worst smoothness</th>\n",
       "      <th>worst compactness</th>\n",
       "      <th>worst concavity</th>\n",
       "      <th>worst concave points</th>\n",
       "      <th>worst symmetry</th>\n",
       "      <th>worst fractal dimension</th>\n",
       "    </tr>\n",
       "  </thead>\n",
       "  <tbody>\n",
       "    <tr>\n",
       "      <th>518</th>\n",
       "      <td>12.880</td>\n",
       "      <td>18.22</td>\n",
       "      <td>84.45</td>\n",
       "      <td>493.1</td>\n",
       "      <td>0.12180</td>\n",
       "      <td>0.1661</td>\n",
       "      <td>0.04825</td>\n",
       "      <td>0.05303</td>\n",
       "      <td>0.1709</td>\n",
       "      <td>0.07253</td>\n",
       "      <td>...</td>\n",
       "      <td>15.05</td>\n",
       "      <td>24.37</td>\n",
       "      <td>99.31</td>\n",
       "      <td>674.7</td>\n",
       "      <td>0.1456</td>\n",
       "      <td>0.2961</td>\n",
       "      <td>0.1246</td>\n",
       "      <td>0.10960</td>\n",
       "      <td>0.2582</td>\n",
       "      <td>0.08893</td>\n",
       "    </tr>\n",
       "    <tr>\n",
       "      <th>253</th>\n",
       "      <td>17.300</td>\n",
       "      <td>17.08</td>\n",
       "      <td>113.00</td>\n",
       "      <td>928.2</td>\n",
       "      <td>0.10080</td>\n",
       "      <td>0.1041</td>\n",
       "      <td>0.12660</td>\n",
       "      <td>0.08353</td>\n",
       "      <td>0.1813</td>\n",
       "      <td>0.05613</td>\n",
       "      <td>...</td>\n",
       "      <td>19.85</td>\n",
       "      <td>25.09</td>\n",
       "      <td>130.90</td>\n",
       "      <td>1222.0</td>\n",
       "      <td>0.1416</td>\n",
       "      <td>0.2405</td>\n",
       "      <td>0.3378</td>\n",
       "      <td>0.18570</td>\n",
       "      <td>0.3138</td>\n",
       "      <td>0.08113</td>\n",
       "    </tr>\n",
       "    <tr>\n",
       "      <th>68</th>\n",
       "      <td>9.029</td>\n",
       "      <td>17.33</td>\n",
       "      <td>58.79</td>\n",
       "      <td>250.5</td>\n",
       "      <td>0.10660</td>\n",
       "      <td>0.1413</td>\n",
       "      <td>0.31300</td>\n",
       "      <td>0.04375</td>\n",
       "      <td>0.2111</td>\n",
       "      <td>0.08046</td>\n",
       "      <td>...</td>\n",
       "      <td>10.31</td>\n",
       "      <td>22.65</td>\n",
       "      <td>65.50</td>\n",
       "      <td>324.7</td>\n",
       "      <td>0.1482</td>\n",
       "      <td>0.4365</td>\n",
       "      <td>1.2520</td>\n",
       "      <td>0.17500</td>\n",
       "      <td>0.4228</td>\n",
       "      <td>0.11750</td>\n",
       "    </tr>\n",
       "    <tr>\n",
       "      <th>320</th>\n",
       "      <td>10.250</td>\n",
       "      <td>16.18</td>\n",
       "      <td>66.52</td>\n",
       "      <td>324.2</td>\n",
       "      <td>0.10610</td>\n",
       "      <td>0.1111</td>\n",
       "      <td>0.06726</td>\n",
       "      <td>0.03965</td>\n",
       "      <td>0.1743</td>\n",
       "      <td>0.07279</td>\n",
       "      <td>...</td>\n",
       "      <td>11.28</td>\n",
       "      <td>20.61</td>\n",
       "      <td>71.53</td>\n",
       "      <td>390.4</td>\n",
       "      <td>0.1402</td>\n",
       "      <td>0.2360</td>\n",
       "      <td>0.1898</td>\n",
       "      <td>0.09744</td>\n",
       "      <td>0.2608</td>\n",
       "      <td>0.09702</td>\n",
       "    </tr>\n",
       "    <tr>\n",
       "      <th>558</th>\n",
       "      <td>14.590</td>\n",
       "      <td>22.68</td>\n",
       "      <td>96.39</td>\n",
       "      <td>657.1</td>\n",
       "      <td>0.08473</td>\n",
       "      <td>0.1330</td>\n",
       "      <td>0.10290</td>\n",
       "      <td>0.03736</td>\n",
       "      <td>0.1454</td>\n",
       "      <td>0.06147</td>\n",
       "      <td>...</td>\n",
       "      <td>15.48</td>\n",
       "      <td>27.27</td>\n",
       "      <td>105.90</td>\n",
       "      <td>733.5</td>\n",
       "      <td>0.1026</td>\n",
       "      <td>0.3171</td>\n",
       "      <td>0.3662</td>\n",
       "      <td>0.11050</td>\n",
       "      <td>0.2258</td>\n",
       "      <td>0.08004</td>\n",
       "    </tr>\n",
       "  </tbody>\n",
       "</table>\n",
       "<p>5 rows × 30 columns</p>\n",
       "</div>"
      ],
      "text/plain": [
       "     mean radius  mean texture  mean perimeter  mean area  mean smoothness  \\\n",
       "518       12.880         18.22           84.45      493.1          0.12180   \n",
       "253       17.300         17.08          113.00      928.2          0.10080   \n",
       "68         9.029         17.33           58.79      250.5          0.10660   \n",
       "320       10.250         16.18           66.52      324.2          0.10610   \n",
       "558       14.590         22.68           96.39      657.1          0.08473   \n",
       "\n",
       "     mean compactness  mean concavity  mean concave points  mean symmetry  \\\n",
       "518            0.1661         0.04825              0.05303         0.1709   \n",
       "253            0.1041         0.12660              0.08353         0.1813   \n",
       "68             0.1413         0.31300              0.04375         0.2111   \n",
       "320            0.1111         0.06726              0.03965         0.1743   \n",
       "558            0.1330         0.10290              0.03736         0.1454   \n",
       "\n",
       "     mean fractal dimension  ...  worst radius  worst texture  \\\n",
       "518                 0.07253  ...         15.05          24.37   \n",
       "253                 0.05613  ...         19.85          25.09   \n",
       "68                  0.08046  ...         10.31          22.65   \n",
       "320                 0.07279  ...         11.28          20.61   \n",
       "558                 0.06147  ...         15.48          27.27   \n",
       "\n",
       "     worst perimeter  worst area  worst smoothness  worst compactness  \\\n",
       "518            99.31       674.7            0.1456             0.2961   \n",
       "253           130.90      1222.0            0.1416             0.2405   \n",
       "68             65.50       324.7            0.1482             0.4365   \n",
       "320            71.53       390.4            0.1402             0.2360   \n",
       "558           105.90       733.5            0.1026             0.3171   \n",
       "\n",
       "     worst concavity  worst concave points  worst symmetry  \\\n",
       "518           0.1246               0.10960          0.2582   \n",
       "253           0.3378               0.18570          0.3138   \n",
       "68            1.2520               0.17500          0.4228   \n",
       "320           0.1898               0.09744          0.2608   \n",
       "558           0.3662               0.11050          0.2258   \n",
       "\n",
       "     worst fractal dimension  \n",
       "518                  0.08893  \n",
       "253                  0.08113  \n",
       "68                   0.11750  \n",
       "320                  0.09702  \n",
       "558                  0.08004  \n",
       "\n",
       "[5 rows x 30 columns]"
      ]
     },
     "execution_count": 400,
     "metadata": {},
     "output_type": "execute_result"
    }
   ],
   "source": [
    "from sklearn.datasets import load_breast_cancer\n",
    "df = load_breast_cancer(as_frame=True)['data']\n",
    "df.sample(5)"
   ]
  },
  {
   "cell_type": "code",
   "execution_count": 401,
   "id": "00c07787-e5e0-46d3-9d8c-14502ebf7ee3",
   "metadata": {},
   "outputs": [
    {
     "name": "stdout",
     "output_type": "stream",
     "text": [
      "mean radius\n",
      "mean texture\n",
      "mean perimeter\n",
      "mean area\n",
      "mean smoothness\n",
      "mean compactness\n",
      "mean concavity\n",
      "mean concave points\n",
      "mean symmetry\n",
      "mean fractal dimension\n",
      "radius error\n",
      "texture error\n",
      "perimeter error\n",
      "area error\n",
      "smoothness error\n",
      "compactness error\n",
      "concavity error\n",
      "concave points error\n",
      "symmetry error\n",
      "fractal dimension error\n",
      "worst radius\n",
      "worst texture\n",
      "worst perimeter\n",
      "worst area\n",
      "worst smoothness\n",
      "worst compactness\n",
      "worst concavity\n",
      "worst concave points\n",
      "worst symmetry\n",
      "worst fractal dimension\n"
     ]
    }
   ],
   "source": [
    "for c in df.columns:\n",
    "    print(c)"
   ]
  },
  {
   "cell_type": "markdown",
   "id": "5a5c5e59-24f4-4375-ba1c-b5916d16a6d3",
   "metadata": {},
   "source": [
    "### Métodos avançados para seleção/filtragem"
   ]
  },
  {
   "cell_type": "markdown",
   "id": "65e58bfc-d72a-4990-9691-bfcad09231b2",
   "metadata": {},
   "source": [
    "#### Como pegar apenas colunas que começam com `worst`?"
   ]
  },
  {
   "cell_type": "code",
   "execution_count": 402,
   "id": "40f1a4d9-22da-4c8c-9f53-be0217209790",
   "metadata": {},
   "outputs": [
    {
     "data": {
      "text/plain": [
       "array([False, False, False, False, False, False, False, False, False,\n",
       "       False, False, False, False, False, False, False, False, False,\n",
       "       False, False,  True,  True,  True,  True,  True,  True,  True,\n",
       "        True,  True,  True])"
      ]
     },
     "execution_count": 402,
     "metadata": {},
     "output_type": "execute_result"
    }
   ],
   "source": [
    "df.columns.str.startswith('worst')"
   ]
  },
  {
   "cell_type": "code",
   "execution_count": 403,
   "id": "c807d24f-af8b-4811-8bdf-cac241488675",
   "metadata": {},
   "outputs": [
    {
     "data": {
      "text/html": [
       "<div>\n",
       "<style scoped>\n",
       "    .dataframe tbody tr th:only-of-type {\n",
       "        vertical-align: middle;\n",
       "    }\n",
       "\n",
       "    .dataframe tbody tr th {\n",
       "        vertical-align: top;\n",
       "    }\n",
       "\n",
       "    .dataframe thead th {\n",
       "        text-align: right;\n",
       "    }\n",
       "</style>\n",
       "<table border=\"1\" class=\"dataframe\">\n",
       "  <thead>\n",
       "    <tr style=\"text-align: right;\">\n",
       "      <th></th>\n",
       "      <th>worst radius</th>\n",
       "      <th>worst texture</th>\n",
       "      <th>worst perimeter</th>\n",
       "      <th>worst area</th>\n",
       "      <th>worst smoothness</th>\n",
       "      <th>worst compactness</th>\n",
       "      <th>worst concavity</th>\n",
       "      <th>worst concave points</th>\n",
       "      <th>worst symmetry</th>\n",
       "      <th>worst fractal dimension</th>\n",
       "    </tr>\n",
       "  </thead>\n",
       "  <tbody>\n",
       "    <tr>\n",
       "      <th>0</th>\n",
       "      <td>25.380</td>\n",
       "      <td>17.33</td>\n",
       "      <td>184.60</td>\n",
       "      <td>2019.0</td>\n",
       "      <td>0.16220</td>\n",
       "      <td>0.66560</td>\n",
       "      <td>0.7119</td>\n",
       "      <td>0.2654</td>\n",
       "      <td>0.4601</td>\n",
       "      <td>0.11890</td>\n",
       "    </tr>\n",
       "    <tr>\n",
       "      <th>1</th>\n",
       "      <td>24.990</td>\n",
       "      <td>23.41</td>\n",
       "      <td>158.80</td>\n",
       "      <td>1956.0</td>\n",
       "      <td>0.12380</td>\n",
       "      <td>0.18660</td>\n",
       "      <td>0.2416</td>\n",
       "      <td>0.1860</td>\n",
       "      <td>0.2750</td>\n",
       "      <td>0.08902</td>\n",
       "    </tr>\n",
       "    <tr>\n",
       "      <th>2</th>\n",
       "      <td>23.570</td>\n",
       "      <td>25.53</td>\n",
       "      <td>152.50</td>\n",
       "      <td>1709.0</td>\n",
       "      <td>0.14440</td>\n",
       "      <td>0.42450</td>\n",
       "      <td>0.4504</td>\n",
       "      <td>0.2430</td>\n",
       "      <td>0.3613</td>\n",
       "      <td>0.08758</td>\n",
       "    </tr>\n",
       "    <tr>\n",
       "      <th>3</th>\n",
       "      <td>14.910</td>\n",
       "      <td>26.50</td>\n",
       "      <td>98.87</td>\n",
       "      <td>567.7</td>\n",
       "      <td>0.20980</td>\n",
       "      <td>0.86630</td>\n",
       "      <td>0.6869</td>\n",
       "      <td>0.2575</td>\n",
       "      <td>0.6638</td>\n",
       "      <td>0.17300</td>\n",
       "    </tr>\n",
       "    <tr>\n",
       "      <th>4</th>\n",
       "      <td>22.540</td>\n",
       "      <td>16.67</td>\n",
       "      <td>152.20</td>\n",
       "      <td>1575.0</td>\n",
       "      <td>0.13740</td>\n",
       "      <td>0.20500</td>\n",
       "      <td>0.4000</td>\n",
       "      <td>0.1625</td>\n",
       "      <td>0.2364</td>\n",
       "      <td>0.07678</td>\n",
       "    </tr>\n",
       "    <tr>\n",
       "      <th>...</th>\n",
       "      <td>...</td>\n",
       "      <td>...</td>\n",
       "      <td>...</td>\n",
       "      <td>...</td>\n",
       "      <td>...</td>\n",
       "      <td>...</td>\n",
       "      <td>...</td>\n",
       "      <td>...</td>\n",
       "      <td>...</td>\n",
       "      <td>...</td>\n",
       "    </tr>\n",
       "    <tr>\n",
       "      <th>564</th>\n",
       "      <td>25.450</td>\n",
       "      <td>26.40</td>\n",
       "      <td>166.10</td>\n",
       "      <td>2027.0</td>\n",
       "      <td>0.14100</td>\n",
       "      <td>0.21130</td>\n",
       "      <td>0.4107</td>\n",
       "      <td>0.2216</td>\n",
       "      <td>0.2060</td>\n",
       "      <td>0.07115</td>\n",
       "    </tr>\n",
       "    <tr>\n",
       "      <th>565</th>\n",
       "      <td>23.690</td>\n",
       "      <td>38.25</td>\n",
       "      <td>155.00</td>\n",
       "      <td>1731.0</td>\n",
       "      <td>0.11660</td>\n",
       "      <td>0.19220</td>\n",
       "      <td>0.3215</td>\n",
       "      <td>0.1628</td>\n",
       "      <td>0.2572</td>\n",
       "      <td>0.06637</td>\n",
       "    </tr>\n",
       "    <tr>\n",
       "      <th>566</th>\n",
       "      <td>18.980</td>\n",
       "      <td>34.12</td>\n",
       "      <td>126.70</td>\n",
       "      <td>1124.0</td>\n",
       "      <td>0.11390</td>\n",
       "      <td>0.30940</td>\n",
       "      <td>0.3403</td>\n",
       "      <td>0.1418</td>\n",
       "      <td>0.2218</td>\n",
       "      <td>0.07820</td>\n",
       "    </tr>\n",
       "    <tr>\n",
       "      <th>567</th>\n",
       "      <td>25.740</td>\n",
       "      <td>39.42</td>\n",
       "      <td>184.60</td>\n",
       "      <td>1821.0</td>\n",
       "      <td>0.16500</td>\n",
       "      <td>0.86810</td>\n",
       "      <td>0.9387</td>\n",
       "      <td>0.2650</td>\n",
       "      <td>0.4087</td>\n",
       "      <td>0.12400</td>\n",
       "    </tr>\n",
       "    <tr>\n",
       "      <th>568</th>\n",
       "      <td>9.456</td>\n",
       "      <td>30.37</td>\n",
       "      <td>59.16</td>\n",
       "      <td>268.6</td>\n",
       "      <td>0.08996</td>\n",
       "      <td>0.06444</td>\n",
       "      <td>0.0000</td>\n",
       "      <td>0.0000</td>\n",
       "      <td>0.2871</td>\n",
       "      <td>0.07039</td>\n",
       "    </tr>\n",
       "  </tbody>\n",
       "</table>\n",
       "<p>569 rows × 10 columns</p>\n",
       "</div>"
      ],
      "text/plain": [
       "     worst radius  worst texture  worst perimeter  worst area  \\\n",
       "0          25.380          17.33           184.60      2019.0   \n",
       "1          24.990          23.41           158.80      1956.0   \n",
       "2          23.570          25.53           152.50      1709.0   \n",
       "3          14.910          26.50            98.87       567.7   \n",
       "4          22.540          16.67           152.20      1575.0   \n",
       "..            ...            ...              ...         ...   \n",
       "564        25.450          26.40           166.10      2027.0   \n",
       "565        23.690          38.25           155.00      1731.0   \n",
       "566        18.980          34.12           126.70      1124.0   \n",
       "567        25.740          39.42           184.60      1821.0   \n",
       "568         9.456          30.37            59.16       268.6   \n",
       "\n",
       "     worst smoothness  worst compactness  worst concavity  \\\n",
       "0             0.16220            0.66560           0.7119   \n",
       "1             0.12380            0.18660           0.2416   \n",
       "2             0.14440            0.42450           0.4504   \n",
       "3             0.20980            0.86630           0.6869   \n",
       "4             0.13740            0.20500           0.4000   \n",
       "..                ...                ...              ...   \n",
       "564           0.14100            0.21130           0.4107   \n",
       "565           0.11660            0.19220           0.3215   \n",
       "566           0.11390            0.30940           0.3403   \n",
       "567           0.16500            0.86810           0.9387   \n",
       "568           0.08996            0.06444           0.0000   \n",
       "\n",
       "     worst concave points  worst symmetry  worst fractal dimension  \n",
       "0                  0.2654          0.4601                  0.11890  \n",
       "1                  0.1860          0.2750                  0.08902  \n",
       "2                  0.2430          0.3613                  0.08758  \n",
       "3                  0.2575          0.6638                  0.17300  \n",
       "4                  0.1625          0.2364                  0.07678  \n",
       "..                    ...             ...                      ...  \n",
       "564                0.2216          0.2060                  0.07115  \n",
       "565                0.1628          0.2572                  0.06637  \n",
       "566                0.1418          0.2218                  0.07820  \n",
       "567                0.2650          0.4087                  0.12400  \n",
       "568                0.0000          0.2871                  0.07039  \n",
       "\n",
       "[569 rows x 10 columns]"
      ]
     },
     "execution_count": 403,
     "metadata": {},
     "output_type": "execute_result"
    }
   ],
   "source": [
    "df.loc[:, df.columns.str.startswith('worst')]"
   ]
  },
  {
   "cell_type": "markdown",
   "id": "4c1de151-8a58-4710-9165-ebe2dc44406b",
   "metadata": {},
   "source": [
    "#### Como pegar apenas colunas que terminam com `error`?"
   ]
  },
  {
   "cell_type": "code",
   "execution_count": 404,
   "id": "0ec0945f-eb15-4a0b-8217-e9bd4b2cddd6",
   "metadata": {},
   "outputs": [
    {
     "data": {
      "text/html": [
       "<div>\n",
       "<style scoped>\n",
       "    .dataframe tbody tr th:only-of-type {\n",
       "        vertical-align: middle;\n",
       "    }\n",
       "\n",
       "    .dataframe tbody tr th {\n",
       "        vertical-align: top;\n",
       "    }\n",
       "\n",
       "    .dataframe thead th {\n",
       "        text-align: right;\n",
       "    }\n",
       "</style>\n",
       "<table border=\"1\" class=\"dataframe\">\n",
       "  <thead>\n",
       "    <tr style=\"text-align: right;\">\n",
       "      <th></th>\n",
       "      <th>radius error</th>\n",
       "      <th>texture error</th>\n",
       "      <th>perimeter error</th>\n",
       "      <th>area error</th>\n",
       "      <th>smoothness error</th>\n",
       "      <th>compactness error</th>\n",
       "      <th>concavity error</th>\n",
       "      <th>concave points error</th>\n",
       "      <th>symmetry error</th>\n",
       "      <th>fractal dimension error</th>\n",
       "    </tr>\n",
       "  </thead>\n",
       "  <tbody>\n",
       "    <tr>\n",
       "      <th>0</th>\n",
       "      <td>1.0950</td>\n",
       "      <td>0.9053</td>\n",
       "      <td>8.589</td>\n",
       "      <td>153.40</td>\n",
       "      <td>0.006399</td>\n",
       "      <td>0.04904</td>\n",
       "      <td>0.05373</td>\n",
       "      <td>0.01587</td>\n",
       "      <td>0.03003</td>\n",
       "      <td>0.006193</td>\n",
       "    </tr>\n",
       "    <tr>\n",
       "      <th>1</th>\n",
       "      <td>0.5435</td>\n",
       "      <td>0.7339</td>\n",
       "      <td>3.398</td>\n",
       "      <td>74.08</td>\n",
       "      <td>0.005225</td>\n",
       "      <td>0.01308</td>\n",
       "      <td>0.01860</td>\n",
       "      <td>0.01340</td>\n",
       "      <td>0.01389</td>\n",
       "      <td>0.003532</td>\n",
       "    </tr>\n",
       "    <tr>\n",
       "      <th>2</th>\n",
       "      <td>0.7456</td>\n",
       "      <td>0.7869</td>\n",
       "      <td>4.585</td>\n",
       "      <td>94.03</td>\n",
       "      <td>0.006150</td>\n",
       "      <td>0.04006</td>\n",
       "      <td>0.03832</td>\n",
       "      <td>0.02058</td>\n",
       "      <td>0.02250</td>\n",
       "      <td>0.004571</td>\n",
       "    </tr>\n",
       "    <tr>\n",
       "      <th>3</th>\n",
       "      <td>0.4956</td>\n",
       "      <td>1.1560</td>\n",
       "      <td>3.445</td>\n",
       "      <td>27.23</td>\n",
       "      <td>0.009110</td>\n",
       "      <td>0.07458</td>\n",
       "      <td>0.05661</td>\n",
       "      <td>0.01867</td>\n",
       "      <td>0.05963</td>\n",
       "      <td>0.009208</td>\n",
       "    </tr>\n",
       "    <tr>\n",
       "      <th>4</th>\n",
       "      <td>0.7572</td>\n",
       "      <td>0.7813</td>\n",
       "      <td>5.438</td>\n",
       "      <td>94.44</td>\n",
       "      <td>0.011490</td>\n",
       "      <td>0.02461</td>\n",
       "      <td>0.05688</td>\n",
       "      <td>0.01885</td>\n",
       "      <td>0.01756</td>\n",
       "      <td>0.005115</td>\n",
       "    </tr>\n",
       "    <tr>\n",
       "      <th>...</th>\n",
       "      <td>...</td>\n",
       "      <td>...</td>\n",
       "      <td>...</td>\n",
       "      <td>...</td>\n",
       "      <td>...</td>\n",
       "      <td>...</td>\n",
       "      <td>...</td>\n",
       "      <td>...</td>\n",
       "      <td>...</td>\n",
       "      <td>...</td>\n",
       "    </tr>\n",
       "    <tr>\n",
       "      <th>564</th>\n",
       "      <td>1.1760</td>\n",
       "      <td>1.2560</td>\n",
       "      <td>7.673</td>\n",
       "      <td>158.70</td>\n",
       "      <td>0.010300</td>\n",
       "      <td>0.02891</td>\n",
       "      <td>0.05198</td>\n",
       "      <td>0.02454</td>\n",
       "      <td>0.01114</td>\n",
       "      <td>0.004239</td>\n",
       "    </tr>\n",
       "    <tr>\n",
       "      <th>565</th>\n",
       "      <td>0.7655</td>\n",
       "      <td>2.4630</td>\n",
       "      <td>5.203</td>\n",
       "      <td>99.04</td>\n",
       "      <td>0.005769</td>\n",
       "      <td>0.02423</td>\n",
       "      <td>0.03950</td>\n",
       "      <td>0.01678</td>\n",
       "      <td>0.01898</td>\n",
       "      <td>0.002498</td>\n",
       "    </tr>\n",
       "    <tr>\n",
       "      <th>566</th>\n",
       "      <td>0.4564</td>\n",
       "      <td>1.0750</td>\n",
       "      <td>3.425</td>\n",
       "      <td>48.55</td>\n",
       "      <td>0.005903</td>\n",
       "      <td>0.03731</td>\n",
       "      <td>0.04730</td>\n",
       "      <td>0.01557</td>\n",
       "      <td>0.01318</td>\n",
       "      <td>0.003892</td>\n",
       "    </tr>\n",
       "    <tr>\n",
       "      <th>567</th>\n",
       "      <td>0.7260</td>\n",
       "      <td>1.5950</td>\n",
       "      <td>5.772</td>\n",
       "      <td>86.22</td>\n",
       "      <td>0.006522</td>\n",
       "      <td>0.06158</td>\n",
       "      <td>0.07117</td>\n",
       "      <td>0.01664</td>\n",
       "      <td>0.02324</td>\n",
       "      <td>0.006185</td>\n",
       "    </tr>\n",
       "    <tr>\n",
       "      <th>568</th>\n",
       "      <td>0.3857</td>\n",
       "      <td>1.4280</td>\n",
       "      <td>2.548</td>\n",
       "      <td>19.15</td>\n",
       "      <td>0.007189</td>\n",
       "      <td>0.00466</td>\n",
       "      <td>0.00000</td>\n",
       "      <td>0.00000</td>\n",
       "      <td>0.02676</td>\n",
       "      <td>0.002783</td>\n",
       "    </tr>\n",
       "  </tbody>\n",
       "</table>\n",
       "<p>569 rows × 10 columns</p>\n",
       "</div>"
      ],
      "text/plain": [
       "     radius error  texture error  perimeter error  area error  \\\n",
       "0          1.0950         0.9053            8.589      153.40   \n",
       "1          0.5435         0.7339            3.398       74.08   \n",
       "2          0.7456         0.7869            4.585       94.03   \n",
       "3          0.4956         1.1560            3.445       27.23   \n",
       "4          0.7572         0.7813            5.438       94.44   \n",
       "..            ...            ...              ...         ...   \n",
       "564        1.1760         1.2560            7.673      158.70   \n",
       "565        0.7655         2.4630            5.203       99.04   \n",
       "566        0.4564         1.0750            3.425       48.55   \n",
       "567        0.7260         1.5950            5.772       86.22   \n",
       "568        0.3857         1.4280            2.548       19.15   \n",
       "\n",
       "     smoothness error  compactness error  concavity error  \\\n",
       "0            0.006399            0.04904          0.05373   \n",
       "1            0.005225            0.01308          0.01860   \n",
       "2            0.006150            0.04006          0.03832   \n",
       "3            0.009110            0.07458          0.05661   \n",
       "4            0.011490            0.02461          0.05688   \n",
       "..                ...                ...              ...   \n",
       "564          0.010300            0.02891          0.05198   \n",
       "565          0.005769            0.02423          0.03950   \n",
       "566          0.005903            0.03731          0.04730   \n",
       "567          0.006522            0.06158          0.07117   \n",
       "568          0.007189            0.00466          0.00000   \n",
       "\n",
       "     concave points error  symmetry error  fractal dimension error  \n",
       "0                 0.01587         0.03003                 0.006193  \n",
       "1                 0.01340         0.01389                 0.003532  \n",
       "2                 0.02058         0.02250                 0.004571  \n",
       "3                 0.01867         0.05963                 0.009208  \n",
       "4                 0.01885         0.01756                 0.005115  \n",
       "..                    ...             ...                      ...  \n",
       "564               0.02454         0.01114                 0.004239  \n",
       "565               0.01678         0.01898                 0.002498  \n",
       "566               0.01557         0.01318                 0.003892  \n",
       "567               0.01664         0.02324                 0.006185  \n",
       "568               0.00000         0.02676                 0.002783  \n",
       "\n",
       "[569 rows x 10 columns]"
      ]
     },
     "execution_count": 404,
     "metadata": {},
     "output_type": "execute_result"
    }
   ],
   "source": [
    "df.loc[:, df.columns.str.endswith('error')]"
   ]
  },
  {
   "cell_type": "markdown",
   "id": "6a070d6b-09fd-4cc5-a641-5b69f4e5e25e",
   "metadata": {},
   "source": [
    "#### Como pegar apenas colunas referentes a `symmetry`?"
   ]
  },
  {
   "cell_type": "code",
   "execution_count": 406,
   "id": "76ff790e-4ad4-4f62-8991-96876091fdee",
   "metadata": {},
   "outputs": [
    {
     "data": {
      "text/html": [
       "<div>\n",
       "<style scoped>\n",
       "    .dataframe tbody tr th:only-of-type {\n",
       "        vertical-align: middle;\n",
       "    }\n",
       "\n",
       "    .dataframe tbody tr th {\n",
       "        vertical-align: top;\n",
       "    }\n",
       "\n",
       "    .dataframe thead th {\n",
       "        text-align: right;\n",
       "    }\n",
       "</style>\n",
       "<table border=\"1\" class=\"dataframe\">\n",
       "  <thead>\n",
       "    <tr style=\"text-align: right;\">\n",
       "      <th></th>\n",
       "      <th>mean symmetry</th>\n",
       "      <th>symmetry error</th>\n",
       "      <th>worst symmetry</th>\n",
       "    </tr>\n",
       "  </thead>\n",
       "  <tbody>\n",
       "    <tr>\n",
       "      <th>0</th>\n",
       "      <td>0.2419</td>\n",
       "      <td>0.03003</td>\n",
       "      <td>0.4601</td>\n",
       "    </tr>\n",
       "    <tr>\n",
       "      <th>1</th>\n",
       "      <td>0.1812</td>\n",
       "      <td>0.01389</td>\n",
       "      <td>0.2750</td>\n",
       "    </tr>\n",
       "    <tr>\n",
       "      <th>2</th>\n",
       "      <td>0.2069</td>\n",
       "      <td>0.02250</td>\n",
       "      <td>0.3613</td>\n",
       "    </tr>\n",
       "    <tr>\n",
       "      <th>3</th>\n",
       "      <td>0.2597</td>\n",
       "      <td>0.05963</td>\n",
       "      <td>0.6638</td>\n",
       "    </tr>\n",
       "    <tr>\n",
       "      <th>4</th>\n",
       "      <td>0.1809</td>\n",
       "      <td>0.01756</td>\n",
       "      <td>0.2364</td>\n",
       "    </tr>\n",
       "    <tr>\n",
       "      <th>...</th>\n",
       "      <td>...</td>\n",
       "      <td>...</td>\n",
       "      <td>...</td>\n",
       "    </tr>\n",
       "    <tr>\n",
       "      <th>564</th>\n",
       "      <td>0.1726</td>\n",
       "      <td>0.01114</td>\n",
       "      <td>0.2060</td>\n",
       "    </tr>\n",
       "    <tr>\n",
       "      <th>565</th>\n",
       "      <td>0.1752</td>\n",
       "      <td>0.01898</td>\n",
       "      <td>0.2572</td>\n",
       "    </tr>\n",
       "    <tr>\n",
       "      <th>566</th>\n",
       "      <td>0.1590</td>\n",
       "      <td>0.01318</td>\n",
       "      <td>0.2218</td>\n",
       "    </tr>\n",
       "    <tr>\n",
       "      <th>567</th>\n",
       "      <td>0.2397</td>\n",
       "      <td>0.02324</td>\n",
       "      <td>0.4087</td>\n",
       "    </tr>\n",
       "    <tr>\n",
       "      <th>568</th>\n",
       "      <td>0.1587</td>\n",
       "      <td>0.02676</td>\n",
       "      <td>0.2871</td>\n",
       "    </tr>\n",
       "  </tbody>\n",
       "</table>\n",
       "<p>569 rows × 3 columns</p>\n",
       "</div>"
      ],
      "text/plain": [
       "     mean symmetry  symmetry error  worst symmetry\n",
       "0           0.2419         0.03003          0.4601\n",
       "1           0.1812         0.01389          0.2750\n",
       "2           0.2069         0.02250          0.3613\n",
       "3           0.2597         0.05963          0.6638\n",
       "4           0.1809         0.01756          0.2364\n",
       "..             ...             ...             ...\n",
       "564         0.1726         0.01114          0.2060\n",
       "565         0.1752         0.01898          0.2572\n",
       "566         0.1590         0.01318          0.2218\n",
       "567         0.2397         0.02324          0.4087\n",
       "568         0.1587         0.02676          0.2871\n",
       "\n",
       "[569 rows x 3 columns]"
      ]
     },
     "execution_count": 406,
     "metadata": {},
     "output_type": "execute_result"
    }
   ],
   "source": [
    "df.loc[:, df.columns.str.contains('symmetry')]"
   ]
  },
  {
   "cell_type": "markdown",
   "id": "d395ee40-8f49-4802-8829-594dea717738",
   "metadata": {},
   "source": [
    "__Resumo__\n",
    "* `.str.startswith`\n",
    "* `.str.endswith`\n",
    "* `.str.contains`"
   ]
  },
  {
   "cell_type": "markdown",
   "id": "17d03b73-f5e6-4df6-88c4-3b9dfbca0668",
   "metadata": {},
   "source": [
    "### Outros métodos"
   ]
  },
  {
   "cell_type": "code",
   "execution_count": 407,
   "id": "4b0b818f-ccfd-48f9-95b0-b80501c7264f",
   "metadata": {},
   "outputs": [
    {
     "data": {
      "text/plain": [
       "Index(['MEAN RADIUS', 'MEAN TEXTURE', 'MEAN PERIMETER', 'MEAN AREA',\n",
       "       'MEAN SMOOTHNESS', 'MEAN COMPACTNESS', 'MEAN CONCAVITY',\n",
       "       'MEAN CONCAVE POINTS', 'MEAN SYMMETRY', 'MEAN FRACTAL DIMENSION',\n",
       "       'RADIUS ERROR', 'TEXTURE ERROR', 'PERIMETER ERROR', 'AREA ERROR',\n",
       "       'SMOOTHNESS ERROR', 'COMPACTNESS ERROR', 'CONCAVITY ERROR',\n",
       "       'CONCAVE POINTS ERROR', 'SYMMETRY ERROR', 'FRACTAL DIMENSION ERROR',\n",
       "       'WORST RADIUS', 'WORST TEXTURE', 'WORST PERIMETER', 'WORST AREA',\n",
       "       'WORST SMOOTHNESS', 'WORST COMPACTNESS', 'WORST CONCAVITY',\n",
       "       'WORST CONCAVE POINTS', 'WORST SYMMETRY', 'WORST FRACTAL DIMENSION'],\n",
       "      dtype='object')"
      ]
     },
     "execution_count": 407,
     "metadata": {},
     "output_type": "execute_result"
    }
   ],
   "source": [
    "df.columns.str.upper()"
   ]
  },
  {
   "cell_type": "code",
   "execution_count": 408,
   "id": "9f642011-c2c8-437b-a9f8-ab98802b2ede",
   "metadata": {},
   "outputs": [
    {
     "data": {
      "text/plain": [
       "Index(['mean radius', 'mean texture', 'mean perimeter', 'mean area',\n",
       "       'mean smoothness', 'mean compactness', 'mean concavity',\n",
       "       'mean concave points', 'mean symmetry', 'mean fractal dimension',\n",
       "       'radius error', 'texture error', 'perimeter error', 'area error',\n",
       "       'smoothness error', 'compactness error', 'concavity error',\n",
       "       'concave points error', 'symmetry error', 'fractal dimension error',\n",
       "       'worst radius', 'worst texture', 'worst perimeter', 'worst area',\n",
       "       'worst smoothness', 'worst compactness', 'worst concavity',\n",
       "       'worst concave points', 'worst symmetry', 'worst fractal dimension'],\n",
       "      dtype='object')"
      ]
     },
     "execution_count": 408,
     "metadata": {},
     "output_type": "execute_result"
    }
   ],
   "source": [
    "df.columns.str.lower()"
   ]
  },
  {
   "cell_type": "code",
   "execution_count": 409,
   "id": "70843ea3-8f78-41aa-ad74-8c5bb9d01594",
   "metadata": {},
   "outputs": [
    {
     "data": {
      "text/plain": [
       "Index(['Mean radius', 'Mean texture', 'Mean perimeter', 'Mean area',\n",
       "       'Mean smoothness', 'Mean compactness', 'Mean concavity',\n",
       "       'Mean concave points', 'Mean symmetry', 'Mean fractal dimension',\n",
       "       'Radius error', 'Texture error', 'Perimeter error', 'Area error',\n",
       "       'Smoothness error', 'Compactness error', 'Concavity error',\n",
       "       'Concave points error', 'Symmetry error', 'Fractal dimension error',\n",
       "       'Worst radius', 'Worst texture', 'Worst perimeter', 'Worst area',\n",
       "       'Worst smoothness', 'Worst compactness', 'Worst concavity',\n",
       "       'Worst concave points', 'Worst symmetry', 'Worst fractal dimension'],\n",
       "      dtype='object')"
      ]
     },
     "execution_count": 409,
     "metadata": {},
     "output_type": "execute_result"
    }
   ],
   "source": [
    "df.columns.str.capitalize()"
   ]
  },
  {
   "cell_type": "code",
   "execution_count": 410,
   "id": "767304af-f738-44eb-a468-848228a66f64",
   "metadata": {},
   "outputs": [
    {
     "data": {
      "text/plain": [
       "Index([               ['mean', 'radius'],               ['mean', 'texture'],\n",
       "                   ['mean', 'perimeter'],                  ['mean', 'area'],\n",
       "                  ['mean', 'smoothness'],           ['mean', 'compactness'],\n",
       "                   ['mean', 'concavity'],     ['mean', 'concave', 'points'],\n",
       "                    ['mean', 'symmetry'],  ['mean', 'fractal', 'dimension'],\n",
       "                     ['radius', 'error'],              ['texture', 'error'],\n",
       "                  ['perimeter', 'error'],                 ['area', 'error'],\n",
       "                 ['smoothness', 'error'],          ['compactness', 'error'],\n",
       "                  ['concavity', 'error'],    ['concave', 'points', 'error'],\n",
       "                   ['symmetry', 'error'], ['fractal', 'dimension', 'error'],\n",
       "                     ['worst', 'radius'],              ['worst', 'texture'],\n",
       "                  ['worst', 'perimeter'],                 ['worst', 'area'],\n",
       "                 ['worst', 'smoothness'],          ['worst', 'compactness'],\n",
       "                  ['worst', 'concavity'],    ['worst', 'concave', 'points'],\n",
       "                   ['worst', 'symmetry'], ['worst', 'fractal', 'dimension']],\n",
       "      dtype='object')"
      ]
     },
     "execution_count": 410,
     "metadata": {},
     "output_type": "execute_result"
    }
   ],
   "source": [
    "df.columns.str.split(' ')"
   ]
  },
  {
   "cell_type": "markdown",
   "id": "276f6d41-0f70-4912-adda-f6354b1b9bf3",
   "metadata": {},
   "source": [
    "## Categorias"
   ]
  },
  {
   "cell_type": "code",
   "execution_count": 411,
   "id": "bdac2bc3-7bc0-4120-9b30-cbb932d45377",
   "metadata": {},
   "outputs": [
    {
     "data": {
      "text/html": [
       "<div>\n",
       "<style scoped>\n",
       "    .dataframe tbody tr th:only-of-type {\n",
       "        vertical-align: middle;\n",
       "    }\n",
       "\n",
       "    .dataframe tbody tr th {\n",
       "        vertical-align: top;\n",
       "    }\n",
       "\n",
       "    .dataframe thead th {\n",
       "        text-align: right;\n",
       "    }\n",
       "</style>\n",
       "<table border=\"1\" class=\"dataframe\">\n",
       "  <thead>\n",
       "    <tr style=\"text-align: right;\">\n",
       "      <th></th>\n",
       "      <th>sex</th>\n",
       "      <th>age</th>\n",
       "      <th>class</th>\n",
       "    </tr>\n",
       "  </thead>\n",
       "  <tbody>\n",
       "    <tr>\n",
       "      <th>128</th>\n",
       "      <td>female</td>\n",
       "      <td>NaN</td>\n",
       "      <td>Third</td>\n",
       "    </tr>\n",
       "    <tr>\n",
       "      <th>509</th>\n",
       "      <td>male</td>\n",
       "      <td>26.0</td>\n",
       "      <td>Third</td>\n",
       "    </tr>\n",
       "    <tr>\n",
       "      <th>8</th>\n",
       "      <td>female</td>\n",
       "      <td>27.0</td>\n",
       "      <td>Third</td>\n",
       "    </tr>\n",
       "    <tr>\n",
       "      <th>637</th>\n",
       "      <td>male</td>\n",
       "      <td>31.0</td>\n",
       "      <td>Second</td>\n",
       "    </tr>\n",
       "    <tr>\n",
       "      <th>488</th>\n",
       "      <td>male</td>\n",
       "      <td>30.0</td>\n",
       "      <td>Third</td>\n",
       "    </tr>\n",
       "  </tbody>\n",
       "</table>\n",
       "</div>"
      ],
      "text/plain": [
       "        sex   age   class\n",
       "128  female   NaN   Third\n",
       "509    male  26.0   Third\n",
       "8    female  27.0   Third\n",
       "637    male  31.0  Second\n",
       "488    male  30.0   Third"
      ]
     },
     "execution_count": 411,
     "metadata": {},
     "output_type": "execute_result"
    }
   ],
   "source": [
    "df = pd.read_csv('dados/titanic.csv', usecols=['class','sex','age'])\n",
    "df.sample(5)"
   ]
  },
  {
   "cell_type": "code",
   "execution_count": 412,
   "id": "45290ffd-6455-478b-8603-4440c11f83c4",
   "metadata": {},
   "outputs": [
    {
     "data": {
      "text/plain": [
       "sex       object\n",
       "age      float64\n",
       "class     object\n",
       "dtype: object"
      ]
     },
     "execution_count": 412,
     "metadata": {},
     "output_type": "execute_result"
    }
   ],
   "source": [
    "df.dtypes"
   ]
  },
  {
   "cell_type": "code",
   "execution_count": 413,
   "id": "ae4893f9-9737-417f-ac4a-b314fa776c1f",
   "metadata": {},
   "outputs": [],
   "source": [
    "df['sex'] = df['sex'].astype('category')\n",
    "df['class'] = df['class'].astype('category')"
   ]
  },
  {
   "cell_type": "code",
   "execution_count": 414,
   "id": "c487befa-0e9c-48aa-b468-b52d8898f271",
   "metadata": {},
   "outputs": [
    {
     "data": {
      "text/plain": [
       "sex      category\n",
       "age       float64\n",
       "class    category\n",
       "dtype: object"
      ]
     },
     "execution_count": 414,
     "metadata": {},
     "output_type": "execute_result"
    }
   ],
   "source": [
    "df.dtypes"
   ]
  },
  {
   "cell_type": "code",
   "execution_count": 415,
   "id": "ba16e703-ce16-45f2-b7c5-e928e7845987",
   "metadata": {},
   "outputs": [
    {
     "data": {
      "text/plain": [
       "Index(['First', 'Second', 'Third'], dtype='object')"
      ]
     },
     "execution_count": 415,
     "metadata": {},
     "output_type": "execute_result"
    }
   ],
   "source": [
    "df['class'].cat.categories"
   ]
  },
  {
   "cell_type": "code",
   "execution_count": 416,
   "id": "1b408cc0-d8ad-465e-b958-d10b695bd435",
   "metadata": {},
   "outputs": [],
   "source": [
    "df['class'] = df['class'].cat.reorder_categories(['Third','Second','First'], ordered=True)"
   ]
  },
  {
   "cell_type": "code",
   "execution_count": 417,
   "id": "27242f3b-ea1d-4775-8051-72c3f428165f",
   "metadata": {},
   "outputs": [
    {
     "data": {
      "text/plain": [
       "['Third', 'First', 'Third', 'First', 'Third', ..., 'Second', 'First', 'Third', 'First', 'Third']\n",
       "Length: 891\n",
       "Categories (3, object): ['Third' < 'Second' < 'First']"
      ]
     },
     "execution_count": 417,
     "metadata": {},
     "output_type": "execute_result"
    }
   ],
   "source": [
    "df['class'].values"
   ]
  },
  {
   "cell_type": "markdown",
   "id": "e85c2b8a-9e16-453c-b23d-a46ff8fc4c4e",
   "metadata": {},
   "source": [
    "## Datas e tempos"
   ]
  },
  {
   "cell_type": "markdown",
   "id": "554c08d4-f2b5-437a-902b-57f1ca3f4197",
   "metadata": {},
   "source": [
    "### Hoje"
   ]
  },
  {
   "cell_type": "code",
   "execution_count": 418,
   "id": "380a6a34-06b3-4173-99af-122591b2fb72",
   "metadata": {},
   "outputs": [],
   "source": [
    "from datetime import date"
   ]
  },
  {
   "cell_type": "code",
   "execution_count": 419,
   "id": "df7c9390-3a47-4543-91be-fceb34db10a2",
   "metadata": {},
   "outputs": [
    {
     "data": {
      "text/plain": [
       "datetime.date(2023, 1, 13)"
      ]
     },
     "execution_count": 419,
     "metadata": {},
     "output_type": "execute_result"
    }
   ],
   "source": [
    "hoje = date.today()\n",
    "hoje"
   ]
  },
  {
   "cell_type": "code",
   "execution_count": 420,
   "id": "f3c3dbcd-58b9-4c28-9fdd-61a805c2c614",
   "metadata": {},
   "outputs": [
    {
     "data": {
      "text/plain": [
       "'13/01/23'"
      ]
     },
     "execution_count": 420,
     "metadata": {},
     "output_type": "execute_result"
    }
   ],
   "source": [
    "hoje.strftime(\"%d/%m/%y\")"
   ]
  },
  {
   "cell_type": "code",
   "execution_count": 421,
   "id": "00f2a414-3dba-48a4-8260-5aab6767bba4",
   "metadata": {},
   "outputs": [
    {
     "data": {
      "text/plain": [
       "'2023-Jan-13'"
      ]
     },
     "execution_count": 421,
     "metadata": {},
     "output_type": "execute_result"
    }
   ],
   "source": [
    "hoje.strftime(\"%Y-%b-%d\")"
   ]
  },
  {
   "cell_type": "markdown",
   "id": "628cf4eb-4066-479e-828d-a31917786cb3",
   "metadata": {},
   "source": [
    "Para uma tabela completa sobre sobre o método `.strftime`, veja este [link](https://docs.python.org/3/library/datetime.html#strftime-and-strptime-behavior)"
   ]
  },
  {
   "cell_type": "markdown",
   "id": "f837dc8c-e8b2-4c88-9f83-24e6e8435228",
   "metadata": {},
   "source": [
    "### Séries de tempo"
   ]
  },
  {
   "cell_type": "code",
   "execution_count": 349,
   "id": "b3daaa61-51a6-458f-98ef-1dc3159b8054",
   "metadata": {},
   "outputs": [
    {
     "data": {
      "text/plain": [
       "DatetimeIndex(['2023-01-01', '2023-01-02', '2023-01-03', '2023-01-04',\n",
       "               '2023-01-05', '2023-01-06', '2023-01-07', '2023-01-08',\n",
       "               '2023-01-09', '2023-01-10', '2023-01-11', '2023-01-12',\n",
       "               '2023-01-13', '2023-01-14', '2023-01-15', '2023-01-16',\n",
       "               '2023-01-17', '2023-01-18', '2023-01-19', '2023-01-20',\n",
       "               '2023-01-21', '2023-01-22', '2023-01-23', '2023-01-24',\n",
       "               '2023-01-25', '2023-01-26', '2023-01-27', '2023-01-28',\n",
       "               '2023-01-29', '2023-01-30', '2023-01-31', '2023-02-01',\n",
       "               '2023-02-02', '2023-02-03', '2023-02-04', '2023-02-05',\n",
       "               '2023-02-06', '2023-02-07', '2023-02-08', '2023-02-09',\n",
       "               '2023-02-10', '2023-02-11', '2023-02-12', '2023-02-13'],\n",
       "              dtype='datetime64[ns]', freq='D')"
      ]
     },
     "execution_count": 349,
     "metadata": {},
     "output_type": "execute_result"
    }
   ],
   "source": [
    "pd.date_range('2023-01-01','2023-02-13')"
   ]
  },
  {
   "cell_type": "markdown",
   "id": "abef4ca0-53b0-4659-bf2e-fd8fddf2e00c",
   "metadata": {},
   "source": [
    "### Trabalhando com datas em `pandas`"
   ]
  },
  {
   "cell_type": "code",
   "execution_count": 350,
   "id": "0f823afd-82a6-4d1a-b949-71c7f98642f7",
   "metadata": {},
   "outputs": [
    {
     "data": {
      "text/html": [
       "<div>\n",
       "<style scoped>\n",
       "    .dataframe tbody tr th:only-of-type {\n",
       "        vertical-align: middle;\n",
       "    }\n",
       "\n",
       "    .dataframe tbody tr th {\n",
       "        vertical-align: top;\n",
       "    }\n",
       "\n",
       "    .dataframe thead th {\n",
       "        text-align: right;\n",
       "    }\n",
       "</style>\n",
       "<table border=\"1\" class=\"dataframe\">\n",
       "  <thead>\n",
       "    <tr style=\"text-align: right;\">\n",
       "      <th></th>\n",
       "      <th>data</th>\n",
       "    </tr>\n",
       "  </thead>\n",
       "  <tbody>\n",
       "    <tr>\n",
       "      <th>0</th>\n",
       "      <td>2000-01-01</td>\n",
       "    </tr>\n",
       "    <tr>\n",
       "      <th>1</th>\n",
       "      <td>2000-01-02</td>\n",
       "    </tr>\n",
       "    <tr>\n",
       "      <th>2</th>\n",
       "      <td>2000-01-03</td>\n",
       "    </tr>\n",
       "    <tr>\n",
       "      <th>3</th>\n",
       "      <td>2000-01-04</td>\n",
       "    </tr>\n",
       "    <tr>\n",
       "      <th>4</th>\n",
       "      <td>2000-01-05</td>\n",
       "    </tr>\n",
       "  </tbody>\n",
       "</table>\n",
       "</div>"
      ],
      "text/plain": [
       "        data\n",
       "0 2000-01-01\n",
       "1 2000-01-02\n",
       "2 2000-01-03\n",
       "3 2000-01-04\n",
       "4 2000-01-05"
      ]
     },
     "execution_count": 350,
     "metadata": {},
     "output_type": "execute_result"
    }
   ],
   "source": [
    "df = pd.DataFrame([])\n",
    "df['data'] = pd.date_range('2000-01-01',hoje)\n",
    "df.head()"
   ]
  },
  {
   "cell_type": "code",
   "execution_count": 351,
   "id": "22e680ec-0bc1-40d2-b02f-9610ad8fce24",
   "metadata": {},
   "outputs": [
    {
     "data": {
      "text/plain": [
       "data    datetime64[ns]\n",
       "dtype: object"
      ]
     },
     "execution_count": 351,
     "metadata": {},
     "output_type": "execute_result"
    }
   ],
   "source": [
    "df.dtypes"
   ]
  },
  {
   "cell_type": "code",
   "execution_count": 352,
   "id": "cfe48b94-bf39-4450-80b1-502883dd7cce",
   "metadata": {},
   "outputs": [
    {
     "data": {
      "text/html": [
       "<div>\n",
       "<style scoped>\n",
       "    .dataframe tbody tr th:only-of-type {\n",
       "        vertical-align: middle;\n",
       "    }\n",
       "\n",
       "    .dataframe tbody tr th {\n",
       "        vertical-align: top;\n",
       "    }\n",
       "\n",
       "    .dataframe thead th {\n",
       "        text-align: right;\n",
       "    }\n",
       "</style>\n",
       "<table border=\"1\" class=\"dataframe\">\n",
       "  <thead>\n",
       "    <tr style=\"text-align: right;\">\n",
       "      <th></th>\n",
       "      <th>data</th>\n",
       "      <th>dia</th>\n",
       "      <th>mes</th>\n",
       "      <th>ano</th>\n",
       "      <th>dia_da_semana</th>\n",
       "    </tr>\n",
       "  </thead>\n",
       "  <tbody>\n",
       "    <tr>\n",
       "      <th>5680</th>\n",
       "      <td>2015-07-21</td>\n",
       "      <td>21</td>\n",
       "      <td>7</td>\n",
       "      <td>2015</td>\n",
       "      <td>1</td>\n",
       "    </tr>\n",
       "    <tr>\n",
       "      <th>6507</th>\n",
       "      <td>2017-10-25</td>\n",
       "      <td>25</td>\n",
       "      <td>10</td>\n",
       "      <td>2017</td>\n",
       "      <td>2</td>\n",
       "    </tr>\n",
       "    <tr>\n",
       "      <th>4340</th>\n",
       "      <td>2011-11-19</td>\n",
       "      <td>19</td>\n",
       "      <td>11</td>\n",
       "      <td>2011</td>\n",
       "      <td>5</td>\n",
       "    </tr>\n",
       "    <tr>\n",
       "      <th>5635</th>\n",
       "      <td>2015-06-06</td>\n",
       "      <td>6</td>\n",
       "      <td>6</td>\n",
       "      <td>2015</td>\n",
       "      <td>5</td>\n",
       "    </tr>\n",
       "    <tr>\n",
       "      <th>2491</th>\n",
       "      <td>2006-10-27</td>\n",
       "      <td>27</td>\n",
       "      <td>10</td>\n",
       "      <td>2006</td>\n",
       "      <td>4</td>\n",
       "    </tr>\n",
       "  </tbody>\n",
       "</table>\n",
       "</div>"
      ],
      "text/plain": [
       "           data  dia  mes   ano  dia_da_semana\n",
       "5680 2015-07-21   21    7  2015              1\n",
       "6507 2017-10-25   25   10  2017              2\n",
       "4340 2011-11-19   19   11  2011              5\n",
       "5635 2015-06-06    6    6  2015              5\n",
       "2491 2006-10-27   27   10  2006              4"
      ]
     },
     "execution_count": 352,
     "metadata": {},
     "output_type": "execute_result"
    }
   ],
   "source": [
    "df['dia'] = df.data.dt.day\n",
    "df['mes'] = df.data.dt.month\n",
    "df['ano'] = df.data.dt.year\n",
    "df['dia_da_semana'] = df.data.dt.dayofweek #2a = 0; 3a = 1 ; ... ; domingo = 6\n",
    "\n",
    "df.sample(5)"
   ]
  },
  {
   "cell_type": "code",
   "execution_count": 353,
   "id": "06f50669-d239-4f21-8826-544cab62b64a",
   "metadata": {},
   "outputs": [],
   "source": [
    "df['dia_da_semana'] = df.dia_da_semana.replace({0: '2a',\n",
    "                                                1: '3a', \n",
    "                                                2: '4a',\n",
    "                                                3: '5a',\n",
    "                                                4: '6a',\n",
    "                                                5: 'sab',\n",
    "                                                6: 'dom'})"
   ]
  },
  {
   "cell_type": "code",
   "execution_count": 354,
   "id": "0253db46-d64a-4355-a21d-cf5c95264b11",
   "metadata": {},
   "outputs": [
    {
     "data": {
      "text/html": [
       "<div>\n",
       "<style scoped>\n",
       "    .dataframe tbody tr th:only-of-type {\n",
       "        vertical-align: middle;\n",
       "    }\n",
       "\n",
       "    .dataframe tbody tr th {\n",
       "        vertical-align: top;\n",
       "    }\n",
       "\n",
       "    .dataframe thead th {\n",
       "        text-align: right;\n",
       "    }\n",
       "</style>\n",
       "<table border=\"1\" class=\"dataframe\">\n",
       "  <thead>\n",
       "    <tr style=\"text-align: right;\">\n",
       "      <th></th>\n",
       "      <th>data</th>\n",
       "      <th>dia</th>\n",
       "      <th>mes</th>\n",
       "      <th>ano</th>\n",
       "      <th>dia_da_semana</th>\n",
       "    </tr>\n",
       "  </thead>\n",
       "  <tbody>\n",
       "    <tr>\n",
       "      <th>8409</th>\n",
       "      <td>2023-01-09</td>\n",
       "      <td>9</td>\n",
       "      <td>1</td>\n",
       "      <td>2023</td>\n",
       "      <td>2a</td>\n",
       "    </tr>\n",
       "    <tr>\n",
       "      <th>8410</th>\n",
       "      <td>2023-01-10</td>\n",
       "      <td>10</td>\n",
       "      <td>1</td>\n",
       "      <td>2023</td>\n",
       "      <td>3a</td>\n",
       "    </tr>\n",
       "    <tr>\n",
       "      <th>8411</th>\n",
       "      <td>2023-01-11</td>\n",
       "      <td>11</td>\n",
       "      <td>1</td>\n",
       "      <td>2023</td>\n",
       "      <td>4a</td>\n",
       "    </tr>\n",
       "    <tr>\n",
       "      <th>8412</th>\n",
       "      <td>2023-01-12</td>\n",
       "      <td>12</td>\n",
       "      <td>1</td>\n",
       "      <td>2023</td>\n",
       "      <td>5a</td>\n",
       "    </tr>\n",
       "    <tr>\n",
       "      <th>8413</th>\n",
       "      <td>2023-01-13</td>\n",
       "      <td>13</td>\n",
       "      <td>1</td>\n",
       "      <td>2023</td>\n",
       "      <td>6a</td>\n",
       "    </tr>\n",
       "  </tbody>\n",
       "</table>\n",
       "</div>"
      ],
      "text/plain": [
       "           data  dia  mes   ano dia_da_semana\n",
       "8409 2023-01-09    9    1  2023            2a\n",
       "8410 2023-01-10   10    1  2023            3a\n",
       "8411 2023-01-11   11    1  2023            4a\n",
       "8412 2023-01-12   12    1  2023            5a\n",
       "8413 2023-01-13   13    1  2023            6a"
      ]
     },
     "execution_count": 354,
     "metadata": {},
     "output_type": "execute_result"
    }
   ],
   "source": [
    "df.tail(5)"
   ]
  },
  {
   "cell_type": "code",
   "execution_count": 355,
   "id": "d905cf13-c684-4b49-b28d-abb74140e482",
   "metadata": {},
   "outputs": [
    {
     "data": {
      "text/html": [
       "<div>\n",
       "<style scoped>\n",
       "    .dataframe tbody tr th:only-of-type {\n",
       "        vertical-align: middle;\n",
       "    }\n",
       "\n",
       "    .dataframe tbody tr th {\n",
       "        vertical-align: top;\n",
       "    }\n",
       "\n",
       "    .dataframe thead th {\n",
       "        text-align: right;\n",
       "    }\n",
       "</style>\n",
       "<table border=\"1\" class=\"dataframe\">\n",
       "  <thead>\n",
       "    <tr style=\"text-align: right;\">\n",
       "      <th></th>\n",
       "      <th>data</th>\n",
       "      <th>dia</th>\n",
       "      <th>mes</th>\n",
       "      <th>ano</th>\n",
       "      <th>dia_da_semana</th>\n",
       "      <th>mes_extenso</th>\n",
       "    </tr>\n",
       "  </thead>\n",
       "  <tbody>\n",
       "    <tr>\n",
       "      <th>1466</th>\n",
       "      <td>2004-01-06</td>\n",
       "      <td>6</td>\n",
       "      <td>1</td>\n",
       "      <td>2004</td>\n",
       "      <td>Tuesday</td>\n",
       "      <td>January</td>\n",
       "    </tr>\n",
       "    <tr>\n",
       "      <th>3211</th>\n",
       "      <td>2008-10-16</td>\n",
       "      <td>16</td>\n",
       "      <td>10</td>\n",
       "      <td>2008</td>\n",
       "      <td>Thursday</td>\n",
       "      <td>October</td>\n",
       "    </tr>\n",
       "    <tr>\n",
       "      <th>962</th>\n",
       "      <td>2002-08-20</td>\n",
       "      <td>20</td>\n",
       "      <td>8</td>\n",
       "      <td>2002</td>\n",
       "      <td>Tuesday</td>\n",
       "      <td>August</td>\n",
       "    </tr>\n",
       "    <tr>\n",
       "      <th>221</th>\n",
       "      <td>2000-08-09</td>\n",
       "      <td>9</td>\n",
       "      <td>8</td>\n",
       "      <td>2000</td>\n",
       "      <td>Wednesday</td>\n",
       "      <td>August</td>\n",
       "    </tr>\n",
       "    <tr>\n",
       "      <th>4018</th>\n",
       "      <td>2011-01-01</td>\n",
       "      <td>1</td>\n",
       "      <td>1</td>\n",
       "      <td>2011</td>\n",
       "      <td>Saturday</td>\n",
       "      <td>January</td>\n",
       "    </tr>\n",
       "  </tbody>\n",
       "</table>\n",
       "</div>"
      ],
      "text/plain": [
       "           data  dia  mes   ano dia_da_semana mes_extenso\n",
       "1466 2004-01-06    6    1  2004       Tuesday     January\n",
       "3211 2008-10-16   16   10  2008      Thursday     October\n",
       "962  2002-08-20   20    8  2002       Tuesday      August\n",
       "221  2000-08-09    9    8  2000     Wednesday      August\n",
       "4018 2011-01-01    1    1  2011      Saturday     January"
      ]
     },
     "execution_count": 355,
     "metadata": {},
     "output_type": "execute_result"
    }
   ],
   "source": [
    "df['mes_extenso'] = df.data.dt.month_name()\n",
    "df['dia_da_semana'] = df.data.dt.day_name()\n",
    "\n",
    "df.sample(5)"
   ]
  },
  {
   "cell_type": "code",
   "execution_count": 356,
   "id": "d838c48e-5ecc-4883-986d-a77af6b16d66",
   "metadata": {},
   "outputs": [
    {
     "data": {
      "text/html": [
       "<div>\n",
       "<style scoped>\n",
       "    .dataframe tbody tr th:only-of-type {\n",
       "        vertical-align: middle;\n",
       "    }\n",
       "\n",
       "    .dataframe tbody tr th {\n",
       "        vertical-align: top;\n",
       "    }\n",
       "\n",
       "    .dataframe thead th {\n",
       "        text-align: right;\n",
       "    }\n",
       "</style>\n",
       "<table border=\"1\" class=\"dataframe\">\n",
       "  <thead>\n",
       "    <tr style=\"text-align: right;\">\n",
       "      <th></th>\n",
       "      <th>data</th>\n",
       "      <th>dia</th>\n",
       "      <th>mes</th>\n",
       "      <th>ano</th>\n",
       "      <th>dia_da_semana</th>\n",
       "      <th>mes_extenso</th>\n",
       "    </tr>\n",
       "  </thead>\n",
       "  <tbody>\n",
       "    <tr>\n",
       "      <th>75</th>\n",
       "      <td>2000-03-16</td>\n",
       "      <td>16</td>\n",
       "      <td>3</td>\n",
       "      <td>2000</td>\n",
       "      <td>Quinta-feira</td>\n",
       "      <td>Marã§o</td>\n",
       "    </tr>\n",
       "    <tr>\n",
       "      <th>263</th>\n",
       "      <td>2000-09-20</td>\n",
       "      <td>20</td>\n",
       "      <td>9</td>\n",
       "      <td>2000</td>\n",
       "      <td>Quarta-feira</td>\n",
       "      <td>Setembro</td>\n",
       "    </tr>\n",
       "    <tr>\n",
       "      <th>3066</th>\n",
       "      <td>2008-05-24</td>\n",
       "      <td>24</td>\n",
       "      <td>5</td>\n",
       "      <td>2008</td>\n",
       "      <td>Sã¡bado</td>\n",
       "      <td>Maio</td>\n",
       "    </tr>\n",
       "    <tr>\n",
       "      <th>6020</th>\n",
       "      <td>2016-06-25</td>\n",
       "      <td>25</td>\n",
       "      <td>6</td>\n",
       "      <td>2016</td>\n",
       "      <td>Sã¡bado</td>\n",
       "      <td>Junho</td>\n",
       "    </tr>\n",
       "    <tr>\n",
       "      <th>195</th>\n",
       "      <td>2000-07-14</td>\n",
       "      <td>14</td>\n",
       "      <td>7</td>\n",
       "      <td>2000</td>\n",
       "      <td>Sexta-feira</td>\n",
       "      <td>Julho</td>\n",
       "    </tr>\n",
       "  </tbody>\n",
       "</table>\n",
       "</div>"
      ],
      "text/plain": [
       "           data  dia  mes   ano dia_da_semana mes_extenso\n",
       "75   2000-03-16   16    3  2000  Quinta-feira      Marã§o\n",
       "263  2000-09-20   20    9  2000  Quarta-feira    Setembro\n",
       "3066 2008-05-24   24    5  2008       Sã¡bado        Maio\n",
       "6020 2016-06-25   25    6  2016       Sã¡bado       Junho\n",
       "195  2000-07-14   14    7  2000   Sexta-feira       Julho"
      ]
     },
     "execution_count": 356,
     "metadata": {},
     "output_type": "execute_result"
    }
   ],
   "source": [
    "codigo_local = 'pt_BR.UTF-8'\n",
    "df['mes_extenso'] = df.data.dt.month_name(codigo_local)\n",
    "df['dia_da_semana'] = df.data.dt.day_name(codigo_local)\n",
    "\n",
    "df.sample(5)"
   ]
  },
  {
   "cell_type": "code",
   "execution_count": 357,
   "id": "bda92b96-a7bb-4c44-8ed1-1b043980dfec",
   "metadata": {},
   "outputs": [
    {
     "data": {
      "text/html": [
       "<div>\n",
       "<style scoped>\n",
       "    .dataframe tbody tr th:only-of-type {\n",
       "        vertical-align: middle;\n",
       "    }\n",
       "\n",
       "    .dataframe tbody tr th {\n",
       "        vertical-align: top;\n",
       "    }\n",
       "\n",
       "    .dataframe thead th {\n",
       "        text-align: right;\n",
       "    }\n",
       "</style>\n",
       "<table border=\"1\" class=\"dataframe\">\n",
       "  <thead>\n",
       "    <tr style=\"text-align: right;\">\n",
       "      <th></th>\n",
       "      <th>data</th>\n",
       "      <th>dia</th>\n",
       "      <th>mes</th>\n",
       "      <th>ano</th>\n",
       "      <th>dia_da_semana</th>\n",
       "      <th>mes_extenso</th>\n",
       "      <th>YTD</th>\n",
       "      <th>quarter</th>\n",
       "    </tr>\n",
       "  </thead>\n",
       "  <tbody>\n",
       "    <tr>\n",
       "      <th>7157</th>\n",
       "      <td>2019-08-06</td>\n",
       "      <td>6</td>\n",
       "      <td>8</td>\n",
       "      <td>2019</td>\n",
       "      <td>Terã§a-feira</td>\n",
       "      <td>Agosto</td>\n",
       "      <td>218</td>\n",
       "      <td>3</td>\n",
       "    </tr>\n",
       "    <tr>\n",
       "      <th>7853</th>\n",
       "      <td>2021-07-02</td>\n",
       "      <td>2</td>\n",
       "      <td>7</td>\n",
       "      <td>2021</td>\n",
       "      <td>Sexta-feira</td>\n",
       "      <td>Julho</td>\n",
       "      <td>183</td>\n",
       "      <td>3</td>\n",
       "    </tr>\n",
       "    <tr>\n",
       "      <th>4504</th>\n",
       "      <td>2012-05-01</td>\n",
       "      <td>1</td>\n",
       "      <td>5</td>\n",
       "      <td>2012</td>\n",
       "      <td>Terã§a-feira</td>\n",
       "      <td>Maio</td>\n",
       "      <td>122</td>\n",
       "      <td>2</td>\n",
       "    </tr>\n",
       "    <tr>\n",
       "      <th>4883</th>\n",
       "      <td>2013-05-15</td>\n",
       "      <td>15</td>\n",
       "      <td>5</td>\n",
       "      <td>2013</td>\n",
       "      <td>Quarta-feira</td>\n",
       "      <td>Maio</td>\n",
       "      <td>135</td>\n",
       "      <td>2</td>\n",
       "    </tr>\n",
       "    <tr>\n",
       "      <th>7272</th>\n",
       "      <td>2019-11-29</td>\n",
       "      <td>29</td>\n",
       "      <td>11</td>\n",
       "      <td>2019</td>\n",
       "      <td>Sexta-feira</td>\n",
       "      <td>Novembro</td>\n",
       "      <td>333</td>\n",
       "      <td>4</td>\n",
       "    </tr>\n",
       "  </tbody>\n",
       "</table>\n",
       "</div>"
      ],
      "text/plain": [
       "           data  dia  mes   ano dia_da_semana mes_extenso  YTD  quarter\n",
       "7157 2019-08-06    6    8  2019  Terã§a-feira      Agosto  218        3\n",
       "7853 2021-07-02    2    7  2021   Sexta-feira       Julho  183        3\n",
       "4504 2012-05-01    1    5  2012  Terã§a-feira        Maio  122        2\n",
       "4883 2013-05-15   15    5  2013  Quarta-feira        Maio  135        2\n",
       "7272 2019-11-29   29   11  2019   Sexta-feira    Novembro  333        4"
      ]
     },
     "execution_count": 357,
     "metadata": {},
     "output_type": "execute_result"
    }
   ],
   "source": [
    "df['YTD'] = df.data.dt.dayofyear\n",
    "df['quarter'] = df.data.dt.quarter\n",
    "df.sample(5)"
   ]
  },
  {
   "cell_type": "markdown",
   "id": "356aafbd-8d73-4a3c-8fb2-420397e7831d",
   "metadata": {},
   "source": [
    "### Fazendo contas com datas"
   ]
  },
  {
   "cell_type": "code",
   "execution_count": 370,
   "id": "902a5278-d30d-4d41-836c-e48ede1b9ef3",
   "metadata": {},
   "outputs": [],
   "source": [
    "from datetime import date\n",
    "from datetime import timedelta"
   ]
  },
  {
   "cell_type": "code",
   "execution_count": 371,
   "id": "f95e77d3-894a-42f4-b599-dafcc9ca5a81",
   "metadata": {},
   "outputs": [
    {
     "data": {
      "text/plain": [
       "datetime.date(2023, 1, 13)"
      ]
     },
     "execution_count": 371,
     "metadata": {},
     "output_type": "execute_result"
    }
   ],
   "source": [
    "hoje"
   ]
  },
  {
   "cell_type": "code",
   "execution_count": 391,
   "id": "46fa7d2a-8b8d-492d-b951-dbde2abe9f97",
   "metadata": {},
   "outputs": [],
   "source": [
    "outro_dia = date(2033, 1, 13)"
   ]
  },
  {
   "cell_type": "markdown",
   "id": "50931be0-a4bb-46da-8d79-1291c51feb5a",
   "metadata": {},
   "source": [
    "#### Número de dias entre duas datas"
   ]
  },
  {
   "cell_type": "code",
   "execution_count": 392,
   "id": "70fc0ebc-6b3b-4b63-9598-46f921774150",
   "metadata": {},
   "outputs": [
    {
     "data": {
      "text/plain": [
       "datetime.timedelta(days=3653)"
      ]
     },
     "execution_count": 392,
     "metadata": {},
     "output_type": "execute_result"
    }
   ],
   "source": [
    "outro_dia - hoje"
   ]
  },
  {
   "cell_type": "code",
   "execution_count": 393,
   "id": "4a7c09c6-b2da-43f2-ba35-0014398d2778",
   "metadata": {},
   "outputs": [
    {
     "data": {
      "text/plain": [
       "3653"
      ]
     },
     "execution_count": 393,
     "metadata": {},
     "output_type": "execute_result"
    }
   ],
   "source": [
    "(outro_dia - hoje).days"
   ]
  },
  {
   "cell_type": "markdown",
   "id": "68bf4b5d-402d-4042-b828-3f4c9a192e2e",
   "metadata": {},
   "source": [
    "#### Data daqui a \"x\" dias"
   ]
  },
  {
   "cell_type": "code",
   "execution_count": 394,
   "id": "2a1618fb-7113-4596-9073-7c937c6efae8",
   "metadata": {},
   "outputs": [
    {
     "data": {
      "text/plain": [
       "datetime.date(2023, 1, 14)"
      ]
     },
     "execution_count": 394,
     "metadata": {},
     "output_type": "execute_result"
    }
   ],
   "source": [
    "hoje + timedelta(1) #Amanhã"
   ]
  },
  {
   "cell_type": "code",
   "execution_count": 395,
   "id": "b8c7a6f3-0a79-42eb-ae21-25c1b6201c25",
   "metadata": {},
   "outputs": [
    {
     "data": {
      "text/plain": [
       "datetime.date(2023, 1, 20)"
      ]
     },
     "execution_count": 395,
     "metadata": {},
     "output_type": "execute_result"
    }
   ],
   "source": [
    "hoje + timedelta(7) #Semana que vem"
   ]
  },
  {
   "cell_type": "markdown",
   "id": "82c40944-4b19-42fe-9bb0-67de34ca8aa7",
   "metadata": {},
   "source": [
    "#### Exemplos"
   ]
  },
  {
   "cell_type": "markdown",
   "id": "0949caa0-a334-4482-9153-f63c881e1199",
   "metadata": {},
   "source": [
    "##### Dias corridos\n"
   ]
  },
  {
   "cell_type": "code",
   "execution_count": 396,
   "id": "42771ff6-5f5f-4bed-be83-184927f1915e",
   "metadata": {},
   "outputs": [
    {
     "data": {
      "text/plain": [
       "3653"
      ]
     },
     "execution_count": 396,
     "metadata": {},
     "output_type": "execute_result"
    }
   ],
   "source": [
    "def dias_corridos(data1, data2):\n",
    "    return((data2 - data1).days)\n",
    "\n",
    "dias_corridos(hoje, outro_dia)"
   ]
  },
  {
   "cell_type": "code",
   "execution_count": 397,
   "id": "667f9dff-2345-4efa-a6be-6cd42310f35c",
   "metadata": {},
   "outputs": [
    {
     "data": {
      "text/plain": [
       "10.008219178082191"
      ]
     },
     "execution_count": 397,
     "metadata": {},
     "output_type": "execute_result"
    }
   ],
   "source": [
    "def anos_corridos(data1, data2):\n",
    "    return(dias_corridos(data1, data2)/365)\n",
    "\n",
    "anos_corridos(hoje, outro_dia)"
   ]
  },
  {
   "cell_type": "markdown",
   "id": "99653879-f74e-4041-ae7d-702bab7f0519",
   "metadata": {},
   "source": [
    "##### Dias corridos 30/360\n",
    "\n",
    "$$ \n",
    "\\tau = \\frac{360 \\times \\Delta Y + 30 \\times \\Delta M + 1 \\times \\Delta D}{360} \n",
    "$$"
   ]
  },
  {
   "cell_type": "code",
   "execution_count": 398,
   "id": "53a64253-a4cc-466b-934a-fa47e888cd26",
   "metadata": {},
   "outputs": [
    {
     "data": {
      "text/plain": [
       "10.0"
      ]
     },
     "execution_count": 398,
     "metadata": {},
     "output_type": "execute_result"
    }
   ],
   "source": [
    "def dias_corridos_30_360(data1, data2):\n",
    "\n",
    "    Delta_Y = data2.year - data1.year\n",
    "    Delta_M = data2.month - data1.month\n",
    "    Delta_D = data2.day - data1.day\n",
    "\n",
    "    return (360*Delta_Y + 30*Delta_M + Delta_D)/360\n",
    "\n",
    "dc_30_360(hoje, outro_dia)"
   ]
  },
  {
   "cell_type": "markdown",
   "id": "f45d4a01-e609-4d1f-a806-2783655b06eb",
   "metadata": {},
   "source": [
    "__obs.:__ No mercado financeiro, frequentemente estamos interessados em __dias úteis__. Nesses casos, podemos utilizar o pacote `bizdays`, juntamente com o [calendário de feriados bancários da ANBIMA](https://www.anbima.com.br/feriados/arqs/feriados_nacionais.xls)."
   ]
  }
 ],
 "metadata": {
  "kernelspec": {
   "display_name": "Python 3 (ipykernel)",
   "language": "python",
   "name": "python3"
  },
  "language_info": {
   "codemirror_mode": {
    "name": "ipython",
    "version": 3
   },
   "file_extension": ".py",
   "mimetype": "text/x-python",
   "name": "python",
   "nbconvert_exporter": "python",
   "pygments_lexer": "ipython3",
   "version": "3.9.13"
  }
 },
 "nbformat": 4,
 "nbformat_minor": 5
}
