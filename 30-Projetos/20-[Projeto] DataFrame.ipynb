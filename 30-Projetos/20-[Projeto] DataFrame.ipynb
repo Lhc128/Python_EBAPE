{
 "cells": [
  {
   "cell_type": "markdown",
   "metadata": {},
   "source": [
    "# DataFrames\n",
    "\n",
    "Nesse projeto, vamos utilizar dados da [_American Communities Survey (ACS)](https://usa.ipums.org/usa/acs.shtml)_ para estudar a relação entre educação e salário. A ACS é uma pesquisa realizada pelo _Unites States Census Bureau_ (embora ele não seja \"O Censo\", que é uma contagem de cada pessoa nos EUA e ocorre a cada 10 anos) que mede várias características da população americana. Os dados com os quais vamos trabalhar inclui cerca de 100 variáveis referentes à pesquisa de 2017, e é uma amostra de 10% dos dados totais da ACS (que, por sua vez, é uma amostra de 1% da população americana. Então, nós estaremos trabalhando com um amostra de 0.1% da população dos EUA).\n",
    "\n",
    "Esses dados são disponibilizados pela [IPUMS](https://usa.ipums.org/usa/), que provê uma interface muito útil para conseguir acesso a amostras de importantes bases de dados, não apenas do governo americano, mas também de [governos mundo afora](https://international.ipums.org/international-action/sample_details).\n",
    "\n",
    "Esta é uma base de dados _real_, o que significa que você vai receber os dados exatamente como eles são providenciados pelo _IPUMS_. A documentação explicando o que é cada variável pode ser encontrada [aqui](https://usa.ipums.org/usa-action/variables/group) (você pode pesquisar pelo nome da variável, para descobrir o que ela significa, ou pesquisar por algo que você deseje encontrar, para ver qual o nome da variável que contém o que você procura).\n",
    "\n",
    "Nessa base de dados, você vai encontrar informações sobre o nível de escolaridade e os salários de uma porção representativa da população americana. Nós vamos usar esses dados para estimar o valor que o mercado de trabalho atribui a se formar no Ensino Médio (_high school_) ou na Faculdade (_college_), e para aprender um pouco mais sobre o significado de um diploma educacional.\n",
    "\n",
    "Os dados para esse projeto podem ser encontrados [aqui](https://github.com/nickeubank/MIDS_Data/tree/master/US_AmericanCommunitySurvey). Primeiro, importe a base `US_ACS_2017_10pct_sample.dta`. \n",
    "\n",
    "Note que o formato desse arquivo é `.dta`, e não `.csv`. Por isso, ao invés de usarmos a função `read_csv`, precisamos usar a função `read_stata`.\n",
    "\n",
    "Eu já escrevi o comando para você:"
   ]
  },
  {
   "cell_type": "code",
   "execution_count": 2,
   "metadata": {},
   "outputs": [],
   "source": [
    "import pandas as pd"
   ]
  },
  {
   "cell_type": "code",
   "execution_count": 3,
   "metadata": {},
   "outputs": [],
   "source": [
    "data = pd.read_stata('https://github.com/nickeubank/MIDS_Data/blob/master/US_AmericanCommunitySurvey/US_ACS_2017_10pct_sample.dta?raw=true')"
   ]
  },
  {
   "cell_type": "markdown",
   "metadata": {},
   "source": [
    "#### Quantas linhas têm essa base de dados? Quantas colunas?"
   ]
  },
  {
   "cell_type": "code",
   "execution_count": null,
   "metadata": {},
   "outputs": [],
   "source": []
  },
  {
   "cell_type": "markdown",
   "metadata": {},
   "source": [
    "Vamos ver que variáveis temos na base. \n",
    "\n",
    "#### Primeiro, tente ver as variáveis usando `.columns`.\n"
   ]
  },
  {
   "cell_type": "code",
   "execution_count": null,
   "metadata": {},
   "outputs": [],
   "source": []
  },
  {
   "cell_type": "markdown",
   "metadata": {},
   "source": [
    "Repare as reticências! O Python não está te mostrando todas as variáveis da base. Vamos tentar algo diferente. \n",
    "\n",
    "#### Copie o código abaixo e substitua a lacuna por algo que imprimirá o nome de todas as colunas.\n",
    "\n",
    "```python\n",
    "for coluna in ___________:\n",
    "    print(coluna)\n",
    "```"
   ]
  },
  {
   "cell_type": "code",
   "execution_count": null,
   "metadata": {},
   "outputs": [],
   "source": []
  },
  {
   "cell_type": "markdown",
   "metadata": {},
   "source": [
    "Quantas colunas! A maior parte dessas colunas não nos interessa. A vida é mais simples quando trabalhamos apenas com o essencial. Nesse projeto, a gente está interessado na relação entre educação e salários. Por isso, vamos selecionar apenas variáveis referentes a:\n",
    "\n",
    "* Idade (`age`)\n",
    "* Remuneração (`inctot`)\n",
    "* Edudação (`educ`)\n",
    "* Situação empregatícia i.e. se a pessoa está trabalhando no momento (`empstat`)\n",
    "\n",
    "As variáveis correspondentes a essas grandezas estão em parêntesis.\n",
    "\n",
    "#### Reduza o dataframe para conter apenas essas variáveis"
   ]
  },
  {
   "cell_type": "code",
   "execution_count": null,
   "metadata": {},
   "outputs": [],
   "source": []
  },
  {
   "cell_type": "markdown",
   "metadata": {},
   "source": [
    "Até agora, eu não te pedi para olhar a base. Isso é perigoso. Sempre é bom olhar a base. Para ver o porquê, considere a seguinte pergunta:\n",
    "\n",
    "#### Qual é a renda média (`inctot`) das pessoas na base?"
   ]
  },
  {
   "cell_type": "code",
   "execution_count": null,
   "metadata": {},
   "outputs": [],
   "source": []
  },
  {
   "cell_type": "markdown",
   "metadata": {},
   "source": [
    "Nem brincando! Nem brincando! A renda média dos americanos certamente não é 1.7 milhão de dólares por ano!\n",
    "\n",
    "Isso mostra o perigo de sairmos fazendo conta sem olharmos a base de dados.\n",
    "\n",
    "SEMPRE olhe a base de dados!\n",
    "SEMPRE.\n",
    "\n",
    "A forma mais fácil de fazer isso é usando o método `.head()`, que mostra as primeiras 5 linhas da base, ou o método `.tail()`, que mostra as últimas 5.\n",
    "\n",
    "Mas para ter uma boa idéia da base, costuma ser melhor escolher linhas aleatórias. Se a base estiver ordenada por algum critério, as linhas do início ou do final podem não representar bem a base como um todo. É por isso que é melhor selecionar linhas aleatórias. Isso pode ser feito usando o método `.sample()`. \n",
    "\n",
    "#### Observe uma amostra aleatória de 20 linhas da base de dados"
   ]
  },
  {
   "cell_type": "code",
   "execution_count": null,
   "metadata": {},
   "outputs": [],
   "source": []
  },
  {
   "cell_type": "markdown",
   "metadata": {},
   "source": [
    "Você vê algum problema com a base? \n",
    "\n",
    "#### Escreva abaixo alguns problemas que você percebe nesta base\n"
   ]
  },
  {
   "cell_type": "markdown",
   "metadata": {},
   "source": [
    "Resposta\n",
    "* A\n",
    "* B\n",
    "* C\n",
    "* D"
   ]
  },
  {
   "cell_type": "markdown",
   "metadata": {},
   "source": [
    "Um problema é que muita gente parece ter uma remuneração de $9,999,999. Além disso, pessoas com essa remuneração parecem ser crianças.\n",
    "\n",
    "O que você está observando é um método (antiquado) de representar dados faltando. Neste caso, o valor 9999999 é usado para representar observações para as quais não se tem a informação (por exemplo, casos em que a pessoa é jovem demais para trabalhar e, portanto, não tem renda).\n",
    "\n",
    "Vamos começar retirando da base todas as pessoas cuja renda é igual a 9999999. "
   ]
  },
  {
   "cell_type": "markdown",
   "metadata": {},
   "source": [
    "#### Retire da base as pessoas cuja renda é igual a 9999999\n",
    "\n",
    "Depois, calcule a renda média das pessoas novamente. Você verá que esse valor é bem mais razoável (cerca de 40 mil dólares por ano).\n",
    "\n",
    "Finalmente, mostre novamente uma amostra de 20 linhas, para continuarmos explorando a base."
   ]
  },
  {
   "cell_type": "code",
   "execution_count": null,
   "metadata": {},
   "outputs": [],
   "source": []
  },
  {
   "cell_type": "code",
   "execution_count": null,
   "metadata": {},
   "outputs": [],
   "source": []
  },
  {
   "cell_type": "code",
   "execution_count": null,
   "metadata": {},
   "outputs": [],
   "source": []
  },
  {
   "cell_type": "markdown",
   "metadata": {},
   "source": [
    "OK, outro problema potencial é que nossos dados incluem várias pessoas que estão desempregadas e pessoas que não pertencem à força de trabalho (ou seja, pessoas que não tem um emprego mas também não estão producrando por um). Para esta análise, queremos focar em pessoas que _estão_ empregadas. Por isso, \n",
    "\n",
    "#### Selecione apenas as pessoas empregadas (i.e., pessoas cuja variável `empstat` é igual a _employed_)\n",
    "Mostre uma amostra aleatória de 5 linhas para comprovar que o filtro funcionou."
   ]
  },
  {
   "cell_type": "code",
   "execution_count": null,
   "metadata": {},
   "outputs": [],
   "source": []
  },
  {
   "cell_type": "markdown",
   "metadata": {},
   "source": [
    "Note que a nossa decisão de olhar apenas para pessoas que estão empregadas afeta como a gente deverá interpretar as nossas conclusões sobre a relação entre educação e trabalho. Como a gente está olhando apenas para pessoas que estão empregadas, e gente estará analisando a relação entre educação e remuneração para pessoas empregadas. Isso significa que se a educação aumenta as chances de alguém estar empregado, isso é algo que a gente não vai conseguir observar na nossa análise. (Economistas chamam isso de \"margem intensiva\", enquanto que a análise sobre se pessoas conseguem ou não arranjar um emprego se chama \"margem extensiva\")\n"
   ]
  },
  {
   "cell_type": "markdown",
   "metadata": {},
   "source": [
    "Agora, vamos abordar a questão da educação. A variável `educ` parece ter vários valores que são essencialmente categorias (chamamos de valores _discretos_, por oposição a valores _contínuos_). Vamos ver que valores existem e qual é a frequência de cada um deles usando o método `.value_counts()`. Esse método é muito útil e você vai usá-lo muito! \n",
    "\n",
    "#### Use o método `.value_counts()` na variável `educ` para ver quais os valores possiveis dessa variável e qual a frequência de cada um deles"
   ]
  },
  {
   "cell_type": "code",
   "execution_count": null,
   "metadata": {},
   "outputs": [],
   "source": []
  },
  {
   "cell_type": "markdown",
   "metadata": {},
   "source": [
    "Existem vários valores possíveis e nem todos interessam.Vamos focar em apenas alguns.\n",
    "\n",
    "#### Qual é o valor médio de remuneração (`inctot`) para pessoas que têm o Ensino Médio completo?\n",
    "Obs.: Isso corresponde a ter uma escolaridade máxima (`educ`) igual a _grade 12_\n"
   ]
  },
  {
   "cell_type": "code",
   "execution_count": null,
   "metadata": {},
   "outputs": [],
   "source": []
  },
  {
   "cell_type": "markdown",
   "metadata": {},
   "source": [
    "#### Qual é o valor médio de remuneração (`inctot`) para pessoas que concluíram a faculdade (`educ` igual a \"4 years of college\")?  O que isso sugere sobre o valor de se formar na faculdade, após concluir o Ensino Médio?"
   ]
  },
  {
   "cell_type": "code",
   "execution_count": null,
   "metadata": {},
   "outputs": [],
   "source": []
  },
  {
   "cell_type": "code",
   "execution_count": null,
   "metadata": {},
   "outputs": [],
   "source": []
  },
  {
   "cell_type": "markdown",
   "metadata": {},
   "source": [
    "#### Qual é o valor médio de remuneração (`inctot`) para pessoas que não concluíram o Ensino Médio? O que isso sugere sobre o valor de um diploma de conclusão do Ensino Médio?"
   ]
  },
  {
   "cell_type": "code",
   "execution_count": null,
   "metadata": {},
   "outputs": [],
   "source": []
  },
  {
   "cell_type": "markdown",
   "metadata": {},
   "source": [
    "#### Calcule as seguintes quantidades:\n",
    "\n",
    "* Remuneração média para alguém que completou apenas a 9a série: ______________  \n",
    "* Remuneração média para alguém que completou apenas a 10a série: ______________  \n",
    "* Remuneração média para alguém que completou apenas a 11a série: ______________  \n",
    "* Remuneração média para alguém que completou o ensino médio (12a série): ______________  \n",
    "* Remuneração média para alguém que cursou 1 ano de faculdade mas largou (1 year of college): ____________\n",
    "* Remuneração média para alguém que cursou 2 anos de faculdade mas largou (2 years of college): ____________\n",
    "* Remuneração média para alguém que completou 4 anos de faculdade (que, para a maior parte dos cursos dos EUA, significa que a pessoa se formou na faculdade): ______________  \n",
    "\n",
    "Dica: Você pode usar suas respostas para os itens anteriores para fazer uma função. Depois, basta aplicar a função a cada caso.\n"
   ]
  },
  {
   "cell_type": "code",
   "execution_count": null,
   "metadata": {},
   "outputs": [],
   "source": []
  },
  {
   "cell_type": "markdown",
   "metadata": {},
   "source": [
    "Você viu o que eu vi? Não faz muita diferença ir da $9^a$ série para a $10^a$, ou da $10^a$ para a $11^a$. Mas faz uma diferença _gigante_ sair da $11^a$ para efetivamente concluir o Ensino Médio ($12^a$ série).\n",
    "\n",
    "Na faculdade acontece a mesma coisa. Fazer 1 ano ou 2 anos não muda nada. Mas concluir a faculdade.... aí sim a diferença no salário fica expressiva!\n",
    "\n",
    "#### Por que você acha que isso acontece?"
   ]
  },
  {
   "cell_type": "code",
   "execution_count": null,
   "metadata": {},
   "outputs": [],
   "source": []
  },
  {
   "cell_type": "markdown",
   "metadata": {},
   "source": [
    "Parabéns! Você acaba de descobrir o _efeito da pele de cordeiro_ ([sheepskin effect](https://en.wikipedia.org/wiki/Sheepskin_effect#:~:text=The%20sheepskin%20effect%20is%20an%20applied%20economics%20theory,effect%20of%20possession%20of%20such%20an%20academic%20degree.)): pessoas com diplomas tendem a ganhar salários significativamente maiores do que pessoas que têm quase o mesmo nível de educação, mas não chegaram a efetivamente obter o diploma.\n",
    "\n",
    "Em Economia, isso é visto como evidência de que o motivo pelo qual empresas pagam mais a profissionais que têm faculdade do que a profissionais que não têm faculdade _não é_ porque elas acreditam que a faculdade lhes ensinou conteúdos importantes para o mercado de trabalho. Se esse fosse o caso, a gente esperaria que os salários crescessem progressivamente com cada ano de faculdade, já que a cada ano se aprende mais.\n",
    "\n",
    "Ao invés disso, esses resultados sugerem que empresas pagam mais para pessoas que têm um diploma universitário porque elas acreditam que esses profissionais são o tipo de pessoa que são mais prováveis de serem bem sucedidas nos seus trabalhos. Concluir uma faculdade, em outras palavras, não é apenas uma questão de acumular conhecimento. É também uma questão de sinalizar para o seu futuro empregador que você é o tipo de pessoa que consegue vencer o desafio de concluir uma faculdade, o que sugere que você também é o tipo de pessoa que vai conseguir vencer os desafios da vida profissional.\n",
    "\n",
    "(Obviamente, talvez os empregadores estejam completamente errados nessa conclusão. Pode ser. Não sabemos. Mas, estejam eles certos ou errados, aparentemente é assim que eles pensam).\n",
    "\n",
    "Em outras palavras, aos olhos dos empregadores, um diploma de faculdade é um _sinal_ sobre que tipo de pessoa você é, não um atestado de que você aprendeu determinados conteúdos acadêmicos. Essa idéia rendeu a [Michael Spence](https://en.wikipedia.org/wiki/Michael_Spence) o Prêmio Nobel de Economia."
   ]
  }
 ],
 "metadata": {
  "kernelspec": {
   "display_name": "Python 3 (ipykernel)",
   "language": "python",
   "name": "python3"
  },
  "language_info": {
   "codemirror_mode": {
    "name": "ipython",
    "version": 3
   },
   "file_extension": ".py",
   "mimetype": "text/x-python",
   "name": "python",
   "nbconvert_exporter": "python",
   "pygments_lexer": "ipython3",
   "version": "3.8.5"
  }
 },
 "nbformat": 4,
 "nbformat_minor": 4
}
