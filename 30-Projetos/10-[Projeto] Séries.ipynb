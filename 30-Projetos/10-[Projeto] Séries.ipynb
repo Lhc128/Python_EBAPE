{
 "cells": [
  {
   "cell_type": "markdown",
   "id": "e877f81b-985d-4300-942a-4603dc64a57e",
   "metadata": {},
   "source": [
    "# Séries"
   ]
  },
  {
   "cell_type": "markdown",
   "id": "1553b2bc-d82a-448e-b988-3e980c341552",
   "metadata": {},
   "source": [
    "Para nos acostumarmos a operar com séries, vamos explorar dados sobre a riqueza de 10 países selecionados aleatóriamente. Os dados a seguir representam o PIB per capita desses países em 2008\n",
    "\n",
    "## Exercício 1\n",
    "\n",
    "Use o código a seguir para começar."
   ]
  },
  {
   "cell_type": "code",
   "execution_count": null,
   "id": "5a128b22-2e78-4785-a9b6-28c810db984d",
   "metadata": {},
   "outputs": [],
   "source": [
    "import pandas as pd\n",
    "ppc = pd.Series([34605, 34493, 12393, 44200, 10041, 58138, 4709, 49284, 10109, 42536],\n",
    "                index=['Bahrain', 'Bélgica', 'Bulgária','Irlanda', 'Macedônia', 'Noruega','Paraguai', 'Sinapura','África do Sul', 'Suiça']\n",
    "                )\n",
    "ppc"
   ]
  },
  {
   "cell_type": "markdown",
   "id": "e21c6c1e-3836-4b40-bdb1-749a315b49ec",
   "metadata": {},
   "source": [
    "## Exercício 2\n",
    "\n",
    "Encontre a média, a mediana, o mínimo e o máximo dos PIBs per capitas contidos nos dados."
   ]
  },
  {
   "cell_type": "code",
   "execution_count": null,
   "id": "d46a6431-bf82-4d0f-a92a-3b28212f5967",
   "metadata": {},
   "outputs": [],
   "source": []
  },
  {
   "cell_type": "markdown",
   "id": "ce6d4635-a84c-43dd-8f6b-c32db8c17546",
   "metadata": {},
   "source": [
    "## Exercício 3"
   ]
  },
  {
   "cell_type": "markdown",
   "id": "bda2b922-e2f6-4932-a4f1-4f5a48f496c2",
   "metadata": {},
   "source": [
    "Usando programação, determine qual país tem a maior renda per capita e qual tem a menor.\n",
    "\n",
    "(Claro, é mais fácil simplesmente olhar os dados. Mas isso é só porque a base de dados é muito pequena. Com uma base de dados real, você vai precisar de código para fazer isso. Então, por favor, use código para responder esse exercício)\n",
    "\n",
    "Dica: Os nomes dos países são o índice dessa Série, então você vai ter que acessar o índice para obter o nome dos países."
   ]
  },
  {
   "cell_type": "code",
   "execution_count": null,
   "id": "649d0a9d-3e9b-472d-ae7f-1f0f813f4434",
   "metadata": {},
   "outputs": [],
   "source": []
  },
  {
   "cell_type": "code",
   "execution_count": null,
   "id": "21e96782-35ef-4914-95c5-f267dcba7aae",
   "metadata": {},
   "outputs": [],
   "source": []
  },
  {
   "cell_type": "markdown",
   "id": "194814c1-e1b3-4a4a-b82c-c93a5025060a",
   "metadata": {},
   "source": [
    "## Exercício 4\n",
    "\n",
    "Programe o Python para imprimir o nome de todos os países cujo PIB per capita é inferior a $20.000."
   ]
  },
  {
   "cell_type": "code",
   "execution_count": null,
   "id": "321f9a2b-1f6c-4377-9e77-d32e809633fd",
   "metadata": {},
   "outputs": [],
   "source": []
  },
  {
   "cell_type": "markdown",
   "id": "c6f61ae5-20d3-4157-a1ae-8b4e4e33f483",
   "metadata": {},
   "source": [
    "## Exercício 5\n",
    "\n",
    "Programe o Python para imprimir o PIB per capita da Suiça."
   ]
  },
  {
   "cell_type": "code",
   "execution_count": null,
   "id": "9013d2be-086b-465d-aaff-65a1ba5bb4cb",
   "metadata": {},
   "outputs": [],
   "source": []
  },
  {
   "cell_type": "markdown",
   "id": "f1ac38f2-f703-486b-995f-614dd452ee2a",
   "metadata": {},
   "source": [
    "## Exercício 6\n",
    "\n",
    "Uma medida frequentemente utilizada para desigualdade de renda é o coeficiente de Gini. O coeficiente de Gini assume o valor 0 quando a renda está distribuída igualmente entre todas as pessoas de uma população, e o valor 1 quando apenas uma pessoa detém a totalidade da renda. Nós vamos calcular o coeficiente de Gini para a desigualdade de renda entre os países considerados.\n",
    "\n",
    "Para visualizar o coeficiente de Gini, a gente concebe um gráfico contendo:\n",
    "* no eixo $x$, a parcela cumulativa da população (ordenada do mais rico para o mais pobre)\n",
    "* no eixo $y$, a parcela cumulativa da renda contida pelo grupo representado no eixo $x$\n",
    "\n",
    "O coeficiente de Gini é definido por:\n",
    "\n",
    "$$\n",
    "{A} \\over {A + B}\n",
    "$$\n",
    "\n",
    "onde $A$ e $B$ são as áreas definidas conforme abaixo:\n",
    "\n",
    "![gini-definicao](https://upload.wikimedia.org/wikipedia/commons/thumb/5/59/Economics_Gini_coefficient2.svg/800px-Economics_Gini_coefficient2.svg.png)\n",
    "\n",
    "Se a renda está distribuída uniformemente, os 20% mais pobres têm 20% da renda; os 40% mais pobres têm 40% da renda; e assim por diante, resultando em uma reta com inclinação de 45%. Nesta situação, não haverá área alguma em $A$, de modo que $A = 0$ e o coeficiente de Gini também é zero.\n",
    "\n",
    "Por outro lado, se os 10% mais ricos detêm toda a renda, então não haverá nenhuma renda para os 90% mais pobres, de modo que a curva vai dar um salto brusco no lado direito do gráfico. Isso vai gerar uma área muito grande entre a curva e a reta de 45 graus, resultando em um valor bastante elevado para o coeficiente de Gini.\n",
    "\n",
    "As figuras a seguir ilustram alguns casos. \n",
    "\n",
    "![gini-casos](https://miro.medium.com/max/595/0*3DTcZnzDwS6A6AtP)\n",
    "\n",
    "Para dados discretos, o coeficiente de Gini pode ser calculado por:"
   ]
  },
  {
   "cell_type": "markdown",
   "id": "9ad388a0-cfcc-4f6f-8481-83e27d981772",
   "metadata": {},
   "source": [
    "$$\n",
    "\\frac{2 \\sum_{i=1}^{n} iy_i}{n \\sum_{i=1}^{n} y_i} - \\frac{n+1}{n}\n",
    "$$"
   ]
  },
  {
   "cell_type": "markdown",
   "id": "006247d7-cc38-4eac-b02d-ce39802c2375",
   "metadata": {},
   "source": [
    "onde $i$ é o ranking de cada país, ordenados do mais pobre ao mais rico, e $y_i$ é a renda deste país.  \n",
    "\n",
    "Usando a fórmula, calcule o coeficiente de Gini para os nossos dados.\n",
    "\n",
    "Dica 1: Tome cuidado com os índices! Em Python, o índice começa em zero, mas nas somatórias da fórmula, começa em 1.\n",
    "\n",
    "Dica 2: Mais tarde, eu vou te pedir para calcular o coeficiente de Gini de novo. Portanto, talvez seja uma boa ideia você escrever uma função para fazer esse cálculo, para simplificar a sua vida depois...\n",
    " "
   ]
  },
  {
   "cell_type": "code",
   "execution_count": null,
   "id": "6cdbc247-b4ec-4e4a-8f48-3a44f7fbb268",
   "metadata": {},
   "outputs": [],
   "source": []
  },
  {
   "cell_type": "markdown",
   "id": "1e5b6ca8-f030-414c-8c78-a4d50cd8a161",
   "metadata": {},
   "source": [
    "## Exercício 7\n",
    "\n",
    "Os resultados que acabamos de gerar é apenas uma fotografia para essa amostra de países. Mas qual é a dinâmica da desigualdade para esses países?\n",
    "\n",
    "Existe uma ideia em Economia chamada a \"hipótese da convergência\" (em inglês, _convergence hypothesis_), que teoriza que países mais pobres tendem a ter taxas de crescimento maiores e, consequentemente, a desigualdade tende a reduzir ao longo do tempo. Economistas que defendem essa hipótese argumentam que, enquanto que países ricos tiveram que inventar novas tecnologias para fomentar seu desenvolvimento econômico, países mais pobres podem simplesmente utilizar as tecnologias que já foram desenvolvidas por países ricos.\n",
    "\n",
    "Para testar essa hipótese, vamos fazer uma pequena análise da dinâmica da desigualdade em nossa amostra. Crie a seguinte série, que contém a taxa de crescimento média do PIB per capita para os países da nossa amostra entre 2008 e 2018."
   ]
  },
  {
   "cell_type": "code",
   "execution_count": null,
   "id": "12c216db-208d-4cc8-a7b0-b4931d1dd445",
   "metadata": {},
   "outputs": [],
   "source": [
    "tx_cresc = pd.Series([-0.29768835, 0.980299584, 4.52991925, 3.686556736, 2.621416804, 0.775132075, 2.015489468, 3.345793635, 1.349993318, 0.982775018],\n",
    "                     index=['Bahrain', 'Bélgica', 'Bulgária','Irlanda', 'Macedônia', 'Noruega','Paraguai', 'Sinapura','África do Sul', 'Suiça']\n",
    "                    )\n",
    "\n",
    "tx_cresc"
   ]
  },
  {
   "cell_type": "markdown",
   "id": "fa005572-b312-4a8d-b099-d75e78de878c",
   "metadata": {},
   "source": [
    "Usando esses dados sobre taxas médias de crescimento em PIB per capita e assumindo que essas taxas de crescimento entre 2000 e 2018 continuem no futuro, estime qual será o coeficiente de Gini em 2025. (Lembre que os dados são de 2008, então estamos extrapolando 17 anos)\n",
    "\n",
    "Dica: a fórmula para crescimento composto (i.e. o valor de alguma coisa crescendo a uma taxa de x porcento por n períodos) é:\n",
    "\n",
    "$$\n",
    "\\text{valor futuro} = \\text{valor presente} \\times \\left( 1 + \\frac{\\text{taxa de crescimento}}{100} \\right)^t\n",
    "$$\n"
   ]
  },
  {
   "cell_type": "code",
   "execution_count": null,
   "id": "72c72989-423c-4a49-9122-6f31b2d1faac",
   "metadata": {},
   "outputs": [],
   "source": []
  },
  {
   "cell_type": "code",
   "execution_count": null,
   "id": "bc603a4b-b9f7-433f-895a-2ce5ce4da6dd",
   "metadata": {},
   "outputs": [],
   "source": []
  },
  {
   "cell_type": "markdown",
   "id": "caea7747-32d3-43f1-a53d-f0475de2741d",
   "metadata": {},
   "source": [
    "## Exercício 8\n",
    "\n",
    "Interprete o seu resultado. Ele sugere que estamos vendo convergência ou não?\n",
    "\n",
    "[Se você ficou curioso e quiser uma análise mais sistemática desses dados, dê uma olhada aqui](https://www.cgdev.org/blog/everything-you-know-about-cross-country-convergence-now-wrong).\n"
   ]
  },
  {
   "cell_type": "code",
   "execution_count": null,
   "id": "1a319952-b8e6-454e-9e9c-7c82b6b65da9",
   "metadata": {},
   "outputs": [],
   "source": []
  }
 ],
 "metadata": {
  "kernelspec": {
   "display_name": "Python 3 (ipykernel)",
   "language": "python",
   "name": "python3"
  },
  "language_info": {
   "codemirror_mode": {
    "name": "ipython",
    "version": 3
   },
   "file_extension": ".py",
   "mimetype": "text/x-python",
   "name": "python",
   "nbconvert_exporter": "python",
   "pygments_lexer": "ipython3",
   "version": "3.8.5"
  }
 },
 "nbformat": 4,
 "nbformat_minor": 5
}
