{
 "cells": [
  {
   "cell_type": "markdown",
   "id": "9059cb36-0b28-49ec-b073-5b736e3bc950",
   "metadata": {
    "id": "f9d9ce62-21e8-4820-87ec-500176f61625"
   },
   "source": [
    "# Prova de Python para Análise de Dados - EPGE - 2022\n",
    "---"
   ]
  },
  {
   "cell_type": "code",
   "execution_count": 8,
   "id": "f241eee4-c3f6-4bea-abd6-64481c67f958",
   "metadata": {
    "id": "8539047e-8abf-43bf-af03-ae1c8ac6b85e"
   },
   "outputs": [],
   "source": [
    "import pandas as pd\n",
    "import numpy as np\n",
    "import matplotlib.pyplot as plt\n",
    "import warnings\n",
    "warnings.simplefilter(action='ignore', category=FutureWarning)"
   ]
  },
  {
   "cell_type": "markdown",
   "id": "728552f1-45c3-47c9-ac40-88fd8b84351a",
   "metadata": {},
   "source": [
    "# Questão 1"
   ]
  },
  {
   "cell_type": "markdown",
   "id": "774bec2a-93d0-4ca2-b323-510301b84af8",
   "metadata": {},
   "source": [
    "A sequência de Collatz é muito bonitinha. Ela recebe um número $n$ inteiro e devolve outro, calculado da seguinte maneira:\n",
    "\n",
    "* se $n$ for par, ela devolve $\\frac{n}{2}$\n",
    "* se $n$ for impar, ela devolve $3n + 1$\n",
    "\n",
    "Aparentemente, se você ficar repetindo esses passos várias vezes, você sempre chega a 1, independente do número do qual você começou. Sim, isso é estranho. E ninguém sabe o porquê.\n",
    "\n",
    "#### (a)\n",
    "\n",
    "Crie uma função chamada `collatz` que receba um número $n$ e devolva o próximo termo da sequência de Collatz, dada pela regra acima."
   ]
  },
  {
   "cell_type": "code",
   "execution_count": 9,
   "id": "e528b906-02b7-4e3d-b926-fd7ed1751e48",
   "metadata": {},
   "outputs": [],
   "source": [
    "def collatz(n):\n",
    "    if n%2 == 0:\n",
    "        return(n/2)\n",
    "    else:\n",
    "        return(3*n + 1)"
   ]
  },
  {
   "cell_type": "markdown",
   "id": "eb41cfbd-62b2-49c6-bdd7-54447b73fb24",
   "metadata": {},
   "source": [
    "#### (b)\n",
    "\n",
    "Faça uma função chamada `seq_collatz` que, a partir de um número $n$, devolva uma lista com todos os termos da sequência de Collatz até que o número 1 seja atingido. O número original e o 1 devem ser incluídos na lista.\n",
    "\n",
    "Para verificar, note que a sequência do número 15 é 15, 46, 23, 70, 35, 106, 53, 160, 80, 40, 20, 10, 5, 16, 8, 4, 2, 1.\n",
    " \n",
    "\n"
   ]
  },
  {
   "cell_type": "code",
   "execution_count": 10,
   "id": "e6afc346-6078-4b3b-9512-e2e94e9a3cbc",
   "metadata": {},
   "outputs": [],
   "source": [
    "def seq_collatz(n):\n",
    "    \n",
    "    seq = [n]\n",
    "    while n > 1:\n",
    "        n = collatz(n)\n",
    "        seq.append(int(n))\n",
    "    \n",
    "    return(seq)"
   ]
  },
  {
   "cell_type": "code",
   "execution_count": 11,
   "id": "26b1892d-2a8f-4196-88fe-773291b826c2",
   "metadata": {},
   "outputs": [
    {
     "data": {
      "text/plain": [
       "[15, 46, 23, 70, 35, 106, 53, 160, 80, 40, 20, 10, 5, 16, 8, 4, 2, 1]"
      ]
     },
     "execution_count": 11,
     "metadata": {},
     "output_type": "execute_result"
    }
   ],
   "source": [
    "seq_collatz(15)"
   ]
  },
  {
   "cell_type": "markdown",
   "id": "d1406a02-5d37-4ec6-8294-e141d91a01b8",
   "metadata": {},
   "source": [
    "# Questão 2\n",
    "\n",
    "Este [link](https://gist.githubusercontent.com/zhonglism/f146a9423e2c975de8d03c26451f841e/raw/f79e190df4225caed58bf360d8e20a9fa872b4ac/vgsales.csv) tem dados sobre vendas de videogames.\n",
    "\n",
    "#### (a)\n",
    "Importe esses dados como um dataframe chamado `vg` (de \"videogame\") onde a coluna `Rank` é o índice de linha. Mostre as primeiras 15 linhas desse dataframe."
   ]
  },
  {
   "cell_type": "code",
   "execution_count": 12,
   "id": "cfddb117-00d0-45b2-bdcf-497b59205311",
   "metadata": {},
   "outputs": [
    {
     "data": {
      "text/html": [
       "<div>\n",
       "<style scoped>\n",
       "    .dataframe tbody tr th:only-of-type {\n",
       "        vertical-align: middle;\n",
       "    }\n",
       "\n",
       "    .dataframe tbody tr th {\n",
       "        vertical-align: top;\n",
       "    }\n",
       "\n",
       "    .dataframe thead th {\n",
       "        text-align: right;\n",
       "    }\n",
       "</style>\n",
       "<table border=\"1\" class=\"dataframe\">\n",
       "  <thead>\n",
       "    <tr style=\"text-align: right;\">\n",
       "      <th></th>\n",
       "      <th>Name</th>\n",
       "      <th>Platform</th>\n",
       "      <th>Year</th>\n",
       "      <th>Genre</th>\n",
       "      <th>Publisher</th>\n",
       "      <th>NA_Sales</th>\n",
       "      <th>EU_Sales</th>\n",
       "      <th>JP_Sales</th>\n",
       "      <th>Other_Sales</th>\n",
       "      <th>Global_Sales</th>\n",
       "    </tr>\n",
       "    <tr>\n",
       "      <th>Rank</th>\n",
       "      <th></th>\n",
       "      <th></th>\n",
       "      <th></th>\n",
       "      <th></th>\n",
       "      <th></th>\n",
       "      <th></th>\n",
       "      <th></th>\n",
       "      <th></th>\n",
       "      <th></th>\n",
       "      <th></th>\n",
       "    </tr>\n",
       "  </thead>\n",
       "  <tbody>\n",
       "    <tr>\n",
       "      <th>1</th>\n",
       "      <td>Wii Sports</td>\n",
       "      <td>Wii</td>\n",
       "      <td>2006.0</td>\n",
       "      <td>Sports</td>\n",
       "      <td>Nintendo</td>\n",
       "      <td>41.49</td>\n",
       "      <td>29.02</td>\n",
       "      <td>3.77</td>\n",
       "      <td>8.46</td>\n",
       "      <td>82.74</td>\n",
       "    </tr>\n",
       "    <tr>\n",
       "      <th>2</th>\n",
       "      <td>Super Mario Bros.</td>\n",
       "      <td>NES</td>\n",
       "      <td>1985.0</td>\n",
       "      <td>Platform</td>\n",
       "      <td>Nintendo</td>\n",
       "      <td>29.08</td>\n",
       "      <td>3.58</td>\n",
       "      <td>6.81</td>\n",
       "      <td>0.77</td>\n",
       "      <td>40.24</td>\n",
       "    </tr>\n",
       "    <tr>\n",
       "      <th>3</th>\n",
       "      <td>Mario Kart Wii</td>\n",
       "      <td>Wii</td>\n",
       "      <td>2008.0</td>\n",
       "      <td>Racing</td>\n",
       "      <td>Nintendo</td>\n",
       "      <td>15.85</td>\n",
       "      <td>12.88</td>\n",
       "      <td>3.79</td>\n",
       "      <td>3.31</td>\n",
       "      <td>35.82</td>\n",
       "    </tr>\n",
       "    <tr>\n",
       "      <th>4</th>\n",
       "      <td>Wii Sports Resort</td>\n",
       "      <td>Wii</td>\n",
       "      <td>2009.0</td>\n",
       "      <td>Sports</td>\n",
       "      <td>Nintendo</td>\n",
       "      <td>15.75</td>\n",
       "      <td>11.01</td>\n",
       "      <td>3.28</td>\n",
       "      <td>2.96</td>\n",
       "      <td>33.00</td>\n",
       "    </tr>\n",
       "    <tr>\n",
       "      <th>5</th>\n",
       "      <td>Pokemon Red/Pokemon Blue</td>\n",
       "      <td>GB</td>\n",
       "      <td>1996.0</td>\n",
       "      <td>Role-Playing</td>\n",
       "      <td>Nintendo</td>\n",
       "      <td>11.27</td>\n",
       "      <td>8.89</td>\n",
       "      <td>10.22</td>\n",
       "      <td>1.00</td>\n",
       "      <td>31.37</td>\n",
       "    </tr>\n",
       "    <tr>\n",
       "      <th>6</th>\n",
       "      <td>Tetris</td>\n",
       "      <td>GB</td>\n",
       "      <td>1989.0</td>\n",
       "      <td>Puzzle</td>\n",
       "      <td>Nintendo</td>\n",
       "      <td>23.20</td>\n",
       "      <td>2.26</td>\n",
       "      <td>4.22</td>\n",
       "      <td>0.58</td>\n",
       "      <td>30.26</td>\n",
       "    </tr>\n",
       "    <tr>\n",
       "      <th>7</th>\n",
       "      <td>New Super Mario Bros.</td>\n",
       "      <td>DS</td>\n",
       "      <td>2006.0</td>\n",
       "      <td>Platform</td>\n",
       "      <td>Nintendo</td>\n",
       "      <td>11.38</td>\n",
       "      <td>9.23</td>\n",
       "      <td>6.50</td>\n",
       "      <td>2.90</td>\n",
       "      <td>30.01</td>\n",
       "    </tr>\n",
       "    <tr>\n",
       "      <th>8</th>\n",
       "      <td>Wii Play</td>\n",
       "      <td>Wii</td>\n",
       "      <td>2006.0</td>\n",
       "      <td>Misc</td>\n",
       "      <td>Nintendo</td>\n",
       "      <td>14.03</td>\n",
       "      <td>9.20</td>\n",
       "      <td>2.93</td>\n",
       "      <td>2.85</td>\n",
       "      <td>29.02</td>\n",
       "    </tr>\n",
       "    <tr>\n",
       "      <th>9</th>\n",
       "      <td>New Super Mario Bros. Wii</td>\n",
       "      <td>Wii</td>\n",
       "      <td>2009.0</td>\n",
       "      <td>Platform</td>\n",
       "      <td>Nintendo</td>\n",
       "      <td>14.59</td>\n",
       "      <td>7.06</td>\n",
       "      <td>4.70</td>\n",
       "      <td>2.26</td>\n",
       "      <td>28.62</td>\n",
       "    </tr>\n",
       "    <tr>\n",
       "      <th>10</th>\n",
       "      <td>Duck Hunt</td>\n",
       "      <td>NES</td>\n",
       "      <td>1984.0</td>\n",
       "      <td>Shooter</td>\n",
       "      <td>Nintendo</td>\n",
       "      <td>26.93</td>\n",
       "      <td>0.63</td>\n",
       "      <td>0.28</td>\n",
       "      <td>0.47</td>\n",
       "      <td>28.31</td>\n",
       "    </tr>\n",
       "    <tr>\n",
       "      <th>11</th>\n",
       "      <td>Nintendogs</td>\n",
       "      <td>DS</td>\n",
       "      <td>2005.0</td>\n",
       "      <td>Simulation</td>\n",
       "      <td>Nintendo</td>\n",
       "      <td>9.07</td>\n",
       "      <td>11.00</td>\n",
       "      <td>1.93</td>\n",
       "      <td>2.75</td>\n",
       "      <td>24.76</td>\n",
       "    </tr>\n",
       "    <tr>\n",
       "      <th>12</th>\n",
       "      <td>Mario Kart DS</td>\n",
       "      <td>DS</td>\n",
       "      <td>2005.0</td>\n",
       "      <td>Racing</td>\n",
       "      <td>Nintendo</td>\n",
       "      <td>9.81</td>\n",
       "      <td>7.57</td>\n",
       "      <td>4.13</td>\n",
       "      <td>1.92</td>\n",
       "      <td>23.42</td>\n",
       "    </tr>\n",
       "    <tr>\n",
       "      <th>13</th>\n",
       "      <td>Pokemon Gold/Pokemon Silver</td>\n",
       "      <td>GB</td>\n",
       "      <td>1999.0</td>\n",
       "      <td>Role-Playing</td>\n",
       "      <td>Nintendo</td>\n",
       "      <td>9.00</td>\n",
       "      <td>6.18</td>\n",
       "      <td>7.20</td>\n",
       "      <td>0.71</td>\n",
       "      <td>23.10</td>\n",
       "    </tr>\n",
       "    <tr>\n",
       "      <th>14</th>\n",
       "      <td>Wii Fit</td>\n",
       "      <td>Wii</td>\n",
       "      <td>2007.0</td>\n",
       "      <td>Sports</td>\n",
       "      <td>Nintendo</td>\n",
       "      <td>8.94</td>\n",
       "      <td>8.03</td>\n",
       "      <td>3.60</td>\n",
       "      <td>2.15</td>\n",
       "      <td>22.72</td>\n",
       "    </tr>\n",
       "    <tr>\n",
       "      <th>15</th>\n",
       "      <td>Wii Fit Plus</td>\n",
       "      <td>Wii</td>\n",
       "      <td>2009.0</td>\n",
       "      <td>Sports</td>\n",
       "      <td>Nintendo</td>\n",
       "      <td>9.09</td>\n",
       "      <td>8.59</td>\n",
       "      <td>2.53</td>\n",
       "      <td>1.79</td>\n",
       "      <td>22.00</td>\n",
       "    </tr>\n",
       "  </tbody>\n",
       "</table>\n",
       "</div>"
      ],
      "text/plain": [
       "                             Name Platform    Year         Genre Publisher  \\\n",
       "Rank                                                                         \n",
       "1                      Wii Sports      Wii  2006.0        Sports  Nintendo   \n",
       "2               Super Mario Bros.      NES  1985.0      Platform  Nintendo   \n",
       "3                  Mario Kart Wii      Wii  2008.0        Racing  Nintendo   \n",
       "4               Wii Sports Resort      Wii  2009.0        Sports  Nintendo   \n",
       "5        Pokemon Red/Pokemon Blue       GB  1996.0  Role-Playing  Nintendo   \n",
       "6                          Tetris       GB  1989.0        Puzzle  Nintendo   \n",
       "7           New Super Mario Bros.       DS  2006.0      Platform  Nintendo   \n",
       "8                        Wii Play      Wii  2006.0          Misc  Nintendo   \n",
       "9       New Super Mario Bros. Wii      Wii  2009.0      Platform  Nintendo   \n",
       "10                      Duck Hunt      NES  1984.0       Shooter  Nintendo   \n",
       "11                     Nintendogs       DS  2005.0    Simulation  Nintendo   \n",
       "12                  Mario Kart DS       DS  2005.0        Racing  Nintendo   \n",
       "13    Pokemon Gold/Pokemon Silver       GB  1999.0  Role-Playing  Nintendo   \n",
       "14                        Wii Fit      Wii  2007.0        Sports  Nintendo   \n",
       "15                   Wii Fit Plus      Wii  2009.0        Sports  Nintendo   \n",
       "\n",
       "      NA_Sales  EU_Sales  JP_Sales  Other_Sales  Global_Sales  \n",
       "Rank                                                           \n",
       "1        41.49     29.02      3.77         8.46         82.74  \n",
       "2        29.08      3.58      6.81         0.77         40.24  \n",
       "3        15.85     12.88      3.79         3.31         35.82  \n",
       "4        15.75     11.01      3.28         2.96         33.00  \n",
       "5        11.27      8.89     10.22         1.00         31.37  \n",
       "6        23.20      2.26      4.22         0.58         30.26  \n",
       "7        11.38      9.23      6.50         2.90         30.01  \n",
       "8        14.03      9.20      2.93         2.85         29.02  \n",
       "9        14.59      7.06      4.70         2.26         28.62  \n",
       "10       26.93      0.63      0.28         0.47         28.31  \n",
       "11        9.07     11.00      1.93         2.75         24.76  \n",
       "12        9.81      7.57      4.13         1.92         23.42  \n",
       "13        9.00      6.18      7.20         0.71         23.10  \n",
       "14        8.94      8.03      3.60         2.15         22.72  \n",
       "15        9.09      8.59      2.53         1.79         22.00  "
      ]
     },
     "execution_count": 12,
     "metadata": {},
     "output_type": "execute_result"
    }
   ],
   "source": [
    "#==Gabarito ==#\n",
    "vg = pd.read_csv('https://gist.githubusercontent.com/zhonglism/f146a9423e2c975de8d03c26451f841e/raw/f79e190df4225caed58bf360d8e20a9fa872b4ac/vgsales.csv')\n",
    "vg = vg.set_index('Rank')\n",
    "vg.head(15)"
   ]
  },
  {
   "cell_type": "markdown",
   "id": "0ddd858b-9567-4a09-b883-8965989825d9",
   "metadata": {},
   "source": [
    "#### (b)\n",
    "Mude o nome das colunas do dataframe para:\n",
    "\n",
    "* Jogo\n",
    "* Plataforma\n",
    "* Ano\n",
    "* Tipo\n",
    "* Empresa\n",
    "* Vendas_AN\n",
    "* Vendas_EU\n",
    "* Vendas_JP\n",
    "* Vendas_Outros\n",
    "* Vendas_Global"
   ]
  },
  {
   "cell_type": "code",
   "execution_count": 13,
   "id": "ea7dd21a-58f7-45c4-949f-ce1bd516bba9",
   "metadata": {},
   "outputs": [],
   "source": [
    "#==Gabarito==#\n",
    "vg.columns = ['Jogo',\n",
    "              'Plataforma',\n",
    "              'Ano',\n",
    "              'Tipo',\n",
    "              'Empresa',\n",
    "              'Vendas_AN',\n",
    "              'Vendas_EU',\n",
    "              'Vendas_JP',\n",
    "              'Vendas_Outros',\n",
    "              'Vendas_Global']"
   ]
  },
  {
   "cell_type": "markdown",
   "id": "605b751a-f7b4-47d7-860e-2725fd6bf6c9",
   "metadata": {},
   "source": [
    "#### (c)\n",
    "Crie um dataframe chamado `vg2000` contendo apenas os videogueimes lançados do ano 2000 em diante."
   ]
  },
  {
   "cell_type": "code",
   "execution_count": 14,
   "id": "446861e2-ccbe-4143-ba69-db757ed14104",
   "metadata": {},
   "outputs": [],
   "source": [
    "#==Gabarito ==#\n",
    "vg2000 = vg[vg.Ano >= 2000]"
   ]
  },
  {
   "cell_type": "markdown",
   "id": "82a74fa3-0852-4c82-aaaa-6d2264b74120",
   "metadata": {},
   "source": [
    "#### (d)\n",
    "Considerando apenas os videogames lançados do ano 2000 em diante, calcule o total de vendas por empresa em cada região (América do Norte, Europa, Japão, Outros e Global). Salve esse dataframe com o nome `vg2000_empresas`. "
   ]
  },
  {
   "cell_type": "code",
   "execution_count": 15,
   "id": "9873263e-e598-4efb-afe9-519d3bbd34d9",
   "metadata": {},
   "outputs": [],
   "source": [
    "#==Gabarito ==#\n",
    "vg2000_empresas = vg2000.drop(columns='Ano').groupby('Empresa').sum()"
   ]
  },
  {
   "cell_type": "markdown",
   "id": "87b9ac29-533c-4db6-af05-a39512e2dcc0",
   "metadata": {},
   "source": [
    "#### (e)\n",
    "Ordene esse dataframe em ordem decrescente de vendas globais (isso é, a primeira linha deve ter a empresa com o maior valor de vendas globais). Salve esse dataframe com o nome `vg2000_empresas_ord` e mostre a empresa que ocupa o topo do ranking de vendas globais."
   ]
  },
  {
   "cell_type": "code",
   "execution_count": 16,
   "id": "ea13436d-43fa-4601-8723-0d72c17290b0",
   "metadata": {},
   "outputs": [
    {
     "data": {
      "text/html": [
       "<div>\n",
       "<style scoped>\n",
       "    .dataframe tbody tr th:only-of-type {\n",
       "        vertical-align: middle;\n",
       "    }\n",
       "\n",
       "    .dataframe tbody tr th {\n",
       "        vertical-align: top;\n",
       "    }\n",
       "\n",
       "    .dataframe thead th {\n",
       "        text-align: right;\n",
       "    }\n",
       "</style>\n",
       "<table border=\"1\" class=\"dataframe\">\n",
       "  <thead>\n",
       "    <tr style=\"text-align: right;\">\n",
       "      <th></th>\n",
       "      <th>Vendas_AN</th>\n",
       "      <th>Vendas_EU</th>\n",
       "      <th>Vendas_JP</th>\n",
       "      <th>Vendas_Outros</th>\n",
       "      <th>Vendas_Global</th>\n",
       "    </tr>\n",
       "    <tr>\n",
       "      <th>Empresa</th>\n",
       "      <th></th>\n",
       "      <th></th>\n",
       "      <th></th>\n",
       "      <th></th>\n",
       "      <th></th>\n",
       "    </tr>\n",
       "  </thead>\n",
       "  <tbody>\n",
       "    <tr>\n",
       "      <th>Nintendo</th>\n",
       "      <td>495.17</td>\n",
       "      <td>322.69</td>\n",
       "      <td>285.44</td>\n",
       "      <td>81.5</td>\n",
       "      <td>1184.95</td>\n",
       "    </tr>\n",
       "  </tbody>\n",
       "</table>\n",
       "</div>"
      ],
      "text/plain": [
       "          Vendas_AN  Vendas_EU  Vendas_JP  Vendas_Outros  Vendas_Global\n",
       "Empresa                                                                \n",
       "Nintendo     495.17     322.69     285.44           81.5        1184.95"
      ]
     },
     "execution_count": 16,
     "metadata": {},
     "output_type": "execute_result"
    }
   ],
   "source": [
    "#== Gabarito ==#\n",
    "vg2000_empresas_ord = vg2000_empresas.sort_values('Vendas_Global',ascending=False)\n",
    "vg2000_empresas_ord.head(1)"
   ]
  },
  {
   "cell_type": "code",
   "execution_count": 17,
   "id": "cd6a0944-de6e-49bf-8cdd-3db6f5c16d79",
   "metadata": {},
   "outputs": [],
   "source": [
    "#1\n",
    "assert len(list(vg.index)) == 16598"
   ]
  },
  {
   "cell_type": "code",
   "execution_count": 18,
   "id": "045673a5-866d-4c27-a72d-334eb7832d46",
   "metadata": {},
   "outputs": [],
   "source": [
    "#2\n",
    "assert vg.columns[2] == 'Ano'\n",
    "assert vg.columns[4] == 'Empresa'"
   ]
  },
  {
   "cell_type": "code",
   "execution_count": 19,
   "id": "6b6b85b6-b141-4962-9279-12bc990bb8f3",
   "metadata": {},
   "outputs": [],
   "source": [
    "#3\n",
    "assert min(vg2000.Ano) == 2000\n",
    "assert len(vg2000) == 14353"
   ]
  },
  {
   "cell_type": "code",
   "execution_count": 20,
   "id": "5ee556e8-36d0-4226-b1e3-8cdb632f8dc9",
   "metadata": {},
   "outputs": [],
   "source": [
    "#4\n",
    "assert vg2000_empresas.shape == (457,5)\n",
    "assert list(vg2000_empresas.columns) == ['Vendas_AN', 'Vendas_EU', 'Vendas_JP', 'Vendas_Outros','Vendas_Global']"
   ]
  },
  {
   "cell_type": "code",
   "execution_count": 21,
   "id": "dc41c80f-c35f-45e7-9f53-c1c6048cb42e",
   "metadata": {},
   "outputs": [],
   "source": [
    "#5\n",
    "assert vg2000_empresas_ord.tail(1).index[0] == 'Rain Games'\n",
    "assert vg2000_empresas_ord.tail().index[0] == 'Stainless Games'\n",
    "assert np.isclose(vg2000_empresas_ord.Vendas_AN[4], 190.23)"
   ]
  }
 ],
 "metadata": {
  "kernelspec": {
   "display_name": "Python 3 (ipykernel)",
   "language": "python",
   "name": "python3"
  },
  "language_info": {
   "codemirror_mode": {
    "name": "ipython",
    "version": 3
   },
   "file_extension": ".py",
   "mimetype": "text/x-python",
   "name": "python",
   "nbconvert_exporter": "python",
   "pygments_lexer": "ipython3",
   "version": "3.9.12"
  }
 },
 "nbformat": 4,
 "nbformat_minor": 5
}
